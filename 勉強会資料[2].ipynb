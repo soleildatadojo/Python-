{
 "cells": [
  {
   "cell_type": "markdown",
   "metadata": {},
   "source": [
    "# Python勉強会[2]<a id='top'></a>"
   ]
  },
  {
   "cell_type": "markdown",
   "metadata": {},
   "source": [
    "### 目次\n",
    "1. [Numpy辞典](#sec1)  \n",
    "    0. [その0 Numpyとは？？](#sec1_0)\n",
    "    1. [その1 1次元行列を作ってみよう！](#sec1_1)  \n",
    "    2. [その2 2次元行列を作ってみよう！](#sec1_2)  \n",
    "    3. [その3 numpyをもっと使ってみよう！](#sec1_3)  \n",
    "    4. [その4 Numpyで検定統計量を求めてみよう！](#sec1_4)    \n",
    "2. [統計学のお勉強](#sec2)\n",
    "3. [記述統計](#sec3)\n",
    "4. [確率分布](#sec4)"
   ]
  },
  {
   "cell_type": "code",
   "execution_count": 2,
   "metadata": {},
   "outputs": [],
   "source": [
    "#numpyをインポート\n",
    "import numpy as np"
   ]
  },
  {
   "cell_type": "markdown",
   "metadata": {},
   "source": [
    "エラーが出た場合は、anaconda promptで\"conda install numpy\"と入力してからもう一度実行してみてください！"
   ]
  },
  {
   "cell_type": "markdown",
   "metadata": {},
   "source": [
    "## 1. Numpy辞典<a id='sec1'></a>"
   ]
  },
  {
   "cell_type": "markdown",
   "metadata": {},
   "source": [
    "**その0 Numpyとは？？**  <a id='sec1_0'></a>  \n",
    "[先頭に戻る](#top)  "
   ]
  },
  {
   "cell_type": "markdown",
   "metadata": {},
   "source": [
    "Numpy(ナンパイ)とは、計算に特化したライブラリです。Pythonは計算が遅いという弱点を持っているのですが、それを補う計算力を提供してくれるのがこのNumpyです。特に行列計算など、線形代数学の領域に力を発揮します。さらに、平均や分散を簡単に求めれるメソッドを持っているので、これを使いこなすことで数値計算を効率的に実行することができるようになります。では早速使ってみましょう！！まずは基礎の、行列計算に関して軽く触れて、本来の目的であると統計値の算出を目指します。"
   ]
  },
  {
   "cell_type": "markdown",
   "metadata": {},
   "source": [
    "**その１ １次元行列を作ってみよう！**  <a id='sec1_1'></a>  \n",
    "[先頭に戻る](#top)  "
   ]
  },
  {
   "cell_type": "markdown",
   "metadata": {},
   "source": [
    "numpyを使って行列を扱ってみよう。"
   ]
  },
  {
   "cell_type": "code",
   "execution_count": 37,
   "metadata": {},
   "outputs": [
    {
     "data": {
      "text/plain": [
       "array([1, 2, 3, 4, 5])"
      ]
     },
     "execution_count": 37,
     "metadata": {},
     "output_type": "execute_result"
    }
   ],
   "source": [
    "arr = np.array([1,2,3,4,5])\n",
    "arr"
   ]
  },
  {
   "cell_type": "code",
   "execution_count": 38,
   "metadata": {},
   "outputs": [
    {
     "data": {
      "text/plain": [
       "numpy.ndarray"
      ]
     },
     "execution_count": 38,
     "metadata": {},
     "output_type": "execute_result"
    }
   ],
   "source": [
    "type(arr)"
   ]
  },
  {
   "cell_type": "markdown",
   "metadata": {},
   "source": [
    "ここで出てきた\"ndarray\"はN-dimensional arrayの略です。つまり、N次元配列を表します。 "
   ]
  },
  {
   "cell_type": "code",
   "execution_count": 39,
   "metadata": {},
   "outputs": [
    {
     "data": {
      "text/plain": [
       "array([3, 4])"
      ]
     },
     "execution_count": 39,
     "metadata": {},
     "output_type": "execute_result"
    }
   ],
   "source": [
    "#要素一つ\n",
    "arr[1]\n",
    "#スライス\n",
    "arr[2:4]"
   ]
  },
  {
   "cell_type": "markdown",
   "metadata": {},
   "source": [
    "余談：arrayは抽出してリストに収納することができる。"
   ]
  },
  {
   "cell_type": "code",
   "execution_count": 22,
   "metadata": {},
   "outputs": [
    {
     "name": "stdout",
     "output_type": "stream",
     "text": [
      "[3, 4]\n"
     ]
    },
    {
     "data": {
      "text/plain": [
       "list"
      ]
     },
     "execution_count": 22,
     "metadata": {},
     "output_type": "execute_result"
    }
   ],
   "source": [
    "arr_l = arr[2:4]\n",
    "a_list = arr_l.tolist()\n",
    "print(a_list)\n",
    "type(a_list)"
   ]
  },
  {
   "cell_type": "markdown",
   "metadata": {},
   "source": [
    "**その2 2次元行列を作ってみよう！**  <a id='sec1_2'></a>  \n",
    "[先頭に戻る](#top)  "
   ]
  },
  {
   "cell_type": "markdown",
   "metadata": {},
   "source": [
    "行列を作成する。"
   ]
  },
  {
   "cell_type": "code",
   "execution_count": 24,
   "metadata": {},
   "outputs": [
    {
     "data": {
      "text/plain": [
       "array([[1, 2],\n",
       "       [3, 4],\n",
       "       [5, 6]])"
      ]
     },
     "execution_count": 24,
     "metadata": {},
     "output_type": "execute_result"
    }
   ],
   "source": [
    "mat = np.array([[1,2],[3,4],[5,6]])\n",
    "mat"
   ]
  },
  {
   "cell_type": "code",
   "execution_count": 25,
   "metadata": {},
   "outputs": [
    {
     "data": {
      "text/plain": [
       "(3, 2)"
      ]
     },
     "execution_count": 25,
     "metadata": {},
     "output_type": "execute_result"
    }
   ],
   "source": [
    "mat.shape"
   ]
  },
  {
   "cell_type": "code",
   "execution_count": 26,
   "metadata": {},
   "outputs": [
    {
     "data": {
      "text/plain": [
       "2"
      ]
     },
     "execution_count": 26,
     "metadata": {},
     "output_type": "execute_result"
    }
   ],
   "source": [
    "mat[0,1]"
   ]
  },
  {
   "cell_type": "code",
   "execution_count": 27,
   "metadata": {},
   "outputs": [
    {
     "data": {
      "text/plain": [
       "array([2, 4, 6])"
      ]
     },
     "execution_count": 27,
     "metadata": {},
     "output_type": "execute_result"
    }
   ],
   "source": [
    "#:を使うとすべての要素を抽出できる。\n",
    "mat[:,1]"
   ]
  },
  {
   "cell_type": "code",
   "execution_count": 28,
   "metadata": {},
   "outputs": [
    {
     "data": {
      "text/plain": [
       "numpy.ndarray"
      ]
     },
     "execution_count": 28,
     "metadata": {},
     "output_type": "execute_result"
    }
   ],
   "source": [
    "type(mat)"
   ]
  },
  {
   "cell_type": "markdown",
   "metadata": {},
   "source": [
    "**その3 Numpyで計算をしてみよう！**  <a id='sec1_3'></a>  \n",
    "[先頭に戻る](#top)  "
   ]
  },
  {
   "cell_type": "markdown",
   "metadata": {},
   "source": [
    "ようやく基礎が終わりました。ここからは計算です！平方根の計算から順にみていくことにしましょう。"
   ]
  },
  {
   "cell_type": "markdown",
   "metadata": {},
   "source": [
    "**平方根 $\\sqrt{x}$**"
   ]
  },
  {
   "cell_type": "code",
   "execution_count": 4,
   "metadata": {},
   "outputs": [
    {
     "data": {
      "text/plain": [
       "2.0"
      ]
     },
     "execution_count": 4,
     "metadata": {},
     "output_type": "execute_result"
    }
   ],
   "source": [
    "np.sqrt(4)"
   ]
  },
  {
   "cell_type": "markdown",
   "metadata": {},
   "source": [
    "**eを底とする指数関数 $e^x$, $\\exp(x)$**"
   ]
  },
  {
   "cell_type": "code",
   "execution_count": 7,
   "metadata": {},
   "outputs": [
    {
     "data": {
      "text/plain": [
       "2.718281828459045"
      ]
     },
     "execution_count": 7,
     "metadata": {},
     "output_type": "execute_result"
    }
   ],
   "source": [
    "np.exp(1)"
   ]
  },
  {
   "cell_type": "markdown",
   "metadata": {},
   "source": [
    "**自然対数(底をeとする対数) ($\\log_ex, \\ln x$)**"
   ]
  },
  {
   "cell_type": "code",
   "execution_count": 14,
   "metadata": {},
   "outputs": [
    {
     "data": {
      "text/plain": [
       "1.0"
      ]
     },
     "execution_count": 14,
     "metadata": {},
     "output_type": "execute_result"
    }
   ],
   "source": [
    "np.log(2.718281828459045)"
   ]
  },
  {
   "cell_type": "markdown",
   "metadata": {},
   "source": [
    "**常用対数(底を10とする対数)**($\\log_{10}x$)"
   ]
  },
  {
   "cell_type": "code",
   "execution_count": 15,
   "metadata": {},
   "outputs": [
    {
     "data": {
      "text/plain": [
       "1.0"
      ]
     },
     "execution_count": 15,
     "metadata": {},
     "output_type": "execute_result"
    }
   ],
   "source": [
    "np.log10(10)"
   ]
  },
  {
   "cell_type": "markdown",
   "metadata": {},
   "source": [
    "対数の定義：指数と対数の関係  \n",
    "$a^p = M \\Leftrightarrow p = \\log_aM$"
   ]
  },
  {
   "cell_type": "markdown",
   "metadata": {},
   "source": [
    "・ネイピア数(自然対数の底)の定義  \n",
    "$e = \\displaystyle \\lim_{x \\to \\infty}(1 + \\frac{1}{n})^n$  \n",
    "あるいは  \n",
    "$e = \\displaystyle \\lim_{h \\to 0}(1+h)^\\frac{1}{h}$  "
   ]
  },
  {
   "cell_type": "markdown",
   "metadata": {},
   "source": [
    "・ネイピア数の性質  \n",
    "指数関数$y = e^x$は微分しても、積分しても、$y = e^x$のままである。"
   ]
  },
  {
   "cell_type": "markdown",
   "metadata": {},
   "source": [
    "コラム１　日常に潜む対数  \n",
    "ベンフォードの法則：世の中に出現する数値の最高位には、1が最も多くあらわれ、1から9になるにつれて出現確率が減少するという法則。  \n",
    "この法則によると、最高位がkとなるおおよその確率は、常用対数を用いて、\n",
    "$\\log_{10}(1 + \\frac{1}{k}) $となることが知られています。  \n",
    "この法則は会社の帳簿の不正監査に用いられることもあります。"
   ]
  },
  {
   "cell_type": "markdown",
   "metadata": {},
   "source": [
    "**その4 Numpyで統計量を求めてみよう！**  <a id='sec1_4'></a>  \n",
    "[先頭に戻る](#top)  "
   ]
  },
  {
   "cell_type": "markdown",
   "metadata": {},
   "source": [
    "そもそも統計量とは  \n",
    "・一般に母集団の特性を表す特性値、代表値を推定するために標本から作られるものを**統計量**とよびます。(大屋,2003)  \n",
    "・標本の性質を代表して表わす数値を**統計量(statistic)と呼ぶ。(岩田,1983)"
   ]
  },
  {
   "cell_type": "markdown",
   "metadata": {},
   "source": [
    "**標本平均** $(\\overline{x} = \\Sigma_{i=1}^{n}x_i)$"
   ]
  },
  {
   "cell_type": "markdown",
   "metadata": {},
   "source": [
    "#xはリストかarray\n",
    "np.mean(x)"
   ]
  },
  {
   "cell_type": "code",
   "execution_count": 3,
   "metadata": {},
   "outputs": [
    {
     "data": {
      "text/plain": [
       "3.0"
      ]
     },
     "execution_count": 3,
     "metadata": {},
     "output_type": "execute_result"
    }
   ],
   "source": [
    "x = [1,2,3,4,5]\n",
    "np.mean(x)"
   ]
  },
  {
   "cell_type": "markdown",
   "metadata": {},
   "source": [
    "**標本中央値**"
   ]
  },
  {
   "cell_type": "raw",
   "metadata": {},
   "source": [
    "#xはリストかarray\n",
    "np.median(x)"
   ]
  },
  {
   "cell_type": "code",
   "execution_count": 4,
   "metadata": {},
   "outputs": [
    {
     "data": {
      "text/plain": [
       "3.0"
      ]
     },
     "execution_count": 4,
     "metadata": {},
     "output_type": "execute_result"
    }
   ],
   "source": [
    "np.median(x)"
   ]
  },
  {
   "cell_type": "markdown",
   "metadata": {},
   "source": [
    "**標本分散**($S_x^2 = {\\displaystyle \\frac{1}{n-1}\\Sigma_{i=1}^{n}}(x_i-\\overline{x})^2$)"
   ]
  },
  {
   "cell_type": "raw",
   "metadata": {},
   "source": [
    "#xはリストかarray\n",
    "np.var(x,ddof=1)"
   ]
  },
  {
   "cell_type": "code",
   "execution_count": 9,
   "metadata": {},
   "outputs": [
    {
     "data": {
      "text/plain": [
       "2.5"
      ]
     },
     "execution_count": 9,
     "metadata": {},
     "output_type": "execute_result"
    }
   ],
   "source": [
    "np.var(x,ddof=1)"
   ]
  },
  {
   "cell_type": "markdown",
   "metadata": {},
   "source": [
    "ちなみに...ddof=Delta Degrees of Freedom"
   ]
  },
  {
   "cell_type": "markdown",
   "metadata": {},
   "source": [
    "$S^2 = {\\displaystyle \\frac{1}{n-ddof}\\Sigma_{i=1}^{n}}(x_i-\\overline{x})^2$  \n",
    "pythonは上記のように計算しているので、ddof=1と設定することで不偏分散が得られる。"
   ]
  },
  {
   "cell_type": "markdown",
   "metadata": {},
   "source": [
    "**標本標準偏差**$(S_x=\\sqrt{{\\displaystyle \\frac{1}{n-1}\\Sigma_{i=1}^{n}}(x_i-\\overline{x})^2})$"
   ]
  },
  {
   "cell_type": "raw",
   "metadata": {},
   "source": [
    "#xはリストかarray\n",
    "np.std(x,ddof=1)"
   ]
  },
  {
   "cell_type": "code",
   "execution_count": 17,
   "metadata": {},
   "outputs": [
    {
     "data": {
      "text/plain": [
       "1.5811388300841898"
      ]
     },
     "execution_count": 17,
     "metadata": {},
     "output_type": "execute_result"
    }
   ],
   "source": [
    "np.std(x,ddof=1)"
   ]
  },
  {
   "cell_type": "markdown",
   "metadata": {},
   "source": [
    "**標本共分散**($Cov_{xy}={\\displaystyle \\frac{1}{n-1}\\Sigma_{i=1}^{n}}(x_i-\\overline{x})(y_i-\\overline{y}$))"
   ]
  },
  {
   "cell_type": "raw",
   "metadata": {},
   "source": [
    "#二次以上のリストかarray\n",
    "np.cov(xy)"
   ]
  },
  {
   "cell_type": "code",
   "execution_count": 3,
   "metadata": {},
   "outputs": [
    {
     "data": {
      "text/plain": [
       "array([[2.5, 3. ],\n",
       "       [3. , 7.7]])"
      ]
     },
     "execution_count": 3,
     "metadata": {},
     "output_type": "execute_result"
    }
   ],
   "source": [
    "xy=[[1,2,3,4,5],[2,7,8,5,9]]\n",
    "np.cov(xy,ddof=1)"
   ]
  },
  {
   "cell_type": "markdown",
   "metadata": {},
   "source": [
    "**標本相関係数**$(r_{xy} =\\displaystyle \\frac{Cov_{xy}}{S_x \\cdot S_y})$"
   ]
  },
  {
   "cell_type": "raw",
   "metadata": {},
   "source": [
    "#二次以上のリストかarray\n",
    "np.cov(xy)\n",
    "#相関行列が出力される。"
   ]
  },
  {
   "cell_type": "code",
   "execution_count": 12,
   "metadata": {},
   "outputs": [
    {
     "data": {
      "text/plain": [
       "array([[1.        , 0.68376346],\n",
       "       [0.68376346, 1.        ]])"
      ]
     },
     "execution_count": 12,
     "metadata": {},
     "output_type": "execute_result"
    }
   ],
   "source": [
    "np.corrcoef(xy)"
   ]
  },
  {
   "cell_type": "markdown",
   "metadata": {},
   "source": [
    "## 統計学のお勉強<a id='sec2'></a>  \n",
    "[先頭に戻る](#top)  "
   ]
  },
  {
   "cell_type": "markdown",
   "metadata": {},
   "source": [
    "ちょっと進んだ統計学の話"
   ]
  },
  {
   "cell_type": "markdown",
   "metadata": {},
   "source": [
    "**・期待値の定義**  \n",
    "離散確率変数$X$が、$P_i$の確率で$X=x_i$となるとすると、その時の期待値は  \n",
    "$E[X]=\\sum_{i=1}^{n}P_ix_i$  \n",
    "と定義される。  [^\n",
    "連続確率変数$X$の確率密度関数を$f(x)$とするとき、期待値は  \n",
    "$\\int_{-\\infty}^{\\infty}xf(x)dx$  \n",
    "と定義される。"
   ]
  },
  {
   "cell_type": "markdown",
   "metadata": {},
   "source": [
    "**・期待値の加法性**  \n",
    "$E(X+Y)=E(X)+E(Y)$"
   ]
  },
  {
   "cell_type": "markdown",
   "metadata": {},
   "source": [
    "標本を$X_i(i=1,2,\\cdots,n)=(X_1,X_2,\\cdots,X_n)$  \n",
    "標本平均を$\\overline{X}$  \n",
    "母平均を$\\mu$"
   ]
  },
  {
   "cell_type": "markdown",
   "metadata": {},
   "source": [
    "標本確率変数の期待値と分散  \n",
    "$E(X_i) = E(X)=\\mu$  \n",
    "$V(X_i)=V(X)=\\sigma^2$"
   ]
  },
  {
   "cell_type": "markdown",
   "metadata": {},
   "source": [
    "期待値の加法性より  \n",
    "$E(X_i+X_2+\\cdots+X_n)=E(X_i+X_2+\\cdots+X_n)$"
   ]
  },
  {
   "cell_type": "markdown",
   "metadata": {},
   "source": [
    "$X_i,X_2,...X_n$が同一の確率分布に従うとし、これらの期待値を$\\mu$とすれば、  \n",
    "$E(X_i)=E(X_2)=...=E(X_n)$"
   ]
  },
  {
   "cell_type": "markdown",
   "metadata": {},
   "source": [
    "**標本平均**"
   ]
  },
  {
   "cell_type": "markdown",
   "metadata": {},
   "source": [
    "$\\mu = \\dfrac{1}{N}\\displaystyle\\sum_{i=1}^Nx_i$"
   ]
  },
  {
   "cell_type": "markdown",
   "metadata": {},
   "source": [
    "**標本平均の平均**$E[\\overline{X}]=\\mu$"
   ]
  },
  {
   "cell_type": "markdown",
   "metadata": {},
   "source": [
    "$E[\\overline{X}] = E \\left[\\dfrac{1}{n}\\displaystyle\\sum_{i=1}^nX_i\\right]=\\dfrac{1}{n}\\displaystyle\\sum_{i=1}^{n}E[X_i] = \\mu$  "
   ]
  },
  {
   "cell_type": "markdown",
   "metadata": {},
   "source": [
    "(証明)  \n",
    "離散確率変数$X$と$Y$のとりうる値が  \n",
    "$x_i,y_j(i=1,\\cdots,i=m,j=1,\\cdots,i=n)$で、  \n",
    "同時確率関数を$p_{X,Y}(x_i,y_j)$,周辺確率関数は$p_x(x_i),p_Y(y_j)$  \n",
    "とする。  \n",
    "$E[X+Y]$  \n",
    "$=\\sum_{i=1}^{m}\\sum_{j=1}^{n}(x_i+y_j)p_{x,y}(x_i,y_j)$  \n",
    "$=\\sum_{i=1}^{m}\\sum_{j=1}^{n}x_ip_{x,y}(x_i,y_j)+\\sum_{i=1}^{m}\\sum_{j=1}^{n}y_jp_{x,y}(x_i,y_j)$  \n",
    "$=\\sum_{i=1}^{m}x_i\\sum_{j=1}^{n}p_{x,y}(x_i,y_j)+\\sum_{i=1}^{m}y_j\\sum_{j=1}^{n}p_{x,y}(x_i,y_j)$  \n",
    "$=\\sum_{i=1}^{m}p_x(x_i)+\\sum_{i=1}^{m}y_jp_y(y_j)$  \n",
    "$=E[X]+E[Y]$  \n",
    "(証明終)"
   ]
  },
  {
   "cell_type": "markdown",
   "metadata": {},
   "source": [
    "## 記述統計<a id='sec3'></a>  \n",
    "[先頭に戻る](#top)  "
   ]
  },
  {
   "cell_type": "code",
   "execution_count": 13,
   "metadata": {},
   "outputs": [],
   "source": [
    "import numpy as np\n",
    "import pandas as pd\n",
    "import scipy as sp\n",
    "import matplotlib.pyplot as plt\n",
    "import matplotlib as mpl\n",
    "import seaborn as sns\n",
    "%matplotlib inline\n",
    "np.random.seed(0)"
   ]
  },
  {
   "cell_type": "markdown",
   "metadata": {},
   "source": [
    "資料サイト(https://statistics.co.jp/reference/statistical_data/statistical_data.htm)"
   ]
  },
  {
   "cell_type": "markdown",
   "metadata": {},
   "source": [
    "これまで、  \n",
    "1. pandasを用いたデータの加工方法  \n",
    "2. for文など、pythonの基礎文法  \n",
    "3. numpyを用いた計算  \n",
    "を勉強しました。次は、これまでのことを踏まえ、記述統計に移っていきます！"
   ]
  },
  {
   "cell_type": "code",
   "execution_count": 1,
   "metadata": {},
   "outputs": [
    {
     "data": {
      "text/html": [
       "<div>\n",
       "<style scoped>\n",
       "    .dataframe tbody tr th:only-of-type {\n",
       "        vertical-align: middle;\n",
       "    }\n",
       "\n",
       "    .dataframe tbody tr th {\n",
       "        vertical-align: top;\n",
       "    }\n",
       "\n",
       "    .dataframe thead th {\n",
       "        text-align: right;\n",
       "    }\n",
       "</style>\n",
       "<table border=\"1\" class=\"dataframe\">\n",
       "  <thead>\n",
       "    <tr style=\"text-align: right;\">\n",
       "      <th></th>\n",
       "      <th>kokugo</th>\n",
       "      <th>shakai</th>\n",
       "      <th>sugaku</th>\n",
       "      <th>rika</th>\n",
       "      <th>ongaku</th>\n",
       "      <th>bijutu</th>\n",
       "      <th>taiiku</th>\n",
       "      <th>gika</th>\n",
       "      <th>eigo</th>\n",
       "    </tr>\n",
       "  </thead>\n",
       "  <tbody>\n",
       "    <tr>\n",
       "      <th>0</th>\n",
       "      <td>30</td>\n",
       "      <td>43</td>\n",
       "      <td>51</td>\n",
       "      <td>63</td>\n",
       "      <td>60</td>\n",
       "      <td>66</td>\n",
       "      <td>37</td>\n",
       "      <td>44</td>\n",
       "      <td>20</td>\n",
       "    </tr>\n",
       "    <tr>\n",
       "      <th>1</th>\n",
       "      <td>39</td>\n",
       "      <td>21</td>\n",
       "      <td>49</td>\n",
       "      <td>56</td>\n",
       "      <td>70</td>\n",
       "      <td>72</td>\n",
       "      <td>56</td>\n",
       "      <td>63</td>\n",
       "      <td>16</td>\n",
       "    </tr>\n",
       "    <tr>\n",
       "      <th>2</th>\n",
       "      <td>29</td>\n",
       "      <td>30</td>\n",
       "      <td>23</td>\n",
       "      <td>57</td>\n",
       "      <td>69</td>\n",
       "      <td>76</td>\n",
       "      <td>33</td>\n",
       "      <td>54</td>\n",
       "      <td>6</td>\n",
       "    </tr>\n",
       "    <tr>\n",
       "      <th>3</th>\n",
       "      <td>95</td>\n",
       "      <td>87</td>\n",
       "      <td>77</td>\n",
       "      <td>100</td>\n",
       "      <td>77</td>\n",
       "      <td>82</td>\n",
       "      <td>78</td>\n",
       "      <td>96</td>\n",
       "      <td>87</td>\n",
       "    </tr>\n",
       "    <tr>\n",
       "      <th>4</th>\n",
       "      <td>70</td>\n",
       "      <td>71</td>\n",
       "      <td>78</td>\n",
       "      <td>67</td>\n",
       "      <td>72</td>\n",
       "      <td>82</td>\n",
       "      <td>46</td>\n",
       "      <td>63</td>\n",
       "      <td>44</td>\n",
       "    </tr>\n",
       "  </tbody>\n",
       "</table>\n",
       "</div>"
      ],
      "text/plain": [
       "   kokugo  shakai  sugaku  rika  ongaku  bijutu  taiiku  gika  eigo\n",
       "0      30      43      51    63      60      66      37    44    20\n",
       "1      39      21      49    56      70      72      56    63    16\n",
       "2      29      30      23    57      69      76      33    54     6\n",
       "3      95      87      77   100      77      82      78    96    87\n",
       "4      70      71      78    67      72      82      46    63    44"
      ]
     },
     "execution_count": 1,
     "metadata": {},
     "output_type": "execute_result"
    }
   ],
   "source": [
    "import pandas as pd\n",
    "df = pd.read_csv(\"seiseki.csv\")\n",
    "df.head()"
   ]
  },
  {
   "cell_type": "markdown",
   "metadata": {},
   "source": [
    "復習1:kokugo,sugaku,eigoを漢字に変換して、データフレームとして取り出してみましょう！"
   ]
  },
  {
   "cell_type": "code",
   "execution_count": 3,
   "metadata": {},
   "outputs": [
    {
     "data": {
      "text/html": [
       "<div>\n",
       "<style scoped>\n",
       "    .dataframe tbody tr th:only-of-type {\n",
       "        vertical-align: middle;\n",
       "    }\n",
       "\n",
       "    .dataframe tbody tr th {\n",
       "        vertical-align: top;\n",
       "    }\n",
       "\n",
       "    .dataframe thead th {\n",
       "        text-align: right;\n",
       "    }\n",
       "</style>\n",
       "<table border=\"1\" class=\"dataframe\">\n",
       "  <thead>\n",
       "    <tr style=\"text-align: right;\">\n",
       "      <th></th>\n",
       "      <th>国語</th>\n",
       "      <th>数学</th>\n",
       "      <th>英語</th>\n",
       "    </tr>\n",
       "  </thead>\n",
       "  <tbody>\n",
       "    <tr>\n",
       "      <th>0</th>\n",
       "      <td>30</td>\n",
       "      <td>51</td>\n",
       "      <td>20</td>\n",
       "    </tr>\n",
       "    <tr>\n",
       "      <th>1</th>\n",
       "      <td>39</td>\n",
       "      <td>49</td>\n",
       "      <td>16</td>\n",
       "    </tr>\n",
       "    <tr>\n",
       "      <th>2</th>\n",
       "      <td>29</td>\n",
       "      <td>23</td>\n",
       "      <td>6</td>\n",
       "    </tr>\n",
       "    <tr>\n",
       "      <th>3</th>\n",
       "      <td>95</td>\n",
       "      <td>77</td>\n",
       "      <td>87</td>\n",
       "    </tr>\n",
       "    <tr>\n",
       "      <th>4</th>\n",
       "      <td>70</td>\n",
       "      <td>78</td>\n",
       "      <td>44</td>\n",
       "    </tr>\n",
       "    <tr>\n",
       "      <th>...</th>\n",
       "      <td>...</td>\n",
       "      <td>...</td>\n",
       "      <td>...</td>\n",
       "    </tr>\n",
       "    <tr>\n",
       "      <th>161</th>\n",
       "      <td>82</td>\n",
       "      <td>80</td>\n",
       "      <td>90</td>\n",
       "    </tr>\n",
       "    <tr>\n",
       "      <th>162</th>\n",
       "      <td>0</td>\n",
       "      <td>2</td>\n",
       "      <td>1</td>\n",
       "    </tr>\n",
       "    <tr>\n",
       "      <th>163</th>\n",
       "      <td>45</td>\n",
       "      <td>29</td>\n",
       "      <td>27</td>\n",
       "    </tr>\n",
       "    <tr>\n",
       "      <th>164</th>\n",
       "      <td>73</td>\n",
       "      <td>43</td>\n",
       "      <td>56</td>\n",
       "    </tr>\n",
       "    <tr>\n",
       "      <th>165</th>\n",
       "      <td>60</td>\n",
       "      <td>89</td>\n",
       "      <td>85</td>\n",
       "    </tr>\n",
       "  </tbody>\n",
       "</table>\n",
       "<p>166 rows × 3 columns</p>\n",
       "</div>"
      ],
      "text/plain": [
       "     国語  数学  英語\n",
       "0    30  51  20\n",
       "1    39  49  16\n",
       "2    29  23   6\n",
       "3    95  77  87\n",
       "4    70  78  44\n",
       "..   ..  ..  ..\n",
       "161  82  80  90\n",
       "162   0   2   1\n",
       "163  45  29  27\n",
       "164  73  43  56\n",
       "165  60  89  85\n",
       "\n",
       "[166 rows x 3 columns]"
      ]
     },
     "execution_count": 3,
     "metadata": {},
     "output_type": "execute_result"
    }
   ],
   "source": [
    "df = df.rename(columns = {\"kokugo\":\"国語\",\"sugaku\":\"数学\",\"eigo\":\"英語\"})\n",
    "df[[\"国語\",\"数学\",\"英語\"]]"
   ]
  },
  {
   "cell_type": "markdown",
   "metadata": {},
   "source": [
    "復習２：国語の標本平均値、標本中央値、標本分散を求めてみましょう！"
   ]
  },
  {
   "cell_type": "markdown",
   "metadata": {},
   "source": [
    "復習３：続いて国語と英語の共分散、相関係数を求めてみましょう！！"
   ]
  },
  {
   "cell_type": "markdown",
   "metadata": {},
   "source": [
    "## 確率分布<a id='sec4'></a>  \n",
    "[先頭に戻る](#top)  "
   ]
  },
  {
   "cell_type": "markdown",
   "metadata": {},
   "source": [
    "確率分布には、**離散確率分布**と**連続確率分布**の二種類があります。  \n",
    "**離散確率変数**とは、コインを投げて表が出るか裏が出るかといったように、とびとびの値を取る確率変数のことです。他の例として、さいころを振った時に１の目が出る回数などが挙げられます。  \n",
    "それに対して、  \n",
    "**連続確率変数**とは、体重のように、連続した値を取る確率変数のことです。他の例として、株価などが挙げられます。"
   ]
  },
  {
   "cell_type": "markdown",
   "metadata": {},
   "source": [
    "代表的な確率分布  \n",
    "確率変数の動きを、分布として表現したものを、確率分布と言います。ここでは、代表的な確率分布を紹介します。  \n",
    "離散確率分布：二項分布,ポワソン分布,  \n",
    "連続確率分布：正規分布,t分布"
   ]
  },
  {
   "cell_type": "markdown",
   "metadata": {},
   "source": [
    "次に、代表的な離散確率分布の一つである、二項分布を説明します。"
   ]
  },
  {
   "cell_type": "markdown",
   "metadata": {},
   "source": [
    "**二項分布**$f(x)={}_nC_xp^xq^{n-x}$"
   ]
  },
  {
   "cell_type": "markdown",
   "metadata": {},
   "source": [
    "${}_nC_x=\\displaystyle \\frac{n!}{x!(n-x)!}$"
   ]
  },
  {
   "cell_type": "markdown",
   "metadata": {},
   "source": [
    "事象$E$の確率を$p$とし、ベルヌーイ試行を独立に$n$回行う時、そのうち$x$回に事象$E$が生ずる確率を$f(x)$で表せば、  \n",
    "$f(x)={}_nC_xp^xq^{n-x}$  \n",
    "である。$f(x)$を二項分布と呼ぶ。ただし、$q=1-p$である。(岩田,1983)"
   ]
  },
  {
   "cell_type": "raw",
   "metadata": {},
   "source": [
    "#pythonで二項分布を実装\n",
    "np.random.binomial(n,p,size=None)\n",
    ">>>n回の試行のうち、確率pで生じる事象が発生する回数を表示する。"
   ]
  },
  {
   "cell_type": "markdown",
   "metadata": {},
   "source": [
    "実際の計算を通して二項分布を理解していきましょう！"
   ]
  },
  {
   "cell_type": "markdown",
   "metadata": {},
   "source": [
    "例えば、野球の試合で、阪神タイガースの勝率$p$が60％、巨人の勝率$q$が40%とすると、$p=0.6,q=0.4$です。この状況で10試合戦ったとすると、阪神が巨人に勝ち越せるのか調べてみます。"
   ]
  },
  {
   "cell_type": "code",
   "execution_count": 24,
   "metadata": {},
   "outputs": [
    {
     "name": "stdout",
     "output_type": "stream",
     "text": [
      "6\n"
     ]
    },
    {
     "data": {
      "image/png": "[encoded data removed]",
      "text/plain": [
       "<Figure size 432x288 with 1 Axes>"
      ]
     },
     "metadata": {
      "needs_background": "light"
     },
     "output_type": "display_data"
    }
   ],
   "source": [
    "np.random.seed(0)\n",
    "han = np.random.binomial(10,0.6)\n",
    "print(han)\n",
    "plt.hist(han)\n",
    "plt.grid(True)\n",
    "pass"
   ]
  },
  {
   "cell_type": "markdown",
   "metadata": {},
   "source": [
    "どうやら、勝ち越したようですね。では、同じ状況で阪神と巨人の10試合を100回試行したとすると、どのような分布になるか、試してみます！！"
   ]
  },
  {
   "cell_type": "code",
   "execution_count": 33,
   "metadata": {},
   "outputs": [
    {
     "name": "stdout",
     "output_type": "stream",
     "text": [
      "[ 6  5  6  6  6  5  6  4  3  6  5  6  6  4  8  8  9  5  5  4  3  5  6  5\n",
      "  8  5  8  4  6  6  7  5  6  6  9  6  6  6  4  5  7  6  5  8  5  5  7  8\n",
      "  7  7  6  6  2  8  7  8  5  7  6  7  8  8  5  8  7  7  5  8  4  8  3  6\n",
      "  3  6  5  9  7  8  7  8  7  6  8  5  6  7  6  8  6  4  7  5  8  5  7  7\n",
      "  6  9  5 10]\n"
     ]
    }
   ],
   "source": [
    "np.random.seed(0)\n",
    "han = np.random.binomial(10,0.6,100)\n",
    "print(han)"
   ]
  },
  {
   "cell_type": "markdown",
   "metadata": {},
   "source": [
    "どうやら６以上の数が多い気がしますが、どうも特徴が掴めません。  \n",
    "そこで、グラフにしてみます。"
   ]
  },
  {
   "cell_type": "code",
   "execution_count": 35,
   "metadata": {},
   "outputs": [
    {
     "data": {
      "image/png": "[encoded data removed]",
      "text/plain": [
       "<Figure size 432x288 with 1 Axes>"
      ]
     },
     "metadata": {
      "needs_background": "light"
     },
     "output_type": "display_data"
    }
   ],
   "source": [
    "plt.hist(han,range=(0,11))\n",
    "plt.grid(True)\n",
    "plt.xlabel(\"Values\")\n",
    "plt.ylabel(\"Frequency\")\n",
    "plt.title(\"How many times HANSHIN win?\")\n",
    "plt.show()\n",
    "pass"
   ]
  },
  {
   "cell_type": "markdown",
   "metadata": {},
   "source": [
    "このグラフを見たところ、どうやら勝ち越している回数のほうが多そうですね、では、どれくらいの確率で、阪神が勝ち越すことができるのでしょうか。実際に計算して求めてみましょう。"
   ]
  },
  {
   "cell_type": "code",
   "execution_count": 47,
   "metadata": {},
   "outputs": [
    {
     "data": {
      "text/plain": [
       "120"
      ]
     },
     "execution_count": 47,
     "metadata": {},
     "output_type": "execute_result"
    }
   ],
   "source": [
    "#階乗(！)の計算方法\n",
    "import math\n",
    "math.factorial(5)"
   ]
  },
  {
   "cell_type": "markdown",
   "metadata": {},
   "source": [
    "5!=5×4×3×2×1=120"
   ]
  },
  {
   "cell_type": "markdown",
   "metadata": {},
   "source": [
    "${}_nC_x=\\displaystyle \\frac{n!}{x!(n-x)!}$をdef文を使って定義してみます！"
   ]
  },
  {
   "cell_type": "code",
   "execution_count": 49,
   "metadata": {},
   "outputs": [],
   "source": [
    "def combination(n,x):\n",
    "    up = math.factorial(n)\n",
    "    down = math.factorial(x)*math.factorial(n-x)\n",
    "    print(up/down)"
   ]
  },
  {
   "cell_type": "code",
   "execution_count": 51,
   "metadata": {},
   "outputs": [
    {
     "name": "stdout",
     "output_type": "stream",
     "text": [
      "6.0\n"
     ]
    }
   ],
   "source": [
    "combination(4,2)"
   ]
  },
  {
   "cell_type": "markdown",
   "metadata": {},
   "source": [
    "上の式を下書きをもとに、**二項分布**$f(x)={}_nC_xp^xq^{n-x}$"
   ]
  },
  {
   "cell_type": "code",
   "execution_count": 83,
   "metadata": {},
   "outputs": [],
   "source": [
    "def poi(n,x,p):\n",
    "    up = math.factorial(n)\n",
    "    down = math.factorial(x)*math.factorial(n-x)\n",
    "    a = (up/down)*(p**x)*(1-p)**(n-x)\n",
    "    print(a)"
   ]
  },
  {
   "cell_type": "code",
   "execution_count": 84,
   "metadata": {},
   "outputs": [
    {
     "name": "stdout",
     "output_type": "stream",
     "text": [
      "0回勝つ確率は、\n",
      "0.00010485760000000006\n",
      "1回勝つ確率は、\n",
      "0.0015728640000000006\n",
      "2回勝つ確率は、\n",
      "0.010616832000000005\n",
      "3回勝つ確率は、\n",
      "0.042467328000000006\n",
      "4回勝つ確率は、\n",
      "0.11147673600000003\n",
      "5回勝つ確率は、\n",
      "0.20065812480000003\n",
      "6回勝つ確率は、\n",
      "0.25082265600000003\n",
      "7回勝つ確率は、\n",
      "0.21499084799999998\n",
      "8回勝つ確率は、\n",
      "0.12093235199999998\n",
      "9回勝つ確率は、\n",
      "0.04031078399999999\n",
      "10回勝つ確率は、\n",
      "0.006046617599999997\n"
     ]
    }
   ],
   "source": [
    "#阪神と巨人が10試合したときに、阪神がi回勝つ確率\n",
    "for i in range(0,11):\n",
    "    print(str(i)+\"回勝つ確率は、\")\n",
    "    p = poi(10,i,0.6)"
   ]
  },
  {
   "cell_type": "markdown",
   "metadata": {},
   "source": [
    "例題：poi(n,x,p)を使って、さいころを４回投げて、そのうち3回\"１\"が出る確率を求めてみましょう！"
   ]
  },
  {
   "cell_type": "code",
   "execution_count": 62,
   "metadata": {},
   "outputs": [
    {
     "name": "stdout",
     "output_type": "stream",
     "text": [
      "0.4822530864197532\n",
      "0.3858024691358025\n",
      "0.11574074074074076\n",
      "0.015432098765432096\n",
      "0.0007716049382716048\n"
     ]
    }
   ],
   "source": [
    "#さいころを４回投げて、そのうち1回xが出る確率。\n",
    "for i in range(0,5):\n",
    "    poi(4,i,1/6)"
   ]
  },
  {
   "cell_type": "markdown",
   "metadata": {},
   "source": [
    "**標準正規分布**$(\\mu =0,\\sigma^2=1)$"
   ]
  },
  {
   "cell_type": "markdown",
   "metadata": {},
   "source": [
    "np.random.normal(loc,scale,size)"
   ]
  },
  {
   "cell_type": "code",
   "execution_count": 36,
   "metadata": {},
   "outputs": [
    {
     "data": {
      "image/png": "[encoded data removed]",
      "text/plain": [
       "<Figure size 432x288 with 1 Axes>"
      ]
     },
     "metadata": {
      "needs_background": "light"
     },
     "output_type": "display_data"
    }
   ],
   "source": [
    "x = np.random.randn(100000)#正規分布に従う乱数を100000個生成\n",
    "plt.hist(x, bins='auto')#xをヒストグラムにプロットする。ヒストグラムの本数は'auto'\n",
    "plt.show()#グラフを表示"
   ]
  }
 ],
 "metadata": {
  "kernelspec": {
   "display_name": "Python 3",
   "language": "python",
   "name": "python3"
  },
  "language_info": {
   "codemirror_mode": {
    "name": "ipython",
    "version": 3
   },
   "file_extension": ".py",
   "mimetype": "text/x-python",
   "name": "python",
   "nbconvert_exporter": "python",
   "pygments_lexer": "ipython3",
   "version": "3.7.6"
  }
 },
 "nbformat": 4,
 "nbformat_minor": 4
}
