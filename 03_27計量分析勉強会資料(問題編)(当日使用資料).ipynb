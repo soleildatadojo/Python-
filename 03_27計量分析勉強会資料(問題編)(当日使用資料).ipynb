{
  "nbformat": 4,
  "nbformat_minor": 0,
  "metadata": {
    "kernelspec": {
      "display_name": "Python 3",
      "language": "python",
      "name": "python3"
    },
    "language_info": {
      "codemirror_mode": {
        "name": "ipython",
        "version": 3
      },
      "file_extension": ".py",
      "mimetype": "text/x-python",
      "name": "python",
      "nbconvert_exporter": "python",
      "pygments_lexer": "ipython3",
      "version": "3.7.6"
    },
    "colab": {
      "name": "03_27計量分析勉強会資料(問題編).ipynb",
      "provenance": []
    }
  },
  "cells": [
    {
      "cell_type": "markdown",
      "metadata": {
        "id": "SafZznJVE4J4"
      },
      "source": [
        "# 計量分析勉強会"
      ]
    },
    {
      "cell_type": "markdown",
      "metadata": {
        "id": "FJ7IjwmgE4KF"
      },
      "source": [
        "### 目次<a id='top'></a>\n",
        "1. [Pythonとは](#sec1)  >\n",
        "2. [勉強会の目標](#sec2)  \n",
        "\n",
        "3. [データ加工編第一部:Pandas](#sec7)  \n",
        "    1. [その1 成人データを読み込んでみよう！](#sec7_1)  \n",
        "    2. [その2 データの特徴を把握しよう！](#sec7_2)  \n",
        "    3. [その3 他のデータも読み込んでみよう！](#sec7_3)  \n",
        "    4. [その4 行を削除してみよう！](#sec7_4)  \n",
        "    5. [その5 カラムの名前を変更してみよう！](#sec7_5)  \n",
        "    6. [その6 特定の列だけを取り出してみよう！](#sec7_6)\n",
        "    7. [その7 文字列を削除してみよう！](#sec7_7)\n",
        "    8. [その8 文字列を変更してみよう！](#sec7_8)\n",
        "    9. [その9 行を削除してみよう！](#sec7_9)\n",
        "    9. [その10 データを結合してみよう！](#sec7_10)\n",
        "    10. [その11 データ型を変更してみよう！](#sec7_11)\n",
        "    11. [その12 単回帰分析を回してみよう！](#sec7_12)"
      ]
    },
    {
      "cell_type": "markdown",
      "metadata": {
        "id": "w1GlD8ocE4KG"
      },
      "source": [
        "### 付録  \n",
        "4. [データ加工編第二部:seisekiデータ](#sec4) \n",
        "    1. [その1成績データを読み込んでみよう！](#sec4_1)  \n",
        "    2. [その2-1 データの特徴を把握しよう！](#sec4_2_1)  \n",
        "    2. [その2-2 データの特徴を把握しよう！](#sec4_2_2)  \n",
        "    3. [その3 カラムの名前を変更してみよう！](#sec4_3)  \n",
        "    4. [その4 特定の列だけを取り出してみよう！](#sec4_4)  \n",
        "    [DataFrameとSeries](#sec4_7)  \n",
        "    5. [その5 列を統合させてみよう！](#sec4_6)  \n",
        "    6. [その6 散布図を描いてみよう！](#sec4_7)  \n",
        "    [余談・相関係数を求めてみる](#sec4_8)  \n",
        "4. [コラム１](#col1)\n",
        "5. [Python基礎文法](#sec5)  \n",
        "    1. [その0 基本的な計算をしてみよう！](#sec5_0)  \n",
        "    2. [その1 データを収納する方法について整理しよう！](#sec5_1)  \n",
        "    3. [その2 リストを作成してみよう！](#sec5_2)  \n",
        "    4. [その3 ディクショナリを作成してみよう！](#sec5_3)  \n",
        "    5. [その4 集合を作成してみよう！](#sec5_4)\n",
        "    6. [その5 タプルを作成してみよう！](#sec5_5)\n",
        "6. [Python文法](#sec6)\n",
        "    1. [for文](#sec6_1)\n",
        "    2. [range文](#sec6_2)\n",
        "    3. [if文](#sec6_3)\n",
        "    4. [def文](#sec6_4)\n",
        "    5. [while文](#sec6_5)"
      ]
    },
    {
      "cell_type": "markdown",
      "metadata": {
        "id": "sGLqcyNUE4KH"
      },
      "source": [
        "## １. Pythonとは<a id='sec1'></a>"
      ]
    },
    {
      "cell_type": "markdown",
      "metadata": {
        "id": "8x9aeuU9E4KI"
      },
      "source": [
        "　**Pythonは現在、特に人気のあるプログラミング言語です。** Pythonは簡単な文法構造を特徴をしています。その扱いやすさから、人工知能(AI)の開発から、webアプリケーションを作成までといったように、広範に活用されています。そんなPythonを知らないのはもったいない！！\n",
        "<br> ここで、Pythonを身近に感じてもらうために、具体的な事例をいくつか挙げてみます。"
      ]
    },
    {
      "cell_type": "markdown",
      "metadata": {
        "id": "zuKNj65QE4KJ"
      },
      "source": [
        "　1つ目に挙げるのは、ソフトバンクが開発した人工知能ロボット「Pepper(ペッパー)」君。彼の人工知能は、Pythonで書かれていると言われています。次に考えられるのは、Instagram。特に意味もなく、インスタを開いてしまっていることありますよね...。\n",
        " InstagramはPythonの、Djangoというwebアプリケーションフレームワークで作成されています！また、大学生の敵(味方？)、YoutubeにもPythonが活用されています。実は、Pythonは本当に身近な言語なのです！このように、Pythonを直接\"見る\"機会は日常でもほとんどありませんが、みなさんも毎日Pythonの恩恵を与っているのです！"
      ]
    },
    {
      "cell_type": "markdown",
      "metadata": {
        "id": "bb_-08aTE4KJ"
      },
      "source": [
        "ここで、Pythonの得意分野について整理します！\n",
        "1. **AI(人工知能)・機械学習**  \n",
        "Pythonには、AIや機械学習に特化したライブラリ(後で詳しく説明します)がたくさんあります！これによって、機械学習をとても簡単に行うことができます。\n",
        "2. **データ分析**  \n",
        "データの特徴を把握したり、データを整理するのにPythonは最適です。また、スクレイピングという技術を用いれば、自動的にデータの抽出を行うことができます。"
      ]
    },
    {
      "cell_type": "markdown",
      "metadata": {
        "id": "G4zrWcbbE4KK"
      },
      "source": [
        "Pythonにはライブラリというものがあります。これは、先人たちが残してくれた、偉大な知識です。Pythonを数学に例えるならば、ライブラリは「公式」だと考えられます。皆さんは、二次方程式の解を求める際に、解の公式を用いてきました。この式に数値を放り込むだけで、容易に答えを得ることができたと思います。ライブラリはこれと同じです。はじめから公式を作成しているのでは、時間がかかって作業が一向に進みません。そこで、このライブラリを用いることで、効率的な作業が可能になるのです。"
      ]
    },
    {
      "cell_type": "markdown",
      "metadata": {
        "id": "hWHvw2P-E4KL"
      },
      "source": [
        "## 2：勉強会の目標<a id='sec2'></a>"
      ]
    },
    {
      "cell_type": "markdown",
      "metadata": {
        "id": "8OPUhvULE4KL"
      },
      "source": [
        "Pandasでデータの前処理をし、statsmodelsで統計分析を行うという、計量分析の一連の流れを習得する！"
      ]
    },
    {
      "cell_type": "markdown",
      "metadata": {
        "id": "DS7P-PrYE4KM"
      },
      "source": [
        "## ３：実装<a id='sec3'></a>"
      ]
    },
    {
      "cell_type": "markdown",
      "metadata": {
        "id": "9pWfdGoWE4KN"
      },
      "source": [
        "れでは、実際にPythonを動かしてみましょう！！  \n",
        "ここからは、実際のデータを操作しながら、必要に応じて解説していきます。"
      ]
    },
    {
      "cell_type": "markdown",
      "metadata": {
        "id": "N9l91FmjE4KN"
      },
      "source": [
        "まず、\"seijin.csv\"を読み込みます。  \n",
        "このデータには、都道府県別の成人人数が収納されています。"
      ]
    },
    {
      "cell_type": "markdown",
      "metadata": {
        "id": "AEOtDWaEE4KN"
      },
      "source": [
        "## 第一章　データ前処理 Pandas<a id='sec4'></a>"
      ]
    },
    {
      "cell_type": "markdown",
      "metadata": {
        "id": "fJ5XpYnuE4KO"
      },
      "source": [
        "資料サイト：https://learnavi.com/note/605e86b3670d45c50d777b42"
      ]
    },
    {
      "cell_type": "code",
      "metadata": {
        "id": "muLGlvWlE4KP"
      },
      "source": [
        "import pandas as pd"
      ],
      "execution_count": 1,
      "outputs": []
    },
    {
      "cell_type": "markdown",
      "metadata": {
        "id": "aRQk3UKmE4KQ"
      },
      "source": [
        "今回の勉強会の目標は前回の勉強会で使用した下の図を作成することです！"
      ]
    },
    {
      "cell_type": "code",
      "metadata": {
        "colab": {
          "base_uri": "https://localhost:8080/",
          "height": 197
        },
        "id": "6PzedNI_E4KQ",
        "outputId": "c2610cb4-5f4e-4850-ffbf-382131dc59a8"
      },
      "source": [
        "df0 = pd.read_csv(\"beer.csv\")\n",
        "df0.drop(columns=[\"Unnamed: 0\"]).head()"
      ],
      "execution_count": 2,
      "outputs": [
        {
          "output_type": "execute_result",
          "data": {
            "text/html": [
              "<div>\n",
              "<style scoped>\n",
              "    .dataframe tbody tr th:only-of-type {\n",
              "        vertical-align: middle;\n",
              "    }\n",
              "\n",
              "    .dataframe tbody tr th {\n",
              "        vertical-align: top;\n",
              "    }\n",
              "\n",
              "    .dataframe thead th {\n",
              "        text-align: right;\n",
              "    }\n",
              "</style>\n",
              "<table border=\"1\" class=\"dataframe\">\n",
              "  <thead>\n",
              "    <tr style=\"text-align: right;\">\n",
              "      <th></th>\n",
              "      <th>prefecture</th>\n",
              "      <th>beer</th>\n",
              "      <th>adult</th>\n",
              "      <th>per_beer</th>\n",
              "      <th>ave_temp</th>\n",
              "    </tr>\n",
              "  </thead>\n",
              "  <tbody>\n",
              "    <tr>\n",
              "      <th>0</th>\n",
              "      <td>北海道</td>\n",
              "      <td>113097000</td>\n",
              "      <td>4509363</td>\n",
              "      <td>25.080483</td>\n",
              "      <td>9.5</td>\n",
              "    </tr>\n",
              "    <tr>\n",
              "      <th>1</th>\n",
              "      <td>青森</td>\n",
              "      <td>23177000</td>\n",
              "      <td>1103183</td>\n",
              "      <td>21.009207</td>\n",
              "      <td>11.0</td>\n",
              "    </tr>\n",
              "    <tr>\n",
              "      <th>2</th>\n",
              "      <td>岩手</td>\n",
              "      <td>24879000</td>\n",
              "      <td>1059293</td>\n",
              "      <td>23.486420</td>\n",
              "      <td>11.0</td>\n",
              "    </tr>\n",
              "    <tr>\n",
              "      <th>3</th>\n",
              "      <td>宮城</td>\n",
              "      <td>43152000</td>\n",
              "      <td>1915548</td>\n",
              "      <td>22.527235</td>\n",
              "      <td>13.6</td>\n",
              "    </tr>\n",
              "    <tr>\n",
              "      <th>4</th>\n",
              "      <td>秋田</td>\n",
              "      <td>19229000</td>\n",
              "      <td>868937</td>\n",
              "      <td>22.129337</td>\n",
              "      <td>12.3</td>\n",
              "    </tr>\n",
              "  </tbody>\n",
              "</table>\n",
              "</div>"
            ],
            "text/plain": [
              "  prefecture       beer    adult   per_beer  ave_temp\n",
              "0        北海道  113097000  4509363  25.080483       9.5\n",
              "1         青森   23177000  1103183  21.009207      11.0\n",
              "2         岩手   24879000  1059293  23.486420      11.0\n",
              "3         宮城   43152000  1915548  22.527235      13.6\n",
              "4         秋田   19229000   868937  22.129337      12.3"
            ]
          },
          "metadata": {
            "tags": []
          },
          "execution_count": 2
        }
      ]
    },
    {
      "cell_type": "markdown",
      "metadata": {
        "id": "d7UPUV61E4KS"
      },
      "source": [
        "このデータは異なる三つのデータソースからのファイルを結合して作成されています。\n",
        "1. 成人データ(人口推計) [https://www.e-stat.go.jp/stat-search/database?page=1&layout=dataset&toukei=00200524&statdisp_id=0003312321] \n",
        "2. ビール消費量(国税庁:平成30年度分 酒税課税関係等状況表)  \n",
        "3. 年間平均気温(2018年度 社会・人口統計体系 都道府県データ 基礎データ)"
      ]
    },
    {
      "cell_type": "markdown",
      "metadata": {
        "id": "Zcpl0YlNE4KT"
      },
      "source": [
        "三つのデータを結合し、分析する方法を実践してみましょう！"
      ]
    },
    {
      "cell_type": "markdown",
      "metadata": {
        "id": "Tm4lGQehE4KU"
      },
      "source": [
        "**その１**<a id='sec7_1'></a>  \n",
        "**成人データを読み込んでみよう！**  \n",
        "[先頭に戻る](#top)  "
      ]
    },
    {
      "cell_type": "code",
      "metadata": {
        "id": "PChRofIZE4KU"
      },
      "source": [
        "#ライブラリ(pandas,numpy)の読み込み\n",
        "import pandas as pd\n",
        "import numpy as np"
      ],
      "execution_count": 3,
      "outputs": []
    },
    {
      "cell_type": "markdown",
      "metadata": {
        "id": "v01KNL8iE4KV"
      },
      "source": [
        "pd.read_csv(\"ファイル名.csv\")"
      ]
    },
    {
      "cell_type": "markdown",
      "metadata": {
        "id": "0W5DKCRQE4KV"
      },
      "source": [
        "まず、\"seijin.csv\"を読み込みます。  \n",
        "このデータには、都道府県別の成人人数が収納されています。"
      ]
    },
    {
      "cell_type": "code",
      "metadata": {
        "colab": {
          "base_uri": "https://localhost:8080/",
          "height": 405
        },
        "id": "iGvh208aE4KV",
        "outputId": "0b8ade9e-a9d6-422b-a345-9eed8e54e1a6"
      },
      "source": [
        "df_adult1 = pd.read_csv(\"/content/seijin.csv\")\n",
        "df_adult1"
      ],
      "execution_count": 5,
      "outputs": [
        {
          "output_type": "execute_result",
          "data": {
            "text/html": [
              "<div>\n",
              "<style scoped>\n",
              "    .dataframe tbody tr th:only-of-type {\n",
              "        vertical-align: middle;\n",
              "    }\n",
              "\n",
              "    .dataframe tbody tr th {\n",
              "        vertical-align: top;\n",
              "    }\n",
              "\n",
              "    .dataframe thead th {\n",
              "        text-align: right;\n",
              "    }\n",
              "</style>\n",
              "<table border=\"1\" class=\"dataframe\">\n",
              "  <thead>\n",
              "    <tr style=\"text-align: right;\">\n",
              "      <th></th>\n",
              "      <th>Unnamed: 0</th>\n",
              "      <th>Unnamed: 1</th>\n",
              "      <th>Unnamed: 2</th>\n",
              "    </tr>\n",
              "  </thead>\n",
              "  <tbody>\n",
              "    <tr>\n",
              "      <th>0</th>\n",
              "      <td>都道府県名</td>\n",
              "      <td>性別</td>\n",
              "      <td>成人人数</td>\n",
              "    </tr>\n",
              "    <tr>\n",
              "      <th>1</th>\n",
              "      <td>北海道*</td>\n",
              "      <td>計</td>\n",
              "      <td>4,509,363</td>\n",
              "    </tr>\n",
              "    <tr>\n",
              "      <th>2</th>\n",
              "      <td>北海道*</td>\n",
              "      <td>男</td>\n",
              "      <td>2,098,789</td>\n",
              "    </tr>\n",
              "    <tr>\n",
              "      <th>3</th>\n",
              "      <td>北海道*</td>\n",
              "      <td>女</td>\n",
              "      <td>2,410,574</td>\n",
              "    </tr>\n",
              "    <tr>\n",
              "      <th>4</th>\n",
              "      <td>青森県*</td>\n",
              "      <td>計</td>\n",
              "      <td>1,103,183</td>\n",
              "    </tr>\n",
              "    <tr>\n",
              "      <th>...</th>\n",
              "      <td>...</td>\n",
              "      <td>...</td>\n",
              "      <td>...</td>\n",
              "    </tr>\n",
              "    <tr>\n",
              "      <th>137</th>\n",
              "      <td>鹿児島県*</td>\n",
              "      <td>男</td>\n",
              "      <td>626,483</td>\n",
              "    </tr>\n",
              "    <tr>\n",
              "      <th>138</th>\n",
              "      <td>鹿児島県*</td>\n",
              "      <td>女</td>\n",
              "      <td>728,637</td>\n",
              "    </tr>\n",
              "    <tr>\n",
              "      <th>139</th>\n",
              "      <td>沖縄県*</td>\n",
              "      <td>計</td>\n",
              "      <td>1,135,115</td>\n",
              "    </tr>\n",
              "    <tr>\n",
              "      <th>140</th>\n",
              "      <td>沖縄県*</td>\n",
              "      <td>男</td>\n",
              "      <td>553,684</td>\n",
              "    </tr>\n",
              "    <tr>\n",
              "      <th>141</th>\n",
              "      <td>沖縄県*</td>\n",
              "      <td>女</td>\n",
              "      <td>581,431</td>\n",
              "    </tr>\n",
              "  </tbody>\n",
              "</table>\n",
              "<p>142 rows × 3 columns</p>\n",
              "</div>"
            ],
            "text/plain": [
              "    Unnamed: 0 Unnamed: 1 Unnamed: 2\n",
              "0        都道府県名         性別       成人人数\n",
              "1         北海道*          計  4,509,363\n",
              "2         北海道*          男  2,098,789\n",
              "3         北海道*          女  2,410,574\n",
              "4         青森県*          計  1,103,183\n",
              "..         ...        ...        ...\n",
              "137      鹿児島県*          男    626,483\n",
              "138      鹿児島県*          女    728,637\n",
              "139       沖縄県*          計  1,135,115\n",
              "140       沖縄県*          男    553,684\n",
              "141       沖縄県*          女    581,431\n",
              "\n",
              "[142 rows x 3 columns]"
            ]
          },
          "metadata": {
            "tags": []
          },
          "execution_count": 5
        }
      ]
    },
    {
      "cell_type": "markdown",
      "metadata": {
        "id": "ZSac3KyWE4KW"
      },
      "source": [
        "実際にデータが読み込めたのを確認できます。\n",
        "<p>次はこのデータの特徴を把握しましょう！"
      ]
    },
    {
      "cell_type": "markdown",
      "metadata": {
        "id": "57r614EhE4KX"
      },
      "source": [
        "**その2** **データの特徴を把握しよう！**<a id='sec7_2'></a>  \n",
        "[先頭に戻る](#top)"
      ]
    },
    {
      "cell_type": "markdown",
      "metadata": {
        "id": "FDaPQWs0E4KX"
      },
      "source": [
        "データを入手して、第一に行う必要があるのは、データに不備がないかの確認です。\n",
        "<p>特に、自作したExcelファイルを使用する際などは、データに欠損値などの不備が生じている可能性があります。そのデータで分析すると、今までの苦労が無駄に...！なんてこともあるかもしれません。そこで、第一にデータの確認が重要です。"
      ]
    },
    {
      "cell_type": "code",
      "metadata": {
        "id": "2KhYSo-9E4KX",
        "outputId": "c0a0ee7e-685c-463e-d7a8-af32855646c7"
      },
      "source": [
        "type(df_adult1)"
      ],
      "execution_count": null,
      "outputs": [
        {
          "output_type": "execute_result",
          "data": {
            "text/plain": [
              "pandas.core.frame.DataFrame"
            ]
          },
          "metadata": {
            "tags": []
          },
          "execution_count": 21
        }
      ]
    },
    {
      "cell_type": "markdown",
      "metadata": {
        "id": "KMnvIvy3E4KY"
      },
      "source": [
        "　type()関数を用いると、オブジェクトの型を把握することができます！出力された最後の、DataFrameという一文が重要です。<p>DataFrameはpandas最大の武器です。パンダスはこれを使うためにあると言っても過言ではないでしょう。\n",
        "<p>さらにデータフレームには、より便利な情報習得関数が提供されています。それがdf.info()です。"
      ]
    },
    {
      "cell_type": "code",
      "metadata": {
        "colab": {
          "base_uri": "https://localhost:8080/"
        },
        "id": "dzHDN1QfE4KY",
        "outputId": "70d03f36-a3a1-4b96-bcc7-37803f416a8a"
      },
      "source": [
        "df_adult1.info()"
      ],
      "execution_count": 6,
      "outputs": [
        {
          "output_type": "stream",
          "text": [
            "<class 'pandas.core.frame.DataFrame'>\n",
            "RangeIndex: 142 entries, 0 to 141\n",
            "Data columns (total 3 columns):\n",
            " #   Column      Non-Null Count  Dtype \n",
            "---  ------      --------------  ----- \n",
            " 0   Unnamed: 0  142 non-null    object\n",
            " 1   Unnamed: 1  142 non-null    object\n",
            " 2   Unnamed: 2  142 non-null    object\n",
            "dtypes: object(3)\n",
            "memory usage: 3.5+ KB\n"
          ],
          "name": "stdout"
        }
      ]
    },
    {
      "cell_type": "markdown",
      "metadata": {
        "id": "vRujkN8QE4KZ"
      },
      "source": [
        "なにやら、訳の分からない言語がたくさん出てきた、、。　と思った人！！  \n",
        "大丈夫です。知っていれば理解できます。  \n",
        "1. Column(カラム)とは、列名のことです。ですので、列名が一覧となって出力されています。  \n",
        "2. Non-Null Countとは、欠損値でない数のことです。データに不備があると、正しくデータの分析が行えません。そこで、初めにデータに不備がないかinfo関数を用いて確認することが大事です。  \n",
        "3. Dtypeとは、DataFrameに収納されている文字の種類のことです。objectとは万能な文字列を意味します。実際、データフレームが文字である列も、数字である列も、object型で構成されているのが確認できますね！　文字の種類を確認しておけば、あらかじめエラーが発生することを防ぐことができます。"
      ]
    },
    {
      "cell_type": "markdown",
      "metadata": {
        "id": "OVlwEojWE4KZ"
      },
      "source": [
        "**その3**　**他のデータも読み込んでみよう！**<a id='sec7_3'></a>  \n",
        "[先頭に戻る](#top)"
      ]
    },
    {
      "cell_type": "markdown",
      "metadata": {
        "id": "3yA9eA3rE4Ka"
      },
      "source": [
        "同様に、ビール消費量データが入った\"ビールExcel.csv\"と、年間平均気温が記録された\"年平均気温.csv\"を読み込んでみましょう。  \n",
        "ここでは、\"ビールExcel.csv\"を\"df_beer\",\"年平均気温.csv\"をdf_tempという名前で読み込んで下さい！  \n",
        "さらにデータが読み込めた方は、データに欠損値がないか確認して見てください。"
      ]
    },
    {
      "cell_type": "code",
      "metadata": {
        "id": "k8ESQwaKHS-Q"
      },
      "source": [
        "df_beer = pd.read_csv(\"/content/ビールExcel.csv\")\n",
        "df_temp = pd.read_csv(\"/content/年平均気温.csv\")"
      ],
      "execution_count": 13,
      "outputs": []
    },
    {
      "cell_type": "code",
      "metadata": {
        "colab": {
          "base_uri": "https://localhost:8080/",
          "height": 1000
        },
        "id": "XVi0qv5xIksf",
        "outputId": "25e2830d-fe7d-4bb9-ee39-fe03e927797f"
      },
      "source": [
        "df_beer\n"
      ],
      "execution_count": 14,
      "outputs": [
        {
          "output_type": "execute_result",
          "data": {
            "text/html": [
              "<div>\n",
              "<style scoped>\n",
              "    .dataframe tbody tr th:only-of-type {\n",
              "        vertical-align: middle;\n",
              "    }\n",
              "\n",
              "    .dataframe tbody tr th {\n",
              "        vertical-align: top;\n",
              "    }\n",
              "\n",
              "    .dataframe thead th {\n",
              "        text-align: right;\n",
              "    }\n",
              "</style>\n",
              "<table border=\"1\" class=\"dataframe\">\n",
              "  <thead>\n",
              "    <tr style=\"text-align: right;\">\n",
              "      <th></th>\n",
              "      <th>prefecture</th>\n",
              "      <th>beer</th>\n",
              "    </tr>\n",
              "  </thead>\n",
              "  <tbody>\n",
              "    <tr>\n",
              "      <th>0</th>\n",
              "      <td>北海道</td>\n",
              "      <td>113,097</td>\n",
              "    </tr>\n",
              "    <tr>\n",
              "      <th>1</th>\n",
              "      <td>青森</td>\n",
              "      <td>23,177</td>\n",
              "    </tr>\n",
              "    <tr>\n",
              "      <th>2</th>\n",
              "      <td>岩手</td>\n",
              "      <td>24,879</td>\n",
              "    </tr>\n",
              "    <tr>\n",
              "      <th>3</th>\n",
              "      <td>宮城</td>\n",
              "      <td>43,152</td>\n",
              "    </tr>\n",
              "    <tr>\n",
              "      <th>4</th>\n",
              "      <td>秋田</td>\n",
              "      <td>19,229</td>\n",
              "    </tr>\n",
              "    <tr>\n",
              "      <th>5</th>\n",
              "      <td>山形</td>\n",
              "      <td>19,776</td>\n",
              "    </tr>\n",
              "    <tr>\n",
              "      <th>6</th>\n",
              "      <td>福島</td>\n",
              "      <td>34,195</td>\n",
              "    </tr>\n",
              "    <tr>\n",
              "      <th>7</th>\n",
              "      <td>茨城</td>\n",
              "      <td>42,922</td>\n",
              "    </tr>\n",
              "    <tr>\n",
              "      <th>8</th>\n",
              "      <td>栃木</td>\n",
              "      <td>30,745</td>\n",
              "    </tr>\n",
              "    <tr>\n",
              "      <th>9</th>\n",
              "      <td>群馬</td>\n",
              "      <td>29,684</td>\n",
              "    </tr>\n",
              "    <tr>\n",
              "      <th>10</th>\n",
              "      <td>埼玉</td>\n",
              "      <td>90,860</td>\n",
              "    </tr>\n",
              "    <tr>\n",
              "      <th>11</th>\n",
              "      <td>新潟</td>\n",
              "      <td>45,720</td>\n",
              "    </tr>\n",
              "    <tr>\n",
              "      <th>12</th>\n",
              "      <td>長野</td>\n",
              "      <td>39,741</td>\n",
              "    </tr>\n",
              "    <tr>\n",
              "      <th>13</th>\n",
              "      <td>千葉</td>\n",
              "      <td>85,494</td>\n",
              "    </tr>\n",
              "    <tr>\n",
              "      <th>14</th>\n",
              "      <td>東京</td>\n",
              "      <td>466,125</td>\n",
              "    </tr>\n",
              "    <tr>\n",
              "      <th>15</th>\n",
              "      <td>神奈川</td>\n",
              "      <td>152,317</td>\n",
              "    </tr>\n",
              "    <tr>\n",
              "      <th>16</th>\n",
              "      <td>山梨</td>\n",
              "      <td>13,434</td>\n",
              "    </tr>\n",
              "    <tr>\n",
              "      <th>17</th>\n",
              "      <td>富山</td>\n",
              "      <td>21,496</td>\n",
              "    </tr>\n",
              "    <tr>\n",
              "      <th>18</th>\n",
              "      <td>石川</td>\n",
              "      <td>22,385</td>\n",
              "    </tr>\n",
              "    <tr>\n",
              "      <th>19</th>\n",
              "      <td>福井</td>\n",
              "      <td>13,486</td>\n",
              "    </tr>\n",
              "    <tr>\n",
              "      <th>20</th>\n",
              "      <td>岐阜</td>\n",
              "      <td>25,428</td>\n",
              "    </tr>\n",
              "    <tr>\n",
              "      <th>21</th>\n",
              "      <td>静岡</td>\n",
              "      <td>57,531</td>\n",
              "    </tr>\n",
              "    <tr>\n",
              "      <th>22</th>\n",
              "      <td>愛知</td>\n",
              "      <td>131,666</td>\n",
              "    </tr>\n",
              "    <tr>\n",
              "      <th>23</th>\n",
              "      <td>三重</td>\n",
              "      <td>26,243</td>\n",
              "    </tr>\n",
              "    <tr>\n",
              "      <th>24</th>\n",
              "      <td>滋賀</td>\n",
              "      <td>15,739</td>\n",
              "    </tr>\n",
              "    <tr>\n",
              "      <th>25</th>\n",
              "      <td>京都</td>\n",
              "      <td>57,319</td>\n",
              "    </tr>\n",
              "    <tr>\n",
              "      <th>26</th>\n",
              "      <td>大阪</td>\n",
              "      <td>215,191</td>\n",
              "    </tr>\n",
              "    <tr>\n",
              "      <th>27</th>\n",
              "      <td>兵庫</td>\n",
              "      <td>93,560</td>\n",
              "    </tr>\n",
              "    <tr>\n",
              "      <th>28</th>\n",
              "      <td>奈良</td>\n",
              "      <td>18,448</td>\n",
              "    </tr>\n",
              "    <tr>\n",
              "      <th>29</th>\n",
              "      <td>和歌山</td>\n",
              "      <td>14,490</td>\n",
              "    </tr>\n",
              "    <tr>\n",
              "      <th>30</th>\n",
              "      <td>鳥取</td>\n",
              "      <td>10,002</td>\n",
              "    </tr>\n",
              "    <tr>\n",
              "      <th>31</th>\n",
              "      <td>島根</td>\n",
              "      <td>11,323</td>\n",
              "    </tr>\n",
              "    <tr>\n",
              "      <th>32</th>\n",
              "      <td>岡山</td>\n",
              "      <td>25,022</td>\n",
              "    </tr>\n",
              "    <tr>\n",
              "      <th>33</th>\n",
              "      <td>広島</td>\n",
              "      <td>50,304</td>\n",
              "    </tr>\n",
              "    <tr>\n",
              "      <th>34</th>\n",
              "      <td>山口</td>\n",
              "      <td>21,732</td>\n",
              "    </tr>\n",
              "    <tr>\n",
              "      <th>35</th>\n",
              "      <td>徳島</td>\n",
              "      <td>12,122</td>\n",
              "    </tr>\n",
              "    <tr>\n",
              "      <th>36</th>\n",
              "      <td>香川</td>\n",
              "      <td>15,269</td>\n",
              "    </tr>\n",
              "    <tr>\n",
              "      <th>37</th>\n",
              "      <td>愛媛</td>\n",
              "      <td>23,029</td>\n",
              "    </tr>\n",
              "    <tr>\n",
              "      <th>38</th>\n",
              "      <td>高知</td>\n",
              "      <td>15,286</td>\n",
              "    </tr>\n",
              "    <tr>\n",
              "      <th>39</th>\n",
              "      <td>福岡</td>\n",
              "      <td>91,566</td>\n",
              "    </tr>\n",
              "    <tr>\n",
              "      <th>40</th>\n",
              "      <td>佐賀</td>\n",
              "      <td>13,183</td>\n",
              "    </tr>\n",
              "    <tr>\n",
              "      <th>41</th>\n",
              "      <td>長崎</td>\n",
              "      <td>22,218</td>\n",
              "    </tr>\n",
              "    <tr>\n",
              "      <th>42</th>\n",
              "      <td>熊本</td>\n",
              "      <td>27,073</td>\n",
              "    </tr>\n",
              "    <tr>\n",
              "      <th>43</th>\n",
              "      <td>大分</td>\n",
              "      <td>19,316</td>\n",
              "    </tr>\n",
              "    <tr>\n",
              "      <th>44</th>\n",
              "      <td>宮崎</td>\n",
              "      <td>19,994</td>\n",
              "    </tr>\n",
              "    <tr>\n",
              "      <th>45</th>\n",
              "      <td>鹿児島</td>\n",
              "      <td>20,674</td>\n",
              "    </tr>\n",
              "  </tbody>\n",
              "</table>\n",
              "</div>"
            ],
            "text/plain": [
              "   prefecture     beer\n",
              "0         北海道  113,097\n",
              "1          青森   23,177\n",
              "2          岩手   24,879\n",
              "3          宮城   43,152\n",
              "4          秋田   19,229\n",
              "5          山形   19,776\n",
              "6          福島   34,195\n",
              "7          茨城   42,922\n",
              "8          栃木   30,745\n",
              "9          群馬   29,684\n",
              "10         埼玉   90,860\n",
              "11         新潟   45,720\n",
              "12         長野   39,741\n",
              "13         千葉   85,494\n",
              "14         東京  466,125\n",
              "15        神奈川  152,317\n",
              "16         山梨   13,434\n",
              "17         富山   21,496\n",
              "18         石川   22,385\n",
              "19         福井   13,486\n",
              "20         岐阜   25,428\n",
              "21         静岡   57,531\n",
              "22         愛知  131,666\n",
              "23         三重   26,243\n",
              "24         滋賀   15,739\n",
              "25         京都   57,319\n",
              "26         大阪  215,191\n",
              "27         兵庫   93,560\n",
              "28         奈良   18,448\n",
              "29        和歌山   14,490\n",
              "30         鳥取   10,002\n",
              "31         島根   11,323\n",
              "32         岡山   25,022\n",
              "33         広島   50,304\n",
              "34         山口   21,732\n",
              "35         徳島   12,122\n",
              "36         香川   15,269\n",
              "37         愛媛   23,029\n",
              "38         高知   15,286\n",
              "39         福岡   91,566\n",
              "40         佐賀   13,183\n",
              "41         長崎   22,218\n",
              "42         熊本   27,073\n",
              "43         大分   19,316\n",
              "44         宮崎   19,994\n",
              "45        鹿児島   20,674"
            ]
          },
          "metadata": {
            "tags": []
          },
          "execution_count": 14
        }
      ]
    },
    {
      "cell_type": "code",
      "metadata": {
        "colab": {
          "base_uri": "https://localhost:8080/",
          "height": 1000
        },
        "id": "mqGHImWvImee",
        "outputId": "073985d4-0d38-4225-d93b-d77c7291e59c"
      },
      "source": [
        "df_temp"
      ],
      "execution_count": 12,
      "outputs": [
        {
          "output_type": "execute_result",
          "data": {
            "text/html": [
              "<div>\n",
              "<style scoped>\n",
              "    .dataframe tbody tr th:only-of-type {\n",
              "        vertical-align: middle;\n",
              "    }\n",
              "\n",
              "    .dataframe tbody tr th {\n",
              "        vertical-align: top;\n",
              "    }\n",
              "\n",
              "    .dataframe thead th {\n",
              "        text-align: right;\n",
              "    }\n",
              "</style>\n",
              "<table border=\"1\" class=\"dataframe\">\n",
              "  <thead>\n",
              "    <tr style=\"text-align: right;\">\n",
              "      <th></th>\n",
              "      <th>prefecture</th>\n",
              "      <th>ave_temp</th>\n",
              "    </tr>\n",
              "  </thead>\n",
              "  <tbody>\n",
              "    <tr>\n",
              "      <th>0</th>\n",
              "      <td>北海道</td>\n",
              "      <td>9.5</td>\n",
              "    </tr>\n",
              "    <tr>\n",
              "      <th>1</th>\n",
              "      <td>青森県</td>\n",
              "      <td>11.0</td>\n",
              "    </tr>\n",
              "    <tr>\n",
              "      <th>2</th>\n",
              "      <td>岩手県</td>\n",
              "      <td>11.0</td>\n",
              "    </tr>\n",
              "    <tr>\n",
              "      <th>3</th>\n",
              "      <td>宮城県</td>\n",
              "      <td>13.6</td>\n",
              "    </tr>\n",
              "    <tr>\n",
              "      <th>4</th>\n",
              "      <td>秋田県</td>\n",
              "      <td>12.3</td>\n",
              "    </tr>\n",
              "    <tr>\n",
              "      <th>5</th>\n",
              "      <td>山形県</td>\n",
              "      <td>12.6</td>\n",
              "    </tr>\n",
              "    <tr>\n",
              "      <th>6</th>\n",
              "      <td>福島県</td>\n",
              "      <td>14.2</td>\n",
              "    </tr>\n",
              "    <tr>\n",
              "      <th>7</th>\n",
              "      <td>茨城県</td>\n",
              "      <td>15.3</td>\n",
              "    </tr>\n",
              "    <tr>\n",
              "      <th>8</th>\n",
              "      <td>栃木県</td>\n",
              "      <td>15.2</td>\n",
              "    </tr>\n",
              "    <tr>\n",
              "      <th>9</th>\n",
              "      <td>群馬県</td>\n",
              "      <td>16.1</td>\n",
              "    </tr>\n",
              "    <tr>\n",
              "      <th>10</th>\n",
              "      <td>埼玉県</td>\n",
              "      <td>16.4</td>\n",
              "    </tr>\n",
              "    <tr>\n",
              "      <th>11</th>\n",
              "      <td>千葉県</td>\n",
              "      <td>17.2</td>\n",
              "    </tr>\n",
              "    <tr>\n",
              "      <th>12</th>\n",
              "      <td>東京都</td>\n",
              "      <td>16.8</td>\n",
              "    </tr>\n",
              "    <tr>\n",
              "      <th>13</th>\n",
              "      <td>神奈川県</td>\n",
              "      <td>17.1</td>\n",
              "    </tr>\n",
              "    <tr>\n",
              "      <th>14</th>\n",
              "      <td>新潟県</td>\n",
              "      <td>14.3</td>\n",
              "    </tr>\n",
              "    <tr>\n",
              "      <th>15</th>\n",
              "      <td>富山県</td>\n",
              "      <td>15.0</td>\n",
              "    </tr>\n",
              "    <tr>\n",
              "      <th>16</th>\n",
              "      <td>石川県</td>\n",
              "      <td>15.5</td>\n",
              "    </tr>\n",
              "    <tr>\n",
              "      <th>17</th>\n",
              "      <td>福井県</td>\n",
              "      <td>15.3</td>\n",
              "    </tr>\n",
              "    <tr>\n",
              "      <th>18</th>\n",
              "      <td>山梨県</td>\n",
              "      <td>16.0</td>\n",
              "    </tr>\n",
              "    <tr>\n",
              "      <th>19</th>\n",
              "      <td>長野県</td>\n",
              "      <td>13.0</td>\n",
              "    </tr>\n",
              "    <tr>\n",
              "      <th>20</th>\n",
              "      <td>岐阜県</td>\n",
              "      <td>16.9</td>\n",
              "    </tr>\n",
              "    <tr>\n",
              "      <th>21</th>\n",
              "      <td>静岡県</td>\n",
              "      <td>17.7</td>\n",
              "    </tr>\n",
              "    <tr>\n",
              "      <th>22</th>\n",
              "      <td>愛知県</td>\n",
              "      <td>16.9</td>\n",
              "    </tr>\n",
              "    <tr>\n",
              "      <th>23</th>\n",
              "      <td>三重県</td>\n",
              "      <td>16.9</td>\n",
              "    </tr>\n",
              "    <tr>\n",
              "      <th>24</th>\n",
              "      <td>滋賀県</td>\n",
              "      <td>15.7</td>\n",
              "    </tr>\n",
              "    <tr>\n",
              "      <th>25</th>\n",
              "      <td>京都府</td>\n",
              "      <td>16.9</td>\n",
              "    </tr>\n",
              "    <tr>\n",
              "      <th>26</th>\n",
              "      <td>大阪府</td>\n",
              "      <td>17.4</td>\n",
              "    </tr>\n",
              "    <tr>\n",
              "      <th>27</th>\n",
              "      <td>兵庫県</td>\n",
              "      <td>17.4</td>\n",
              "    </tr>\n",
              "    <tr>\n",
              "      <th>28</th>\n",
              "      <td>奈良県</td>\n",
              "      <td>16.2</td>\n",
              "    </tr>\n",
              "    <tr>\n",
              "      <th>29</th>\n",
              "      <td>和歌山県</td>\n",
              "      <td>17.3</td>\n",
              "    </tr>\n",
              "    <tr>\n",
              "      <th>30</th>\n",
              "      <td>鳥取県</td>\n",
              "      <td>15.7</td>\n",
              "    </tr>\n",
              "    <tr>\n",
              "      <th>31</th>\n",
              "      <td>島根県</td>\n",
              "      <td>15.6</td>\n",
              "    </tr>\n",
              "    <tr>\n",
              "      <th>32</th>\n",
              "      <td>岡山県</td>\n",
              "      <td>16.3</td>\n",
              "    </tr>\n",
              "    <tr>\n",
              "      <th>33</th>\n",
              "      <td>広島県</td>\n",
              "      <td>16.8</td>\n",
              "    </tr>\n",
              "    <tr>\n",
              "      <th>34</th>\n",
              "      <td>山口県</td>\n",
              "      <td>16.0</td>\n",
              "    </tr>\n",
              "    <tr>\n",
              "      <th>35</th>\n",
              "      <td>徳島県</td>\n",
              "      <td>17.1</td>\n",
              "    </tr>\n",
              "    <tr>\n",
              "      <th>36</th>\n",
              "      <td>香川県</td>\n",
              "      <td>17.0</td>\n",
              "    </tr>\n",
              "    <tr>\n",
              "      <th>37</th>\n",
              "      <td>愛媛県</td>\n",
              "      <td>17.1</td>\n",
              "    </tr>\n",
              "    <tr>\n",
              "      <th>38</th>\n",
              "      <td>高知県</td>\n",
              "      <td>17.4</td>\n",
              "    </tr>\n",
              "    <tr>\n",
              "      <th>39</th>\n",
              "      <td>福岡県</td>\n",
              "      <td>17.7</td>\n",
              "    </tr>\n",
              "    <tr>\n",
              "      <th>40</th>\n",
              "      <td>佐賀県</td>\n",
              "      <td>17.4</td>\n",
              "    </tr>\n",
              "    <tr>\n",
              "      <th>41</th>\n",
              "      <td>長崎県</td>\n",
              "      <td>17.7</td>\n",
              "    </tr>\n",
              "    <tr>\n",
              "      <th>42</th>\n",
              "      <td>熊本県</td>\n",
              "      <td>17.5</td>\n",
              "    </tr>\n",
              "    <tr>\n",
              "      <th>43</th>\n",
              "      <td>大分県</td>\n",
              "      <td>17.1</td>\n",
              "    </tr>\n",
              "    <tr>\n",
              "      <th>44</th>\n",
              "      <td>宮崎県</td>\n",
              "      <td>17.8</td>\n",
              "    </tr>\n",
              "    <tr>\n",
              "      <th>45</th>\n",
              "      <td>鹿児島県</td>\n",
              "      <td>19.0</td>\n",
              "    </tr>\n",
              "    <tr>\n",
              "      <th>46</th>\n",
              "      <td>沖縄県</td>\n",
              "      <td>23.5</td>\n",
              "    </tr>\n",
              "  </tbody>\n",
              "</table>\n",
              "</div>"
            ],
            "text/plain": [
              "   prefecture  ave_temp\n",
              "0         北海道       9.5\n",
              "1         青森県      11.0\n",
              "2         岩手県      11.0\n",
              "3         宮城県      13.6\n",
              "4         秋田県      12.3\n",
              "5         山形県      12.6\n",
              "6         福島県      14.2\n",
              "7         茨城県      15.3\n",
              "8         栃木県      15.2\n",
              "9         群馬県      16.1\n",
              "10        埼玉県      16.4\n",
              "11        千葉県      17.2\n",
              "12        東京都      16.8\n",
              "13       神奈川県      17.1\n",
              "14        新潟県      14.3\n",
              "15        富山県      15.0\n",
              "16        石川県      15.5\n",
              "17        福井県      15.3\n",
              "18        山梨県      16.0\n",
              "19        長野県      13.0\n",
              "20        岐阜県      16.9\n",
              "21        静岡県      17.7\n",
              "22        愛知県      16.9\n",
              "23        三重県      16.9\n",
              "24        滋賀県      15.7\n",
              "25        京都府      16.9\n",
              "26        大阪府      17.4\n",
              "27        兵庫県      17.4\n",
              "28        奈良県      16.2\n",
              "29       和歌山県      17.3\n",
              "30        鳥取県      15.7\n",
              "31        島根県      15.6\n",
              "32        岡山県      16.3\n",
              "33        広島県      16.8\n",
              "34        山口県      16.0\n",
              "35        徳島県      17.1\n",
              "36        香川県      17.0\n",
              "37        愛媛県      17.1\n",
              "38        高知県      17.4\n",
              "39        福岡県      17.7\n",
              "40        佐賀県      17.4\n",
              "41        長崎県      17.7\n",
              "42        熊本県      17.5\n",
              "43        大分県      17.1\n",
              "44        宮崎県      17.8\n",
              "45       鹿児島県      19.0\n",
              "46        沖縄県      23.5"
            ]
          },
          "metadata": {
            "tags": []
          },
          "execution_count": 12
        }
      ]
    },
    {
      "cell_type": "code",
      "metadata": {
        "colab": {
          "base_uri": "https://localhost:8080/"
        },
        "id": "ZeIaYKegI_Yy",
        "outputId": "08a6bec2-70ee-45df-9014-6cab9c17d475"
      },
      "source": [
        "df_beer.info()"
      ],
      "execution_count": 15,
      "outputs": [
        {
          "output_type": "stream",
          "text": [
            "<class 'pandas.core.frame.DataFrame'>\n",
            "RangeIndex: 46 entries, 0 to 45\n",
            "Data columns (total 2 columns):\n",
            " #   Column      Non-Null Count  Dtype \n",
            "---  ------      --------------  ----- \n",
            " 0   prefecture  46 non-null     object\n",
            " 1   beer        46 non-null     object\n",
            "dtypes: object(2)\n",
            "memory usage: 864.0+ bytes\n"
          ],
          "name": "stdout"
        }
      ]
    },
    {
      "cell_type": "code",
      "metadata": {
        "colab": {
          "base_uri": "https://localhost:8080/"
        },
        "id": "MF4Ra8sVJBk5",
        "outputId": "fdd51a5b-bfdd-4e91-9e6b-0d03919208a5"
      },
      "source": [
        "df_temp.info()"
      ],
      "execution_count": 16,
      "outputs": [
        {
          "output_type": "stream",
          "text": [
            "<class 'pandas.core.frame.DataFrame'>\n",
            "RangeIndex: 47 entries, 0 to 46\n",
            "Data columns (total 2 columns):\n",
            " #   Column      Non-Null Count  Dtype  \n",
            "---  ------      --------------  -----  \n",
            " 0   prefecture  47 non-null     object \n",
            " 1   ave_temp    47 non-null     float64\n",
            "dtypes: float64(1), object(1)\n",
            "memory usage: 880.0+ bytes\n"
          ],
          "name": "stdout"
        }
      ]
    },
    {
      "cell_type": "markdown",
      "metadata": {
        "id": "xxFR691bE4Ka"
      },
      "source": [
        "※beerの単位はKLです。"
      ]
    },
    {
      "cell_type": "markdown",
      "metadata": {
        "id": "dv9QFUxaE4Kb"
      },
      "source": [
        "データ数に違いがあることが確認できたでしょうか。  \n",
        "df1は142件で、df0は46件、df3は47件です。  \n",
        "データ数が異なる三つのデータを結合するにはどのようにすればよいのでしょうか。  \n",
        "先ず、データ数をそろえる必要があります。次に、キーとする共通のカラムが必要です。今回の場合、都道府県名がキーになります。"
      ]
    },
    {
      "cell_type": "markdown",
      "metadata": {
        "id": "FldK0qVrE4Kb"
      },
      "source": [
        "**その4** **行を削除してみよう！**<a id='sec7_4'></a>  \n",
        "[先頭に戻る](#top)"
      ]
    },
    {
      "cell_type": "code",
      "metadata": {
        "colab": {
          "base_uri": "https://localhost:8080/",
          "height": 197
        },
        "id": "V_TrhQu-E4Kb",
        "outputId": "fa7165a4-f1b2-45e1-aa8c-e9bf6aa1591e"
      },
      "source": [
        "df_adult1.head(5)"
      ],
      "execution_count": 19,
      "outputs": [
        {
          "output_type": "execute_result",
          "data": {
            "text/html": [
              "<div>\n",
              "<style scoped>\n",
              "    .dataframe tbody tr th:only-of-type {\n",
              "        vertical-align: middle;\n",
              "    }\n",
              "\n",
              "    .dataframe tbody tr th {\n",
              "        vertical-align: top;\n",
              "    }\n",
              "\n",
              "    .dataframe thead th {\n",
              "        text-align: right;\n",
              "    }\n",
              "</style>\n",
              "<table border=\"1\" class=\"dataframe\">\n",
              "  <thead>\n",
              "    <tr style=\"text-align: right;\">\n",
              "      <th></th>\n",
              "      <th>Unnamed: 0</th>\n",
              "      <th>Unnamed: 1</th>\n",
              "      <th>Unnamed: 2</th>\n",
              "    </tr>\n",
              "  </thead>\n",
              "  <tbody>\n",
              "    <tr>\n",
              "      <th>0</th>\n",
              "      <td>都道府県名</td>\n",
              "      <td>性別</td>\n",
              "      <td>成人人数</td>\n",
              "    </tr>\n",
              "    <tr>\n",
              "      <th>1</th>\n",
              "      <td>北海道*</td>\n",
              "      <td>計</td>\n",
              "      <td>4,509,363</td>\n",
              "    </tr>\n",
              "    <tr>\n",
              "      <th>2</th>\n",
              "      <td>北海道*</td>\n",
              "      <td>男</td>\n",
              "      <td>2,098,789</td>\n",
              "    </tr>\n",
              "    <tr>\n",
              "      <th>3</th>\n",
              "      <td>北海道*</td>\n",
              "      <td>女</td>\n",
              "      <td>2,410,574</td>\n",
              "    </tr>\n",
              "    <tr>\n",
              "      <th>4</th>\n",
              "      <td>青森県*</td>\n",
              "      <td>計</td>\n",
              "      <td>1,103,183</td>\n",
              "    </tr>\n",
              "  </tbody>\n",
              "</table>\n",
              "</div>"
            ],
            "text/plain": [
              "  Unnamed: 0 Unnamed: 1 Unnamed: 2\n",
              "0      都道府県名         性別       成人人数\n",
              "1       北海道*          計  4,509,363\n",
              "2       北海道*          男  2,098,789\n",
              "3       北海道*          女  2,410,574\n",
              "4       青森県*          計  1,103,183"
            ]
          },
          "metadata": {
            "tags": []
          },
          "execution_count": 19
        }
      ]
    },
    {
      "cell_type": "code",
      "metadata": {
        "colab": {
          "base_uri": "https://localhost:8080/",
          "height": 405
        },
        "id": "oTS953XRKfk2",
        "outputId": "f8a79a51-a452-40c7-8925-ce0050bbab0d"
      },
      "source": [
        "df_adult2 = df_adult1.drop(index=0)\n",
        "df_adult2"
      ],
      "execution_count": 24,
      "outputs": [
        {
          "output_type": "execute_result",
          "data": {
            "text/html": [
              "<div>\n",
              "<style scoped>\n",
              "    .dataframe tbody tr th:only-of-type {\n",
              "        vertical-align: middle;\n",
              "    }\n",
              "\n",
              "    .dataframe tbody tr th {\n",
              "        vertical-align: top;\n",
              "    }\n",
              "\n",
              "    .dataframe thead th {\n",
              "        text-align: right;\n",
              "    }\n",
              "</style>\n",
              "<table border=\"1\" class=\"dataframe\">\n",
              "  <thead>\n",
              "    <tr style=\"text-align: right;\">\n",
              "      <th></th>\n",
              "      <th>Unnamed: 0</th>\n",
              "      <th>Unnamed: 1</th>\n",
              "      <th>Unnamed: 2</th>\n",
              "    </tr>\n",
              "  </thead>\n",
              "  <tbody>\n",
              "    <tr>\n",
              "      <th>1</th>\n",
              "      <td>北海道*</td>\n",
              "      <td>計</td>\n",
              "      <td>4,509,363</td>\n",
              "    </tr>\n",
              "    <tr>\n",
              "      <th>2</th>\n",
              "      <td>北海道*</td>\n",
              "      <td>男</td>\n",
              "      <td>2,098,789</td>\n",
              "    </tr>\n",
              "    <tr>\n",
              "      <th>3</th>\n",
              "      <td>北海道*</td>\n",
              "      <td>女</td>\n",
              "      <td>2,410,574</td>\n",
              "    </tr>\n",
              "    <tr>\n",
              "      <th>4</th>\n",
              "      <td>青森県*</td>\n",
              "      <td>計</td>\n",
              "      <td>1,103,183</td>\n",
              "    </tr>\n",
              "    <tr>\n",
              "      <th>5</th>\n",
              "      <td>青森県*</td>\n",
              "      <td>男</td>\n",
              "      <td>515,090</td>\n",
              "    </tr>\n",
              "    <tr>\n",
              "      <th>...</th>\n",
              "      <td>...</td>\n",
              "      <td>...</td>\n",
              "      <td>...</td>\n",
              "    </tr>\n",
              "    <tr>\n",
              "      <th>137</th>\n",
              "      <td>鹿児島県*</td>\n",
              "      <td>男</td>\n",
              "      <td>626,483</td>\n",
              "    </tr>\n",
              "    <tr>\n",
              "      <th>138</th>\n",
              "      <td>鹿児島県*</td>\n",
              "      <td>女</td>\n",
              "      <td>728,637</td>\n",
              "    </tr>\n",
              "    <tr>\n",
              "      <th>139</th>\n",
              "      <td>沖縄県*</td>\n",
              "      <td>計</td>\n",
              "      <td>1,135,115</td>\n",
              "    </tr>\n",
              "    <tr>\n",
              "      <th>140</th>\n",
              "      <td>沖縄県*</td>\n",
              "      <td>男</td>\n",
              "      <td>553,684</td>\n",
              "    </tr>\n",
              "    <tr>\n",
              "      <th>141</th>\n",
              "      <td>沖縄県*</td>\n",
              "      <td>女</td>\n",
              "      <td>581,431</td>\n",
              "    </tr>\n",
              "  </tbody>\n",
              "</table>\n",
              "<p>141 rows × 3 columns</p>\n",
              "</div>"
            ],
            "text/plain": [
              "    Unnamed: 0 Unnamed: 1 Unnamed: 2\n",
              "1         北海道*          計  4,509,363\n",
              "2         北海道*          男  2,098,789\n",
              "3         北海道*          女  2,410,574\n",
              "4         青森県*          計  1,103,183\n",
              "5         青森県*          男    515,090\n",
              "..         ...        ...        ...\n",
              "137      鹿児島県*          男    626,483\n",
              "138      鹿児島県*          女    728,637\n",
              "139       沖縄県*          計  1,135,115\n",
              "140       沖縄県*          男    553,684\n",
              "141       沖縄県*          女    581,431\n",
              "\n",
              "[141 rows x 3 columns]"
            ]
          },
          "metadata": {
            "tags": []
          },
          "execution_count": 24
        }
      ]
    },
    {
      "cell_type": "markdown",
      "metadata": {
        "id": "Y_Ldiwl4E4Kc"
      },
      "source": [
        "現在のdf_adultには、一行目に列名が入ってしまっています。この行は不要なので、最初にこの列を削除しましょう。"
      ]
    },
    {
      "cell_type": "markdown",
      "metadata": {
        "id": "jbZwF8FaE4Kc"
      },
      "source": [
        "#インデックスを指定した行の削除\n",
        "df.drop(index=0)"
      ]
    },
    {
      "cell_type": "code",
      "metadata": {
        "colab": {
          "base_uri": "https://localhost:8080/",
          "height": 107
        },
        "id": "eJQWYZQiE4Kd",
        "outputId": "de9d085d-d0a9-4e41-bf80-8d5e9aa81e66"
      },
      "source": [
        "df_club = pd.DataFrame(data=[{'名前': \"佐藤\", '部活': \"野球\"},{'名前': \"西田\", '部活': \"サッカー\"}])\n",
        "df_club"
      ],
      "execution_count": 21,
      "outputs": [
        {
          "output_type": "execute_result",
          "data": {
            "text/html": [
              "<div>\n",
              "<style scoped>\n",
              "    .dataframe tbody tr th:only-of-type {\n",
              "        vertical-align: middle;\n",
              "    }\n",
              "\n",
              "    .dataframe tbody tr th {\n",
              "        vertical-align: top;\n",
              "    }\n",
              "\n",
              "    .dataframe thead th {\n",
              "        text-align: right;\n",
              "    }\n",
              "</style>\n",
              "<table border=\"1\" class=\"dataframe\">\n",
              "  <thead>\n",
              "    <tr style=\"text-align: right;\">\n",
              "      <th></th>\n",
              "      <th>名前</th>\n",
              "      <th>部活</th>\n",
              "    </tr>\n",
              "  </thead>\n",
              "  <tbody>\n",
              "    <tr>\n",
              "      <th>0</th>\n",
              "      <td>佐藤</td>\n",
              "      <td>野球</td>\n",
              "    </tr>\n",
              "    <tr>\n",
              "      <th>1</th>\n",
              "      <td>西田</td>\n",
              "      <td>サッカー</td>\n",
              "    </tr>\n",
              "  </tbody>\n",
              "</table>\n",
              "</div>"
            ],
            "text/plain": [
              "   名前    部活\n",
              "0  佐藤    野球\n",
              "1  西田  サッカー"
            ]
          },
          "metadata": {
            "tags": []
          },
          "execution_count": 21
        }
      ]
    },
    {
      "cell_type": "code",
      "metadata": {
        "colab": {
          "base_uri": "https://localhost:8080/",
          "height": 77
        },
        "id": "hiRVLa9JE4Kd",
        "outputId": "eb115b08-558b-48cd-ed57-e9682e49be57"
      },
      "source": [
        "df_club.drop(index=0)"
      ],
      "execution_count": 22,
      "outputs": [
        {
          "output_type": "execute_result",
          "data": {
            "text/html": [
              "<div>\n",
              "<style scoped>\n",
              "    .dataframe tbody tr th:only-of-type {\n",
              "        vertical-align: middle;\n",
              "    }\n",
              "\n",
              "    .dataframe tbody tr th {\n",
              "        vertical-align: top;\n",
              "    }\n",
              "\n",
              "    .dataframe thead th {\n",
              "        text-align: right;\n",
              "    }\n",
              "</style>\n",
              "<table border=\"1\" class=\"dataframe\">\n",
              "  <thead>\n",
              "    <tr style=\"text-align: right;\">\n",
              "      <th></th>\n",
              "      <th>名前</th>\n",
              "      <th>部活</th>\n",
              "    </tr>\n",
              "  </thead>\n",
              "  <tbody>\n",
              "    <tr>\n",
              "      <th>1</th>\n",
              "      <td>西田</td>\n",
              "      <td>サッカー</td>\n",
              "    </tr>\n",
              "  </tbody>\n",
              "</table>\n",
              "</div>"
            ],
            "text/plain": [
              "   名前    部活\n",
              "1  西田  サッカー"
            ]
          },
          "metadata": {
            "tags": []
          },
          "execution_count": 22
        }
      ]
    },
    {
      "cell_type": "code",
      "metadata": {
        "colab": {
          "base_uri": "https://localhost:8080/",
          "height": 405
        },
        "id": "dbezRJMWJ0L4",
        "outputId": "3e38972f-e24d-4b6f-e892-089919cc8849"
      },
      "source": [
        "df_adult1"
      ],
      "execution_count": 23,
      "outputs": [
        {
          "output_type": "execute_result",
          "data": {
            "text/html": [
              "<div>\n",
              "<style scoped>\n",
              "    .dataframe tbody tr th:only-of-type {\n",
              "        vertical-align: middle;\n",
              "    }\n",
              "\n",
              "    .dataframe tbody tr th {\n",
              "        vertical-align: top;\n",
              "    }\n",
              "\n",
              "    .dataframe thead th {\n",
              "        text-align: right;\n",
              "    }\n",
              "</style>\n",
              "<table border=\"1\" class=\"dataframe\">\n",
              "  <thead>\n",
              "    <tr style=\"text-align: right;\">\n",
              "      <th></th>\n",
              "      <th>Unnamed: 0</th>\n",
              "      <th>Unnamed: 1</th>\n",
              "      <th>Unnamed: 2</th>\n",
              "    </tr>\n",
              "  </thead>\n",
              "  <tbody>\n",
              "    <tr>\n",
              "      <th>0</th>\n",
              "      <td>都道府県名</td>\n",
              "      <td>性別</td>\n",
              "      <td>成人人数</td>\n",
              "    </tr>\n",
              "    <tr>\n",
              "      <th>1</th>\n",
              "      <td>北海道*</td>\n",
              "      <td>計</td>\n",
              "      <td>4,509,363</td>\n",
              "    </tr>\n",
              "    <tr>\n",
              "      <th>2</th>\n",
              "      <td>北海道*</td>\n",
              "      <td>男</td>\n",
              "      <td>2,098,789</td>\n",
              "    </tr>\n",
              "    <tr>\n",
              "      <th>3</th>\n",
              "      <td>北海道*</td>\n",
              "      <td>女</td>\n",
              "      <td>2,410,574</td>\n",
              "    </tr>\n",
              "    <tr>\n",
              "      <th>4</th>\n",
              "      <td>青森県*</td>\n",
              "      <td>計</td>\n",
              "      <td>1,103,183</td>\n",
              "    </tr>\n",
              "    <tr>\n",
              "      <th>...</th>\n",
              "      <td>...</td>\n",
              "      <td>...</td>\n",
              "      <td>...</td>\n",
              "    </tr>\n",
              "    <tr>\n",
              "      <th>137</th>\n",
              "      <td>鹿児島県*</td>\n",
              "      <td>男</td>\n",
              "      <td>626,483</td>\n",
              "    </tr>\n",
              "    <tr>\n",
              "      <th>138</th>\n",
              "      <td>鹿児島県*</td>\n",
              "      <td>女</td>\n",
              "      <td>728,637</td>\n",
              "    </tr>\n",
              "    <tr>\n",
              "      <th>139</th>\n",
              "      <td>沖縄県*</td>\n",
              "      <td>計</td>\n",
              "      <td>1,135,115</td>\n",
              "    </tr>\n",
              "    <tr>\n",
              "      <th>140</th>\n",
              "      <td>沖縄県*</td>\n",
              "      <td>男</td>\n",
              "      <td>553,684</td>\n",
              "    </tr>\n",
              "    <tr>\n",
              "      <th>141</th>\n",
              "      <td>沖縄県*</td>\n",
              "      <td>女</td>\n",
              "      <td>581,431</td>\n",
              "    </tr>\n",
              "  </tbody>\n",
              "</table>\n",
              "<p>142 rows × 3 columns</p>\n",
              "</div>"
            ],
            "text/plain": [
              "    Unnamed: 0 Unnamed: 1 Unnamed: 2\n",
              "0        都道府県名         性別       成人人数\n",
              "1         北海道*          計  4,509,363\n",
              "2         北海道*          男  2,098,789\n",
              "3         北海道*          女  2,410,574\n",
              "4         青森県*          計  1,103,183\n",
              "..         ...        ...        ...\n",
              "137      鹿児島県*          男    626,483\n",
              "138      鹿児島県*          女    728,637\n",
              "139       沖縄県*          計  1,135,115\n",
              "140       沖縄県*          男    553,684\n",
              "141       沖縄県*          女    581,431\n",
              "\n",
              "[142 rows x 3 columns]"
            ]
          },
          "metadata": {
            "tags": []
          },
          "execution_count": 23
        }
      ]
    },
    {
      "cell_type": "code",
      "metadata": {
        "id": "94pN24axE4Ke",
        "outputId": "5b6ae186-8825-40b1-af2e-b89aef26e47c"
      },
      "source": [
        "df_adult2 = df_adult1.drop(index=0)\n",
        "df_adult2.head(3)"
      ],
      "execution_count": null,
      "outputs": [
        {
          "output_type": "execute_result",
          "data": {
            "text/html": [
              "<div>\n",
              "<style scoped>\n",
              "    .dataframe tbody tr th:only-of-type {\n",
              "        vertical-align: middle;\n",
              "    }\n",
              "\n",
              "    .dataframe tbody tr th {\n",
              "        vertical-align: top;\n",
              "    }\n",
              "\n",
              "    .dataframe thead th {\n",
              "        text-align: right;\n",
              "    }\n",
              "</style>\n",
              "<table border=\"1\" class=\"dataframe\">\n",
              "  <thead>\n",
              "    <tr style=\"text-align: right;\">\n",
              "      <th></th>\n",
              "      <th>Unnamed: 0</th>\n",
              "      <th>Unnamed: 1</th>\n",
              "      <th>Unnamed: 2</th>\n",
              "    </tr>\n",
              "  </thead>\n",
              "  <tbody>\n",
              "    <tr>\n",
              "      <th>1</th>\n",
              "      <td>北海道*</td>\n",
              "      <td>計</td>\n",
              "      <td>4,509,363</td>\n",
              "    </tr>\n",
              "    <tr>\n",
              "      <th>2</th>\n",
              "      <td>北海道*</td>\n",
              "      <td>男</td>\n",
              "      <td>2,098,789</td>\n",
              "    </tr>\n",
              "    <tr>\n",
              "      <th>3</th>\n",
              "      <td>北海道*</td>\n",
              "      <td>女</td>\n",
              "      <td>2,410,574</td>\n",
              "    </tr>\n",
              "  </tbody>\n",
              "</table>\n",
              "</div>"
            ],
            "text/plain": [
              "  Unnamed: 0 Unnamed: 1 Unnamed: 2\n",
              "1       北海道*          計  4,509,363\n",
              "2       北海道*          男  2,098,789\n",
              "3       北海道*          女  2,410,574"
            ]
          },
          "metadata": {
            "tags": []
          },
          "execution_count": 28
        }
      ]
    },
    {
      "cell_type": "markdown",
      "metadata": {
        "id": "i7Rm2JwGE4Ke"
      },
      "source": [
        "一行目を削除できました。"
      ]
    },
    {
      "cell_type": "markdown",
      "metadata": {
        "id": "CmMJ5gCAE4Kf"
      },
      "source": [
        "**その5** **カラムの名前を変更してみよう！**<a id='sec7_5'></a>  \n",
        "[先頭に戻る](#top)"
      ]
    },
    {
      "cell_type": "markdown",
      "metadata": {
        "id": "GX-EKDoCE4Kf"
      },
      "source": [
        "次に、列名が初期値のままですので、列名に正しい名前を振ってあげます。"
      ]
    },
    {
      "cell_type": "markdown",
      "metadata": {
        "id": "byHpoQ4hE4Kf"
      },
      "source": [
        "列名(columns)の変更は、  \n",
        "**df.rename(columns={\"元の名前\":\"新しい名前\"}**  \n",
        "で完成です！！さっそくdf_adult2のカラム名を適切な名前に変更してみましょう！"
      ]
    },
    {
      "cell_type": "markdown",
      "metadata": {
        "id": "z2DRBjAzE4Kg"
      },
      "source": [
        "df.rename(columns={\"元の名前\":\"新しい名前\"}"
      ]
    },
    {
      "cell_type": "code",
      "metadata": {
        "colab": {
          "base_uri": "https://localhost:8080/",
          "height": 405
        },
        "id": "IURf-gX7E4Kg",
        "outputId": "14148a14-3859-4c38-c410-519f32d544a5"
      },
      "source": [
        "df_adult3 = df_adult2.rename(columns={\"Unnamed: 1\":\"性別\",'Unnamed: 2':'adult'})\n",
        "df_adult3"
      ],
      "execution_count": 25,
      "outputs": [
        {
          "output_type": "execute_result",
          "data": {
            "text/html": [
              "<div>\n",
              "<style scoped>\n",
              "    .dataframe tbody tr th:only-of-type {\n",
              "        vertical-align: middle;\n",
              "    }\n",
              "\n",
              "    .dataframe tbody tr th {\n",
              "        vertical-align: top;\n",
              "    }\n",
              "\n",
              "    .dataframe thead th {\n",
              "        text-align: right;\n",
              "    }\n",
              "</style>\n",
              "<table border=\"1\" class=\"dataframe\">\n",
              "  <thead>\n",
              "    <tr style=\"text-align: right;\">\n",
              "      <th></th>\n",
              "      <th>Unnamed: 0</th>\n",
              "      <th>性別</th>\n",
              "      <th>adult</th>\n",
              "    </tr>\n",
              "  </thead>\n",
              "  <tbody>\n",
              "    <tr>\n",
              "      <th>1</th>\n",
              "      <td>北海道*</td>\n",
              "      <td>計</td>\n",
              "      <td>4,509,363</td>\n",
              "    </tr>\n",
              "    <tr>\n",
              "      <th>2</th>\n",
              "      <td>北海道*</td>\n",
              "      <td>男</td>\n",
              "      <td>2,098,789</td>\n",
              "    </tr>\n",
              "    <tr>\n",
              "      <th>3</th>\n",
              "      <td>北海道*</td>\n",
              "      <td>女</td>\n",
              "      <td>2,410,574</td>\n",
              "    </tr>\n",
              "    <tr>\n",
              "      <th>4</th>\n",
              "      <td>青森県*</td>\n",
              "      <td>計</td>\n",
              "      <td>1,103,183</td>\n",
              "    </tr>\n",
              "    <tr>\n",
              "      <th>5</th>\n",
              "      <td>青森県*</td>\n",
              "      <td>男</td>\n",
              "      <td>515,090</td>\n",
              "    </tr>\n",
              "    <tr>\n",
              "      <th>...</th>\n",
              "      <td>...</td>\n",
              "      <td>...</td>\n",
              "      <td>...</td>\n",
              "    </tr>\n",
              "    <tr>\n",
              "      <th>137</th>\n",
              "      <td>鹿児島県*</td>\n",
              "      <td>男</td>\n",
              "      <td>626,483</td>\n",
              "    </tr>\n",
              "    <tr>\n",
              "      <th>138</th>\n",
              "      <td>鹿児島県*</td>\n",
              "      <td>女</td>\n",
              "      <td>728,637</td>\n",
              "    </tr>\n",
              "    <tr>\n",
              "      <th>139</th>\n",
              "      <td>沖縄県*</td>\n",
              "      <td>計</td>\n",
              "      <td>1,135,115</td>\n",
              "    </tr>\n",
              "    <tr>\n",
              "      <th>140</th>\n",
              "      <td>沖縄県*</td>\n",
              "      <td>男</td>\n",
              "      <td>553,684</td>\n",
              "    </tr>\n",
              "    <tr>\n",
              "      <th>141</th>\n",
              "      <td>沖縄県*</td>\n",
              "      <td>女</td>\n",
              "      <td>581,431</td>\n",
              "    </tr>\n",
              "  </tbody>\n",
              "</table>\n",
              "<p>141 rows × 3 columns</p>\n",
              "</div>"
            ],
            "text/plain": [
              "    Unnamed: 0 性別      adult\n",
              "1         北海道*  計  4,509,363\n",
              "2         北海道*  男  2,098,789\n",
              "3         北海道*  女  2,410,574\n",
              "4         青森県*  計  1,103,183\n",
              "5         青森県*  男    515,090\n",
              "..         ... ..        ...\n",
              "137      鹿児島県*  男    626,483\n",
              "138      鹿児島県*  女    728,637\n",
              "139       沖縄県*  計  1,135,115\n",
              "140       沖縄県*  男    553,684\n",
              "141       沖縄県*  女    581,431\n",
              "\n",
              "[141 rows x 3 columns]"
            ]
          },
          "metadata": {
            "tags": []
          },
          "execution_count": 25
        }
      ]
    },
    {
      "cell_type": "markdown",
      "metadata": {
        "id": "hHX1NB70E4Kh"
      },
      "source": [
        "同じ要領で、df_adult3の'Unnamed: 0'を'prefecture'に変更してください！  \n",
        "名前はdf_adult3と定義しましょう。"
      ]
    },
    {
      "cell_type": "code",
      "metadata": {
        "colab": {
          "base_uri": "https://localhost:8080/",
          "height": 405
        },
        "id": "51l3I767K_7r",
        "outputId": "5ef422a4-8695-4a3b-bba6-77be7d15355a"
      },
      "source": [
        "df_adult3 = df_adult3.rename(columns={\"Unnamed: 0\":\"prefecture\"})\n",
        "df_adult3"
      ],
      "execution_count": 27,
      "outputs": [
        {
          "output_type": "execute_result",
          "data": {
            "text/html": [
              "<div>\n",
              "<style scoped>\n",
              "    .dataframe tbody tr th:only-of-type {\n",
              "        vertical-align: middle;\n",
              "    }\n",
              "\n",
              "    .dataframe tbody tr th {\n",
              "        vertical-align: top;\n",
              "    }\n",
              "\n",
              "    .dataframe thead th {\n",
              "        text-align: right;\n",
              "    }\n",
              "</style>\n",
              "<table border=\"1\" class=\"dataframe\">\n",
              "  <thead>\n",
              "    <tr style=\"text-align: right;\">\n",
              "      <th></th>\n",
              "      <th>prefecture</th>\n",
              "      <th>性別</th>\n",
              "      <th>adult</th>\n",
              "    </tr>\n",
              "  </thead>\n",
              "  <tbody>\n",
              "    <tr>\n",
              "      <th>1</th>\n",
              "      <td>北海道*</td>\n",
              "      <td>計</td>\n",
              "      <td>4,509,363</td>\n",
              "    </tr>\n",
              "    <tr>\n",
              "      <th>2</th>\n",
              "      <td>北海道*</td>\n",
              "      <td>男</td>\n",
              "      <td>2,098,789</td>\n",
              "    </tr>\n",
              "    <tr>\n",
              "      <th>3</th>\n",
              "      <td>北海道*</td>\n",
              "      <td>女</td>\n",
              "      <td>2,410,574</td>\n",
              "    </tr>\n",
              "    <tr>\n",
              "      <th>4</th>\n",
              "      <td>青森県*</td>\n",
              "      <td>計</td>\n",
              "      <td>1,103,183</td>\n",
              "    </tr>\n",
              "    <tr>\n",
              "      <th>5</th>\n",
              "      <td>青森県*</td>\n",
              "      <td>男</td>\n",
              "      <td>515,090</td>\n",
              "    </tr>\n",
              "    <tr>\n",
              "      <th>...</th>\n",
              "      <td>...</td>\n",
              "      <td>...</td>\n",
              "      <td>...</td>\n",
              "    </tr>\n",
              "    <tr>\n",
              "      <th>137</th>\n",
              "      <td>鹿児島県*</td>\n",
              "      <td>男</td>\n",
              "      <td>626,483</td>\n",
              "    </tr>\n",
              "    <tr>\n",
              "      <th>138</th>\n",
              "      <td>鹿児島県*</td>\n",
              "      <td>女</td>\n",
              "      <td>728,637</td>\n",
              "    </tr>\n",
              "    <tr>\n",
              "      <th>139</th>\n",
              "      <td>沖縄県*</td>\n",
              "      <td>計</td>\n",
              "      <td>1,135,115</td>\n",
              "    </tr>\n",
              "    <tr>\n",
              "      <th>140</th>\n",
              "      <td>沖縄県*</td>\n",
              "      <td>男</td>\n",
              "      <td>553,684</td>\n",
              "    </tr>\n",
              "    <tr>\n",
              "      <th>141</th>\n",
              "      <td>沖縄県*</td>\n",
              "      <td>女</td>\n",
              "      <td>581,431</td>\n",
              "    </tr>\n",
              "  </tbody>\n",
              "</table>\n",
              "<p>141 rows × 3 columns</p>\n",
              "</div>"
            ],
            "text/plain": [
              "    prefecture 性別      adult\n",
              "1         北海道*  計  4,509,363\n",
              "2         北海道*  男  2,098,789\n",
              "3         北海道*  女  2,410,574\n",
              "4         青森県*  計  1,103,183\n",
              "5         青森県*  男    515,090\n",
              "..         ... ..        ...\n",
              "137      鹿児島県*  男    626,483\n",
              "138      鹿児島県*  女    728,637\n",
              "139       沖縄県*  計  1,135,115\n",
              "140       沖縄県*  男    553,684\n",
              "141       沖縄県*  女    581,431\n",
              "\n",
              "[141 rows x 3 columns]"
            ]
          },
          "metadata": {
            "tags": []
          },
          "execution_count": 27
        }
      ]
    },
    {
      "cell_type": "markdown",
      "metadata": {
        "id": "85L6tViCE4Kh"
      },
      "source": [
        "**その6** **特定の列だけを取り出してみよう！**<a id='sec7_6'></a>  \n",
        "[先頭に戻る](#top)"
      ]
    },
    {
      "cell_type": "code",
      "metadata": {
        "id": "Cq1j5EaRE4Kh",
        "outputId": "b4273f91-4f47-4915-8305-840ca4f4aeea"
      },
      "source": [
        "df_adult3"
      ],
      "execution_count": null,
      "outputs": [
        {
          "output_type": "execute_result",
          "data": {
            "text/html": [
              "<div>\n",
              "<style scoped>\n",
              "    .dataframe tbody tr th:only-of-type {\n",
              "        vertical-align: middle;\n",
              "    }\n",
              "\n",
              "    .dataframe tbody tr th {\n",
              "        vertical-align: top;\n",
              "    }\n",
              "\n",
              "    .dataframe thead th {\n",
              "        text-align: right;\n",
              "    }\n",
              "</style>\n",
              "<table border=\"1\" class=\"dataframe\">\n",
              "  <thead>\n",
              "    <tr style=\"text-align: right;\">\n",
              "      <th></th>\n",
              "      <th>prefecture</th>\n",
              "      <th>性別</th>\n",
              "      <th>adult</th>\n",
              "    </tr>\n",
              "  </thead>\n",
              "  <tbody>\n",
              "    <tr>\n",
              "      <th>1</th>\n",
              "      <td>北海道*</td>\n",
              "      <td>計</td>\n",
              "      <td>4,509,363</td>\n",
              "    </tr>\n",
              "    <tr>\n",
              "      <th>2</th>\n",
              "      <td>北海道*</td>\n",
              "      <td>男</td>\n",
              "      <td>2,098,789</td>\n",
              "    </tr>\n",
              "    <tr>\n",
              "      <th>3</th>\n",
              "      <td>北海道*</td>\n",
              "      <td>女</td>\n",
              "      <td>2,410,574</td>\n",
              "    </tr>\n",
              "    <tr>\n",
              "      <th>4</th>\n",
              "      <td>青森県*</td>\n",
              "      <td>計</td>\n",
              "      <td>1,103,183</td>\n",
              "    </tr>\n",
              "    <tr>\n",
              "      <th>5</th>\n",
              "      <td>青森県*</td>\n",
              "      <td>男</td>\n",
              "      <td>515,090</td>\n",
              "    </tr>\n",
              "    <tr>\n",
              "      <th>...</th>\n",
              "      <td>...</td>\n",
              "      <td>...</td>\n",
              "      <td>...</td>\n",
              "    </tr>\n",
              "    <tr>\n",
              "      <th>137</th>\n",
              "      <td>鹿児島県*</td>\n",
              "      <td>男</td>\n",
              "      <td>626,483</td>\n",
              "    </tr>\n",
              "    <tr>\n",
              "      <th>138</th>\n",
              "      <td>鹿児島県*</td>\n",
              "      <td>女</td>\n",
              "      <td>728,637</td>\n",
              "    </tr>\n",
              "    <tr>\n",
              "      <th>139</th>\n",
              "      <td>沖縄県*</td>\n",
              "      <td>計</td>\n",
              "      <td>1,135,115</td>\n",
              "    </tr>\n",
              "    <tr>\n",
              "      <th>140</th>\n",
              "      <td>沖縄県*</td>\n",
              "      <td>男</td>\n",
              "      <td>553,684</td>\n",
              "    </tr>\n",
              "    <tr>\n",
              "      <th>141</th>\n",
              "      <td>沖縄県*</td>\n",
              "      <td>女</td>\n",
              "      <td>581,431</td>\n",
              "    </tr>\n",
              "  </tbody>\n",
              "</table>\n",
              "<p>141 rows × 3 columns</p>\n",
              "</div>"
            ],
            "text/plain": [
              "    prefecture 性別      adult\n",
              "1         北海道*  計  4,509,363\n",
              "2         北海道*  男  2,098,789\n",
              "3         北海道*  女  2,410,574\n",
              "4         青森県*  計  1,103,183\n",
              "5         青森県*  男    515,090\n",
              "..         ... ..        ...\n",
              "137      鹿児島県*  男    626,483\n",
              "138      鹿児島県*  女    728,637\n",
              "139       沖縄県*  計  1,135,115\n",
              "140       沖縄県*  男    553,684\n",
              "141       沖縄県*  女    581,431\n",
              "\n",
              "[141 rows x 3 columns]"
            ]
          },
          "metadata": {
            "tags": []
          },
          "execution_count": 34
        }
      ]
    },
    {
      "cell_type": "markdown",
      "metadata": {
        "id": "QQivBd0WE4Ki"
      },
      "source": [
        "df_adultには、男女別の人口データが収められています。今回の分析では男女別のデータは不必要ですので、性別が\"計\"であるデータのみを取り出しましょう。"
      ]
    },
    {
      "cell_type": "code",
      "metadata": {
        "id": "Eh818Y30E4Ki",
        "outputId": "e557ded1-7a6d-4770-d635-3e5ee304e6aa"
      },
      "source": [
        "#性別が男のデータの取り出し方。\n",
        "df_adult3[df_adult3[\"性別\"]==\"男\"]"
      ],
      "execution_count": null,
      "outputs": [
        {
          "output_type": "execute_result",
          "data": {
            "text/html": [
              "<div>\n",
              "<style scoped>\n",
              "    .dataframe tbody tr th:only-of-type {\n",
              "        vertical-align: middle;\n",
              "    }\n",
              "\n",
              "    .dataframe tbody tr th {\n",
              "        vertical-align: top;\n",
              "    }\n",
              "\n",
              "    .dataframe thead th {\n",
              "        text-align: right;\n",
              "    }\n",
              "</style>\n",
              "<table border=\"1\" class=\"dataframe\">\n",
              "  <thead>\n",
              "    <tr style=\"text-align: right;\">\n",
              "      <th></th>\n",
              "      <th>prefecture</th>\n",
              "      <th>性別</th>\n",
              "      <th>adult</th>\n",
              "    </tr>\n",
              "  </thead>\n",
              "  <tbody>\n",
              "    <tr>\n",
              "      <th>2</th>\n",
              "      <td>北海道*</td>\n",
              "      <td>男</td>\n",
              "      <td>2,098,789</td>\n",
              "    </tr>\n",
              "    <tr>\n",
              "      <th>5</th>\n",
              "      <td>青森県*</td>\n",
              "      <td>男</td>\n",
              "      <td>515,090</td>\n",
              "    </tr>\n",
              "    <tr>\n",
              "      <th>8</th>\n",
              "      <td>岩手県*</td>\n",
              "      <td>男</td>\n",
              "      <td>502,723</td>\n",
              "    </tr>\n",
              "    <tr>\n",
              "      <th>11</th>\n",
              "      <td>宮城県*</td>\n",
              "      <td>男</td>\n",
              "      <td>924,431</td>\n",
              "    </tr>\n",
              "    <tr>\n",
              "      <th>14</th>\n",
              "      <td>秋田県*</td>\n",
              "      <td>男</td>\n",
              "      <td>404,463</td>\n",
              "    </tr>\n",
              "    <tr>\n",
              "      <th>17</th>\n",
              "      <td>山形県*</td>\n",
              "      <td>男</td>\n",
              "      <td>440,084</td>\n",
              "    </tr>\n",
              "    <tr>\n",
              "      <th>20</th>\n",
              "      <td>福島県*</td>\n",
              "      <td>男</td>\n",
              "      <td>774,841</td>\n",
              "    </tr>\n",
              "    <tr>\n",
              "      <th>23</th>\n",
              "      <td>茨城県</td>\n",
              "      <td>男</td>\n",
              "      <td>1,217,871</td>\n",
              "    </tr>\n",
              "    <tr>\n",
              "      <th>26</th>\n",
              "      <td>栃木県*</td>\n",
              "      <td>男</td>\n",
              "      <td>814,580</td>\n",
              "    </tr>\n",
              "    <tr>\n",
              "      <th>29</th>\n",
              "      <td>群馬県*</td>\n",
              "      <td>男</td>\n",
              "      <td>809,054</td>\n",
              "    </tr>\n",
              "    <tr>\n",
              "      <th>32</th>\n",
              "      <td>埼玉県*</td>\n",
              "      <td>男</td>\n",
              "      <td>3,038,374</td>\n",
              "    </tr>\n",
              "    <tr>\n",
              "      <th>35</th>\n",
              "      <td>千葉県*</td>\n",
              "      <td>男</td>\n",
              "      <td>2,596,665</td>\n",
              "    </tr>\n",
              "    <tr>\n",
              "      <th>38</th>\n",
              "      <td>東京都*</td>\n",
              "      <td>男</td>\n",
              "      <td>5,623,543</td>\n",
              "    </tr>\n",
              "    <tr>\n",
              "      <th>41</th>\n",
              "      <td>神奈川県*</td>\n",
              "      <td>男</td>\n",
              "      <td>3,774,722</td>\n",
              "    </tr>\n",
              "    <tr>\n",
              "      <th>44</th>\n",
              "      <td>新潟県*</td>\n",
              "      <td>男</td>\n",
              "      <td>915,481</td>\n",
              "    </tr>\n",
              "    <tr>\n",
              "      <th>47</th>\n",
              "      <td>富山県*</td>\n",
              "      <td>男</td>\n",
              "      <td>427,576</td>\n",
              "    </tr>\n",
              "    <tr>\n",
              "      <th>50</th>\n",
              "      <td>石川県*</td>\n",
              "      <td>男</td>\n",
              "      <td>452,086</td>\n",
              "    </tr>\n",
              "    <tr>\n",
              "      <th>53</th>\n",
              "      <td>福井県*</td>\n",
              "      <td>男</td>\n",
              "      <td>311,018</td>\n",
              "    </tr>\n",
              "    <tr>\n",
              "      <th>56</th>\n",
              "      <td>山梨県*</td>\n",
              "      <td>男</td>\n",
              "      <td>337,725</td>\n",
              "    </tr>\n",
              "    <tr>\n",
              "      <th>59</th>\n",
              "      <td>長野県*</td>\n",
              "      <td>男</td>\n",
              "      <td>842,768</td>\n",
              "    </tr>\n",
              "    <tr>\n",
              "      <th>62</th>\n",
              "      <td>岐阜県*</td>\n",
              "      <td>男</td>\n",
              "      <td>811,795</td>\n",
              "    </tr>\n",
              "    <tr>\n",
              "      <th>65</th>\n",
              "      <td>静岡県*</td>\n",
              "      <td>男</td>\n",
              "      <td>1,514,566</td>\n",
              "    </tr>\n",
              "    <tr>\n",
              "      <th>68</th>\n",
              "      <td>愛知県*</td>\n",
              "      <td>男</td>\n",
              "      <td>3,063,192</td>\n",
              "    </tr>\n",
              "    <tr>\n",
              "      <th>71</th>\n",
              "      <td>三重県*</td>\n",
              "      <td>男</td>\n",
              "      <td>731,960</td>\n",
              "    </tr>\n",
              "    <tr>\n",
              "      <th>74</th>\n",
              "      <td>滋賀県*</td>\n",
              "      <td>男</td>\n",
              "      <td>557,223</td>\n",
              "    </tr>\n",
              "    <tr>\n",
              "      <th>77</th>\n",
              "      <td>京都府*</td>\n",
              "      <td>男</td>\n",
              "      <td>1,004,551</td>\n",
              "    </tr>\n",
              "    <tr>\n",
              "      <th>80</th>\n",
              "      <td>大阪府*</td>\n",
              "      <td>男</td>\n",
              "      <td>3,497,845</td>\n",
              "    </tr>\n",
              "    <tr>\n",
              "      <th>83</th>\n",
              "      <td>兵庫県*</td>\n",
              "      <td>男</td>\n",
              "      <td>2,172,961</td>\n",
              "    </tr>\n",
              "    <tr>\n",
              "      <th>86</th>\n",
              "      <td>奈良県*</td>\n",
              "      <td>男</td>\n",
              "      <td>531,648</td>\n",
              "    </tr>\n",
              "    <tr>\n",
              "      <th>89</th>\n",
              "      <td>和歌山県*</td>\n",
              "      <td>男</td>\n",
              "      <td>379,139</td>\n",
              "    </tr>\n",
              "    <tr>\n",
              "      <th>92</th>\n",
              "      <td>鳥取県*</td>\n",
              "      <td>男</td>\n",
              "      <td>221,765</td>\n",
              "    </tr>\n",
              "    <tr>\n",
              "      <th>95</th>\n",
              "      <td>島根県*</td>\n",
              "      <td>男</td>\n",
              "      <td>270,544</td>\n",
              "    </tr>\n",
              "    <tr>\n",
              "      <th>98</th>\n",
              "      <td>岡山県*</td>\n",
              "      <td>男</td>\n",
              "      <td>749,297</td>\n",
              "    </tr>\n",
              "    <tr>\n",
              "      <th>101</th>\n",
              "      <td>広島県*</td>\n",
              "      <td>男</td>\n",
              "      <td>1,120,478</td>\n",
              "    </tr>\n",
              "    <tr>\n",
              "      <th>104</th>\n",
              "      <td>山口県*</td>\n",
              "      <td>男</td>\n",
              "      <td>544,284</td>\n",
              "    </tr>\n",
              "    <tr>\n",
              "      <th>107</th>\n",
              "      <td>徳島県*</td>\n",
              "      <td>男</td>\n",
              "      <td>298,662</td>\n",
              "    </tr>\n",
              "    <tr>\n",
              "      <th>110</th>\n",
              "      <td>香川県*</td>\n",
              "      <td>男</td>\n",
              "      <td>391,107</td>\n",
              "    </tr>\n",
              "    <tr>\n",
              "      <th>113</th>\n",
              "      <td>愛媛県*</td>\n",
              "      <td>男</td>\n",
              "      <td>541,333</td>\n",
              "    </tr>\n",
              "    <tr>\n",
              "      <th>116</th>\n",
              "      <td>高知県*</td>\n",
              "      <td>男</td>\n",
              "      <td>283,177</td>\n",
              "    </tr>\n",
              "    <tr>\n",
              "      <th>119</th>\n",
              "      <td>福岡県*</td>\n",
              "      <td>男</td>\n",
              "      <td>1,959,795</td>\n",
              "    </tr>\n",
              "    <tr>\n",
              "      <th>122</th>\n",
              "      <td>佐賀県*</td>\n",
              "      <td>男</td>\n",
              "      <td>315,023</td>\n",
              "    </tr>\n",
              "    <tr>\n",
              "      <th>125</th>\n",
              "      <td>長崎県*</td>\n",
              "      <td>男</td>\n",
              "      <td>525,196</td>\n",
              "    </tr>\n",
              "    <tr>\n",
              "      <th>128</th>\n",
              "      <td>熊本県*</td>\n",
              "      <td>男</td>\n",
              "      <td>680,576</td>\n",
              "    </tr>\n",
              "    <tr>\n",
              "      <th>131</th>\n",
              "      <td>大分県*</td>\n",
              "      <td>男</td>\n",
              "      <td>452,460</td>\n",
              "    </tr>\n",
              "    <tr>\n",
              "      <th>134</th>\n",
              "      <td>宮崎県*</td>\n",
              "      <td>男</td>\n",
              "      <td>422,483</td>\n",
              "    </tr>\n",
              "    <tr>\n",
              "      <th>137</th>\n",
              "      <td>鹿児島県*</td>\n",
              "      <td>男</td>\n",
              "      <td>626,483</td>\n",
              "    </tr>\n",
              "    <tr>\n",
              "      <th>140</th>\n",
              "      <td>沖縄県*</td>\n",
              "      <td>男</td>\n",
              "      <td>553,684</td>\n",
              "    </tr>\n",
              "  </tbody>\n",
              "</table>\n",
              "</div>"
            ],
            "text/plain": [
              "    prefecture 性別      adult\n",
              "2         北海道*  男  2,098,789\n",
              "5         青森県*  男    515,090\n",
              "8         岩手県*  男    502,723\n",
              "11        宮城県*  男    924,431\n",
              "14        秋田県*  男    404,463\n",
              "17        山形県*  男    440,084\n",
              "20        福島県*  男    774,841\n",
              "23         茨城県  男  1,217,871\n",
              "26        栃木県*  男    814,580\n",
              "29        群馬県*  男    809,054\n",
              "32        埼玉県*  男  3,038,374\n",
              "35        千葉県*  男  2,596,665\n",
              "38        東京都*  男  5,623,543\n",
              "41       神奈川県*  男  3,774,722\n",
              "44        新潟県*  男    915,481\n",
              "47        富山県*  男    427,576\n",
              "50        石川県*  男    452,086\n",
              "53        福井県*  男    311,018\n",
              "56        山梨県*  男    337,725\n",
              "59        長野県*  男    842,768\n",
              "62        岐阜県*  男    811,795\n",
              "65        静岡県*  男  1,514,566\n",
              "68        愛知県*  男  3,063,192\n",
              "71        三重県*  男    731,960\n",
              "74        滋賀県*  男    557,223\n",
              "77        京都府*  男  1,004,551\n",
              "80        大阪府*  男  3,497,845\n",
              "83        兵庫県*  男  2,172,961\n",
              "86        奈良県*  男    531,648\n",
              "89       和歌山県*  男    379,139\n",
              "92        鳥取県*  男    221,765\n",
              "95        島根県*  男    270,544\n",
              "98        岡山県*  男    749,297\n",
              "101       広島県*  男  1,120,478\n",
              "104       山口県*  男    544,284\n",
              "107       徳島県*  男    298,662\n",
              "110       香川県*  男    391,107\n",
              "113       愛媛県*  男    541,333\n",
              "116       高知県*  男    283,177\n",
              "119       福岡県*  男  1,959,795\n",
              "122       佐賀県*  男    315,023\n",
              "125       長崎県*  男    525,196\n",
              "128       熊本県*  男    680,576\n",
              "131       大分県*  男    452,460\n",
              "134       宮崎県*  男    422,483\n",
              "137      鹿児島県*  男    626,483\n",
              "140       沖縄県*  男    553,684"
            ]
          },
          "metadata": {
            "tags": []
          },
          "execution_count": 35
        }
      ]
    },
    {
      "cell_type": "markdown",
      "metadata": {
        "id": "FHrgOsBRE4Kj"
      },
      "source": [
        "**上の例を参考にして性別が\"計\"であるデータフレームを、df_adult4と定義してみましょう。**"
      ]
    },
    {
      "cell_type": "code",
      "metadata": {
        "colab": {
          "base_uri": "https://localhost:8080/",
          "height": 1000
        },
        "id": "nJd07mvVLw66",
        "outputId": "c339ad51-597b-4956-ef28-7753260e20f6"
      },
      "source": [
        "df_adult4 = df_adult3[df_adult3[\"性別\"]==\"計\"]\n",
        "df_adult4"
      ],
      "execution_count": 34,
      "outputs": [
        {
          "output_type": "execute_result",
          "data": {
            "text/html": [
              "<div>\n",
              "<style scoped>\n",
              "    .dataframe tbody tr th:only-of-type {\n",
              "        vertical-align: middle;\n",
              "    }\n",
              "\n",
              "    .dataframe tbody tr th {\n",
              "        vertical-align: top;\n",
              "    }\n",
              "\n",
              "    .dataframe thead th {\n",
              "        text-align: right;\n",
              "    }\n",
              "</style>\n",
              "<table border=\"1\" class=\"dataframe\">\n",
              "  <thead>\n",
              "    <tr style=\"text-align: right;\">\n",
              "      <th></th>\n",
              "      <th>prefecture</th>\n",
              "      <th>性別</th>\n",
              "      <th>adult</th>\n",
              "    </tr>\n",
              "  </thead>\n",
              "  <tbody>\n",
              "    <tr>\n",
              "      <th>1</th>\n",
              "      <td>北海道*</td>\n",
              "      <td>計</td>\n",
              "      <td>4,509,363</td>\n",
              "    </tr>\n",
              "    <tr>\n",
              "      <th>4</th>\n",
              "      <td>青森県*</td>\n",
              "      <td>計</td>\n",
              "      <td>1,103,183</td>\n",
              "    </tr>\n",
              "    <tr>\n",
              "      <th>7</th>\n",
              "      <td>岩手県*</td>\n",
              "      <td>計</td>\n",
              "      <td>1,059,293</td>\n",
              "    </tr>\n",
              "    <tr>\n",
              "      <th>10</th>\n",
              "      <td>宮城県*</td>\n",
              "      <td>計</td>\n",
              "      <td>1,915,548</td>\n",
              "    </tr>\n",
              "    <tr>\n",
              "      <th>13</th>\n",
              "      <td>秋田県*</td>\n",
              "      <td>計</td>\n",
              "      <td>868,937</td>\n",
              "    </tr>\n",
              "    <tr>\n",
              "      <th>16</th>\n",
              "      <td>山形県*</td>\n",
              "      <td>計</td>\n",
              "      <td>924,199</td>\n",
              "    </tr>\n",
              "    <tr>\n",
              "      <th>19</th>\n",
              "      <td>福島県*</td>\n",
              "      <td>計</td>\n",
              "      <td>1,595,503</td>\n",
              "    </tr>\n",
              "    <tr>\n",
              "      <th>22</th>\n",
              "      <td>茨城県</td>\n",
              "      <td>計</td>\n",
              "      <td>2,443,898</td>\n",
              "    </tr>\n",
              "    <tr>\n",
              "      <th>25</th>\n",
              "      <td>栃木県*</td>\n",
              "      <td>計</td>\n",
              "      <td>1,642,620</td>\n",
              "    </tr>\n",
              "    <tr>\n",
              "      <th>28</th>\n",
              "      <td>群馬県*</td>\n",
              "      <td>計</td>\n",
              "      <td>1,646,104</td>\n",
              "    </tr>\n",
              "    <tr>\n",
              "      <th>31</th>\n",
              "      <td>埼玉県*</td>\n",
              "      <td>計</td>\n",
              "      <td>6,096,407</td>\n",
              "    </tr>\n",
              "    <tr>\n",
              "      <th>34</th>\n",
              "      <td>千葉県*</td>\n",
              "      <td>計</td>\n",
              "      <td>5,231,131</td>\n",
              "    </tr>\n",
              "    <tr>\n",
              "      <th>37</th>\n",
              "      <td>東京都*</td>\n",
              "      <td>計</td>\n",
              "      <td>11,493,560</td>\n",
              "    </tr>\n",
              "    <tr>\n",
              "      <th>40</th>\n",
              "      <td>神奈川県*</td>\n",
              "      <td>計</td>\n",
              "      <td>7,601,252</td>\n",
              "    </tr>\n",
              "    <tr>\n",
              "      <th>43</th>\n",
              "      <td>新潟県*</td>\n",
              "      <td>計</td>\n",
              "      <td>1,907,772</td>\n",
              "    </tr>\n",
              "    <tr>\n",
              "      <th>46</th>\n",
              "      <td>富山県*</td>\n",
              "      <td>計</td>\n",
              "      <td>893,015</td>\n",
              "    </tr>\n",
              "    <tr>\n",
              "      <th>49</th>\n",
              "      <td>石川県*</td>\n",
              "      <td>計</td>\n",
              "      <td>946,198</td>\n",
              "    </tr>\n",
              "    <tr>\n",
              "      <th>52</th>\n",
              "      <td>福井県*</td>\n",
              "      <td>計</td>\n",
              "      <td>648,910</td>\n",
              "    </tr>\n",
              "    <tr>\n",
              "      <th>55</th>\n",
              "      <td>山梨県*</td>\n",
              "      <td>計</td>\n",
              "      <td>696,023</td>\n",
              "    </tr>\n",
              "    <tr>\n",
              "      <th>58</th>\n",
              "      <td>長野県*</td>\n",
              "      <td>計</td>\n",
              "      <td>1,746,050</td>\n",
              "    </tr>\n",
              "    <tr>\n",
              "      <th>61</th>\n",
              "      <td>岐阜県*</td>\n",
              "      <td>計</td>\n",
              "      <td>1,687,256</td>\n",
              "    </tr>\n",
              "    <tr>\n",
              "      <th>64</th>\n",
              "      <td>静岡県*</td>\n",
              "      <td>計</td>\n",
              "      <td>3,093,014</td>\n",
              "    </tr>\n",
              "    <tr>\n",
              "      <th>67</th>\n",
              "      <td>愛知県*</td>\n",
              "      <td>計</td>\n",
              "      <td>6,145,895</td>\n",
              "    </tr>\n",
              "    <tr>\n",
              "      <th>70</th>\n",
              "      <td>三重県*</td>\n",
              "      <td>計</td>\n",
              "      <td>1,512,253</td>\n",
              "    </tr>\n",
              "    <tr>\n",
              "      <th>73</th>\n",
              "      <td>滋賀県*</td>\n",
              "      <td>計</td>\n",
              "      <td>1,142,334</td>\n",
              "    </tr>\n",
              "    <tr>\n",
              "      <th>76</th>\n",
              "      <td>京都府*</td>\n",
              "      <td>計</td>\n",
              "      <td>2,126,007</td>\n",
              "    </tr>\n",
              "    <tr>\n",
              "      <th>79</th>\n",
              "      <td>大阪府*</td>\n",
              "      <td>計</td>\n",
              "      <td>7,330,851</td>\n",
              "    </tr>\n",
              "    <tr>\n",
              "      <th>82</th>\n",
              "      <td>兵庫県*</td>\n",
              "      <td>計</td>\n",
              "      <td>4,598,876</td>\n",
              "    </tr>\n",
              "    <tr>\n",
              "      <th>85</th>\n",
              "      <td>奈良県*</td>\n",
              "      <td>計</td>\n",
              "      <td>1,136,450</td>\n",
              "    </tr>\n",
              "    <tr>\n",
              "      <th>88</th>\n",
              "      <td>和歌山県*</td>\n",
              "      <td>計</td>\n",
              "      <td>813,891</td>\n",
              "    </tr>\n",
              "    <tr>\n",
              "      <th>91</th>\n",
              "      <td>鳥取県*</td>\n",
              "      <td>計</td>\n",
              "      <td>470,863</td>\n",
              "    </tr>\n",
              "    <tr>\n",
              "      <th>94</th>\n",
              "      <td>島根県*</td>\n",
              "      <td>計</td>\n",
              "      <td>572,561</td>\n",
              "    </tr>\n",
              "    <tr>\n",
              "      <th>97</th>\n",
              "      <td>岡山県*</td>\n",
              "      <td>計</td>\n",
              "      <td>1,576,199</td>\n",
              "    </tr>\n",
              "    <tr>\n",
              "      <th>100</th>\n",
              "      <td>広島県*</td>\n",
              "      <td>計</td>\n",
              "      <td>2,339,501</td>\n",
              "    </tr>\n",
              "    <tr>\n",
              "      <th>103</th>\n",
              "      <td>山口県*</td>\n",
              "      <td>計</td>\n",
              "      <td>1,165,183</td>\n",
              "    </tr>\n",
              "    <tr>\n",
              "      <th>106</th>\n",
              "      <td>徳島県*</td>\n",
              "      <td>計</td>\n",
              "      <td>634,532</td>\n",
              "    </tr>\n",
              "    <tr>\n",
              "      <th>109</th>\n",
              "      <td>香川県*</td>\n",
              "      <td>計</td>\n",
              "      <td>819,653</td>\n",
              "    </tr>\n",
              "    <tr>\n",
              "      <th>112</th>\n",
              "      <td>愛媛県*</td>\n",
              "      <td>計</td>\n",
              "      <td>1,160,477</td>\n",
              "    </tr>\n",
              "    <tr>\n",
              "      <th>115</th>\n",
              "      <td>高知県*</td>\n",
              "      <td>計</td>\n",
              "      <td>609,848</td>\n",
              "    </tr>\n",
              "    <tr>\n",
              "      <th>118</th>\n",
              "      <td>福岡県*</td>\n",
              "      <td>計</td>\n",
              "      <td>4,194,243</td>\n",
              "    </tr>\n",
              "    <tr>\n",
              "      <th>121</th>\n",
              "      <td>佐賀県*</td>\n",
              "      <td>計</td>\n",
              "      <td>675,917</td>\n",
              "    </tr>\n",
              "    <tr>\n",
              "      <th>124</th>\n",
              "      <td>長崎県*</td>\n",
              "      <td>計</td>\n",
              "      <td>1,136,351</td>\n",
              "    </tr>\n",
              "    <tr>\n",
              "      <th>127</th>\n",
              "      <td>熊本県*</td>\n",
              "      <td>計</td>\n",
              "      <td>1,463,363</td>\n",
              "    </tr>\n",
              "    <tr>\n",
              "      <th>130</th>\n",
              "      <td>大分県*</td>\n",
              "      <td>計</td>\n",
              "      <td>968,502</td>\n",
              "    </tr>\n",
              "    <tr>\n",
              "      <th>133</th>\n",
              "      <td>宮崎県*</td>\n",
              "      <td>計</td>\n",
              "      <td>909,293</td>\n",
              "    </tr>\n",
              "    <tr>\n",
              "      <th>136</th>\n",
              "      <td>鹿児島県*</td>\n",
              "      <td>計</td>\n",
              "      <td>1,355,120</td>\n",
              "    </tr>\n",
              "    <tr>\n",
              "      <th>139</th>\n",
              "      <td>沖縄県*</td>\n",
              "      <td>計</td>\n",
              "      <td>1,135,115</td>\n",
              "    </tr>\n",
              "  </tbody>\n",
              "</table>\n",
              "</div>"
            ],
            "text/plain": [
              "    prefecture 性別       adult\n",
              "1         北海道*  計   4,509,363\n",
              "4         青森県*  計   1,103,183\n",
              "7         岩手県*  計   1,059,293\n",
              "10        宮城県*  計   1,915,548\n",
              "13        秋田県*  計     868,937\n",
              "16        山形県*  計     924,199\n",
              "19        福島県*  計   1,595,503\n",
              "22         茨城県  計   2,443,898\n",
              "25        栃木県*  計   1,642,620\n",
              "28        群馬県*  計   1,646,104\n",
              "31        埼玉県*  計   6,096,407\n",
              "34        千葉県*  計   5,231,131\n",
              "37        東京都*  計  11,493,560\n",
              "40       神奈川県*  計   7,601,252\n",
              "43        新潟県*  計   1,907,772\n",
              "46        富山県*  計     893,015\n",
              "49        石川県*  計     946,198\n",
              "52        福井県*  計     648,910\n",
              "55        山梨県*  計     696,023\n",
              "58        長野県*  計   1,746,050\n",
              "61        岐阜県*  計   1,687,256\n",
              "64        静岡県*  計   3,093,014\n",
              "67        愛知県*  計   6,145,895\n",
              "70        三重県*  計   1,512,253\n",
              "73        滋賀県*  計   1,142,334\n",
              "76        京都府*  計   2,126,007\n",
              "79        大阪府*  計   7,330,851\n",
              "82        兵庫県*  計   4,598,876\n",
              "85        奈良県*  計   1,136,450\n",
              "88       和歌山県*  計     813,891\n",
              "91        鳥取県*  計     470,863\n",
              "94        島根県*  計     572,561\n",
              "97        岡山県*  計   1,576,199\n",
              "100       広島県*  計   2,339,501\n",
              "103       山口県*  計   1,165,183\n",
              "106       徳島県*  計     634,532\n",
              "109       香川県*  計     819,653\n",
              "112       愛媛県*  計   1,160,477\n",
              "115       高知県*  計     609,848\n",
              "118       福岡県*  計   4,194,243\n",
              "121       佐賀県*  計     675,917\n",
              "124       長崎県*  計   1,136,351\n",
              "127       熊本県*  計   1,463,363\n",
              "130       大分県*  計     968,502\n",
              "133       宮崎県*  計     909,293\n",
              "136      鹿児島県*  計   1,355,120\n",
              "139       沖縄県*  計   1,135,115"
            ]
          },
          "metadata": {
            "tags": []
          },
          "execution_count": 34
        }
      ]
    },
    {
      "cell_type": "markdown",
      "metadata": {
        "id": "SAYgllAdE4Kj"
      },
      "source": [
        "性別が\"計\"であるデータのみを取り出せました。  \n",
        "取り出せましたが、インデックスが元のままになっているので、インデックスを振りなおします。"
      ]
    },
    {
      "cell_type": "markdown",
      "metadata": {
        "id": "RBMtCyWnE4Kj"
      },
      "source": [
        "もとのインデックスを削除してインデックスを振りなおす。  \n",
        "df.reset_index(drop=True)"
      ]
    },
    {
      "cell_type": "code",
      "metadata": {
        "colab": {
          "base_uri": "https://localhost:8080/",
          "height": 1000
        },
        "id": "CcOTlHEXE4Kk",
        "outputId": "9c97ce7f-077a-442b-fcc2-59caedfe821f"
      },
      "source": [
        "df_adult4=df_adult4.reset_index(drop=True)\n",
        "df_adult4"
      ],
      "execution_count": 35,
      "outputs": [
        {
          "output_type": "execute_result",
          "data": {
            "text/html": [
              "<div>\n",
              "<style scoped>\n",
              "    .dataframe tbody tr th:only-of-type {\n",
              "        vertical-align: middle;\n",
              "    }\n",
              "\n",
              "    .dataframe tbody tr th {\n",
              "        vertical-align: top;\n",
              "    }\n",
              "\n",
              "    .dataframe thead th {\n",
              "        text-align: right;\n",
              "    }\n",
              "</style>\n",
              "<table border=\"1\" class=\"dataframe\">\n",
              "  <thead>\n",
              "    <tr style=\"text-align: right;\">\n",
              "      <th></th>\n",
              "      <th>prefecture</th>\n",
              "      <th>性別</th>\n",
              "      <th>adult</th>\n",
              "    </tr>\n",
              "  </thead>\n",
              "  <tbody>\n",
              "    <tr>\n",
              "      <th>0</th>\n",
              "      <td>北海道*</td>\n",
              "      <td>計</td>\n",
              "      <td>4,509,363</td>\n",
              "    </tr>\n",
              "    <tr>\n",
              "      <th>1</th>\n",
              "      <td>青森県*</td>\n",
              "      <td>計</td>\n",
              "      <td>1,103,183</td>\n",
              "    </tr>\n",
              "    <tr>\n",
              "      <th>2</th>\n",
              "      <td>岩手県*</td>\n",
              "      <td>計</td>\n",
              "      <td>1,059,293</td>\n",
              "    </tr>\n",
              "    <tr>\n",
              "      <th>3</th>\n",
              "      <td>宮城県*</td>\n",
              "      <td>計</td>\n",
              "      <td>1,915,548</td>\n",
              "    </tr>\n",
              "    <tr>\n",
              "      <th>4</th>\n",
              "      <td>秋田県*</td>\n",
              "      <td>計</td>\n",
              "      <td>868,937</td>\n",
              "    </tr>\n",
              "    <tr>\n",
              "      <th>5</th>\n",
              "      <td>山形県*</td>\n",
              "      <td>計</td>\n",
              "      <td>924,199</td>\n",
              "    </tr>\n",
              "    <tr>\n",
              "      <th>6</th>\n",
              "      <td>福島県*</td>\n",
              "      <td>計</td>\n",
              "      <td>1,595,503</td>\n",
              "    </tr>\n",
              "    <tr>\n",
              "      <th>7</th>\n",
              "      <td>茨城県</td>\n",
              "      <td>計</td>\n",
              "      <td>2,443,898</td>\n",
              "    </tr>\n",
              "    <tr>\n",
              "      <th>8</th>\n",
              "      <td>栃木県*</td>\n",
              "      <td>計</td>\n",
              "      <td>1,642,620</td>\n",
              "    </tr>\n",
              "    <tr>\n",
              "      <th>9</th>\n",
              "      <td>群馬県*</td>\n",
              "      <td>計</td>\n",
              "      <td>1,646,104</td>\n",
              "    </tr>\n",
              "    <tr>\n",
              "      <th>10</th>\n",
              "      <td>埼玉県*</td>\n",
              "      <td>計</td>\n",
              "      <td>6,096,407</td>\n",
              "    </tr>\n",
              "    <tr>\n",
              "      <th>11</th>\n",
              "      <td>千葉県*</td>\n",
              "      <td>計</td>\n",
              "      <td>5,231,131</td>\n",
              "    </tr>\n",
              "    <tr>\n",
              "      <th>12</th>\n",
              "      <td>東京都*</td>\n",
              "      <td>計</td>\n",
              "      <td>11,493,560</td>\n",
              "    </tr>\n",
              "    <tr>\n",
              "      <th>13</th>\n",
              "      <td>神奈川県*</td>\n",
              "      <td>計</td>\n",
              "      <td>7,601,252</td>\n",
              "    </tr>\n",
              "    <tr>\n",
              "      <th>14</th>\n",
              "      <td>新潟県*</td>\n",
              "      <td>計</td>\n",
              "      <td>1,907,772</td>\n",
              "    </tr>\n",
              "    <tr>\n",
              "      <th>15</th>\n",
              "      <td>富山県*</td>\n",
              "      <td>計</td>\n",
              "      <td>893,015</td>\n",
              "    </tr>\n",
              "    <tr>\n",
              "      <th>16</th>\n",
              "      <td>石川県*</td>\n",
              "      <td>計</td>\n",
              "      <td>946,198</td>\n",
              "    </tr>\n",
              "    <tr>\n",
              "      <th>17</th>\n",
              "      <td>福井県*</td>\n",
              "      <td>計</td>\n",
              "      <td>648,910</td>\n",
              "    </tr>\n",
              "    <tr>\n",
              "      <th>18</th>\n",
              "      <td>山梨県*</td>\n",
              "      <td>計</td>\n",
              "      <td>696,023</td>\n",
              "    </tr>\n",
              "    <tr>\n",
              "      <th>19</th>\n",
              "      <td>長野県*</td>\n",
              "      <td>計</td>\n",
              "      <td>1,746,050</td>\n",
              "    </tr>\n",
              "    <tr>\n",
              "      <th>20</th>\n",
              "      <td>岐阜県*</td>\n",
              "      <td>計</td>\n",
              "      <td>1,687,256</td>\n",
              "    </tr>\n",
              "    <tr>\n",
              "      <th>21</th>\n",
              "      <td>静岡県*</td>\n",
              "      <td>計</td>\n",
              "      <td>3,093,014</td>\n",
              "    </tr>\n",
              "    <tr>\n",
              "      <th>22</th>\n",
              "      <td>愛知県*</td>\n",
              "      <td>計</td>\n",
              "      <td>6,145,895</td>\n",
              "    </tr>\n",
              "    <tr>\n",
              "      <th>23</th>\n",
              "      <td>三重県*</td>\n",
              "      <td>計</td>\n",
              "      <td>1,512,253</td>\n",
              "    </tr>\n",
              "    <tr>\n",
              "      <th>24</th>\n",
              "      <td>滋賀県*</td>\n",
              "      <td>計</td>\n",
              "      <td>1,142,334</td>\n",
              "    </tr>\n",
              "    <tr>\n",
              "      <th>25</th>\n",
              "      <td>京都府*</td>\n",
              "      <td>計</td>\n",
              "      <td>2,126,007</td>\n",
              "    </tr>\n",
              "    <tr>\n",
              "      <th>26</th>\n",
              "      <td>大阪府*</td>\n",
              "      <td>計</td>\n",
              "      <td>7,330,851</td>\n",
              "    </tr>\n",
              "    <tr>\n",
              "      <th>27</th>\n",
              "      <td>兵庫県*</td>\n",
              "      <td>計</td>\n",
              "      <td>4,598,876</td>\n",
              "    </tr>\n",
              "    <tr>\n",
              "      <th>28</th>\n",
              "      <td>奈良県*</td>\n",
              "      <td>計</td>\n",
              "      <td>1,136,450</td>\n",
              "    </tr>\n",
              "    <tr>\n",
              "      <th>29</th>\n",
              "      <td>和歌山県*</td>\n",
              "      <td>計</td>\n",
              "      <td>813,891</td>\n",
              "    </tr>\n",
              "    <tr>\n",
              "      <th>30</th>\n",
              "      <td>鳥取県*</td>\n",
              "      <td>計</td>\n",
              "      <td>470,863</td>\n",
              "    </tr>\n",
              "    <tr>\n",
              "      <th>31</th>\n",
              "      <td>島根県*</td>\n",
              "      <td>計</td>\n",
              "      <td>572,561</td>\n",
              "    </tr>\n",
              "    <tr>\n",
              "      <th>32</th>\n",
              "      <td>岡山県*</td>\n",
              "      <td>計</td>\n",
              "      <td>1,576,199</td>\n",
              "    </tr>\n",
              "    <tr>\n",
              "      <th>33</th>\n",
              "      <td>広島県*</td>\n",
              "      <td>計</td>\n",
              "      <td>2,339,501</td>\n",
              "    </tr>\n",
              "    <tr>\n",
              "      <th>34</th>\n",
              "      <td>山口県*</td>\n",
              "      <td>計</td>\n",
              "      <td>1,165,183</td>\n",
              "    </tr>\n",
              "    <tr>\n",
              "      <th>35</th>\n",
              "      <td>徳島県*</td>\n",
              "      <td>計</td>\n",
              "      <td>634,532</td>\n",
              "    </tr>\n",
              "    <tr>\n",
              "      <th>36</th>\n",
              "      <td>香川県*</td>\n",
              "      <td>計</td>\n",
              "      <td>819,653</td>\n",
              "    </tr>\n",
              "    <tr>\n",
              "      <th>37</th>\n",
              "      <td>愛媛県*</td>\n",
              "      <td>計</td>\n",
              "      <td>1,160,477</td>\n",
              "    </tr>\n",
              "    <tr>\n",
              "      <th>38</th>\n",
              "      <td>高知県*</td>\n",
              "      <td>計</td>\n",
              "      <td>609,848</td>\n",
              "    </tr>\n",
              "    <tr>\n",
              "      <th>39</th>\n",
              "      <td>福岡県*</td>\n",
              "      <td>計</td>\n",
              "      <td>4,194,243</td>\n",
              "    </tr>\n",
              "    <tr>\n",
              "      <th>40</th>\n",
              "      <td>佐賀県*</td>\n",
              "      <td>計</td>\n",
              "      <td>675,917</td>\n",
              "    </tr>\n",
              "    <tr>\n",
              "      <th>41</th>\n",
              "      <td>長崎県*</td>\n",
              "      <td>計</td>\n",
              "      <td>1,136,351</td>\n",
              "    </tr>\n",
              "    <tr>\n",
              "      <th>42</th>\n",
              "      <td>熊本県*</td>\n",
              "      <td>計</td>\n",
              "      <td>1,463,363</td>\n",
              "    </tr>\n",
              "    <tr>\n",
              "      <th>43</th>\n",
              "      <td>大分県*</td>\n",
              "      <td>計</td>\n",
              "      <td>968,502</td>\n",
              "    </tr>\n",
              "    <tr>\n",
              "      <th>44</th>\n",
              "      <td>宮崎県*</td>\n",
              "      <td>計</td>\n",
              "      <td>909,293</td>\n",
              "    </tr>\n",
              "    <tr>\n",
              "      <th>45</th>\n",
              "      <td>鹿児島県*</td>\n",
              "      <td>計</td>\n",
              "      <td>1,355,120</td>\n",
              "    </tr>\n",
              "    <tr>\n",
              "      <th>46</th>\n",
              "      <td>沖縄県*</td>\n",
              "      <td>計</td>\n",
              "      <td>1,135,115</td>\n",
              "    </tr>\n",
              "  </tbody>\n",
              "</table>\n",
              "</div>"
            ],
            "text/plain": [
              "   prefecture 性別       adult\n",
              "0        北海道*  計   4,509,363\n",
              "1        青森県*  計   1,103,183\n",
              "2        岩手県*  計   1,059,293\n",
              "3        宮城県*  計   1,915,548\n",
              "4        秋田県*  計     868,937\n",
              "5        山形県*  計     924,199\n",
              "6        福島県*  計   1,595,503\n",
              "7         茨城県  計   2,443,898\n",
              "8        栃木県*  計   1,642,620\n",
              "9        群馬県*  計   1,646,104\n",
              "10       埼玉県*  計   6,096,407\n",
              "11       千葉県*  計   5,231,131\n",
              "12       東京都*  計  11,493,560\n",
              "13      神奈川県*  計   7,601,252\n",
              "14       新潟県*  計   1,907,772\n",
              "15       富山県*  計     893,015\n",
              "16       石川県*  計     946,198\n",
              "17       福井県*  計     648,910\n",
              "18       山梨県*  計     696,023\n",
              "19       長野県*  計   1,746,050\n",
              "20       岐阜県*  計   1,687,256\n",
              "21       静岡県*  計   3,093,014\n",
              "22       愛知県*  計   6,145,895\n",
              "23       三重県*  計   1,512,253\n",
              "24       滋賀県*  計   1,142,334\n",
              "25       京都府*  計   2,126,007\n",
              "26       大阪府*  計   7,330,851\n",
              "27       兵庫県*  計   4,598,876\n",
              "28       奈良県*  計   1,136,450\n",
              "29      和歌山県*  計     813,891\n",
              "30       鳥取県*  計     470,863\n",
              "31       島根県*  計     572,561\n",
              "32       岡山県*  計   1,576,199\n",
              "33       広島県*  計   2,339,501\n",
              "34       山口県*  計   1,165,183\n",
              "35       徳島県*  計     634,532\n",
              "36       香川県*  計     819,653\n",
              "37       愛媛県*  計   1,160,477\n",
              "38       高知県*  計     609,848\n",
              "39       福岡県*  計   4,194,243\n",
              "40       佐賀県*  計     675,917\n",
              "41       長崎県*  計   1,136,351\n",
              "42       熊本県*  計   1,463,363\n",
              "43       大分県*  計     968,502\n",
              "44       宮崎県*  計     909,293\n",
              "45      鹿児島県*  計   1,355,120\n",
              "46       沖縄県*  計   1,135,115"
            ]
          },
          "metadata": {
            "tags": []
          },
          "execution_count": 35
        }
      ]
    },
    {
      "cell_type": "markdown",
      "metadata": {
        "id": "CvmWqwwgE4Kk"
      },
      "source": [
        "#dropを使わず、三行ごとに取り出しても良い\n",
        "df[::3]"
      ]
    },
    {
      "cell_type": "markdown",
      "metadata": {
        "id": "zwo3g20eE4Kl"
      },
      "source": [
        "**その7** **文字列を削除してみよう！**<a id='sec7_7'></a>  \n",
        "[先頭に戻る](#top)"
      ]
    },
    {
      "cell_type": "markdown",
      "metadata": {
        "id": "WDg4q4uNE4Kl"
      },
      "source": [
        "次に、県名の表記を統一します。現在は語尾にアスタリスクが付いているので、先ずこれが不要です。さらに、今回は他のデータが都道府県名に県が付いていないので、県が付いていない都道府県名で統一します。よって、語尾のに文字を取り除けばよいことがわかります。"
      ]
    },
    {
      "cell_type": "code",
      "metadata": {
        "colab": {
          "base_uri": "https://localhost:8080/",
          "height": 1000
        },
        "id": "MY6zz5SYE4Kl",
        "outputId": "df294c15-857c-4954-9b5a-5fc4e07c4de6"
      },
      "source": [
        "#次に、県名の表記を統一する。\n",
        "df_adult4[\"prefecture\"] = df_adult4[\"prefecture\"].str[:-2]\n",
        "df_adult4"
      ],
      "execution_count": 36,
      "outputs": [
        {
          "output_type": "execute_result",
          "data": {
            "text/html": [
              "<div>\n",
              "<style scoped>\n",
              "    .dataframe tbody tr th:only-of-type {\n",
              "        vertical-align: middle;\n",
              "    }\n",
              "\n",
              "    .dataframe tbody tr th {\n",
              "        vertical-align: top;\n",
              "    }\n",
              "\n",
              "    .dataframe thead th {\n",
              "        text-align: right;\n",
              "    }\n",
              "</style>\n",
              "<table border=\"1\" class=\"dataframe\">\n",
              "  <thead>\n",
              "    <tr style=\"text-align: right;\">\n",
              "      <th></th>\n",
              "      <th>prefecture</th>\n",
              "      <th>性別</th>\n",
              "      <th>adult</th>\n",
              "    </tr>\n",
              "  </thead>\n",
              "  <tbody>\n",
              "    <tr>\n",
              "      <th>0</th>\n",
              "      <td>北海</td>\n",
              "      <td>計</td>\n",
              "      <td>4,509,363</td>\n",
              "    </tr>\n",
              "    <tr>\n",
              "      <th>1</th>\n",
              "      <td>青森</td>\n",
              "      <td>計</td>\n",
              "      <td>1,103,183</td>\n",
              "    </tr>\n",
              "    <tr>\n",
              "      <th>2</th>\n",
              "      <td>岩手</td>\n",
              "      <td>計</td>\n",
              "      <td>1,059,293</td>\n",
              "    </tr>\n",
              "    <tr>\n",
              "      <th>3</th>\n",
              "      <td>宮城</td>\n",
              "      <td>計</td>\n",
              "      <td>1,915,548</td>\n",
              "    </tr>\n",
              "    <tr>\n",
              "      <th>4</th>\n",
              "      <td>秋田</td>\n",
              "      <td>計</td>\n",
              "      <td>868,937</td>\n",
              "    </tr>\n",
              "    <tr>\n",
              "      <th>5</th>\n",
              "      <td>山形</td>\n",
              "      <td>計</td>\n",
              "      <td>924,199</td>\n",
              "    </tr>\n",
              "    <tr>\n",
              "      <th>6</th>\n",
              "      <td>福島</td>\n",
              "      <td>計</td>\n",
              "      <td>1,595,503</td>\n",
              "    </tr>\n",
              "    <tr>\n",
              "      <th>7</th>\n",
              "      <td>茨</td>\n",
              "      <td>計</td>\n",
              "      <td>2,443,898</td>\n",
              "    </tr>\n",
              "    <tr>\n",
              "      <th>8</th>\n",
              "      <td>栃木</td>\n",
              "      <td>計</td>\n",
              "      <td>1,642,620</td>\n",
              "    </tr>\n",
              "    <tr>\n",
              "      <th>9</th>\n",
              "      <td>群馬</td>\n",
              "      <td>計</td>\n",
              "      <td>1,646,104</td>\n",
              "    </tr>\n",
              "    <tr>\n",
              "      <th>10</th>\n",
              "      <td>埼玉</td>\n",
              "      <td>計</td>\n",
              "      <td>6,096,407</td>\n",
              "    </tr>\n",
              "    <tr>\n",
              "      <th>11</th>\n",
              "      <td>千葉</td>\n",
              "      <td>計</td>\n",
              "      <td>5,231,131</td>\n",
              "    </tr>\n",
              "    <tr>\n",
              "      <th>12</th>\n",
              "      <td>東京</td>\n",
              "      <td>計</td>\n",
              "      <td>11,493,560</td>\n",
              "    </tr>\n",
              "    <tr>\n",
              "      <th>13</th>\n",
              "      <td>神奈川</td>\n",
              "      <td>計</td>\n",
              "      <td>7,601,252</td>\n",
              "    </tr>\n",
              "    <tr>\n",
              "      <th>14</th>\n",
              "      <td>新潟</td>\n",
              "      <td>計</td>\n",
              "      <td>1,907,772</td>\n",
              "    </tr>\n",
              "    <tr>\n",
              "      <th>15</th>\n",
              "      <td>富山</td>\n",
              "      <td>計</td>\n",
              "      <td>893,015</td>\n",
              "    </tr>\n",
              "    <tr>\n",
              "      <th>16</th>\n",
              "      <td>石川</td>\n",
              "      <td>計</td>\n",
              "      <td>946,198</td>\n",
              "    </tr>\n",
              "    <tr>\n",
              "      <th>17</th>\n",
              "      <td>福井</td>\n",
              "      <td>計</td>\n",
              "      <td>648,910</td>\n",
              "    </tr>\n",
              "    <tr>\n",
              "      <th>18</th>\n",
              "      <td>山梨</td>\n",
              "      <td>計</td>\n",
              "      <td>696,023</td>\n",
              "    </tr>\n",
              "    <tr>\n",
              "      <th>19</th>\n",
              "      <td>長野</td>\n",
              "      <td>計</td>\n",
              "      <td>1,746,050</td>\n",
              "    </tr>\n",
              "    <tr>\n",
              "      <th>20</th>\n",
              "      <td>岐阜</td>\n",
              "      <td>計</td>\n",
              "      <td>1,687,256</td>\n",
              "    </tr>\n",
              "    <tr>\n",
              "      <th>21</th>\n",
              "      <td>静岡</td>\n",
              "      <td>計</td>\n",
              "      <td>3,093,014</td>\n",
              "    </tr>\n",
              "    <tr>\n",
              "      <th>22</th>\n",
              "      <td>愛知</td>\n",
              "      <td>計</td>\n",
              "      <td>6,145,895</td>\n",
              "    </tr>\n",
              "    <tr>\n",
              "      <th>23</th>\n",
              "      <td>三重</td>\n",
              "      <td>計</td>\n",
              "      <td>1,512,253</td>\n",
              "    </tr>\n",
              "    <tr>\n",
              "      <th>24</th>\n",
              "      <td>滋賀</td>\n",
              "      <td>計</td>\n",
              "      <td>1,142,334</td>\n",
              "    </tr>\n",
              "    <tr>\n",
              "      <th>25</th>\n",
              "      <td>京都</td>\n",
              "      <td>計</td>\n",
              "      <td>2,126,007</td>\n",
              "    </tr>\n",
              "    <tr>\n",
              "      <th>26</th>\n",
              "      <td>大阪</td>\n",
              "      <td>計</td>\n",
              "      <td>7,330,851</td>\n",
              "    </tr>\n",
              "    <tr>\n",
              "      <th>27</th>\n",
              "      <td>兵庫</td>\n",
              "      <td>計</td>\n",
              "      <td>4,598,876</td>\n",
              "    </tr>\n",
              "    <tr>\n",
              "      <th>28</th>\n",
              "      <td>奈良</td>\n",
              "      <td>計</td>\n",
              "      <td>1,136,450</td>\n",
              "    </tr>\n",
              "    <tr>\n",
              "      <th>29</th>\n",
              "      <td>和歌山</td>\n",
              "      <td>計</td>\n",
              "      <td>813,891</td>\n",
              "    </tr>\n",
              "    <tr>\n",
              "      <th>30</th>\n",
              "      <td>鳥取</td>\n",
              "      <td>計</td>\n",
              "      <td>470,863</td>\n",
              "    </tr>\n",
              "    <tr>\n",
              "      <th>31</th>\n",
              "      <td>島根</td>\n",
              "      <td>計</td>\n",
              "      <td>572,561</td>\n",
              "    </tr>\n",
              "    <tr>\n",
              "      <th>32</th>\n",
              "      <td>岡山</td>\n",
              "      <td>計</td>\n",
              "      <td>1,576,199</td>\n",
              "    </tr>\n",
              "    <tr>\n",
              "      <th>33</th>\n",
              "      <td>広島</td>\n",
              "      <td>計</td>\n",
              "      <td>2,339,501</td>\n",
              "    </tr>\n",
              "    <tr>\n",
              "      <th>34</th>\n",
              "      <td>山口</td>\n",
              "      <td>計</td>\n",
              "      <td>1,165,183</td>\n",
              "    </tr>\n",
              "    <tr>\n",
              "      <th>35</th>\n",
              "      <td>徳島</td>\n",
              "      <td>計</td>\n",
              "      <td>634,532</td>\n",
              "    </tr>\n",
              "    <tr>\n",
              "      <th>36</th>\n",
              "      <td>香川</td>\n",
              "      <td>計</td>\n",
              "      <td>819,653</td>\n",
              "    </tr>\n",
              "    <tr>\n",
              "      <th>37</th>\n",
              "      <td>愛媛</td>\n",
              "      <td>計</td>\n",
              "      <td>1,160,477</td>\n",
              "    </tr>\n",
              "    <tr>\n",
              "      <th>38</th>\n",
              "      <td>高知</td>\n",
              "      <td>計</td>\n",
              "      <td>609,848</td>\n",
              "    </tr>\n",
              "    <tr>\n",
              "      <th>39</th>\n",
              "      <td>福岡</td>\n",
              "      <td>計</td>\n",
              "      <td>4,194,243</td>\n",
              "    </tr>\n",
              "    <tr>\n",
              "      <th>40</th>\n",
              "      <td>佐賀</td>\n",
              "      <td>計</td>\n",
              "      <td>675,917</td>\n",
              "    </tr>\n",
              "    <tr>\n",
              "      <th>41</th>\n",
              "      <td>長崎</td>\n",
              "      <td>計</td>\n",
              "      <td>1,136,351</td>\n",
              "    </tr>\n",
              "    <tr>\n",
              "      <th>42</th>\n",
              "      <td>熊本</td>\n",
              "      <td>計</td>\n",
              "      <td>1,463,363</td>\n",
              "    </tr>\n",
              "    <tr>\n",
              "      <th>43</th>\n",
              "      <td>大分</td>\n",
              "      <td>計</td>\n",
              "      <td>968,502</td>\n",
              "    </tr>\n",
              "    <tr>\n",
              "      <th>44</th>\n",
              "      <td>宮崎</td>\n",
              "      <td>計</td>\n",
              "      <td>909,293</td>\n",
              "    </tr>\n",
              "    <tr>\n",
              "      <th>45</th>\n",
              "      <td>鹿児島</td>\n",
              "      <td>計</td>\n",
              "      <td>1,355,120</td>\n",
              "    </tr>\n",
              "    <tr>\n",
              "      <th>46</th>\n",
              "      <td>沖縄</td>\n",
              "      <td>計</td>\n",
              "      <td>1,135,115</td>\n",
              "    </tr>\n",
              "  </tbody>\n",
              "</table>\n",
              "</div>"
            ],
            "text/plain": [
              "   prefecture 性別       adult\n",
              "0          北海  計   4,509,363\n",
              "1          青森  計   1,103,183\n",
              "2          岩手  計   1,059,293\n",
              "3          宮城  計   1,915,548\n",
              "4          秋田  計     868,937\n",
              "5          山形  計     924,199\n",
              "6          福島  計   1,595,503\n",
              "7           茨  計   2,443,898\n",
              "8          栃木  計   1,642,620\n",
              "9          群馬  計   1,646,104\n",
              "10         埼玉  計   6,096,407\n",
              "11         千葉  計   5,231,131\n",
              "12         東京  計  11,493,560\n",
              "13        神奈川  計   7,601,252\n",
              "14         新潟  計   1,907,772\n",
              "15         富山  計     893,015\n",
              "16         石川  計     946,198\n",
              "17         福井  計     648,910\n",
              "18         山梨  計     696,023\n",
              "19         長野  計   1,746,050\n",
              "20         岐阜  計   1,687,256\n",
              "21         静岡  計   3,093,014\n",
              "22         愛知  計   6,145,895\n",
              "23         三重  計   1,512,253\n",
              "24         滋賀  計   1,142,334\n",
              "25         京都  計   2,126,007\n",
              "26         大阪  計   7,330,851\n",
              "27         兵庫  計   4,598,876\n",
              "28         奈良  計   1,136,450\n",
              "29        和歌山  計     813,891\n",
              "30         鳥取  計     470,863\n",
              "31         島根  計     572,561\n",
              "32         岡山  計   1,576,199\n",
              "33         広島  計   2,339,501\n",
              "34         山口  計   1,165,183\n",
              "35         徳島  計     634,532\n",
              "36         香川  計     819,653\n",
              "37         愛媛  計   1,160,477\n",
              "38         高知  計     609,848\n",
              "39         福岡  計   4,194,243\n",
              "40         佐賀  計     675,917\n",
              "41         長崎  計   1,136,351\n",
              "42         熊本  計   1,463,363\n",
              "43         大分  計     968,502\n",
              "44         宮崎  計     909,293\n",
              "45        鹿児島  計   1,355,120\n",
              "46         沖縄  計   1,135,115"
            ]
          },
          "metadata": {
            "tags": []
          },
          "execution_count": 36
        }
      ]
    },
    {
      "cell_type": "markdown",
      "metadata": {
        "id": "AK0OWmvuE4Km"
      },
      "source": [
        "これを見ると\"北海道\"と\"茨城県\"の表記がおかしいことに気が付きます。この二県を修正します。"
      ]
    },
    {
      "cell_type": "markdown",
      "metadata": {
        "id": "GgOw0EOEE4Km"
      },
      "source": [
        "**その8** **文字列を変更してみよう！**<a id='sec7_8'></a>  \n",
        "[先頭に戻る](#top)"
      ]
    },
    {
      "cell_type": "markdown",
      "metadata": {
        "id": "MnWbBbN_E4Kn"
      },
      "source": [
        "カラムの要素を変更するには、  \n",
        "df.replace({\"元の名前\":\"新しい名前\"})  \n",
        "です。"
      ]
    },
    {
      "cell_type": "code",
      "metadata": {
        "id": "0IN7UnCgE4Kn",
        "outputId": "58b77b70-595e-4e20-f457-43116a892c3a"
      },
      "source": [
        "df_club = pd.DataFrame(data=[{'名前': \"佐藤\", '部活': \"野球\"},{'名前': \"西田\", '部活': \"サッカー\"}])\n",
        "df_club"
      ],
      "execution_count": null,
      "outputs": [
        {
          "output_type": "execute_result",
          "data": {
            "text/html": [
              "<div>\n",
              "<style scoped>\n",
              "    .dataframe tbody tr th:only-of-type {\n",
              "        vertical-align: middle;\n",
              "    }\n",
              "\n",
              "    .dataframe tbody tr th {\n",
              "        vertical-align: top;\n",
              "    }\n",
              "\n",
              "    .dataframe thead th {\n",
              "        text-align: right;\n",
              "    }\n",
              "</style>\n",
              "<table border=\"1\" class=\"dataframe\">\n",
              "  <thead>\n",
              "    <tr style=\"text-align: right;\">\n",
              "      <th></th>\n",
              "      <th>名前</th>\n",
              "      <th>部活</th>\n",
              "    </tr>\n",
              "  </thead>\n",
              "  <tbody>\n",
              "    <tr>\n",
              "      <th>0</th>\n",
              "      <td>佐藤</td>\n",
              "      <td>野球</td>\n",
              "    </tr>\n",
              "    <tr>\n",
              "      <th>1</th>\n",
              "      <td>西田</td>\n",
              "      <td>サッカー</td>\n",
              "    </tr>\n",
              "  </tbody>\n",
              "</table>\n",
              "</div>"
            ],
            "text/plain": [
              "   名前    部活\n",
              "0  佐藤    野球\n",
              "1  西田  サッカー"
            ]
          },
          "metadata": {
            "tags": []
          },
          "execution_count": 50
        }
      ]
    },
    {
      "cell_type": "markdown",
      "metadata": {
        "id": "Qbbi6Z7zE4Ko"
      },
      "source": [
        "例えば西田君がバレー部に転部したとき、下のように変更できます。ただし、すべての要素が変更されていることに注意です。"
      ]
    },
    {
      "cell_type": "code",
      "metadata": {
        "id": "S9pqsisbE4Ko",
        "outputId": "533c42d1-2e58-4f32-b938-1a377874c0ea"
      },
      "source": [
        "df_club.replace({'サッカー':'バレー'})"
      ],
      "execution_count": null,
      "outputs": [
        {
          "output_type": "execute_result",
          "data": {
            "text/html": [
              "<div>\n",
              "<style scoped>\n",
              "    .dataframe tbody tr th:only-of-type {\n",
              "        vertical-align: middle;\n",
              "    }\n",
              "\n",
              "    .dataframe tbody tr th {\n",
              "        vertical-align: top;\n",
              "    }\n",
              "\n",
              "    .dataframe thead th {\n",
              "        text-align: right;\n",
              "    }\n",
              "</style>\n",
              "<table border=\"1\" class=\"dataframe\">\n",
              "  <thead>\n",
              "    <tr style=\"text-align: right;\">\n",
              "      <th></th>\n",
              "      <th>名前</th>\n",
              "      <th>部活</th>\n",
              "    </tr>\n",
              "  </thead>\n",
              "  <tbody>\n",
              "    <tr>\n",
              "      <th>0</th>\n",
              "      <td>佐藤</td>\n",
              "      <td>野球</td>\n",
              "    </tr>\n",
              "    <tr>\n",
              "      <th>1</th>\n",
              "      <td>西田</td>\n",
              "      <td>バレー</td>\n",
              "    </tr>\n",
              "  </tbody>\n",
              "</table>\n",
              "</div>"
            ],
            "text/plain": [
              "   名前   部活\n",
              "0  佐藤   野球\n",
              "1  西田  バレー"
            ]
          },
          "metadata": {
            "tags": []
          },
          "execution_count": 52
        }
      ]
    },
    {
      "cell_type": "markdown",
      "metadata": {
        "id": "V0ImtPpBE4Ko"
      },
      "source": [
        "この例を用いて、おかしな県名の二県を変更してみましょう。  \n",
        "新しいデータフレーム名はdf_adult5です。"
      ]
    },
    {
      "cell_type": "code",
      "metadata": {
        "colab": {
          "base_uri": "https://localhost:8080/",
          "height": 1000
        },
        "id": "eGMW3yCKRZF4",
        "outputId": "ead11e4f-a2b3-41f2-a352-1e3253688a4a"
      },
      "source": [
        "df_adult5 = df_adult4.replace({\"茨\":\"茨城\",\"北海\":\"北海道\"})\n",
        "df_adult5"
      ],
      "execution_count": 38,
      "outputs": [
        {
          "output_type": "execute_result",
          "data": {
            "text/html": [
              "<div>\n",
              "<style scoped>\n",
              "    .dataframe tbody tr th:only-of-type {\n",
              "        vertical-align: middle;\n",
              "    }\n",
              "\n",
              "    .dataframe tbody tr th {\n",
              "        vertical-align: top;\n",
              "    }\n",
              "\n",
              "    .dataframe thead th {\n",
              "        text-align: right;\n",
              "    }\n",
              "</style>\n",
              "<table border=\"1\" class=\"dataframe\">\n",
              "  <thead>\n",
              "    <tr style=\"text-align: right;\">\n",
              "      <th></th>\n",
              "      <th>prefecture</th>\n",
              "      <th>性別</th>\n",
              "      <th>adult</th>\n",
              "    </tr>\n",
              "  </thead>\n",
              "  <tbody>\n",
              "    <tr>\n",
              "      <th>0</th>\n",
              "      <td>北海道</td>\n",
              "      <td>計</td>\n",
              "      <td>4,509,363</td>\n",
              "    </tr>\n",
              "    <tr>\n",
              "      <th>1</th>\n",
              "      <td>青森</td>\n",
              "      <td>計</td>\n",
              "      <td>1,103,183</td>\n",
              "    </tr>\n",
              "    <tr>\n",
              "      <th>2</th>\n",
              "      <td>岩手</td>\n",
              "      <td>計</td>\n",
              "      <td>1,059,293</td>\n",
              "    </tr>\n",
              "    <tr>\n",
              "      <th>3</th>\n",
              "      <td>宮城</td>\n",
              "      <td>計</td>\n",
              "      <td>1,915,548</td>\n",
              "    </tr>\n",
              "    <tr>\n",
              "      <th>4</th>\n",
              "      <td>秋田</td>\n",
              "      <td>計</td>\n",
              "      <td>868,937</td>\n",
              "    </tr>\n",
              "    <tr>\n",
              "      <th>5</th>\n",
              "      <td>山形</td>\n",
              "      <td>計</td>\n",
              "      <td>924,199</td>\n",
              "    </tr>\n",
              "    <tr>\n",
              "      <th>6</th>\n",
              "      <td>福島</td>\n",
              "      <td>計</td>\n",
              "      <td>1,595,503</td>\n",
              "    </tr>\n",
              "    <tr>\n",
              "      <th>7</th>\n",
              "      <td>茨城</td>\n",
              "      <td>計</td>\n",
              "      <td>2,443,898</td>\n",
              "    </tr>\n",
              "    <tr>\n",
              "      <th>8</th>\n",
              "      <td>栃木</td>\n",
              "      <td>計</td>\n",
              "      <td>1,642,620</td>\n",
              "    </tr>\n",
              "    <tr>\n",
              "      <th>9</th>\n",
              "      <td>群馬</td>\n",
              "      <td>計</td>\n",
              "      <td>1,646,104</td>\n",
              "    </tr>\n",
              "    <tr>\n",
              "      <th>10</th>\n",
              "      <td>埼玉</td>\n",
              "      <td>計</td>\n",
              "      <td>6,096,407</td>\n",
              "    </tr>\n",
              "    <tr>\n",
              "      <th>11</th>\n",
              "      <td>千葉</td>\n",
              "      <td>計</td>\n",
              "      <td>5,231,131</td>\n",
              "    </tr>\n",
              "    <tr>\n",
              "      <th>12</th>\n",
              "      <td>東京</td>\n",
              "      <td>計</td>\n",
              "      <td>11,493,560</td>\n",
              "    </tr>\n",
              "    <tr>\n",
              "      <th>13</th>\n",
              "      <td>神奈川</td>\n",
              "      <td>計</td>\n",
              "      <td>7,601,252</td>\n",
              "    </tr>\n",
              "    <tr>\n",
              "      <th>14</th>\n",
              "      <td>新潟</td>\n",
              "      <td>計</td>\n",
              "      <td>1,907,772</td>\n",
              "    </tr>\n",
              "    <tr>\n",
              "      <th>15</th>\n",
              "      <td>富山</td>\n",
              "      <td>計</td>\n",
              "      <td>893,015</td>\n",
              "    </tr>\n",
              "    <tr>\n",
              "      <th>16</th>\n",
              "      <td>石川</td>\n",
              "      <td>計</td>\n",
              "      <td>946,198</td>\n",
              "    </tr>\n",
              "    <tr>\n",
              "      <th>17</th>\n",
              "      <td>福井</td>\n",
              "      <td>計</td>\n",
              "      <td>648,910</td>\n",
              "    </tr>\n",
              "    <tr>\n",
              "      <th>18</th>\n",
              "      <td>山梨</td>\n",
              "      <td>計</td>\n",
              "      <td>696,023</td>\n",
              "    </tr>\n",
              "    <tr>\n",
              "      <th>19</th>\n",
              "      <td>長野</td>\n",
              "      <td>計</td>\n",
              "      <td>1,746,050</td>\n",
              "    </tr>\n",
              "    <tr>\n",
              "      <th>20</th>\n",
              "      <td>岐阜</td>\n",
              "      <td>計</td>\n",
              "      <td>1,687,256</td>\n",
              "    </tr>\n",
              "    <tr>\n",
              "      <th>21</th>\n",
              "      <td>静岡</td>\n",
              "      <td>計</td>\n",
              "      <td>3,093,014</td>\n",
              "    </tr>\n",
              "    <tr>\n",
              "      <th>22</th>\n",
              "      <td>愛知</td>\n",
              "      <td>計</td>\n",
              "      <td>6,145,895</td>\n",
              "    </tr>\n",
              "    <tr>\n",
              "      <th>23</th>\n",
              "      <td>三重</td>\n",
              "      <td>計</td>\n",
              "      <td>1,512,253</td>\n",
              "    </tr>\n",
              "    <tr>\n",
              "      <th>24</th>\n",
              "      <td>滋賀</td>\n",
              "      <td>計</td>\n",
              "      <td>1,142,334</td>\n",
              "    </tr>\n",
              "    <tr>\n",
              "      <th>25</th>\n",
              "      <td>京都</td>\n",
              "      <td>計</td>\n",
              "      <td>2,126,007</td>\n",
              "    </tr>\n",
              "    <tr>\n",
              "      <th>26</th>\n",
              "      <td>大阪</td>\n",
              "      <td>計</td>\n",
              "      <td>7,330,851</td>\n",
              "    </tr>\n",
              "    <tr>\n",
              "      <th>27</th>\n",
              "      <td>兵庫</td>\n",
              "      <td>計</td>\n",
              "      <td>4,598,876</td>\n",
              "    </tr>\n",
              "    <tr>\n",
              "      <th>28</th>\n",
              "      <td>奈良</td>\n",
              "      <td>計</td>\n",
              "      <td>1,136,450</td>\n",
              "    </tr>\n",
              "    <tr>\n",
              "      <th>29</th>\n",
              "      <td>和歌山</td>\n",
              "      <td>計</td>\n",
              "      <td>813,891</td>\n",
              "    </tr>\n",
              "    <tr>\n",
              "      <th>30</th>\n",
              "      <td>鳥取</td>\n",
              "      <td>計</td>\n",
              "      <td>470,863</td>\n",
              "    </tr>\n",
              "    <tr>\n",
              "      <th>31</th>\n",
              "      <td>島根</td>\n",
              "      <td>計</td>\n",
              "      <td>572,561</td>\n",
              "    </tr>\n",
              "    <tr>\n",
              "      <th>32</th>\n",
              "      <td>岡山</td>\n",
              "      <td>計</td>\n",
              "      <td>1,576,199</td>\n",
              "    </tr>\n",
              "    <tr>\n",
              "      <th>33</th>\n",
              "      <td>広島</td>\n",
              "      <td>計</td>\n",
              "      <td>2,339,501</td>\n",
              "    </tr>\n",
              "    <tr>\n",
              "      <th>34</th>\n",
              "      <td>山口</td>\n",
              "      <td>計</td>\n",
              "      <td>1,165,183</td>\n",
              "    </tr>\n",
              "    <tr>\n",
              "      <th>35</th>\n",
              "      <td>徳島</td>\n",
              "      <td>計</td>\n",
              "      <td>634,532</td>\n",
              "    </tr>\n",
              "    <tr>\n",
              "      <th>36</th>\n",
              "      <td>香川</td>\n",
              "      <td>計</td>\n",
              "      <td>819,653</td>\n",
              "    </tr>\n",
              "    <tr>\n",
              "      <th>37</th>\n",
              "      <td>愛媛</td>\n",
              "      <td>計</td>\n",
              "      <td>1,160,477</td>\n",
              "    </tr>\n",
              "    <tr>\n",
              "      <th>38</th>\n",
              "      <td>高知</td>\n",
              "      <td>計</td>\n",
              "      <td>609,848</td>\n",
              "    </tr>\n",
              "    <tr>\n",
              "      <th>39</th>\n",
              "      <td>福岡</td>\n",
              "      <td>計</td>\n",
              "      <td>4,194,243</td>\n",
              "    </tr>\n",
              "    <tr>\n",
              "      <th>40</th>\n",
              "      <td>佐賀</td>\n",
              "      <td>計</td>\n",
              "      <td>675,917</td>\n",
              "    </tr>\n",
              "    <tr>\n",
              "      <th>41</th>\n",
              "      <td>長崎</td>\n",
              "      <td>計</td>\n",
              "      <td>1,136,351</td>\n",
              "    </tr>\n",
              "    <tr>\n",
              "      <th>42</th>\n",
              "      <td>熊本</td>\n",
              "      <td>計</td>\n",
              "      <td>1,463,363</td>\n",
              "    </tr>\n",
              "    <tr>\n",
              "      <th>43</th>\n",
              "      <td>大分</td>\n",
              "      <td>計</td>\n",
              "      <td>968,502</td>\n",
              "    </tr>\n",
              "    <tr>\n",
              "      <th>44</th>\n",
              "      <td>宮崎</td>\n",
              "      <td>計</td>\n",
              "      <td>909,293</td>\n",
              "    </tr>\n",
              "    <tr>\n",
              "      <th>45</th>\n",
              "      <td>鹿児島</td>\n",
              "      <td>計</td>\n",
              "      <td>1,355,120</td>\n",
              "    </tr>\n",
              "    <tr>\n",
              "      <th>46</th>\n",
              "      <td>沖縄</td>\n",
              "      <td>計</td>\n",
              "      <td>1,135,115</td>\n",
              "    </tr>\n",
              "  </tbody>\n",
              "</table>\n",
              "</div>"
            ],
            "text/plain": [
              "   prefecture 性別       adult\n",
              "0         北海道  計   4,509,363\n",
              "1          青森  計   1,103,183\n",
              "2          岩手  計   1,059,293\n",
              "3          宮城  計   1,915,548\n",
              "4          秋田  計     868,937\n",
              "5          山形  計     924,199\n",
              "6          福島  計   1,595,503\n",
              "7          茨城  計   2,443,898\n",
              "8          栃木  計   1,642,620\n",
              "9          群馬  計   1,646,104\n",
              "10         埼玉  計   6,096,407\n",
              "11         千葉  計   5,231,131\n",
              "12         東京  計  11,493,560\n",
              "13        神奈川  計   7,601,252\n",
              "14         新潟  計   1,907,772\n",
              "15         富山  計     893,015\n",
              "16         石川  計     946,198\n",
              "17         福井  計     648,910\n",
              "18         山梨  計     696,023\n",
              "19         長野  計   1,746,050\n",
              "20         岐阜  計   1,687,256\n",
              "21         静岡  計   3,093,014\n",
              "22         愛知  計   6,145,895\n",
              "23         三重  計   1,512,253\n",
              "24         滋賀  計   1,142,334\n",
              "25         京都  計   2,126,007\n",
              "26         大阪  計   7,330,851\n",
              "27         兵庫  計   4,598,876\n",
              "28         奈良  計   1,136,450\n",
              "29        和歌山  計     813,891\n",
              "30         鳥取  計     470,863\n",
              "31         島根  計     572,561\n",
              "32         岡山  計   1,576,199\n",
              "33         広島  計   2,339,501\n",
              "34         山口  計   1,165,183\n",
              "35         徳島  計     634,532\n",
              "36         香川  計     819,653\n",
              "37         愛媛  計   1,160,477\n",
              "38         高知  計     609,848\n",
              "39         福岡  計   4,194,243\n",
              "40         佐賀  計     675,917\n",
              "41         長崎  計   1,136,351\n",
              "42         熊本  計   1,463,363\n",
              "43         大分  計     968,502\n",
              "44         宮崎  計     909,293\n",
              "45        鹿児島  計   1,355,120\n",
              "46         沖縄  計   1,135,115"
            ]
          },
          "metadata": {
            "tags": []
          },
          "execution_count": 38
        }
      ]
    },
    {
      "cell_type": "markdown",
      "metadata": {
        "id": "pr2gCKf0E4Kp"
      },
      "source": [
        "最後に性別カラムはもう不要ですので、これを取り除きます。"
      ]
    },
    {
      "cell_type": "markdown",
      "metadata": {
        "id": "oXl3Pn1YE4Kp"
      },
      "source": [
        "**その9** **行を削除してみよう！**<a id='sec7_9'></a>  \n",
        "[先頭に戻る](#top)"
      ]
    },
    {
      "cell_type": "code",
      "metadata": {
        "colab": {
          "base_uri": "https://localhost:8080/",
          "height": 197
        },
        "id": "dGUcEwojSI0G",
        "outputId": "bf534a5b-4880-4e36-b8cb-cb202cb729dd"
      },
      "source": [
        "df_adult5.head()"
      ],
      "execution_count": 39,
      "outputs": [
        {
          "output_type": "execute_result",
          "data": {
            "text/html": [
              "<div>\n",
              "<style scoped>\n",
              "    .dataframe tbody tr th:only-of-type {\n",
              "        vertical-align: middle;\n",
              "    }\n",
              "\n",
              "    .dataframe tbody tr th {\n",
              "        vertical-align: top;\n",
              "    }\n",
              "\n",
              "    .dataframe thead th {\n",
              "        text-align: right;\n",
              "    }\n",
              "</style>\n",
              "<table border=\"1\" class=\"dataframe\">\n",
              "  <thead>\n",
              "    <tr style=\"text-align: right;\">\n",
              "      <th></th>\n",
              "      <th>prefecture</th>\n",
              "      <th>性別</th>\n",
              "      <th>adult</th>\n",
              "    </tr>\n",
              "  </thead>\n",
              "  <tbody>\n",
              "    <tr>\n",
              "      <th>0</th>\n",
              "      <td>北海道</td>\n",
              "      <td>計</td>\n",
              "      <td>4,509,363</td>\n",
              "    </tr>\n",
              "    <tr>\n",
              "      <th>1</th>\n",
              "      <td>青森</td>\n",
              "      <td>計</td>\n",
              "      <td>1,103,183</td>\n",
              "    </tr>\n",
              "    <tr>\n",
              "      <th>2</th>\n",
              "      <td>岩手</td>\n",
              "      <td>計</td>\n",
              "      <td>1,059,293</td>\n",
              "    </tr>\n",
              "    <tr>\n",
              "      <th>3</th>\n",
              "      <td>宮城</td>\n",
              "      <td>計</td>\n",
              "      <td>1,915,548</td>\n",
              "    </tr>\n",
              "    <tr>\n",
              "      <th>4</th>\n",
              "      <td>秋田</td>\n",
              "      <td>計</td>\n",
              "      <td>868,937</td>\n",
              "    </tr>\n",
              "  </tbody>\n",
              "</table>\n",
              "</div>"
            ],
            "text/plain": [
              "  prefecture 性別      adult\n",
              "0        北海道  計  4,509,363\n",
              "1         青森  計  1,103,183\n",
              "2         岩手  計  1,059,293\n",
              "3         宮城  計  1,915,548\n",
              "4         秋田  計    868,937"
            ]
          },
          "metadata": {
            "tags": []
          },
          "execution_count": 39
        }
      ]
    },
    {
      "cell_type": "code",
      "metadata": {
        "colab": {
          "base_uri": "https://localhost:8080/",
          "height": 107
        },
        "id": "gtVb653lE4Kp",
        "outputId": "416186bc-f62d-48f1-ee78-ac7475fd048d"
      },
      "source": [
        "df_club"
      ],
      "execution_count": 40,
      "outputs": [
        {
          "output_type": "execute_result",
          "data": {
            "text/html": [
              "<div>\n",
              "<style scoped>\n",
              "    .dataframe tbody tr th:only-of-type {\n",
              "        vertical-align: middle;\n",
              "    }\n",
              "\n",
              "    .dataframe tbody tr th {\n",
              "        vertical-align: top;\n",
              "    }\n",
              "\n",
              "    .dataframe thead th {\n",
              "        text-align: right;\n",
              "    }\n",
              "</style>\n",
              "<table border=\"1\" class=\"dataframe\">\n",
              "  <thead>\n",
              "    <tr style=\"text-align: right;\">\n",
              "      <th></th>\n",
              "      <th>名前</th>\n",
              "      <th>部活</th>\n",
              "    </tr>\n",
              "  </thead>\n",
              "  <tbody>\n",
              "    <tr>\n",
              "      <th>0</th>\n",
              "      <td>佐藤</td>\n",
              "      <td>野球</td>\n",
              "    </tr>\n",
              "    <tr>\n",
              "      <th>1</th>\n",
              "      <td>西田</td>\n",
              "      <td>サッカー</td>\n",
              "    </tr>\n",
              "  </tbody>\n",
              "</table>\n",
              "</div>"
            ],
            "text/plain": [
              "   名前    部活\n",
              "0  佐藤    野球\n",
              "1  西田  サッカー"
            ]
          },
          "metadata": {
            "tags": []
          },
          "execution_count": 40
        }
      ]
    },
    {
      "cell_type": "code",
      "metadata": {
        "colab": {
          "base_uri": "https://localhost:8080/",
          "height": 107
        },
        "id": "eRKHIdNlE4Kq",
        "outputId": "7fbbaab9-9177-4ca9-96b9-7d3636774ff8"
      },
      "source": [
        "#部活カラムを削除する\n",
        "df_club.drop(columns=['部活'])"
      ],
      "execution_count": 41,
      "outputs": [
        {
          "output_type": "execute_result",
          "data": {
            "text/html": [
              "<div>\n",
              "<style scoped>\n",
              "    .dataframe tbody tr th:only-of-type {\n",
              "        vertical-align: middle;\n",
              "    }\n",
              "\n",
              "    .dataframe tbody tr th {\n",
              "        vertical-align: top;\n",
              "    }\n",
              "\n",
              "    .dataframe thead th {\n",
              "        text-align: right;\n",
              "    }\n",
              "</style>\n",
              "<table border=\"1\" class=\"dataframe\">\n",
              "  <thead>\n",
              "    <tr style=\"text-align: right;\">\n",
              "      <th></th>\n",
              "      <th>名前</th>\n",
              "    </tr>\n",
              "  </thead>\n",
              "  <tbody>\n",
              "    <tr>\n",
              "      <th>0</th>\n",
              "      <td>佐藤</td>\n",
              "    </tr>\n",
              "    <tr>\n",
              "      <th>1</th>\n",
              "      <td>西田</td>\n",
              "    </tr>\n",
              "  </tbody>\n",
              "</table>\n",
              "</div>"
            ],
            "text/plain": [
              "   名前\n",
              "0  佐藤\n",
              "1  西田"
            ]
          },
          "metadata": {
            "tags": []
          },
          "execution_count": 41
        }
      ]
    },
    {
      "cell_type": "markdown",
      "metadata": {
        "id": "vb1W2T-UE4Kq"
      },
      "source": [
        "同様に性別列を削除して、df_adult6と定義しましょう！"
      ]
    },
    {
      "cell_type": "code",
      "metadata": {
        "colab": {
          "base_uri": "https://localhost:8080/",
          "height": 1000
        },
        "id": "ARbDjPsUSWCH",
        "outputId": "2f86b253-7634-421a-b216-4bd67807df4b"
      },
      "source": [
        "df_adult6 = df_adult5.drop(columns=[\"性別\"])\n",
        "df_adult6"
      ],
      "execution_count": 42,
      "outputs": [
        {
          "output_type": "execute_result",
          "data": {
            "text/html": [
              "<div>\n",
              "<style scoped>\n",
              "    .dataframe tbody tr th:only-of-type {\n",
              "        vertical-align: middle;\n",
              "    }\n",
              "\n",
              "    .dataframe tbody tr th {\n",
              "        vertical-align: top;\n",
              "    }\n",
              "\n",
              "    .dataframe thead th {\n",
              "        text-align: right;\n",
              "    }\n",
              "</style>\n",
              "<table border=\"1\" class=\"dataframe\">\n",
              "  <thead>\n",
              "    <tr style=\"text-align: right;\">\n",
              "      <th></th>\n",
              "      <th>prefecture</th>\n",
              "      <th>adult</th>\n",
              "    </tr>\n",
              "  </thead>\n",
              "  <tbody>\n",
              "    <tr>\n",
              "      <th>0</th>\n",
              "      <td>北海道</td>\n",
              "      <td>4,509,363</td>\n",
              "    </tr>\n",
              "    <tr>\n",
              "      <th>1</th>\n",
              "      <td>青森</td>\n",
              "      <td>1,103,183</td>\n",
              "    </tr>\n",
              "    <tr>\n",
              "      <th>2</th>\n",
              "      <td>岩手</td>\n",
              "      <td>1,059,293</td>\n",
              "    </tr>\n",
              "    <tr>\n",
              "      <th>3</th>\n",
              "      <td>宮城</td>\n",
              "      <td>1,915,548</td>\n",
              "    </tr>\n",
              "    <tr>\n",
              "      <th>4</th>\n",
              "      <td>秋田</td>\n",
              "      <td>868,937</td>\n",
              "    </tr>\n",
              "    <tr>\n",
              "      <th>5</th>\n",
              "      <td>山形</td>\n",
              "      <td>924,199</td>\n",
              "    </tr>\n",
              "    <tr>\n",
              "      <th>6</th>\n",
              "      <td>福島</td>\n",
              "      <td>1,595,503</td>\n",
              "    </tr>\n",
              "    <tr>\n",
              "      <th>7</th>\n",
              "      <td>茨城</td>\n",
              "      <td>2,443,898</td>\n",
              "    </tr>\n",
              "    <tr>\n",
              "      <th>8</th>\n",
              "      <td>栃木</td>\n",
              "      <td>1,642,620</td>\n",
              "    </tr>\n",
              "    <tr>\n",
              "      <th>9</th>\n",
              "      <td>群馬</td>\n",
              "      <td>1,646,104</td>\n",
              "    </tr>\n",
              "    <tr>\n",
              "      <th>10</th>\n",
              "      <td>埼玉</td>\n",
              "      <td>6,096,407</td>\n",
              "    </tr>\n",
              "    <tr>\n",
              "      <th>11</th>\n",
              "      <td>千葉</td>\n",
              "      <td>5,231,131</td>\n",
              "    </tr>\n",
              "    <tr>\n",
              "      <th>12</th>\n",
              "      <td>東京</td>\n",
              "      <td>11,493,560</td>\n",
              "    </tr>\n",
              "    <tr>\n",
              "      <th>13</th>\n",
              "      <td>神奈川</td>\n",
              "      <td>7,601,252</td>\n",
              "    </tr>\n",
              "    <tr>\n",
              "      <th>14</th>\n",
              "      <td>新潟</td>\n",
              "      <td>1,907,772</td>\n",
              "    </tr>\n",
              "    <tr>\n",
              "      <th>15</th>\n",
              "      <td>富山</td>\n",
              "      <td>893,015</td>\n",
              "    </tr>\n",
              "    <tr>\n",
              "      <th>16</th>\n",
              "      <td>石川</td>\n",
              "      <td>946,198</td>\n",
              "    </tr>\n",
              "    <tr>\n",
              "      <th>17</th>\n",
              "      <td>福井</td>\n",
              "      <td>648,910</td>\n",
              "    </tr>\n",
              "    <tr>\n",
              "      <th>18</th>\n",
              "      <td>山梨</td>\n",
              "      <td>696,023</td>\n",
              "    </tr>\n",
              "    <tr>\n",
              "      <th>19</th>\n",
              "      <td>長野</td>\n",
              "      <td>1,746,050</td>\n",
              "    </tr>\n",
              "    <tr>\n",
              "      <th>20</th>\n",
              "      <td>岐阜</td>\n",
              "      <td>1,687,256</td>\n",
              "    </tr>\n",
              "    <tr>\n",
              "      <th>21</th>\n",
              "      <td>静岡</td>\n",
              "      <td>3,093,014</td>\n",
              "    </tr>\n",
              "    <tr>\n",
              "      <th>22</th>\n",
              "      <td>愛知</td>\n",
              "      <td>6,145,895</td>\n",
              "    </tr>\n",
              "    <tr>\n",
              "      <th>23</th>\n",
              "      <td>三重</td>\n",
              "      <td>1,512,253</td>\n",
              "    </tr>\n",
              "    <tr>\n",
              "      <th>24</th>\n",
              "      <td>滋賀</td>\n",
              "      <td>1,142,334</td>\n",
              "    </tr>\n",
              "    <tr>\n",
              "      <th>25</th>\n",
              "      <td>京都</td>\n",
              "      <td>2,126,007</td>\n",
              "    </tr>\n",
              "    <tr>\n",
              "      <th>26</th>\n",
              "      <td>大阪</td>\n",
              "      <td>7,330,851</td>\n",
              "    </tr>\n",
              "    <tr>\n",
              "      <th>27</th>\n",
              "      <td>兵庫</td>\n",
              "      <td>4,598,876</td>\n",
              "    </tr>\n",
              "    <tr>\n",
              "      <th>28</th>\n",
              "      <td>奈良</td>\n",
              "      <td>1,136,450</td>\n",
              "    </tr>\n",
              "    <tr>\n",
              "      <th>29</th>\n",
              "      <td>和歌山</td>\n",
              "      <td>813,891</td>\n",
              "    </tr>\n",
              "    <tr>\n",
              "      <th>30</th>\n",
              "      <td>鳥取</td>\n",
              "      <td>470,863</td>\n",
              "    </tr>\n",
              "    <tr>\n",
              "      <th>31</th>\n",
              "      <td>島根</td>\n",
              "      <td>572,561</td>\n",
              "    </tr>\n",
              "    <tr>\n",
              "      <th>32</th>\n",
              "      <td>岡山</td>\n",
              "      <td>1,576,199</td>\n",
              "    </tr>\n",
              "    <tr>\n",
              "      <th>33</th>\n",
              "      <td>広島</td>\n",
              "      <td>2,339,501</td>\n",
              "    </tr>\n",
              "    <tr>\n",
              "      <th>34</th>\n",
              "      <td>山口</td>\n",
              "      <td>1,165,183</td>\n",
              "    </tr>\n",
              "    <tr>\n",
              "      <th>35</th>\n",
              "      <td>徳島</td>\n",
              "      <td>634,532</td>\n",
              "    </tr>\n",
              "    <tr>\n",
              "      <th>36</th>\n",
              "      <td>香川</td>\n",
              "      <td>819,653</td>\n",
              "    </tr>\n",
              "    <tr>\n",
              "      <th>37</th>\n",
              "      <td>愛媛</td>\n",
              "      <td>1,160,477</td>\n",
              "    </tr>\n",
              "    <tr>\n",
              "      <th>38</th>\n",
              "      <td>高知</td>\n",
              "      <td>609,848</td>\n",
              "    </tr>\n",
              "    <tr>\n",
              "      <th>39</th>\n",
              "      <td>福岡</td>\n",
              "      <td>4,194,243</td>\n",
              "    </tr>\n",
              "    <tr>\n",
              "      <th>40</th>\n",
              "      <td>佐賀</td>\n",
              "      <td>675,917</td>\n",
              "    </tr>\n",
              "    <tr>\n",
              "      <th>41</th>\n",
              "      <td>長崎</td>\n",
              "      <td>1,136,351</td>\n",
              "    </tr>\n",
              "    <tr>\n",
              "      <th>42</th>\n",
              "      <td>熊本</td>\n",
              "      <td>1,463,363</td>\n",
              "    </tr>\n",
              "    <tr>\n",
              "      <th>43</th>\n",
              "      <td>大分</td>\n",
              "      <td>968,502</td>\n",
              "    </tr>\n",
              "    <tr>\n",
              "      <th>44</th>\n",
              "      <td>宮崎</td>\n",
              "      <td>909,293</td>\n",
              "    </tr>\n",
              "    <tr>\n",
              "      <th>45</th>\n",
              "      <td>鹿児島</td>\n",
              "      <td>1,355,120</td>\n",
              "    </tr>\n",
              "    <tr>\n",
              "      <th>46</th>\n",
              "      <td>沖縄</td>\n",
              "      <td>1,135,115</td>\n",
              "    </tr>\n",
              "  </tbody>\n",
              "</table>\n",
              "</div>"
            ],
            "text/plain": [
              "   prefecture       adult\n",
              "0         北海道   4,509,363\n",
              "1          青森   1,103,183\n",
              "2          岩手   1,059,293\n",
              "3          宮城   1,915,548\n",
              "4          秋田     868,937\n",
              "5          山形     924,199\n",
              "6          福島   1,595,503\n",
              "7          茨城   2,443,898\n",
              "8          栃木   1,642,620\n",
              "9          群馬   1,646,104\n",
              "10         埼玉   6,096,407\n",
              "11         千葉   5,231,131\n",
              "12         東京  11,493,560\n",
              "13        神奈川   7,601,252\n",
              "14         新潟   1,907,772\n",
              "15         富山     893,015\n",
              "16         石川     946,198\n",
              "17         福井     648,910\n",
              "18         山梨     696,023\n",
              "19         長野   1,746,050\n",
              "20         岐阜   1,687,256\n",
              "21         静岡   3,093,014\n",
              "22         愛知   6,145,895\n",
              "23         三重   1,512,253\n",
              "24         滋賀   1,142,334\n",
              "25         京都   2,126,007\n",
              "26         大阪   7,330,851\n",
              "27         兵庫   4,598,876\n",
              "28         奈良   1,136,450\n",
              "29        和歌山     813,891\n",
              "30         鳥取     470,863\n",
              "31         島根     572,561\n",
              "32         岡山   1,576,199\n",
              "33         広島   2,339,501\n",
              "34         山口   1,165,183\n",
              "35         徳島     634,532\n",
              "36         香川     819,653\n",
              "37         愛媛   1,160,477\n",
              "38         高知     609,848\n",
              "39         福岡   4,194,243\n",
              "40         佐賀     675,917\n",
              "41         長崎   1,136,351\n",
              "42         熊本   1,463,363\n",
              "43         大分     968,502\n",
              "44         宮崎     909,293\n",
              "45        鹿児島   1,355,120\n",
              "46         沖縄   1,135,115"
            ]
          },
          "metadata": {
            "tags": []
          },
          "execution_count": 42
        }
      ]
    },
    {
      "cell_type": "markdown",
      "metadata": {
        "id": "Ng5XiSw5E4Kr"
      },
      "source": [
        "**その10** **データを結合してみよう！**<a id='sec7_10'></a>  \n",
        "[先頭に戻る](#top)"
      ]
    },
    {
      "cell_type": "markdown",
      "metadata": {
        "id": "spBKpNdBE4Kr"
      },
      "source": [
        "ようやく、欲しかったデータが一つ加工できました。  \n",
        "加工する必要のないdf_beerデータと今作ったdf_adultデータを結合させてみます。"
      ]
    },
    {
      "cell_type": "code",
      "metadata": {
        "id": "y7U_8QPHE4Kr"
      },
      "source": [
        "df_beer = pd.read_csv(\"ビールExcel.csv\")"
      ],
      "execution_count": 43,
      "outputs": []
    },
    {
      "cell_type": "code",
      "metadata": {
        "colab": {
          "base_uri": "https://localhost:8080/",
          "height": 197
        },
        "id": "wXI82w3-E4Ks",
        "outputId": "b50dfdf3-32bf-45b2-8316-8c95e647d75f"
      },
      "source": [
        "df_beer.head()"
      ],
      "execution_count": 44,
      "outputs": [
        {
          "output_type": "execute_result",
          "data": {
            "text/html": [
              "<div>\n",
              "<style scoped>\n",
              "    .dataframe tbody tr th:only-of-type {\n",
              "        vertical-align: middle;\n",
              "    }\n",
              "\n",
              "    .dataframe tbody tr th {\n",
              "        vertical-align: top;\n",
              "    }\n",
              "\n",
              "    .dataframe thead th {\n",
              "        text-align: right;\n",
              "    }\n",
              "</style>\n",
              "<table border=\"1\" class=\"dataframe\">\n",
              "  <thead>\n",
              "    <tr style=\"text-align: right;\">\n",
              "      <th></th>\n",
              "      <th>prefecture</th>\n",
              "      <th>beer</th>\n",
              "    </tr>\n",
              "  </thead>\n",
              "  <tbody>\n",
              "    <tr>\n",
              "      <th>0</th>\n",
              "      <td>北海道</td>\n",
              "      <td>113,097</td>\n",
              "    </tr>\n",
              "    <tr>\n",
              "      <th>1</th>\n",
              "      <td>青森</td>\n",
              "      <td>23,177</td>\n",
              "    </tr>\n",
              "    <tr>\n",
              "      <th>2</th>\n",
              "      <td>岩手</td>\n",
              "      <td>24,879</td>\n",
              "    </tr>\n",
              "    <tr>\n",
              "      <th>3</th>\n",
              "      <td>宮城</td>\n",
              "      <td>43,152</td>\n",
              "    </tr>\n",
              "    <tr>\n",
              "      <th>4</th>\n",
              "      <td>秋田</td>\n",
              "      <td>19,229</td>\n",
              "    </tr>\n",
              "  </tbody>\n",
              "</table>\n",
              "</div>"
            ],
            "text/plain": [
              "  prefecture     beer\n",
              "0        北海道  113,097\n",
              "1         青森   23,177\n",
              "2         岩手   24,879\n",
              "3         宮城   43,152\n",
              "4         秋田   19,229"
            ]
          },
          "metadata": {
            "tags": []
          },
          "execution_count": 44
        }
      ]
    },
    {
      "cell_type": "markdown",
      "metadata": {
        "id": "wy9X05ueE4Ks"
      },
      "source": [
        "how=\"inner\"で、カラムが共通のものを自動的に結合する。\n",
        "pd.merge(df1,df2,how=\"inner\")"
      ]
    },
    {
      "cell_type": "code",
      "metadata": {
        "colab": {
          "base_uri": "https://localhost:8080/",
          "height": 1000
        },
        "id": "uRGhl7Y7E4Kt",
        "outputId": "45c5b5ab-547f-44d9-8cc1-a65056d14df2"
      },
      "source": [
        "df_merge= pd.merge(df_adult6,df_beer,how=\"inner\")\n",
        "df_merge"
      ],
      "execution_count": 45,
      "outputs": [
        {
          "output_type": "execute_result",
          "data": {
            "text/html": [
              "<div>\n",
              "<style scoped>\n",
              "    .dataframe tbody tr th:only-of-type {\n",
              "        vertical-align: middle;\n",
              "    }\n",
              "\n",
              "    .dataframe tbody tr th {\n",
              "        vertical-align: top;\n",
              "    }\n",
              "\n",
              "    .dataframe thead th {\n",
              "        text-align: right;\n",
              "    }\n",
              "</style>\n",
              "<table border=\"1\" class=\"dataframe\">\n",
              "  <thead>\n",
              "    <tr style=\"text-align: right;\">\n",
              "      <th></th>\n",
              "      <th>prefecture</th>\n",
              "      <th>adult</th>\n",
              "      <th>beer</th>\n",
              "    </tr>\n",
              "  </thead>\n",
              "  <tbody>\n",
              "    <tr>\n",
              "      <th>0</th>\n",
              "      <td>北海道</td>\n",
              "      <td>4,509,363</td>\n",
              "      <td>113,097</td>\n",
              "    </tr>\n",
              "    <tr>\n",
              "      <th>1</th>\n",
              "      <td>青森</td>\n",
              "      <td>1,103,183</td>\n",
              "      <td>23,177</td>\n",
              "    </tr>\n",
              "    <tr>\n",
              "      <th>2</th>\n",
              "      <td>岩手</td>\n",
              "      <td>1,059,293</td>\n",
              "      <td>24,879</td>\n",
              "    </tr>\n",
              "    <tr>\n",
              "      <th>3</th>\n",
              "      <td>宮城</td>\n",
              "      <td>1,915,548</td>\n",
              "      <td>43,152</td>\n",
              "    </tr>\n",
              "    <tr>\n",
              "      <th>4</th>\n",
              "      <td>秋田</td>\n",
              "      <td>868,937</td>\n",
              "      <td>19,229</td>\n",
              "    </tr>\n",
              "    <tr>\n",
              "      <th>5</th>\n",
              "      <td>山形</td>\n",
              "      <td>924,199</td>\n",
              "      <td>19,776</td>\n",
              "    </tr>\n",
              "    <tr>\n",
              "      <th>6</th>\n",
              "      <td>福島</td>\n",
              "      <td>1,595,503</td>\n",
              "      <td>34,195</td>\n",
              "    </tr>\n",
              "    <tr>\n",
              "      <th>7</th>\n",
              "      <td>茨城</td>\n",
              "      <td>2,443,898</td>\n",
              "      <td>42,922</td>\n",
              "    </tr>\n",
              "    <tr>\n",
              "      <th>8</th>\n",
              "      <td>栃木</td>\n",
              "      <td>1,642,620</td>\n",
              "      <td>30,745</td>\n",
              "    </tr>\n",
              "    <tr>\n",
              "      <th>9</th>\n",
              "      <td>群馬</td>\n",
              "      <td>1,646,104</td>\n",
              "      <td>29,684</td>\n",
              "    </tr>\n",
              "    <tr>\n",
              "      <th>10</th>\n",
              "      <td>埼玉</td>\n",
              "      <td>6,096,407</td>\n",
              "      <td>90,860</td>\n",
              "    </tr>\n",
              "    <tr>\n",
              "      <th>11</th>\n",
              "      <td>千葉</td>\n",
              "      <td>5,231,131</td>\n",
              "      <td>85,494</td>\n",
              "    </tr>\n",
              "    <tr>\n",
              "      <th>12</th>\n",
              "      <td>東京</td>\n",
              "      <td>11,493,560</td>\n",
              "      <td>466,125</td>\n",
              "    </tr>\n",
              "    <tr>\n",
              "      <th>13</th>\n",
              "      <td>神奈川</td>\n",
              "      <td>7,601,252</td>\n",
              "      <td>152,317</td>\n",
              "    </tr>\n",
              "    <tr>\n",
              "      <th>14</th>\n",
              "      <td>新潟</td>\n",
              "      <td>1,907,772</td>\n",
              "      <td>45,720</td>\n",
              "    </tr>\n",
              "    <tr>\n",
              "      <th>15</th>\n",
              "      <td>富山</td>\n",
              "      <td>893,015</td>\n",
              "      <td>21,496</td>\n",
              "    </tr>\n",
              "    <tr>\n",
              "      <th>16</th>\n",
              "      <td>石川</td>\n",
              "      <td>946,198</td>\n",
              "      <td>22,385</td>\n",
              "    </tr>\n",
              "    <tr>\n",
              "      <th>17</th>\n",
              "      <td>福井</td>\n",
              "      <td>648,910</td>\n",
              "      <td>13,486</td>\n",
              "    </tr>\n",
              "    <tr>\n",
              "      <th>18</th>\n",
              "      <td>山梨</td>\n",
              "      <td>696,023</td>\n",
              "      <td>13,434</td>\n",
              "    </tr>\n",
              "    <tr>\n",
              "      <th>19</th>\n",
              "      <td>長野</td>\n",
              "      <td>1,746,050</td>\n",
              "      <td>39,741</td>\n",
              "    </tr>\n",
              "    <tr>\n",
              "      <th>20</th>\n",
              "      <td>岐阜</td>\n",
              "      <td>1,687,256</td>\n",
              "      <td>25,428</td>\n",
              "    </tr>\n",
              "    <tr>\n",
              "      <th>21</th>\n",
              "      <td>静岡</td>\n",
              "      <td>3,093,014</td>\n",
              "      <td>57,531</td>\n",
              "    </tr>\n",
              "    <tr>\n",
              "      <th>22</th>\n",
              "      <td>愛知</td>\n",
              "      <td>6,145,895</td>\n",
              "      <td>131,666</td>\n",
              "    </tr>\n",
              "    <tr>\n",
              "      <th>23</th>\n",
              "      <td>三重</td>\n",
              "      <td>1,512,253</td>\n",
              "      <td>26,243</td>\n",
              "    </tr>\n",
              "    <tr>\n",
              "      <th>24</th>\n",
              "      <td>滋賀</td>\n",
              "      <td>1,142,334</td>\n",
              "      <td>15,739</td>\n",
              "    </tr>\n",
              "    <tr>\n",
              "      <th>25</th>\n",
              "      <td>京都</td>\n",
              "      <td>2,126,007</td>\n",
              "      <td>57,319</td>\n",
              "    </tr>\n",
              "    <tr>\n",
              "      <th>26</th>\n",
              "      <td>大阪</td>\n",
              "      <td>7,330,851</td>\n",
              "      <td>215,191</td>\n",
              "    </tr>\n",
              "    <tr>\n",
              "      <th>27</th>\n",
              "      <td>兵庫</td>\n",
              "      <td>4,598,876</td>\n",
              "      <td>93,560</td>\n",
              "    </tr>\n",
              "    <tr>\n",
              "      <th>28</th>\n",
              "      <td>奈良</td>\n",
              "      <td>1,136,450</td>\n",
              "      <td>18,448</td>\n",
              "    </tr>\n",
              "    <tr>\n",
              "      <th>29</th>\n",
              "      <td>和歌山</td>\n",
              "      <td>813,891</td>\n",
              "      <td>14,490</td>\n",
              "    </tr>\n",
              "    <tr>\n",
              "      <th>30</th>\n",
              "      <td>鳥取</td>\n",
              "      <td>470,863</td>\n",
              "      <td>10,002</td>\n",
              "    </tr>\n",
              "    <tr>\n",
              "      <th>31</th>\n",
              "      <td>島根</td>\n",
              "      <td>572,561</td>\n",
              "      <td>11,323</td>\n",
              "    </tr>\n",
              "    <tr>\n",
              "      <th>32</th>\n",
              "      <td>岡山</td>\n",
              "      <td>1,576,199</td>\n",
              "      <td>25,022</td>\n",
              "    </tr>\n",
              "    <tr>\n",
              "      <th>33</th>\n",
              "      <td>広島</td>\n",
              "      <td>2,339,501</td>\n",
              "      <td>50,304</td>\n",
              "    </tr>\n",
              "    <tr>\n",
              "      <th>34</th>\n",
              "      <td>山口</td>\n",
              "      <td>1,165,183</td>\n",
              "      <td>21,732</td>\n",
              "    </tr>\n",
              "    <tr>\n",
              "      <th>35</th>\n",
              "      <td>徳島</td>\n",
              "      <td>634,532</td>\n",
              "      <td>12,122</td>\n",
              "    </tr>\n",
              "    <tr>\n",
              "      <th>36</th>\n",
              "      <td>香川</td>\n",
              "      <td>819,653</td>\n",
              "      <td>15,269</td>\n",
              "    </tr>\n",
              "    <tr>\n",
              "      <th>37</th>\n",
              "      <td>愛媛</td>\n",
              "      <td>1,160,477</td>\n",
              "      <td>23,029</td>\n",
              "    </tr>\n",
              "    <tr>\n",
              "      <th>38</th>\n",
              "      <td>高知</td>\n",
              "      <td>609,848</td>\n",
              "      <td>15,286</td>\n",
              "    </tr>\n",
              "    <tr>\n",
              "      <th>39</th>\n",
              "      <td>福岡</td>\n",
              "      <td>4,194,243</td>\n",
              "      <td>91,566</td>\n",
              "    </tr>\n",
              "    <tr>\n",
              "      <th>40</th>\n",
              "      <td>佐賀</td>\n",
              "      <td>675,917</td>\n",
              "      <td>13,183</td>\n",
              "    </tr>\n",
              "    <tr>\n",
              "      <th>41</th>\n",
              "      <td>長崎</td>\n",
              "      <td>1,136,351</td>\n",
              "      <td>22,218</td>\n",
              "    </tr>\n",
              "    <tr>\n",
              "      <th>42</th>\n",
              "      <td>熊本</td>\n",
              "      <td>1,463,363</td>\n",
              "      <td>27,073</td>\n",
              "    </tr>\n",
              "    <tr>\n",
              "      <th>43</th>\n",
              "      <td>大分</td>\n",
              "      <td>968,502</td>\n",
              "      <td>19,316</td>\n",
              "    </tr>\n",
              "    <tr>\n",
              "      <th>44</th>\n",
              "      <td>宮崎</td>\n",
              "      <td>909,293</td>\n",
              "      <td>19,994</td>\n",
              "    </tr>\n",
              "    <tr>\n",
              "      <th>45</th>\n",
              "      <td>鹿児島</td>\n",
              "      <td>1,355,120</td>\n",
              "      <td>20,674</td>\n",
              "    </tr>\n",
              "  </tbody>\n",
              "</table>\n",
              "</div>"
            ],
            "text/plain": [
              "   prefecture       adult     beer\n",
              "0         北海道   4,509,363  113,097\n",
              "1          青森   1,103,183   23,177\n",
              "2          岩手   1,059,293   24,879\n",
              "3          宮城   1,915,548   43,152\n",
              "4          秋田     868,937   19,229\n",
              "5          山形     924,199   19,776\n",
              "6          福島   1,595,503   34,195\n",
              "7          茨城   2,443,898   42,922\n",
              "8          栃木   1,642,620   30,745\n",
              "9          群馬   1,646,104   29,684\n",
              "10         埼玉   6,096,407   90,860\n",
              "11         千葉   5,231,131   85,494\n",
              "12         東京  11,493,560  466,125\n",
              "13        神奈川   7,601,252  152,317\n",
              "14         新潟   1,907,772   45,720\n",
              "15         富山     893,015   21,496\n",
              "16         石川     946,198   22,385\n",
              "17         福井     648,910   13,486\n",
              "18         山梨     696,023   13,434\n",
              "19         長野   1,746,050   39,741\n",
              "20         岐阜   1,687,256   25,428\n",
              "21         静岡   3,093,014   57,531\n",
              "22         愛知   6,145,895  131,666\n",
              "23         三重   1,512,253   26,243\n",
              "24         滋賀   1,142,334   15,739\n",
              "25         京都   2,126,007   57,319\n",
              "26         大阪   7,330,851  215,191\n",
              "27         兵庫   4,598,876   93,560\n",
              "28         奈良   1,136,450   18,448\n",
              "29        和歌山     813,891   14,490\n",
              "30         鳥取     470,863   10,002\n",
              "31         島根     572,561   11,323\n",
              "32         岡山   1,576,199   25,022\n",
              "33         広島   2,339,501   50,304\n",
              "34         山口   1,165,183   21,732\n",
              "35         徳島     634,532   12,122\n",
              "36         香川     819,653   15,269\n",
              "37         愛媛   1,160,477   23,029\n",
              "38         高知     609,848   15,286\n",
              "39         福岡   4,194,243   91,566\n",
              "40         佐賀     675,917   13,183\n",
              "41         長崎   1,136,351   22,218\n",
              "42         熊本   1,463,363   27,073\n",
              "43         大分     968,502   19,316\n",
              "44         宮崎     909,293   19,994\n",
              "45        鹿児島   1,355,120   20,674"
            ]
          },
          "metadata": {
            "tags": []
          },
          "execution_count": 45
        }
      ]
    },
    {
      "cell_type": "code",
      "metadata": {
        "colab": {
          "base_uri": "https://localhost:8080/"
        },
        "id": "NoLinGHNE4Kt",
        "outputId": "6c571037-9507-4d1f-c8fa-1e362f42af24"
      },
      "source": [
        "#データ型の確認\n",
        "df_merge.info()"
      ],
      "execution_count": 46,
      "outputs": [
        {
          "output_type": "stream",
          "text": [
            "<class 'pandas.core.frame.DataFrame'>\n",
            "Int64Index: 46 entries, 0 to 45\n",
            "Data columns (total 3 columns):\n",
            " #   Column      Non-Null Count  Dtype \n",
            "---  ------      --------------  ----- \n",
            " 0   prefecture  46 non-null     object\n",
            " 1   adult       46 non-null     object\n",
            " 2   beer        46 non-null     object\n",
            "dtypes: object(3)\n",
            "memory usage: 1.4+ KB\n"
          ],
          "name": "stdout"
        }
      ]
    },
    {
      "cell_type": "markdown",
      "metadata": {
        "id": "zEHznzSbE4Ku"
      },
      "source": [
        "**その11** **データ型を変更してみよう！**<a id='sec7_11'></a>  \n",
        "[先頭に戻る](#top)"
      ]
    },
    {
      "cell_type": "markdown",
      "metadata": {
        "id": "jg8NXxlQE4Ku"
      },
      "source": [
        "ここでは成人一人当たりのビール消費量を知りたいため、ビール消費量を成人人数で割る必要があります。  \n",
        "そのために、文字型をobjectからint型に変更します。"
      ]
    },
    {
      "cell_type": "markdown",
      "metadata": {
        "id": "QPxB9paSE4Ku"
      },
      "source": [
        "少し厄介なのですが、今回のデータでは千桁区切りに\",\"が挿入されています。このコンマを取り除きます。"
      ]
    },
    {
      "cell_type": "markdown",
      "metadata": {
        "id": "3UaRIKKmE4Kv"
      },
      "source": [
        "#\",\"の削除\n",
        "df[\"column\"].str.replace(',','')"
      ]
    },
    {
      "cell_type": "code",
      "metadata": {
        "colab": {
          "base_uri": "https://localhost:8080/",
          "height": 107
        },
        "id": "VAK4j4c0E4Kv",
        "outputId": "b9c66a20-5ee2-48c6-951a-35d4ae1123c6"
      },
      "source": [
        "df_sakubun = pd.DataFrame(data=[{'名前': \"佐藤\", '作文': \"野球が、したい、。野球したい、ぜ。\"},{'名前': \"西田\", '作文': \"私は、西田、です。\"}])\n",
        "df_sakubun"
      ],
      "execution_count": 48,
      "outputs": [
        {
          "output_type": "execute_result",
          "data": {
            "text/html": [
              "<div>\n",
              "<style scoped>\n",
              "    .dataframe tbody tr th:only-of-type {\n",
              "        vertical-align: middle;\n",
              "    }\n",
              "\n",
              "    .dataframe tbody tr th {\n",
              "        vertical-align: top;\n",
              "    }\n",
              "\n",
              "    .dataframe thead th {\n",
              "        text-align: right;\n",
              "    }\n",
              "</style>\n",
              "<table border=\"1\" class=\"dataframe\">\n",
              "  <thead>\n",
              "    <tr style=\"text-align: right;\">\n",
              "      <th></th>\n",
              "      <th>名前</th>\n",
              "      <th>作文</th>\n",
              "    </tr>\n",
              "  </thead>\n",
              "  <tbody>\n",
              "    <tr>\n",
              "      <th>0</th>\n",
              "      <td>佐藤</td>\n",
              "      <td>野球が、したい、。野球したい、ぜ。</td>\n",
              "    </tr>\n",
              "    <tr>\n",
              "      <th>1</th>\n",
              "      <td>西田</td>\n",
              "      <td>私は、西田、です。</td>\n",
              "    </tr>\n",
              "  </tbody>\n",
              "</table>\n",
              "</div>"
            ],
            "text/plain": [
              "   名前                 作文\n",
              "0  佐藤  野球が、したい、。野球したい、ぜ。\n",
              "1  西田          私は、西田、です。"
            ]
          },
          "metadata": {
            "tags": []
          },
          "execution_count": 48
        }
      ]
    },
    {
      "cell_type": "markdown",
      "metadata": {
        "id": "zfEA430dE4Kv"
      },
      "source": [
        "この作文から\"、\"を削除します。"
      ]
    },
    {
      "cell_type": "code",
      "metadata": {
        "colab": {
          "base_uri": "https://localhost:8080/",
          "height": 107
        },
        "id": "QLRrPS3FE4Kw",
        "outputId": "05b2208f-53bd-4d52-c9d9-c6a4a9298a74"
      },
      "source": [
        "df_sakubun[\"作文\"] = df_sakubun[\"作文\"].str.replace('、','')\n",
        "df_sakubun"
      ],
      "execution_count": 50,
      "outputs": [
        {
          "output_type": "execute_result",
          "data": {
            "text/html": [
              "<div>\n",
              "<style scoped>\n",
              "    .dataframe tbody tr th:only-of-type {\n",
              "        vertical-align: middle;\n",
              "    }\n",
              "\n",
              "    .dataframe tbody tr th {\n",
              "        vertical-align: top;\n",
              "    }\n",
              "\n",
              "    .dataframe thead th {\n",
              "        text-align: right;\n",
              "    }\n",
              "</style>\n",
              "<table border=\"1\" class=\"dataframe\">\n",
              "  <thead>\n",
              "    <tr style=\"text-align: right;\">\n",
              "      <th></th>\n",
              "      <th>名前</th>\n",
              "      <th>作文</th>\n",
              "    </tr>\n",
              "  </thead>\n",
              "  <tbody>\n",
              "    <tr>\n",
              "      <th>0</th>\n",
              "      <td>佐藤</td>\n",
              "      <td>野球がしたい。野球したいぜ。</td>\n",
              "    </tr>\n",
              "    <tr>\n",
              "      <th>1</th>\n",
              "      <td>西田</td>\n",
              "      <td>私は西田です。</td>\n",
              "    </tr>\n",
              "  </tbody>\n",
              "</table>\n",
              "</div>"
            ],
            "text/plain": [
              "   名前              作文\n",
              "0  佐藤  野球がしたい。野球したいぜ。\n",
              "1  西田         私は西田です。"
            ]
          },
          "metadata": {
            "tags": []
          },
          "execution_count": 50
        }
      ]
    },
    {
      "cell_type": "markdown",
      "metadata": {
        "id": "dkCdc_qZE4Kw"
      },
      "source": [
        "同様にdf_mergeから\",\"を空白に置き換えましょう。"
      ]
    },
    {
      "cell_type": "code",
      "metadata": {
        "colab": {
          "base_uri": "https://localhost:8080/",
          "height": 197
        },
        "id": "IIysCMZDUFIR",
        "outputId": "81179747-32ab-4eff-e652-b572301dda4f"
      },
      "source": [
        "df_merge.head()"
      ],
      "execution_count": 51,
      "outputs": [
        {
          "output_type": "execute_result",
          "data": {
            "text/html": [
              "<div>\n",
              "<style scoped>\n",
              "    .dataframe tbody tr th:only-of-type {\n",
              "        vertical-align: middle;\n",
              "    }\n",
              "\n",
              "    .dataframe tbody tr th {\n",
              "        vertical-align: top;\n",
              "    }\n",
              "\n",
              "    .dataframe thead th {\n",
              "        text-align: right;\n",
              "    }\n",
              "</style>\n",
              "<table border=\"1\" class=\"dataframe\">\n",
              "  <thead>\n",
              "    <tr style=\"text-align: right;\">\n",
              "      <th></th>\n",
              "      <th>prefecture</th>\n",
              "      <th>adult</th>\n",
              "      <th>beer</th>\n",
              "    </tr>\n",
              "  </thead>\n",
              "  <tbody>\n",
              "    <tr>\n",
              "      <th>0</th>\n",
              "      <td>北海道</td>\n",
              "      <td>4,509,363</td>\n",
              "      <td>113,097</td>\n",
              "    </tr>\n",
              "    <tr>\n",
              "      <th>1</th>\n",
              "      <td>青森</td>\n",
              "      <td>1,103,183</td>\n",
              "      <td>23,177</td>\n",
              "    </tr>\n",
              "    <tr>\n",
              "      <th>2</th>\n",
              "      <td>岩手</td>\n",
              "      <td>1,059,293</td>\n",
              "      <td>24,879</td>\n",
              "    </tr>\n",
              "    <tr>\n",
              "      <th>3</th>\n",
              "      <td>宮城</td>\n",
              "      <td>1,915,548</td>\n",
              "      <td>43,152</td>\n",
              "    </tr>\n",
              "    <tr>\n",
              "      <th>4</th>\n",
              "      <td>秋田</td>\n",
              "      <td>868,937</td>\n",
              "      <td>19,229</td>\n",
              "    </tr>\n",
              "  </tbody>\n",
              "</table>\n",
              "</div>"
            ],
            "text/plain": [
              "  prefecture      adult     beer\n",
              "0        北海道  4,509,363  113,097\n",
              "1         青森  1,103,183   23,177\n",
              "2         岩手  1,059,293   24,879\n",
              "3         宮城  1,915,548   43,152\n",
              "4         秋田    868,937   19,229"
            ]
          },
          "metadata": {
            "tags": []
          },
          "execution_count": 51
        }
      ]
    },
    {
      "cell_type": "code",
      "metadata": {
        "colab": {
          "base_uri": "https://localhost:8080/",
          "height": 1000
        },
        "id": "jqt0GnUvUJwb",
        "outputId": "6ca650ab-66d2-4e93-89e7-ba45bd8ced86"
      },
      "source": [
        "df_merge[\"adult\"]= df_merge[\"adult\"].str.replace(',','')\n",
        "df_merge[\"beer\"]= df_merge[\"beer\"].str.replace(',','')\n",
        "df_merge"
      ],
      "execution_count": 54,
      "outputs": [
        {
          "output_type": "execute_result",
          "data": {
            "text/html": [
              "<div>\n",
              "<style scoped>\n",
              "    .dataframe tbody tr th:only-of-type {\n",
              "        vertical-align: middle;\n",
              "    }\n",
              "\n",
              "    .dataframe tbody tr th {\n",
              "        vertical-align: top;\n",
              "    }\n",
              "\n",
              "    .dataframe thead th {\n",
              "        text-align: right;\n",
              "    }\n",
              "</style>\n",
              "<table border=\"1\" class=\"dataframe\">\n",
              "  <thead>\n",
              "    <tr style=\"text-align: right;\">\n",
              "      <th></th>\n",
              "      <th>prefecture</th>\n",
              "      <th>adult</th>\n",
              "      <th>beer</th>\n",
              "    </tr>\n",
              "  </thead>\n",
              "  <tbody>\n",
              "    <tr>\n",
              "      <th>0</th>\n",
              "      <td>北海道</td>\n",
              "      <td>4509363</td>\n",
              "      <td>113097</td>\n",
              "    </tr>\n",
              "    <tr>\n",
              "      <th>1</th>\n",
              "      <td>青森</td>\n",
              "      <td>1103183</td>\n",
              "      <td>23177</td>\n",
              "    </tr>\n",
              "    <tr>\n",
              "      <th>2</th>\n",
              "      <td>岩手</td>\n",
              "      <td>1059293</td>\n",
              "      <td>24879</td>\n",
              "    </tr>\n",
              "    <tr>\n",
              "      <th>3</th>\n",
              "      <td>宮城</td>\n",
              "      <td>1915548</td>\n",
              "      <td>43152</td>\n",
              "    </tr>\n",
              "    <tr>\n",
              "      <th>4</th>\n",
              "      <td>秋田</td>\n",
              "      <td>868937</td>\n",
              "      <td>19229</td>\n",
              "    </tr>\n",
              "    <tr>\n",
              "      <th>5</th>\n",
              "      <td>山形</td>\n",
              "      <td>924199</td>\n",
              "      <td>19776</td>\n",
              "    </tr>\n",
              "    <tr>\n",
              "      <th>6</th>\n",
              "      <td>福島</td>\n",
              "      <td>1595503</td>\n",
              "      <td>34195</td>\n",
              "    </tr>\n",
              "    <tr>\n",
              "      <th>7</th>\n",
              "      <td>茨城</td>\n",
              "      <td>2443898</td>\n",
              "      <td>42922</td>\n",
              "    </tr>\n",
              "    <tr>\n",
              "      <th>8</th>\n",
              "      <td>栃木</td>\n",
              "      <td>1642620</td>\n",
              "      <td>30745</td>\n",
              "    </tr>\n",
              "    <tr>\n",
              "      <th>9</th>\n",
              "      <td>群馬</td>\n",
              "      <td>1646104</td>\n",
              "      <td>29684</td>\n",
              "    </tr>\n",
              "    <tr>\n",
              "      <th>10</th>\n",
              "      <td>埼玉</td>\n",
              "      <td>6096407</td>\n",
              "      <td>90860</td>\n",
              "    </tr>\n",
              "    <tr>\n",
              "      <th>11</th>\n",
              "      <td>千葉</td>\n",
              "      <td>5231131</td>\n",
              "      <td>85494</td>\n",
              "    </tr>\n",
              "    <tr>\n",
              "      <th>12</th>\n",
              "      <td>東京</td>\n",
              "      <td>11493560</td>\n",
              "      <td>466125</td>\n",
              "    </tr>\n",
              "    <tr>\n",
              "      <th>13</th>\n",
              "      <td>神奈川</td>\n",
              "      <td>7601252</td>\n",
              "      <td>152317</td>\n",
              "    </tr>\n",
              "    <tr>\n",
              "      <th>14</th>\n",
              "      <td>新潟</td>\n",
              "      <td>1907772</td>\n",
              "      <td>45720</td>\n",
              "    </tr>\n",
              "    <tr>\n",
              "      <th>15</th>\n",
              "      <td>富山</td>\n",
              "      <td>893015</td>\n",
              "      <td>21496</td>\n",
              "    </tr>\n",
              "    <tr>\n",
              "      <th>16</th>\n",
              "      <td>石川</td>\n",
              "      <td>946198</td>\n",
              "      <td>22385</td>\n",
              "    </tr>\n",
              "    <tr>\n",
              "      <th>17</th>\n",
              "      <td>福井</td>\n",
              "      <td>648910</td>\n",
              "      <td>13486</td>\n",
              "    </tr>\n",
              "    <tr>\n",
              "      <th>18</th>\n",
              "      <td>山梨</td>\n",
              "      <td>696023</td>\n",
              "      <td>13434</td>\n",
              "    </tr>\n",
              "    <tr>\n",
              "      <th>19</th>\n",
              "      <td>長野</td>\n",
              "      <td>1746050</td>\n",
              "      <td>39741</td>\n",
              "    </tr>\n",
              "    <tr>\n",
              "      <th>20</th>\n",
              "      <td>岐阜</td>\n",
              "      <td>1687256</td>\n",
              "      <td>25428</td>\n",
              "    </tr>\n",
              "    <tr>\n",
              "      <th>21</th>\n",
              "      <td>静岡</td>\n",
              "      <td>3093014</td>\n",
              "      <td>57531</td>\n",
              "    </tr>\n",
              "    <tr>\n",
              "      <th>22</th>\n",
              "      <td>愛知</td>\n",
              "      <td>6145895</td>\n",
              "      <td>131666</td>\n",
              "    </tr>\n",
              "    <tr>\n",
              "      <th>23</th>\n",
              "      <td>三重</td>\n",
              "      <td>1512253</td>\n",
              "      <td>26243</td>\n",
              "    </tr>\n",
              "    <tr>\n",
              "      <th>24</th>\n",
              "      <td>滋賀</td>\n",
              "      <td>1142334</td>\n",
              "      <td>15739</td>\n",
              "    </tr>\n",
              "    <tr>\n",
              "      <th>25</th>\n",
              "      <td>京都</td>\n",
              "      <td>2126007</td>\n",
              "      <td>57319</td>\n",
              "    </tr>\n",
              "    <tr>\n",
              "      <th>26</th>\n",
              "      <td>大阪</td>\n",
              "      <td>7330851</td>\n",
              "      <td>215191</td>\n",
              "    </tr>\n",
              "    <tr>\n",
              "      <th>27</th>\n",
              "      <td>兵庫</td>\n",
              "      <td>4598876</td>\n",
              "      <td>93560</td>\n",
              "    </tr>\n",
              "    <tr>\n",
              "      <th>28</th>\n",
              "      <td>奈良</td>\n",
              "      <td>1136450</td>\n",
              "      <td>18448</td>\n",
              "    </tr>\n",
              "    <tr>\n",
              "      <th>29</th>\n",
              "      <td>和歌山</td>\n",
              "      <td>813891</td>\n",
              "      <td>14490</td>\n",
              "    </tr>\n",
              "    <tr>\n",
              "      <th>30</th>\n",
              "      <td>鳥取</td>\n",
              "      <td>470863</td>\n",
              "      <td>10002</td>\n",
              "    </tr>\n",
              "    <tr>\n",
              "      <th>31</th>\n",
              "      <td>島根</td>\n",
              "      <td>572561</td>\n",
              "      <td>11323</td>\n",
              "    </tr>\n",
              "    <tr>\n",
              "      <th>32</th>\n",
              "      <td>岡山</td>\n",
              "      <td>1576199</td>\n",
              "      <td>25022</td>\n",
              "    </tr>\n",
              "    <tr>\n",
              "      <th>33</th>\n",
              "      <td>広島</td>\n",
              "      <td>2339501</td>\n",
              "      <td>50304</td>\n",
              "    </tr>\n",
              "    <tr>\n",
              "      <th>34</th>\n",
              "      <td>山口</td>\n",
              "      <td>1165183</td>\n",
              "      <td>21732</td>\n",
              "    </tr>\n",
              "    <tr>\n",
              "      <th>35</th>\n",
              "      <td>徳島</td>\n",
              "      <td>634532</td>\n",
              "      <td>12122</td>\n",
              "    </tr>\n",
              "    <tr>\n",
              "      <th>36</th>\n",
              "      <td>香川</td>\n",
              "      <td>819653</td>\n",
              "      <td>15269</td>\n",
              "    </tr>\n",
              "    <tr>\n",
              "      <th>37</th>\n",
              "      <td>愛媛</td>\n",
              "      <td>1160477</td>\n",
              "      <td>23029</td>\n",
              "    </tr>\n",
              "    <tr>\n",
              "      <th>38</th>\n",
              "      <td>高知</td>\n",
              "      <td>609848</td>\n",
              "      <td>15286</td>\n",
              "    </tr>\n",
              "    <tr>\n",
              "      <th>39</th>\n",
              "      <td>福岡</td>\n",
              "      <td>4194243</td>\n",
              "      <td>91566</td>\n",
              "    </tr>\n",
              "    <tr>\n",
              "      <th>40</th>\n",
              "      <td>佐賀</td>\n",
              "      <td>675917</td>\n",
              "      <td>13183</td>\n",
              "    </tr>\n",
              "    <tr>\n",
              "      <th>41</th>\n",
              "      <td>長崎</td>\n",
              "      <td>1136351</td>\n",
              "      <td>22218</td>\n",
              "    </tr>\n",
              "    <tr>\n",
              "      <th>42</th>\n",
              "      <td>熊本</td>\n",
              "      <td>1463363</td>\n",
              "      <td>27073</td>\n",
              "    </tr>\n",
              "    <tr>\n",
              "      <th>43</th>\n",
              "      <td>大分</td>\n",
              "      <td>968502</td>\n",
              "      <td>19316</td>\n",
              "    </tr>\n",
              "    <tr>\n",
              "      <th>44</th>\n",
              "      <td>宮崎</td>\n",
              "      <td>909293</td>\n",
              "      <td>19994</td>\n",
              "    </tr>\n",
              "    <tr>\n",
              "      <th>45</th>\n",
              "      <td>鹿児島</td>\n",
              "      <td>1355120</td>\n",
              "      <td>20674</td>\n",
              "    </tr>\n",
              "  </tbody>\n",
              "</table>\n",
              "</div>"
            ],
            "text/plain": [
              "   prefecture     adult    beer\n",
              "0         北海道   4509363  113097\n",
              "1          青森   1103183   23177\n",
              "2          岩手   1059293   24879\n",
              "3          宮城   1915548   43152\n",
              "4          秋田    868937   19229\n",
              "5          山形    924199   19776\n",
              "6          福島   1595503   34195\n",
              "7          茨城   2443898   42922\n",
              "8          栃木   1642620   30745\n",
              "9          群馬   1646104   29684\n",
              "10         埼玉   6096407   90860\n",
              "11         千葉   5231131   85494\n",
              "12         東京  11493560  466125\n",
              "13        神奈川   7601252  152317\n",
              "14         新潟   1907772   45720\n",
              "15         富山    893015   21496\n",
              "16         石川    946198   22385\n",
              "17         福井    648910   13486\n",
              "18         山梨    696023   13434\n",
              "19         長野   1746050   39741\n",
              "20         岐阜   1687256   25428\n",
              "21         静岡   3093014   57531\n",
              "22         愛知   6145895  131666\n",
              "23         三重   1512253   26243\n",
              "24         滋賀   1142334   15739\n",
              "25         京都   2126007   57319\n",
              "26         大阪   7330851  215191\n",
              "27         兵庫   4598876   93560\n",
              "28         奈良   1136450   18448\n",
              "29        和歌山    813891   14490\n",
              "30         鳥取    470863   10002\n",
              "31         島根    572561   11323\n",
              "32         岡山   1576199   25022\n",
              "33         広島   2339501   50304\n",
              "34         山口   1165183   21732\n",
              "35         徳島    634532   12122\n",
              "36         香川    819653   15269\n",
              "37         愛媛   1160477   23029\n",
              "38         高知    609848   15286\n",
              "39         福岡   4194243   91566\n",
              "40         佐賀    675917   13183\n",
              "41         長崎   1136351   22218\n",
              "42         熊本   1463363   27073\n",
              "43         大分    968502   19316\n",
              "44         宮崎    909293   19994\n",
              "45        鹿児島   1355120   20674"
            ]
          },
          "metadata": {
            "tags": []
          },
          "execution_count": 54
        }
      ]
    },
    {
      "cell_type": "code",
      "metadata": {
        "id": "K-yv8CovE4Kw"
      },
      "source": [
        "df_merge= pd.merge(df_adult6,df_beer,how=\"inner\")\n",
        "df_merge[\"beer\"]=df_merge[\"beer\"].str.replace(',','')\n",
        "df_merge[\"adult\"] = df_merge[\"adult\"].str.replace(',','')"
      ],
      "execution_count": null,
      "outputs": []
    },
    {
      "cell_type": "code",
      "metadata": {
        "id": "iNWtD8SCE4Kx",
        "outputId": "b38d0404-c8e9-4759-cedc-2f70b2dca380"
      },
      "source": [
        "#データ型はobjectのまま\n",
        "df_merge.info()"
      ],
      "execution_count": null,
      "outputs": [
        {
          "output_type": "stream",
          "text": [
            "<class 'pandas.core.frame.DataFrame'>\n",
            "Int64Index: 46 entries, 0 to 45\n",
            "Data columns (total 3 columns):\n",
            " #   Column      Non-Null Count  Dtype \n",
            "---  ------      --------------  ----- \n",
            " 0   prefecture  46 non-null     object\n",
            " 1   adult       46 non-null     object\n",
            " 2   beer        46 non-null     object\n",
            "dtypes: object(3)\n",
            "memory usage: 1.4+ KB\n"
          ],
          "name": "stdout"
        }
      ]
    },
    {
      "cell_type": "markdown",
      "metadata": {
        "id": "M1UUJrXuE4Kx"
      },
      "source": [
        "コンマが取り除けたので、文字型を整数型(intに変更します)"
      ]
    },
    {
      "cell_type": "code",
      "metadata": {
        "id": "k0c-q6CfE4Ky"
      },
      "source": [
        "df_merge[\"beer\"]=df_merge[\"beer\"].astype(int)\n",
        "df_merge[\"adult\"] = df_merge[\"adult\"].astype(int)"
      ],
      "execution_count": 55,
      "outputs": []
    },
    {
      "cell_type": "code",
      "metadata": {
        "colab": {
          "base_uri": "https://localhost:8080/"
        },
        "id": "mN4WWZpTE4Ky",
        "outputId": "37653c63-d54b-4699-d26d-84579a8ec276"
      },
      "source": [
        "#変更できている。\n",
        "df_merge.info()"
      ],
      "execution_count": 56,
      "outputs": [
        {
          "output_type": "stream",
          "text": [
            "<class 'pandas.core.frame.DataFrame'>\n",
            "Int64Index: 46 entries, 0 to 45\n",
            "Data columns (total 3 columns):\n",
            " #   Column      Non-Null Count  Dtype \n",
            "---  ------      --------------  ----- \n",
            " 0   prefecture  46 non-null     object\n",
            " 1   adult       46 non-null     int64 \n",
            " 2   beer        46 non-null     int64 \n",
            "dtypes: int64(2), object(1)\n",
            "memory usage: 1.4+ KB\n"
          ],
          "name": "stdout"
        }
      ]
    },
    {
      "cell_type": "markdown",
      "metadata": {
        "id": "4-mWZwDFE4Ky"
      },
      "source": [
        "今回は成人一人当たり何リットル飲んだのかを調べたいため、df_merge[\"beer\"]を千倍します。"
      ]
    },
    {
      "cell_type": "code",
      "metadata": {
        "colab": {
          "base_uri": "https://localhost:8080/",
          "height": 1000
        },
        "id": "_pYbCKTdE4Kz",
        "outputId": "b4b69edb-afc8-44f2-ed5c-ba5f6c427136"
      },
      "source": [
        "df_merge[\"thou\"] = 1000\n",
        "df_merge[\"beer\"] =df_merge[\"beer\"] * df_merge[\"thou\"]\n",
        "df_merge"
      ],
      "execution_count": 57,
      "outputs": [
        {
          "output_type": "execute_result",
          "data": {
            "text/html": [
              "<div>\n",
              "<style scoped>\n",
              "    .dataframe tbody tr th:only-of-type {\n",
              "        vertical-align: middle;\n",
              "    }\n",
              "\n",
              "    .dataframe tbody tr th {\n",
              "        vertical-align: top;\n",
              "    }\n",
              "\n",
              "    .dataframe thead th {\n",
              "        text-align: right;\n",
              "    }\n",
              "</style>\n",
              "<table border=\"1\" class=\"dataframe\">\n",
              "  <thead>\n",
              "    <tr style=\"text-align: right;\">\n",
              "      <th></th>\n",
              "      <th>prefecture</th>\n",
              "      <th>adult</th>\n",
              "      <th>beer</th>\n",
              "      <th>thou</th>\n",
              "    </tr>\n",
              "  </thead>\n",
              "  <tbody>\n",
              "    <tr>\n",
              "      <th>0</th>\n",
              "      <td>北海道</td>\n",
              "      <td>4509363</td>\n",
              "      <td>113097000</td>\n",
              "      <td>1000</td>\n",
              "    </tr>\n",
              "    <tr>\n",
              "      <th>1</th>\n",
              "      <td>青森</td>\n",
              "      <td>1103183</td>\n",
              "      <td>23177000</td>\n",
              "      <td>1000</td>\n",
              "    </tr>\n",
              "    <tr>\n",
              "      <th>2</th>\n",
              "      <td>岩手</td>\n",
              "      <td>1059293</td>\n",
              "      <td>24879000</td>\n",
              "      <td>1000</td>\n",
              "    </tr>\n",
              "    <tr>\n",
              "      <th>3</th>\n",
              "      <td>宮城</td>\n",
              "      <td>1915548</td>\n",
              "      <td>43152000</td>\n",
              "      <td>1000</td>\n",
              "    </tr>\n",
              "    <tr>\n",
              "      <th>4</th>\n",
              "      <td>秋田</td>\n",
              "      <td>868937</td>\n",
              "      <td>19229000</td>\n",
              "      <td>1000</td>\n",
              "    </tr>\n",
              "    <tr>\n",
              "      <th>5</th>\n",
              "      <td>山形</td>\n",
              "      <td>924199</td>\n",
              "      <td>19776000</td>\n",
              "      <td>1000</td>\n",
              "    </tr>\n",
              "    <tr>\n",
              "      <th>6</th>\n",
              "      <td>福島</td>\n",
              "      <td>1595503</td>\n",
              "      <td>34195000</td>\n",
              "      <td>1000</td>\n",
              "    </tr>\n",
              "    <tr>\n",
              "      <th>7</th>\n",
              "      <td>茨城</td>\n",
              "      <td>2443898</td>\n",
              "      <td>42922000</td>\n",
              "      <td>1000</td>\n",
              "    </tr>\n",
              "    <tr>\n",
              "      <th>8</th>\n",
              "      <td>栃木</td>\n",
              "      <td>1642620</td>\n",
              "      <td>30745000</td>\n",
              "      <td>1000</td>\n",
              "    </tr>\n",
              "    <tr>\n",
              "      <th>9</th>\n",
              "      <td>群馬</td>\n",
              "      <td>1646104</td>\n",
              "      <td>29684000</td>\n",
              "      <td>1000</td>\n",
              "    </tr>\n",
              "    <tr>\n",
              "      <th>10</th>\n",
              "      <td>埼玉</td>\n",
              "      <td>6096407</td>\n",
              "      <td>90860000</td>\n",
              "      <td>1000</td>\n",
              "    </tr>\n",
              "    <tr>\n",
              "      <th>11</th>\n",
              "      <td>千葉</td>\n",
              "      <td>5231131</td>\n",
              "      <td>85494000</td>\n",
              "      <td>1000</td>\n",
              "    </tr>\n",
              "    <tr>\n",
              "      <th>12</th>\n",
              "      <td>東京</td>\n",
              "      <td>11493560</td>\n",
              "      <td>466125000</td>\n",
              "      <td>1000</td>\n",
              "    </tr>\n",
              "    <tr>\n",
              "      <th>13</th>\n",
              "      <td>神奈川</td>\n",
              "      <td>7601252</td>\n",
              "      <td>152317000</td>\n",
              "      <td>1000</td>\n",
              "    </tr>\n",
              "    <tr>\n",
              "      <th>14</th>\n",
              "      <td>新潟</td>\n",
              "      <td>1907772</td>\n",
              "      <td>45720000</td>\n",
              "      <td>1000</td>\n",
              "    </tr>\n",
              "    <tr>\n",
              "      <th>15</th>\n",
              "      <td>富山</td>\n",
              "      <td>893015</td>\n",
              "      <td>21496000</td>\n",
              "      <td>1000</td>\n",
              "    </tr>\n",
              "    <tr>\n",
              "      <th>16</th>\n",
              "      <td>石川</td>\n",
              "      <td>946198</td>\n",
              "      <td>22385000</td>\n",
              "      <td>1000</td>\n",
              "    </tr>\n",
              "    <tr>\n",
              "      <th>17</th>\n",
              "      <td>福井</td>\n",
              "      <td>648910</td>\n",
              "      <td>13486000</td>\n",
              "      <td>1000</td>\n",
              "    </tr>\n",
              "    <tr>\n",
              "      <th>18</th>\n",
              "      <td>山梨</td>\n",
              "      <td>696023</td>\n",
              "      <td>13434000</td>\n",
              "      <td>1000</td>\n",
              "    </tr>\n",
              "    <tr>\n",
              "      <th>19</th>\n",
              "      <td>長野</td>\n",
              "      <td>1746050</td>\n",
              "      <td>39741000</td>\n",
              "      <td>1000</td>\n",
              "    </tr>\n",
              "    <tr>\n",
              "      <th>20</th>\n",
              "      <td>岐阜</td>\n",
              "      <td>1687256</td>\n",
              "      <td>25428000</td>\n",
              "      <td>1000</td>\n",
              "    </tr>\n",
              "    <tr>\n",
              "      <th>21</th>\n",
              "      <td>静岡</td>\n",
              "      <td>3093014</td>\n",
              "      <td>57531000</td>\n",
              "      <td>1000</td>\n",
              "    </tr>\n",
              "    <tr>\n",
              "      <th>22</th>\n",
              "      <td>愛知</td>\n",
              "      <td>6145895</td>\n",
              "      <td>131666000</td>\n",
              "      <td>1000</td>\n",
              "    </tr>\n",
              "    <tr>\n",
              "      <th>23</th>\n",
              "      <td>三重</td>\n",
              "      <td>1512253</td>\n",
              "      <td>26243000</td>\n",
              "      <td>1000</td>\n",
              "    </tr>\n",
              "    <tr>\n",
              "      <th>24</th>\n",
              "      <td>滋賀</td>\n",
              "      <td>1142334</td>\n",
              "      <td>15739000</td>\n",
              "      <td>1000</td>\n",
              "    </tr>\n",
              "    <tr>\n",
              "      <th>25</th>\n",
              "      <td>京都</td>\n",
              "      <td>2126007</td>\n",
              "      <td>57319000</td>\n",
              "      <td>1000</td>\n",
              "    </tr>\n",
              "    <tr>\n",
              "      <th>26</th>\n",
              "      <td>大阪</td>\n",
              "      <td>7330851</td>\n",
              "      <td>215191000</td>\n",
              "      <td>1000</td>\n",
              "    </tr>\n",
              "    <tr>\n",
              "      <th>27</th>\n",
              "      <td>兵庫</td>\n",
              "      <td>4598876</td>\n",
              "      <td>93560000</td>\n",
              "      <td>1000</td>\n",
              "    </tr>\n",
              "    <tr>\n",
              "      <th>28</th>\n",
              "      <td>奈良</td>\n",
              "      <td>1136450</td>\n",
              "      <td>18448000</td>\n",
              "      <td>1000</td>\n",
              "    </tr>\n",
              "    <tr>\n",
              "      <th>29</th>\n",
              "      <td>和歌山</td>\n",
              "      <td>813891</td>\n",
              "      <td>14490000</td>\n",
              "      <td>1000</td>\n",
              "    </tr>\n",
              "    <tr>\n",
              "      <th>30</th>\n",
              "      <td>鳥取</td>\n",
              "      <td>470863</td>\n",
              "      <td>10002000</td>\n",
              "      <td>1000</td>\n",
              "    </tr>\n",
              "    <tr>\n",
              "      <th>31</th>\n",
              "      <td>島根</td>\n",
              "      <td>572561</td>\n",
              "      <td>11323000</td>\n",
              "      <td>1000</td>\n",
              "    </tr>\n",
              "    <tr>\n",
              "      <th>32</th>\n",
              "      <td>岡山</td>\n",
              "      <td>1576199</td>\n",
              "      <td>25022000</td>\n",
              "      <td>1000</td>\n",
              "    </tr>\n",
              "    <tr>\n",
              "      <th>33</th>\n",
              "      <td>広島</td>\n",
              "      <td>2339501</td>\n",
              "      <td>50304000</td>\n",
              "      <td>1000</td>\n",
              "    </tr>\n",
              "    <tr>\n",
              "      <th>34</th>\n",
              "      <td>山口</td>\n",
              "      <td>1165183</td>\n",
              "      <td>21732000</td>\n",
              "      <td>1000</td>\n",
              "    </tr>\n",
              "    <tr>\n",
              "      <th>35</th>\n",
              "      <td>徳島</td>\n",
              "      <td>634532</td>\n",
              "      <td>12122000</td>\n",
              "      <td>1000</td>\n",
              "    </tr>\n",
              "    <tr>\n",
              "      <th>36</th>\n",
              "      <td>香川</td>\n",
              "      <td>819653</td>\n",
              "      <td>15269000</td>\n",
              "      <td>1000</td>\n",
              "    </tr>\n",
              "    <tr>\n",
              "      <th>37</th>\n",
              "      <td>愛媛</td>\n",
              "      <td>1160477</td>\n",
              "      <td>23029000</td>\n",
              "      <td>1000</td>\n",
              "    </tr>\n",
              "    <tr>\n",
              "      <th>38</th>\n",
              "      <td>高知</td>\n",
              "      <td>609848</td>\n",
              "      <td>15286000</td>\n",
              "      <td>1000</td>\n",
              "    </tr>\n",
              "    <tr>\n",
              "      <th>39</th>\n",
              "      <td>福岡</td>\n",
              "      <td>4194243</td>\n",
              "      <td>91566000</td>\n",
              "      <td>1000</td>\n",
              "    </tr>\n",
              "    <tr>\n",
              "      <th>40</th>\n",
              "      <td>佐賀</td>\n",
              "      <td>675917</td>\n",
              "      <td>13183000</td>\n",
              "      <td>1000</td>\n",
              "    </tr>\n",
              "    <tr>\n",
              "      <th>41</th>\n",
              "      <td>長崎</td>\n",
              "      <td>1136351</td>\n",
              "      <td>22218000</td>\n",
              "      <td>1000</td>\n",
              "    </tr>\n",
              "    <tr>\n",
              "      <th>42</th>\n",
              "      <td>熊本</td>\n",
              "      <td>1463363</td>\n",
              "      <td>27073000</td>\n",
              "      <td>1000</td>\n",
              "    </tr>\n",
              "    <tr>\n",
              "      <th>43</th>\n",
              "      <td>大分</td>\n",
              "      <td>968502</td>\n",
              "      <td>19316000</td>\n",
              "      <td>1000</td>\n",
              "    </tr>\n",
              "    <tr>\n",
              "      <th>44</th>\n",
              "      <td>宮崎</td>\n",
              "      <td>909293</td>\n",
              "      <td>19994000</td>\n",
              "      <td>1000</td>\n",
              "    </tr>\n",
              "    <tr>\n",
              "      <th>45</th>\n",
              "      <td>鹿児島</td>\n",
              "      <td>1355120</td>\n",
              "      <td>20674000</td>\n",
              "      <td>1000</td>\n",
              "    </tr>\n",
              "  </tbody>\n",
              "</table>\n",
              "</div>"
            ],
            "text/plain": [
              "   prefecture     adult       beer  thou\n",
              "0         北海道   4509363  113097000  1000\n",
              "1          青森   1103183   23177000  1000\n",
              "2          岩手   1059293   24879000  1000\n",
              "3          宮城   1915548   43152000  1000\n",
              "4          秋田    868937   19229000  1000\n",
              "5          山形    924199   19776000  1000\n",
              "6          福島   1595503   34195000  1000\n",
              "7          茨城   2443898   42922000  1000\n",
              "8          栃木   1642620   30745000  1000\n",
              "9          群馬   1646104   29684000  1000\n",
              "10         埼玉   6096407   90860000  1000\n",
              "11         千葉   5231131   85494000  1000\n",
              "12         東京  11493560  466125000  1000\n",
              "13        神奈川   7601252  152317000  1000\n",
              "14         新潟   1907772   45720000  1000\n",
              "15         富山    893015   21496000  1000\n",
              "16         石川    946198   22385000  1000\n",
              "17         福井    648910   13486000  1000\n",
              "18         山梨    696023   13434000  1000\n",
              "19         長野   1746050   39741000  1000\n",
              "20         岐阜   1687256   25428000  1000\n",
              "21         静岡   3093014   57531000  1000\n",
              "22         愛知   6145895  131666000  1000\n",
              "23         三重   1512253   26243000  1000\n",
              "24         滋賀   1142334   15739000  1000\n",
              "25         京都   2126007   57319000  1000\n",
              "26         大阪   7330851  215191000  1000\n",
              "27         兵庫   4598876   93560000  1000\n",
              "28         奈良   1136450   18448000  1000\n",
              "29        和歌山    813891   14490000  1000\n",
              "30         鳥取    470863   10002000  1000\n",
              "31         島根    572561   11323000  1000\n",
              "32         岡山   1576199   25022000  1000\n",
              "33         広島   2339501   50304000  1000\n",
              "34         山口   1165183   21732000  1000\n",
              "35         徳島    634532   12122000  1000\n",
              "36         香川    819653   15269000  1000\n",
              "37         愛媛   1160477   23029000  1000\n",
              "38         高知    609848   15286000  1000\n",
              "39         福岡   4194243   91566000  1000\n",
              "40         佐賀    675917   13183000  1000\n",
              "41         長崎   1136351   22218000  1000\n",
              "42         熊本   1463363   27073000  1000\n",
              "43         大分    968502   19316000  1000\n",
              "44         宮崎    909293   19994000  1000\n",
              "45        鹿児島   1355120   20674000  1000"
            ]
          },
          "metadata": {
            "tags": []
          },
          "execution_count": 57
        }
      ]
    },
    {
      "cell_type": "code",
      "metadata": {
        "colab": {
          "base_uri": "https://localhost:8080/",
          "height": 1000
        },
        "id": "WKf6g1uZE4Kz",
        "outputId": "dcfc1f85-c8ad-46cb-99f6-aeeaf729ba7c"
      },
      "source": [
        "#ビールの消費量を一人当たりで割る。\n",
        "df_merge[\"per_beer\"] = df_merge[\"beer\"] / df_merge[\"adult\"]\n",
        "df_merge"
      ],
      "execution_count": 83,
      "outputs": [
        {
          "output_type": "execute_result",
          "data": {
            "text/html": [
              "<div>\n",
              "<style scoped>\n",
              "    .dataframe tbody tr th:only-of-type {\n",
              "        vertical-align: middle;\n",
              "    }\n",
              "\n",
              "    .dataframe tbody tr th {\n",
              "        vertical-align: top;\n",
              "    }\n",
              "\n",
              "    .dataframe thead th {\n",
              "        text-align: right;\n",
              "    }\n",
              "</style>\n",
              "<table border=\"1\" class=\"dataframe\">\n",
              "  <thead>\n",
              "    <tr style=\"text-align: right;\">\n",
              "      <th></th>\n",
              "      <th>prefecture</th>\n",
              "      <th>adult</th>\n",
              "      <th>beer</th>\n",
              "      <th>per_beer</th>\n",
              "    </tr>\n",
              "  </thead>\n",
              "  <tbody>\n",
              "    <tr>\n",
              "      <th>0</th>\n",
              "      <td>北海道</td>\n",
              "      <td>4509363</td>\n",
              "      <td>113097000</td>\n",
              "      <td>25.080483</td>\n",
              "    </tr>\n",
              "    <tr>\n",
              "      <th>1</th>\n",
              "      <td>青森</td>\n",
              "      <td>1103183</td>\n",
              "      <td>23177000</td>\n",
              "      <td>21.009207</td>\n",
              "    </tr>\n",
              "    <tr>\n",
              "      <th>2</th>\n",
              "      <td>岩手</td>\n",
              "      <td>1059293</td>\n",
              "      <td>24879000</td>\n",
              "      <td>23.486420</td>\n",
              "    </tr>\n",
              "    <tr>\n",
              "      <th>3</th>\n",
              "      <td>宮城</td>\n",
              "      <td>1915548</td>\n",
              "      <td>43152000</td>\n",
              "      <td>22.527235</td>\n",
              "    </tr>\n",
              "    <tr>\n",
              "      <th>4</th>\n",
              "      <td>秋田</td>\n",
              "      <td>868937</td>\n",
              "      <td>19229000</td>\n",
              "      <td>22.129337</td>\n",
              "    </tr>\n",
              "    <tr>\n",
              "      <th>5</th>\n",
              "      <td>山形</td>\n",
              "      <td>924199</td>\n",
              "      <td>19776000</td>\n",
              "      <td>21.397989</td>\n",
              "    </tr>\n",
              "    <tr>\n",
              "      <th>6</th>\n",
              "      <td>福島</td>\n",
              "      <td>1595503</td>\n",
              "      <td>34195000</td>\n",
              "      <td>21.432113</td>\n",
              "    </tr>\n",
              "    <tr>\n",
              "      <th>7</th>\n",
              "      <td>茨城</td>\n",
              "      <td>2443898</td>\n",
              "      <td>42922000</td>\n",
              "      <td>17.562926</td>\n",
              "    </tr>\n",
              "    <tr>\n",
              "      <th>8</th>\n",
              "      <td>栃木</td>\n",
              "      <td>1642620</td>\n",
              "      <td>30745000</td>\n",
              "      <td>18.717050</td>\n",
              "    </tr>\n",
              "    <tr>\n",
              "      <th>9</th>\n",
              "      <td>群馬</td>\n",
              "      <td>1646104</td>\n",
              "      <td>29684000</td>\n",
              "      <td>18.032882</td>\n",
              "    </tr>\n",
              "    <tr>\n",
              "      <th>10</th>\n",
              "      <td>埼玉</td>\n",
              "      <td>6096407</td>\n",
              "      <td>90860000</td>\n",
              "      <td>14.903861</td>\n",
              "    </tr>\n",
              "    <tr>\n",
              "      <th>11</th>\n",
              "      <td>千葉</td>\n",
              "      <td>5231131</td>\n",
              "      <td>85494000</td>\n",
              "      <td>16.343311</td>\n",
              "    </tr>\n",
              "    <tr>\n",
              "      <th>12</th>\n",
              "      <td>東京</td>\n",
              "      <td>11493560</td>\n",
              "      <td>466125000</td>\n",
              "      <td>40.555320</td>\n",
              "    </tr>\n",
              "    <tr>\n",
              "      <th>13</th>\n",
              "      <td>神奈川</td>\n",
              "      <td>7601252</td>\n",
              "      <td>152317000</td>\n",
              "      <td>20.038409</td>\n",
              "    </tr>\n",
              "    <tr>\n",
              "      <th>14</th>\n",
              "      <td>新潟</td>\n",
              "      <td>1907772</td>\n",
              "      <td>45720000</td>\n",
              "      <td>23.965128</td>\n",
              "    </tr>\n",
              "    <tr>\n",
              "      <th>15</th>\n",
              "      <td>富山</td>\n",
              "      <td>893015</td>\n",
              "      <td>21496000</td>\n",
              "      <td>24.071264</td>\n",
              "    </tr>\n",
              "    <tr>\n",
              "      <th>16</th>\n",
              "      <td>石川</td>\n",
              "      <td>946198</td>\n",
              "      <td>22385000</td>\n",
              "      <td>23.657839</td>\n",
              "    </tr>\n",
              "    <tr>\n",
              "      <th>17</th>\n",
              "      <td>福井</td>\n",
              "      <td>648910</td>\n",
              "      <td>13486000</td>\n",
              "      <td>20.782543</td>\n",
              "    </tr>\n",
              "    <tr>\n",
              "      <th>18</th>\n",
              "      <td>山梨</td>\n",
              "      <td>696023</td>\n",
              "      <td>13434000</td>\n",
              "      <td>19.301086</td>\n",
              "    </tr>\n",
              "    <tr>\n",
              "      <th>19</th>\n",
              "      <td>長野</td>\n",
              "      <td>1746050</td>\n",
              "      <td>39741000</td>\n",
              "      <td>22.760517</td>\n",
              "    </tr>\n",
              "    <tr>\n",
              "      <th>20</th>\n",
              "      <td>岐阜</td>\n",
              "      <td>1687256</td>\n",
              "      <td>25428000</td>\n",
              "      <td>15.070624</td>\n",
              "    </tr>\n",
              "    <tr>\n",
              "      <th>21</th>\n",
              "      <td>静岡</td>\n",
              "      <td>3093014</td>\n",
              "      <td>57531000</td>\n",
              "      <td>18.600304</td>\n",
              "    </tr>\n",
              "    <tr>\n",
              "      <th>22</th>\n",
              "      <td>愛知</td>\n",
              "      <td>6145895</td>\n",
              "      <td>131666000</td>\n",
              "      <td>21.423405</td>\n",
              "    </tr>\n",
              "    <tr>\n",
              "      <th>23</th>\n",
              "      <td>三重</td>\n",
              "      <td>1512253</td>\n",
              "      <td>26243000</td>\n",
              "      <td>17.353578</td>\n",
              "    </tr>\n",
              "    <tr>\n",
              "      <th>24</th>\n",
              "      <td>滋賀</td>\n",
              "      <td>1142334</td>\n",
              "      <td>15739000</td>\n",
              "      <td>13.777932</td>\n",
              "    </tr>\n",
              "    <tr>\n",
              "      <th>25</th>\n",
              "      <td>京都</td>\n",
              "      <td>2126007</td>\n",
              "      <td>57319000</td>\n",
              "      <td>26.960871</td>\n",
              "    </tr>\n",
              "    <tr>\n",
              "      <th>26</th>\n",
              "      <td>大阪</td>\n",
              "      <td>7330851</td>\n",
              "      <td>215191000</td>\n",
              "      <td>29.354164</td>\n",
              "    </tr>\n",
              "    <tr>\n",
              "      <th>27</th>\n",
              "      <td>兵庫</td>\n",
              "      <td>4598876</td>\n",
              "      <td>93560000</td>\n",
              "      <td>20.344101</td>\n",
              "    </tr>\n",
              "    <tr>\n",
              "      <th>28</th>\n",
              "      <td>奈良</td>\n",
              "      <td>1136450</td>\n",
              "      <td>18448000</td>\n",
              "      <td>16.233006</td>\n",
              "    </tr>\n",
              "    <tr>\n",
              "      <th>29</th>\n",
              "      <td>和歌山</td>\n",
              "      <td>813891</td>\n",
              "      <td>14490000</td>\n",
              "      <td>17.803367</td>\n",
              "    </tr>\n",
              "    <tr>\n",
              "      <th>30</th>\n",
              "      <td>鳥取</td>\n",
              "      <td>470863</td>\n",
              "      <td>10002000</td>\n",
              "      <td>21.241847</td>\n",
              "    </tr>\n",
              "    <tr>\n",
              "      <th>31</th>\n",
              "      <td>島根</td>\n",
              "      <td>572561</td>\n",
              "      <td>11323000</td>\n",
              "      <td>19.776059</td>\n",
              "    </tr>\n",
              "    <tr>\n",
              "      <th>32</th>\n",
              "      <td>岡山</td>\n",
              "      <td>1576199</td>\n",
              "      <td>25022000</td>\n",
              "      <td>15.874899</td>\n",
              "    </tr>\n",
              "    <tr>\n",
              "      <th>33</th>\n",
              "      <td>広島</td>\n",
              "      <td>2339501</td>\n",
              "      <td>50304000</td>\n",
              "      <td>21.502021</td>\n",
              "    </tr>\n",
              "    <tr>\n",
              "      <th>34</th>\n",
              "      <td>山口</td>\n",
              "      <td>1165183</td>\n",
              "      <td>21732000</td>\n",
              "      <td>18.651148</td>\n",
              "    </tr>\n",
              "    <tr>\n",
              "      <th>35</th>\n",
              "      <td>徳島</td>\n",
              "      <td>634532</td>\n",
              "      <td>12122000</td>\n",
              "      <td>19.103843</td>\n",
              "    </tr>\n",
              "    <tr>\n",
              "      <th>36</th>\n",
              "      <td>香川</td>\n",
              "      <td>819653</td>\n",
              "      <td>15269000</td>\n",
              "      <td>18.628615</td>\n",
              "    </tr>\n",
              "    <tr>\n",
              "      <th>37</th>\n",
              "      <td>愛媛</td>\n",
              "      <td>1160477</td>\n",
              "      <td>23029000</td>\n",
              "      <td>19.844426</td>\n",
              "    </tr>\n",
              "    <tr>\n",
              "      <th>38</th>\n",
              "      <td>高知</td>\n",
              "      <td>609848</td>\n",
              "      <td>15286000</td>\n",
              "      <td>25.065262</td>\n",
              "    </tr>\n",
              "    <tr>\n",
              "      <th>39</th>\n",
              "      <td>福岡</td>\n",
              "      <td>4194243</td>\n",
              "      <td>91566000</td>\n",
              "      <td>21.831353</td>\n",
              "    </tr>\n",
              "    <tr>\n",
              "      <th>40</th>\n",
              "      <td>佐賀</td>\n",
              "      <td>675917</td>\n",
              "      <td>13183000</td>\n",
              "      <td>19.503874</td>\n",
              "    </tr>\n",
              "    <tr>\n",
              "      <th>41</th>\n",
              "      <td>長崎</td>\n",
              "      <td>1136351</td>\n",
              "      <td>22218000</td>\n",
              "      <td>19.552057</td>\n",
              "    </tr>\n",
              "    <tr>\n",
              "      <th>42</th>\n",
              "      <td>熊本</td>\n",
              "      <td>1463363</td>\n",
              "      <td>27073000</td>\n",
              "      <td>18.500536</td>\n",
              "    </tr>\n",
              "    <tr>\n",
              "      <th>43</th>\n",
              "      <td>大分</td>\n",
              "      <td>968502</td>\n",
              "      <td>19316000</td>\n",
              "      <td>19.944202</td>\n",
              "    </tr>\n",
              "    <tr>\n",
              "      <th>44</th>\n",
              "      <td>宮崎</td>\n",
              "      <td>909293</td>\n",
              "      <td>19994000</td>\n",
              "      <td>21.988512</td>\n",
              "    </tr>\n",
              "    <tr>\n",
              "      <th>45</th>\n",
              "      <td>鹿児島</td>\n",
              "      <td>1355120</td>\n",
              "      <td>20674000</td>\n",
              "      <td>15.256213</td>\n",
              "    </tr>\n",
              "  </tbody>\n",
              "</table>\n",
              "</div>"
            ],
            "text/plain": [
              "   prefecture     adult       beer   per_beer\n",
              "0         北海道   4509363  113097000  25.080483\n",
              "1          青森   1103183   23177000  21.009207\n",
              "2          岩手   1059293   24879000  23.486420\n",
              "3          宮城   1915548   43152000  22.527235\n",
              "4          秋田    868937   19229000  22.129337\n",
              "5          山形    924199   19776000  21.397989\n",
              "6          福島   1595503   34195000  21.432113\n",
              "7          茨城   2443898   42922000  17.562926\n",
              "8          栃木   1642620   30745000  18.717050\n",
              "9          群馬   1646104   29684000  18.032882\n",
              "10         埼玉   6096407   90860000  14.903861\n",
              "11         千葉   5231131   85494000  16.343311\n",
              "12         東京  11493560  466125000  40.555320\n",
              "13        神奈川   7601252  152317000  20.038409\n",
              "14         新潟   1907772   45720000  23.965128\n",
              "15         富山    893015   21496000  24.071264\n",
              "16         石川    946198   22385000  23.657839\n",
              "17         福井    648910   13486000  20.782543\n",
              "18         山梨    696023   13434000  19.301086\n",
              "19         長野   1746050   39741000  22.760517\n",
              "20         岐阜   1687256   25428000  15.070624\n",
              "21         静岡   3093014   57531000  18.600304\n",
              "22         愛知   6145895  131666000  21.423405\n",
              "23         三重   1512253   26243000  17.353578\n",
              "24         滋賀   1142334   15739000  13.777932\n",
              "25         京都   2126007   57319000  26.960871\n",
              "26         大阪   7330851  215191000  29.354164\n",
              "27         兵庫   4598876   93560000  20.344101\n",
              "28         奈良   1136450   18448000  16.233006\n",
              "29        和歌山    813891   14490000  17.803367\n",
              "30         鳥取    470863   10002000  21.241847\n",
              "31         島根    572561   11323000  19.776059\n",
              "32         岡山   1576199   25022000  15.874899\n",
              "33         広島   2339501   50304000  21.502021\n",
              "34         山口   1165183   21732000  18.651148\n",
              "35         徳島    634532   12122000  19.103843\n",
              "36         香川    819653   15269000  18.628615\n",
              "37         愛媛   1160477   23029000  19.844426\n",
              "38         高知    609848   15286000  25.065262\n",
              "39         福岡   4194243   91566000  21.831353\n",
              "40         佐賀    675917   13183000  19.503874\n",
              "41         長崎   1136351   22218000  19.552057\n",
              "42         熊本   1463363   27073000  18.500536\n",
              "43         大分    968502   19316000  19.944202\n",
              "44         宮崎    909293   19994000  21.988512\n",
              "45        鹿児島   1355120   20674000  15.256213"
            ]
          },
          "metadata": {
            "tags": []
          },
          "execution_count": 83
        }
      ]
    },
    {
      "cell_type": "code",
      "metadata": {
        "colab": {
          "base_uri": "https://localhost:8080/",
          "height": 323
        },
        "id": "u_TanzzCE4K0",
        "outputId": "bbb7233d-268f-4f7a-c3e4-5e88a928f0ed"
      },
      "source": [
        "#thouは不要なので削除\n",
        "df_merge = df_merge.drop(\"thou\",axis=1)"
      ],
      "execution_count": 84,
      "outputs": [
        {
          "output_type": "error",
          "ename": "KeyError",
          "evalue": "ignored",
          "traceback": [
            "\u001b[0;31m---------------------------------------------------------------------------\u001b[0m",
            "\u001b[0;31mKeyError\u001b[0m                                  Traceback (most recent call last)",
            "\u001b[0;32m<ipython-input-84-de4c3b45b823>\u001b[0m in \u001b[0;36m<module>\u001b[0;34m()\u001b[0m\n\u001b[1;32m      1\u001b[0m \u001b[0;31m#thouは不要なので削除\u001b[0m\u001b[0;34m\u001b[0m\u001b[0;34m\u001b[0m\u001b[0;34m\u001b[0m\u001b[0m\n\u001b[0;32m----> 2\u001b[0;31m \u001b[0mdf_merge\u001b[0m \u001b[0;34m=\u001b[0m \u001b[0mdf_merge\u001b[0m\u001b[0;34m.\u001b[0m\u001b[0mdrop\u001b[0m\u001b[0;34m(\u001b[0m\u001b[0;34m\"thou\"\u001b[0m\u001b[0;34m,\u001b[0m\u001b[0maxis\u001b[0m\u001b[0;34m=\u001b[0m\u001b[0;36m1\u001b[0m\u001b[0;34m)\u001b[0m\u001b[0;34m\u001b[0m\u001b[0;34m\u001b[0m\u001b[0m\n\u001b[0m",
            "\u001b[0;32m/usr/local/lib/python3.7/dist-packages/pandas/core/frame.py\u001b[0m in \u001b[0;36mdrop\u001b[0;34m(self, labels, axis, index, columns, level, inplace, errors)\u001b[0m\n\u001b[1;32m   4172\u001b[0m             \u001b[0mlevel\u001b[0m\u001b[0;34m=\u001b[0m\u001b[0mlevel\u001b[0m\u001b[0;34m,\u001b[0m\u001b[0;34m\u001b[0m\u001b[0;34m\u001b[0m\u001b[0m\n\u001b[1;32m   4173\u001b[0m             \u001b[0minplace\u001b[0m\u001b[0;34m=\u001b[0m\u001b[0minplace\u001b[0m\u001b[0;34m,\u001b[0m\u001b[0;34m\u001b[0m\u001b[0;34m\u001b[0m\u001b[0m\n\u001b[0;32m-> 4174\u001b[0;31m             \u001b[0merrors\u001b[0m\u001b[0;34m=\u001b[0m\u001b[0merrors\u001b[0m\u001b[0;34m,\u001b[0m\u001b[0;34m\u001b[0m\u001b[0;34m\u001b[0m\u001b[0m\n\u001b[0m\u001b[1;32m   4175\u001b[0m         )\n\u001b[1;32m   4176\u001b[0m \u001b[0;34m\u001b[0m\u001b[0m\n",
            "\u001b[0;32m/usr/local/lib/python3.7/dist-packages/pandas/core/generic.py\u001b[0m in \u001b[0;36mdrop\u001b[0;34m(self, labels, axis, index, columns, level, inplace, errors)\u001b[0m\n\u001b[1;32m   3887\u001b[0m         \u001b[0;32mfor\u001b[0m \u001b[0maxis\u001b[0m\u001b[0;34m,\u001b[0m \u001b[0mlabels\u001b[0m \u001b[0;32min\u001b[0m \u001b[0maxes\u001b[0m\u001b[0;34m.\u001b[0m\u001b[0mitems\u001b[0m\u001b[0;34m(\u001b[0m\u001b[0;34m)\u001b[0m\u001b[0;34m:\u001b[0m\u001b[0;34m\u001b[0m\u001b[0;34m\u001b[0m\u001b[0m\n\u001b[1;32m   3888\u001b[0m             \u001b[0;32mif\u001b[0m \u001b[0mlabels\u001b[0m \u001b[0;32mis\u001b[0m \u001b[0;32mnot\u001b[0m \u001b[0;32mNone\u001b[0m\u001b[0;34m:\u001b[0m\u001b[0;34m\u001b[0m\u001b[0;34m\u001b[0m\u001b[0m\n\u001b[0;32m-> 3889\u001b[0;31m                 \u001b[0mobj\u001b[0m \u001b[0;34m=\u001b[0m \u001b[0mobj\u001b[0m\u001b[0;34m.\u001b[0m\u001b[0m_drop_axis\u001b[0m\u001b[0;34m(\u001b[0m\u001b[0mlabels\u001b[0m\u001b[0;34m,\u001b[0m \u001b[0maxis\u001b[0m\u001b[0;34m,\u001b[0m \u001b[0mlevel\u001b[0m\u001b[0;34m=\u001b[0m\u001b[0mlevel\u001b[0m\u001b[0;34m,\u001b[0m \u001b[0merrors\u001b[0m\u001b[0;34m=\u001b[0m\u001b[0merrors\u001b[0m\u001b[0;34m)\u001b[0m\u001b[0;34m\u001b[0m\u001b[0;34m\u001b[0m\u001b[0m\n\u001b[0m\u001b[1;32m   3890\u001b[0m \u001b[0;34m\u001b[0m\u001b[0m\n\u001b[1;32m   3891\u001b[0m         \u001b[0;32mif\u001b[0m \u001b[0minplace\u001b[0m\u001b[0;34m:\u001b[0m\u001b[0;34m\u001b[0m\u001b[0;34m\u001b[0m\u001b[0m\n",
            "\u001b[0;32m/usr/local/lib/python3.7/dist-packages/pandas/core/generic.py\u001b[0m in \u001b[0;36m_drop_axis\u001b[0;34m(self, labels, axis, level, errors)\u001b[0m\n\u001b[1;32m   3921\u001b[0m                 \u001b[0mnew_axis\u001b[0m \u001b[0;34m=\u001b[0m \u001b[0maxis\u001b[0m\u001b[0;34m.\u001b[0m\u001b[0mdrop\u001b[0m\u001b[0;34m(\u001b[0m\u001b[0mlabels\u001b[0m\u001b[0;34m,\u001b[0m \u001b[0mlevel\u001b[0m\u001b[0;34m=\u001b[0m\u001b[0mlevel\u001b[0m\u001b[0;34m,\u001b[0m \u001b[0merrors\u001b[0m\u001b[0;34m=\u001b[0m\u001b[0merrors\u001b[0m\u001b[0;34m)\u001b[0m\u001b[0;34m\u001b[0m\u001b[0;34m\u001b[0m\u001b[0m\n\u001b[1;32m   3922\u001b[0m             \u001b[0;32melse\u001b[0m\u001b[0;34m:\u001b[0m\u001b[0;34m\u001b[0m\u001b[0;34m\u001b[0m\u001b[0m\n\u001b[0;32m-> 3923\u001b[0;31m                 \u001b[0mnew_axis\u001b[0m \u001b[0;34m=\u001b[0m \u001b[0maxis\u001b[0m\u001b[0;34m.\u001b[0m\u001b[0mdrop\u001b[0m\u001b[0;34m(\u001b[0m\u001b[0mlabels\u001b[0m\u001b[0;34m,\u001b[0m \u001b[0merrors\u001b[0m\u001b[0;34m=\u001b[0m\u001b[0merrors\u001b[0m\u001b[0;34m)\u001b[0m\u001b[0;34m\u001b[0m\u001b[0;34m\u001b[0m\u001b[0m\n\u001b[0m\u001b[1;32m   3924\u001b[0m             \u001b[0mresult\u001b[0m \u001b[0;34m=\u001b[0m \u001b[0mself\u001b[0m\u001b[0;34m.\u001b[0m\u001b[0mreindex\u001b[0m\u001b[0;34m(\u001b[0m\u001b[0;34m**\u001b[0m\u001b[0;34m{\u001b[0m\u001b[0maxis_name\u001b[0m\u001b[0;34m:\u001b[0m \u001b[0mnew_axis\u001b[0m\u001b[0;34m}\u001b[0m\u001b[0;34m)\u001b[0m\u001b[0;34m\u001b[0m\u001b[0;34m\u001b[0m\u001b[0m\n\u001b[1;32m   3925\u001b[0m \u001b[0;34m\u001b[0m\u001b[0m\n",
            "\u001b[0;32m/usr/local/lib/python3.7/dist-packages/pandas/core/indexes/base.py\u001b[0m in \u001b[0;36mdrop\u001b[0;34m(self, labels, errors)\u001b[0m\n\u001b[1;32m   5285\u001b[0m         \u001b[0;32mif\u001b[0m \u001b[0mmask\u001b[0m\u001b[0;34m.\u001b[0m\u001b[0many\u001b[0m\u001b[0;34m(\u001b[0m\u001b[0;34m)\u001b[0m\u001b[0;34m:\u001b[0m\u001b[0;34m\u001b[0m\u001b[0;34m\u001b[0m\u001b[0m\n\u001b[1;32m   5286\u001b[0m             \u001b[0;32mif\u001b[0m \u001b[0merrors\u001b[0m \u001b[0;34m!=\u001b[0m \u001b[0;34m\"ignore\"\u001b[0m\u001b[0;34m:\u001b[0m\u001b[0;34m\u001b[0m\u001b[0;34m\u001b[0m\u001b[0m\n\u001b[0;32m-> 5287\u001b[0;31m                 \u001b[0;32mraise\u001b[0m \u001b[0mKeyError\u001b[0m\u001b[0;34m(\u001b[0m\u001b[0;34mf\"{labels[mask]} not found in axis\"\u001b[0m\u001b[0;34m)\u001b[0m\u001b[0;34m\u001b[0m\u001b[0;34m\u001b[0m\u001b[0m\n\u001b[0m\u001b[1;32m   5288\u001b[0m             \u001b[0mindexer\u001b[0m \u001b[0;34m=\u001b[0m \u001b[0mindexer\u001b[0m\u001b[0;34m[\u001b[0m\u001b[0;34m~\u001b[0m\u001b[0mmask\u001b[0m\u001b[0;34m]\u001b[0m\u001b[0;34m\u001b[0m\u001b[0;34m\u001b[0m\u001b[0m\n\u001b[1;32m   5289\u001b[0m         \u001b[0;32mreturn\u001b[0m \u001b[0mself\u001b[0m\u001b[0;34m.\u001b[0m\u001b[0mdelete\u001b[0m\u001b[0;34m(\u001b[0m\u001b[0mindexer\u001b[0m\u001b[0;34m)\u001b[0m\u001b[0;34m\u001b[0m\u001b[0;34m\u001b[0m\u001b[0m\n",
            "\u001b[0;31mKeyError\u001b[0m: \"['thou'] not found in axis\""
          ]
        }
      ]
    },
    {
      "cell_type": "markdown",
      "metadata": {
        "id": "BQ4-wn24E4K0"
      },
      "source": [
        "長かった工程も最後です。  \n",
        "df_mergeとdf_tempを結合してみましょう。結合されたデータ名はdfにしてください。できたらdf0と一致しているか確認して見ましょう。  \n",
        "県名の表記が違うので、注意が必要です。"
      ]
    },
    {
      "cell_type": "code",
      "metadata": {
        "colab": {
          "base_uri": "https://localhost:8080/",
          "height": 197
        },
        "id": "OyyQaTt0E4K1",
        "outputId": "035cf532-e25c-421c-8b66-2801c81142b7"
      },
      "source": [
        "df_temp = pd.read_csv(\"年平均気温.csv\")\n",
        "df_temp.head()"
      ],
      "execution_count": 87,
      "outputs": [
        {
          "output_type": "execute_result",
          "data": {
            "text/html": [
              "<div>\n",
              "<style scoped>\n",
              "    .dataframe tbody tr th:only-of-type {\n",
              "        vertical-align: middle;\n",
              "    }\n",
              "\n",
              "    .dataframe tbody tr th {\n",
              "        vertical-align: top;\n",
              "    }\n",
              "\n",
              "    .dataframe thead th {\n",
              "        text-align: right;\n",
              "    }\n",
              "</style>\n",
              "<table border=\"1\" class=\"dataframe\">\n",
              "  <thead>\n",
              "    <tr style=\"text-align: right;\">\n",
              "      <th></th>\n",
              "      <th>prefecture</th>\n",
              "      <th>ave_temp</th>\n",
              "    </tr>\n",
              "  </thead>\n",
              "  <tbody>\n",
              "    <tr>\n",
              "      <th>0</th>\n",
              "      <td>北海道</td>\n",
              "      <td>9.5</td>\n",
              "    </tr>\n",
              "    <tr>\n",
              "      <th>1</th>\n",
              "      <td>青森県</td>\n",
              "      <td>11.0</td>\n",
              "    </tr>\n",
              "    <tr>\n",
              "      <th>2</th>\n",
              "      <td>岩手県</td>\n",
              "      <td>11.0</td>\n",
              "    </tr>\n",
              "    <tr>\n",
              "      <th>3</th>\n",
              "      <td>宮城県</td>\n",
              "      <td>13.6</td>\n",
              "    </tr>\n",
              "    <tr>\n",
              "      <th>4</th>\n",
              "      <td>秋田県</td>\n",
              "      <td>12.3</td>\n",
              "    </tr>\n",
              "  </tbody>\n",
              "</table>\n",
              "</div>"
            ],
            "text/plain": [
              "  prefecture  ave_temp\n",
              "0        北海道       9.5\n",
              "1        青森県      11.0\n",
              "2        岩手県      11.0\n",
              "3        宮城県      13.6\n",
              "4        秋田県      12.3"
            ]
          },
          "metadata": {
            "tags": []
          },
          "execution_count": 87
        }
      ]
    },
    {
      "cell_type": "code",
      "metadata": {
        "colab": {
          "base_uri": "https://localhost:8080/"
        },
        "id": "o1rl4Nn9V0ts",
        "outputId": "39f14608-c9b0-458d-bbfb-52a5dfac455a"
      },
      "source": [
        "df_temp[\"prefecture\"] =df_temp[\"prefecture\"].str[:-1]\n",
        "df_temp[\"prefecture\"]"
      ],
      "execution_count": 88,
      "outputs": [
        {
          "output_type": "execute_result",
          "data": {
            "text/plain": [
              "0      北海\n",
              "1      青森\n",
              "2      岩手\n",
              "3      宮城\n",
              "4      秋田\n",
              "5      山形\n",
              "6      福島\n",
              "7      茨城\n",
              "8      栃木\n",
              "9      群馬\n",
              "10     埼玉\n",
              "11     千葉\n",
              "12     東京\n",
              "13    神奈川\n",
              "14     新潟\n",
              "15     富山\n",
              "16     石川\n",
              "17     福井\n",
              "18     山梨\n",
              "19     長野\n",
              "20     岐阜\n",
              "21     静岡\n",
              "22     愛知\n",
              "23     三重\n",
              "24     滋賀\n",
              "25     京都\n",
              "26     大阪\n",
              "27     兵庫\n",
              "28     奈良\n",
              "29    和歌山\n",
              "30     鳥取\n",
              "31     島根\n",
              "32     岡山\n",
              "33     広島\n",
              "34     山口\n",
              "35     徳島\n",
              "36     香川\n",
              "37     愛媛\n",
              "38     高知\n",
              "39     福岡\n",
              "40     佐賀\n",
              "41     長崎\n",
              "42     熊本\n",
              "43     大分\n",
              "44     宮崎\n",
              "45    鹿児島\n",
              "46     沖縄\n",
              "Name: prefecture, dtype: object"
            ]
          },
          "metadata": {
            "tags": []
          },
          "execution_count": 88
        }
      ]
    },
    {
      "cell_type": "code",
      "metadata": {
        "colab": {
          "base_uri": "https://localhost:8080/",
          "height": 1000
        },
        "id": "sTDdUTlIWrK7",
        "outputId": "32832b9a-87fe-4c2c-c96c-4b323aa3c7ac"
      },
      "source": [
        "df_temp = df_temp.replace({\"北海\":\"北海道\"})\n",
        "df_temp"
      ],
      "execution_count": 89,
      "outputs": [
        {
          "output_type": "execute_result",
          "data": {
            "text/html": [
              "<div>\n",
              "<style scoped>\n",
              "    .dataframe tbody tr th:only-of-type {\n",
              "        vertical-align: middle;\n",
              "    }\n",
              "\n",
              "    .dataframe tbody tr th {\n",
              "        vertical-align: top;\n",
              "    }\n",
              "\n",
              "    .dataframe thead th {\n",
              "        text-align: right;\n",
              "    }\n",
              "</style>\n",
              "<table border=\"1\" class=\"dataframe\">\n",
              "  <thead>\n",
              "    <tr style=\"text-align: right;\">\n",
              "      <th></th>\n",
              "      <th>prefecture</th>\n",
              "      <th>ave_temp</th>\n",
              "    </tr>\n",
              "  </thead>\n",
              "  <tbody>\n",
              "    <tr>\n",
              "      <th>0</th>\n",
              "      <td>北海道</td>\n",
              "      <td>9.5</td>\n",
              "    </tr>\n",
              "    <tr>\n",
              "      <th>1</th>\n",
              "      <td>青森</td>\n",
              "      <td>11.0</td>\n",
              "    </tr>\n",
              "    <tr>\n",
              "      <th>2</th>\n",
              "      <td>岩手</td>\n",
              "      <td>11.0</td>\n",
              "    </tr>\n",
              "    <tr>\n",
              "      <th>3</th>\n",
              "      <td>宮城</td>\n",
              "      <td>13.6</td>\n",
              "    </tr>\n",
              "    <tr>\n",
              "      <th>4</th>\n",
              "      <td>秋田</td>\n",
              "      <td>12.3</td>\n",
              "    </tr>\n",
              "    <tr>\n",
              "      <th>5</th>\n",
              "      <td>山形</td>\n",
              "      <td>12.6</td>\n",
              "    </tr>\n",
              "    <tr>\n",
              "      <th>6</th>\n",
              "      <td>福島</td>\n",
              "      <td>14.2</td>\n",
              "    </tr>\n",
              "    <tr>\n",
              "      <th>7</th>\n",
              "      <td>茨城</td>\n",
              "      <td>15.3</td>\n",
              "    </tr>\n",
              "    <tr>\n",
              "      <th>8</th>\n",
              "      <td>栃木</td>\n",
              "      <td>15.2</td>\n",
              "    </tr>\n",
              "    <tr>\n",
              "      <th>9</th>\n",
              "      <td>群馬</td>\n",
              "      <td>16.1</td>\n",
              "    </tr>\n",
              "    <tr>\n",
              "      <th>10</th>\n",
              "      <td>埼玉</td>\n",
              "      <td>16.4</td>\n",
              "    </tr>\n",
              "    <tr>\n",
              "      <th>11</th>\n",
              "      <td>千葉</td>\n",
              "      <td>17.2</td>\n",
              "    </tr>\n",
              "    <tr>\n",
              "      <th>12</th>\n",
              "      <td>東京</td>\n",
              "      <td>16.8</td>\n",
              "    </tr>\n",
              "    <tr>\n",
              "      <th>13</th>\n",
              "      <td>神奈川</td>\n",
              "      <td>17.1</td>\n",
              "    </tr>\n",
              "    <tr>\n",
              "      <th>14</th>\n",
              "      <td>新潟</td>\n",
              "      <td>14.3</td>\n",
              "    </tr>\n",
              "    <tr>\n",
              "      <th>15</th>\n",
              "      <td>富山</td>\n",
              "      <td>15.0</td>\n",
              "    </tr>\n",
              "    <tr>\n",
              "      <th>16</th>\n",
              "      <td>石川</td>\n",
              "      <td>15.5</td>\n",
              "    </tr>\n",
              "    <tr>\n",
              "      <th>17</th>\n",
              "      <td>福井</td>\n",
              "      <td>15.3</td>\n",
              "    </tr>\n",
              "    <tr>\n",
              "      <th>18</th>\n",
              "      <td>山梨</td>\n",
              "      <td>16.0</td>\n",
              "    </tr>\n",
              "    <tr>\n",
              "      <th>19</th>\n",
              "      <td>長野</td>\n",
              "      <td>13.0</td>\n",
              "    </tr>\n",
              "    <tr>\n",
              "      <th>20</th>\n",
              "      <td>岐阜</td>\n",
              "      <td>16.9</td>\n",
              "    </tr>\n",
              "    <tr>\n",
              "      <th>21</th>\n",
              "      <td>静岡</td>\n",
              "      <td>17.7</td>\n",
              "    </tr>\n",
              "    <tr>\n",
              "      <th>22</th>\n",
              "      <td>愛知</td>\n",
              "      <td>16.9</td>\n",
              "    </tr>\n",
              "    <tr>\n",
              "      <th>23</th>\n",
              "      <td>三重</td>\n",
              "      <td>16.9</td>\n",
              "    </tr>\n",
              "    <tr>\n",
              "      <th>24</th>\n",
              "      <td>滋賀</td>\n",
              "      <td>15.7</td>\n",
              "    </tr>\n",
              "    <tr>\n",
              "      <th>25</th>\n",
              "      <td>京都</td>\n",
              "      <td>16.9</td>\n",
              "    </tr>\n",
              "    <tr>\n",
              "      <th>26</th>\n",
              "      <td>大阪</td>\n",
              "      <td>17.4</td>\n",
              "    </tr>\n",
              "    <tr>\n",
              "      <th>27</th>\n",
              "      <td>兵庫</td>\n",
              "      <td>17.4</td>\n",
              "    </tr>\n",
              "    <tr>\n",
              "      <th>28</th>\n",
              "      <td>奈良</td>\n",
              "      <td>16.2</td>\n",
              "    </tr>\n",
              "    <tr>\n",
              "      <th>29</th>\n",
              "      <td>和歌山</td>\n",
              "      <td>17.3</td>\n",
              "    </tr>\n",
              "    <tr>\n",
              "      <th>30</th>\n",
              "      <td>鳥取</td>\n",
              "      <td>15.7</td>\n",
              "    </tr>\n",
              "    <tr>\n",
              "      <th>31</th>\n",
              "      <td>島根</td>\n",
              "      <td>15.6</td>\n",
              "    </tr>\n",
              "    <tr>\n",
              "      <th>32</th>\n",
              "      <td>岡山</td>\n",
              "      <td>16.3</td>\n",
              "    </tr>\n",
              "    <tr>\n",
              "      <th>33</th>\n",
              "      <td>広島</td>\n",
              "      <td>16.8</td>\n",
              "    </tr>\n",
              "    <tr>\n",
              "      <th>34</th>\n",
              "      <td>山口</td>\n",
              "      <td>16.0</td>\n",
              "    </tr>\n",
              "    <tr>\n",
              "      <th>35</th>\n",
              "      <td>徳島</td>\n",
              "      <td>17.1</td>\n",
              "    </tr>\n",
              "    <tr>\n",
              "      <th>36</th>\n",
              "      <td>香川</td>\n",
              "      <td>17.0</td>\n",
              "    </tr>\n",
              "    <tr>\n",
              "      <th>37</th>\n",
              "      <td>愛媛</td>\n",
              "      <td>17.1</td>\n",
              "    </tr>\n",
              "    <tr>\n",
              "      <th>38</th>\n",
              "      <td>高知</td>\n",
              "      <td>17.4</td>\n",
              "    </tr>\n",
              "    <tr>\n",
              "      <th>39</th>\n",
              "      <td>福岡</td>\n",
              "      <td>17.7</td>\n",
              "    </tr>\n",
              "    <tr>\n",
              "      <th>40</th>\n",
              "      <td>佐賀</td>\n",
              "      <td>17.4</td>\n",
              "    </tr>\n",
              "    <tr>\n",
              "      <th>41</th>\n",
              "      <td>長崎</td>\n",
              "      <td>17.7</td>\n",
              "    </tr>\n",
              "    <tr>\n",
              "      <th>42</th>\n",
              "      <td>熊本</td>\n",
              "      <td>17.5</td>\n",
              "    </tr>\n",
              "    <tr>\n",
              "      <th>43</th>\n",
              "      <td>大分</td>\n",
              "      <td>17.1</td>\n",
              "    </tr>\n",
              "    <tr>\n",
              "      <th>44</th>\n",
              "      <td>宮崎</td>\n",
              "      <td>17.8</td>\n",
              "    </tr>\n",
              "    <tr>\n",
              "      <th>45</th>\n",
              "      <td>鹿児島</td>\n",
              "      <td>19.0</td>\n",
              "    </tr>\n",
              "    <tr>\n",
              "      <th>46</th>\n",
              "      <td>沖縄</td>\n",
              "      <td>23.5</td>\n",
              "    </tr>\n",
              "  </tbody>\n",
              "</table>\n",
              "</div>"
            ],
            "text/plain": [
              "   prefecture  ave_temp\n",
              "0         北海道       9.5\n",
              "1          青森      11.0\n",
              "2          岩手      11.0\n",
              "3          宮城      13.6\n",
              "4          秋田      12.3\n",
              "5          山形      12.6\n",
              "6          福島      14.2\n",
              "7          茨城      15.3\n",
              "8          栃木      15.2\n",
              "9          群馬      16.1\n",
              "10         埼玉      16.4\n",
              "11         千葉      17.2\n",
              "12         東京      16.8\n",
              "13        神奈川      17.1\n",
              "14         新潟      14.3\n",
              "15         富山      15.0\n",
              "16         石川      15.5\n",
              "17         福井      15.3\n",
              "18         山梨      16.0\n",
              "19         長野      13.0\n",
              "20         岐阜      16.9\n",
              "21         静岡      17.7\n",
              "22         愛知      16.9\n",
              "23         三重      16.9\n",
              "24         滋賀      15.7\n",
              "25         京都      16.9\n",
              "26         大阪      17.4\n",
              "27         兵庫      17.4\n",
              "28         奈良      16.2\n",
              "29        和歌山      17.3\n",
              "30         鳥取      15.7\n",
              "31         島根      15.6\n",
              "32         岡山      16.3\n",
              "33         広島      16.8\n",
              "34         山口      16.0\n",
              "35         徳島      17.1\n",
              "36         香川      17.0\n",
              "37         愛媛      17.1\n",
              "38         高知      17.4\n",
              "39         福岡      17.7\n",
              "40         佐賀      17.4\n",
              "41         長崎      17.7\n",
              "42         熊本      17.5\n",
              "43         大分      17.1\n",
              "44         宮崎      17.8\n",
              "45        鹿児島      19.0\n",
              "46         沖縄      23.5"
            ]
          },
          "metadata": {
            "tags": []
          },
          "execution_count": 89
        }
      ]
    },
    {
      "cell_type": "code",
      "metadata": {
        "colab": {
          "base_uri": "https://localhost:8080/",
          "height": 1000
        },
        "id": "bbM5N6CnWxxz",
        "outputId": "7da4a0c5-d82e-4581-b1d3-04a3d1ad9dad"
      },
      "source": [
        "df = pd.merge(df_merge,df_temp,how=\"inner\")\n",
        "df"
      ],
      "execution_count": 90,
      "outputs": [
        {
          "output_type": "execute_result",
          "data": {
            "text/html": [
              "<div>\n",
              "<style scoped>\n",
              "    .dataframe tbody tr th:only-of-type {\n",
              "        vertical-align: middle;\n",
              "    }\n",
              "\n",
              "    .dataframe tbody tr th {\n",
              "        vertical-align: top;\n",
              "    }\n",
              "\n",
              "    .dataframe thead th {\n",
              "        text-align: right;\n",
              "    }\n",
              "</style>\n",
              "<table border=\"1\" class=\"dataframe\">\n",
              "  <thead>\n",
              "    <tr style=\"text-align: right;\">\n",
              "      <th></th>\n",
              "      <th>prefecture</th>\n",
              "      <th>adult</th>\n",
              "      <th>beer</th>\n",
              "      <th>per_beer</th>\n",
              "      <th>ave_temp</th>\n",
              "    </tr>\n",
              "  </thead>\n",
              "  <tbody>\n",
              "    <tr>\n",
              "      <th>0</th>\n",
              "      <td>北海道</td>\n",
              "      <td>4509363</td>\n",
              "      <td>113097000</td>\n",
              "      <td>25.080483</td>\n",
              "      <td>9.5</td>\n",
              "    </tr>\n",
              "    <tr>\n",
              "      <th>1</th>\n",
              "      <td>青森</td>\n",
              "      <td>1103183</td>\n",
              "      <td>23177000</td>\n",
              "      <td>21.009207</td>\n",
              "      <td>11.0</td>\n",
              "    </tr>\n",
              "    <tr>\n",
              "      <th>2</th>\n",
              "      <td>岩手</td>\n",
              "      <td>1059293</td>\n",
              "      <td>24879000</td>\n",
              "      <td>23.486420</td>\n",
              "      <td>11.0</td>\n",
              "    </tr>\n",
              "    <tr>\n",
              "      <th>3</th>\n",
              "      <td>宮城</td>\n",
              "      <td>1915548</td>\n",
              "      <td>43152000</td>\n",
              "      <td>22.527235</td>\n",
              "      <td>13.6</td>\n",
              "    </tr>\n",
              "    <tr>\n",
              "      <th>4</th>\n",
              "      <td>秋田</td>\n",
              "      <td>868937</td>\n",
              "      <td>19229000</td>\n",
              "      <td>22.129337</td>\n",
              "      <td>12.3</td>\n",
              "    </tr>\n",
              "    <tr>\n",
              "      <th>5</th>\n",
              "      <td>山形</td>\n",
              "      <td>924199</td>\n",
              "      <td>19776000</td>\n",
              "      <td>21.397989</td>\n",
              "      <td>12.6</td>\n",
              "    </tr>\n",
              "    <tr>\n",
              "      <th>6</th>\n",
              "      <td>福島</td>\n",
              "      <td>1595503</td>\n",
              "      <td>34195000</td>\n",
              "      <td>21.432113</td>\n",
              "      <td>14.2</td>\n",
              "    </tr>\n",
              "    <tr>\n",
              "      <th>7</th>\n",
              "      <td>茨城</td>\n",
              "      <td>2443898</td>\n",
              "      <td>42922000</td>\n",
              "      <td>17.562926</td>\n",
              "      <td>15.3</td>\n",
              "    </tr>\n",
              "    <tr>\n",
              "      <th>8</th>\n",
              "      <td>栃木</td>\n",
              "      <td>1642620</td>\n",
              "      <td>30745000</td>\n",
              "      <td>18.717050</td>\n",
              "      <td>15.2</td>\n",
              "    </tr>\n",
              "    <tr>\n",
              "      <th>9</th>\n",
              "      <td>群馬</td>\n",
              "      <td>1646104</td>\n",
              "      <td>29684000</td>\n",
              "      <td>18.032882</td>\n",
              "      <td>16.1</td>\n",
              "    </tr>\n",
              "    <tr>\n",
              "      <th>10</th>\n",
              "      <td>埼玉</td>\n",
              "      <td>6096407</td>\n",
              "      <td>90860000</td>\n",
              "      <td>14.903861</td>\n",
              "      <td>16.4</td>\n",
              "    </tr>\n",
              "    <tr>\n",
              "      <th>11</th>\n",
              "      <td>千葉</td>\n",
              "      <td>5231131</td>\n",
              "      <td>85494000</td>\n",
              "      <td>16.343311</td>\n",
              "      <td>17.2</td>\n",
              "    </tr>\n",
              "    <tr>\n",
              "      <th>12</th>\n",
              "      <td>東京</td>\n",
              "      <td>11493560</td>\n",
              "      <td>466125000</td>\n",
              "      <td>40.555320</td>\n",
              "      <td>16.8</td>\n",
              "    </tr>\n",
              "    <tr>\n",
              "      <th>13</th>\n",
              "      <td>神奈川</td>\n",
              "      <td>7601252</td>\n",
              "      <td>152317000</td>\n",
              "      <td>20.038409</td>\n",
              "      <td>17.1</td>\n",
              "    </tr>\n",
              "    <tr>\n",
              "      <th>14</th>\n",
              "      <td>新潟</td>\n",
              "      <td>1907772</td>\n",
              "      <td>45720000</td>\n",
              "      <td>23.965128</td>\n",
              "      <td>14.3</td>\n",
              "    </tr>\n",
              "    <tr>\n",
              "      <th>15</th>\n",
              "      <td>富山</td>\n",
              "      <td>893015</td>\n",
              "      <td>21496000</td>\n",
              "      <td>24.071264</td>\n",
              "      <td>15.0</td>\n",
              "    </tr>\n",
              "    <tr>\n",
              "      <th>16</th>\n",
              "      <td>石川</td>\n",
              "      <td>946198</td>\n",
              "      <td>22385000</td>\n",
              "      <td>23.657839</td>\n",
              "      <td>15.5</td>\n",
              "    </tr>\n",
              "    <tr>\n",
              "      <th>17</th>\n",
              "      <td>福井</td>\n",
              "      <td>648910</td>\n",
              "      <td>13486000</td>\n",
              "      <td>20.782543</td>\n",
              "      <td>15.3</td>\n",
              "    </tr>\n",
              "    <tr>\n",
              "      <th>18</th>\n",
              "      <td>山梨</td>\n",
              "      <td>696023</td>\n",
              "      <td>13434000</td>\n",
              "      <td>19.301086</td>\n",
              "      <td>16.0</td>\n",
              "    </tr>\n",
              "    <tr>\n",
              "      <th>19</th>\n",
              "      <td>長野</td>\n",
              "      <td>1746050</td>\n",
              "      <td>39741000</td>\n",
              "      <td>22.760517</td>\n",
              "      <td>13.0</td>\n",
              "    </tr>\n",
              "    <tr>\n",
              "      <th>20</th>\n",
              "      <td>岐阜</td>\n",
              "      <td>1687256</td>\n",
              "      <td>25428000</td>\n",
              "      <td>15.070624</td>\n",
              "      <td>16.9</td>\n",
              "    </tr>\n",
              "    <tr>\n",
              "      <th>21</th>\n",
              "      <td>静岡</td>\n",
              "      <td>3093014</td>\n",
              "      <td>57531000</td>\n",
              "      <td>18.600304</td>\n",
              "      <td>17.7</td>\n",
              "    </tr>\n",
              "    <tr>\n",
              "      <th>22</th>\n",
              "      <td>愛知</td>\n",
              "      <td>6145895</td>\n",
              "      <td>131666000</td>\n",
              "      <td>21.423405</td>\n",
              "      <td>16.9</td>\n",
              "    </tr>\n",
              "    <tr>\n",
              "      <th>23</th>\n",
              "      <td>三重</td>\n",
              "      <td>1512253</td>\n",
              "      <td>26243000</td>\n",
              "      <td>17.353578</td>\n",
              "      <td>16.9</td>\n",
              "    </tr>\n",
              "    <tr>\n",
              "      <th>24</th>\n",
              "      <td>滋賀</td>\n",
              "      <td>1142334</td>\n",
              "      <td>15739000</td>\n",
              "      <td>13.777932</td>\n",
              "      <td>15.7</td>\n",
              "    </tr>\n",
              "    <tr>\n",
              "      <th>25</th>\n",
              "      <td>京都</td>\n",
              "      <td>2126007</td>\n",
              "      <td>57319000</td>\n",
              "      <td>26.960871</td>\n",
              "      <td>16.9</td>\n",
              "    </tr>\n",
              "    <tr>\n",
              "      <th>26</th>\n",
              "      <td>大阪</td>\n",
              "      <td>7330851</td>\n",
              "      <td>215191000</td>\n",
              "      <td>29.354164</td>\n",
              "      <td>17.4</td>\n",
              "    </tr>\n",
              "    <tr>\n",
              "      <th>27</th>\n",
              "      <td>兵庫</td>\n",
              "      <td>4598876</td>\n",
              "      <td>93560000</td>\n",
              "      <td>20.344101</td>\n",
              "      <td>17.4</td>\n",
              "    </tr>\n",
              "    <tr>\n",
              "      <th>28</th>\n",
              "      <td>奈良</td>\n",
              "      <td>1136450</td>\n",
              "      <td>18448000</td>\n",
              "      <td>16.233006</td>\n",
              "      <td>16.2</td>\n",
              "    </tr>\n",
              "    <tr>\n",
              "      <th>29</th>\n",
              "      <td>和歌山</td>\n",
              "      <td>813891</td>\n",
              "      <td>14490000</td>\n",
              "      <td>17.803367</td>\n",
              "      <td>17.3</td>\n",
              "    </tr>\n",
              "    <tr>\n",
              "      <th>30</th>\n",
              "      <td>鳥取</td>\n",
              "      <td>470863</td>\n",
              "      <td>10002000</td>\n",
              "      <td>21.241847</td>\n",
              "      <td>15.7</td>\n",
              "    </tr>\n",
              "    <tr>\n",
              "      <th>31</th>\n",
              "      <td>島根</td>\n",
              "      <td>572561</td>\n",
              "      <td>11323000</td>\n",
              "      <td>19.776059</td>\n",
              "      <td>15.6</td>\n",
              "    </tr>\n",
              "    <tr>\n",
              "      <th>32</th>\n",
              "      <td>岡山</td>\n",
              "      <td>1576199</td>\n",
              "      <td>25022000</td>\n",
              "      <td>15.874899</td>\n",
              "      <td>16.3</td>\n",
              "    </tr>\n",
              "    <tr>\n",
              "      <th>33</th>\n",
              "      <td>広島</td>\n",
              "      <td>2339501</td>\n",
              "      <td>50304000</td>\n",
              "      <td>21.502021</td>\n",
              "      <td>16.8</td>\n",
              "    </tr>\n",
              "    <tr>\n",
              "      <th>34</th>\n",
              "      <td>山口</td>\n",
              "      <td>1165183</td>\n",
              "      <td>21732000</td>\n",
              "      <td>18.651148</td>\n",
              "      <td>16.0</td>\n",
              "    </tr>\n",
              "    <tr>\n",
              "      <th>35</th>\n",
              "      <td>徳島</td>\n",
              "      <td>634532</td>\n",
              "      <td>12122000</td>\n",
              "      <td>19.103843</td>\n",
              "      <td>17.1</td>\n",
              "    </tr>\n",
              "    <tr>\n",
              "      <th>36</th>\n",
              "      <td>香川</td>\n",
              "      <td>819653</td>\n",
              "      <td>15269000</td>\n",
              "      <td>18.628615</td>\n",
              "      <td>17.0</td>\n",
              "    </tr>\n",
              "    <tr>\n",
              "      <th>37</th>\n",
              "      <td>愛媛</td>\n",
              "      <td>1160477</td>\n",
              "      <td>23029000</td>\n",
              "      <td>19.844426</td>\n",
              "      <td>17.1</td>\n",
              "    </tr>\n",
              "    <tr>\n",
              "      <th>38</th>\n",
              "      <td>高知</td>\n",
              "      <td>609848</td>\n",
              "      <td>15286000</td>\n",
              "      <td>25.065262</td>\n",
              "      <td>17.4</td>\n",
              "    </tr>\n",
              "    <tr>\n",
              "      <th>39</th>\n",
              "      <td>福岡</td>\n",
              "      <td>4194243</td>\n",
              "      <td>91566000</td>\n",
              "      <td>21.831353</td>\n",
              "      <td>17.7</td>\n",
              "    </tr>\n",
              "    <tr>\n",
              "      <th>40</th>\n",
              "      <td>佐賀</td>\n",
              "      <td>675917</td>\n",
              "      <td>13183000</td>\n",
              "      <td>19.503874</td>\n",
              "      <td>17.4</td>\n",
              "    </tr>\n",
              "    <tr>\n",
              "      <th>41</th>\n",
              "      <td>長崎</td>\n",
              "      <td>1136351</td>\n",
              "      <td>22218000</td>\n",
              "      <td>19.552057</td>\n",
              "      <td>17.7</td>\n",
              "    </tr>\n",
              "    <tr>\n",
              "      <th>42</th>\n",
              "      <td>熊本</td>\n",
              "      <td>1463363</td>\n",
              "      <td>27073000</td>\n",
              "      <td>18.500536</td>\n",
              "      <td>17.5</td>\n",
              "    </tr>\n",
              "    <tr>\n",
              "      <th>43</th>\n",
              "      <td>大分</td>\n",
              "      <td>968502</td>\n",
              "      <td>19316000</td>\n",
              "      <td>19.944202</td>\n",
              "      <td>17.1</td>\n",
              "    </tr>\n",
              "    <tr>\n",
              "      <th>44</th>\n",
              "      <td>宮崎</td>\n",
              "      <td>909293</td>\n",
              "      <td>19994000</td>\n",
              "      <td>21.988512</td>\n",
              "      <td>17.8</td>\n",
              "    </tr>\n",
              "    <tr>\n",
              "      <th>45</th>\n",
              "      <td>鹿児島</td>\n",
              "      <td>1355120</td>\n",
              "      <td>20674000</td>\n",
              "      <td>15.256213</td>\n",
              "      <td>19.0</td>\n",
              "    </tr>\n",
              "  </tbody>\n",
              "</table>\n",
              "</div>"
            ],
            "text/plain": [
              "   prefecture     adult       beer   per_beer  ave_temp\n",
              "0         北海道   4509363  113097000  25.080483       9.5\n",
              "1          青森   1103183   23177000  21.009207      11.0\n",
              "2          岩手   1059293   24879000  23.486420      11.0\n",
              "3          宮城   1915548   43152000  22.527235      13.6\n",
              "4          秋田    868937   19229000  22.129337      12.3\n",
              "5          山形    924199   19776000  21.397989      12.6\n",
              "6          福島   1595503   34195000  21.432113      14.2\n",
              "7          茨城   2443898   42922000  17.562926      15.3\n",
              "8          栃木   1642620   30745000  18.717050      15.2\n",
              "9          群馬   1646104   29684000  18.032882      16.1\n",
              "10         埼玉   6096407   90860000  14.903861      16.4\n",
              "11         千葉   5231131   85494000  16.343311      17.2\n",
              "12         東京  11493560  466125000  40.555320      16.8\n",
              "13        神奈川   7601252  152317000  20.038409      17.1\n",
              "14         新潟   1907772   45720000  23.965128      14.3\n",
              "15         富山    893015   21496000  24.071264      15.0\n",
              "16         石川    946198   22385000  23.657839      15.5\n",
              "17         福井    648910   13486000  20.782543      15.3\n",
              "18         山梨    696023   13434000  19.301086      16.0\n",
              "19         長野   1746050   39741000  22.760517      13.0\n",
              "20         岐阜   1687256   25428000  15.070624      16.9\n",
              "21         静岡   3093014   57531000  18.600304      17.7\n",
              "22         愛知   6145895  131666000  21.423405      16.9\n",
              "23         三重   1512253   26243000  17.353578      16.9\n",
              "24         滋賀   1142334   15739000  13.777932      15.7\n",
              "25         京都   2126007   57319000  26.960871      16.9\n",
              "26         大阪   7330851  215191000  29.354164      17.4\n",
              "27         兵庫   4598876   93560000  20.344101      17.4\n",
              "28         奈良   1136450   18448000  16.233006      16.2\n",
              "29        和歌山    813891   14490000  17.803367      17.3\n",
              "30         鳥取    470863   10002000  21.241847      15.7\n",
              "31         島根    572561   11323000  19.776059      15.6\n",
              "32         岡山   1576199   25022000  15.874899      16.3\n",
              "33         広島   2339501   50304000  21.502021      16.8\n",
              "34         山口   1165183   21732000  18.651148      16.0\n",
              "35         徳島    634532   12122000  19.103843      17.1\n",
              "36         香川    819653   15269000  18.628615      17.0\n",
              "37         愛媛   1160477   23029000  19.844426      17.1\n",
              "38         高知    609848   15286000  25.065262      17.4\n",
              "39         福岡   4194243   91566000  21.831353      17.7\n",
              "40         佐賀    675917   13183000  19.503874      17.4\n",
              "41         長崎   1136351   22218000  19.552057      17.7\n",
              "42         熊本   1463363   27073000  18.500536      17.5\n",
              "43         大分    968502   19316000  19.944202      17.1\n",
              "44         宮崎    909293   19994000  21.988512      17.8\n",
              "45        鹿児島   1355120   20674000  15.256213      19.0"
            ]
          },
          "metadata": {
            "tags": []
          },
          "execution_count": 90
        }
      ]
    },
    {
      "cell_type": "code",
      "metadata": {
        "colab": {
          "base_uri": "https://localhost:8080/",
          "height": 1000
        },
        "id": "UlYIR9WfW5G0",
        "outputId": "4bfb569e-e08c-40b1-b8f4-83ec7b673be2"
      },
      "source": [
        "df"
      ],
      "execution_count": 91,
      "outputs": [
        {
          "output_type": "execute_result",
          "data": {
            "text/html": [
              "<div>\n",
              "<style scoped>\n",
              "    .dataframe tbody tr th:only-of-type {\n",
              "        vertical-align: middle;\n",
              "    }\n",
              "\n",
              "    .dataframe tbody tr th {\n",
              "        vertical-align: top;\n",
              "    }\n",
              "\n",
              "    .dataframe thead th {\n",
              "        text-align: right;\n",
              "    }\n",
              "</style>\n",
              "<table border=\"1\" class=\"dataframe\">\n",
              "  <thead>\n",
              "    <tr style=\"text-align: right;\">\n",
              "      <th></th>\n",
              "      <th>prefecture</th>\n",
              "      <th>adult</th>\n",
              "      <th>beer</th>\n",
              "      <th>per_beer</th>\n",
              "      <th>ave_temp</th>\n",
              "    </tr>\n",
              "  </thead>\n",
              "  <tbody>\n",
              "    <tr>\n",
              "      <th>0</th>\n",
              "      <td>北海道</td>\n",
              "      <td>4509363</td>\n",
              "      <td>113097000</td>\n",
              "      <td>25.080483</td>\n",
              "      <td>9.5</td>\n",
              "    </tr>\n",
              "    <tr>\n",
              "      <th>1</th>\n",
              "      <td>青森</td>\n",
              "      <td>1103183</td>\n",
              "      <td>23177000</td>\n",
              "      <td>21.009207</td>\n",
              "      <td>11.0</td>\n",
              "    </tr>\n",
              "    <tr>\n",
              "      <th>2</th>\n",
              "      <td>岩手</td>\n",
              "      <td>1059293</td>\n",
              "      <td>24879000</td>\n",
              "      <td>23.486420</td>\n",
              "      <td>11.0</td>\n",
              "    </tr>\n",
              "    <tr>\n",
              "      <th>3</th>\n",
              "      <td>宮城</td>\n",
              "      <td>1915548</td>\n",
              "      <td>43152000</td>\n",
              "      <td>22.527235</td>\n",
              "      <td>13.6</td>\n",
              "    </tr>\n",
              "    <tr>\n",
              "      <th>4</th>\n",
              "      <td>秋田</td>\n",
              "      <td>868937</td>\n",
              "      <td>19229000</td>\n",
              "      <td>22.129337</td>\n",
              "      <td>12.3</td>\n",
              "    </tr>\n",
              "    <tr>\n",
              "      <th>5</th>\n",
              "      <td>山形</td>\n",
              "      <td>924199</td>\n",
              "      <td>19776000</td>\n",
              "      <td>21.397989</td>\n",
              "      <td>12.6</td>\n",
              "    </tr>\n",
              "    <tr>\n",
              "      <th>6</th>\n",
              "      <td>福島</td>\n",
              "      <td>1595503</td>\n",
              "      <td>34195000</td>\n",
              "      <td>21.432113</td>\n",
              "      <td>14.2</td>\n",
              "    </tr>\n",
              "    <tr>\n",
              "      <th>7</th>\n",
              "      <td>茨城</td>\n",
              "      <td>2443898</td>\n",
              "      <td>42922000</td>\n",
              "      <td>17.562926</td>\n",
              "      <td>15.3</td>\n",
              "    </tr>\n",
              "    <tr>\n",
              "      <th>8</th>\n",
              "      <td>栃木</td>\n",
              "      <td>1642620</td>\n",
              "      <td>30745000</td>\n",
              "      <td>18.717050</td>\n",
              "      <td>15.2</td>\n",
              "    </tr>\n",
              "    <tr>\n",
              "      <th>9</th>\n",
              "      <td>群馬</td>\n",
              "      <td>1646104</td>\n",
              "      <td>29684000</td>\n",
              "      <td>18.032882</td>\n",
              "      <td>16.1</td>\n",
              "    </tr>\n",
              "    <tr>\n",
              "      <th>10</th>\n",
              "      <td>埼玉</td>\n",
              "      <td>6096407</td>\n",
              "      <td>90860000</td>\n",
              "      <td>14.903861</td>\n",
              "      <td>16.4</td>\n",
              "    </tr>\n",
              "    <tr>\n",
              "      <th>11</th>\n",
              "      <td>千葉</td>\n",
              "      <td>5231131</td>\n",
              "      <td>85494000</td>\n",
              "      <td>16.343311</td>\n",
              "      <td>17.2</td>\n",
              "    </tr>\n",
              "    <tr>\n",
              "      <th>12</th>\n",
              "      <td>東京</td>\n",
              "      <td>11493560</td>\n",
              "      <td>466125000</td>\n",
              "      <td>40.555320</td>\n",
              "      <td>16.8</td>\n",
              "    </tr>\n",
              "    <tr>\n",
              "      <th>13</th>\n",
              "      <td>神奈川</td>\n",
              "      <td>7601252</td>\n",
              "      <td>152317000</td>\n",
              "      <td>20.038409</td>\n",
              "      <td>17.1</td>\n",
              "    </tr>\n",
              "    <tr>\n",
              "      <th>14</th>\n",
              "      <td>新潟</td>\n",
              "      <td>1907772</td>\n",
              "      <td>45720000</td>\n",
              "      <td>23.965128</td>\n",
              "      <td>14.3</td>\n",
              "    </tr>\n",
              "    <tr>\n",
              "      <th>15</th>\n",
              "      <td>富山</td>\n",
              "      <td>893015</td>\n",
              "      <td>21496000</td>\n",
              "      <td>24.071264</td>\n",
              "      <td>15.0</td>\n",
              "    </tr>\n",
              "    <tr>\n",
              "      <th>16</th>\n",
              "      <td>石川</td>\n",
              "      <td>946198</td>\n",
              "      <td>22385000</td>\n",
              "      <td>23.657839</td>\n",
              "      <td>15.5</td>\n",
              "    </tr>\n",
              "    <tr>\n",
              "      <th>17</th>\n",
              "      <td>福井</td>\n",
              "      <td>648910</td>\n",
              "      <td>13486000</td>\n",
              "      <td>20.782543</td>\n",
              "      <td>15.3</td>\n",
              "    </tr>\n",
              "    <tr>\n",
              "      <th>18</th>\n",
              "      <td>山梨</td>\n",
              "      <td>696023</td>\n",
              "      <td>13434000</td>\n",
              "      <td>19.301086</td>\n",
              "      <td>16.0</td>\n",
              "    </tr>\n",
              "    <tr>\n",
              "      <th>19</th>\n",
              "      <td>長野</td>\n",
              "      <td>1746050</td>\n",
              "      <td>39741000</td>\n",
              "      <td>22.760517</td>\n",
              "      <td>13.0</td>\n",
              "    </tr>\n",
              "    <tr>\n",
              "      <th>20</th>\n",
              "      <td>岐阜</td>\n",
              "      <td>1687256</td>\n",
              "      <td>25428000</td>\n",
              "      <td>15.070624</td>\n",
              "      <td>16.9</td>\n",
              "    </tr>\n",
              "    <tr>\n",
              "      <th>21</th>\n",
              "      <td>静岡</td>\n",
              "      <td>3093014</td>\n",
              "      <td>57531000</td>\n",
              "      <td>18.600304</td>\n",
              "      <td>17.7</td>\n",
              "    </tr>\n",
              "    <tr>\n",
              "      <th>22</th>\n",
              "      <td>愛知</td>\n",
              "      <td>6145895</td>\n",
              "      <td>131666000</td>\n",
              "      <td>21.423405</td>\n",
              "      <td>16.9</td>\n",
              "    </tr>\n",
              "    <tr>\n",
              "      <th>23</th>\n",
              "      <td>三重</td>\n",
              "      <td>1512253</td>\n",
              "      <td>26243000</td>\n",
              "      <td>17.353578</td>\n",
              "      <td>16.9</td>\n",
              "    </tr>\n",
              "    <tr>\n",
              "      <th>24</th>\n",
              "      <td>滋賀</td>\n",
              "      <td>1142334</td>\n",
              "      <td>15739000</td>\n",
              "      <td>13.777932</td>\n",
              "      <td>15.7</td>\n",
              "    </tr>\n",
              "    <tr>\n",
              "      <th>25</th>\n",
              "      <td>京都</td>\n",
              "      <td>2126007</td>\n",
              "      <td>57319000</td>\n",
              "      <td>26.960871</td>\n",
              "      <td>16.9</td>\n",
              "    </tr>\n",
              "    <tr>\n",
              "      <th>26</th>\n",
              "      <td>大阪</td>\n",
              "      <td>7330851</td>\n",
              "      <td>215191000</td>\n",
              "      <td>29.354164</td>\n",
              "      <td>17.4</td>\n",
              "    </tr>\n",
              "    <tr>\n",
              "      <th>27</th>\n",
              "      <td>兵庫</td>\n",
              "      <td>4598876</td>\n",
              "      <td>93560000</td>\n",
              "      <td>20.344101</td>\n",
              "      <td>17.4</td>\n",
              "    </tr>\n",
              "    <tr>\n",
              "      <th>28</th>\n",
              "      <td>奈良</td>\n",
              "      <td>1136450</td>\n",
              "      <td>18448000</td>\n",
              "      <td>16.233006</td>\n",
              "      <td>16.2</td>\n",
              "    </tr>\n",
              "    <tr>\n",
              "      <th>29</th>\n",
              "      <td>和歌山</td>\n",
              "      <td>813891</td>\n",
              "      <td>14490000</td>\n",
              "      <td>17.803367</td>\n",
              "      <td>17.3</td>\n",
              "    </tr>\n",
              "    <tr>\n",
              "      <th>30</th>\n",
              "      <td>鳥取</td>\n",
              "      <td>470863</td>\n",
              "      <td>10002000</td>\n",
              "      <td>21.241847</td>\n",
              "      <td>15.7</td>\n",
              "    </tr>\n",
              "    <tr>\n",
              "      <th>31</th>\n",
              "      <td>島根</td>\n",
              "      <td>572561</td>\n",
              "      <td>11323000</td>\n",
              "      <td>19.776059</td>\n",
              "      <td>15.6</td>\n",
              "    </tr>\n",
              "    <tr>\n",
              "      <th>32</th>\n",
              "      <td>岡山</td>\n",
              "      <td>1576199</td>\n",
              "      <td>25022000</td>\n",
              "      <td>15.874899</td>\n",
              "      <td>16.3</td>\n",
              "    </tr>\n",
              "    <tr>\n",
              "      <th>33</th>\n",
              "      <td>広島</td>\n",
              "      <td>2339501</td>\n",
              "      <td>50304000</td>\n",
              "      <td>21.502021</td>\n",
              "      <td>16.8</td>\n",
              "    </tr>\n",
              "    <tr>\n",
              "      <th>34</th>\n",
              "      <td>山口</td>\n",
              "      <td>1165183</td>\n",
              "      <td>21732000</td>\n",
              "      <td>18.651148</td>\n",
              "      <td>16.0</td>\n",
              "    </tr>\n",
              "    <tr>\n",
              "      <th>35</th>\n",
              "      <td>徳島</td>\n",
              "      <td>634532</td>\n",
              "      <td>12122000</td>\n",
              "      <td>19.103843</td>\n",
              "      <td>17.1</td>\n",
              "    </tr>\n",
              "    <tr>\n",
              "      <th>36</th>\n",
              "      <td>香川</td>\n",
              "      <td>819653</td>\n",
              "      <td>15269000</td>\n",
              "      <td>18.628615</td>\n",
              "      <td>17.0</td>\n",
              "    </tr>\n",
              "    <tr>\n",
              "      <th>37</th>\n",
              "      <td>愛媛</td>\n",
              "      <td>1160477</td>\n",
              "      <td>23029000</td>\n",
              "      <td>19.844426</td>\n",
              "      <td>17.1</td>\n",
              "    </tr>\n",
              "    <tr>\n",
              "      <th>38</th>\n",
              "      <td>高知</td>\n",
              "      <td>609848</td>\n",
              "      <td>15286000</td>\n",
              "      <td>25.065262</td>\n",
              "      <td>17.4</td>\n",
              "    </tr>\n",
              "    <tr>\n",
              "      <th>39</th>\n",
              "      <td>福岡</td>\n",
              "      <td>4194243</td>\n",
              "      <td>91566000</td>\n",
              "      <td>21.831353</td>\n",
              "      <td>17.7</td>\n",
              "    </tr>\n",
              "    <tr>\n",
              "      <th>40</th>\n",
              "      <td>佐賀</td>\n",
              "      <td>675917</td>\n",
              "      <td>13183000</td>\n",
              "      <td>19.503874</td>\n",
              "      <td>17.4</td>\n",
              "    </tr>\n",
              "    <tr>\n",
              "      <th>41</th>\n",
              "      <td>長崎</td>\n",
              "      <td>1136351</td>\n",
              "      <td>22218000</td>\n",
              "      <td>19.552057</td>\n",
              "      <td>17.7</td>\n",
              "    </tr>\n",
              "    <tr>\n",
              "      <th>42</th>\n",
              "      <td>熊本</td>\n",
              "      <td>1463363</td>\n",
              "      <td>27073000</td>\n",
              "      <td>18.500536</td>\n",
              "      <td>17.5</td>\n",
              "    </tr>\n",
              "    <tr>\n",
              "      <th>43</th>\n",
              "      <td>大分</td>\n",
              "      <td>968502</td>\n",
              "      <td>19316000</td>\n",
              "      <td>19.944202</td>\n",
              "      <td>17.1</td>\n",
              "    </tr>\n",
              "    <tr>\n",
              "      <th>44</th>\n",
              "      <td>宮崎</td>\n",
              "      <td>909293</td>\n",
              "      <td>19994000</td>\n",
              "      <td>21.988512</td>\n",
              "      <td>17.8</td>\n",
              "    </tr>\n",
              "    <tr>\n",
              "      <th>45</th>\n",
              "      <td>鹿児島</td>\n",
              "      <td>1355120</td>\n",
              "      <td>20674000</td>\n",
              "      <td>15.256213</td>\n",
              "      <td>19.0</td>\n",
              "    </tr>\n",
              "  </tbody>\n",
              "</table>\n",
              "</div>"
            ],
            "text/plain": [
              "   prefecture     adult       beer   per_beer  ave_temp\n",
              "0         北海道   4509363  113097000  25.080483       9.5\n",
              "1          青森   1103183   23177000  21.009207      11.0\n",
              "2          岩手   1059293   24879000  23.486420      11.0\n",
              "3          宮城   1915548   43152000  22.527235      13.6\n",
              "4          秋田    868937   19229000  22.129337      12.3\n",
              "5          山形    924199   19776000  21.397989      12.6\n",
              "6          福島   1595503   34195000  21.432113      14.2\n",
              "7          茨城   2443898   42922000  17.562926      15.3\n",
              "8          栃木   1642620   30745000  18.717050      15.2\n",
              "9          群馬   1646104   29684000  18.032882      16.1\n",
              "10         埼玉   6096407   90860000  14.903861      16.4\n",
              "11         千葉   5231131   85494000  16.343311      17.2\n",
              "12         東京  11493560  466125000  40.555320      16.8\n",
              "13        神奈川   7601252  152317000  20.038409      17.1\n",
              "14         新潟   1907772   45720000  23.965128      14.3\n",
              "15         富山    893015   21496000  24.071264      15.0\n",
              "16         石川    946198   22385000  23.657839      15.5\n",
              "17         福井    648910   13486000  20.782543      15.3\n",
              "18         山梨    696023   13434000  19.301086      16.0\n",
              "19         長野   1746050   39741000  22.760517      13.0\n",
              "20         岐阜   1687256   25428000  15.070624      16.9\n",
              "21         静岡   3093014   57531000  18.600304      17.7\n",
              "22         愛知   6145895  131666000  21.423405      16.9\n",
              "23         三重   1512253   26243000  17.353578      16.9\n",
              "24         滋賀   1142334   15739000  13.777932      15.7\n",
              "25         京都   2126007   57319000  26.960871      16.9\n",
              "26         大阪   7330851  215191000  29.354164      17.4\n",
              "27         兵庫   4598876   93560000  20.344101      17.4\n",
              "28         奈良   1136450   18448000  16.233006      16.2\n",
              "29        和歌山    813891   14490000  17.803367      17.3\n",
              "30         鳥取    470863   10002000  21.241847      15.7\n",
              "31         島根    572561   11323000  19.776059      15.6\n",
              "32         岡山   1576199   25022000  15.874899      16.3\n",
              "33         広島   2339501   50304000  21.502021      16.8\n",
              "34         山口   1165183   21732000  18.651148      16.0\n",
              "35         徳島    634532   12122000  19.103843      17.1\n",
              "36         香川    819653   15269000  18.628615      17.0\n",
              "37         愛媛   1160477   23029000  19.844426      17.1\n",
              "38         高知    609848   15286000  25.065262      17.4\n",
              "39         福岡   4194243   91566000  21.831353      17.7\n",
              "40         佐賀    675917   13183000  19.503874      17.4\n",
              "41         長崎   1136351   22218000  19.552057      17.7\n",
              "42         熊本   1463363   27073000  18.500536      17.5\n",
              "43         大分    968502   19316000  19.944202      17.1\n",
              "44         宮崎    909293   19994000  21.988512      17.8\n",
              "45        鹿児島   1355120   20674000  15.256213      19.0"
            ]
          },
          "metadata": {
            "tags": []
          },
          "execution_count": 91
        }
      ]
    },
    {
      "cell_type": "code",
      "metadata": {
        "colab": {
          "base_uri": "https://localhost:8080/",
          "height": 77
        },
        "id": "ONUmYqK7XBsJ",
        "outputId": "ca550735-963f-4764-ecf6-f064ce0efeb6"
      },
      "source": [
        "#まとめ\n",
        "df_temp[\"prefecture\"] =df_temp[\"prefecture\"].str[:-1]\n",
        "df_temp = df_temp.replace({\"北海\":\"北海道\"})\n",
        "df = pd.merge(df_merge,df_temp,how=\"inner\")\n",
        "df"
      ],
      "execution_count": 82,
      "outputs": [
        {
          "output_type": "execute_result",
          "data": {
            "text/html": [
              "<div>\n",
              "<style scoped>\n",
              "    .dataframe tbody tr th:only-of-type {\n",
              "        vertical-align: middle;\n",
              "    }\n",
              "\n",
              "    .dataframe tbody tr th {\n",
              "        vertical-align: top;\n",
              "    }\n",
              "\n",
              "    .dataframe thead th {\n",
              "        text-align: right;\n",
              "    }\n",
              "</style>\n",
              "<table border=\"1\" class=\"dataframe\">\n",
              "  <thead>\n",
              "    <tr style=\"text-align: right;\">\n",
              "      <th></th>\n",
              "      <th>prefecture</th>\n",
              "      <th>adult</th>\n",
              "      <th>beer</th>\n",
              "      <th>per_beer</th>\n",
              "      <th>ave_temp</th>\n",
              "    </tr>\n",
              "  </thead>\n",
              "  <tbody>\n",
              "    <tr>\n",
              "      <th>0</th>\n",
              "      <td>北海道</td>\n",
              "      <td>4509363</td>\n",
              "      <td>113097000</td>\n",
              "      <td>25.080483</td>\n",
              "      <td>9.5</td>\n",
              "    </tr>\n",
              "  </tbody>\n",
              "</table>\n",
              "</div>"
            ],
            "text/plain": [
              "  prefecture    adult       beer   per_beer  ave_temp\n",
              "0        北海道  4509363  113097000  25.080483       9.5"
            ]
          },
          "metadata": {
            "tags": []
          },
          "execution_count": 82
        }
      ]
    },
    {
      "cell_type": "markdown",
      "metadata": {
        "id": "ayFfW0cWE4K1"
      },
      "source": [
        "**その12** **単回帰分析を回してみよう！**<a id='sec7_12'></a>  \n",
        "[先頭に戻る](#top)"
      ]
    },
    {
      "cell_type": "markdown",
      "metadata": {
        "id": "cJPqIdGiE4K1"
      },
      "source": [
        "最後に単回帰分析をして、完成です。  \n",
        "一緒に散布図も書いてみましょう。"
      ]
    },
    {
      "cell_type": "code",
      "metadata": {
        "colab": {
          "base_uri": "https://localhost:8080/"
        },
        "id": "shYSAQilbyLm",
        "outputId": "48cea953-4246-49d6-c031-fa94b96b275e"
      },
      "source": [
        "from statsmodels.formula.api import ols"
      ],
      "execution_count": 93,
      "outputs": [
        {
          "output_type": "stream",
          "text": [
            "/usr/local/lib/python3.7/dist-packages/statsmodels/tools/_testing.py:19: FutureWarning: pandas.util.testing is deprecated. Use the functions in the public API at pandas.testing instead.\n",
            "  import pandas.util.testing as tm\n"
          ],
          "name": "stderr"
        }
      ]
    },
    {
      "cell_type": "code",
      "metadata": {
        "colab": {
          "base_uri": "https://localhost:8080/",
          "height": 426
        },
        "id": "89hgk8OhE4K2",
        "outputId": "0e92f581-dcac-4b4e-d7c7-334475e42356"
      },
      "source": [
        "y,x = df['per_beer'],df['ave_temp']\n",
        "#statsmodelsを用いて回帰分析する。\n",
        "formula = 'y ~ x'\n",
        "mod = ols(formula, data=df)#ols 最小二乗法\n",
        "res = ols(formula, data=df).fit()\n",
        "res.summary()"
      ],
      "execution_count": 94,
      "outputs": [
        {
          "output_type": "execute_result",
          "data": {
            "text/html": [
              "<table class=\"simpletable\">\n",
              "<caption>OLS Regression Results</caption>\n",
              "<tr>\n",
              "  <th>Dep. Variable:</th>            <td>y</td>        <th>  R-squared:         </th> <td>   0.038</td>\n",
              "</tr>\n",
              "<tr>\n",
              "  <th>Model:</th>                   <td>OLS</td>       <th>  Adj. R-squared:    </th> <td>   0.016</td>\n",
              "</tr>\n",
              "<tr>\n",
              "  <th>Method:</th>             <td>Least Squares</td>  <th>  F-statistic:       </th> <td>   1.735</td>\n",
              "</tr>\n",
              "<tr>\n",
              "  <th>Date:</th>             <td>Sat, 27 Mar 2021</td> <th>  Prob (F-statistic):</th>  <td> 0.195</td> \n",
              "</tr>\n",
              "<tr>\n",
              "  <th>Time:</th>                 <td>06:51:27</td>     <th>  Log-Likelihood:    </th> <td> -132.09</td>\n",
              "</tr>\n",
              "<tr>\n",
              "  <th>No. Observations:</th>      <td>    46</td>      <th>  AIC:               </th> <td>   268.2</td>\n",
              "</tr>\n",
              "<tr>\n",
              "  <th>Df Residuals:</th>          <td>    44</td>      <th>  BIC:               </th> <td>   271.8</td>\n",
              "</tr>\n",
              "<tr>\n",
              "  <th>Df Model:</th>              <td>     1</td>      <th>                     </th>     <td> </td>   \n",
              "</tr>\n",
              "<tr>\n",
              "  <th>Covariance Type:</th>      <td>nonrobust</td>    <th>                     </th>     <td> </td>   \n",
              "</tr>\n",
              "</table>\n",
              "<table class=\"simpletable\">\n",
              "<tr>\n",
              "      <td></td>         <th>coef</th>     <th>std err</th>      <th>t</th>      <th>P>|t|</th>  <th>[0.025</th>    <th>0.975]</th>  \n",
              "</tr>\n",
              "<tr>\n",
              "  <th>Intercept</th> <td>   27.3781</td> <td>    5.131</td> <td>    5.336</td> <td> 0.000</td> <td>   17.038</td> <td>   37.719</td>\n",
              "</tr>\n",
              "<tr>\n",
              "  <th>x</th>         <td>   -0.4226</td> <td>    0.321</td> <td>   -1.317</td> <td> 0.195</td> <td>   -1.069</td> <td>    0.224</td>\n",
              "</tr>\n",
              "</table>\n",
              "<table class=\"simpletable\">\n",
              "<tr>\n",
              "  <th>Omnibus:</th>       <td>44.781</td> <th>  Durbin-Watson:     </th> <td>   1.921</td>\n",
              "</tr>\n",
              "<tr>\n",
              "  <th>Prob(Omnibus):</th> <td> 0.000</td> <th>  Jarque-Bera (JB):  </th> <td> 201.410</td>\n",
              "</tr>\n",
              "<tr>\n",
              "  <th>Skew:</th>          <td> 2.395</td> <th>  Prob(JB):          </th> <td>1.84e-44</td>\n",
              "</tr>\n",
              "<tr>\n",
              "  <th>Kurtosis:</th>      <td>12.063</td> <th>  Cond. No.          </th> <td>    128.</td>\n",
              "</tr>\n",
              "</table><br/><br/>Warnings:<br/>[1] Standard Errors assume that the covariance matrix of the errors is correctly specified."
            ],
            "text/plain": [
              "<class 'statsmodels.iolib.summary.Summary'>\n",
              "\"\"\"\n",
              "                            OLS Regression Results                            \n",
              "==============================================================================\n",
              "Dep. Variable:                      y   R-squared:                       0.038\n",
              "Model:                            OLS   Adj. R-squared:                  0.016\n",
              "Method:                 Least Squares   F-statistic:                     1.735\n",
              "Date:                Sat, 27 Mar 2021   Prob (F-statistic):              0.195\n",
              "Time:                        06:51:27   Log-Likelihood:                -132.09\n",
              "No. Observations:                  46   AIC:                             268.2\n",
              "Df Residuals:                      44   BIC:                             271.8\n",
              "Df Model:                           1                                         \n",
              "Covariance Type:            nonrobust                                         \n",
              "==============================================================================\n",
              "                 coef    std err          t      P>|t|      [0.025      0.975]\n",
              "------------------------------------------------------------------------------\n",
              "Intercept     27.3781      5.131      5.336      0.000      17.038      37.719\n",
              "x             -0.4226      0.321     -1.317      0.195      -1.069       0.224\n",
              "==============================================================================\n",
              "Omnibus:                       44.781   Durbin-Watson:                   1.921\n",
              "Prob(Omnibus):                  0.000   Jarque-Bera (JB):              201.410\n",
              "Skew:                           2.395   Prob(JB):                     1.84e-44\n",
              "Kurtosis:                      12.063   Cond. No.                         128.\n",
              "==============================================================================\n",
              "\n",
              "Warnings:\n",
              "[1] Standard Errors assume that the covariance matrix of the errors is correctly specified.\n",
              "\"\"\""
            ]
          },
          "metadata": {
            "tags": []
          },
          "execution_count": 94
        }
      ]
    },
    {
      "cell_type": "code",
      "metadata": {
        "colab": {
          "base_uri": "https://localhost:8080/",
          "height": 542
        },
        "id": "Vz3c4F4YdbbY",
        "outputId": "ad508859-c2fe-4a88-bfd0-36fedef16d1d"
      },
      "source": [
        "#plotlyでの記述\n",
        "import plotly.express as px\n",
        "px.scatter(df,x,y,trendline='ols', title='ビール勝利量と気温',labels={'ave_temp':'気温', 'per_beer':'ビール消費量'})"
      ],
      "execution_count": 98,
      "outputs": [
        {
          "output_type": "display_data",
          "data": {
            "text/html": [
              "<html>\n",
              "<head><meta charset=\"utf-8\" /></head>\n",
              "<body>\n",
              "    <div>\n",
              "            <script src=\"https://cdnjs.cloudflare.com/ajax/libs/mathjax/2.7.5/MathJax.js?config=TeX-AMS-MML_SVG\"></script><script type=\"text/javascript\">if (window.MathJax) {MathJax.Hub.Config({SVG: {font: \"STIX-Web\"}});}</script>\n",
              "                <script type=\"text/javascript\">window.PlotlyConfig = {MathJaxConfig: 'local'};</script>\n",
              "        <script src=\"https://cdn.plot.ly/plotly-latest.min.js\"></script>    \n",
              "            <div id=\"4686b1d5-2c9e-4914-93f8-6dfbb1a02ad1\" class=\"plotly-graph-div\" style=\"height:525px; width:100%;\"></div>\n",
              "            <script type=\"text/javascript\">\n",
              "                \n",
              "                    window.PLOTLYENV=window.PLOTLYENV || {};\n",
              "                    \n",
              "                if (document.getElementById(\"4686b1d5-2c9e-4914-93f8-6dfbb1a02ad1\")) {\n",
              "                    Plotly.newPlot(\n",
              "                        '4686b1d5-2c9e-4914-93f8-6dfbb1a02ad1',\n",
              "                        [{\"hoverlabel\": {\"namelength\": 0}, \"hovertemplate\": \"\\u6c17\\u6e29=%{x}<br>\\u30d3\\u30fc\\u30eb\\u6d88\\u8cbb\\u91cf=%{y}\", \"legendgroup\": \"\", \"marker\": {\"color\": \"#636efa\", \"symbol\": \"circle\"}, \"mode\": \"markers\", \"name\": \"\", \"showlegend\": false, \"type\": \"scatter\", \"x\": [9.5, 11.0, 11.0, 13.6, 12.3, 12.6, 14.2, 15.3, 15.2, 16.1, 16.4, 17.2, 16.8, 17.1, 14.3, 15.0, 15.5, 15.3, 16.0, 13.0, 16.9, 17.7, 16.9, 16.9, 15.7, 16.9, 17.4, 17.4, 16.2, 17.3, 15.7, 15.6, 16.3, 16.8, 16.0, 17.1, 17.0, 17.1, 17.4, 17.7, 17.4, 17.7, 17.5, 17.1, 17.8, 19.0], \"xaxis\": \"x\", \"y\": [25.080482542656245, 21.00920699466906, 23.48641971579157, 22.527235026217042, 22.12933733976111, 21.39798896125185, 21.432112631565094, 17.56292611230092, 18.717049591506253, 18.032882491021223, 14.903860585423512, 16.343310844251462, 40.55531967466999, 20.038409462020205, 23.96512790836641, 24.071264200489352, 23.65783905694157, 20.78254303370267, 19.301086314676382, 22.76051659459924, 15.070623544974799, 18.60030378136019, 21.423405378712133, 17.353577741290643, 13.777931848303561, 26.960870777941935, 29.35416365712521, 20.344101471750925, 16.233006291521843, 17.80336678990184, 21.241847416339784, 19.776058795482054, 15.874899045107883, 21.502021157503247, 18.65114750215202, 19.10384346258345, 18.628614791869243, 19.84442604204995, 25.06526216368669, 21.83135311902529, 19.50387399636346, 19.552057418878498, 18.50053609391518, 19.944202490030996, 21.98851195379267, 15.25621347186965], \"yaxis\": \"y\"}, {\"hoverlabel\": {\"namelength\": 0}, \"hovertemplate\": \"<b>OLS trendline</b><br>per_beer = -0.422595 * ave_temp + 27.378108<br>R<sup>2</sup>=0.037943<br><br>\\u6c17\\u6e29=%{x}<br>\\u30d3\\u30fc\\u30eb\\u6d88\\u8cbb\\u91cf=%{y} <b>(trend)</b>\", \"legendgroup\": \"\", \"marker\": {\"color\": \"#636efa\", \"symbol\": \"circle\"}, \"mode\": \"lines\", \"name\": \"\", \"showlegend\": false, \"type\": \"scatter\", \"x\": [9.5, 11.0, 11.0, 12.3, 12.6, 13.0, 13.6, 14.2, 14.3, 15.0, 15.2, 15.3, 15.3, 15.5, 15.6, 15.7, 15.7, 16.0, 16.0, 16.1, 16.2, 16.3, 16.4, 16.8, 16.8, 16.9, 16.9, 16.9, 16.9, 17.0, 17.1, 17.1, 17.1, 17.1, 17.2, 17.3, 17.4, 17.4, 17.4, 17.4, 17.5, 17.7, 17.7, 17.7, 17.8, 19.0], \"xaxis\": \"x\", \"y\": [23.36345906357482, 22.7295670647406, 22.7295670647406, 22.180193999084278, 22.053415599317436, 21.884377732961646, 21.630820933427955, 21.377264133894272, 21.33500466730532, 21.039188401182688, 20.95466946800479, 20.912410001415843, 20.912410001415843, 20.82789106823795, 20.785631601649, 20.743372135060053, 20.743372135060053, 20.616593735293208, 20.616593735293208, 20.574334268704263, 20.532074802115314, 20.489815335526366, 20.447555868937418, 20.278518002581627, 20.278518002581627, 20.23625853599268, 20.23625853599268, 20.23625853599268, 20.23625853599268, 20.19399906940373, 20.151739602814782, 20.151739602814782, 20.151739602814782, 20.151739602814782, 20.109480136225834, 20.06722066963689, 20.02496120304794, 20.02496120304794, 20.02496120304794, 20.02496120304794, 19.982701736458992, 19.898182803281095, 19.898182803281095, 19.898182803281095, 19.85592333669215, 19.348809737624777], \"yaxis\": \"y\"}],\n",
              "                        {\"legend\": {\"tracegroupgap\": 0}, \"template\": {\"data\": {\"bar\": [{\"error_x\": {\"color\": \"#2a3f5f\"}, \"error_y\": {\"color\": \"#2a3f5f\"}, \"marker\": {\"line\": {\"color\": \"#E5ECF6\", \"width\": 0.5}}, \"type\": \"bar\"}], \"barpolar\": [{\"marker\": {\"line\": {\"color\": \"#E5ECF6\", \"width\": 0.5}}, \"type\": \"barpolar\"}], \"carpet\": [{\"aaxis\": {\"endlinecolor\": \"#2a3f5f\", \"gridcolor\": \"white\", \"linecolor\": \"white\", \"minorgridcolor\": \"white\", \"startlinecolor\": \"#2a3f5f\"}, \"baxis\": {\"endlinecolor\": \"#2a3f5f\", \"gridcolor\": \"white\", \"linecolor\": \"white\", \"minorgridcolor\": \"white\", \"startlinecolor\": \"#2a3f5f\"}, \"type\": \"carpet\"}], \"choropleth\": [{\"colorbar\": {\"outlinewidth\": 0, \"ticks\": \"\"}, \"type\": \"choropleth\"}], \"contour\": [{\"colorbar\": {\"outlinewidth\": 0, \"ticks\": \"\"}, \"colorscale\": [[0.0, \"#0d0887\"], [0.1111111111111111, \"#46039f\"], [0.2222222222222222, \"#7201a8\"], [0.3333333333333333, \"#9c179e\"], [0.4444444444444444, \"#bd3786\"], [0.5555555555555556, \"#d8576b\"], [0.6666666666666666, \"#ed7953\"], [0.7777777777777778, \"#fb9f3a\"], [0.8888888888888888, \"#fdca26\"], [1.0, \"#f0f921\"]], \"type\": \"contour\"}], \"contourcarpet\": [{\"colorbar\": {\"outlinewidth\": 0, \"ticks\": \"\"}, \"type\": \"contourcarpet\"}], \"heatmap\": [{\"colorbar\": {\"outlinewidth\": 0, \"ticks\": \"\"}, \"colorscale\": [[0.0, \"#0d0887\"], [0.1111111111111111, \"#46039f\"], [0.2222222222222222, \"#7201a8\"], [0.3333333333333333, \"#9c179e\"], [0.4444444444444444, \"#bd3786\"], [0.5555555555555556, \"#d8576b\"], [0.6666666666666666, \"#ed7953\"], [0.7777777777777778, \"#fb9f3a\"], [0.8888888888888888, \"#fdca26\"], [1.0, \"#f0f921\"]], \"type\": \"heatmap\"}], \"heatmapgl\": [{\"colorbar\": {\"outlinewidth\": 0, \"ticks\": \"\"}, \"colorscale\": [[0.0, \"#0d0887\"], [0.1111111111111111, \"#46039f\"], [0.2222222222222222, \"#7201a8\"], [0.3333333333333333, \"#9c179e\"], [0.4444444444444444, \"#bd3786\"], [0.5555555555555556, \"#d8576b\"], [0.6666666666666666, \"#ed7953\"], [0.7777777777777778, \"#fb9f3a\"], [0.8888888888888888, \"#fdca26\"], [1.0, \"#f0f921\"]], \"type\": \"heatmapgl\"}], \"histogram\": [{\"marker\": {\"colorbar\": {\"outlinewidth\": 0, \"ticks\": \"\"}}, \"type\": \"histogram\"}], \"histogram2d\": [{\"colorbar\": {\"outlinewidth\": 0, \"ticks\": \"\"}, \"colorscale\": [[0.0, \"#0d0887\"], [0.1111111111111111, \"#46039f\"], [0.2222222222222222, \"#7201a8\"], [0.3333333333333333, \"#9c179e\"], [0.4444444444444444, \"#bd3786\"], [0.5555555555555556, \"#d8576b\"], [0.6666666666666666, \"#ed7953\"], [0.7777777777777778, \"#fb9f3a\"], [0.8888888888888888, \"#fdca26\"], [1.0, \"#f0f921\"]], \"type\": \"histogram2d\"}], \"histogram2dcontour\": [{\"colorbar\": {\"outlinewidth\": 0, \"ticks\": \"\"}, \"colorscale\": [[0.0, \"#0d0887\"], [0.1111111111111111, \"#46039f\"], [0.2222222222222222, \"#7201a8\"], [0.3333333333333333, \"#9c179e\"], [0.4444444444444444, \"#bd3786\"], [0.5555555555555556, \"#d8576b\"], [0.6666666666666666, \"#ed7953\"], [0.7777777777777778, \"#fb9f3a\"], [0.8888888888888888, \"#fdca26\"], [1.0, \"#f0f921\"]], \"type\": \"histogram2dcontour\"}], \"mesh3d\": [{\"colorbar\": {\"outlinewidth\": 0, \"ticks\": \"\"}, \"type\": \"mesh3d\"}], \"parcoords\": [{\"line\": {\"colorbar\": {\"outlinewidth\": 0, \"ticks\": \"\"}}, \"type\": \"parcoords\"}], \"pie\": [{\"automargin\": true, \"type\": \"pie\"}], \"scatter\": [{\"marker\": {\"colorbar\": {\"outlinewidth\": 0, \"ticks\": \"\"}}, \"type\": \"scatter\"}], \"scatter3d\": [{\"line\": {\"colorbar\": {\"outlinewidth\": 0, \"ticks\": \"\"}}, \"marker\": {\"colorbar\": {\"outlinewidth\": 0, \"ticks\": \"\"}}, \"type\": \"scatter3d\"}], \"scattercarpet\": [{\"marker\": {\"colorbar\": {\"outlinewidth\": 0, \"ticks\": \"\"}}, \"type\": \"scattercarpet\"}], \"scattergeo\": [{\"marker\": {\"colorbar\": {\"outlinewidth\": 0, \"ticks\": \"\"}}, \"type\": \"scattergeo\"}], \"scattergl\": [{\"marker\": {\"colorbar\": {\"outlinewidth\": 0, \"ticks\": \"\"}}, \"type\": \"scattergl\"}], \"scattermapbox\": [{\"marker\": {\"colorbar\": {\"outlinewidth\": 0, \"ticks\": \"\"}}, \"type\": \"scattermapbox\"}], \"scatterpolar\": [{\"marker\": {\"colorbar\": {\"outlinewidth\": 0, \"ticks\": \"\"}}, \"type\": \"scatterpolar\"}], \"scatterpolargl\": [{\"marker\": {\"colorbar\": {\"outlinewidth\": 0, \"ticks\": \"\"}}, \"type\": \"scatterpolargl\"}], \"scatterternary\": [{\"marker\": {\"colorbar\": {\"outlinewidth\": 0, \"ticks\": \"\"}}, \"type\": \"scatterternary\"}], \"surface\": [{\"colorbar\": {\"outlinewidth\": 0, \"ticks\": \"\"}, \"colorscale\": [[0.0, \"#0d0887\"], [0.1111111111111111, \"#46039f\"], [0.2222222222222222, \"#7201a8\"], [0.3333333333333333, \"#9c179e\"], [0.4444444444444444, \"#bd3786\"], [0.5555555555555556, \"#d8576b\"], [0.6666666666666666, \"#ed7953\"], [0.7777777777777778, \"#fb9f3a\"], [0.8888888888888888, \"#fdca26\"], [1.0, \"#f0f921\"]], \"type\": \"surface\"}], \"table\": [{\"cells\": {\"fill\": {\"color\": \"#EBF0F8\"}, \"line\": {\"color\": \"white\"}}, \"header\": {\"fill\": {\"color\": \"#C8D4E3\"}, \"line\": {\"color\": \"white\"}}, \"type\": \"table\"}]}, \"layout\": {\"annotationdefaults\": {\"arrowcolor\": \"#2a3f5f\", \"arrowhead\": 0, \"arrowwidth\": 1}, \"coloraxis\": {\"colorbar\": {\"outlinewidth\": 0, \"ticks\": \"\"}}, \"colorscale\": {\"diverging\": [[0, \"#8e0152\"], [0.1, \"#c51b7d\"], [0.2, \"#de77ae\"], [0.3, \"#f1b6da\"], [0.4, \"#fde0ef\"], [0.5, \"#f7f7f7\"], [0.6, \"#e6f5d0\"], [0.7, \"#b8e186\"], [0.8, \"#7fbc41\"], [0.9, \"#4d9221\"], [1, \"#276419\"]], \"sequential\": [[0.0, \"#0d0887\"], [0.1111111111111111, \"#46039f\"], [0.2222222222222222, \"#7201a8\"], [0.3333333333333333, \"#9c179e\"], [0.4444444444444444, \"#bd3786\"], [0.5555555555555556, \"#d8576b\"], [0.6666666666666666, \"#ed7953\"], [0.7777777777777778, \"#fb9f3a\"], [0.8888888888888888, \"#fdca26\"], [1.0, \"#f0f921\"]], \"sequentialminus\": [[0.0, \"#0d0887\"], [0.1111111111111111, \"#46039f\"], [0.2222222222222222, \"#7201a8\"], [0.3333333333333333, \"#9c179e\"], [0.4444444444444444, \"#bd3786\"], [0.5555555555555556, \"#d8576b\"], [0.6666666666666666, \"#ed7953\"], [0.7777777777777778, \"#fb9f3a\"], [0.8888888888888888, \"#fdca26\"], [1.0, \"#f0f921\"]]}, \"colorway\": [\"#636efa\", \"#EF553B\", \"#00cc96\", \"#ab63fa\", \"#FFA15A\", \"#19d3f3\", \"#FF6692\", \"#B6E880\", \"#FF97FF\", \"#FECB52\"], \"font\": {\"color\": \"#2a3f5f\"}, \"geo\": {\"bgcolor\": \"white\", \"lakecolor\": \"white\", \"landcolor\": \"#E5ECF6\", \"showlakes\": true, \"showland\": true, \"subunitcolor\": \"white\"}, \"hoverlabel\": {\"align\": \"left\"}, \"hovermode\": \"closest\", \"mapbox\": {\"style\": \"light\"}, \"paper_bgcolor\": \"white\", \"plot_bgcolor\": \"#E5ECF6\", \"polar\": {\"angularaxis\": {\"gridcolor\": \"white\", \"linecolor\": \"white\", \"ticks\": \"\"}, \"bgcolor\": \"#E5ECF6\", \"radialaxis\": {\"gridcolor\": \"white\", \"linecolor\": \"white\", \"ticks\": \"\"}}, \"scene\": {\"xaxis\": {\"backgroundcolor\": \"#E5ECF6\", \"gridcolor\": \"white\", \"gridwidth\": 2, \"linecolor\": \"white\", \"showbackground\": true, \"ticks\": \"\", \"zerolinecolor\": \"white\"}, \"yaxis\": {\"backgroundcolor\": \"#E5ECF6\", \"gridcolor\": \"white\", \"gridwidth\": 2, \"linecolor\": \"white\", \"showbackground\": true, \"ticks\": \"\", \"zerolinecolor\": \"white\"}, \"zaxis\": {\"backgroundcolor\": \"#E5ECF6\", \"gridcolor\": \"white\", \"gridwidth\": 2, \"linecolor\": \"white\", \"showbackground\": true, \"ticks\": \"\", \"zerolinecolor\": \"white\"}}, \"shapedefaults\": {\"line\": {\"color\": \"#2a3f5f\"}}, \"ternary\": {\"aaxis\": {\"gridcolor\": \"white\", \"linecolor\": \"white\", \"ticks\": \"\"}, \"baxis\": {\"gridcolor\": \"white\", \"linecolor\": \"white\", \"ticks\": \"\"}, \"bgcolor\": \"#E5ECF6\", \"caxis\": {\"gridcolor\": \"white\", \"linecolor\": \"white\", \"ticks\": \"\"}}, \"title\": {\"x\": 0.05}, \"xaxis\": {\"automargin\": true, \"gridcolor\": \"white\", \"linecolor\": \"white\", \"ticks\": \"\", \"title\": {\"standoff\": 15}, \"zerolinecolor\": \"white\", \"zerolinewidth\": 2}, \"yaxis\": {\"automargin\": true, \"gridcolor\": \"white\", \"linecolor\": \"white\", \"ticks\": \"\", \"title\": {\"standoff\": 15}, \"zerolinecolor\": \"white\", \"zerolinewidth\": 2}}}, \"title\": {\"text\": \"\\u30d3\\u30fc\\u30eb\\u52dd\\u5229\\u91cf\\u3068\\u6c17\\u6e29\"}, \"xaxis\": {\"anchor\": \"y\", \"domain\": [0.0, 1.0], \"title\": {\"text\": \"\\u6c17\\u6e29\"}}, \"yaxis\": {\"anchor\": \"x\", \"domain\": [0.0, 1.0], \"title\": {\"text\": \"\\u30d3\\u30fc\\u30eb\\u6d88\\u8cbb\\u91cf\"}}},\n",
              "                        {\"responsive\": true}\n",
              "                    ).then(function(){\n",
              "                            \n",
              "var gd = document.getElementById('4686b1d5-2c9e-4914-93f8-6dfbb1a02ad1');\n",
              "var x = new MutationObserver(function (mutations, observer) {{\n",
              "        var display = window.getComputedStyle(gd).display;\n",
              "        if (!display || display === 'none') {{\n",
              "            console.log([gd, 'removed!']);\n",
              "            Plotly.purge(gd);\n",
              "            observer.disconnect();\n",
              "        }}\n",
              "}});\n",
              "\n",
              "// Listen for the removal of the full notebook cells\n",
              "var notebookContainer = gd.closest('#notebook-container');\n",
              "if (notebookContainer) {{\n",
              "    x.observe(notebookContainer, {childList: true});\n",
              "}}\n",
              "\n",
              "// Listen for the clearing of the current output cell\n",
              "var outputEl = gd.closest('.output');\n",
              "if (outputEl) {{\n",
              "    x.observe(outputEl, {childList: true});\n",
              "}}\n",
              "\n",
              "                        })\n",
              "                };\n",
              "                \n",
              "            </script>\n",
              "        </div>\n",
              "</body>\n",
              "</html>"
            ]
          },
          "metadata": {
            "tags": []
          }
        }
      ]
    },
    {
      "cell_type": "markdown",
      "metadata": {
        "id": "ix3qqAG9E4K2"
      },
      "source": [
        "## **データ加工編第二部:seisekiデータ**<a id='sec4'></a>  \n",
        "[先頭に戻る](#top)  "
      ]
    },
    {
      "cell_type": "markdown",
      "metadata": {
        "id": "c2kADprtE4K2"
      },
      "source": [
        "**その１**<a id='sec4_1'></a>  \n",
        "**成績データを読み込んでみよう！**   \n",
        "資料サイト(https://statistics.co.jp/reference/statistical_data/statistical_data.htm)  \n",
        ">5. 成績データ[csv] をダウンロード"
      ]
    },
    {
      "cell_type": "code",
      "metadata": {
        "id": "qr12kkE5E4K3"
      },
      "source": [
        "#ライブラリのインポート\n",
        "import pandas as pd\n",
        "import numpy as np"
      ],
      "execution_count": null,
      "outputs": []
    },
    {
      "cell_type": "code",
      "metadata": {
        "id": "CW19SBPkE4K3",
        "outputId": "77d52118-152a-4b6a-9ea8-be6f589ce030"
      },
      "source": [
        "df = pd.read_csv(\"seiseki.csv\")\n",
        "df.head()"
      ],
      "execution_count": null,
      "outputs": [
        {
          "output_type": "execute_result",
          "data": {
            "text/html": [
              "<div>\n",
              "<style scoped>\n",
              "    .dataframe tbody tr th:only-of-type {\n",
              "        vertical-align: middle;\n",
              "    }\n",
              "\n",
              "    .dataframe tbody tr th {\n",
              "        vertical-align: top;\n",
              "    }\n",
              "\n",
              "    .dataframe thead th {\n",
              "        text-align: right;\n",
              "    }\n",
              "</style>\n",
              "<table border=\"1\" class=\"dataframe\">\n",
              "  <thead>\n",
              "    <tr style=\"text-align: right;\">\n",
              "      <th></th>\n",
              "      <th>kokugo</th>\n",
              "      <th>shakai</th>\n",
              "      <th>sugaku</th>\n",
              "      <th>rika</th>\n",
              "      <th>ongaku</th>\n",
              "      <th>bijutu</th>\n",
              "      <th>taiiku</th>\n",
              "      <th>gika</th>\n",
              "      <th>eigo</th>\n",
              "    </tr>\n",
              "  </thead>\n",
              "  <tbody>\n",
              "    <tr>\n",
              "      <th>0</th>\n",
              "      <td>30</td>\n",
              "      <td>43</td>\n",
              "      <td>51</td>\n",
              "      <td>63</td>\n",
              "      <td>60</td>\n",
              "      <td>66</td>\n",
              "      <td>37</td>\n",
              "      <td>44</td>\n",
              "      <td>20</td>\n",
              "    </tr>\n",
              "    <tr>\n",
              "      <th>1</th>\n",
              "      <td>39</td>\n",
              "      <td>21</td>\n",
              "      <td>49</td>\n",
              "      <td>56</td>\n",
              "      <td>70</td>\n",
              "      <td>72</td>\n",
              "      <td>56</td>\n",
              "      <td>63</td>\n",
              "      <td>16</td>\n",
              "    </tr>\n",
              "    <tr>\n",
              "      <th>2</th>\n",
              "      <td>29</td>\n",
              "      <td>30</td>\n",
              "      <td>23</td>\n",
              "      <td>57</td>\n",
              "      <td>69</td>\n",
              "      <td>76</td>\n",
              "      <td>33</td>\n",
              "      <td>54</td>\n",
              "      <td>6</td>\n",
              "    </tr>\n",
              "    <tr>\n",
              "      <th>3</th>\n",
              "      <td>95</td>\n",
              "      <td>87</td>\n",
              "      <td>77</td>\n",
              "      <td>100</td>\n",
              "      <td>77</td>\n",
              "      <td>82</td>\n",
              "      <td>78</td>\n",
              "      <td>96</td>\n",
              "      <td>87</td>\n",
              "    </tr>\n",
              "    <tr>\n",
              "      <th>4</th>\n",
              "      <td>70</td>\n",
              "      <td>71</td>\n",
              "      <td>78</td>\n",
              "      <td>67</td>\n",
              "      <td>72</td>\n",
              "      <td>82</td>\n",
              "      <td>46</td>\n",
              "      <td>63</td>\n",
              "      <td>44</td>\n",
              "    </tr>\n",
              "  </tbody>\n",
              "</table>\n",
              "</div>"
            ],
            "text/plain": [
              "   kokugo  shakai  sugaku  rika  ongaku  bijutu  taiiku  gika  eigo\n",
              "0      30      43      51    63      60      66      37    44    20\n",
              "1      39      21      49    56      70      72      56    63    16\n",
              "2      29      30      23    57      69      76      33    54     6\n",
              "3      95      87      77   100      77      82      78    96    87\n",
              "4      70      71      78    67      72      82      46    63    44"
            ]
          },
          "metadata": {
            "tags": []
          },
          "execution_count": 84
        }
      ]
    },
    {
      "cell_type": "markdown",
      "metadata": {
        "id": "OTyX2ZRFE4K4"
      },
      "source": [
        "**その2-1** **データの特徴を把握しよう！**<a id='sec4_2_1'></a>  \n",
        "[先頭に戻る](#top)"
      ]
    },
    {
      "cell_type": "code",
      "metadata": {
        "id": "76BdHlwtE4K4",
        "outputId": "40c764ea-2213-4978-a09a-bacf15a79d2a"
      },
      "source": [
        "type(df)"
      ],
      "execution_count": null,
      "outputs": [
        {
          "output_type": "execute_result",
          "data": {
            "text/plain": [
              "pandas.core.frame.DataFrame"
            ]
          },
          "metadata": {
            "tags": []
          },
          "execution_count": 123
        }
      ]
    },
    {
      "cell_type": "code",
      "metadata": {
        "id": "IUhhHsEjE4K4",
        "outputId": "a4347287-6824-4673-fdad-8acb8a71a255"
      },
      "source": [
        "df.info()"
      ],
      "execution_count": null,
      "outputs": [
        {
          "output_type": "stream",
          "text": [
            "<class 'pandas.core.frame.DataFrame'>\n",
            "RangeIndex: 166 entries, 0 to 165\n",
            "Data columns (total 9 columns):\n",
            " #   Column  Non-Null Count  Dtype\n",
            "---  ------  --------------  -----\n",
            " 0   kokugo  166 non-null    int64\n",
            " 1   shakai  166 non-null    int64\n",
            " 2   sugaku  166 non-null    int64\n",
            " 3   rika    166 non-null    int64\n",
            " 4   ongaku  166 non-null    int64\n",
            " 5   bijutu  166 non-null    int64\n",
            " 6   taiiku  166 non-null    int64\n",
            " 7   gika    166 non-null    int64\n",
            " 8   eigo    166 non-null    int64\n",
            "dtypes: int64(9)\n",
            "memory usage: 11.8 KB\n"
          ],
          "name": "stdout"
        }
      ]
    },
    {
      "cell_type": "markdown",
      "metadata": {
        "id": "T1jtFco5E4K5"
      },
      "source": [
        "**その2-2**　**データの特徴を把握しよう！**<a id='sec4_2_2'></a>  \n",
        "[先頭に戻る](#top)"
      ]
    },
    {
      "cell_type": "markdown",
      "metadata": {
        "id": "RI_y-MrsE4K5"
      },
      "source": [
        "　先程は、どうやらこのデータには不備がないらしいということが確認できました。  \n",
        "その次に、データの平均値や分布の散らばり(分散)について知りたくないですか？？  \n",
        "皆さま朗報です。pandasではなんと一行ですべてが把握できます。"
      ]
    },
    {
      "cell_type": "code",
      "metadata": {
        "id": "rSA5TBrOE4K5",
        "outputId": "9abc5625-aa5d-4e14-dbad-af3e59705107"
      },
      "source": [
        "df.describe()"
      ],
      "execution_count": null,
      "outputs": [
        {
          "output_type": "execute_result",
          "data": {
            "text/html": [
              "<div>\n",
              "<style scoped>\n",
              "    .dataframe tbody tr th:only-of-type {\n",
              "        vertical-align: middle;\n",
              "    }\n",
              "\n",
              "    .dataframe tbody tr th {\n",
              "        vertical-align: top;\n",
              "    }\n",
              "\n",
              "    .dataframe thead th {\n",
              "        text-align: right;\n",
              "    }\n",
              "</style>\n",
              "<table border=\"1\" class=\"dataframe\">\n",
              "  <thead>\n",
              "    <tr style=\"text-align: right;\">\n",
              "      <th></th>\n",
              "      <th>kokugo</th>\n",
              "      <th>shakai</th>\n",
              "      <th>sugaku</th>\n",
              "      <th>rika</th>\n",
              "      <th>ongaku</th>\n",
              "      <th>bijutu</th>\n",
              "      <th>taiiku</th>\n",
              "      <th>gika</th>\n",
              "      <th>eigo</th>\n",
              "    </tr>\n",
              "  </thead>\n",
              "  <tbody>\n",
              "    <tr>\n",
              "      <th>count</th>\n",
              "      <td>166.000000</td>\n",
              "      <td>166.000000</td>\n",
              "      <td>166.000000</td>\n",
              "      <td>166.000000</td>\n",
              "      <td>166.000000</td>\n",
              "      <td>166.000000</td>\n",
              "      <td>166.000000</td>\n",
              "      <td>166.000000</td>\n",
              "      <td>166.000000</td>\n",
              "    </tr>\n",
              "    <tr>\n",
              "      <th>mean</th>\n",
              "      <td>52.331325</td>\n",
              "      <td>39.602410</td>\n",
              "      <td>45.614458</td>\n",
              "      <td>49.885542</td>\n",
              "      <td>42.331325</td>\n",
              "      <td>62.457831</td>\n",
              "      <td>57.740964</td>\n",
              "      <td>47.307229</td>\n",
              "      <td>39.084337</td>\n",
              "    </tr>\n",
              "    <tr>\n",
              "      <th>std</th>\n",
              "      <td>21.835858</td>\n",
              "      <td>21.456335</td>\n",
              "      <td>24.236127</td>\n",
              "      <td>21.408130</td>\n",
              "      <td>22.894855</td>\n",
              "      <td>17.188298</td>\n",
              "      <td>26.577943</td>\n",
              "      <td>22.519397</td>\n",
              "      <td>29.507351</td>\n",
              "    </tr>\n",
              "    <tr>\n",
              "      <th>min</th>\n",
              "      <td>0.000000</td>\n",
              "      <td>4.000000</td>\n",
              "      <td>0.000000</td>\n",
              "      <td>9.000000</td>\n",
              "      <td>2.000000</td>\n",
              "      <td>15.000000</td>\n",
              "      <td>2.000000</td>\n",
              "      <td>2.000000</td>\n",
              "      <td>0.000000</td>\n",
              "    </tr>\n",
              "    <tr>\n",
              "      <th>25%</th>\n",
              "      <td>35.000000</td>\n",
              "      <td>23.000000</td>\n",
              "      <td>28.000000</td>\n",
              "      <td>31.000000</td>\n",
              "      <td>25.250000</td>\n",
              "      <td>52.000000</td>\n",
              "      <td>35.250000</td>\n",
              "      <td>31.250000</td>\n",
              "      <td>12.000000</td>\n",
              "    </tr>\n",
              "    <tr>\n",
              "      <th>50%</th>\n",
              "      <td>53.000000</td>\n",
              "      <td>35.000000</td>\n",
              "      <td>43.000000</td>\n",
              "      <td>49.000000</td>\n",
              "      <td>41.500000</td>\n",
              "      <td>65.000000</td>\n",
              "      <td>60.000000</td>\n",
              "      <td>48.500000</td>\n",
              "      <td>35.000000</td>\n",
              "    </tr>\n",
              "    <tr>\n",
              "      <th>75%</th>\n",
              "      <td>70.000000</td>\n",
              "      <td>53.750000</td>\n",
              "      <td>63.750000</td>\n",
              "      <td>65.750000</td>\n",
              "      <td>58.750000</td>\n",
              "      <td>75.750000</td>\n",
              "      <td>82.000000</td>\n",
              "      <td>65.000000</td>\n",
              "      <td>66.750000</td>\n",
              "    </tr>\n",
              "    <tr>\n",
              "      <th>max</th>\n",
              "      <td>96.000000</td>\n",
              "      <td>90.000000</td>\n",
              "      <td>100.000000</td>\n",
              "      <td>100.000000</td>\n",
              "      <td>96.000000</td>\n",
              "      <td>99.000000</td>\n",
              "      <td>99.000000</td>\n",
              "      <td>100.000000</td>\n",
              "      <td>99.000000</td>\n",
              "    </tr>\n",
              "  </tbody>\n",
              "</table>\n",
              "</div>"
            ],
            "text/plain": [
              "           kokugo      shakai      sugaku        rika      ongaku      bijutu  \\\n",
              "count  166.000000  166.000000  166.000000  166.000000  166.000000  166.000000   \n",
              "mean    52.331325   39.602410   45.614458   49.885542   42.331325   62.457831   \n",
              "std     21.835858   21.456335   24.236127   21.408130   22.894855   17.188298   \n",
              "min      0.000000    4.000000    0.000000    9.000000    2.000000   15.000000   \n",
              "25%     35.000000   23.000000   28.000000   31.000000   25.250000   52.000000   \n",
              "50%     53.000000   35.000000   43.000000   49.000000   41.500000   65.000000   \n",
              "75%     70.000000   53.750000   63.750000   65.750000   58.750000   75.750000   \n",
              "max     96.000000   90.000000  100.000000  100.000000   96.000000   99.000000   \n",
              "\n",
              "           taiiku        gika        eigo  \n",
              "count  166.000000  166.000000  166.000000  \n",
              "mean    57.740964   47.307229   39.084337  \n",
              "std     26.577943   22.519397   29.507351  \n",
              "min      2.000000    2.000000    0.000000  \n",
              "25%     35.250000   31.250000   12.000000  \n",
              "50%     60.000000   48.500000   35.000000  \n",
              "75%     82.000000   65.000000   66.750000  \n",
              "max     99.000000  100.000000   99.000000  "
            ]
          },
          "metadata": {
            "tags": []
          },
          "execution_count": 125
        }
      ]
    },
    {
      "cell_type": "markdown",
      "metadata": {
        "id": "2Zo-7bNZE4K6"
      },
      "source": [
        "**その3** **カラムの名前を変更してみよう！**<a id='sec4_3'></a>  \n",
        "[先頭に戻る](#top)"
      ]
    },
    {
      "cell_type": "code",
      "metadata": {
        "id": "HdKMahrdE4K6",
        "outputId": "384e14b9-aa8a-4378-df9f-17081ae02942"
      },
      "source": [
        "df = df.rename(columns={\"eigo\":\"英語\",\"kokugo\":\"国語\",\"shakai\":\"社会\",\"rika\":\"理科\",\"sugaku\":\"数学\"})\n",
        "df\n",
        "#名前を上書きしないと一回きりで消えてしまいます！！"
      ],
      "execution_count": null,
      "outputs": [
        {
          "output_type": "execute_result",
          "data": {
            "text/html": [
              "<div>\n",
              "<style scoped>\n",
              "    .dataframe tbody tr th:only-of-type {\n",
              "        vertical-align: middle;\n",
              "    }\n",
              "\n",
              "    .dataframe tbody tr th {\n",
              "        vertical-align: top;\n",
              "    }\n",
              "\n",
              "    .dataframe thead th {\n",
              "        text-align: right;\n",
              "    }\n",
              "</style>\n",
              "<table border=\"1\" class=\"dataframe\">\n",
              "  <thead>\n",
              "    <tr style=\"text-align: right;\">\n",
              "      <th></th>\n",
              "      <th>国語</th>\n",
              "      <th>社会</th>\n",
              "      <th>数学</th>\n",
              "      <th>理科</th>\n",
              "      <th>ongaku</th>\n",
              "      <th>bijutu</th>\n",
              "      <th>taiiku</th>\n",
              "      <th>gika</th>\n",
              "      <th>英語</th>\n",
              "    </tr>\n",
              "  </thead>\n",
              "  <tbody>\n",
              "    <tr>\n",
              "      <th>0</th>\n",
              "      <td>30</td>\n",
              "      <td>43</td>\n",
              "      <td>51</td>\n",
              "      <td>63</td>\n",
              "      <td>60</td>\n",
              "      <td>66</td>\n",
              "      <td>37</td>\n",
              "      <td>44</td>\n",
              "      <td>20</td>\n",
              "    </tr>\n",
              "    <tr>\n",
              "      <th>1</th>\n",
              "      <td>39</td>\n",
              "      <td>21</td>\n",
              "      <td>49</td>\n",
              "      <td>56</td>\n",
              "      <td>70</td>\n",
              "      <td>72</td>\n",
              "      <td>56</td>\n",
              "      <td>63</td>\n",
              "      <td>16</td>\n",
              "    </tr>\n",
              "    <tr>\n",
              "      <th>2</th>\n",
              "      <td>29</td>\n",
              "      <td>30</td>\n",
              "      <td>23</td>\n",
              "      <td>57</td>\n",
              "      <td>69</td>\n",
              "      <td>76</td>\n",
              "      <td>33</td>\n",
              "      <td>54</td>\n",
              "      <td>6</td>\n",
              "    </tr>\n",
              "    <tr>\n",
              "      <th>3</th>\n",
              "      <td>95</td>\n",
              "      <td>87</td>\n",
              "      <td>77</td>\n",
              "      <td>100</td>\n",
              "      <td>77</td>\n",
              "      <td>82</td>\n",
              "      <td>78</td>\n",
              "      <td>96</td>\n",
              "      <td>87</td>\n",
              "    </tr>\n",
              "    <tr>\n",
              "      <th>4</th>\n",
              "      <td>70</td>\n",
              "      <td>71</td>\n",
              "      <td>78</td>\n",
              "      <td>67</td>\n",
              "      <td>72</td>\n",
              "      <td>82</td>\n",
              "      <td>46</td>\n",
              "      <td>63</td>\n",
              "      <td>44</td>\n",
              "    </tr>\n",
              "    <tr>\n",
              "      <th>...</th>\n",
              "      <td>...</td>\n",
              "      <td>...</td>\n",
              "      <td>...</td>\n",
              "      <td>...</td>\n",
              "      <td>...</td>\n",
              "      <td>...</td>\n",
              "      <td>...</td>\n",
              "      <td>...</td>\n",
              "      <td>...</td>\n",
              "    </tr>\n",
              "    <tr>\n",
              "      <th>161</th>\n",
              "      <td>82</td>\n",
              "      <td>78</td>\n",
              "      <td>80</td>\n",
              "      <td>88</td>\n",
              "      <td>80</td>\n",
              "      <td>69</td>\n",
              "      <td>83</td>\n",
              "      <td>78</td>\n",
              "      <td>90</td>\n",
              "    </tr>\n",
              "    <tr>\n",
              "      <th>162</th>\n",
              "      <td>0</td>\n",
              "      <td>8</td>\n",
              "      <td>2</td>\n",
              "      <td>9</td>\n",
              "      <td>5</td>\n",
              "      <td>18</td>\n",
              "      <td>42</td>\n",
              "      <td>2</td>\n",
              "      <td>1</td>\n",
              "    </tr>\n",
              "    <tr>\n",
              "      <th>163</th>\n",
              "      <td>45</td>\n",
              "      <td>26</td>\n",
              "      <td>29</td>\n",
              "      <td>24</td>\n",
              "      <td>31</td>\n",
              "      <td>57</td>\n",
              "      <td>68</td>\n",
              "      <td>40</td>\n",
              "      <td>27</td>\n",
              "    </tr>\n",
              "    <tr>\n",
              "      <th>164</th>\n",
              "      <td>73</td>\n",
              "      <td>31</td>\n",
              "      <td>43</td>\n",
              "      <td>32</td>\n",
              "      <td>59</td>\n",
              "      <td>64</td>\n",
              "      <td>82</td>\n",
              "      <td>48</td>\n",
              "      <td>56</td>\n",
              "    </tr>\n",
              "    <tr>\n",
              "      <th>165</th>\n",
              "      <td>60</td>\n",
              "      <td>85</td>\n",
              "      <td>89</td>\n",
              "      <td>80</td>\n",
              "      <td>56</td>\n",
              "      <td>79</td>\n",
              "      <td>81</td>\n",
              "      <td>45</td>\n",
              "      <td>85</td>\n",
              "    </tr>\n",
              "  </tbody>\n",
              "</table>\n",
              "<p>166 rows × 9 columns</p>\n",
              "</div>"
            ],
            "text/plain": [
              "     国語  社会  数学   理科  ongaku  bijutu  taiiku  gika  英語\n",
              "0    30  43  51   63      60      66      37    44  20\n",
              "1    39  21  49   56      70      72      56    63  16\n",
              "2    29  30  23   57      69      76      33    54   6\n",
              "3    95  87  77  100      77      82      78    96  87\n",
              "4    70  71  78   67      72      82      46    63  44\n",
              "..   ..  ..  ..  ...     ...     ...     ...   ...  ..\n",
              "161  82  78  80   88      80      69      83    78  90\n",
              "162   0   8   2    9       5      18      42     2   1\n",
              "163  45  26  29   24      31      57      68    40  27\n",
              "164  73  31  43   32      59      64      82    48  56\n",
              "165  60  85  89   80      56      79      81    45  85\n",
              "\n",
              "[166 rows x 9 columns]"
            ]
          },
          "metadata": {
            "tags": []
          },
          "execution_count": 126
        }
      ]
    },
    {
      "cell_type": "markdown",
      "metadata": {
        "id": "5WvFOzBIE4K7"
      },
      "source": [
        "**実践：副科目についても変更しましょう！**  \n",
        "その際、gikaは技術家庭科と置き換えてください！"
      ]
    },
    {
      "cell_type": "markdown",
      "metadata": {
        "id": "vVxF294nE4K7"
      },
      "source": [
        "**その4** **特定の列だけを取り出してみよう！**<a id='sec4_4'></a>  \n",
        "[先頭に戻る](#top)"
      ]
    },
    {
      "cell_type": "markdown",
      "metadata": {
        "id": "FeugLlVOE4K7"
      },
      "source": [
        "まずは国語のデータのみをシリーズとして抽出してみましょう。"
      ]
    },
    {
      "cell_type": "code",
      "metadata": {
        "id": "rSQ1DFEME4K8"
      },
      "source": [
        "df[\"国語\"]"
      ],
      "execution_count": null,
      "outputs": []
    },
    {
      "cell_type": "markdown",
      "metadata": {
        "id": "YAhG7KZyE4K8"
      },
      "source": [
        "### *DataFrameとSeries*<a id='sec4_5'></a>  \n",
        "[先頭に戻る](#top)"
      ]
    },
    {
      "cell_type": "markdown",
      "metadata": {
        "id": "Js-_qxDjE4K8"
      },
      "source": [
        "DataFrameと対になる概念が、Seriesです。  \n",
        "以下に、Series(シリーズ)に関して説明します。"
      ]
    },
    {
      "cell_type": "code",
      "metadata": {
        "id": "EnNpli0WE4K9",
        "outputId": "9a6ef0fe-9922-4aa0-fa8a-434ccdbee74f"
      },
      "source": [
        "type(df[\"国語\"])"
      ],
      "execution_count": null,
      "outputs": [
        {
          "output_type": "execute_result",
          "data": {
            "text/plain": [
              "pandas.core.series.Series"
            ]
          },
          "metadata": {
            "tags": []
          },
          "execution_count": 128
        }
      ]
    },
    {
      "cell_type": "markdown",
      "metadata": {
        "id": "asgoG_oXE4K9"
      },
      "source": [
        "データを抜き取る際に、[　]の数を一ペア減らしました。すると、表示のされ方が変わりました。このように一次元配列で収納されたデータを**シリーズ**と呼びます。シリーズはDataFrameとは少し扱い方が異なります。重要な点だけ確認してみます。"
      ]
    },
    {
      "cell_type": "markdown",
      "metadata": {
        "id": "GcyYYc2NE4K9"
      },
      "source": [
        "実際に動かしてみるとわかりますが、Series型はinfo()関数が使えません。そのため、確認には以下のコードを用います。"
      ]
    },
    {
      "cell_type": "code",
      "metadata": {
        "id": "uqE-EG_8E4K-",
        "outputId": "89aede4e-47ad-485c-9181-5d832368d64c"
      },
      "source": [
        "#dataの型を確認します。\n",
        "type(df[\"国語\"])"
      ],
      "execution_count": null,
      "outputs": [
        {
          "output_type": "execute_result",
          "data": {
            "text/plain": [
              "pandas.core.series.Series"
            ]
          },
          "metadata": {
            "tags": []
          },
          "execution_count": 129
        }
      ]
    },
    {
      "cell_type": "code",
      "metadata": {
        "id": "XwnybZEDE4K-",
        "outputId": "497c4ab0-10f3-4e22-e91f-733136792f53"
      },
      "source": [
        "#文字の種類を確認できます。\n",
        "df[\"国語\"].dtype"
      ],
      "execution_count": null,
      "outputs": [
        {
          "output_type": "execute_result",
          "data": {
            "text/plain": [
              "dtype('int64')"
            ]
          },
          "metadata": {
            "tags": []
          },
          "execution_count": 130
        }
      ]
    },
    {
      "cell_type": "markdown",
      "metadata": {
        "id": "WqclkBqvE4K_"
      },
      "source": [
        "Seriesよりも、DataFrameのほうが便利です。平均値などの記述統計を知りたい場合は、シリーズをDataFrameに戻してしまうのが便利です。"
      ]
    },
    {
      "cell_type": "code",
      "metadata": {
        "id": "I7kpa81YE4K_",
        "outputId": "8ff4488c-3f22-4c10-c6aa-669885baf5db"
      },
      "source": [
        "df_kokugo = pd.DataFrame(df[\"国語\"])\n",
        "df_kokugo"
      ],
      "execution_count": null,
      "outputs": [
        {
          "output_type": "execute_result",
          "data": {
            "text/html": [
              "<div>\n",
              "<style scoped>\n",
              "    .dataframe tbody tr th:only-of-type {\n",
              "        vertical-align: middle;\n",
              "    }\n",
              "\n",
              "    .dataframe tbody tr th {\n",
              "        vertical-align: top;\n",
              "    }\n",
              "\n",
              "    .dataframe thead th {\n",
              "        text-align: right;\n",
              "    }\n",
              "</style>\n",
              "<table border=\"1\" class=\"dataframe\">\n",
              "  <thead>\n",
              "    <tr style=\"text-align: right;\">\n",
              "      <th></th>\n",
              "      <th>国語</th>\n",
              "    </tr>\n",
              "  </thead>\n",
              "  <tbody>\n",
              "    <tr>\n",
              "      <th>0</th>\n",
              "      <td>30</td>\n",
              "    </tr>\n",
              "    <tr>\n",
              "      <th>1</th>\n",
              "      <td>39</td>\n",
              "    </tr>\n",
              "    <tr>\n",
              "      <th>2</th>\n",
              "      <td>29</td>\n",
              "    </tr>\n",
              "    <tr>\n",
              "      <th>3</th>\n",
              "      <td>95</td>\n",
              "    </tr>\n",
              "    <tr>\n",
              "      <th>4</th>\n",
              "      <td>70</td>\n",
              "    </tr>\n",
              "    <tr>\n",
              "      <th>...</th>\n",
              "      <td>...</td>\n",
              "    </tr>\n",
              "    <tr>\n",
              "      <th>161</th>\n",
              "      <td>82</td>\n",
              "    </tr>\n",
              "    <tr>\n",
              "      <th>162</th>\n",
              "      <td>0</td>\n",
              "    </tr>\n",
              "    <tr>\n",
              "      <th>163</th>\n",
              "      <td>45</td>\n",
              "    </tr>\n",
              "    <tr>\n",
              "      <th>164</th>\n",
              "      <td>73</td>\n",
              "    </tr>\n",
              "    <tr>\n",
              "      <th>165</th>\n",
              "      <td>60</td>\n",
              "    </tr>\n",
              "  </tbody>\n",
              "</table>\n",
              "<p>166 rows × 1 columns</p>\n",
              "</div>"
            ],
            "text/plain": [
              "     国語\n",
              "0    30\n",
              "1    39\n",
              "2    29\n",
              "3    95\n",
              "4    70\n",
              "..   ..\n",
              "161  82\n",
              "162   0\n",
              "163  45\n",
              "164  73\n",
              "165  60\n",
              "\n",
              "[166 rows x 1 columns]"
            ]
          },
          "metadata": {
            "tags": []
          },
          "execution_count": 131
        }
      ]
    },
    {
      "cell_type": "code",
      "metadata": {
        "id": "qEWcNWHWE4K_",
        "outputId": "daed1912-70c1-41c6-8f56-0614ba9db643"
      },
      "source": [
        "type(df_kokugo)"
      ],
      "execution_count": null,
      "outputs": [
        {
          "output_type": "execute_result",
          "data": {
            "text/plain": [
              "pandas.core.frame.DataFrame"
            ]
          },
          "metadata": {
            "tags": []
          },
          "execution_count": 132
        }
      ]
    },
    {
      "cell_type": "markdown",
      "metadata": {
        "id": "cXcSo5n2E4LA"
      },
      "source": [
        "　DataFrameに帰ってくることができました。このように、データは多くの場合で変更ができます。先ほどのint64型とfloat型でも、int64で表示されていてほしい時に、float型で表示されてしまっていたりすることがあります。同じ種類のデータには、なんらかの互換性が装備されていることが多いです。"
      ]
    },
    {
      "cell_type": "markdown",
      "metadata": {
        "id": "Wplny3VBE4LA"
      },
      "source": [
        "次は複数の行を取り出します。"
      ]
    },
    {
      "cell_type": "code",
      "metadata": {
        "id": "xCT5SGCWE4LA",
        "outputId": "8a2dc1d0-cdd3-4617-f279-fb707828890c"
      },
      "source": [
        "df[[\"国語\",\"社会\",\"理科\",\"数学\",\"英語\"]]"
      ],
      "execution_count": null,
      "outputs": [
        {
          "output_type": "execute_result",
          "data": {
            "text/html": [
              "<div>\n",
              "<style scoped>\n",
              "    .dataframe tbody tr th:only-of-type {\n",
              "        vertical-align: middle;\n",
              "    }\n",
              "\n",
              "    .dataframe tbody tr th {\n",
              "        vertical-align: top;\n",
              "    }\n",
              "\n",
              "    .dataframe thead th {\n",
              "        text-align: right;\n",
              "    }\n",
              "</style>\n",
              "<table border=\"1\" class=\"dataframe\">\n",
              "  <thead>\n",
              "    <tr style=\"text-align: right;\">\n",
              "      <th></th>\n",
              "      <th>国語</th>\n",
              "      <th>社会</th>\n",
              "      <th>理科</th>\n",
              "      <th>数学</th>\n",
              "      <th>英語</th>\n",
              "    </tr>\n",
              "  </thead>\n",
              "  <tbody>\n",
              "    <tr>\n",
              "      <th>0</th>\n",
              "      <td>30</td>\n",
              "      <td>43</td>\n",
              "      <td>63</td>\n",
              "      <td>51</td>\n",
              "      <td>20</td>\n",
              "    </tr>\n",
              "    <tr>\n",
              "      <th>1</th>\n",
              "      <td>39</td>\n",
              "      <td>21</td>\n",
              "      <td>56</td>\n",
              "      <td>49</td>\n",
              "      <td>16</td>\n",
              "    </tr>\n",
              "    <tr>\n",
              "      <th>2</th>\n",
              "      <td>29</td>\n",
              "      <td>30</td>\n",
              "      <td>57</td>\n",
              "      <td>23</td>\n",
              "      <td>6</td>\n",
              "    </tr>\n",
              "    <tr>\n",
              "      <th>3</th>\n",
              "      <td>95</td>\n",
              "      <td>87</td>\n",
              "      <td>100</td>\n",
              "      <td>77</td>\n",
              "      <td>87</td>\n",
              "    </tr>\n",
              "    <tr>\n",
              "      <th>4</th>\n",
              "      <td>70</td>\n",
              "      <td>71</td>\n",
              "      <td>67</td>\n",
              "      <td>78</td>\n",
              "      <td>44</td>\n",
              "    </tr>\n",
              "    <tr>\n",
              "      <th>...</th>\n",
              "      <td>...</td>\n",
              "      <td>...</td>\n",
              "      <td>...</td>\n",
              "      <td>...</td>\n",
              "      <td>...</td>\n",
              "    </tr>\n",
              "    <tr>\n",
              "      <th>161</th>\n",
              "      <td>82</td>\n",
              "      <td>78</td>\n",
              "      <td>88</td>\n",
              "      <td>80</td>\n",
              "      <td>90</td>\n",
              "    </tr>\n",
              "    <tr>\n",
              "      <th>162</th>\n",
              "      <td>0</td>\n",
              "      <td>8</td>\n",
              "      <td>9</td>\n",
              "      <td>2</td>\n",
              "      <td>1</td>\n",
              "    </tr>\n",
              "    <tr>\n",
              "      <th>163</th>\n",
              "      <td>45</td>\n",
              "      <td>26</td>\n",
              "      <td>24</td>\n",
              "      <td>29</td>\n",
              "      <td>27</td>\n",
              "    </tr>\n",
              "    <tr>\n",
              "      <th>164</th>\n",
              "      <td>73</td>\n",
              "      <td>31</td>\n",
              "      <td>32</td>\n",
              "      <td>43</td>\n",
              "      <td>56</td>\n",
              "    </tr>\n",
              "    <tr>\n",
              "      <th>165</th>\n",
              "      <td>60</td>\n",
              "      <td>85</td>\n",
              "      <td>80</td>\n",
              "      <td>89</td>\n",
              "      <td>85</td>\n",
              "    </tr>\n",
              "  </tbody>\n",
              "</table>\n",
              "<p>166 rows × 5 columns</p>\n",
              "</div>"
            ],
            "text/plain": [
              "     国語  社会   理科  数学  英語\n",
              "0    30  43   63  51  20\n",
              "1    39  21   56  49  16\n",
              "2    29  30   57  23   6\n",
              "3    95  87  100  77  87\n",
              "4    70  71   67  78  44\n",
              "..   ..  ..  ...  ..  ..\n",
              "161  82  78   88  80  90\n",
              "162   0   8    9   2   1\n",
              "163  45  26   24  29  27\n",
              "164  73  31   32  43  56\n",
              "165  60  85   80  89  85\n",
              "\n",
              "[166 rows x 5 columns]"
            ]
          },
          "metadata": {
            "tags": []
          },
          "execution_count": 133
        }
      ]
    },
    {
      "cell_type": "markdown",
      "metadata": {
        "id": "XSdCqri5E4LB"
      },
      "source": [
        "**実践：同様に副科目を取り出しましょう！**"
      ]
    },
    {
      "cell_type": "markdown",
      "metadata": {
        "id": "coloswBkE4LB"
      },
      "source": [
        "**その5** **列を統合させてみよう！**<a id='sec4_6'></a>  \n",
        "[先頭に戻る](#top)"
      ]
    },
    {
      "cell_type": "markdown",
      "metadata": {
        "id": "oZPsEUHPE4LB"
      },
      "source": [
        "次に列を合体させて、理系科目と文系科目に分けてみようと思います。"
      ]
    },
    {
      "cell_type": "code",
      "metadata": {
        "id": "e2j6Q3aoE4LC"
      },
      "source": [
        "df[\"理系\"] = df[\"数学\"] + df[\"理科\"]\n",
        "df[\"文系\"] =df[\"国語\"] + df[\"社会\"] + df[\"英語\"]"
      ],
      "execution_count": null,
      "outputs": []
    },
    {
      "cell_type": "code",
      "metadata": {
        "id": "4jBuJINVE4LC",
        "outputId": "26545f96-7f85-4140-cf5a-2be59e54b6a4"
      },
      "source": [
        "df"
      ],
      "execution_count": null,
      "outputs": [
        {
          "output_type": "execute_result",
          "data": {
            "text/html": [
              "<div>\n",
              "<style scoped>\n",
              "    .dataframe tbody tr th:only-of-type {\n",
              "        vertical-align: middle;\n",
              "    }\n",
              "\n",
              "    .dataframe tbody tr th {\n",
              "        vertical-align: top;\n",
              "    }\n",
              "\n",
              "    .dataframe thead th {\n",
              "        text-align: right;\n",
              "    }\n",
              "</style>\n",
              "<table border=\"1\" class=\"dataframe\">\n",
              "  <thead>\n",
              "    <tr style=\"text-align: right;\">\n",
              "      <th></th>\n",
              "      <th>国語</th>\n",
              "      <th>社会</th>\n",
              "      <th>数学</th>\n",
              "      <th>理科</th>\n",
              "      <th>音楽</th>\n",
              "      <th>美術</th>\n",
              "      <th>体育</th>\n",
              "      <th>技術家庭科</th>\n",
              "      <th>英語</th>\n",
              "      <th>理系</th>\n",
              "      <th>文系</th>\n",
              "    </tr>\n",
              "  </thead>\n",
              "  <tbody>\n",
              "    <tr>\n",
              "      <th>0</th>\n",
              "      <td>30</td>\n",
              "      <td>43</td>\n",
              "      <td>51</td>\n",
              "      <td>63</td>\n",
              "      <td>60</td>\n",
              "      <td>66</td>\n",
              "      <td>37</td>\n",
              "      <td>44</td>\n",
              "      <td>20</td>\n",
              "      <td>114</td>\n",
              "      <td>93</td>\n",
              "    </tr>\n",
              "    <tr>\n",
              "      <th>1</th>\n",
              "      <td>39</td>\n",
              "      <td>21</td>\n",
              "      <td>49</td>\n",
              "      <td>56</td>\n",
              "      <td>70</td>\n",
              "      <td>72</td>\n",
              "      <td>56</td>\n",
              "      <td>63</td>\n",
              "      <td>16</td>\n",
              "      <td>105</td>\n",
              "      <td>76</td>\n",
              "    </tr>\n",
              "    <tr>\n",
              "      <th>2</th>\n",
              "      <td>29</td>\n",
              "      <td>30</td>\n",
              "      <td>23</td>\n",
              "      <td>57</td>\n",
              "      <td>69</td>\n",
              "      <td>76</td>\n",
              "      <td>33</td>\n",
              "      <td>54</td>\n",
              "      <td>6</td>\n",
              "      <td>80</td>\n",
              "      <td>65</td>\n",
              "    </tr>\n",
              "    <tr>\n",
              "      <th>3</th>\n",
              "      <td>95</td>\n",
              "      <td>87</td>\n",
              "      <td>77</td>\n",
              "      <td>100</td>\n",
              "      <td>77</td>\n",
              "      <td>82</td>\n",
              "      <td>78</td>\n",
              "      <td>96</td>\n",
              "      <td>87</td>\n",
              "      <td>177</td>\n",
              "      <td>269</td>\n",
              "    </tr>\n",
              "    <tr>\n",
              "      <th>4</th>\n",
              "      <td>70</td>\n",
              "      <td>71</td>\n",
              "      <td>78</td>\n",
              "      <td>67</td>\n",
              "      <td>72</td>\n",
              "      <td>82</td>\n",
              "      <td>46</td>\n",
              "      <td>63</td>\n",
              "      <td>44</td>\n",
              "      <td>145</td>\n",
              "      <td>185</td>\n",
              "    </tr>\n",
              "    <tr>\n",
              "      <th>...</th>\n",
              "      <td>...</td>\n",
              "      <td>...</td>\n",
              "      <td>...</td>\n",
              "      <td>...</td>\n",
              "      <td>...</td>\n",
              "      <td>...</td>\n",
              "      <td>...</td>\n",
              "      <td>...</td>\n",
              "      <td>...</td>\n",
              "      <td>...</td>\n",
              "      <td>...</td>\n",
              "    </tr>\n",
              "    <tr>\n",
              "      <th>161</th>\n",
              "      <td>82</td>\n",
              "      <td>78</td>\n",
              "      <td>80</td>\n",
              "      <td>88</td>\n",
              "      <td>80</td>\n",
              "      <td>69</td>\n",
              "      <td>83</td>\n",
              "      <td>78</td>\n",
              "      <td>90</td>\n",
              "      <td>168</td>\n",
              "      <td>250</td>\n",
              "    </tr>\n",
              "    <tr>\n",
              "      <th>162</th>\n",
              "      <td>0</td>\n",
              "      <td>8</td>\n",
              "      <td>2</td>\n",
              "      <td>9</td>\n",
              "      <td>5</td>\n",
              "      <td>18</td>\n",
              "      <td>42</td>\n",
              "      <td>2</td>\n",
              "      <td>1</td>\n",
              "      <td>11</td>\n",
              "      <td>9</td>\n",
              "    </tr>\n",
              "    <tr>\n",
              "      <th>163</th>\n",
              "      <td>45</td>\n",
              "      <td>26</td>\n",
              "      <td>29</td>\n",
              "      <td>24</td>\n",
              "      <td>31</td>\n",
              "      <td>57</td>\n",
              "      <td>68</td>\n",
              "      <td>40</td>\n",
              "      <td>27</td>\n",
              "      <td>53</td>\n",
              "      <td>98</td>\n",
              "    </tr>\n",
              "    <tr>\n",
              "      <th>164</th>\n",
              "      <td>73</td>\n",
              "      <td>31</td>\n",
              "      <td>43</td>\n",
              "      <td>32</td>\n",
              "      <td>59</td>\n",
              "      <td>64</td>\n",
              "      <td>82</td>\n",
              "      <td>48</td>\n",
              "      <td>56</td>\n",
              "      <td>75</td>\n",
              "      <td>160</td>\n",
              "    </tr>\n",
              "    <tr>\n",
              "      <th>165</th>\n",
              "      <td>60</td>\n",
              "      <td>85</td>\n",
              "      <td>89</td>\n",
              "      <td>80</td>\n",
              "      <td>56</td>\n",
              "      <td>79</td>\n",
              "      <td>81</td>\n",
              "      <td>45</td>\n",
              "      <td>85</td>\n",
              "      <td>169</td>\n",
              "      <td>230</td>\n",
              "    </tr>\n",
              "  </tbody>\n",
              "</table>\n",
              "<p>166 rows × 11 columns</p>\n",
              "</div>"
            ],
            "text/plain": [
              "     国語  社会  数学   理科  音楽  美術  体育  技術家庭科  英語   理系   文系\n",
              "0    30  43  51   63  60  66  37     44  20  114   93\n",
              "1    39  21  49   56  70  72  56     63  16  105   76\n",
              "2    29  30  23   57  69  76  33     54   6   80   65\n",
              "3    95  87  77  100  77  82  78     96  87  177  269\n",
              "4    70  71  78   67  72  82  46     63  44  145  185\n",
              "..   ..  ..  ..  ...  ..  ..  ..    ...  ..  ...  ...\n",
              "161  82  78  80   88  80  69  83     78  90  168  250\n",
              "162   0   8   2    9   5  18  42      2   1   11    9\n",
              "163  45  26  29   24  31  57  68     40  27   53   98\n",
              "164  73  31  43   32  59  64  82     48  56   75  160\n",
              "165  60  85  89   80  56  79  81     45  85  169  230\n",
              "\n",
              "[166 rows x 11 columns]"
            ]
          },
          "metadata": {
            "tags": []
          },
          "execution_count": 136
        }
      ]
    },
    {
      "cell_type": "markdown",
      "metadata": {
        "id": "ZTMkZuZ0E4LC"
      },
      "source": [
        "上手にできました！！"
      ]
    },
    {
      "cell_type": "markdown",
      "metadata": {
        "id": "TOG5pLEEE4LD"
      },
      "source": [
        "**実践：dfに新たな列、\"副科目\"を追加しましょう！**"
      ]
    },
    {
      "cell_type": "markdown",
      "metadata": {
        "id": "10QqwnkdE4LD"
      },
      "source": [
        "**実践：それでは理系と文系の二列を取り出してみましょう！**"
      ]
    },
    {
      "cell_type": "markdown",
      "metadata": {
        "id": "q5hcDPjtE4LD"
      },
      "source": [
        "*Q4* *データの抽出をしてみましょう*   \n",
        "復習です！忘れていませんか！？"
      ]
    },
    {
      "cell_type": "markdown",
      "metadata": {
        "id": "Ewfh9M-sE4LE"
      },
      "source": [
        "次に文系、理系の平均値を求めます。これは第一部の一人当たりのビールの消費量を求めた時と同様です。"
      ]
    },
    {
      "cell_type": "code",
      "metadata": {
        "id": "Yp4cKtjLE4LE",
        "outputId": "9644228e-e2b0-4987-8278-bf106d732fea"
      },
      "source": [
        "df_two= df[[\"理系\",\"文系\"]]\n",
        "df_two"
      ],
      "execution_count": null,
      "outputs": [
        {
          "output_type": "execute_result",
          "data": {
            "text/html": [
              "<div>\n",
              "<style scoped>\n",
              "    .dataframe tbody tr th:only-of-type {\n",
              "        vertical-align: middle;\n",
              "    }\n",
              "\n",
              "    .dataframe tbody tr th {\n",
              "        vertical-align: top;\n",
              "    }\n",
              "\n",
              "    .dataframe thead th {\n",
              "        text-align: right;\n",
              "    }\n",
              "</style>\n",
              "<table border=\"1\" class=\"dataframe\">\n",
              "  <thead>\n",
              "    <tr style=\"text-align: right;\">\n",
              "      <th></th>\n",
              "      <th>理系</th>\n",
              "      <th>文系</th>\n",
              "    </tr>\n",
              "  </thead>\n",
              "  <tbody>\n",
              "    <tr>\n",
              "      <th>0</th>\n",
              "      <td>114</td>\n",
              "      <td>93</td>\n",
              "    </tr>\n",
              "    <tr>\n",
              "      <th>1</th>\n",
              "      <td>105</td>\n",
              "      <td>76</td>\n",
              "    </tr>\n",
              "    <tr>\n",
              "      <th>2</th>\n",
              "      <td>80</td>\n",
              "      <td>65</td>\n",
              "    </tr>\n",
              "    <tr>\n",
              "      <th>3</th>\n",
              "      <td>177</td>\n",
              "      <td>269</td>\n",
              "    </tr>\n",
              "    <tr>\n",
              "      <th>4</th>\n",
              "      <td>145</td>\n",
              "      <td>185</td>\n",
              "    </tr>\n",
              "    <tr>\n",
              "      <th>...</th>\n",
              "      <td>...</td>\n",
              "      <td>...</td>\n",
              "    </tr>\n",
              "    <tr>\n",
              "      <th>161</th>\n",
              "      <td>168</td>\n",
              "      <td>250</td>\n",
              "    </tr>\n",
              "    <tr>\n",
              "      <th>162</th>\n",
              "      <td>11</td>\n",
              "      <td>9</td>\n",
              "    </tr>\n",
              "    <tr>\n",
              "      <th>163</th>\n",
              "      <td>53</td>\n",
              "      <td>98</td>\n",
              "    </tr>\n",
              "    <tr>\n",
              "      <th>164</th>\n",
              "      <td>75</td>\n",
              "      <td>160</td>\n",
              "    </tr>\n",
              "    <tr>\n",
              "      <th>165</th>\n",
              "      <td>169</td>\n",
              "      <td>230</td>\n",
              "    </tr>\n",
              "  </tbody>\n",
              "</table>\n",
              "<p>166 rows × 2 columns</p>\n",
              "</div>"
            ],
            "text/plain": [
              "      理系   文系\n",
              "0    114   93\n",
              "1    105   76\n",
              "2     80   65\n",
              "3    177  269\n",
              "4    145  185\n",
              "..   ...  ...\n",
              "161  168  250\n",
              "162   11    9\n",
              "163   53   98\n",
              "164   75  160\n",
              "165  169  230\n",
              "\n",
              "[166 rows x 2 columns]"
            ]
          },
          "metadata": {
            "tags": []
          },
          "execution_count": 138
        }
      ]
    },
    {
      "cell_type": "code",
      "metadata": {
        "id": "sN3Ttfx-E4LE"
      },
      "source": [
        "df[\"two\"] = 2\n",
        "df[\"three\"] = 3"
      ],
      "execution_count": null,
      "outputs": []
    },
    {
      "cell_type": "code",
      "metadata": {
        "id": "ViRrba5hE4LF",
        "outputId": "c7722373-da79-4446-dcd9-748e445c4042"
      },
      "source": [
        "df"
      ],
      "execution_count": null,
      "outputs": [
        {
          "output_type": "execute_result",
          "data": {
            "text/html": [
              "<div>\n",
              "<style scoped>\n",
              "    .dataframe tbody tr th:only-of-type {\n",
              "        vertical-align: middle;\n",
              "    }\n",
              "\n",
              "    .dataframe tbody tr th {\n",
              "        vertical-align: top;\n",
              "    }\n",
              "\n",
              "    .dataframe thead th {\n",
              "        text-align: right;\n",
              "    }\n",
              "</style>\n",
              "<table border=\"1\" class=\"dataframe\">\n",
              "  <thead>\n",
              "    <tr style=\"text-align: right;\">\n",
              "      <th></th>\n",
              "      <th>国語</th>\n",
              "      <th>社会</th>\n",
              "      <th>数学</th>\n",
              "      <th>理科</th>\n",
              "      <th>音楽</th>\n",
              "      <th>美術</th>\n",
              "      <th>体育</th>\n",
              "      <th>技術家庭科</th>\n",
              "      <th>英語</th>\n",
              "      <th>理系</th>\n",
              "      <th>文系</th>\n",
              "      <th>副科目</th>\n",
              "      <th>two</th>\n",
              "      <th>three</th>\n",
              "    </tr>\n",
              "  </thead>\n",
              "  <tbody>\n",
              "    <tr>\n",
              "      <th>0</th>\n",
              "      <td>30</td>\n",
              "      <td>43</td>\n",
              "      <td>51</td>\n",
              "      <td>63</td>\n",
              "      <td>60</td>\n",
              "      <td>66</td>\n",
              "      <td>37</td>\n",
              "      <td>44</td>\n",
              "      <td>20</td>\n",
              "      <td>114</td>\n",
              "      <td>93</td>\n",
              "      <td>207</td>\n",
              "      <td>2</td>\n",
              "      <td>3</td>\n",
              "    </tr>\n",
              "    <tr>\n",
              "      <th>1</th>\n",
              "      <td>39</td>\n",
              "      <td>21</td>\n",
              "      <td>49</td>\n",
              "      <td>56</td>\n",
              "      <td>70</td>\n",
              "      <td>72</td>\n",
              "      <td>56</td>\n",
              "      <td>63</td>\n",
              "      <td>16</td>\n",
              "      <td>105</td>\n",
              "      <td>76</td>\n",
              "      <td>261</td>\n",
              "      <td>2</td>\n",
              "      <td>3</td>\n",
              "    </tr>\n",
              "    <tr>\n",
              "      <th>2</th>\n",
              "      <td>29</td>\n",
              "      <td>30</td>\n",
              "      <td>23</td>\n",
              "      <td>57</td>\n",
              "      <td>69</td>\n",
              "      <td>76</td>\n",
              "      <td>33</td>\n",
              "      <td>54</td>\n",
              "      <td>6</td>\n",
              "      <td>80</td>\n",
              "      <td>65</td>\n",
              "      <td>232</td>\n",
              "      <td>2</td>\n",
              "      <td>3</td>\n",
              "    </tr>\n",
              "    <tr>\n",
              "      <th>3</th>\n",
              "      <td>95</td>\n",
              "      <td>87</td>\n",
              "      <td>77</td>\n",
              "      <td>100</td>\n",
              "      <td>77</td>\n",
              "      <td>82</td>\n",
              "      <td>78</td>\n",
              "      <td>96</td>\n",
              "      <td>87</td>\n",
              "      <td>177</td>\n",
              "      <td>269</td>\n",
              "      <td>333</td>\n",
              "      <td>2</td>\n",
              "      <td>3</td>\n",
              "    </tr>\n",
              "    <tr>\n",
              "      <th>4</th>\n",
              "      <td>70</td>\n",
              "      <td>71</td>\n",
              "      <td>78</td>\n",
              "      <td>67</td>\n",
              "      <td>72</td>\n",
              "      <td>82</td>\n",
              "      <td>46</td>\n",
              "      <td>63</td>\n",
              "      <td>44</td>\n",
              "      <td>145</td>\n",
              "      <td>185</td>\n",
              "      <td>263</td>\n",
              "      <td>2</td>\n",
              "      <td>3</td>\n",
              "    </tr>\n",
              "    <tr>\n",
              "      <th>...</th>\n",
              "      <td>...</td>\n",
              "      <td>...</td>\n",
              "      <td>...</td>\n",
              "      <td>...</td>\n",
              "      <td>...</td>\n",
              "      <td>...</td>\n",
              "      <td>...</td>\n",
              "      <td>...</td>\n",
              "      <td>...</td>\n",
              "      <td>...</td>\n",
              "      <td>...</td>\n",
              "      <td>...</td>\n",
              "      <td>...</td>\n",
              "      <td>...</td>\n",
              "    </tr>\n",
              "    <tr>\n",
              "      <th>161</th>\n",
              "      <td>82</td>\n",
              "      <td>78</td>\n",
              "      <td>80</td>\n",
              "      <td>88</td>\n",
              "      <td>80</td>\n",
              "      <td>69</td>\n",
              "      <td>83</td>\n",
              "      <td>78</td>\n",
              "      <td>90</td>\n",
              "      <td>168</td>\n",
              "      <td>250</td>\n",
              "      <td>310</td>\n",
              "      <td>2</td>\n",
              "      <td>3</td>\n",
              "    </tr>\n",
              "    <tr>\n",
              "      <th>162</th>\n",
              "      <td>0</td>\n",
              "      <td>8</td>\n",
              "      <td>2</td>\n",
              "      <td>9</td>\n",
              "      <td>5</td>\n",
              "      <td>18</td>\n",
              "      <td>42</td>\n",
              "      <td>2</td>\n",
              "      <td>1</td>\n",
              "      <td>11</td>\n",
              "      <td>9</td>\n",
              "      <td>67</td>\n",
              "      <td>2</td>\n",
              "      <td>3</td>\n",
              "    </tr>\n",
              "    <tr>\n",
              "      <th>163</th>\n",
              "      <td>45</td>\n",
              "      <td>26</td>\n",
              "      <td>29</td>\n",
              "      <td>24</td>\n",
              "      <td>31</td>\n",
              "      <td>57</td>\n",
              "      <td>68</td>\n",
              "      <td>40</td>\n",
              "      <td>27</td>\n",
              "      <td>53</td>\n",
              "      <td>98</td>\n",
              "      <td>196</td>\n",
              "      <td>2</td>\n",
              "      <td>3</td>\n",
              "    </tr>\n",
              "    <tr>\n",
              "      <th>164</th>\n",
              "      <td>73</td>\n",
              "      <td>31</td>\n",
              "      <td>43</td>\n",
              "      <td>32</td>\n",
              "      <td>59</td>\n",
              "      <td>64</td>\n",
              "      <td>82</td>\n",
              "      <td>48</td>\n",
              "      <td>56</td>\n",
              "      <td>75</td>\n",
              "      <td>160</td>\n",
              "      <td>253</td>\n",
              "      <td>2</td>\n",
              "      <td>3</td>\n",
              "    </tr>\n",
              "    <tr>\n",
              "      <th>165</th>\n",
              "      <td>60</td>\n",
              "      <td>85</td>\n",
              "      <td>89</td>\n",
              "      <td>80</td>\n",
              "      <td>56</td>\n",
              "      <td>79</td>\n",
              "      <td>81</td>\n",
              "      <td>45</td>\n",
              "      <td>85</td>\n",
              "      <td>169</td>\n",
              "      <td>230</td>\n",
              "      <td>261</td>\n",
              "      <td>2</td>\n",
              "      <td>3</td>\n",
              "    </tr>\n",
              "  </tbody>\n",
              "</table>\n",
              "<p>166 rows × 14 columns</p>\n",
              "</div>"
            ],
            "text/plain": [
              "     国語  社会  数学   理科  音楽  美術  体育  技術家庭科  英語   理系   文系  副科目  two  three\n",
              "0    30  43  51   63  60  66  37     44  20  114   93  207    2      3\n",
              "1    39  21  49   56  70  72  56     63  16  105   76  261    2      3\n",
              "2    29  30  23   57  69  76  33     54   6   80   65  232    2      3\n",
              "3    95  87  77  100  77  82  78     96  87  177  269  333    2      3\n",
              "4    70  71  78   67  72  82  46     63  44  145  185  263    2      3\n",
              "..   ..  ..  ..  ...  ..  ..  ..    ...  ..  ...  ...  ...  ...    ...\n",
              "161  82  78  80   88  80  69  83     78  90  168  250  310    2      3\n",
              "162   0   8   2    9   5  18  42      2   1   11    9   67    2      3\n",
              "163  45  26  29   24  31  57  68     40  27   53   98  196    2      3\n",
              "164  73  31  43   32  59  64  82     48  56   75  160  253    2      3\n",
              "165  60  85  89   80  56  79  81     45  85  169  230  261    2      3\n",
              "\n",
              "[166 rows x 14 columns]"
            ]
          },
          "metadata": {
            "tags": []
          },
          "execution_count": 140
        }
      ]
    },
    {
      "cell_type": "code",
      "metadata": {
        "id": "Uj9wvDA4E4LF",
        "outputId": "9ee7679e-b849-405f-8000-bfe5c751f4be"
      },
      "source": [
        "df[\"理系平均\"] = df[\"理系\"] / df[\"two\"]\n",
        "df[\"文系平均\"] = df[\"文系\"] / df[\"three\"]\n",
        "df"
      ],
      "execution_count": null,
      "outputs": [
        {
          "output_type": "execute_result",
          "data": {
            "text/html": [
              "<div>\n",
              "<style scoped>\n",
              "    .dataframe tbody tr th:only-of-type {\n",
              "        vertical-align: middle;\n",
              "    }\n",
              "\n",
              "    .dataframe tbody tr th {\n",
              "        vertical-align: top;\n",
              "    }\n",
              "\n",
              "    .dataframe thead th {\n",
              "        text-align: right;\n",
              "    }\n",
              "</style>\n",
              "<table border=\"1\" class=\"dataframe\">\n",
              "  <thead>\n",
              "    <tr style=\"text-align: right;\">\n",
              "      <th></th>\n",
              "      <th>国語</th>\n",
              "      <th>社会</th>\n",
              "      <th>数学</th>\n",
              "      <th>理科</th>\n",
              "      <th>音楽</th>\n",
              "      <th>美術</th>\n",
              "      <th>体育</th>\n",
              "      <th>技術家庭科</th>\n",
              "      <th>英語</th>\n",
              "      <th>理系</th>\n",
              "      <th>文系</th>\n",
              "      <th>副科目</th>\n",
              "      <th>two</th>\n",
              "      <th>three</th>\n",
              "      <th>理系平均</th>\n",
              "      <th>文系平均</th>\n",
              "    </tr>\n",
              "  </thead>\n",
              "  <tbody>\n",
              "    <tr>\n",
              "      <th>0</th>\n",
              "      <td>30</td>\n",
              "      <td>43</td>\n",
              "      <td>51</td>\n",
              "      <td>63</td>\n",
              "      <td>60</td>\n",
              "      <td>66</td>\n",
              "      <td>37</td>\n",
              "      <td>44</td>\n",
              "      <td>20</td>\n",
              "      <td>114</td>\n",
              "      <td>93</td>\n",
              "      <td>207</td>\n",
              "      <td>2</td>\n",
              "      <td>3</td>\n",
              "      <td>57.0</td>\n",
              "      <td>31.000000</td>\n",
              "    </tr>\n",
              "    <tr>\n",
              "      <th>1</th>\n",
              "      <td>39</td>\n",
              "      <td>21</td>\n",
              "      <td>49</td>\n",
              "      <td>56</td>\n",
              "      <td>70</td>\n",
              "      <td>72</td>\n",
              "      <td>56</td>\n",
              "      <td>63</td>\n",
              "      <td>16</td>\n",
              "      <td>105</td>\n",
              "      <td>76</td>\n",
              "      <td>261</td>\n",
              "      <td>2</td>\n",
              "      <td>3</td>\n",
              "      <td>52.5</td>\n",
              "      <td>25.333333</td>\n",
              "    </tr>\n",
              "    <tr>\n",
              "      <th>2</th>\n",
              "      <td>29</td>\n",
              "      <td>30</td>\n",
              "      <td>23</td>\n",
              "      <td>57</td>\n",
              "      <td>69</td>\n",
              "      <td>76</td>\n",
              "      <td>33</td>\n",
              "      <td>54</td>\n",
              "      <td>6</td>\n",
              "      <td>80</td>\n",
              "      <td>65</td>\n",
              "      <td>232</td>\n",
              "      <td>2</td>\n",
              "      <td>3</td>\n",
              "      <td>40.0</td>\n",
              "      <td>21.666667</td>\n",
              "    </tr>\n",
              "    <tr>\n",
              "      <th>3</th>\n",
              "      <td>95</td>\n",
              "      <td>87</td>\n",
              "      <td>77</td>\n",
              "      <td>100</td>\n",
              "      <td>77</td>\n",
              "      <td>82</td>\n",
              "      <td>78</td>\n",
              "      <td>96</td>\n",
              "      <td>87</td>\n",
              "      <td>177</td>\n",
              "      <td>269</td>\n",
              "      <td>333</td>\n",
              "      <td>2</td>\n",
              "      <td>3</td>\n",
              "      <td>88.5</td>\n",
              "      <td>89.666667</td>\n",
              "    </tr>\n",
              "    <tr>\n",
              "      <th>4</th>\n",
              "      <td>70</td>\n",
              "      <td>71</td>\n",
              "      <td>78</td>\n",
              "      <td>67</td>\n",
              "      <td>72</td>\n",
              "      <td>82</td>\n",
              "      <td>46</td>\n",
              "      <td>63</td>\n",
              "      <td>44</td>\n",
              "      <td>145</td>\n",
              "      <td>185</td>\n",
              "      <td>263</td>\n",
              "      <td>2</td>\n",
              "      <td>3</td>\n",
              "      <td>72.5</td>\n",
              "      <td>61.666667</td>\n",
              "    </tr>\n",
              "    <tr>\n",
              "      <th>...</th>\n",
              "      <td>...</td>\n",
              "      <td>...</td>\n",
              "      <td>...</td>\n",
              "      <td>...</td>\n",
              "      <td>...</td>\n",
              "      <td>...</td>\n",
              "      <td>...</td>\n",
              "      <td>...</td>\n",
              "      <td>...</td>\n",
              "      <td>...</td>\n",
              "      <td>...</td>\n",
              "      <td>...</td>\n",
              "      <td>...</td>\n",
              "      <td>...</td>\n",
              "      <td>...</td>\n",
              "      <td>...</td>\n",
              "    </tr>\n",
              "    <tr>\n",
              "      <th>161</th>\n",
              "      <td>82</td>\n",
              "      <td>78</td>\n",
              "      <td>80</td>\n",
              "      <td>88</td>\n",
              "      <td>80</td>\n",
              "      <td>69</td>\n",
              "      <td>83</td>\n",
              "      <td>78</td>\n",
              "      <td>90</td>\n",
              "      <td>168</td>\n",
              "      <td>250</td>\n",
              "      <td>310</td>\n",
              "      <td>2</td>\n",
              "      <td>3</td>\n",
              "      <td>84.0</td>\n",
              "      <td>83.333333</td>\n",
              "    </tr>\n",
              "    <tr>\n",
              "      <th>162</th>\n",
              "      <td>0</td>\n",
              "      <td>8</td>\n",
              "      <td>2</td>\n",
              "      <td>9</td>\n",
              "      <td>5</td>\n",
              "      <td>18</td>\n",
              "      <td>42</td>\n",
              "      <td>2</td>\n",
              "      <td>1</td>\n",
              "      <td>11</td>\n",
              "      <td>9</td>\n",
              "      <td>67</td>\n",
              "      <td>2</td>\n",
              "      <td>3</td>\n",
              "      <td>5.5</td>\n",
              "      <td>3.000000</td>\n",
              "    </tr>\n",
              "    <tr>\n",
              "      <th>163</th>\n",
              "      <td>45</td>\n",
              "      <td>26</td>\n",
              "      <td>29</td>\n",
              "      <td>24</td>\n",
              "      <td>31</td>\n",
              "      <td>57</td>\n",
              "      <td>68</td>\n",
              "      <td>40</td>\n",
              "      <td>27</td>\n",
              "      <td>53</td>\n",
              "      <td>98</td>\n",
              "      <td>196</td>\n",
              "      <td>2</td>\n",
              "      <td>3</td>\n",
              "      <td>26.5</td>\n",
              "      <td>32.666667</td>\n",
              "    </tr>\n",
              "    <tr>\n",
              "      <th>164</th>\n",
              "      <td>73</td>\n",
              "      <td>31</td>\n",
              "      <td>43</td>\n",
              "      <td>32</td>\n",
              "      <td>59</td>\n",
              "      <td>64</td>\n",
              "      <td>82</td>\n",
              "      <td>48</td>\n",
              "      <td>56</td>\n",
              "      <td>75</td>\n",
              "      <td>160</td>\n",
              "      <td>253</td>\n",
              "      <td>2</td>\n",
              "      <td>3</td>\n",
              "      <td>37.5</td>\n",
              "      <td>53.333333</td>\n",
              "    </tr>\n",
              "    <tr>\n",
              "      <th>165</th>\n",
              "      <td>60</td>\n",
              "      <td>85</td>\n",
              "      <td>89</td>\n",
              "      <td>80</td>\n",
              "      <td>56</td>\n",
              "      <td>79</td>\n",
              "      <td>81</td>\n",
              "      <td>45</td>\n",
              "      <td>85</td>\n",
              "      <td>169</td>\n",
              "      <td>230</td>\n",
              "      <td>261</td>\n",
              "      <td>2</td>\n",
              "      <td>3</td>\n",
              "      <td>84.5</td>\n",
              "      <td>76.666667</td>\n",
              "    </tr>\n",
              "  </tbody>\n",
              "</table>\n",
              "<p>166 rows × 16 columns</p>\n",
              "</div>"
            ],
            "text/plain": [
              "     国語  社会  数学   理科  音楽  美術  体育  技術家庭科  英語   理系   文系  副科目  two  three  理系平均  \\\n",
              "0    30  43  51   63  60  66  37     44  20  114   93  207    2      3  57.0   \n",
              "1    39  21  49   56  70  72  56     63  16  105   76  261    2      3  52.5   \n",
              "2    29  30  23   57  69  76  33     54   6   80   65  232    2      3  40.0   \n",
              "3    95  87  77  100  77  82  78     96  87  177  269  333    2      3  88.5   \n",
              "4    70  71  78   67  72  82  46     63  44  145  185  263    2      3  72.5   \n",
              "..   ..  ..  ..  ...  ..  ..  ..    ...  ..  ...  ...  ...  ...    ...   ...   \n",
              "161  82  78  80   88  80  69  83     78  90  168  250  310    2      3  84.0   \n",
              "162   0   8   2    9   5  18  42      2   1   11    9   67    2      3   5.5   \n",
              "163  45  26  29   24  31  57  68     40  27   53   98  196    2      3  26.5   \n",
              "164  73  31  43   32  59  64  82     48  56   75  160  253    2      3  37.5   \n",
              "165  60  85  89   80  56  79  81     45  85  169  230  261    2      3  84.5   \n",
              "\n",
              "          文系平均  \n",
              "0    31.000000  \n",
              "1    25.333333  \n",
              "2    21.666667  \n",
              "3    89.666667  \n",
              "4    61.666667  \n",
              "..         ...  \n",
              "161  83.333333  \n",
              "162   3.000000  \n",
              "163  32.666667  \n",
              "164  53.333333  \n",
              "165  76.666667  \n",
              "\n",
              "[166 rows x 16 columns]"
            ]
          },
          "metadata": {
            "tags": []
          },
          "execution_count": 141
        }
      ]
    },
    {
      "cell_type": "code",
      "metadata": {
        "id": "C09Xzc98E4LF"
      },
      "source": [
        "df[\"four\"] = 4\n",
        "df[\"副科目平均\"] = df[\"副科目\"] / df[\"four\"]"
      ],
      "execution_count": null,
      "outputs": []
    },
    {
      "cell_type": "code",
      "metadata": {
        "id": "cfZwzJzbE4LG",
        "outputId": "de1140ac-1e1b-409e-f9b4-73b55998c701"
      },
      "source": [
        "df[[\"副科目平均\"]]"
      ],
      "execution_count": null,
      "outputs": [
        {
          "output_type": "execute_result",
          "data": {
            "text/html": [
              "<div>\n",
              "<style scoped>\n",
              "    .dataframe tbody tr th:only-of-type {\n",
              "        vertical-align: middle;\n",
              "    }\n",
              "\n",
              "    .dataframe tbody tr th {\n",
              "        vertical-align: top;\n",
              "    }\n",
              "\n",
              "    .dataframe thead th {\n",
              "        text-align: right;\n",
              "    }\n",
              "</style>\n",
              "<table border=\"1\" class=\"dataframe\">\n",
              "  <thead>\n",
              "    <tr style=\"text-align: right;\">\n",
              "      <th></th>\n",
              "      <th>副科目平均</th>\n",
              "    </tr>\n",
              "  </thead>\n",
              "  <tbody>\n",
              "    <tr>\n",
              "      <th>0</th>\n",
              "      <td>51.75</td>\n",
              "    </tr>\n",
              "    <tr>\n",
              "      <th>1</th>\n",
              "      <td>65.25</td>\n",
              "    </tr>\n",
              "    <tr>\n",
              "      <th>2</th>\n",
              "      <td>58.00</td>\n",
              "    </tr>\n",
              "    <tr>\n",
              "      <th>3</th>\n",
              "      <td>83.25</td>\n",
              "    </tr>\n",
              "    <tr>\n",
              "      <th>4</th>\n",
              "      <td>65.75</td>\n",
              "    </tr>\n",
              "    <tr>\n",
              "      <th>...</th>\n",
              "      <td>...</td>\n",
              "    </tr>\n",
              "    <tr>\n",
              "      <th>161</th>\n",
              "      <td>77.50</td>\n",
              "    </tr>\n",
              "    <tr>\n",
              "      <th>162</th>\n",
              "      <td>16.75</td>\n",
              "    </tr>\n",
              "    <tr>\n",
              "      <th>163</th>\n",
              "      <td>49.00</td>\n",
              "    </tr>\n",
              "    <tr>\n",
              "      <th>164</th>\n",
              "      <td>63.25</td>\n",
              "    </tr>\n",
              "    <tr>\n",
              "      <th>165</th>\n",
              "      <td>65.25</td>\n",
              "    </tr>\n",
              "  </tbody>\n",
              "</table>\n",
              "<p>166 rows × 1 columns</p>\n",
              "</div>"
            ],
            "text/plain": [
              "     副科目平均\n",
              "0    51.75\n",
              "1    65.25\n",
              "2    58.00\n",
              "3    83.25\n",
              "4    65.75\n",
              "..     ...\n",
              "161  77.50\n",
              "162  16.75\n",
              "163  49.00\n",
              "164  63.25\n",
              "165  65.25\n",
              "\n",
              "[166 rows x 1 columns]"
            ]
          },
          "metadata": {
            "tags": []
          },
          "execution_count": 143
        }
      ]
    },
    {
      "cell_type": "code",
      "metadata": {
        "id": "scYDjtFyE4LG",
        "outputId": "7152a16f-9361-466d-aedd-8e8b2570cd50"
      },
      "source": [
        "df_two_ave = df[[\"理系平均\",\"文系平均\"]]\n",
        "df_two_ave"
      ],
      "execution_count": null,
      "outputs": [
        {
          "output_type": "execute_result",
          "data": {
            "text/html": [
              "<div>\n",
              "<style scoped>\n",
              "    .dataframe tbody tr th:only-of-type {\n",
              "        vertical-align: middle;\n",
              "    }\n",
              "\n",
              "    .dataframe tbody tr th {\n",
              "        vertical-align: top;\n",
              "    }\n",
              "\n",
              "    .dataframe thead th {\n",
              "        text-align: right;\n",
              "    }\n",
              "</style>\n",
              "<table border=\"1\" class=\"dataframe\">\n",
              "  <thead>\n",
              "    <tr style=\"text-align: right;\">\n",
              "      <th></th>\n",
              "      <th>理系平均</th>\n",
              "      <th>文系平均</th>\n",
              "    </tr>\n",
              "  </thead>\n",
              "  <tbody>\n",
              "    <tr>\n",
              "      <th>0</th>\n",
              "      <td>57.0</td>\n",
              "      <td>31.000000</td>\n",
              "    </tr>\n",
              "    <tr>\n",
              "      <th>1</th>\n",
              "      <td>52.5</td>\n",
              "      <td>25.333333</td>\n",
              "    </tr>\n",
              "    <tr>\n",
              "      <th>2</th>\n",
              "      <td>40.0</td>\n",
              "      <td>21.666667</td>\n",
              "    </tr>\n",
              "    <tr>\n",
              "      <th>3</th>\n",
              "      <td>88.5</td>\n",
              "      <td>89.666667</td>\n",
              "    </tr>\n",
              "    <tr>\n",
              "      <th>4</th>\n",
              "      <td>72.5</td>\n",
              "      <td>61.666667</td>\n",
              "    </tr>\n",
              "    <tr>\n",
              "      <th>...</th>\n",
              "      <td>...</td>\n",
              "      <td>...</td>\n",
              "    </tr>\n",
              "    <tr>\n",
              "      <th>161</th>\n",
              "      <td>84.0</td>\n",
              "      <td>83.333333</td>\n",
              "    </tr>\n",
              "    <tr>\n",
              "      <th>162</th>\n",
              "      <td>5.5</td>\n",
              "      <td>3.000000</td>\n",
              "    </tr>\n",
              "    <tr>\n",
              "      <th>163</th>\n",
              "      <td>26.5</td>\n",
              "      <td>32.666667</td>\n",
              "    </tr>\n",
              "    <tr>\n",
              "      <th>164</th>\n",
              "      <td>37.5</td>\n",
              "      <td>53.333333</td>\n",
              "    </tr>\n",
              "    <tr>\n",
              "      <th>165</th>\n",
              "      <td>84.5</td>\n",
              "      <td>76.666667</td>\n",
              "    </tr>\n",
              "  </tbody>\n",
              "</table>\n",
              "<p>166 rows × 2 columns</p>\n",
              "</div>"
            ],
            "text/plain": [
              "     理系平均       文系平均\n",
              "0    57.0  31.000000\n",
              "1    52.5  25.333333\n",
              "2    40.0  21.666667\n",
              "3    88.5  89.666667\n",
              "4    72.5  61.666667\n",
              "..    ...        ...\n",
              "161  84.0  83.333333\n",
              "162   5.5   3.000000\n",
              "163  26.5  32.666667\n",
              "164  37.5  53.333333\n",
              "165  84.5  76.666667\n",
              "\n",
              "[166 rows x 2 columns]"
            ]
          },
          "metadata": {
            "tags": []
          },
          "execution_count": 144
        }
      ]
    },
    {
      "cell_type": "code",
      "metadata": {
        "id": "RVyWURzuE4LH",
        "outputId": "61859037-754a-4cb5-e5f1-3ed13745651d"
      },
      "source": [
        "df_two_ave.info()"
      ],
      "execution_count": null,
      "outputs": [
        {
          "output_type": "stream",
          "text": [
            "<class 'pandas.core.frame.DataFrame'>\n",
            "RangeIndex: 166 entries, 0 to 165\n",
            "Data columns (total 2 columns):\n",
            " #   Column  Non-Null Count  Dtype  \n",
            "---  ------  --------------  -----  \n",
            " 0   理系平均    166 non-null    float64\n",
            " 1   文系平均    166 non-null    float64\n",
            "dtypes: float64(2)\n",
            "memory usage: 2.7 KB\n"
          ],
          "name": "stdout"
        }
      ]
    },
    {
      "cell_type": "markdown",
      "metadata": {
        "id": "4kfQPoAmE4LH"
      },
      "source": [
        "int64　整数　float 小数"
      ]
    },
    {
      "cell_type": "code",
      "metadata": {
        "id": "dCpn0cC-E4LH",
        "outputId": "2892d15e-51e8-4501-83b8-a207fc2866f7"
      },
      "source": [
        "df_two_ave.describe()"
      ],
      "execution_count": null,
      "outputs": [
        {
          "output_type": "execute_result",
          "data": {
            "text/html": [
              "<div>\n",
              "<style scoped>\n",
              "    .dataframe tbody tr th:only-of-type {\n",
              "        vertical-align: middle;\n",
              "    }\n",
              "\n",
              "    .dataframe tbody tr th {\n",
              "        vertical-align: top;\n",
              "    }\n",
              "\n",
              "    .dataframe thead th {\n",
              "        text-align: right;\n",
              "    }\n",
              "</style>\n",
              "<table border=\"1\" class=\"dataframe\">\n",
              "  <thead>\n",
              "    <tr style=\"text-align: right;\">\n",
              "      <th></th>\n",
              "      <th>理系平均</th>\n",
              "      <th>文系平均</th>\n",
              "    </tr>\n",
              "  </thead>\n",
              "  <tbody>\n",
              "    <tr>\n",
              "      <th>count</th>\n",
              "      <td>166.000000</td>\n",
              "      <td>166.000000</td>\n",
              "    </tr>\n",
              "    <tr>\n",
              "      <th>mean</th>\n",
              "      <td>47.750000</td>\n",
              "      <td>43.672691</td>\n",
              "    </tr>\n",
              "    <tr>\n",
              "      <th>std</th>\n",
              "      <td>21.762823</td>\n",
              "      <td>22.409187</td>\n",
              "    </tr>\n",
              "    <tr>\n",
              "      <th>min</th>\n",
              "      <td>5.500000</td>\n",
              "      <td>3.000000</td>\n",
              "    </tr>\n",
              "    <tr>\n",
              "      <th>25%</th>\n",
              "      <td>29.125000</td>\n",
              "      <td>25.416667</td>\n",
              "    </tr>\n",
              "    <tr>\n",
              "      <th>50%</th>\n",
              "      <td>46.250000</td>\n",
              "      <td>42.000000</td>\n",
              "    </tr>\n",
              "    <tr>\n",
              "      <th>75%</th>\n",
              "      <td>64.500000</td>\n",
              "      <td>61.416667</td>\n",
              "    </tr>\n",
              "    <tr>\n",
              "      <th>max</th>\n",
              "      <td>95.000000</td>\n",
              "      <td>89.666667</td>\n",
              "    </tr>\n",
              "  </tbody>\n",
              "</table>\n",
              "</div>"
            ],
            "text/plain": [
              "             理系平均        文系平均\n",
              "count  166.000000  166.000000\n",
              "mean    47.750000   43.672691\n",
              "std     21.762823   22.409187\n",
              "min      5.500000    3.000000\n",
              "25%     29.125000   25.416667\n",
              "50%     46.250000   42.000000\n",
              "75%     64.500000   61.416667\n",
              "max     95.000000   89.666667"
            ]
          },
          "metadata": {
            "tags": []
          },
          "execution_count": 146
        }
      ]
    },
    {
      "cell_type": "markdown",
      "metadata": {
        "id": "B5lofZ7cE4LI"
      },
      "source": [
        "**その6** **散布図を描いてみよう！**<a id='sec4_7'></a>  \n",
        "[先頭に戻る](#top)"
      ]
    },
    {
      "cell_type": "code",
      "metadata": {
        "id": "8uHHYBXFE4LI",
        "outputId": "d572f703-88d9-4e30-f055-0f8e5d3fcaaf"
      },
      "source": [
        "#散布図を描くための下準備\n",
        "%matplotlib inline\n",
        "import matplotlib.pyplot as plt\n",
        "\n",
        "#図に使う変数の設定\n",
        "plt.plot(df_two_ave[\"理系平均\"],df_two_ave[\"文系平均\"],\"o\")\n",
        "\n",
        "#軸の名前を設定\"o\"\n",
        "plt.xlabel(\"Science\")\n",
        "plt.ylabel(\"Humanities\")\n",
        "\n",
        "#メモリを入れる\n",
        "plt.grid(True)\n",
        "pass"
      ],
      "execution_count": null,
      "outputs": [
        {
          "output_type": "display_data",
          "data": {
            "image/png": "[encoded data removed]",
            "text/plain": [
              "<Figure size 432x288 with 1 Axes>"
            ]
          },
          "metadata": {
            "tags": [],
            "needs_background": "light"
          }
        }
      ]
    },
    {
      "cell_type": "markdown",
      "metadata": {
        "id": "90D_bPwlE4LJ"
      },
      "source": [
        "**実践：体育の成績と、数学の成績の散布図を書いてみましょう！**"
      ]
    },
    {
      "cell_type": "markdown",
      "metadata": {
        "id": "KMZDXU8JE4LJ"
      },
      "source": [
        "どうやら、理系の点数と文系の点数には強い相関があるようですね！　言い換えると、理系の勉強ができる人は文系の勉強もできる傾向にあるようです(逆もまた然り)。"
      ]
    },
    {
      "cell_type": "markdown",
      "metadata": {
        "id": "oJqmDArQE4LJ"
      },
      "source": [
        "**・余談・相関係数を求めてみる**<a id='sec4_8'></a>  \n",
        "[先頭に戻る](#top)  "
      ]
    },
    {
      "cell_type": "code",
      "metadata": {
        "id": "ld41zZzXE4LK",
        "outputId": "13b07021-1ff9-4646-a14d-6ecbe3bc871e"
      },
      "source": [
        "import numpy as np\n",
        "X = df_two_ave.loc[:,[\"理系平均\"]].values\n",
        "Y = df_two_ave.loc[:,[\"文系平均\"]].values\n",
        "np.corrcoef(X,Y)\n",
        "df_two_ave.corr()"
      ],
      "execution_count": null,
      "outputs": [
        {
          "output_type": "stream",
          "text": [
            "C:\\Users\\shinj\\anaconda3\\lib\\site-packages\\numpy\\lib\\function_base.py:2551: RuntimeWarning: Degrees of freedom <= 0 for slice\n",
            "  c = cov(x, y, rowvar)\n",
            "C:\\Users\\shinj\\anaconda3\\lib\\site-packages\\numpy\\lib\\function_base.py:2480: RuntimeWarning: divide by zero encountered in true_divide\n",
            "  c *= np.true_divide(1, fact)\n",
            "C:\\Users\\shinj\\anaconda3\\lib\\site-packages\\numpy\\lib\\function_base.py:2480: RuntimeWarning: invalid value encountered in multiply\n",
            "  c *= np.true_divide(1, fact)\n"
          ],
          "name": "stderr"
        },
        {
          "output_type": "execute_result",
          "data": {
            "text/html": [
              "<div>\n",
              "<style scoped>\n",
              "    .dataframe tbody tr th:only-of-type {\n",
              "        vertical-align: middle;\n",
              "    }\n",
              "\n",
              "    .dataframe tbody tr th {\n",
              "        vertical-align: top;\n",
              "    }\n",
              "\n",
              "    .dataframe thead th {\n",
              "        text-align: right;\n",
              "    }\n",
              "</style>\n",
              "<table border=\"1\" class=\"dataframe\">\n",
              "  <thead>\n",
              "    <tr style=\"text-align: right;\">\n",
              "      <th></th>\n",
              "      <th>理系平均</th>\n",
              "      <th>文系平均</th>\n",
              "    </tr>\n",
              "  </thead>\n",
              "  <tbody>\n",
              "    <tr>\n",
              "      <th>理系平均</th>\n",
              "      <td>1.000000</td>\n",
              "      <td>0.872302</td>\n",
              "    </tr>\n",
              "    <tr>\n",
              "      <th>文系平均</th>\n",
              "      <td>0.872302</td>\n",
              "      <td>1.000000</td>\n",
              "    </tr>\n",
              "  </tbody>\n",
              "</table>\n",
              "</div>"
            ],
            "text/plain": [
              "          理系平均      文系平均\n",
              "理系平均  1.000000  0.872302\n",
              "文系平均  0.872302  1.000000"
            ]
          },
          "metadata": {
            "tags": []
          },
          "execution_count": 148
        }
      ]
    },
    {
      "cell_type": "markdown",
      "metadata": {
        "id": "qr2OIUMVE4LK"
      },
      "source": [
        "相関行列として出力されています！理系平均と文系平均の相関係数は0.872と計測されています！<P>\n",
        "強い相関関係が存在すると言えそうですね。"
      ]
    },
    {
      "cell_type": "markdown",
      "metadata": {
        "id": "hzGQDUouE4LL"
      },
      "source": [
        "**コラム１**<a id='col1'></a>  \n",
        "[先頭に戻る](#top)  \n",
        "\n",
        "**大事なこと①**  \n",
        "　Pythonを使っていると、エラーにとても遭遇すると思います。画面にエラーが出力されると、かなりがっかりします。(時間をかけて書いたコードなら尚更)　そんなときに、エラーでへこたれてはいけません。プログラミングの世界では、エラーが標準装備です。そのエラーの海を何とか潜り抜け、到達したところにやっと求めるデータを見ることができます。最初のうちはエラーによく出会います。だからこそ、エラーは標準だということを胸に刻んでおくことが肝心です。  \n",
        "**大事なこと②**  \n",
        "　エラーの対処法を先に知っておくことは非常に大切です。エラーの対処法についてここで紹介します。Pythonでは、エラーが発生すると最後の行に赤い字でエラーの種類が表示されます。ここから、エラーの理由を読み取ります。スペルミスなどは、このエラー文が指摘する行まで戻ればおおよそ解決できます。また、同時にコードについても打ち間違いがないか確認しましょう。そして、エラー文の意味がそもそも分からない場合は、エラー文をコピー＆ペーストして、ネットで検索してみましょう。Qiitaなどで、先人の知恵を享受することができます。ここまででほとんどのケースが解決されると思われます。何度見返してもうまくいかない！！という時は、知り合いに聞いてみましょう。エラーの原因は、ケアレスミスの場合がほとんどなので、じっくりと見直してみましょう！"
      ]
    },
    {
      "cell_type": "markdown",
      "metadata": {
        "id": "0EafcOtyE4LL"
      },
      "source": [
        "## **第二章　Python基礎文法**<a id='sec5'></a>  \n",
        "[先頭に戻る](#top)  "
      ]
    },
    {
      "cell_type": "markdown",
      "metadata": {
        "id": "e-EzamfEE4LL"
      },
      "source": [
        "第一章お疲れ様でした。Pythonでデータをいじってみるのは面白かったですか？？少しでも、楽しんで頂けていれば嬉しいです。pandasに関しては以上となります。  "
      ]
    },
    {
      "cell_type": "markdown",
      "metadata": {
        "id": "exKrdFl2E4LM"
      },
      "source": [
        "  ここからは、Pythonの基本的な文法について学習します！Pythonは簡単な言語であるとはいっても、知っておかなければならない文法事項が多数存在します。ここでは、そのなかでも、特に重要なものに関して説明します。この資料では基礎のかなりの範囲をカバーできるように作成しています。ですので、勉強会では必要な部分だけ学習します。しかし全てとっても重要な内容ですので、時間がある時に確認していただければと思います！"
      ]
    },
    {
      "cell_type": "markdown",
      "metadata": {
        "id": "KjiWrOl7E4LM"
      },
      "source": [
        "**その0**\n",
        "**基本的な計算をしてみよう！**<a id='sec5_0'></a>\n",
        "[先頭に戻る](#top)"
      ]
    },
    {
      "cell_type": "code",
      "metadata": {
        "id": "vzxknCqeE4LM",
        "outputId": "d05936a4-a644-4cf7-f6bb-552475cadf60"
      },
      "source": [
        "print(\"4+2=\",4+2)  #足し算\n",
        "print(\"4-2=\",4-2)  #引き算\n",
        "print(\"4*2=\",4*2)  #掛け算\n",
        "print(\"4**2=\",4**2)#べき乗\n",
        "print(\"4/2=\",4/2)  #割り算\n",
        "print(\"5//2=\",5//2)#割り算の商\n",
        "print(\"5%2=\",5%2)  #割り算の余り"
      ],
      "execution_count": null,
      "outputs": [
        {
          "output_type": "stream",
          "text": [
            "4+2= 6\n",
            "4-2= 2\n",
            "4*2= 8\n",
            "4**2= 16\n",
            "4/2= 2.0\n",
            "5//2= 2\n",
            "5%2= 1\n"
          ],
          "name": "stdout"
        }
      ]
    },
    {
      "cell_type": "markdown",
      "metadata": {
        "id": "3fdR0ZgDE4LN"
      },
      "source": [
        "四則演算に関しては以上です。後でこの記号を覚えておいてください！\n",
        "次の練習問題を解いてみましょう。"
      ]
    },
    {
      "cell_type": "markdown",
      "metadata": {
        "id": "kFVmmUKYE4LN"
      },
      "source": [
        "1. 17の８乗はいくつですか。 \n",
        "2. 18957を2198で割ったあまりはいくつですか。\n",
        "3. 34357 = 4189 × a + b とするとき、aとbはそれぞれいくつですか。"
      ]
    },
    {
      "cell_type": "code",
      "metadata": {
        "id": "pnDifMDaE4LN",
        "outputId": "be35fc94-1eb0-4d95-999b-b27ae42bfd2f"
      },
      "source": [
        "print(17**8)\n",
        "print(18957%2198)\n",
        "print(34357//4189)\n",
        "print(34357%4189)"
      ],
      "execution_count": null,
      "outputs": [
        {
          "output_type": "stream",
          "text": [
            "6975757441\n",
            "1373\n",
            "8\n",
            "845\n"
          ],
          "name": "stdout"
        }
      ]
    },
    {
      "cell_type": "markdown",
      "metadata": {
        "id": "a-EtBQLLE4LO"
      },
      "source": [
        "**その１ データを収納する方法について学ぼう！**<a id='sec5_1'></a>  \n",
        "[先頭に戻る](#top)"
      ]
    },
    {
      "cell_type": "markdown",
      "metadata": {
        "id": "MpYQ_Se6E4LO"
      },
      "source": [
        "データを収納する型は４種類あります！  \n",
        "１. リスト  \n",
        "２. ディクショナリ(辞書型)  \n",
        "３. セット(集合)  \n",
        "４. タプル  \n",
        "勉強会では、リストに関して詳しく説明します！他の型に関しては、時間のある時にこの資料を読んでみてください！"
      ]
    },
    {
      "cell_type": "markdown",
      "metadata": {
        "id": "jGASQYDLE4LO"
      },
      "source": [
        "#リスト [ ]\n",
        "list = [要素０,要素１,...]\n",
        "\n",
        "#ディクショナリ { }\n",
        "dictionary = {key1：値1, key2:値2,...}\n",
        "\n",
        "#セット { }\n",
        "set = {要素, 要素, ...}\n",
        "\n",
        "#タプル ( )\n",
        "tuple = (要素, 要素, ...)"
      ]
    },
    {
      "cell_type": "markdown",
      "metadata": {
        "id": "unnNkQfNE4LP"
      },
      "source": [
        "**その2 リスト型を使ってみよう！**<a id='sec5_2'></a>  \n",
        "[先頭に戻る](#top)"
      ]
    },
    {
      "cell_type": "markdown",
      "metadata": {
        "id": "JKWU8RN8E4LP"
      },
      "source": [
        "　リストとは、複数の要素を自由に収納することができるシーケンス(配列)のことです。リストは要素を[ ]で囲います。  \n",
        " また、[０番目, １番目, ２番目, ...] といったように、要素は０番目からスタートすることに注意です！早速リストを作ってみましょう。  \n",
        " **シーケンス(配列)**：複数の要素をまとめて扱える型のこと"
      ]
    },
    {
      "cell_type": "code",
      "metadata": {
        "id": "Yy0nqMqNE4LP",
        "outputId": "19d5f0fd-90bc-4a9e-e26d-0c33e182cc0e"
      },
      "source": [
        "ex_list = [1,2,3,4,5]\n",
        "ex_list"
      ],
      "execution_count": null,
      "outputs": [
        {
          "output_type": "execute_result",
          "data": {
            "text/plain": [
              "[1, 2, 3, 4, 5]"
            ]
          },
          "metadata": {
            "tags": []
          },
          "execution_count": 64
        }
      ]
    },
    {
      "cell_type": "markdown",
      "metadata": {
        "id": "ZszYhGGWE4LQ"
      },
      "source": [
        "1から５の値をリストに収納しています！このリストを少しいじってみましょう。"
      ]
    },
    {
      "cell_type": "code",
      "metadata": {
        "id": "AJKcMTRCE4LQ",
        "outputId": "fc8ce5c7-6f0b-479c-a5a2-0a24afbf7f4d"
      },
      "source": [
        "ex_list = [1,2,3,4,5]\n",
        "\n",
        "#0番目の要素を抽出\n",
        "ex_list[0]\n",
        "\n",
        "#0番目から、3番目の要素まで抽出\n",
        "ex_list[0:4]\n",
        "ex_list[最初の数:最後の数+1]\n",
        "\n",
        "#3番目以降の要素を抽出 pythonの順番\n",
        "ex_list[3:]\n",
        "\n",
        "print(\"0番目の要素は\" + str(ex_list[0]))\n",
        "print(\"0番目から、3番目の要素は\" + str(ex_list[0:4]))\n",
        "print(\"3番目以降の要素は\" + str(ex_list[3:]))"
      ],
      "execution_count": null,
      "outputs": [
        {
          "output_type": "stream",
          "text": [
            "0番目の要素は1\n",
            "0番目から、3番目の要素は[1, 2, 3, 4]\n",
            "3番目以降の要素は[4, 5]\n"
          ],
          "name": "stdout"
        }
      ]
    },
    {
      "cell_type": "code",
      "metadata": {
        "id": "EkffSh9BE4LR",
        "outputId": "c44e700f-8e62-46f5-95cc-84b852dae1b5"
      },
      "source": [
        "ex_list[:2]"
      ],
      "execution_count": null,
      "outputs": [
        {
          "output_type": "execute_result",
          "data": {
            "text/plain": [
              "[1, 2]"
            ]
          },
          "metadata": {
            "tags": []
          },
          "execution_count": 74
        }
      ]
    },
    {
      "cell_type": "markdown",
      "metadata": {
        "id": "46fwgPzZE4LR"
      },
      "source": [
        "3番目の要素を抽出\n",
        "1番目から4番目までの要素を抽出"
      ]
    },
    {
      "cell_type": "code",
      "metadata": {
        "id": "T7nufo9gE4LR",
        "outputId": "ff6cf4d6-2794-490a-f0f4-bd738cfedbdb"
      },
      "source": [
        "ex_list"
      ],
      "execution_count": null,
      "outputs": [
        {
          "output_type": "execute_result",
          "data": {
            "text/plain": [
              "[1, 2, 3, 4, 5]"
            ]
          },
          "metadata": {
            "tags": []
          },
          "execution_count": 69
        }
      ]
    },
    {
      "cell_type": "code",
      "metadata": {
        "id": "t-aM0s0VE4LS",
        "outputId": "cb7010db-1e78-42db-d469-ecc4196f58bc"
      },
      "source": [
        "#0番目から、3番目の要素まで抽出\n",
        "ex_list[0:4]"
      ],
      "execution_count": null,
      "outputs": [
        {
          "output_type": "execute_result",
          "data": {
            "text/plain": [
              "[1, 2, 3, 4]"
            ]
          },
          "metadata": {
            "tags": []
          },
          "execution_count": 68
        }
      ]
    },
    {
      "cell_type": "code",
      "metadata": {
        "id": "oYFVyiidE4LS",
        "outputId": "91071b9f-5b3d-42e2-d3d9-2511e34613da"
      },
      "source": [
        "#1番目から4番目までの要素を抽出\n",
        "ex_list[1:5]"
      ],
      "execution_count": null,
      "outputs": [
        {
          "output_type": "execute_result",
          "data": {
            "text/plain": [
              "[2, 3, 4, 5]"
            ]
          },
          "metadata": {
            "tags": []
          },
          "execution_count": 71
        }
      ]
    },
    {
      "cell_type": "markdown",
      "metadata": {
        "id": "vCJoPaH-E4LS"
      },
      "source": [
        "pythonの順番で2番目以降のデータを抽出してみましょう"
      ]
    },
    {
      "cell_type": "markdown",
      "metadata": {
        "id": "Z0rDdUN6E4LT"
      },
      "source": [
        "要素の抽出ができました！記号\" : \"を用いて要素を取り出す作業を、**スライス**と言います。この機会に覚えておきましょう！"
      ]
    },
    {
      "cell_type": "markdown",
      "metadata": {
        "id": "lSX-BOEsE4LT"
      },
      "source": [
        "練習問題です！"
      ]
    },
    {
      "cell_type": "markdown",
      "metadata": {
        "id": "4Q1d_mDIE4LT"
      },
      "source": [
        "t_list = [13,18,19,11,10,17,14,15]とするとき、  \n",
        "1. 11の要素を抽出してください。\n",
        "2. 18から抽出してください。\n",
        "3. 0番目から5番目の要素を抽出してください。"
      ]
    },
    {
      "cell_type": "markdown",
      "metadata": {
        "id": "2EHBhV_lE4LT"
      },
      "source": [
        "もう少しリストの処理について見てみます。"
      ]
    },
    {
      "cell_type": "code",
      "metadata": {
        "id": "BBmeGTarE4LU",
        "outputId": "d1efea6d-451d-4392-a419-703714072a74"
      },
      "source": [
        "#リストを定義\n",
        "ex_list = [1,2,3,4,5]\n",
        "ex_list"
      ],
      "execution_count": null,
      "outputs": [
        {
          "output_type": "execute_result",
          "data": {
            "text/plain": [
              "[1, 2, 3, 4, 5]"
            ]
          },
          "metadata": {
            "tags": []
          },
          "execution_count": 11
        }
      ]
    },
    {
      "cell_type": "code",
      "metadata": {
        "id": "mBU9aM7TE4LU",
        "outputId": "96bca9b6-01fc-415b-a57f-43ab1d10ca3d"
      },
      "source": [
        "#要素同士の計算\n",
        "ex_list[3]+ex_list[1] #6\n",
        "print(ex_list[3]+ex_list[1])\n",
        "\n",
        "#要素の削除\n",
        "del ex_list[2]   #[1,2,4,5]\n",
        "print(ex_list)"
      ],
      "execution_count": null,
      "outputs": [
        {
          "output_type": "stream",
          "text": [
            "6\n",
            "[1, 2, 4, 5]\n"
          ],
          "name": "stdout"
        }
      ]
    },
    {
      "cell_type": "code",
      "metadata": {
        "id": "4j4slshBE4LU",
        "outputId": "1dc3064d-5d18-4647-e4c5-b273cbde3425"
      },
      "source": [
        "#新しいリストをつくる\n",
        "ex_list1 = [1,2,3]\n",
        "ex_list1"
      ],
      "execution_count": null,
      "outputs": [
        {
          "output_type": "execute_result",
          "data": {
            "text/plain": [
              "[1, 2, 3]"
            ]
          },
          "metadata": {
            "tags": []
          },
          "execution_count": 13
        }
      ]
    },
    {
      "cell_type": "code",
      "metadata": {
        "id": "hpbs7ShkE4LV",
        "outputId": "c04155ce-565e-4005-d21e-6e7362d9e161"
      },
      "source": [
        "#要素の置き換え\n",
        "ex_list1[2] = 333      #[1,2,333]\n",
        "print(ex_list1)\n",
        "\n",
        "#要素の追加\n",
        "ex_list1.append(4)     #[1,2,333,4]\n",
        "print(ex_list1)\n",
        "\n",
        "#リスト同士の足し算\n",
        "ex_list2 = [5,6]\n",
        "ex_list_new = ex_list1 + ex_list2\n",
        "\n",
        "print(ex_list_new)   #[1,2,333,4,5,6]"
      ],
      "execution_count": null,
      "outputs": [
        {
          "output_type": "stream",
          "text": [
            "[1, 2, 333]\n",
            "[1, 2, 333, 4]\n",
            "[1, 2, 333, 4, 5, 6]\n"
          ],
          "name": "stdout"
        }
      ]
    },
    {
      "cell_type": "markdown",
      "metadata": {
        "id": "HNHB-gEIE4LV"
      },
      "source": [
        "要素を追加するとき、.append()という関数を使いました。このように、\".\"を用いて、\"●●.○○○\"の形で要素を取り出す方法を**メソッド**と言います。メソッドは知っていると作業を効率化でき、非常に便利なので是非覚えておきましょう！"
      ]
    },
    {
      "cell_type": "markdown",
      "metadata": {
        "id": "Od2YYci2E4LV"
      },
      "source": [
        "練習問題！！"
      ]
    },
    {
      "cell_type": "markdown",
      "metadata": {
        "id": "K-hp2gDPE4LW"
      },
      "source": [
        "t_list = [13,18,19,11,10,17,14,15]とするとき、  \n",
        "1. ３番目の要素を16に置き換えてみましょう。\n",
        "2. リストに、\"20\"を追加してみましょう。\n",
        "3. (t_list) と、 (s_list = [21,22]) を足してみましょう。"
      ]
    },
    {
      "cell_type": "code",
      "metadata": {
        "id": "VB836Cg2E4LW",
        "outputId": "2d7da62b-0603-4cba-9531-2253bea6b3e0"
      },
      "source": [
        "#リストの特徴把握\n",
        "list0 = [1,2,3,4,5]\n",
        "max(list0)    #5\n",
        "min(list0)    #1\n",
        "sum(list0)    #15\n",
        "len(list0)    #5\n",
        "sum(list0)/len(list0) #3 #平均"
      ],
      "execution_count": null,
      "outputs": [
        {
          "output_type": "execute_result",
          "data": {
            "text/plain": [
              "3.0"
            ]
          },
          "metadata": {
            "tags": []
          },
          "execution_count": 15
        }
      ]
    },
    {
      "cell_type": "code",
      "metadata": {
        "id": "mkBu4A0dE4LW",
        "outputId": "20746dbe-63d6-418c-e590-905feabaa008"
      },
      "source": [
        "list0 = [1,2,3,4,5]\n",
        "max0 = str(max(list0))\n",
        "\n",
        "min0 = str(min(list0))\n",
        "\n",
        "sum0 = str(sum(list0))\n",
        "\n",
        "len0 = str(len(list0))\n",
        "\n",
        "list_mean = str(sum(list0)/len(list0))\n",
        "\n",
        "print(\"min0:\"+min0,\n",
        "      \"max0:\"+max0,  \n",
        "      \"sum0:\"+sum0,  \n",
        "      \"len0:\"+len0,  \n",
        "      \"list_mean: \"+list_mean)"
      ],
      "execution_count": null,
      "outputs": [
        {
          "output_type": "stream",
          "text": [
            "min0:1 max0:5 sum0:15 len0:5 list_mean: 3.0\n"
          ],
          "name": "stdout"
        }
      ]
    },
    {
      "cell_type": "markdown",
      "metadata": {
        "id": "zXl9qn31E4LX"
      },
      "source": [
        "練習問題！！"
      ]
    },
    {
      "cell_type": "markdown",
      "metadata": {
        "id": "0dUemXCiE4LX"
      },
      "source": [
        "t_list = [13,18,19,11,10,17,14,15]とするとき、  \n",
        "最大値と平均を求めてみましょう！"
      ]
    },
    {
      "cell_type": "markdown",
      "metadata": {
        "id": "UGhIw2VjE4LX"
      },
      "source": [
        "**その3 ディクショナリを作成してみよう！**<a id='sec5_3'></a>  \n",
        "[先頭に戻る](#top)"
      ]
    },
    {
      "cell_type": "markdown",
      "metadata": {
        "id": "jY7en8LbE4LY"
      },
      "source": [
        "ディクショナリは、keyと値の対応関係を収納します！そのため、順序の概念はありません。  \n",
        "例として、りょうたくんのデータを作ってみましょう！リストを勉強した時と同様に、順に確認しています。"
      ]
    },
    {
      "cell_type": "code",
      "metadata": {
        "id": "-YuEtIGGE4LY",
        "outputId": "20db1696-86c9-4778-f58c-626ef574b26f"
      },
      "source": [
        "ex_dict = {\"名前\":\"りょうた\",\n",
        "                \"出身\":\"大阪\",\n",
        "                \"趣味\": \"サッカー\"}\n",
        "ex_dict"
      ],
      "execution_count": null,
      "outputs": [
        {
          "output_type": "execute_result",
          "data": {
            "text/plain": [
              "{'名前': 'りょうた', '出身': '大阪', '趣味': 'サッカー'}"
            ]
          },
          "metadata": {
            "tags": []
          },
          "execution_count": 40
        }
      ]
    },
    {
      "cell_type": "code",
      "metadata": {
        "id": "j53UfO7oE4LY",
        "outputId": "31c816cd-54e3-4bcb-d628-b2bbe95d211f"
      },
      "source": [
        "#keyを指定して、値を取り出す\n",
        "ex_dict[\"名前\"]"
      ],
      "execution_count": null,
      "outputs": [
        {
          "output_type": "execute_result",
          "data": {
            "text/plain": [
              "'りょうた'"
            ]
          },
          "metadata": {
            "tags": []
          },
          "execution_count": 41
        }
      ]
    },
    {
      "cell_type": "code",
      "metadata": {
        "id": "_dP6I12DE4LZ",
        "outputId": "cc7d6b95-be1e-4828-fdda-7b8cd4e3545a"
      },
      "source": [
        "#要素、年齢を追加する\n",
        "ex_dict[\"年齢\"] = \"20\"\n",
        "ex_dict"
      ],
      "execution_count": null,
      "outputs": [
        {
          "output_type": "execute_result",
          "data": {
            "text/plain": [
              "{'名前': 'りょうた', '出身': '大阪', '趣味': 'サッカー', '年齢': '20'}"
            ]
          },
          "metadata": {
            "tags": []
          },
          "execution_count": 42
        }
      ]
    },
    {
      "cell_type": "code",
      "metadata": {
        "id": "eiXacdHXE4LZ",
        "outputId": "a01156a0-2bad-45ca-bbe2-bd42eb5d069e"
      },
      "source": [
        "#要素を削除\n",
        "del ex_dict[\"出身\"]\n",
        "ex_dict"
      ],
      "execution_count": null,
      "outputs": [
        {
          "output_type": "execute_result",
          "data": {
            "text/plain": [
              "{'名前': 'りょうた', '趣味': 'サッカー', '年齢': '20'}"
            ]
          },
          "metadata": {
            "tags": []
          },
          "execution_count": 43
        }
      ]
    },
    {
      "cell_type": "markdown",
      "metadata": {
        "id": "2MB-QxV8E4LZ"
      },
      "source": [
        "メソッドを用いて、効率的に要素を取り出そう！！"
      ]
    },
    {
      "cell_type": "code",
      "metadata": {
        "id": "2BlFc2P0E4La",
        "outputId": "43a9358e-bcf8-4a11-a4c7-3aa5a5f2e09b"
      },
      "source": [
        "dic= {\"名前\":\"りょうた\",\n",
        "                \"出身\":\"大阪\",\n",
        "                \"趣味\": \"サッカー\"}\n",
        "print(dic.keys())     #全てのkeyを取り出す。\n",
        "print(dic.get(\"名前\"))#keyを指定して値を取り出す。\n",
        "print(dic.items())    #全ての要素を取り出す。\n",
        "print(dic.values())   #全ての値を取り出す。"
      ],
      "execution_count": null,
      "outputs": [
        {
          "output_type": "stream",
          "text": [
            "dict_keys(['名前', '出身', '趣味'])\n",
            "りょうた\n",
            "dict_items([('名前', 'りょうた'), ('出身', '大阪'), ('趣味', 'サッカー')])\n",
            "dict_values(['りょうた', '大阪', 'サッカー'])\n"
          ],
          "name": "stdout"
        }
      ]
    },
    {
      "cell_type": "markdown",
      "metadata": {
        "id": "Azofcqz1E4La"
      },
      "source": [
        "**その4 集合を作成してみよう！**<a id='sec5_4'></a>  \n",
        "[先頭に戻る](#top)"
      ]
    },
    {
      "cell_type": "markdown",
      "metadata": {
        "id": "Z7s_QErrE4La"
      },
      "source": [
        "集合は複数の要素が、重複しないように収納します。数学の集合と同じです！"
      ]
    },
    {
      "cell_type": "code",
      "metadata": {
        "id": "93_Smpp7E4Lb",
        "outputId": "e45d789f-05ff-4129-ef14-7f792729fb32"
      },
      "source": [
        "set1 = {1,2,3}\n",
        "set2 = {3,4,5}\n",
        "\n",
        "#和集合を求める。\n",
        "union =  set1 | set2\n",
        "union\n",
        "\n",
        "#積集合を求める\n",
        "intersection = set1 & set2 \n",
        "intersection\n",
        "\n",
        "#差集合を求める\n",
        "set_difference = set1 - set2\n",
        "set_difference"
      ],
      "execution_count": null,
      "outputs": [
        {
          "output_type": "execute_result",
          "data": {
            "text/plain": [
              "{1, 2}"
            ]
          },
          "metadata": {
            "tags": []
          },
          "execution_count": 71
        }
      ]
    },
    {
      "cell_type": "markdown",
      "metadata": {
        "id": "IXc74DwME4Lc"
      },
      "source": [
        "メッソドの確認！"
      ]
    },
    {
      "cell_type": "code",
      "metadata": {
        "id": "WVz8vyZFE4Lc",
        "outputId": "b692b135-0753-4b3d-89d1-81c06d005e64"
      },
      "source": [
        "set1.add(6)    #要素の追加\n",
        "print(set1)\n",
        "\n",
        "set1.remove(2) #特定の要素の削除\n",
        "print(set1)\n",
        "\n",
        "set1.clear()   #要素の全削除\n",
        "print(set1)"
      ],
      "execution_count": null,
      "outputs": [
        {
          "output_type": "stream",
          "text": [
            "{1, 2, 3, 6}\n",
            "{1, 3, 6}\n",
            "set()\n"
          ],
          "name": "stdout"
        }
      ]
    },
    {
      "cell_type": "code",
      "metadata": {
        "id": "iLA5Wb-lE4Ld",
        "outputId": "b0d03c77-db81-45db-e019-3bc3b7e93c1f"
      },
      "source": [
        "union = {1,2,3,4,5}\n",
        "max_union = max(union) #最大値\n",
        "print(max_union)\n",
        "\n",
        "min_union = min(union) #最小値\n",
        "print(min_union)\n",
        "\n",
        "sum_union = sum(union) #合計\n",
        "print(sum_union)\n",
        "\n",
        "len_union = len(union) #要素数\n",
        "print(len_union)\n",
        "\n",
        "mean_union = sum_union/len_union #平均\n",
        "print(mean_union)\n"
      ],
      "execution_count": null,
      "outputs": [
        {
          "output_type": "stream",
          "text": [
            "5\n",
            "1\n",
            "15\n",
            "5\n",
            "3.0\n"
          ],
          "name": "stdout"
        }
      ]
    },
    {
      "cell_type": "markdown",
      "metadata": {
        "id": "DSysgFjgE4Ld"
      },
      "source": [
        "**その5 タプルを作成してみよう！**<a id='sec5_5'></a>  \n",
        "[先頭に戻る](#top)"
      ]
    },
    {
      "cell_type": "markdown",
      "metadata": {
        "id": "LkPvHpCCE4Ld"
      },
      "source": [
        "タプルでは、複数の要素が、要素の変更ができないように収納されます。また順番の概念があります。  \n",
        "タプルは要素を( )で囲います！"
      ]
    },
    {
      "cell_type": "code",
      "metadata": {
        "id": "tMUBDHHxE4Le",
        "outputId": "4d3cddea-1c74-40dc-ce5b-af9add12dc7d"
      },
      "source": [
        "subject = (\"数学\",\"英語\",\"国語\")\n",
        "subject"
      ],
      "execution_count": null,
      "outputs": [
        {
          "output_type": "execute_result",
          "data": {
            "text/plain": [
              "('数学', '英語', '国語')"
            ]
          },
          "metadata": {
            "tags": []
          },
          "execution_count": 46
        }
      ]
    },
    {
      "cell_type": "code",
      "metadata": {
        "id": "A8PuynETE4Le",
        "outputId": "f7cb5020-a4d8-4bb6-8f3b-33926cb56655"
      },
      "source": [
        "subject[1]"
      ],
      "execution_count": null,
      "outputs": [
        {
          "output_type": "execute_result",
          "data": {
            "text/plain": [
              "'英語'"
            ]
          },
          "metadata": {
            "tags": []
          },
          "execution_count": 47
        }
      ]
    },
    {
      "cell_type": "markdown",
      "metadata": {
        "id": "MDH2V8ElE4Le"
      },
      "source": [
        "## Python文法<a id='sec6'></a>"
      ]
    },
    {
      "cell_type": "markdown",
      "metadata": {
        "id": "pnXH4WrRE4Lf"
      },
      "source": [
        "### Python文法：for文<a id='sec6_1'></a>  \n",
        "[先頭に戻る](#top)"
      ]
    },
    {
      "cell_type": "markdown",
      "metadata": {
        "id": "vLqpOFGoE4Lf"
      },
      "source": [
        "for 繰り返し変数　in シーケンス:  \n",
        "    ループ内で実行するブロック"
      ]
    },
    {
      "cell_type": "code",
      "metadata": {
        "id": "S7a77j2ME4Lg",
        "outputId": "4f101e17-cbbe-49fc-acb3-cedc922fcccc"
      },
      "source": [
        "example_list = [1,2,3,4,5]\n",
        "for i in example_list:\n",
        "    print(i)"
      ],
      "execution_count": null,
      "outputs": [
        {
          "output_type": "stream",
          "text": [
            "1\n",
            "2\n",
            "3\n",
            "4\n",
            "5\n"
          ],
          "name": "stdout"
        }
      ]
    },
    {
      "cell_type": "markdown",
      "metadata": {
        "id": "tn33skK8E4Lg"
      },
      "source": [
        "\":\"の次の行は**半角空白４マス**開けて書き始めます。これを**インデント**と言います。空白の個数や、全角と半角の違いでエラーが発生しやすいので注意です！また、インデントはtabキーを押しても挿入することができます。一般に、インデントできるだけtabキーを使用しないほうがいいと言われます。稀にですが、tabキーを使うとうまくいかない場合があるので、できるだけ半角空白４マスでインデントを記述しましょう！ちなみにjupyter notebookでは、\":\"を記述すると、改行するときに自動的にインデントされます！便利ですね！！"
      ]
    },
    {
      "cell_type": "markdown",
      "metadata": {
        "id": "PPbFcdL9E4Lg"
      },
      "source": [
        "for文を用いて、平均、分散を求めてみましょう！ようやくプログラミングっぽいとことまで到着しました！！"
      ]
    },
    {
      "cell_type": "code",
      "metadata": {
        "id": "3DwvccB4E4Lh",
        "outputId": "9f25a6b3-29b5-4526-efc6-c927650df594"
      },
      "source": [
        "ex_list= [1,2,3,4,5]\n",
        "\n",
        "ex_sum = sum(ex_list)\n",
        "len_list = len(ex_list)\n",
        "\n",
        "mean = ex_sum / len_list\n",
        "\n",
        "variance = 0\n",
        "for i in ex_list:\n",
        "    variance += (i-mean) **2\n",
        "    \n",
        "variance = variance / len_list\n",
        "\n",
        "standard_deviation = variance **0.5\n",
        "print(\"mean=\"+str(mean),\n",
        "      \"variance=\"+str(variance),\n",
        "      \"standard_deviation=\"+str(standard_deviation))"
      ],
      "execution_count": null,
      "outputs": [
        {
          "output_type": "stream",
          "text": [
            "mean=3.0 variance=2.0 standard_deviation=1.4142135623730951\n"
          ],
          "name": "stdout"
        }
      ]
    },
    {
      "cell_type": "code",
      "metadata": {
        "id": "2E7gvNF6E4Li",
        "outputId": "ff81b0b7-79ba-4a2f-c22e-87d6323f271d"
      },
      "source": [
        "n_list = [12,41,59,73,24,45,54]\n",
        "\n",
        "ex_sum = sum(ex_list)\n",
        "len_list = len(ex_list)\n",
        "\n",
        "mean = ex_sum / len_list\n",
        "\n",
        "variance = 0\n",
        "for i in ex_list:\n",
        "    variance += (i-mean) **2\n",
        "    \n",
        "variance = variance / len_list\n",
        "\n",
        "standard_deviation = variance **0.5\n",
        "print(\"mean=\"+str(mean),\n",
        "      \"variance=\"+str(variance),\n",
        "      \"standard_deviation=\"+str(standard_deviation))"
      ],
      "execution_count": null,
      "outputs": [
        {
          "output_type": "stream",
          "text": [
            "mean=44.0 variance=371.42857142857144 standard_deviation=19.27248223318863\n"
          ],
          "name": "stdout"
        }
      ]
    },
    {
      "cell_type": "markdown",
      "metadata": {
        "id": "cKAxdvbNE4Li"
      },
      "source": [
        "$variance= \\frac{1}{n}\\sum(x_i-\\overline{x})^2$"
      ]
    },
    {
      "cell_type": "markdown",
      "metadata": {
        "id": "ifEKDTJHE4Lj"
      },
      "source": [
        "同様に、  \n",
        "n_list = [12,41,59,73,24,45,54]  \n",
        "の平均と分散を求めてみましょう！"
      ]
    },
    {
      "cell_type": "markdown",
      "metadata": {
        "id": "sn-cR1vTE4Lj"
      },
      "source": [
        "ちなみにnumpyを使うと一瞬です。"
      ]
    },
    {
      "cell_type": "code",
      "metadata": {
        "id": "rjrOBvOfE4Lj",
        "outputId": "58889bf1-43d8-467f-e75e-ddc255ad3e5e"
      },
      "source": [
        "import numpy as np\n",
        "#np.mean(ex_list)\n",
        "#np.var(ex_list)\n",
        "#np.std(ex_list)"
      ],
      "execution_count": null,
      "outputs": [
        {
          "output_type": "execute_result",
          "data": {
            "text/plain": [
              "19.27248223318863"
            ]
          },
          "metadata": {
            "tags": []
          },
          "execution_count": 7
        }
      ]
    },
    {
      "cell_type": "markdown",
      "metadata": {
        "id": "2EJOx1_-E4Lj"
      },
      "source": [
        "### Python文法：range文<a id='sec6_2'></a>  \n",
        "[先頭に戻る](#top)"
      ]
    },
    {
      "cell_type": "markdown",
      "metadata": {
        "id": "k5KabN_3E4Lk"
      },
      "source": [
        "決まった回数同じ試行を繰り返させたいとき、range文を使うと便利です。"
      ]
    },
    {
      "cell_type": "markdown",
      "metadata": {
        "id": "UNwqmEMLE4Lk"
      },
      "source": [
        "#range関数の使い方\n",
        "range(start, stop, [step])"
      ]
    },
    {
      "cell_type": "code",
      "metadata": {
        "id": "fdAnUF4oE4Lk",
        "outputId": "5ad5534c-a974-48fd-fa5c-1c328c595218"
      },
      "source": [
        "for i in range(5):\n",
        "    print(i)"
      ],
      "execution_count": null,
      "outputs": [
        {
          "output_type": "stream",
          "text": [
            "0\n",
            "1\n",
            "2\n",
            "3\n",
            "4\n"
          ],
          "name": "stdout"
        }
      ]
    },
    {
      "cell_type": "code",
      "metadata": {
        "id": "JgqlarvZE4Ll",
        "outputId": "b46bdbc3-b176-4857-ee10-2892d592cfdb"
      },
      "source": [
        "list(range(3,5))"
      ],
      "execution_count": null,
      "outputs": [
        {
          "output_type": "execute_result",
          "data": {
            "text/plain": [
              "[3, 4]"
            ]
          },
          "metadata": {
            "tags": []
          },
          "execution_count": 17
        }
      ]
    },
    {
      "cell_type": "code",
      "metadata": {
        "id": "s6AiaqtgE4Ll",
        "outputId": "6f81f2a1-6003-4c8c-83d0-f4b1cff54622"
      },
      "source": [
        "for i in range(3,5):\n",
        "    print(i)"
      ],
      "execution_count": null,
      "outputs": [
        {
          "output_type": "stream",
          "text": [
            "3\n",
            "4\n"
          ],
          "name": "stdout"
        }
      ]
    },
    {
      "cell_type": "markdown",
      "metadata": {
        "id": "NhAw1cqgE4Lm"
      },
      "source": [
        "range()関数を使って、リストの作成をしてみます。"
      ]
    },
    {
      "cell_type": "code",
      "metadata": {
        "id": "n26jvTglE4Lm",
        "outputId": "63949a2b-a106-4574-b006-20de0dad3c91"
      },
      "source": [
        "list(range(1,6))"
      ],
      "execution_count": null,
      "outputs": [
        {
          "output_type": "execute_result",
          "data": {
            "text/plain": [
              "[1, 2, 3, 4, 5]"
            ]
          },
          "metadata": {
            "tags": []
          },
          "execution_count": 14
        }
      ]
    },
    {
      "cell_type": "markdown",
      "metadata": {
        "id": "aT30A5qnE4Lm"
      },
      "source": [
        "[5,4,3,2,1]となるリストを作ってみます。"
      ]
    },
    {
      "cell_type": "code",
      "metadata": {
        "id": "lBgqCm0vE4Ln",
        "outputId": "66f0a8b4-fd74-4835-b4cb-a3ede10d11b5"
      },
      "source": [
        "list(range(5,0,-1))"
      ],
      "execution_count": null,
      "outputs": [
        {
          "output_type": "execute_result",
          "data": {
            "text/plain": [
              "[5, 4, 3, 2, 1]"
            ]
          },
          "metadata": {
            "tags": []
          },
          "execution_count": 108
        }
      ]
    },
    {
      "cell_type": "markdown",
      "metadata": {
        "id": "1H9Hp3K3E4Ln"
      },
      "source": [
        ".reverse()メソッドを使っても、リストを反転させることができます。"
      ]
    },
    {
      "cell_type": "code",
      "metadata": {
        "id": "NTh-NIJVE4Ln",
        "outputId": "c06ebddb-0b3e-43dd-9b3f-7367f22a6164"
      },
      "source": [
        "a = list(range(1,6))\n",
        "a.reverse()\n",
        "a"
      ],
      "execution_count": null,
      "outputs": [
        {
          "output_type": "execute_result",
          "data": {
            "text/plain": [
              "[5, 4, 3, 2, 1]"
            ]
          },
          "metadata": {
            "tags": []
          },
          "execution_count": 73
        }
      ]
    },
    {
      "cell_type": "markdown",
      "metadata": {
        "id": "CFS_AUIjE4Lo"
      },
      "source": [
        "for文とrange文を組み合わせて、１から１０までの数字を縦に並べてみてください。"
      ]
    },
    {
      "cell_type": "code",
      "metadata": {
        "id": "hEVyEf3kE4Lo",
        "outputId": "f2671054-682d-40cb-e1c6-1c42a01dcae5"
      },
      "source": [
        "for i in range(1,11):\n",
        "    print(i)"
      ],
      "execution_count": null,
      "outputs": [
        {
          "output_type": "stream",
          "text": [
            "1\n",
            "2\n",
            "3\n",
            "4\n",
            "5\n",
            "6\n",
            "7\n",
            "8\n",
            "9\n",
            "10\n"
          ],
          "name": "stdout"
        }
      ]
    },
    {
      "cell_type": "markdown",
      "metadata": {
        "id": "u_TYFPRiE4Lo"
      },
      "source": [
        "### Python文法：if文<a id='sec6_3'></a> \n",
        "[先頭に戻る](#top)"
      ]
    },
    {
      "cell_type": "markdown",
      "metadata": {
        "id": "z8Pv2PiIE4Lp"
      },
      "source": [
        "より複雑な構造を表現してみましょう。if文を使うと、条件によって処置を変えることができます。  \n",
        "if, else, elifを駆使して素数判定プログラムを作成してみましょう！！"
      ]
    },
    {
      "cell_type": "markdown",
      "metadata": {
        "id": "13WjmII7E4Lp"
      },
      "source": [
        "if 条件式:\n",
        "    実行する処理\n",
        "elif 条件式:\n",
        "    ifの条件に該当しない時、実行する処理\n",
        "else:\n",
        "    条件に該当することがない時、実行する処理"
      ]
    },
    {
      "cell_type": "code",
      "metadata": {
        "id": "KtJhKCbBE4Lp",
        "outputId": "acdcf966-c769-442e-d640-165b3237a6e1"
      },
      "source": [
        "a = list(range(1,6))\n",
        "b = [1,2,3,4,5]\n",
        "if a == b:\n",
        "    print(\"a and b is same!!\")\n",
        "else:\n",
        "    print(\"a and b is NOT same!!\")"
      ],
      "execution_count": null,
      "outputs": [
        {
          "output_type": "stream",
          "text": [
            "a and b is same!!\n"
          ],
          "name": "stdout"
        }
      ]
    },
    {
      "cell_type": "code",
      "metadata": {
        "id": "SdlCDM55E4Lp",
        "outputId": "c99cdf53-0007-4bc9-b6e7-fdb6bac07191"
      },
      "source": [
        "c = 1\n",
        "d = 3\n",
        "if c != d:\n",
        "    print(\"c and d is NOT same!!\")\n",
        "else:\n",
        "    print(\"a and b is same!!\")"
      ],
      "execution_count": null,
      "outputs": [
        {
          "output_type": "stream",
          "text": [
            "c and d is NOT same!!\n"
          ],
          "name": "stdout"
        }
      ]
    },
    {
      "cell_type": "markdown",
      "metadata": {
        "id": "TGWG-BXGE4Lq"
      },
      "source": [
        "文字列が含まれるかどうかの探索も可能です！！"
      ]
    },
    {
      "cell_type": "code",
      "metadata": {
        "id": "fwCSvghPE4Lq",
        "outputId": "19a0b4d0-1d87-439c-bd4d-5f0193fb4604"
      },
      "source": [
        "if \"i\" in \"ajdsfakidfadf\":\n",
        "    print(\"i is included!!\")\n",
        "else:\n",
        "    print(\"i is NOT included!!\")"
      ],
      "execution_count": null,
      "outputs": [
        {
          "output_type": "stream",
          "text": [
            "i is included!!\n"
          ],
          "name": "stdout"
        }
      ]
    },
    {
      "cell_type": "markdown",
      "metadata": {
        "id": "Ga0hp1YmE4Lq"
      },
      "source": [
        "**比較演算子**  \n",
        "二つの事象を比較するときは、比較演算子を用いる。  \n",
        "1. == (等しい)  \n",
        "2. != (等しくない)  \n",
        "3. <,> (小なり,大なり)  \n",
        "4. <=,>= (小なりイコール,大なりイコール)  \n",
        "5. in (含まれる)"
      ]
    },
    {
      "cell_type": "markdown",
      "metadata": {
        "id": "nf61VWvvE4Lq"
      },
      "source": [
        "if文を使って、与えた整数が偶数か奇数かを判定するシステムを作ってみます。"
      ]
    },
    {
      "cell_type": "code",
      "metadata": {
        "id": "kNerjQbuE4Lr",
        "outputId": "b18be692-d4bf-4742-c5c0-2ba0c448a1e2"
      },
      "source": [
        "i = 5\n",
        "if i % 2 == 0:\n",
        "    print(\"iは偶数\")\n",
        "else:\n",
        "    print(\"iは奇数\")"
      ],
      "execution_count": null,
      "outputs": [
        {
          "output_type": "stream",
          "text": [
            "iは奇数\n"
          ],
          "name": "stdout"
        }
      ]
    },
    {
      "cell_type": "markdown",
      "metadata": {
        "id": "lVg6IbLFE4Lr"
      },
      "source": [
        "発展：\n",
        "for文とif文を組み合わせて、０から９までの整数が偶数か奇数か判別するコードを書いてみましょう。"
      ]
    },
    {
      "cell_type": "code",
      "metadata": {
        "id": "4FGLqS1WE4Lr",
        "outputId": "1eaf4b9e-6363-4f7f-f717-c2f97fc9c7fa"
      },
      "source": [
        "for i in range(10):\n",
        "    if i % 2 == 0:\n",
        "        print(str(i) + \"は偶数\")\n",
        "    else:\n",
        "        print(str(i)+\"は奇数\")"
      ],
      "execution_count": null,
      "outputs": [
        {
          "output_type": "stream",
          "text": [
            "0は偶数\n",
            "1は奇数\n",
            "2は偶数\n",
            "3は奇数\n",
            "4は偶数\n",
            "5は奇数\n",
            "6は偶数\n",
            "7は奇数\n",
            "8は偶数\n",
            "9は奇数\n"
          ],
          "name": "stdout"
        }
      ]
    },
    {
      "cell_type": "markdown",
      "metadata": {
        "id": "OuJMk5ZXE4Lr"
      },
      "source": [
        "1から5整数が偶数か奇数か判別するコードを書いてみましょう。"
      ]
    },
    {
      "cell_type": "code",
      "metadata": {
        "id": "qLn3jkUfE4Ls",
        "outputId": "69e32061-648b-4337-f888-61dd3a862e26"
      },
      "source": [
        "for i in range(1,6):\n",
        "    if i % 2 ==0:\n",
        "        print(str(i) + \"は偶数\")\n",
        "    else:\n",
        "        print(str(i)+\"は奇数\")"
      ],
      "execution_count": null,
      "outputs": [
        {
          "output_type": "stream",
          "text": [
            "1は奇数\n",
            "2は偶数\n",
            "3は奇数\n",
            "4は偶数\n",
            "5は奇数\n"
          ],
          "name": "stdout"
        }
      ]
    },
    {
      "cell_type": "markdown",
      "metadata": {
        "id": "zKjaRWGdE4Ls"
      },
      "source": [
        "練習問題！！   \n",
        "1から1000の整数のうち、259の倍数を発見するコードを作ってみましょう。"
      ]
    },
    {
      "cell_type": "code",
      "metadata": {
        "id": "30AshE9yE4Ls",
        "outputId": "3cd12dd7-234c-4b0d-8bcf-b7851005c917"
      },
      "source": [
        "for i in range(1000):\n",
        "    if i % 259 == 0:\n",
        "        print(str(i) + \"は259の倍数\")"
      ],
      "execution_count": null,
      "outputs": [
        {
          "output_type": "stream",
          "text": [
            "0は259の倍数\n",
            "259は259の倍数\n",
            "518は259の倍数\n",
            "777は259の倍数\n"
          ],
          "name": "stdout"
        }
      ]
    },
    {
      "cell_type": "code",
      "metadata": {
        "id": "4Pq-H_woE4Ls",
        "outputId": "b85f0031-07fa-46c4-e47c-75388a34b632"
      },
      "source": [
        "for i in range(1,i+1):\n",
        "    if 2021 % i == 0:\n",
        "        print(str(i)+\"は2021の約数\")"
      ],
      "execution_count": null,
      "outputs": [
        {
          "output_type": "stream",
          "text": [
            "1は2021の約数\n",
            "43は2021の約数\n",
            "47は2021の約数\n"
          ],
          "name": "stdout"
        }
      ]
    },
    {
      "cell_type": "markdown",
      "metadata": {
        "id": "DYNE36uSE4Lt"
      },
      "source": [
        "### Python文法：def文<a id='sec6_4'></a>  \n",
        "[先頭に戻る](#top)"
      ]
    },
    {
      "cell_type": "markdown",
      "metadata": {
        "id": "Lvd-SGsIE4Lt"
      },
      "source": [
        "def文を使うと、自分で関数を定義できるようになります！  \n",
        "これはとても便利な機能です。プログラムを書いていると、何度も同じコードを書いているな...。あとからもう今と同じ処理を使うことがありそうだな...。と思う時によく出会うと思います。そんなときに活躍するのが、def文です。def文で1度関数を作ってしまえば、同じ処理を書く必要がなくなるので、作業の効率化間違いなしです！！"
      ]
    },
    {
      "cell_type": "markdown",
      "metadata": {
        "id": "Rlczd47jE4Lt"
      },
      "source": [
        "def 関数名():\n",
        "    処理"
      ]
    },
    {
      "cell_type": "markdown",
      "metadata": {
        "id": "-7LfzJPDE4Lt"
      },
      "source": [
        "では、入力した数の約数を発見する関数を作ってみましょう。"
      ]
    },
    {
      "cell_type": "code",
      "metadata": {
        "id": "R0kDV7yHE4Lu"
      },
      "source": [
        "def divisor():\n",
        "    num = int(input(\"好きな数字を入力してください:\"))\n",
        "    for i in range(1,num+1):\n",
        "        if num % i == 0:\n",
        "            print(str(i)+\"は\"+str(num)+\"の約数\")"
      ],
      "execution_count": null,
      "outputs": []
    },
    {
      "cell_type": "markdown",
      "metadata": {
        "id": "9H9_uFTnE4Lu"
      },
      "source": [
        "<発展>素数判定プログラムを作ってみましょう！この課題は、これまでのものよりも難しいです。私も細かい調整をするのに時間がかかりました。  \n",
        "今のところできなくても全く問題ありません。すごい！！と思ってもらえたら嬉しいです。"
      ]
    },
    {
      "cell_type": "code",
      "metadata": {
        "id": "JAglxfa1E4Lu"
      },
      "source": [
        "def prime():\n",
        "    num = int(input(\"好きな自然数を入力してください：\"))\n",
        "    if num < 1:\n",
        "        print(\"1以上の整数を入力してください！\")\n",
        "    if num == 1:\n",
        "        print(num,\"は素数ではありません！\")\n",
        "    if num >= 2:  \n",
        "        for i in range(2,num):\n",
        "            if num % i == 0:\n",
        "                print(num,\"は素数ではありません！\")                                                 \n",
        "                break\n",
        "        else:\n",
        "                print(num,\"は素数です！\")"
      ],
      "execution_count": null,
      "outputs": []
    },
    {
      "cell_type": "code",
      "metadata": {
        "id": "D_umxT9VE4Lu"
      },
      "source": [
        "prime()"
      ],
      "execution_count": null,
      "outputs": []
    },
    {
      "cell_type": "markdown",
      "metadata": {
        "id": "JnLhK-3XE4Lu"
      },
      "source": [
        "上の関数を作成するのに、"
      ]
    },
    {
      "cell_type": "code",
      "metadata": {
        "id": "t6KDz6RNE4Lv",
        "outputId": "e676ef36-d12c-40ff-e893-d33bdba3929f"
      },
      "source": [
        "\n",
        "a = int(input(\"好きな数字を入力してください：\"))\n",
        "if num < 1:\n",
        "    print(\"1以上の整数を入力してください！\")\n",
        "if num == 1:\n",
        "    print(num,\"は素数ではありません！\")\n",
        "if num >= 2:\n",
        "    for num in range(2,a):\n",
        "        if a % num == 0:\n",
        "            print(a, \"は素数ではありません!\")\n",
        "            break\n",
        "    else:\n",
        "        print(a,\"は素数です!\")"
      ],
      "execution_count": null,
      "outputs": [
        {
          "output_type": "stream",
          "text": [
            "好きな数字を入力してください：2\n",
            "2 は素数です\n"
          ],
          "name": "stdout"
        }
      ]
    },
    {
      "cell_type": "markdown",
      "metadata": {
        "id": "1f9w0wloE4Lv"
      },
      "source": [
        "### Python文法：while文<a id='sec6_5'></a>  \n",
        "[先頭に戻る](#top)"
      ]
    },
    {
      "cell_type": "markdown",
      "metadata": {
        "id": "ZiZl1mYBE4Lv"
      },
      "source": [
        "while文を使うと、条件が真の間、実行し続けるループを作成できます。ループの便利な点は、求める処理が出るまでひたすら処理を実行してくれる点です！ "
      ]
    },
    {
      "cell_type": "markdown",
      "metadata": {
        "id": "wZJlAX7SE4Lv"
      },
      "source": [
        "while 条件:\n",
        "    ループ内で実行する動作  "
      ]
    },
    {
      "cell_type": "markdown",
      "metadata": {
        "id": "FDfwbGx6E4Lv"
      },
      "source": [
        "例として、1から10までの整数のうち、2の倍数のものと3の倍数のものを発見するコードを書いてみます。"
      ]
    },
    {
      "cell_type": "code",
      "metadata": {
        "id": "Mz6MIf9HE4Lw",
        "outputId": "9fba05e6-c220-41dc-b9c9-c0e1ffcfbd9f"
      },
      "source": [
        "n = 1\n",
        "while n <= 10:\n",
        "    if n%2==0 and n%3==0:\n",
        "        print(str(n)+\"は2の倍数であり3の倍数！！！！\")\n",
        "    elif n%2 == 0:\n",
        "        print(str(n)+\"は2の倍数！！\")\n",
        "    elif n%3 == 0:\n",
        "        print(str(n)+\"は3の倍数！！\")\n",
        "    else:\n",
        "        print(n)\n",
        "    n = n+1"
      ],
      "execution_count": null,
      "outputs": [
        {
          "output_type": "stream",
          "text": [
            "1\n",
            "2は2の倍数！！\n",
            "3は3の倍数！！\n",
            "4は2の倍数！！\n",
            "5\n",
            "6は2の倍数であり3の倍数！！！！\n",
            "7\n",
            "8は2の倍数！！\n",
            "9は3の倍数！！\n",
            "10は2の倍数！！\n"
          ],
          "name": "stdout"
        }
      ]
    },
    {
      "cell_type": "markdown",
      "metadata": {
        "id": "iFkLUMRzE4Lw"
      },
      "source": [
        "うまく作動しているようですね！"
      ]
    },
    {
      "cell_type": "markdown",
      "metadata": {
        "id": "8Q-ZQ-8eE4Lw"
      },
      "source": [
        "FizzBuzzとは、3の倍数のときは「Fizz」、5の倍数のときは「Buzz」、3と5の公倍数のときは「FizzBuzz」と表示するゲームのことです。  \n",
        "この問題を、while文を使ってプログラミングしてみよう！"
      ]
    },
    {
      "cell_type": "markdown",
      "metadata": {
        "id": "JDQe9CVzE4Lw"
      },
      "source": [
        "題材１：1から20までの数のFizzBuzzを調べる。"
      ]
    },
    {
      "cell_type": "code",
      "metadata": {
        "id": "n0z7Ql2BE4Lx",
        "outputId": "1dbabefa-f3c8-49de-dcbe-170e2c119a4e"
      },
      "source": [
        "n = 1\n",
        "while n <= 20:\n",
        "    if n%3 == 0 and n%5 == 0:\n",
        "        print(\"FizzBuzz\")\n",
        "    elif n%3 == 0:\n",
        "        print('Fize')\n",
        "    elif n%5 == 0:\n",
        "        print('Buzz')\n",
        "    else:\n",
        "        print(n)\n",
        "    n = n + 1"
      ],
      "execution_count": null,
      "outputs": [
        {
          "output_type": "stream",
          "text": [
            "1\n",
            "2\n",
            "Fize\n",
            "4\n",
            "Buzz\n",
            "Fize\n",
            "7\n",
            "8\n",
            "Fize\n",
            "Buzz\n",
            "11\n",
            "Fize\n",
            "13\n",
            "14\n",
            "FizzBuzz\n",
            "16\n",
            "17\n",
            "Fize\n",
            "19\n",
            "Buzz\n"
          ],
          "name": "stdout"
        }
      ]
    }
  ]
}