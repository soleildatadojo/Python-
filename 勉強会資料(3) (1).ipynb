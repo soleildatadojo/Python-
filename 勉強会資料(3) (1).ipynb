{
 "cells": [
  {
   "cell_type": "markdown",
   "metadata": {},
   "source": [
    "# Python勉強会(3)<a id='top'></a>"
   ]
  },
  {
   "cell_type": "markdown",
   "metadata": {},
   "source": [
    "###  目次\n",
    "1. [単回帰分析](#sec1)\n",
    "2. [重回帰分析](#sec2)"
   ]
  },
  {
   "cell_type": "markdown",
   "metadata": {},
   "source": [
    "今回は、回帰分析を行います！いよいよ、勉強会も後半に突入です。"
   ]
  },
  {
   "cell_type": "code",
   "execution_count": 1,
   "metadata": {},
   "outputs": [],
   "source": [
    "import numpy as np\n",
    "import pandas as pd\n",
    "from scipy.stats import norm\n",
    "import matplotlib.pyplot as plt\n",
    "from statsmodels.formula.api import ols  # 回帰分析のパッケージ\n",
    "from see import see  # 属性を調べるパッケージ"
   ]
  },
  {
   "cell_type": "markdown",
   "metadata": {},
   "source": [
    "**単回帰分析**  <a id='sec1'></a>  \n",
    "[先頭に戻る](#top)  "
   ]
  },
  {
   "cell_type": "markdown",
   "metadata": {},
   "source": [
    "**単回帰分析**  \n",
    "ある変数XとYが存在し、それら二つの変数に何らかの関係が存在することが仮定できるとき、もっとも簡単に$Y = \\alpha + \\beta X$と書けます。  このモデルは、Xが決定すると、Yも一意に定まるので、決定的モデルと言われます。  \n",
    "これを現実の現象で考えてみましょう。  "
   ]
  },
  {
   "cell_type": "markdown",
   "metadata": {},
   "source": [
    "例えば、鉄には熱によって膨張するという性質(熱膨張)が備わっています。  鉄道会社に勤めるAさんは、気温と熱の関係を調べるように要請されました。そこで、資料を確認すると、下の図と散布図が載っていました。"
   ]
  },
  {
   "cell_type": "code",
   "execution_count": 4,
   "metadata": {},
   "outputs": [
    {
     "name": "stdout",
     "output_type": "stream",
     "text": [
      "   heat  length\n",
      "0    10    1001\n",
      "1    15    1005\n",
      "2    20    1007\n",
      "3    25    1007\n",
      "4    30    1012\n"
     ]
    },
    {
     "data": {
      "image/png": "[encoded data removed]",
      "text/plain": [
       "<Figure size 432x288 with 1 Axes>"
      ]
     },
     "metadata": {
      "needs_background": "light"
     },
     "output_type": "display_data"
    }
   ],
   "source": [
    "list = [[10,1001],[15,1005],[20,1007],[25,1007],[30,1012]]\n",
    "df = pd.DataFrame(list)\n",
    "df.columns=['heat', 'length']\n",
    "print(df)\n",
    "plt.plot(df['heat'],df['length'],\"o\")\n",
    "plt.xlabel(\"heat\")\n",
    "plt.ylabel(\"length\")\n",
    "plt.grid(True)\n",
    "pass"
   ]
  },
  {
   "cell_type": "markdown",
   "metadata": {},
   "source": [
    "ある程度、一直線の関係が存在しているように思えます。そこで、Aさんは先ほどの式、$Y = \\alpha + \\beta X$を思い出し、当てはめてみようと考えました。しかし、Aさんは次のことに思い当たりました。  \n",
    "「たしかに、この散布図は一直線のようにも見えるけど、正確には一直線ではないな。もしかしたら、測るときに誤差が生じているのかもしれない。」"
   ]
  },
  {
   "cell_type": "markdown",
   "metadata": {},
   "source": [
    "この考えに基づき、先ほどの決定的モデルに\"誤差$u$\"を加えた式が、分析の際に一般に使われます。  \n",
    "$Y = \\alpha + \\beta X + u$  \n",
    "この式を、確率モデルといいます。"
   ]
  },
  {
   "cell_type": "markdown",
   "metadata": {},
   "source": [
    "この式について、さらに見ていきます。  \n",
    "$\\alpha$が特定の値、$\\acute{\\alpha}$を取るとき、$\\beta$は、$\\acute{\\beta}$をとります。  \n",
    "$Y = \\acute{\\alpha} + \\acute{\\beta}X + \\acute{u}$  \n",
    "この式を変形すると、  \n",
    "$\\acute{u} = Y - \\acute{\\alpha} - \\acute{\\beta}X $    \n",
    "この$\\acute{u}$のことを残差と言います。  \n",
    "そして、この残差の二乗した残差二乗和を最小化する$\\alpha$,$\\beta$を求める方法を**最小二乗法**と言います。"
   ]
  },
  {
   "cell_type": "markdown",
   "metadata": {},
   "source": [
    "ここからは、ビールの消費量と気候の関係性について分析します。\n",
    "**リサーチクエスチョン**  \n",
    "気温が高い地域では、ビールの消費量が増えるか。  \n",
    "$Y = \\acute{\\alpha} + \\acute{\\beta}X + \\acute{u}$  \n",
    "$Y$:ビールの消費量,$X$:気候"
   ]
  },
  {
   "cell_type": "markdown",
   "metadata": {},
   "source": [
    "平成30年度分 酒税課税関係等状況表:https://www.nta.go.jp/taxes/sake/tokei/kazeikankei2018/01.htm "
   ]
  },
  {
   "cell_type": "code",
   "execution_count": 120,
   "metadata": {},
   "outputs": [
    {
     "data": {
      "text/html": [
       "<div>\n",
       "<style scoped>\n",
       "    .dataframe tbody tr th:only-of-type {\n",
       "        vertical-align: middle;\n",
       "    }\n",
       "\n",
       "    .dataframe tbody tr th {\n",
       "        vertical-align: top;\n",
       "    }\n",
       "\n",
       "    .dataframe thead th {\n",
       "        text-align: right;\n",
       "    }\n",
       "</style>\n",
       "<table border=\"1\" class=\"dataframe\">\n",
       "  <thead>\n",
       "    <tr style=\"text-align: right;\">\n",
       "      <th></th>\n",
       "      <th>prefecture</th>\n",
       "      <th>beer</th>\n",
       "    </tr>\n",
       "  </thead>\n",
       "  <tbody>\n",
       "    <tr>\n",
       "      <th>0</th>\n",
       "      <td>北海道</td>\n",
       "      <td>113,097</td>\n",
       "    </tr>\n",
       "    <tr>\n",
       "      <th>1</th>\n",
       "      <td>青森</td>\n",
       "      <td>23,177</td>\n",
       "    </tr>\n",
       "    <tr>\n",
       "      <th>2</th>\n",
       "      <td>岩手</td>\n",
       "      <td>24,879</td>\n",
       "    </tr>\n",
       "    <tr>\n",
       "      <th>3</th>\n",
       "      <td>宮城</td>\n",
       "      <td>43,152</td>\n",
       "    </tr>\n",
       "    <tr>\n",
       "      <th>4</th>\n",
       "      <td>秋田</td>\n",
       "      <td>19,229</td>\n",
       "    </tr>\n",
       "  </tbody>\n",
       "</table>\n",
       "</div>"
      ],
      "text/plain": [
       "  prefecture     beer\n",
       "0        北海道  113,097\n",
       "1         青森   23,177\n",
       "2         岩手   24,879\n",
       "3         宮城   43,152\n",
       "4         秋田   19,229"
      ]
     },
     "execution_count": 120,
     "metadata": {},
     "output_type": "execute_result"
    }
   ],
   "source": [
    "df0 = pd.read_csv(\"ビールExcel.csv\")\n",
    "df0.head()"
   ]
  },
  {
   "cell_type": "code",
   "execution_count": 121,
   "metadata": {},
   "outputs": [
    {
     "data": {
      "text/html": [
       "<div>\n",
       "<style scoped>\n",
       "    .dataframe tbody tr th:only-of-type {\n",
       "        vertical-align: middle;\n",
       "    }\n",
       "\n",
       "    .dataframe tbody tr th {\n",
       "        vertical-align: top;\n",
       "    }\n",
       "\n",
       "    .dataframe thead th {\n",
       "        text-align: right;\n",
       "    }\n",
       "</style>\n",
       "<table border=\"1\" class=\"dataframe\">\n",
       "  <thead>\n",
       "    <tr style=\"text-align: right;\">\n",
       "      <th></th>\n",
       "      <th>prefecture</th>\n",
       "      <th>adult</th>\n",
       "    </tr>\n",
       "  </thead>\n",
       "  <tbody>\n",
       "    <tr>\n",
       "      <th>0</th>\n",
       "      <td>北海道</td>\n",
       "      <td>4,509,363</td>\n",
       "    </tr>\n",
       "    <tr>\n",
       "      <th>1</th>\n",
       "      <td>青森</td>\n",
       "      <td>1,103,183</td>\n",
       "    </tr>\n",
       "    <tr>\n",
       "      <th>2</th>\n",
       "      <td>岩手</td>\n",
       "      <td>1,059,293</td>\n",
       "    </tr>\n",
       "    <tr>\n",
       "      <th>3</th>\n",
       "      <td>宮城</td>\n",
       "      <td>1,915,548</td>\n",
       "    </tr>\n",
       "    <tr>\n",
       "      <th>4</th>\n",
       "      <td>秋田</td>\n",
       "      <td>868,937</td>\n",
       "    </tr>\n",
       "  </tbody>\n",
       "</table>\n",
       "</div>"
      ],
      "text/plain": [
       "  prefecture      adult\n",
       "0        北海道  4,509,363\n",
       "1         青森  1,103,183\n",
       "2         岩手  1,059,293\n",
       "3         宮城  1,915,548\n",
       "4         秋田    868,937"
      ]
     },
     "execution_count": 121,
     "metadata": {},
     "output_type": "execute_result"
    }
   ],
   "source": [
    "df1 = pd.read_csv(\"seijin.csv\",thousands=',')\n",
    "df1 = df1.drop(index=0).reset_index(drop=True)\n",
    "df1 = df1.rename(columns={'Unnamed: 0': 'prefecture',\"Unnamed: 1\":\"性別\" ,'Unnamed: 2': 'adult'})\n",
    "df1 = df1[::3].reset_index(drop=True)\n",
    "df1[\"prefecture\"] = df1[\"prefecture\"].str[:-2]\n",
    "df1 = df1.replace({'茨':'茨城','北海':'北海道'})\n",
    "df1 = df1.drop(index = [46],columns=['性別'])\n",
    "df1.head()"
   ]
  },
  {
   "cell_type": "code",
   "execution_count": 122,
   "metadata": {},
   "outputs": [
    {
     "data": {
      "text/html": [
       "<div>\n",
       "<style scoped>\n",
       "    .dataframe tbody tr th:only-of-type {\n",
       "        vertical-align: middle;\n",
       "    }\n",
       "\n",
       "    .dataframe tbody tr th {\n",
       "        vertical-align: top;\n",
       "    }\n",
       "\n",
       "    .dataframe thead th {\n",
       "        text-align: right;\n",
       "    }\n",
       "</style>\n",
       "<table border=\"1\" class=\"dataframe\">\n",
       "  <thead>\n",
       "    <tr style=\"text-align: right;\">\n",
       "      <th></th>\n",
       "      <th>prefecture</th>\n",
       "      <th>beer</th>\n",
       "      <th>adult</th>\n",
       "    </tr>\n",
       "  </thead>\n",
       "  <tbody>\n",
       "    <tr>\n",
       "      <th>0</th>\n",
       "      <td>北海道</td>\n",
       "      <td>113,097</td>\n",
       "      <td>4,509,363</td>\n",
       "    </tr>\n",
       "    <tr>\n",
       "      <th>1</th>\n",
       "      <td>青森</td>\n",
       "      <td>23,177</td>\n",
       "      <td>1,103,183</td>\n",
       "    </tr>\n",
       "    <tr>\n",
       "      <th>2</th>\n",
       "      <td>岩手</td>\n",
       "      <td>24,879</td>\n",
       "      <td>1,059,293</td>\n",
       "    </tr>\n",
       "    <tr>\n",
       "      <th>3</th>\n",
       "      <td>宮城</td>\n",
       "      <td>43,152</td>\n",
       "      <td>1,915,548</td>\n",
       "    </tr>\n",
       "    <tr>\n",
       "      <th>4</th>\n",
       "      <td>秋田</td>\n",
       "      <td>19,229</td>\n",
       "      <td>868,937</td>\n",
       "    </tr>\n",
       "  </tbody>\n",
       "</table>\n",
       "</div>"
      ],
      "text/plain": [
       "  prefecture     beer      adult\n",
       "0        北海道  113,097  4,509,363\n",
       "1         青森   23,177  1,103,183\n",
       "2         岩手   24,879  1,059,293\n",
       "3         宮城   43,152  1,915,548\n",
       "4         秋田   19,229    868,937"
      ]
     },
     "execution_count": 122,
     "metadata": {},
     "output_type": "execute_result"
    }
   ],
   "source": [
    "df_pre_beer = pd.merge(df0,df1,how=\"inner\")\n",
    "df_pre_beer.head()"
   ]
  },
  {
   "cell_type": "code",
   "execution_count": 111,
   "metadata": {},
   "outputs": [
    {
     "data": {
      "text/html": [
       "<div>\n",
       "<style scoped>\n",
       "    .dataframe tbody tr th:only-of-type {\n",
       "        vertical-align: middle;\n",
       "    }\n",
       "\n",
       "    .dataframe tbody tr th {\n",
       "        vertical-align: top;\n",
       "    }\n",
       "\n",
       "    .dataframe thead th {\n",
       "        text-align: right;\n",
       "    }\n",
       "</style>\n",
       "<table border=\"1\" class=\"dataframe\">\n",
       "  <thead>\n",
       "    <tr style=\"text-align: right;\">\n",
       "      <th></th>\n",
       "      <th>prefecture</th>\n",
       "      <th>beer</th>\n",
       "      <th>adult</th>\n",
       "      <th>thou</th>\n",
       "      <th>per_beer</th>\n",
       "    </tr>\n",
       "  </thead>\n",
       "  <tbody>\n",
       "    <tr>\n",
       "      <th>0</th>\n",
       "      <td>北海道</td>\n",
       "      <td>113097000</td>\n",
       "      <td>4509363</td>\n",
       "      <td>1000</td>\n",
       "      <td>25.080483</td>\n",
       "    </tr>\n",
       "    <tr>\n",
       "      <th>1</th>\n",
       "      <td>青森</td>\n",
       "      <td>23177000</td>\n",
       "      <td>1103183</td>\n",
       "      <td>1000</td>\n",
       "      <td>21.009207</td>\n",
       "    </tr>\n",
       "    <tr>\n",
       "      <th>2</th>\n",
       "      <td>岩手</td>\n",
       "      <td>24879000</td>\n",
       "      <td>1059293</td>\n",
       "      <td>1000</td>\n",
       "      <td>23.486420</td>\n",
       "    </tr>\n",
       "    <tr>\n",
       "      <th>3</th>\n",
       "      <td>宮城</td>\n",
       "      <td>43152000</td>\n",
       "      <td>1915548</td>\n",
       "      <td>1000</td>\n",
       "      <td>22.527235</td>\n",
       "    </tr>\n",
       "    <tr>\n",
       "      <th>4</th>\n",
       "      <td>秋田</td>\n",
       "      <td>19229000</td>\n",
       "      <td>868937</td>\n",
       "      <td>1000</td>\n",
       "      <td>22.129337</td>\n",
       "    </tr>\n",
       "  </tbody>\n",
       "</table>\n",
       "</div>"
      ],
      "text/plain": [
       "  prefecture       beer    adult  thou   per_beer\n",
       "0        北海道  113097000  4509363  1000  25.080483\n",
       "1         青森   23177000  1103183  1000  21.009207\n",
       "2         岩手   24879000  1059293  1000  23.486420\n",
       "3         宮城   43152000  1915548  1000  22.527235\n",
       "4         秋田   19229000   868937  1000  22.129337"
      ]
     },
     "execution_count": 111,
     "metadata": {},
     "output_type": "execute_result"
    }
   ],
   "source": [
    "df_pre_beer[\"beer\"]=df_pre_beer[\"beer\"].str.replace(',','')\n",
    "df_pre_beer[\"adult\"] = df_pre_beer[\"adult\"].str.replace(',','')\n",
    "df_pre_beer['beer'] = df_pre_beer['beer'].astype(int)\n",
    "df_pre_beer['adult'] = df_pre_beer['adult'].astype(int)\n",
    "df_pre_beer[\"thou\"] = 1000\n",
    "df_pre_beer[\"beer\"] = df_pre_beer[\"beer\"]*df_pre_beer[\"thou\"]\n",
    "df_pre_beer[\"per_beer\"] = df_pre_beer[\"beer\"] / df_pre_beer[\"adult\"]\n",
    "df_pre_beer.head()"
   ]
  },
  {
   "cell_type": "code",
   "execution_count": 112,
   "metadata": {},
   "outputs": [
    {
     "data": {
      "text/html": [
       "<div>\n",
       "<style scoped>\n",
       "    .dataframe tbody tr th:only-of-type {\n",
       "        vertical-align: middle;\n",
       "    }\n",
       "\n",
       "    .dataframe tbody tr th {\n",
       "        vertical-align: top;\n",
       "    }\n",
       "\n",
       "    .dataframe thead th {\n",
       "        text-align: right;\n",
       "    }\n",
       "</style>\n",
       "<table border=\"1\" class=\"dataframe\">\n",
       "  <thead>\n",
       "    <tr style=\"text-align: right;\">\n",
       "      <th></th>\n",
       "      <th>prefecture</th>\n",
       "      <th>per_beer</th>\n",
       "    </tr>\n",
       "  </thead>\n",
       "  <tbody>\n",
       "    <tr>\n",
       "      <th>0</th>\n",
       "      <td>北海道</td>\n",
       "      <td>25.080483</td>\n",
       "    </tr>\n",
       "    <tr>\n",
       "      <th>1</th>\n",
       "      <td>青森</td>\n",
       "      <td>21.009207</td>\n",
       "    </tr>\n",
       "    <tr>\n",
       "      <th>2</th>\n",
       "      <td>岩手</td>\n",
       "      <td>23.486420</td>\n",
       "    </tr>\n",
       "    <tr>\n",
       "      <th>3</th>\n",
       "      <td>宮城</td>\n",
       "      <td>22.527235</td>\n",
       "    </tr>\n",
       "    <tr>\n",
       "      <th>4</th>\n",
       "      <td>秋田</td>\n",
       "      <td>22.129337</td>\n",
       "    </tr>\n",
       "  </tbody>\n",
       "</table>\n",
       "</div>"
      ],
      "text/plain": [
       "  prefecture   per_beer\n",
       "0        北海道  25.080483\n",
       "1         青森  21.009207\n",
       "2         岩手  23.486420\n",
       "3         宮城  22.527235\n",
       "4         秋田  22.129337"
      ]
     },
     "execution_count": 112,
     "metadata": {},
     "output_type": "execute_result"
    }
   ],
   "source": [
    "df_new = df_pre_beer[[\"prefecture\",\"per_beer\"]]\n",
    "df_new.head()"
   ]
  },
  {
   "cell_type": "code",
   "execution_count": 113,
   "metadata": {},
   "outputs": [
    {
     "name": "stdout",
     "output_type": "stream",
     "text": [
      "Collecting japanize-matplotlib\n",
      "  Using cached japanize_matplotlib-1.1.3-py3-none-any.whl\n",
      "Requirement already satisfied: matplotlib in c:\\users\\shinj\\anaconda3\\envs\\test\\lib\\site-packages (from japanize-matplotlib) (3.3.2)\n",
      "Requirement already satisfied: numpy>=1.15 in c:\\users\\shinj\\anaconda3\\envs\\test\\lib\\site-packages (from matplotlib->japanize-matplotlib) (1.19.2)\n",
      "Requirement already satisfied: certifi>=2020.06.20 in c:\\users\\shinj\\anaconda3\\envs\\test\\lib\\site-packages (from matplotlib->japanize-matplotlib) (2020.12.5)\n",
      "Requirement already satisfied: pillow>=6.2.0 in c:\\users\\shinj\\anaconda3\\envs\\test\\lib\\site-packages (from matplotlib->japanize-matplotlib) (8.1.0)\n",
      "Requirement already satisfied: python-dateutil>=2.1 in c:\\users\\shinj\\anaconda3\\envs\\test\\lib\\site-packages (from matplotlib->japanize-matplotlib) (2.8.1)\n",
      "Requirement already satisfied: kiwisolver>=1.0.1 in c:\\users\\shinj\\anaconda3\\envs\\test\\lib\\site-packages (from matplotlib->japanize-matplotlib) (1.3.0)\n",
      "Requirement already satisfied: pyparsing!=2.0.4,!=2.1.2,!=2.1.6,>=2.0.3 in c:\\users\\shinj\\anaconda3\\envs\\test\\lib\\site-packages (from matplotlib->japanize-matplotlib) (2.4.7)\n",
      "Requirement already satisfied: cycler>=0.10 in c:\\users\\shinj\\anaconda3\\envs\\test\\lib\\site-packages (from matplotlib->japanize-matplotlib) (0.10.0)\n",
      "Requirement already satisfied: six in c:\\users\\shinj\\anaconda3\\envs\\test\\lib\\site-packages (from cycler>=0.10->matplotlib->japanize-matplotlib) (1.15.0)\n",
      "Installing collected packages: japanize-matplotlib\n",
      "Successfully installed japanize-matplotlib-1.1.3\n"
     ]
    }
   ],
   "source": [
    "#グラフの名前を日本語で表示するライブラリ\n",
    "!pip install japanize-matplotlib\n",
    "import japanize_matplotlib"
   ]
  },
  {
   "cell_type": "code",
   "execution_count": 114,
   "metadata": {},
   "outputs": [
    {
     "data": {
      "image/png": "[encoded data removed]",
      "text/plain": [
       "<Figure size 432x288 with 1 Axes>"
      ]
     },
     "metadata": {
      "needs_background": "light"
     },
     "output_type": "display_data"
    }
   ],
   "source": [
    "plt.hist(df_new[\"per_beer\"],bins = np.arange(46)+0.5,ec = \"white\")\n",
    "plt.xlabel(\"一人当たりビール消費量(L)\")\n",
    "plt.ylabel(\"頻度\")\n",
    "plt.show()\n",
    "pass"
   ]
  },
  {
   "cell_type": "code",
   "execution_count": 117,
   "metadata": {},
   "outputs": [
    {
     "data": {
      "text/html": [
       "<div>\n",
       "<style scoped>\n",
       "    .dataframe tbody tr th:only-of-type {\n",
       "        vertical-align: middle;\n",
       "    }\n",
       "\n",
       "    .dataframe tbody tr th {\n",
       "        vertical-align: top;\n",
       "    }\n",
       "\n",
       "    .dataframe thead th {\n",
       "        text-align: right;\n",
       "    }\n",
       "</style>\n",
       "<table border=\"1\" class=\"dataframe\">\n",
       "  <thead>\n",
       "    <tr style=\"text-align: right;\">\n",
       "      <th></th>\n",
       "      <th>prefecture</th>\n",
       "      <th>ave_temp</th>\n",
       "    </tr>\n",
       "  </thead>\n",
       "  <tbody>\n",
       "    <tr>\n",
       "      <th>0</th>\n",
       "      <td>北海道</td>\n",
       "      <td>9.5</td>\n",
       "    </tr>\n",
       "    <tr>\n",
       "      <th>1</th>\n",
       "      <td>青森</td>\n",
       "      <td>11.0</td>\n",
       "    </tr>\n",
       "    <tr>\n",
       "      <th>2</th>\n",
       "      <td>岩手</td>\n",
       "      <td>11.0</td>\n",
       "    </tr>\n",
       "    <tr>\n",
       "      <th>3</th>\n",
       "      <td>宮城</td>\n",
       "      <td>13.6</td>\n",
       "    </tr>\n",
       "    <tr>\n",
       "      <th>4</th>\n",
       "      <td>秋田</td>\n",
       "      <td>12.3</td>\n",
       "    </tr>\n",
       "  </tbody>\n",
       "</table>\n",
       "</div>"
      ],
      "text/plain": [
       "  prefecture  ave_temp\n",
       "0        北海道       9.5\n",
       "1         青森      11.0\n",
       "2         岩手      11.0\n",
       "3         宮城      13.6\n",
       "4         秋田      12.3"
      ]
     },
     "execution_count": 117,
     "metadata": {},
     "output_type": "execute_result"
    }
   ],
   "source": [
    "df_tmp = pd.read_csv(\"年平均気温.csv\")\n",
    "df_tmp[\"prefecture\"] = df_tmp[\"prefecture\"].str[:-1]\n",
    "df_tmp = df_tmp.replace({'北海':'北海道'})\n",
    "df_tmp.drop(index = [46])\n",
    "df_tmp.head()"
   ]
  },
  {
   "cell_type": "code",
   "execution_count": 118,
   "metadata": {},
   "outputs": [
    {
     "data": {
      "text/html": [
       "<div>\n",
       "<style scoped>\n",
       "    .dataframe tbody tr th:only-of-type {\n",
       "        vertical-align: middle;\n",
       "    }\n",
       "\n",
       "    .dataframe tbody tr th {\n",
       "        vertical-align: top;\n",
       "    }\n",
       "\n",
       "    .dataframe thead th {\n",
       "        text-align: right;\n",
       "    }\n",
       "</style>\n",
       "<table border=\"1\" class=\"dataframe\">\n",
       "  <thead>\n",
       "    <tr style=\"text-align: right;\">\n",
       "      <th></th>\n",
       "      <th>prefecture</th>\n",
       "      <th>per_beer</th>\n",
       "      <th>ave_temp</th>\n",
       "    </tr>\n",
       "  </thead>\n",
       "  <tbody>\n",
       "    <tr>\n",
       "      <th>0</th>\n",
       "      <td>北海道</td>\n",
       "      <td>25.080483</td>\n",
       "      <td>9.5</td>\n",
       "    </tr>\n",
       "    <tr>\n",
       "      <th>1</th>\n",
       "      <td>青森</td>\n",
       "      <td>21.009207</td>\n",
       "      <td>11.0</td>\n",
       "    </tr>\n",
       "    <tr>\n",
       "      <th>2</th>\n",
       "      <td>岩手</td>\n",
       "      <td>23.486420</td>\n",
       "      <td>11.0</td>\n",
       "    </tr>\n",
       "    <tr>\n",
       "      <th>3</th>\n",
       "      <td>宮城</td>\n",
       "      <td>22.527235</td>\n",
       "      <td>13.6</td>\n",
       "    </tr>\n",
       "    <tr>\n",
       "      <th>4</th>\n",
       "      <td>秋田</td>\n",
       "      <td>22.129337</td>\n",
       "      <td>12.3</td>\n",
       "    </tr>\n",
       "  </tbody>\n",
       "</table>\n",
       "</div>"
      ],
      "text/plain": [
       "  prefecture   per_beer  ave_temp\n",
       "0        北海道  25.080483       9.5\n",
       "1         青森  21.009207      11.0\n",
       "2         岩手  23.486420      11.0\n",
       "3         宮城  22.527235      13.6\n",
       "4         秋田  22.129337      12.3"
      ]
     },
     "execution_count": 118,
     "metadata": {},
     "output_type": "execute_result"
    }
   ],
   "source": [
    "df_ok = pd.merge(df_new,df_tmp,how=\"inner\")\n",
    "df_ok.head()"
   ]
  },
  {
   "cell_type": "code",
   "execution_count": 125,
   "metadata": {},
   "outputs": [
    {
     "data": {
      "image/png": "[encoded data removed]",
      "text/plain": [
       "<Figure size 432x288 with 1 Axes>"
      ]
     },
     "metadata": {
      "needs_background": "light"
     },
     "output_type": "display_data"
    }
   ],
   "source": [
    "#散布図を描くための下準備\n",
    "%matplotlib inline\n",
    "import matplotlib.pyplot as plt\n",
    "\n",
    "#図に使う変数の設定\n",
    "plt.plot(df_ok['per_beer'],df_ok['ave_temp'],\"o\")\n",
    "\n",
    "#軸の名前を設定\n",
    "plt.xlabel(\"ave_temp\")\n",
    "plt.ylabel(\"per_beer\")\n",
    "\n",
    "#メモリを入れる\n",
    "plt.grid(True)\n",
    "pass"
   ]
  },
  {
   "cell_type": "markdown",
   "metadata": {},
   "source": [
    "**回帰分析**"
   ]
  },
  {
   "cell_type": "code",
   "execution_count": 127,
   "metadata": {},
   "outputs": [],
   "source": [
    "y,x = df_ok['per_beer'],df_ok['ave_temp']"
   ]
  },
  {
   "cell_type": "code",
   "execution_count": 128,
   "metadata": {},
   "outputs": [
    {
     "data": {
      "text/plain": [
       "Intercept    27.378108\n",
       "x            -0.422595\n",
       "dtype: float64"
      ]
     },
     "execution_count": 128,
     "metadata": {},
     "output_type": "execute_result"
    }
   ],
   "source": [
    "#statsmodels\n",
    "formula = 'y ~ x'\n",
    "mod = ols(formula, data=df_ok)\n",
    "res = ols(formula, data=df_ok).fit()\n",
    "res.params\n",
    "#ols 最小二乗法"
   ]
  },
  {
   "cell_type": "markdown",
   "metadata": {},
   "source": [
    "$Y = \\acute{\\alpha} + \\acute{\\beta}X + \\acute{u}$より、  \n",
    "$Y = 27.378108 + -0.422595X + u$"
   ]
  },
  {
   "cell_type": "code",
   "execution_count": 129,
   "metadata": {},
   "outputs": [
    {
     "name": "stdout",
     "output_type": "stream",
     "text": [
      "                            OLS Regression Results                            \n",
      "==============================================================================\n",
      "Dep. Variable:                      y   R-squared:                       0.038\n",
      "Model:                            OLS   Adj. R-squared:                  0.016\n",
      "Method:                 Least Squares   F-statistic:                     1.735\n",
      "Date:                Tue, 02 Mar 2021   Prob (F-statistic):              0.195\n",
      "Time:                        18:46:20   Log-Likelihood:                -132.09\n",
      "No. Observations:                  46   AIC:                             268.2\n",
      "Df Residuals:                      44   BIC:                             271.8\n",
      "Df Model:                           1                                         \n",
      "Covariance Type:            nonrobust                                         \n",
      "==============================================================================\n",
      "                 coef    std err          t      P>|t|      [0.025      0.975]\n",
      "------------------------------------------------------------------------------\n",
      "Intercept     27.3781      5.131      5.336      0.000      17.038      37.719\n",
      "x             -0.4226      0.321     -1.317      0.195      -1.069       0.224\n",
      "==============================================================================\n",
      "Omnibus:                       44.781   Durbin-Watson:                   2.021\n",
      "Prob(Omnibus):                  0.000   Jarque-Bera (JB):              201.410\n",
      "Skew:                           2.395   Prob(JB):                     1.84e-44\n",
      "Kurtosis:                      12.063   Cond. No.                         128.\n",
      "==============================================================================\n",
      "\n",
      "Notes:\n",
      "[1] Standard Errors assume that the covariance matrix of the errors is correctly specified.\n"
     ]
    }
   ],
   "source": [
    "print(res.summary())"
   ]
  },
  {
   "cell_type": "markdown",
   "metadata": {},
   "source": [
    "R-squared:決定係数:\n",
    "$R^2 = 1-　\\displaystyle \\frac{\\Sigma\\hat{{u_i}^2}}{\\Sigma({y_i}-\\overline{y})^2}$  \n",
    "$0 \\leqq R^2 \\leqq 1$  "
   ]
  },
  {
   "cell_type": "markdown",
   "metadata": {},
   "source": [
    "std error:標準誤差"
   ]
  },
  {
   "cell_type": "code",
   "execution_count": 27,
   "metadata": {},
   "outputs": [
    {
     "name": "stdout",
     "output_type": "stream",
     "text": [
      "==============================================================================\n",
      "                 coef    std err          t      P>|t|      [0.025      0.975]\n",
      "------------------------------------------------------------------------------\n",
      "Intercept     27.3781      5.131      5.336      0.000      17.038      37.719\n",
      "x             -0.4226      0.321     -1.317      0.195      -1.069       0.224\n",
      "==============================================================================\n"
     ]
    }
   ],
   "source": [
    "print(res.summary().tables[1])"
   ]
  },
  {
   "cell_type": "markdown",
   "metadata": {},
   "source": [
    "1. やってみよう！"
   ]
  },
  {
   "cell_type": "markdown",
   "metadata": {},
   "source": [
    "資料ダウンロード用URL  \n",
    "http://www.yuhikaku.co.jp/static/studia_ws/index.html#isbn_9784641150287  \n",
    "『計量経済学の第一歩 -- 実証分析のススメ』  \n",
    "5　例題と練習問題で利用したデータ（csv形式，dta形式）[ZIP: 374KB]  \n",
    "**方法**  \n",
    "ファイルをダウンロードしたら解凍して、5_1_income.csvをjupyter notebookにアップロード"
   ]
  },
  {
   "cell_type": "code",
   "execution_count": 106,
   "metadata": {},
   "outputs": [
    {
     "data": {
      "text/html": [
       "<div>\n",
       "<style scoped>\n",
       "    .dataframe tbody tr th:only-of-type {\n",
       "        vertical-align: middle;\n",
       "    }\n",
       "\n",
       "    .dataframe tbody tr th {\n",
       "        vertical-align: top;\n",
       "    }\n",
       "\n",
       "    .dataframe thead th {\n",
       "        text-align: right;\n",
       "    }\n",
       "</style>\n",
       "<table border=\"1\" class=\"dataframe\">\n",
       "  <thead>\n",
       "    <tr style=\"text-align: right;\">\n",
       "      <th></th>\n",
       "      <th>yeduc</th>\n",
       "      <th>income</th>\n",
       "      <th>lincome</th>\n",
       "      <th>lyeduc</th>\n",
       "    </tr>\n",
       "  </thead>\n",
       "  <tbody>\n",
       "    <tr>\n",
       "      <th>0</th>\n",
       "      <td>9</td>\n",
       "      <td>100.0</td>\n",
       "      <td>4.605170</td>\n",
       "      <td>2.197225</td>\n",
       "    </tr>\n",
       "    <tr>\n",
       "      <th>1</th>\n",
       "      <td>9</td>\n",
       "      <td>50.0</td>\n",
       "      <td>3.912023</td>\n",
       "      <td>2.197225</td>\n",
       "    </tr>\n",
       "    <tr>\n",
       "      <th>2</th>\n",
       "      <td>9</td>\n",
       "      <td>150.0</td>\n",
       "      <td>5.010635</td>\n",
       "      <td>2.197225</td>\n",
       "    </tr>\n",
       "    <tr>\n",
       "      <th>3</th>\n",
       "      <td>9</td>\n",
       "      <td>200.0</td>\n",
       "      <td>5.298317</td>\n",
       "      <td>2.197225</td>\n",
       "    </tr>\n",
       "    <tr>\n",
       "      <th>4</th>\n",
       "      <td>9</td>\n",
       "      <td>150.0</td>\n",
       "      <td>5.010635</td>\n",
       "      <td>2.197225</td>\n",
       "    </tr>\n",
       "    <tr>\n",
       "      <th>...</th>\n",
       "      <td>...</td>\n",
       "      <td>...</td>\n",
       "      <td>...</td>\n",
       "      <td>...</td>\n",
       "    </tr>\n",
       "    <tr>\n",
       "      <th>4322</th>\n",
       "      <td>18</td>\n",
       "      <td>850.0</td>\n",
       "      <td>6.745236</td>\n",
       "      <td>2.890372</td>\n",
       "    </tr>\n",
       "    <tr>\n",
       "      <th>4323</th>\n",
       "      <td>18</td>\n",
       "      <td>700.0</td>\n",
       "      <td>6.551080</td>\n",
       "      <td>2.890372</td>\n",
       "    </tr>\n",
       "    <tr>\n",
       "      <th>4324</th>\n",
       "      <td>18</td>\n",
       "      <td>650.0</td>\n",
       "      <td>6.476973</td>\n",
       "      <td>2.890372</td>\n",
       "    </tr>\n",
       "    <tr>\n",
       "      <th>4325</th>\n",
       "      <td>18</td>\n",
       "      <td>650.0</td>\n",
       "      <td>6.476973</td>\n",
       "      <td>2.890372</td>\n",
       "    </tr>\n",
       "    <tr>\n",
       "      <th>4326</th>\n",
       "      <td>18</td>\n",
       "      <td>950.0</td>\n",
       "      <td>6.856462</td>\n",
       "      <td>2.890372</td>\n",
       "    </tr>\n",
       "  </tbody>\n",
       "</table>\n",
       "<p>4327 rows × 4 columns</p>\n",
       "</div>"
      ],
      "text/plain": [
       "      yeduc  income   lincome    lyeduc\n",
       "0         9   100.0  4.605170  2.197225\n",
       "1         9    50.0  3.912023  2.197225\n",
       "2         9   150.0  5.010635  2.197225\n",
       "3         9   200.0  5.298317  2.197225\n",
       "4         9   150.0  5.010635  2.197225\n",
       "...     ...     ...       ...       ...\n",
       "4322     18   850.0  6.745236  2.890372\n",
       "4323     18   700.0  6.551080  2.890372\n",
       "4324     18   650.0  6.476973  2.890372\n",
       "4325     18   650.0  6.476973  2.890372\n",
       "4326     18   950.0  6.856462  2.890372\n",
       "\n",
       "[4327 rows x 4 columns]"
      ]
     },
     "execution_count": 106,
     "metadata": {},
     "output_type": "execute_result"
    }
   ],
   "source": [
    "df_task1 = pd.read_csv(\"5_1_income.csv\")\n",
    "df_task1"
   ]
  },
  {
   "cell_type": "markdown",
   "metadata": {},
   "source": [
    "**データ説明**  \n",
    "yeduc:修学年数  \n",
    "income:年収(万円)  \n",
    "lincome:年収の対数値  \n",
    "lyeduc:修学年数の対数値"
   ]
  },
  {
   "cell_type": "markdown",
   "metadata": {},
   "source": [
    "このデータを使って、  \n",
    "$Y = \\beta_0 + \\beta_1X + U$  \n",
    "Y:年収,X:修学年数の単回帰分析を行ってみましょう。"
   ]
  },
  {
   "cell_type": "markdown",
   "metadata": {},
   "source": [
    "## 重回帰分析  <a id='sec1'></a>  \n",
    "[先頭に戻る](#top)  "
   ]
  },
  {
   "cell_type": "code",
   "execution_count": 75,
   "metadata": {},
   "outputs": [],
   "source": [
    "import numpy as np\n",
    "from scipy.stats import norm, uniform, gaussian_kde, multivariate_normal\n",
    "import pandas as pd\n",
    "from pandas.plotting import scatter_matrix\n",
    "import matplotlib.pyplot as plt\n",
    "from statsmodels.formula.api import ols\n",
    "from statsmodels.stats.outliers_influence import variance_inflation_factor as vif\n",
    "import seaborn as sns\n",
    "from see import see\n",
    "from sklearn.model_selection import train_test_split"
   ]
  },
  {
   "cell_type": "code",
   "execution_count": 72,
   "metadata": {},
   "outputs": [
    {
     "data": {
      "text/html": [
       "<div>\n",
       "<style scoped>\n",
       "    .dataframe tbody tr th:only-of-type {\n",
       "        vertical-align: middle;\n",
       "    }\n",
       "\n",
       "    .dataframe tbody tr th {\n",
       "        vertical-align: top;\n",
       "    }\n",
       "\n",
       "    .dataframe thead th {\n",
       "        text-align: right;\n",
       "    }\n",
       "</style>\n",
       "<table border=\"1\" class=\"dataframe\">\n",
       "  <thead>\n",
       "    <tr style=\"text-align: right;\">\n",
       "      <th></th>\n",
       "      <th>female</th>\n",
       "      <th>yeduc</th>\n",
       "      <th>lincome</th>\n",
       "      <th>female_yeduc</th>\n",
       "    </tr>\n",
       "  </thead>\n",
       "  <tbody>\n",
       "    <tr>\n",
       "      <th>0</th>\n",
       "      <td>0</td>\n",
       "      <td>9</td>\n",
       "      <td>4.605170</td>\n",
       "      <td>0</td>\n",
       "    </tr>\n",
       "    <tr>\n",
       "      <th>1</th>\n",
       "      <td>0</td>\n",
       "      <td>9</td>\n",
       "      <td>5.010635</td>\n",
       "      <td>0</td>\n",
       "    </tr>\n",
       "    <tr>\n",
       "      <th>2</th>\n",
       "      <td>0</td>\n",
       "      <td>9</td>\n",
       "      <td>4.605170</td>\n",
       "      <td>0</td>\n",
       "    </tr>\n",
       "    <tr>\n",
       "      <th>3</th>\n",
       "      <td>0</td>\n",
       "      <td>9</td>\n",
       "      <td>5.010635</td>\n",
       "      <td>0</td>\n",
       "    </tr>\n",
       "    <tr>\n",
       "      <th>4</th>\n",
       "      <td>0</td>\n",
       "      <td>9</td>\n",
       "      <td>5.329089</td>\n",
       "      <td>0</td>\n",
       "    </tr>\n",
       "    <tr>\n",
       "      <th>...</th>\n",
       "      <td>...</td>\n",
       "      <td>...</td>\n",
       "      <td>...</td>\n",
       "      <td>...</td>\n",
       "    </tr>\n",
       "    <tr>\n",
       "      <th>4281</th>\n",
       "      <td>1</td>\n",
       "      <td>18</td>\n",
       "      <td>6.396930</td>\n",
       "      <td>18</td>\n",
       "    </tr>\n",
       "    <tr>\n",
       "      <th>4282</th>\n",
       "      <td>1</td>\n",
       "      <td>18</td>\n",
       "      <td>6.396930</td>\n",
       "      <td>18</td>\n",
       "    </tr>\n",
       "    <tr>\n",
       "      <th>4283</th>\n",
       "      <td>1</td>\n",
       "      <td>18</td>\n",
       "      <td>6.551080</td>\n",
       "      <td>18</td>\n",
       "    </tr>\n",
       "    <tr>\n",
       "      <th>4284</th>\n",
       "      <td>1</td>\n",
       "      <td>18</td>\n",
       "      <td>6.396930</td>\n",
       "      <td>18</td>\n",
       "    </tr>\n",
       "    <tr>\n",
       "      <th>4285</th>\n",
       "      <td>1</td>\n",
       "      <td>18</td>\n",
       "      <td>6.620073</td>\n",
       "      <td>18</td>\n",
       "    </tr>\n",
       "  </tbody>\n",
       "</table>\n",
       "<p>4286 rows × 4 columns</p>\n",
       "</div>"
      ],
      "text/plain": [
       "      female  yeduc   lincome  female_yeduc\n",
       "0          0      9  4.605170             0\n",
       "1          0      9  5.010635             0\n",
       "2          0      9  4.605170             0\n",
       "3          0      9  5.010635             0\n",
       "4          0      9  5.329089             0\n",
       "...      ...    ...       ...           ...\n",
       "4281       1     18  6.396930            18\n",
       "4282       1     18  6.396930            18\n",
       "4283       1     18  6.551080            18\n",
       "4284       1     18  6.396930            18\n",
       "4285       1     18  6.620073            18\n",
       "\n",
       "[4286 rows x 4 columns]"
      ]
     },
     "execution_count": 72,
     "metadata": {},
     "output_type": "execute_result"
    }
   ],
   "source": [
    "df_multi = pd.read_csv(\"7_1_income.csv\")\n",
    "df_multi"
   ]
  },
  {
   "cell_type": "markdown",
   "metadata": {},
   "source": [
    "まづ、このモデルを当てはめてみる。  \n",
    "$lincome = \\beta_0 + \\beta_1{yeduc} + \\sigma_0{female} + U$"
   ]
  },
  {
   "cell_type": "code",
   "execution_count": 83,
   "metadata": {},
   "outputs": [],
   "source": [
    "#被説明変数と説明変数を追加\n",
    "formula_1 = \"lincome ~ yeduc + female\""
   ]
  },
  {
   "cell_type": "code",
   "execution_count": 84,
   "metadata": {},
   "outputs": [],
   "source": [
    "#fit()で関数に代入\n",
    "res_1 = ols(formula_1,data = df_multi).fit()"
   ]
  },
  {
   "cell_type": "code",
   "execution_count": 86,
   "metadata": {},
   "outputs": [
    {
     "data": {
      "text/plain": [
       "Intercept    4.863272\n",
       "yeduc        0.058598\n",
       "female      -0.832148\n",
       "dtype: float64"
      ]
     },
     "execution_count": 86,
     "metadata": {},
     "output_type": "execute_result"
    }
   ],
   "source": [
    "#係数の推定値はparamsで習得可能\n",
    "res_1.params"
   ]
  },
  {
   "cell_type": "code",
   "execution_count": 88,
   "metadata": {},
   "outputs": [
    {
     "data": {
      "text/html": [
       "<table class=\"simpletable\">\n",
       "<caption>OLS Regression Results</caption>\n",
       "<tr>\n",
       "  <th>Dep. Variable:</th>         <td>lincome</td>     <th>  R-squared:         </th> <td>   0.220</td> \n",
       "</tr>\n",
       "<tr>\n",
       "  <th>Model:</th>                   <td>OLS</td>       <th>  Adj. R-squared:    </th> <td>   0.220</td> \n",
       "</tr>\n",
       "<tr>\n",
       "  <th>Method:</th>             <td>Least Squares</td>  <th>  F-statistic:       </th> <td>   605.0</td> \n",
       "</tr>\n",
       "<tr>\n",
       "  <th>Date:</th>             <td>Tue, 02 Mar 2021</td> <th>  Prob (F-statistic):</th> <td>3.98e-232</td>\n",
       "</tr>\n",
       "<tr>\n",
       "  <th>Time:</th>                 <td>16:42:58</td>     <th>  Log-Likelihood:    </th> <td> -5265.0</td> \n",
       "</tr>\n",
       "<tr>\n",
       "  <th>No. Observations:</th>      <td>  4286</td>      <th>  AIC:               </th> <td>1.054e+04</td>\n",
       "</tr>\n",
       "<tr>\n",
       "  <th>Df Residuals:</th>          <td>  4283</td>      <th>  BIC:               </th> <td>1.056e+04</td>\n",
       "</tr>\n",
       "<tr>\n",
       "  <th>Df Model:</th>              <td>     2</td>      <th>                     </th>     <td> </td>    \n",
       "</tr>\n",
       "<tr>\n",
       "  <th>Covariance Type:</th>      <td>nonrobust</td>    <th>                     </th>     <td> </td>    \n",
       "</tr>\n",
       "</table>\n",
       "<table class=\"simpletable\">\n",
       "<tr>\n",
       "      <td></td>         <th>coef</th>     <th>std err</th>      <th>t</th>      <th>P>|t|</th>  <th>[0.025</th>    <th>0.975]</th>  \n",
       "</tr>\n",
       "<tr>\n",
       "  <th>Intercept</th> <td>    4.8633</td> <td>    0.096</td> <td>   50.593</td> <td> 0.000</td> <td>    4.675</td> <td>    5.052</td>\n",
       "</tr>\n",
       "<tr>\n",
       "  <th>yeduc</th>     <td>    0.0586</td> <td>    0.007</td> <td>    8.696</td> <td> 0.000</td> <td>    0.045</td> <td>    0.072</td>\n",
       "</tr>\n",
       "<tr>\n",
       "  <th>female</th>    <td>   -0.8321</td> <td>    0.025</td> <td>  -32.827</td> <td> 0.000</td> <td>   -0.882</td> <td>   -0.782</td>\n",
       "</tr>\n",
       "</table>\n",
       "<table class=\"simpletable\">\n",
       "<tr>\n",
       "  <th>Omnibus:</th>       <td>1327.704</td> <th>  Durbin-Watson:     </th> <td>   0.912</td>\n",
       "</tr>\n",
       "<tr>\n",
       "  <th>Prob(Omnibus):</th>  <td> 0.000</td>  <th>  Jarque-Bera (JB):  </th> <td>4079.440</td>\n",
       "</tr>\n",
       "<tr>\n",
       "  <th>Skew:</th>           <td>-1.594</td>  <th>  Prob(JB):          </th> <td>    0.00</td>\n",
       "</tr>\n",
       "<tr>\n",
       "  <th>Kurtosis:</th>       <td> 6.562</td>  <th>  Cond. No.          </th> <td>    107.</td>\n",
       "</tr>\n",
       "</table><br/><br/>Notes:<br/>[1] Standard Errors assume that the covariance matrix of the errors is correctly specified."
      ],
      "text/plain": [
       "<class 'statsmodels.iolib.summary.Summary'>\n",
       "\"\"\"\n",
       "                            OLS Regression Results                            \n",
       "==============================================================================\n",
       "Dep. Variable:                lincome   R-squared:                       0.220\n",
       "Model:                            OLS   Adj. R-squared:                  0.220\n",
       "Method:                 Least Squares   F-statistic:                     605.0\n",
       "Date:                Tue, 02 Mar 2021   Prob (F-statistic):          3.98e-232\n",
       "Time:                        16:42:58   Log-Likelihood:                -5265.0\n",
       "No. Observations:                4286   AIC:                         1.054e+04\n",
       "Df Residuals:                    4283   BIC:                         1.056e+04\n",
       "Df Model:                           2                                         \n",
       "Covariance Type:            nonrobust                                         \n",
       "==============================================================================\n",
       "                 coef    std err          t      P>|t|      [0.025      0.975]\n",
       "------------------------------------------------------------------------------\n",
       "Intercept      4.8633      0.096     50.593      0.000       4.675       5.052\n",
       "yeduc          0.0586      0.007      8.696      0.000       0.045       0.072\n",
       "female        -0.8321      0.025    -32.827      0.000      -0.882      -0.782\n",
       "==============================================================================\n",
       "Omnibus:                     1327.704   Durbin-Watson:                   0.912\n",
       "Prob(Omnibus):                  0.000   Jarque-Bera (JB):             4079.440\n",
       "Skew:                          -1.594   Prob(JB):                         0.00\n",
       "Kurtosis:                       6.562   Cond. No.                         107.\n",
       "==============================================================================\n",
       "\n",
       "Notes:\n",
       "[1] Standard Errors assume that the covariance matrix of the errors is correctly specified.\n",
       "\"\"\""
      ]
     },
     "execution_count": 88,
     "metadata": {},
     "output_type": "execute_result"
    }
   ],
   "source": [
    "res_1.summary()"
   ]
  },
  {
   "cell_type": "code",
   "execution_count": 105,
   "metadata": {},
   "outputs": [
    {
     "data": {
      "text/html": [
       "<div>\n",
       "<style scoped>\n",
       "    .dataframe tbody tr th:only-of-type {\n",
       "        vertical-align: middle;\n",
       "    }\n",
       "\n",
       "    .dataframe tbody tr th {\n",
       "        vertical-align: top;\n",
       "    }\n",
       "\n",
       "    .dataframe thead th {\n",
       "        text-align: right;\n",
       "    }\n",
       "</style>\n",
       "<table border=\"1\" class=\"dataframe\">\n",
       "  <thead>\n",
       "    <tr style=\"text-align: right;\">\n",
       "      <th></th>\n",
       "      <th>childu6</th>\n",
       "      <th>income_s</th>\n",
       "      <th>mowork15</th>\n",
       "      <th>work</th>\n",
       "    </tr>\n",
       "  </thead>\n",
       "  <tbody>\n",
       "    <tr>\n",
       "      <th>0</th>\n",
       "      <td>0</td>\n",
       "      <td>0.0</td>\n",
       "      <td>1</td>\n",
       "      <td>0</td>\n",
       "    </tr>\n",
       "    <tr>\n",
       "      <th>1</th>\n",
       "      <td>0</td>\n",
       "      <td>0.0</td>\n",
       "      <td>1</td>\n",
       "      <td>0</td>\n",
       "    </tr>\n",
       "    <tr>\n",
       "      <th>2</th>\n",
       "      <td>1</td>\n",
       "      <td>0.0</td>\n",
       "      <td>0</td>\n",
       "      <td>1</td>\n",
       "    </tr>\n",
       "    <tr>\n",
       "      <th>3</th>\n",
       "      <td>1</td>\n",
       "      <td>0.0</td>\n",
       "      <td>1</td>\n",
       "      <td>1</td>\n",
       "    </tr>\n",
       "    <tr>\n",
       "      <th>4</th>\n",
       "      <td>0</td>\n",
       "      <td>12.5</td>\n",
       "      <td>0</td>\n",
       "      <td>0</td>\n",
       "    </tr>\n",
       "    <tr>\n",
       "      <th>...</th>\n",
       "      <td>...</td>\n",
       "      <td>...</td>\n",
       "      <td>...</td>\n",
       "      <td>...</td>\n",
       "    </tr>\n",
       "    <tr>\n",
       "      <th>1048</th>\n",
       "      <td>1</td>\n",
       "      <td>1500.0</td>\n",
       "      <td>1</td>\n",
       "      <td>1</td>\n",
       "    </tr>\n",
       "    <tr>\n",
       "      <th>1049</th>\n",
       "      <td>1</td>\n",
       "      <td>1500.0</td>\n",
       "      <td>1</td>\n",
       "      <td>1</td>\n",
       "    </tr>\n",
       "    <tr>\n",
       "      <th>1050</th>\n",
       "      <td>0</td>\n",
       "      <td>2000.0</td>\n",
       "      <td>1</td>\n",
       "      <td>0</td>\n",
       "    </tr>\n",
       "    <tr>\n",
       "      <th>1051</th>\n",
       "      <td>0</td>\n",
       "      <td>2250.0</td>\n",
       "      <td>1</td>\n",
       "      <td>0</td>\n",
       "    </tr>\n",
       "    <tr>\n",
       "      <th>1052</th>\n",
       "      <td>1</td>\n",
       "      <td>2250.0</td>\n",
       "      <td>0</td>\n",
       "      <td>0</td>\n",
       "    </tr>\n",
       "  </tbody>\n",
       "</table>\n",
       "<p>1053 rows × 4 columns</p>\n",
       "</div>"
      ],
      "text/plain": [
       "      childu6  income_s  mowork15  work\n",
       "0           0       0.0         1     0\n",
       "1           0       0.0         1     0\n",
       "2           1       0.0         0     1\n",
       "3           1       0.0         1     1\n",
       "4           0      12.5         0     0\n",
       "...       ...       ...       ...   ...\n",
       "1048        1    1500.0         1     1\n",
       "1049        1    1500.0         1     1\n",
       "1050        0    2000.0         1     0\n",
       "1051        0    2250.0         1     0\n",
       "1052        1    2250.0         0     0\n",
       "\n",
       "[1053 rows x 4 columns]"
      ]
     },
     "execution_count": 105,
     "metadata": {},
     "output_type": "execute_result"
    }
   ],
   "source": [
    "df_multi2 = pd.read_csv(\"7_2_work.csv\")\n",
    "df_multi2"
   ]
  },
  {
   "cell_type": "code",
   "execution_count": 89,
   "metadata": {},
   "outputs": [],
   "source": [
    "formula_2 = \"lincome ~ yeduc + female + female_yeduc\""
   ]
  },
  {
   "cell_type": "code",
   "execution_count": 90,
   "metadata": {},
   "outputs": [],
   "source": [
    "#fit()で関数に代入\n",
    "res_2 = ols(formula_2,data = df_multi).fit()"
   ]
  },
  {
   "cell_type": "code",
   "execution_count": 91,
   "metadata": {},
   "outputs": [
    {
     "data": {
      "text/plain": [
       "Intercept       5.346896\n",
       "yeduc           0.024095\n",
       "female         -2.079202\n",
       "female_yeduc    0.090229\n",
       "dtype: float64"
      ]
     },
     "execution_count": 91,
     "metadata": {},
     "output_type": "execute_result"
    }
   ],
   "source": [
    "#係数の推定値はparamsで習得可能\n",
    "res_2.params"
   ]
  },
  {
   "cell_type": "code",
   "execution_count": 92,
   "metadata": {},
   "outputs": [
    {
     "data": {
      "text/html": [
       "<table class=\"simpletable\">\n",
       "<caption>OLS Regression Results</caption>\n",
       "<tr>\n",
       "  <th>Dep. Variable:</th>         <td>lincome</td>     <th>  R-squared:         </th> <td>   0.228</td> \n",
       "</tr>\n",
       "<tr>\n",
       "  <th>Model:</th>                   <td>OLS</td>       <th>  Adj. R-squared:    </th> <td>   0.227</td> \n",
       "</tr>\n",
       "<tr>\n",
       "  <th>Method:</th>             <td>Least Squares</td>  <th>  F-statistic:       </th> <td>   421.5</td> \n",
       "</tr>\n",
       "<tr>\n",
       "  <th>Date:</th>             <td>Tue, 02 Mar 2021</td> <th>  Prob (F-statistic):</th> <td>6.50e-240</td>\n",
       "</tr>\n",
       "<tr>\n",
       "  <th>Time:</th>                 <td>16:43:41</td>     <th>  Log-Likelihood:    </th> <td> -5243.7</td> \n",
       "</tr>\n",
       "<tr>\n",
       "  <th>No. Observations:</th>      <td>  4286</td>      <th>  AIC:               </th> <td>1.050e+04</td>\n",
       "</tr>\n",
       "<tr>\n",
       "  <th>Df Residuals:</th>          <td>  4282</td>      <th>  BIC:               </th> <td>1.052e+04</td>\n",
       "</tr>\n",
       "<tr>\n",
       "  <th>Df Model:</th>              <td>     3</td>      <th>                     </th>     <td> </td>    \n",
       "</tr>\n",
       "<tr>\n",
       "  <th>Covariance Type:</th>      <td>nonrobust</td>    <th>                     </th>     <td> </td>    \n",
       "</tr>\n",
       "</table>\n",
       "<table class=\"simpletable\">\n",
       "<tr>\n",
       "        <td></td>          <th>coef</th>     <th>std err</th>      <th>t</th>      <th>P>|t|</th>  <th>[0.025</th>    <th>0.975]</th>  \n",
       "</tr>\n",
       "<tr>\n",
       "  <th>Intercept</th>    <td>    5.3469</td> <td>    0.121</td> <td>   44.218</td> <td> 0.000</td> <td>    5.110</td> <td>    5.584</td>\n",
       "</tr>\n",
       "<tr>\n",
       "  <th>yeduc</th>        <td>    0.0241</td> <td>    0.009</td> <td>    2.824</td> <td> 0.005</td> <td>    0.007</td> <td>    0.041</td>\n",
       "</tr>\n",
       "<tr>\n",
       "  <th>female</th>       <td>   -2.0792</td> <td>    0.192</td> <td>  -10.807</td> <td> 0.000</td> <td>   -2.456</td> <td>   -1.702</td>\n",
       "</tr>\n",
       "<tr>\n",
       "  <th>female_yeduc</th> <td>    0.0902</td> <td>    0.014</td> <td>    6.538</td> <td> 0.000</td> <td>    0.063</td> <td>    0.117</td>\n",
       "</tr>\n",
       "</table>\n",
       "<table class=\"simpletable\">\n",
       "<tr>\n",
       "  <th>Omnibus:</th>       <td>1316.225</td> <th>  Durbin-Watson:     </th> <td>   0.922</td>\n",
       "</tr>\n",
       "<tr>\n",
       "  <th>Prob(Omnibus):</th>  <td> 0.000</td>  <th>  Jarque-Bera (JB):  </th> <td>4018.870</td>\n",
       "</tr>\n",
       "<tr>\n",
       "  <th>Skew:</th>           <td>-1.582</td>  <th>  Prob(JB):          </th> <td>    0.00</td>\n",
       "</tr>\n",
       "<tr>\n",
       "  <th>Kurtosis:</th>       <td> 6.535</td>  <th>  Cond. No.          </th> <td>    267.</td>\n",
       "</tr>\n",
       "</table><br/><br/>Notes:<br/>[1] Standard Errors assume that the covariance matrix of the errors is correctly specified."
      ],
      "text/plain": [
       "<class 'statsmodels.iolib.summary.Summary'>\n",
       "\"\"\"\n",
       "                            OLS Regression Results                            \n",
       "==============================================================================\n",
       "Dep. Variable:                lincome   R-squared:                       0.228\n",
       "Model:                            OLS   Adj. R-squared:                  0.227\n",
       "Method:                 Least Squares   F-statistic:                     421.5\n",
       "Date:                Tue, 02 Mar 2021   Prob (F-statistic):          6.50e-240\n",
       "Time:                        16:43:41   Log-Likelihood:                -5243.7\n",
       "No. Observations:                4286   AIC:                         1.050e+04\n",
       "Df Residuals:                    4282   BIC:                         1.052e+04\n",
       "Df Model:                           3                                         \n",
       "Covariance Type:            nonrobust                                         \n",
       "================================================================================\n",
       "                   coef    std err          t      P>|t|      [0.025      0.975]\n",
       "--------------------------------------------------------------------------------\n",
       "Intercept        5.3469      0.121     44.218      0.000       5.110       5.584\n",
       "yeduc            0.0241      0.009      2.824      0.005       0.007       0.041\n",
       "female          -2.0792      0.192    -10.807      0.000      -2.456      -1.702\n",
       "female_yeduc     0.0902      0.014      6.538      0.000       0.063       0.117\n",
       "==============================================================================\n",
       "Omnibus:                     1316.225   Durbin-Watson:                   0.922\n",
       "Prob(Omnibus):                  0.000   Jarque-Bera (JB):             4018.870\n",
       "Skew:                          -1.582   Prob(JB):                         0.00\n",
       "Kurtosis:                       6.535   Cond. No.                         267.\n",
       "==============================================================================\n",
       "\n",
       "Notes:\n",
       "[1] Standard Errors assume that the covariance matrix of the errors is correctly specified.\n",
       "\"\"\""
      ]
     },
     "execution_count": 92,
     "metadata": {},
     "output_type": "execute_result"
    }
   ],
   "source": [
    "res_2.summary()"
   ]
  },
  {
   "cell_type": "markdown",
   "metadata": {},
   "source": [
    "重回帰分析において注意すべきこと  \n",
    "多重共線性"
   ]
  },
  {
   "cell_type": "markdown",
   "metadata": {},
   "source": [
    "**予測**"
   ]
  },
  {
   "cell_type": "code",
   "execution_count": 93,
   "metadata": {},
   "outputs": [],
   "source": [
    "t = df_multi[\"lincome\"].values\n",
    "x = df_multi.drop(labels=[\"lincome\"],axis = 1).values"
   ]
  },
  {
   "cell_type": "code",
   "execution_count": 94,
   "metadata": {},
   "outputs": [],
   "source": [
    "#テストデータと訓練データの分割\n",
    "x_train,x_test,t_train,t_test = train_test_split(x, t, test_size=0.3,random_state=0)"
   ]
  },
  {
   "cell_type": "code",
   "execution_count": 95,
   "metadata": {},
   "outputs": [
    {
     "name": "stdout",
     "output_type": "stream",
     "text": [
      "1286\n",
      "3000\n"
     ]
    }
   ],
   "source": [
    "print(len(x_test))\n",
    "print(len(x_train))"
   ]
  },
  {
   "cell_type": "code",
   "execution_count": 96,
   "metadata": {},
   "outputs": [
    {
     "data": {
      "text/plain": [
       "LinearRegression()"
      ]
     },
     "execution_count": 96,
     "metadata": {},
     "output_type": "execute_result"
    }
   ],
   "source": [
    "#アルゴリズムの宣言\n",
    "from sklearn.linear_model import LinearRegression\n",
    "model = LinearRegression()\n",
    "model"
   ]
  },
  {
   "cell_type": "code",
   "execution_count": 97,
   "metadata": {},
   "outputs": [
    {
     "data": {
      "text/plain": [
       "LinearRegression()"
      ]
     },
     "execution_count": 97,
     "metadata": {},
     "output_type": "execute_result"
    }
   ],
   "source": [
    "#モデルに使用するデータを当てはめる。\n",
    "model.fit(x_train,t_train)"
   ]
  },
  {
   "cell_type": "code",
   "execution_count": 102,
   "metadata": {},
   "outputs": [
    {
     "data": {
      "text/plain": [
       "array([-2.28530809,  0.02641009,  0.10565518])"
      ]
     },
     "execution_count": 102,
     "metadata": {},
     "output_type": "execute_result"
    }
   ],
   "source": [
    "#係数\n",
    "model.coef_"
   ]
  },
  {
   "cell_type": "code",
   "execution_count": 99,
   "metadata": {},
   "outputs": [
    {
     "data": {
      "text/plain": [
       "5.3190721788468185"
      ]
     },
     "execution_count": 99,
     "metadata": {},
     "output_type": "execute_result"
    }
   ],
   "source": [
    "#切片が確認できる。\n",
    "model.intercept_"
   ]
  },
  {
   "cell_type": "code",
   "execution_count": 103,
   "metadata": {},
   "outputs": [
    {
     "name": "stdout",
     "output_type": "stream",
     "text": [
      "train score:0.2344087804351943\n",
      "test score:0.21131738969368719\n"
     ]
    }
   ],
   "source": [
    "#決定係数の表示\n",
    "print(f\"train score:{model.score(x_train,t_train)}\")\n",
    "print(f\"test score:{model.score(x_test, t_test)}\")"
   ]
  },
  {
   "cell_type": "markdown",
   "metadata": {},
   "source": [
    "この予測の精度を高めることを目標する分野が機械学習です！\n",
    "有名なモデルでは、決定木(ランダムフォレスト)があります。"
   ]
  },
  {
   "cell_type": "code",
   "execution_count": null,
   "metadata": {},
   "outputs": [],
   "source": []
  },
  {
   "cell_type": "code",
   "execution_count": 134,
   "metadata": {},
   "outputs": [
    {
     "data": {
      "text/html": [
       "<div>\n",
       "<style scoped>\n",
       "    .dataframe tbody tr th:only-of-type {\n",
       "        vertical-align: middle;\n",
       "    }\n",
       "\n",
       "    .dataframe tbody tr th {\n",
       "        vertical-align: top;\n",
       "    }\n",
       "\n",
       "    .dataframe thead th {\n",
       "        text-align: right;\n",
       "    }\n",
       "</style>\n",
       "<table border=\"1\" class=\"dataframe\">\n",
       "  <thead>\n",
       "    <tr style=\"text-align: right;\">\n",
       "      <th></th>\n",
       "      <th>CRIM</th>\n",
       "      <th>ZN</th>\n",
       "      <th>INDUS</th>\n",
       "      <th>CHAS</th>\n",
       "      <th>NOX</th>\n",
       "      <th>RM</th>\n",
       "      <th>AGE</th>\n",
       "      <th>DIS</th>\n",
       "      <th>RAD</th>\n",
       "      <th>TAX</th>\n",
       "      <th>PTRATIO</th>\n",
       "      <th>B</th>\n",
       "      <th>LSTAT</th>\n",
       "      <th>Target</th>\n",
       "    </tr>\n",
       "  </thead>\n",
       "  <tbody>\n",
       "    <tr>\n",
       "      <th>0</th>\n",
       "      <td>0.00632</td>\n",
       "      <td>18.0</td>\n",
       "      <td>2.31</td>\n",
       "      <td>0.0</td>\n",
       "      <td>0.538</td>\n",
       "      <td>6.575</td>\n",
       "      <td>65.2</td>\n",
       "      <td>4.0900</td>\n",
       "      <td>1.0</td>\n",
       "      <td>296.0</td>\n",
       "      <td>15.3</td>\n",
       "      <td>396.90</td>\n",
       "      <td>4.98</td>\n",
       "      <td>24.0</td>\n",
       "    </tr>\n",
       "    <tr>\n",
       "      <th>1</th>\n",
       "      <td>0.02731</td>\n",
       "      <td>0.0</td>\n",
       "      <td>7.07</td>\n",
       "      <td>0.0</td>\n",
       "      <td>0.469</td>\n",
       "      <td>6.421</td>\n",
       "      <td>78.9</td>\n",
       "      <td>4.9671</td>\n",
       "      <td>2.0</td>\n",
       "      <td>242.0</td>\n",
       "      <td>17.8</td>\n",
       "      <td>396.90</td>\n",
       "      <td>9.14</td>\n",
       "      <td>21.6</td>\n",
       "    </tr>\n",
       "    <tr>\n",
       "      <th>2</th>\n",
       "      <td>0.02729</td>\n",
       "      <td>0.0</td>\n",
       "      <td>7.07</td>\n",
       "      <td>0.0</td>\n",
       "      <td>0.469</td>\n",
       "      <td>7.185</td>\n",
       "      <td>61.1</td>\n",
       "      <td>4.9671</td>\n",
       "      <td>2.0</td>\n",
       "      <td>242.0</td>\n",
       "      <td>17.8</td>\n",
       "      <td>392.83</td>\n",
       "      <td>4.03</td>\n",
       "      <td>34.7</td>\n",
       "    </tr>\n",
       "    <tr>\n",
       "      <th>3</th>\n",
       "      <td>0.03237</td>\n",
       "      <td>0.0</td>\n",
       "      <td>2.18</td>\n",
       "      <td>0.0</td>\n",
       "      <td>0.458</td>\n",
       "      <td>6.998</td>\n",
       "      <td>45.8</td>\n",
       "      <td>6.0622</td>\n",
       "      <td>3.0</td>\n",
       "      <td>222.0</td>\n",
       "      <td>18.7</td>\n",
       "      <td>394.63</td>\n",
       "      <td>2.94</td>\n",
       "      <td>33.4</td>\n",
       "    </tr>\n",
       "    <tr>\n",
       "      <th>4</th>\n",
       "      <td>0.06905</td>\n",
       "      <td>0.0</td>\n",
       "      <td>2.18</td>\n",
       "      <td>0.0</td>\n",
       "      <td>0.458</td>\n",
       "      <td>7.147</td>\n",
       "      <td>54.2</td>\n",
       "      <td>6.0622</td>\n",
       "      <td>3.0</td>\n",
       "      <td>222.0</td>\n",
       "      <td>18.7</td>\n",
       "      <td>396.90</td>\n",
       "      <td>5.33</td>\n",
       "      <td>36.2</td>\n",
       "    </tr>\n",
       "  </tbody>\n",
       "</table>\n",
       "</div>"
      ],
      "text/plain": [
       "      CRIM    ZN  INDUS  CHAS    NOX     RM   AGE     DIS  RAD    TAX  \\\n",
       "0  0.00632  18.0   2.31   0.0  0.538  6.575  65.2  4.0900  1.0  296.0   \n",
       "1  0.02731   0.0   7.07   0.0  0.469  6.421  78.9  4.9671  2.0  242.0   \n",
       "2  0.02729   0.0   7.07   0.0  0.469  7.185  61.1  4.9671  2.0  242.0   \n",
       "3  0.03237   0.0   2.18   0.0  0.458  6.998  45.8  6.0622  3.0  222.0   \n",
       "4  0.06905   0.0   2.18   0.0  0.458  7.147  54.2  6.0622  3.0  222.0   \n",
       "\n",
       "   PTRATIO       B  LSTAT  Target  \n",
       "0     15.3  396.90   4.98    24.0  \n",
       "1     17.8  396.90   9.14    21.6  \n",
       "2     17.8  392.83   4.03    34.7  \n",
       "3     18.7  394.63   2.94    33.4  \n",
       "4     18.7  396.90   5.33    36.2  "
      ]
     },
     "execution_count": 134,
     "metadata": {},
     "output_type": "execute_result"
    }
   ],
   "source": [
    "from sklearn.datasets import load_boston\n",
    "dataset  = load_boston()\n",
    "x,t = dataset.data,dataset.target\n",
    "columns = dataset.feature_names\n",
    "df = pd.DataFrame(x, columns=columns)\n",
    "df[\"Target\"] = t\n",
    "df.head()"
   ]
  },
  {
   "cell_type": "markdown",
   "metadata": {},
   "source": [
    "この表の中から、Targetを被説明変数として、重回帰分析をしてみましょう。"
   ]
  },
  {
   "cell_type": "code",
   "execution_count": 135,
   "metadata": {},
   "outputs": [],
   "source": [
    "#.valuesでnumpyになる\n",
    "t = df[\"Target\"].values\n",
    "x = df.drop(labels=[\"Target\"],axis = 1).values"
   ]
  }
 ],
 "metadata": {
  "kernelspec": {
   "display_name": "Python 3",
   "language": "python",
   "name": "python3"
  },
  "language_info": {
   "codemirror_mode": {
    "name": "ipython",
    "version": 3
   },
   "file_extension": ".py",
   "mimetype": "text/x-python",
   "name": "python",
   "nbconvert_exporter": "python",
   "pygments_lexer": "ipython3",
   "version": "3.7.9"
  }
 },
 "nbformat": 4,
 "nbformat_minor": 4
}
