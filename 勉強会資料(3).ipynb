{
 "cells": [
  {
   "cell_type": "markdown",
   "metadata": {},
   "source": [
    "# Python勉強会(3・仮)<a id='top'></a>"
   ]
  },
  {
   "cell_type": "markdown",
   "metadata": {},
   "source": [
    "###  目次\n",
    "1. [単回帰分析](#sec1)"
   ]
  },
  {
   "cell_type": "markdown",
   "metadata": {},
   "source": [
    "今回は、回帰分析を行います！いよいよ、勉強会も後半に突入です。"
   ]
  },
  {
   "cell_type": "code",
   "execution_count": 4,
   "metadata": {},
   "outputs": [],
   "source": [
    "import numpy as np\n",
    "import pandas as pd\n",
    "from scipy.stats import norm\n",
    "import matplotlib.pyplot as plt\n",
    "from statsmodels.formula.api import ols  # 回帰分析のパッケージ\n",
    "from see import see  # 属性を調べるパッケージ"
   ]
  },
  {
   "cell_type": "markdown",
   "metadata": {},
   "source": [
    "**単回帰分析**  <a id='sec1'></a>  \n",
    "[先頭に戻る](#top)  "
   ]
  },
  {
   "cell_type": "markdown",
   "metadata": {},
   "source": [
    "**単回帰分析**  \n",
    "ある変数XとYが存在し、それら二つの変数に何らかの関係が存在することが仮定できるとき、もっとも簡単に$Y = \\alpha + \\beta X$と書けます。  このモデルは、Xが決定すると、Yも一意に定まるので、決定的モデルと言われます。  \n",
    "これを現実の現象で考えてみましょう。  "
   ]
  },
  {
   "cell_type": "markdown",
   "metadata": {},
   "source": [
    "例えば、鉄には熱によって膨張するという性質(熱膨張)が備わっています。  鉄道会社に勤めるAさんは、気温と熱の関係を調べるように要請されました。そこで、資料を確認すると、下の図と散布図が載っていました。"
   ]
  },
  {
   "cell_type": "code",
   "execution_count": 231,
   "metadata": {},
   "outputs": [
    {
     "name": "stdout",
     "output_type": "stream",
     "text": [
      "   heat  length\n",
      "0    10    1001\n",
      "1    15    1005\n",
      "2    20    1007\n",
      "3    25    1007\n",
      "4    30    1012\n"
     ]
    },
    {
     "data": {
      "image/png": "[encoded data removed]",
      "text/plain": [
       "<Figure size 432x288 with 1 Axes>"
      ]
     },
     "metadata": {
      "needs_background": "light"
     },
     "output_type": "display_data"
    }
   ],
   "source": [
    "list = [[10,1001],[15,1005],[20,1007],[25,1007],[30,1012]]\n",
    "df = pd.DataFrame(list)\n",
    "df.columns=['heat', 'length']\n",
    "print(df)\n",
    "plt.plot(df['heat'],df['length'],\"o\")\n",
    "plt.xlabel(\"heat\")\n",
    "plt.ylabel(\"length\")\n",
    "plt.grid(True)\n",
    "pass"
   ]
  },
  {
   "cell_type": "markdown",
   "metadata": {},
   "source": [
    "ある程度、一直線の関係が存在しているように思えます。そこで、Aさんは先ほどの式、$Y = \\alpha + \\beta X$を思い出し、当てはめてみようと考えました。しかし、Aさんは次のことに思い当たりました。  \n",
    "「たしかに、この散布図は一直線のようにも見えるけど、正確には一直線ではないな。もしかしたら、測るときに誤差が生じているのかもしれない。」"
   ]
  },
  {
   "cell_type": "markdown",
   "metadata": {},
   "source": [
    "この考えに基づき、先ほどの決定的モデルに\"誤差$u$\"を加えた式が、分析の際に一般に使われます。  \n",
    "$Y = \\alpha + \\beta X + u$  \n",
    "この式を、確率モデルといいます。"
   ]
  },
  {
   "cell_type": "markdown",
   "metadata": {},
   "source": [
    "この式について、さらに見ていきます。  \n",
    "$\\alpha$が特定の値、$\\acute{alpha}$を取るとき、$Y$は、$\\acute{y}$をとります。  \n",
    "$Y = \\acute{\\alpha} + \\acute{\\beta}X + \\acute{u}$  \n",
    "この式を変形すると、  \n",
    "$\\acute{u} = Y - \\acute{\\alpha} - \\acute{\\beta}X $    \n",
    "この$\\acute{u}$のことを残差と言います。  \n",
    "そして、この残差の二乗した残差二乗和を最小化する$\\alpha$,$\\beta$を求める方法を**最小二乗法**と言います。"
   ]
  },
  {
   "cell_type": "markdown",
   "metadata": {},
   "source": [
    "ここからは、ビールの消費量と気候の関係性について分析する。"
   ]
  },
  {
   "cell_type": "markdown",
   "metadata": {},
   "source": [
    "平成30年度分 酒税課税関係等状況表:https://www.nta.go.jp/taxes/sake/tokei/kazeikankei2018/01.htm "
   ]
  },
  {
   "cell_type": "code",
   "execution_count": 8,
   "metadata": {},
   "outputs": [
    {
     "data": {
      "text/html": [
       "<div>\n",
       "<style scoped>\n",
       "    .dataframe tbody tr th:only-of-type {\n",
       "        vertical-align: middle;\n",
       "    }\n",
       "\n",
       "    .dataframe tbody tr th {\n",
       "        vertical-align: top;\n",
       "    }\n",
       "\n",
       "    .dataframe thead th {\n",
       "        text-align: right;\n",
       "    }\n",
       "</style>\n",
       "<table border=\"1\" class=\"dataframe\">\n",
       "  <thead>\n",
       "    <tr style=\"text-align: right;\">\n",
       "      <th></th>\n",
       "      <th>prefecture</th>\n",
       "      <th>beer</th>\n",
       "    </tr>\n",
       "  </thead>\n",
       "  <tbody>\n",
       "    <tr>\n",
       "      <th>0</th>\n",
       "      <td>北海道</td>\n",
       "      <td>113,097</td>\n",
       "    </tr>\n",
       "    <tr>\n",
       "      <th>1</th>\n",
       "      <td>青森</td>\n",
       "      <td>23,177</td>\n",
       "    </tr>\n",
       "    <tr>\n",
       "      <th>2</th>\n",
       "      <td>岩手</td>\n",
       "      <td>24,879</td>\n",
       "    </tr>\n",
       "    <tr>\n",
       "      <th>3</th>\n",
       "      <td>宮城</td>\n",
       "      <td>43,152</td>\n",
       "    </tr>\n",
       "    <tr>\n",
       "      <th>4</th>\n",
       "      <td>秋田</td>\n",
       "      <td>19,229</td>\n",
       "    </tr>\n",
       "  </tbody>\n",
       "</table>\n",
       "</div>"
      ],
      "text/plain": [
       "  prefecture     beer\n",
       "0        北海道  113,097\n",
       "1         青森   23,177\n",
       "2         岩手   24,879\n",
       "3         宮城   43,152\n",
       "4         秋田   19,229"
      ]
     },
     "execution_count": 8,
     "metadata": {},
     "output_type": "execute_result"
    }
   ],
   "source": [
    "df0 = pd.read_csv(\"ビールExcel.csv\")\n",
    "df0.head()"
   ]
  },
  {
   "cell_type": "code",
   "execution_count": 9,
   "metadata": {},
   "outputs": [
    {
     "data": {
      "text/html": [
       "<div>\n",
       "<style scoped>\n",
       "    .dataframe tbody tr th:only-of-type {\n",
       "        vertical-align: middle;\n",
       "    }\n",
       "\n",
       "    .dataframe tbody tr th {\n",
       "        vertical-align: top;\n",
       "    }\n",
       "\n",
       "    .dataframe thead th {\n",
       "        text-align: right;\n",
       "    }\n",
       "</style>\n",
       "<table border=\"1\" class=\"dataframe\">\n",
       "  <thead>\n",
       "    <tr style=\"text-align: right;\">\n",
       "      <th></th>\n",
       "      <th>Unnamed: 0</th>\n",
       "      <th>Unnamed: 1</th>\n",
       "      <th>Unnamed: 2</th>\n",
       "    </tr>\n",
       "  </thead>\n",
       "  <tbody>\n",
       "    <tr>\n",
       "      <th>0</th>\n",
       "      <td>都道府県名</td>\n",
       "      <td>性別</td>\n",
       "      <td>成人人数</td>\n",
       "    </tr>\n",
       "    <tr>\n",
       "      <th>1</th>\n",
       "      <td>北海道*</td>\n",
       "      <td>計</td>\n",
       "      <td>4,509,363</td>\n",
       "    </tr>\n",
       "    <tr>\n",
       "      <th>2</th>\n",
       "      <td>北海道*</td>\n",
       "      <td>男</td>\n",
       "      <td>2,098,789</td>\n",
       "    </tr>\n",
       "    <tr>\n",
       "      <th>3</th>\n",
       "      <td>北海道*</td>\n",
       "      <td>女</td>\n",
       "      <td>2,410,574</td>\n",
       "    </tr>\n",
       "    <tr>\n",
       "      <th>4</th>\n",
       "      <td>青森県*</td>\n",
       "      <td>計</td>\n",
       "      <td>1,103,183</td>\n",
       "    </tr>\n",
       "  </tbody>\n",
       "</table>\n",
       "</div>"
      ],
      "text/plain": [
       "  Unnamed: 0 Unnamed: 1 Unnamed: 2\n",
       "0      都道府県名         性別       成人人数\n",
       "1       北海道*          計  4,509,363\n",
       "2       北海道*          男  2,098,789\n",
       "3       北海道*          女  2,410,574\n",
       "4       青森県*          計  1,103,183"
      ]
     },
     "execution_count": 9,
     "metadata": {},
     "output_type": "execute_result"
    }
   ],
   "source": [
    "df1 = pd.read_csv(\"seijin.csv\",thousands=',')\n",
    "df1.head()"
   ]
  },
  {
   "cell_type": "code",
   "execution_count": 10,
   "metadata": {},
   "outputs": [
    {
     "data": {
      "text/html": [
       "<div>\n",
       "<style scoped>\n",
       "    .dataframe tbody tr th:only-of-type {\n",
       "        vertical-align: middle;\n",
       "    }\n",
       "\n",
       "    .dataframe tbody tr th {\n",
       "        vertical-align: top;\n",
       "    }\n",
       "\n",
       "    .dataframe thead th {\n",
       "        text-align: right;\n",
       "    }\n",
       "</style>\n",
       "<table border=\"1\" class=\"dataframe\">\n",
       "  <thead>\n",
       "    <tr style=\"text-align: right;\">\n",
       "      <th></th>\n",
       "      <th>prefecture</th>\n",
       "      <th>adult</th>\n",
       "    </tr>\n",
       "  </thead>\n",
       "  <tbody>\n",
       "    <tr>\n",
       "      <th>0</th>\n",
       "      <td>北海道</td>\n",
       "      <td>4,509,363</td>\n",
       "    </tr>\n",
       "    <tr>\n",
       "      <th>1</th>\n",
       "      <td>青森</td>\n",
       "      <td>1,103,183</td>\n",
       "    </tr>\n",
       "    <tr>\n",
       "      <th>2</th>\n",
       "      <td>岩手</td>\n",
       "      <td>1,059,293</td>\n",
       "    </tr>\n",
       "    <tr>\n",
       "      <th>3</th>\n",
       "      <td>宮城</td>\n",
       "      <td>1,915,548</td>\n",
       "    </tr>\n",
       "    <tr>\n",
       "      <th>4</th>\n",
       "      <td>秋田</td>\n",
       "      <td>868,937</td>\n",
       "    </tr>\n",
       "  </tbody>\n",
       "</table>\n",
       "</div>"
      ],
      "text/plain": [
       "  prefecture      adult\n",
       "0        北海道  4,509,363\n",
       "1         青森  1,103,183\n",
       "2         岩手  1,059,293\n",
       "3         宮城  1,915,548\n",
       "4         秋田    868,937"
      ]
     },
     "execution_count": 10,
     "metadata": {},
     "output_type": "execute_result"
    }
   ],
   "source": [
    "df1 = pd.read_csv(\"seijin.csv\",thousands=',')\n",
    "df1 = df1.drop(index=0).reset_index(drop=True)\n",
    "df1 = df1.rename(columns={'Unnamed: 0': 'prefecture',\"Unnamed: 1\":\"性別\" ,'Unnamed: 2': 'adult'})\n",
    "df1 = df1[::3].reset_index(drop=True)\n",
    "df1[\"prefecture\"] = df1[\"prefecture\"].str[:-2]\n",
    "df1 = df1.replace({'茨':'茨城','北海':'北海道'})\n",
    "df1 = df1.drop(index = [46],columns=['性別'])\n",
    "df1.head()"
   ]
  },
  {
   "cell_type": "code",
   "execution_count": 11,
   "metadata": {},
   "outputs": [
    {
     "data": {
      "text/html": [
       "<div>\n",
       "<style scoped>\n",
       "    .dataframe tbody tr th:only-of-type {\n",
       "        vertical-align: middle;\n",
       "    }\n",
       "\n",
       "    .dataframe tbody tr th {\n",
       "        vertical-align: top;\n",
       "    }\n",
       "\n",
       "    .dataframe thead th {\n",
       "        text-align: right;\n",
       "    }\n",
       "</style>\n",
       "<table border=\"1\" class=\"dataframe\">\n",
       "  <thead>\n",
       "    <tr style=\"text-align: right;\">\n",
       "      <th></th>\n",
       "      <th>prefecture</th>\n",
       "      <th>beer</th>\n",
       "      <th>adult</th>\n",
       "    </tr>\n",
       "  </thead>\n",
       "  <tbody>\n",
       "    <tr>\n",
       "      <th>0</th>\n",
       "      <td>北海道</td>\n",
       "      <td>113,097</td>\n",
       "      <td>4,509,363</td>\n",
       "    </tr>\n",
       "    <tr>\n",
       "      <th>1</th>\n",
       "      <td>青森</td>\n",
       "      <td>23,177</td>\n",
       "      <td>1,103,183</td>\n",
       "    </tr>\n",
       "    <tr>\n",
       "      <th>2</th>\n",
       "      <td>岩手</td>\n",
       "      <td>24,879</td>\n",
       "      <td>1,059,293</td>\n",
       "    </tr>\n",
       "    <tr>\n",
       "      <th>3</th>\n",
       "      <td>宮城</td>\n",
       "      <td>43,152</td>\n",
       "      <td>1,915,548</td>\n",
       "    </tr>\n",
       "    <tr>\n",
       "      <th>4</th>\n",
       "      <td>秋田</td>\n",
       "      <td>19,229</td>\n",
       "      <td>868,937</td>\n",
       "    </tr>\n",
       "  </tbody>\n",
       "</table>\n",
       "</div>"
      ],
      "text/plain": [
       "  prefecture     beer      adult\n",
       "0        北海道  113,097  4,509,363\n",
       "1         青森   23,177  1,103,183\n",
       "2         岩手   24,879  1,059,293\n",
       "3         宮城   43,152  1,915,548\n",
       "4         秋田   19,229    868,937"
      ]
     },
     "execution_count": 11,
     "metadata": {},
     "output_type": "execute_result"
    }
   ],
   "source": [
    "df_pre_beer = pd.merge(df0,df1,how=\"inner\")\n",
    "df_pre_beer.head()"
   ]
  },
  {
   "cell_type": "code",
   "execution_count": 12,
   "metadata": {},
   "outputs": [
    {
     "name": "stdout",
     "output_type": "stream",
     "text": [
      "object\n",
      "object\n"
     ]
    }
   ],
   "source": [
    "print(df_pre_beer[\"beer\"].dtype)\n",
    "print(df_pre_beer[\"adult\"].dtype)"
   ]
  },
  {
   "cell_type": "code",
   "execution_count": 13,
   "metadata": {},
   "outputs": [
    {
     "data": {
      "text/html": [
       "<div>\n",
       "<style scoped>\n",
       "    .dataframe tbody tr th:only-of-type {\n",
       "        vertical-align: middle;\n",
       "    }\n",
       "\n",
       "    .dataframe tbody tr th {\n",
       "        vertical-align: top;\n",
       "    }\n",
       "\n",
       "    .dataframe thead th {\n",
       "        text-align: right;\n",
       "    }\n",
       "</style>\n",
       "<table border=\"1\" class=\"dataframe\">\n",
       "  <thead>\n",
       "    <tr style=\"text-align: right;\">\n",
       "      <th></th>\n",
       "      <th>prefecture</th>\n",
       "      <th>beer</th>\n",
       "      <th>adult</th>\n",
       "      <th>thou</th>\n",
       "      <th>per_beer</th>\n",
       "    </tr>\n",
       "  </thead>\n",
       "  <tbody>\n",
       "    <tr>\n",
       "      <th>0</th>\n",
       "      <td>北海道</td>\n",
       "      <td>113097000</td>\n",
       "      <td>4509363</td>\n",
       "      <td>1000</td>\n",
       "      <td>25.080483</td>\n",
       "    </tr>\n",
       "    <tr>\n",
       "      <th>1</th>\n",
       "      <td>青森</td>\n",
       "      <td>23177000</td>\n",
       "      <td>1103183</td>\n",
       "      <td>1000</td>\n",
       "      <td>21.009207</td>\n",
       "    </tr>\n",
       "    <tr>\n",
       "      <th>2</th>\n",
       "      <td>岩手</td>\n",
       "      <td>24879000</td>\n",
       "      <td>1059293</td>\n",
       "      <td>1000</td>\n",
       "      <td>23.486420</td>\n",
       "    </tr>\n",
       "    <tr>\n",
       "      <th>3</th>\n",
       "      <td>宮城</td>\n",
       "      <td>43152000</td>\n",
       "      <td>1915548</td>\n",
       "      <td>1000</td>\n",
       "      <td>22.527235</td>\n",
       "    </tr>\n",
       "    <tr>\n",
       "      <th>4</th>\n",
       "      <td>秋田</td>\n",
       "      <td>19229000</td>\n",
       "      <td>868937</td>\n",
       "      <td>1000</td>\n",
       "      <td>22.129337</td>\n",
       "    </tr>\n",
       "  </tbody>\n",
       "</table>\n",
       "</div>"
      ],
      "text/plain": [
       "  prefecture       beer    adult  thou   per_beer\n",
       "0        北海道  113097000  4509363  1000  25.080483\n",
       "1         青森   23177000  1103183  1000  21.009207\n",
       "2         岩手   24879000  1059293  1000  23.486420\n",
       "3         宮城   43152000  1915548  1000  22.527235\n",
       "4         秋田   19229000   868937  1000  22.129337"
      ]
     },
     "execution_count": 13,
     "metadata": {},
     "output_type": "execute_result"
    }
   ],
   "source": [
    "df_pre_beer[\"beer\"]=df_pre_beer[\"beer\"].str.replace(',','')\n",
    "df_pre_beer[\"adult\"] = df_pre_beer[\"adult\"].str.replace(',','')\n",
    "df_pre_beer['beer'] = df_pre_beer['beer'].astype(int)\n",
    "df_pre_beer['adult'] = df_pre_beer['adult'].astype(int)\n",
    "df_pre_beer[\"thou\"] = 1000\n",
    "df_pre_beer[\"beer\"] = df_pre_beer[\"beer\"]*df_pre_beer[\"thou\"]\n",
    "df_pre_beer[\"per_beer\"] = df_pre_beer[\"beer\"] / df_pre_beer[\"adult\"]\n",
    "df_pre_beer.head()"
   ]
  },
  {
   "cell_type": "code",
   "execution_count": 18,
   "metadata": {},
   "outputs": [
    {
     "data": {
      "text/html": [
       "<div>\n",
       "<style scoped>\n",
       "    .dataframe tbody tr th:only-of-type {\n",
       "        vertical-align: middle;\n",
       "    }\n",
       "\n",
       "    .dataframe tbody tr th {\n",
       "        vertical-align: top;\n",
       "    }\n",
       "\n",
       "    .dataframe thead th {\n",
       "        text-align: right;\n",
       "    }\n",
       "</style>\n",
       "<table border=\"1\" class=\"dataframe\">\n",
       "  <thead>\n",
       "    <tr style=\"text-align: right;\">\n",
       "      <th></th>\n",
       "      <th>prefecture</th>\n",
       "      <th>per_beer</th>\n",
       "    </tr>\n",
       "  </thead>\n",
       "  <tbody>\n",
       "    <tr>\n",
       "      <th>0</th>\n",
       "      <td>北海道</td>\n",
       "      <td>25.080483</td>\n",
       "    </tr>\n",
       "    <tr>\n",
       "      <th>1</th>\n",
       "      <td>青森</td>\n",
       "      <td>21.009207</td>\n",
       "    </tr>\n",
       "    <tr>\n",
       "      <th>2</th>\n",
       "      <td>岩手</td>\n",
       "      <td>23.486420</td>\n",
       "    </tr>\n",
       "    <tr>\n",
       "      <th>3</th>\n",
       "      <td>宮城</td>\n",
       "      <td>22.527235</td>\n",
       "    </tr>\n",
       "    <tr>\n",
       "      <th>4</th>\n",
       "      <td>秋田</td>\n",
       "      <td>22.129337</td>\n",
       "    </tr>\n",
       "  </tbody>\n",
       "</table>\n",
       "</div>"
      ],
      "text/plain": [
       "  prefecture   per_beer\n",
       "0        北海道  25.080483\n",
       "1         青森  21.009207\n",
       "2         岩手  23.486420\n",
       "3         宮城  22.527235\n",
       "4         秋田  22.129337"
      ]
     },
     "execution_count": 18,
     "metadata": {},
     "output_type": "execute_result"
    }
   ],
   "source": [
    "df_new = df_pre_beer[[\"prefecture\",\"per_beer\"]]\n",
    "df_new.head()"
   ]
  },
  {
   "cell_type": "code",
   "execution_count": 19,
   "metadata": {},
   "outputs": [
    {
     "name": "stdout",
     "output_type": "stream",
     "text": [
      "Requirement already satisfied: japanize-matplotlib in c:\\users\\shinj\\anaconda3\\lib\\site-packages (1.1.3)\n",
      "Requirement already satisfied: matplotlib in c:\\users\\shinj\\anaconda3\\lib\\site-packages (from japanize-matplotlib) (3.3.1)\n",
      "Requirement already satisfied: cycler>=0.10 in c:\\users\\shinj\\anaconda3\\lib\\site-packages (from matplotlib->japanize-matplotlib) (0.10.0)\n",
      "Requirement already satisfied: pillow>=6.2.0 in c:\\users\\shinj\\anaconda3\\lib\\site-packages (from matplotlib->japanize-matplotlib) (8.1.0)\n",
      "Requirement already satisfied: kiwisolver>=1.0.1 in c:\\users\\shinj\\anaconda3\\lib\\site-packages (from matplotlib->japanize-matplotlib) (1.2.0)\n",
      "Requirement already satisfied: python-dateutil>=2.1 in c:\\users\\shinj\\anaconda3\\lib\\site-packages (from matplotlib->japanize-matplotlib) (2.8.1)\n",
      "Requirement already satisfied: certifi>=2020.06.20 in c:\\users\\shinj\\anaconda3\\lib\\site-packages (from matplotlib->japanize-matplotlib) (2020.12.5)\n",
      "Requirement already satisfied: pyparsing!=2.0.4,!=2.1.2,!=2.1.6,>=2.0.3 in c:\\users\\shinj\\anaconda3\\lib\\site-packages (from matplotlib->japanize-matplotlib) (2.4.7)\n",
      "Requirement already satisfied: numpy>=1.15 in c:\\users\\shinj\\anaconda3\\lib\\site-packages (from matplotlib->japanize-matplotlib) (1.19.2)\n",
      "Requirement already satisfied: six in c:\\users\\shinj\\anaconda3\\lib\\site-packages (from cycler>=0.10->matplotlib->japanize-matplotlib) (1.15.0)\n"
     ]
    }
   ],
   "source": [
    "#グラフの名前を日本語で表示するライブラリ\n",
    "!pip install japanize-matplotlib\n",
    "import japanize_matplotlib"
   ]
  },
  {
   "cell_type": "code",
   "execution_count": 20,
   "metadata": {},
   "outputs": [
    {
     "data": {
      "image/png": "[encoded data removed]",
      "text/plain": [
       "<Figure size 432x288 with 1 Axes>"
      ]
     },
     "metadata": {
      "needs_background": "light"
     },
     "output_type": "display_data"
    }
   ],
   "source": [
    "plt.hist(df_new[\"per_beer\"],bins = np.arange(46)+0.5,ec =\"w\")\n",
    "plt.xlabel(\"一人当たりビール消費量(L)\")\n",
    "plt.ylabel(\"頻度\")\n",
    "plt.show()\n",
    "pass"
   ]
  },
  {
   "cell_type": "code",
   "execution_count": 21,
   "metadata": {},
   "outputs": [
    {
     "data": {
      "text/html": [
       "<div>\n",
       "<style scoped>\n",
       "    .dataframe tbody tr th:only-of-type {\n",
       "        vertical-align: middle;\n",
       "    }\n",
       "\n",
       "    .dataframe tbody tr th {\n",
       "        vertical-align: top;\n",
       "    }\n",
       "\n",
       "    .dataframe thead th {\n",
       "        text-align: right;\n",
       "    }\n",
       "</style>\n",
       "<table border=\"1\" class=\"dataframe\">\n",
       "  <thead>\n",
       "    <tr style=\"text-align: right;\">\n",
       "      <th></th>\n",
       "      <th>prefecture</th>\n",
       "      <th>ave_temp</th>\n",
       "    </tr>\n",
       "  </thead>\n",
       "  <tbody>\n",
       "    <tr>\n",
       "      <th>0</th>\n",
       "      <td>北海道</td>\n",
       "      <td>9.5</td>\n",
       "    </tr>\n",
       "    <tr>\n",
       "      <th>1</th>\n",
       "      <td>青森</td>\n",
       "      <td>11.0</td>\n",
       "    </tr>\n",
       "    <tr>\n",
       "      <th>2</th>\n",
       "      <td>岩手</td>\n",
       "      <td>11.0</td>\n",
       "    </tr>\n",
       "    <tr>\n",
       "      <th>3</th>\n",
       "      <td>宮城</td>\n",
       "      <td>13.6</td>\n",
       "    </tr>\n",
       "    <tr>\n",
       "      <th>4</th>\n",
       "      <td>秋田</td>\n",
       "      <td>12.3</td>\n",
       "    </tr>\n",
       "  </tbody>\n",
       "</table>\n",
       "</div>"
      ],
      "text/plain": [
       "  prefecture  ave_temp\n",
       "0        北海道       9.5\n",
       "1         青森      11.0\n",
       "2         岩手      11.0\n",
       "3         宮城      13.6\n",
       "4         秋田      12.3"
      ]
     },
     "execution_count": 21,
     "metadata": {},
     "output_type": "execute_result"
    }
   ],
   "source": [
    "df_tmp = pd.read_csv(\"年平均気温.csv\")\n",
    "df_tmp[\"prefecture\"] = df_tmp[\"prefecture\"].str[:-1]\n",
    "df_tmp = df_tmp.replace({'北海':'北海道'})\n",
    "df_tmp.drop(index = [46])\n",
    "df_tmp.head()"
   ]
  },
  {
   "cell_type": "code",
   "execution_count": 22,
   "metadata": {},
   "outputs": [
    {
     "data": {
      "text/html": [
       "<div>\n",
       "<style scoped>\n",
       "    .dataframe tbody tr th:only-of-type {\n",
       "        vertical-align: middle;\n",
       "    }\n",
       "\n",
       "    .dataframe tbody tr th {\n",
       "        vertical-align: top;\n",
       "    }\n",
       "\n",
       "    .dataframe thead th {\n",
       "        text-align: right;\n",
       "    }\n",
       "</style>\n",
       "<table border=\"1\" class=\"dataframe\">\n",
       "  <thead>\n",
       "    <tr style=\"text-align: right;\">\n",
       "      <th></th>\n",
       "      <th>prefecture</th>\n",
       "      <th>per_beer</th>\n",
       "      <th>ave_temp</th>\n",
       "    </tr>\n",
       "  </thead>\n",
       "  <tbody>\n",
       "    <tr>\n",
       "      <th>0</th>\n",
       "      <td>北海道</td>\n",
       "      <td>25.080483</td>\n",
       "      <td>9.5</td>\n",
       "    </tr>\n",
       "    <tr>\n",
       "      <th>1</th>\n",
       "      <td>青森</td>\n",
       "      <td>21.009207</td>\n",
       "      <td>11.0</td>\n",
       "    </tr>\n",
       "    <tr>\n",
       "      <th>2</th>\n",
       "      <td>岩手</td>\n",
       "      <td>23.486420</td>\n",
       "      <td>11.0</td>\n",
       "    </tr>\n",
       "    <tr>\n",
       "      <th>3</th>\n",
       "      <td>宮城</td>\n",
       "      <td>22.527235</td>\n",
       "      <td>13.6</td>\n",
       "    </tr>\n",
       "    <tr>\n",
       "      <th>4</th>\n",
       "      <td>秋田</td>\n",
       "      <td>22.129337</td>\n",
       "      <td>12.3</td>\n",
       "    </tr>\n",
       "    <tr>\n",
       "      <th>5</th>\n",
       "      <td>山形</td>\n",
       "      <td>21.397989</td>\n",
       "      <td>12.6</td>\n",
       "    </tr>\n",
       "    <tr>\n",
       "      <th>6</th>\n",
       "      <td>福島</td>\n",
       "      <td>21.432113</td>\n",
       "      <td>14.2</td>\n",
       "    </tr>\n",
       "    <tr>\n",
       "      <th>7</th>\n",
       "      <td>茨城</td>\n",
       "      <td>17.562926</td>\n",
       "      <td>15.3</td>\n",
       "    </tr>\n",
       "    <tr>\n",
       "      <th>8</th>\n",
       "      <td>栃木</td>\n",
       "      <td>18.717050</td>\n",
       "      <td>15.2</td>\n",
       "    </tr>\n",
       "    <tr>\n",
       "      <th>9</th>\n",
       "      <td>群馬</td>\n",
       "      <td>18.032882</td>\n",
       "      <td>16.1</td>\n",
       "    </tr>\n",
       "    <tr>\n",
       "      <th>10</th>\n",
       "      <td>埼玉</td>\n",
       "      <td>14.903861</td>\n",
       "      <td>16.4</td>\n",
       "    </tr>\n",
       "    <tr>\n",
       "      <th>11</th>\n",
       "      <td>新潟</td>\n",
       "      <td>23.965128</td>\n",
       "      <td>14.3</td>\n",
       "    </tr>\n",
       "    <tr>\n",
       "      <th>12</th>\n",
       "      <td>長野</td>\n",
       "      <td>22.760517</td>\n",
       "      <td>13.0</td>\n",
       "    </tr>\n",
       "    <tr>\n",
       "      <th>13</th>\n",
       "      <td>千葉</td>\n",
       "      <td>16.343311</td>\n",
       "      <td>17.2</td>\n",
       "    </tr>\n",
       "    <tr>\n",
       "      <th>14</th>\n",
       "      <td>東京</td>\n",
       "      <td>40.555320</td>\n",
       "      <td>16.8</td>\n",
       "    </tr>\n",
       "    <tr>\n",
       "      <th>15</th>\n",
       "      <td>神奈川</td>\n",
       "      <td>20.038409</td>\n",
       "      <td>17.1</td>\n",
       "    </tr>\n",
       "    <tr>\n",
       "      <th>16</th>\n",
       "      <td>山梨</td>\n",
       "      <td>19.301086</td>\n",
       "      <td>16.0</td>\n",
       "    </tr>\n",
       "    <tr>\n",
       "      <th>17</th>\n",
       "      <td>富山</td>\n",
       "      <td>24.071264</td>\n",
       "      <td>15.0</td>\n",
       "    </tr>\n",
       "    <tr>\n",
       "      <th>18</th>\n",
       "      <td>石川</td>\n",
       "      <td>23.657839</td>\n",
       "      <td>15.5</td>\n",
       "    </tr>\n",
       "    <tr>\n",
       "      <th>19</th>\n",
       "      <td>福井</td>\n",
       "      <td>20.782543</td>\n",
       "      <td>15.3</td>\n",
       "    </tr>\n",
       "    <tr>\n",
       "      <th>20</th>\n",
       "      <td>岐阜</td>\n",
       "      <td>15.070624</td>\n",
       "      <td>16.9</td>\n",
       "    </tr>\n",
       "    <tr>\n",
       "      <th>21</th>\n",
       "      <td>静岡</td>\n",
       "      <td>18.600304</td>\n",
       "      <td>17.7</td>\n",
       "    </tr>\n",
       "    <tr>\n",
       "      <th>22</th>\n",
       "      <td>愛知</td>\n",
       "      <td>21.423405</td>\n",
       "      <td>16.9</td>\n",
       "    </tr>\n",
       "    <tr>\n",
       "      <th>23</th>\n",
       "      <td>三重</td>\n",
       "      <td>17.353578</td>\n",
       "      <td>16.9</td>\n",
       "    </tr>\n",
       "    <tr>\n",
       "      <th>24</th>\n",
       "      <td>滋賀</td>\n",
       "      <td>13.777932</td>\n",
       "      <td>15.7</td>\n",
       "    </tr>\n",
       "    <tr>\n",
       "      <th>25</th>\n",
       "      <td>京都</td>\n",
       "      <td>26.960871</td>\n",
       "      <td>16.9</td>\n",
       "    </tr>\n",
       "    <tr>\n",
       "      <th>26</th>\n",
       "      <td>大阪</td>\n",
       "      <td>29.354164</td>\n",
       "      <td>17.4</td>\n",
       "    </tr>\n",
       "    <tr>\n",
       "      <th>27</th>\n",
       "      <td>兵庫</td>\n",
       "      <td>20.344101</td>\n",
       "      <td>17.4</td>\n",
       "    </tr>\n",
       "    <tr>\n",
       "      <th>28</th>\n",
       "      <td>奈良</td>\n",
       "      <td>16.233006</td>\n",
       "      <td>16.2</td>\n",
       "    </tr>\n",
       "    <tr>\n",
       "      <th>29</th>\n",
       "      <td>和歌山</td>\n",
       "      <td>17.803367</td>\n",
       "      <td>17.3</td>\n",
       "    </tr>\n",
       "    <tr>\n",
       "      <th>30</th>\n",
       "      <td>鳥取</td>\n",
       "      <td>21.241847</td>\n",
       "      <td>15.7</td>\n",
       "    </tr>\n",
       "    <tr>\n",
       "      <th>31</th>\n",
       "      <td>島根</td>\n",
       "      <td>19.776059</td>\n",
       "      <td>15.6</td>\n",
       "    </tr>\n",
       "    <tr>\n",
       "      <th>32</th>\n",
       "      <td>岡山</td>\n",
       "      <td>15.874899</td>\n",
       "      <td>16.3</td>\n",
       "    </tr>\n",
       "    <tr>\n",
       "      <th>33</th>\n",
       "      <td>広島</td>\n",
       "      <td>21.502021</td>\n",
       "      <td>16.8</td>\n",
       "    </tr>\n",
       "    <tr>\n",
       "      <th>34</th>\n",
       "      <td>山口</td>\n",
       "      <td>18.651148</td>\n",
       "      <td>16.0</td>\n",
       "    </tr>\n",
       "    <tr>\n",
       "      <th>35</th>\n",
       "      <td>徳島</td>\n",
       "      <td>19.103843</td>\n",
       "      <td>17.1</td>\n",
       "    </tr>\n",
       "    <tr>\n",
       "      <th>36</th>\n",
       "      <td>香川</td>\n",
       "      <td>18.628615</td>\n",
       "      <td>17.0</td>\n",
       "    </tr>\n",
       "    <tr>\n",
       "      <th>37</th>\n",
       "      <td>愛媛</td>\n",
       "      <td>19.844426</td>\n",
       "      <td>17.1</td>\n",
       "    </tr>\n",
       "    <tr>\n",
       "      <th>38</th>\n",
       "      <td>高知</td>\n",
       "      <td>25.065262</td>\n",
       "      <td>17.4</td>\n",
       "    </tr>\n",
       "    <tr>\n",
       "      <th>39</th>\n",
       "      <td>福岡</td>\n",
       "      <td>21.831353</td>\n",
       "      <td>17.7</td>\n",
       "    </tr>\n",
       "    <tr>\n",
       "      <th>40</th>\n",
       "      <td>佐賀</td>\n",
       "      <td>19.503874</td>\n",
       "      <td>17.4</td>\n",
       "    </tr>\n",
       "    <tr>\n",
       "      <th>41</th>\n",
       "      <td>長崎</td>\n",
       "      <td>19.552057</td>\n",
       "      <td>17.7</td>\n",
       "    </tr>\n",
       "    <tr>\n",
       "      <th>42</th>\n",
       "      <td>熊本</td>\n",
       "      <td>18.500536</td>\n",
       "      <td>17.5</td>\n",
       "    </tr>\n",
       "    <tr>\n",
       "      <th>43</th>\n",
       "      <td>大分</td>\n",
       "      <td>19.944202</td>\n",
       "      <td>17.1</td>\n",
       "    </tr>\n",
       "    <tr>\n",
       "      <th>44</th>\n",
       "      <td>宮崎</td>\n",
       "      <td>21.988512</td>\n",
       "      <td>17.8</td>\n",
       "    </tr>\n",
       "    <tr>\n",
       "      <th>45</th>\n",
       "      <td>鹿児島</td>\n",
       "      <td>15.256213</td>\n",
       "      <td>19.0</td>\n",
       "    </tr>\n",
       "  </tbody>\n",
       "</table>\n",
       "</div>"
      ],
      "text/plain": [
       "   prefecture   per_beer  ave_temp\n",
       "0         北海道  25.080483       9.5\n",
       "1          青森  21.009207      11.0\n",
       "2          岩手  23.486420      11.0\n",
       "3          宮城  22.527235      13.6\n",
       "4          秋田  22.129337      12.3\n",
       "5          山形  21.397989      12.6\n",
       "6          福島  21.432113      14.2\n",
       "7          茨城  17.562926      15.3\n",
       "8          栃木  18.717050      15.2\n",
       "9          群馬  18.032882      16.1\n",
       "10         埼玉  14.903861      16.4\n",
       "11         新潟  23.965128      14.3\n",
       "12         長野  22.760517      13.0\n",
       "13         千葉  16.343311      17.2\n",
       "14         東京  40.555320      16.8\n",
       "15        神奈川  20.038409      17.1\n",
       "16         山梨  19.301086      16.0\n",
       "17         富山  24.071264      15.0\n",
       "18         石川  23.657839      15.5\n",
       "19         福井  20.782543      15.3\n",
       "20         岐阜  15.070624      16.9\n",
       "21         静岡  18.600304      17.7\n",
       "22         愛知  21.423405      16.9\n",
       "23         三重  17.353578      16.9\n",
       "24         滋賀  13.777932      15.7\n",
       "25         京都  26.960871      16.9\n",
       "26         大阪  29.354164      17.4\n",
       "27         兵庫  20.344101      17.4\n",
       "28         奈良  16.233006      16.2\n",
       "29        和歌山  17.803367      17.3\n",
       "30         鳥取  21.241847      15.7\n",
       "31         島根  19.776059      15.6\n",
       "32         岡山  15.874899      16.3\n",
       "33         広島  21.502021      16.8\n",
       "34         山口  18.651148      16.0\n",
       "35         徳島  19.103843      17.1\n",
       "36         香川  18.628615      17.0\n",
       "37         愛媛  19.844426      17.1\n",
       "38         高知  25.065262      17.4\n",
       "39         福岡  21.831353      17.7\n",
       "40         佐賀  19.503874      17.4\n",
       "41         長崎  19.552057      17.7\n",
       "42         熊本  18.500536      17.5\n",
       "43         大分  19.944202      17.1\n",
       "44         宮崎  21.988512      17.8\n",
       "45        鹿児島  15.256213      19.0"
      ]
     },
     "execution_count": 22,
     "metadata": {},
     "output_type": "execute_result"
    }
   ],
   "source": [
    "df_ok = pd.merge(df_new,df_tmp,how=\"inner\")\n",
    "df_ok"
   ]
  },
  {
   "cell_type": "code",
   "execution_count": 23,
   "metadata": {},
   "outputs": [
    {
     "data": {
      "image/png": "[encoded data removed]",
      "text/plain": [
       "<Figure size 432x288 with 1 Axes>"
      ]
     },
     "metadata": {
      "needs_background": "light"
     },
     "output_type": "display_data"
    }
   ],
   "source": [
    "#散布図を描くための下準備\n",
    "%matplotlib inline\n",
    "import matplotlib.pyplot as plt\n",
    "\n",
    "#図に使う変数の設定\n",
    "plt.plot(df_ok['per_beer'],df_ok['ave_temp'],\"o\")\n",
    "\n",
    "#軸の名前を設定\n",
    "plt.xlabel(\"ave_temp\")\n",
    "plt.ylabel(\"per_beer\")\n",
    "\n",
    "#メモリを入れる\n",
    "plt.grid(True)\n",
    "pass"
   ]
  },
  {
   "cell_type": "code",
   "execution_count": 24,
   "metadata": {},
   "outputs": [
    {
     "data": {
      "text/plain": [
       "array([[ 1.        , -0.19479056],\n",
       "       [-0.19479056,  1.        ]])"
      ]
     },
     "execution_count": 24,
     "metadata": {},
     "output_type": "execute_result"
    }
   ],
   "source": [
    "y = df_ok['per_beer']\n",
    "x = df_ok['ave_temp']\n",
    "np.corrcoef(y,x)"
   ]
  },
  {
   "cell_type": "markdown",
   "metadata": {},
   "source": [
    "**回帰分析**"
   ]
  },
  {
   "cell_type": "code",
   "execution_count": 25,
   "metadata": {},
   "outputs": [
    {
     "data": {
      "text/plain": [
       "Intercept    27.378108\n",
       "x            -0.422595\n",
       "dtype: float64"
      ]
     },
     "execution_count": 25,
     "metadata": {},
     "output_type": "execute_result"
    }
   ],
   "source": [
    "formula = 'y ~ x'\n",
    "mod = ols(formula, data=df_ok)\n",
    "res = ols(formula, data=df_ok).fit()\n",
    "res.params"
   ]
  },
  {
   "cell_type": "code",
   "execution_count": 26,
   "metadata": {},
   "outputs": [
    {
     "name": "stdout",
     "output_type": "stream",
     "text": [
      "                            OLS Regression Results                            \n",
      "==============================================================================\n",
      "Dep. Variable:                      y   R-squared:                       0.038\n",
      "Model:                            OLS   Adj. R-squared:                  0.016\n",
      "Method:                 Least Squares   F-statistic:                     1.735\n",
      "Date:                Tue, 23 Feb 2021   Prob (F-statistic):              0.195\n",
      "Time:                        18:48:18   Log-Likelihood:                -132.09\n",
      "No. Observations:                  46   AIC:                             268.2\n",
      "Df Residuals:                      44   BIC:                             271.8\n",
      "Df Model:                           1                                         \n",
      "Covariance Type:            nonrobust                                         \n",
      "==============================================================================\n",
      "                 coef    std err          t      P>|t|      [0.025      0.975]\n",
      "------------------------------------------------------------------------------\n",
      "Intercept     27.3781      5.131      5.336      0.000      17.038      37.719\n",
      "x             -0.4226      0.321     -1.317      0.195      -1.069       0.224\n",
      "==============================================================================\n",
      "Omnibus:                       44.781   Durbin-Watson:                   2.021\n",
      "Prob(Omnibus):                  0.000   Jarque-Bera (JB):              201.410\n",
      "Skew:                           2.395   Prob(JB):                     1.84e-44\n",
      "Kurtosis:                      12.063   Cond. No.                         128.\n",
      "==============================================================================\n",
      "\n",
      "Notes:\n",
      "[1] Standard Errors assume that the covariance matrix of the errors is correctly specified.\n"
     ]
    }
   ],
   "source": [
    "print(res.summary())"
   ]
  },
  {
   "cell_type": "code",
   "execution_count": 27,
   "metadata": {},
   "outputs": [
    {
     "name": "stdout",
     "output_type": "stream",
     "text": [
      "==============================================================================\n",
      "                 coef    std err          t      P>|t|      [0.025      0.975]\n",
      "------------------------------------------------------------------------------\n",
      "Intercept     27.3781      5.131      5.336      0.000      17.038      37.719\n",
      "x             -0.4226      0.321     -1.317      0.195      -1.069       0.224\n",
      "==============================================================================\n"
     ]
    }
   ],
   "source": [
    "print(res.summary().tables[1])"
   ]
  }
 ],
 "metadata": {
  "kernelspec": {
   "display_name": "Python 3",
   "language": "python",
   "name": "python3"
  },
  "language_info": {
   "codemirror_mode": {
    "name": "ipython",
    "version": 3
   },
   "file_extension": ".py",
   "mimetype": "text/x-python",
   "name": "python",
   "nbconvert_exporter": "python",
   "pygments_lexer": "ipython3",
   "version": "3.7.6"
  }
 },
 "nbformat": 4,
 "nbformat_minor": 4
}
