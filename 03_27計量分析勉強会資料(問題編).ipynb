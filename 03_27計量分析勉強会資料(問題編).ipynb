{
 "cells": [
  {
   "cell_type": "markdown",
   "metadata": {},
   "source": [
    "# 計量分析勉強会"
   ]
  },
  {
   "cell_type": "markdown",
   "metadata": {},
   "source": [
    "### 目次<a id='top'></a>\n",
    "1. [Pythonとは](#sec1)  >\n",
    "2. [勉強会の目標](#sec2)  \n",
    "\n",
    "3. [データ加工編第一部:Pandas](#sec7)  \n",
    "    1. [その1 成人データを読み込んでみよう！](#sec7_1)  \n",
    "    2. [その2 データの特徴を把握しよう！](#sec7_2)  \n",
    "    3. [その3 他のデータも読み込んでみよう！](#sec7_3)  \n",
    "    4. [その4 行を削除してみよう！](#sec7_4)  \n",
    "    5. [その5 カラムの名前を変更してみよう！](#sec7_5)  \n",
    "    6. [その6 特定の列だけを取り出してみよう！](#sec7_6)\n",
    "    7. [その7 文字列を削除してみよう！](#sec7_7)\n",
    "    8. [その8 文字列を変更してみよう！](#sec7_8)\n",
    "    9. [その9 行を削除してみよう！](#sec7_9)\n",
    "    9. [その10 データを結合してみよう！](#sec7_10)\n",
    "    10. [その11 データ型を変更してみよう！](#sec7_11)\n",
    "    11. [その12 単回帰分析を回してみよう！](#sec7_12)"
   ]
  },
  {
   "cell_type": "markdown",
   "metadata": {},
   "source": [
    "### 付録  \n",
    "4. [データ加工編第二部:seisekiデータ](#sec4) \n",
    "    1. [その1成績データを読み込んでみよう！](#sec4_1)  \n",
    "    2. [その2-1 データの特徴を把握しよう！](#sec4_2_1)  \n",
    "    2. [その2-2 データの特徴を把握しよう！](#sec4_2_2)  \n",
    "    3. [その3 カラムの名前を変更してみよう！](#sec4_3)  \n",
    "    4. [その4 特定の列だけを取り出してみよう！](#sec4_4)  \n",
    "    [DataFrameとSeries](#sec4_7)  \n",
    "    5. [その5 列を統合させてみよう！](#sec4_6)  \n",
    "    6. [その6 散布図を描いてみよう！](#sec4_7)  \n",
    "    [余談・相関係数を求めてみる](#sec4_8)  \n",
    "4. [コラム１](#col1)\n",
    "5. [Python基礎文法](#sec5)  \n",
    "    1. [その0 基本的な計算をしてみよう！](#sec5_0)  \n",
    "    2. [その1 データを収納する方法について整理しよう！](#sec5_1)  \n",
    "    3. [その2 リストを作成してみよう！](#sec5_2)  \n",
    "    4. [その3 ディクショナリを作成してみよう！](#sec5_3)  \n",
    "    5. [その4 集合を作成してみよう！](#sec5_4)\n",
    "    6. [その5 タプルを作成してみよう！](#sec5_5)\n",
    "6. [Python文法](#sec6)\n",
    "    1. [for文](#sec6_1)\n",
    "    2. [range文](#sec6_2)\n",
    "    3. [if文](#sec6_3)\n",
    "    4. [def文](#sec6_4)\n",
    "    5. [while文](#sec6_5)"
   ]
  },
  {
   "cell_type": "markdown",
   "metadata": {},
   "source": [
    "## １. Pythonとは<a id='sec1'></a>"
   ]
  },
  {
   "cell_type": "markdown",
   "metadata": {},
   "source": [
    "　**Pythonは現在、特に人気のあるプログラミング言語です。** Pythonは簡単な文法構造を特徴をしています。その扱いやすさから、人工知能(AI)の開発から、webアプリケーションを作成までといったように、広範に活用されています。そんなPythonを知らないのはもったいない！！\n",
    "<br> ここで、Pythonを身近に感じてもらうために、具体的な事例をいくつか挙げてみます。"
   ]
  },
  {
   "cell_type": "markdown",
   "metadata": {},
   "source": [
    "　1つ目に挙げるのは、ソフトバンクが開発した人工知能ロボット「Pepper(ペッパー)」君。彼の人工知能は、Pythonで書かれていると言われています。次に考えられるのは、Instagram。特に意味もなく、インスタを開いてしまっていることありますよね...。\n",
    " InstagramはPythonの、Djangoというwebアプリケーションフレームワークで作成されています！また、大学生の敵(味方？)、YoutubeにもPythonが活用されています。実は、Pythonは本当に身近な言語なのです！このように、Pythonを直接\"見る\"機会は日常でもほとんどありませんが、みなさんも毎日Pythonの恩恵を与っているのです！"
   ]
  },
  {
   "cell_type": "markdown",
   "metadata": {},
   "source": [
    "ここで、Pythonの得意分野について整理します！\n",
    "1. **AI(人工知能)・機械学習**  \n",
    "Pythonには、AIや機械学習に特化したライブラリ(後で詳しく説明します)がたくさんあります！これによって、機械学習をとても簡単に行うことができます。\n",
    "2. **データ分析**  \n",
    "データの特徴を把握したり、データを整理するのにPythonは最適です。また、スクレイピングという技術を用いれば、自動的にデータの抽出を行うことができます。"
   ]
  },
  {
   "cell_type": "markdown",
   "metadata": {},
   "source": [
    "Pythonにはライブラリというものがあります。これは、先人たちが残してくれた、偉大な知識です。Pythonを数学に例えるならば、ライブラリは「公式」だと考えられます。皆さんは、二次方程式の解を求める際に、解の公式を用いてきました。この式に数値を放り込むだけで、容易に答えを得ることができたと思います。ライブラリはこれと同じです。はじめから公式を作成しているのでは、時間がかかって作業が一向に進みません。そこで、このライブラリを用いることで、効率的な作業が可能になるのです。"
   ]
  },
  {
   "cell_type": "markdown",
   "metadata": {},
   "source": [
    "## 2：勉強会の目標<a id='sec2'></a>"
   ]
  },
  {
   "cell_type": "markdown",
   "metadata": {},
   "source": [
    "Pandasでデータの前処理をし、statsmodelsで統計分析を行うという、計量分析の一連の流れを習得する！"
   ]
  },
  {
   "cell_type": "markdown",
   "metadata": {},
   "source": [
    "## ３：実装<a id='sec3'></a>"
   ]
  },
  {
   "cell_type": "markdown",
   "metadata": {},
   "source": [
    "れでは、実際にPythonを動かしてみましょう！！  \n",
    "ここからは、実際のデータを操作しながら、必要に応じて解説していきます。"
   ]
  },
  {
   "cell_type": "markdown",
   "metadata": {},
   "source": [
    "まず、\"seijin.csv\"を読み込みます。  \n",
    "このデータには、都道府県別の成人人数が収納されています。"
   ]
  },
  {
   "cell_type": "markdown",
   "metadata": {},
   "source": [
    "## 第一章　データ前処理 Pandas<a id='sec4'></a>"
   ]
  },
  {
   "cell_type": "markdown",
   "metadata": {},
   "source": [
    "資料サイト：https://learnavi.com/note/605e86b3670d45c50d777b42"
   ]
  },
  {
   "cell_type": "code",
   "execution_count": 4,
   "metadata": {},
   "outputs": [],
   "source": [
    "import pandas as pd"
   ]
  },
  {
   "cell_type": "markdown",
   "metadata": {},
   "source": [
    "今回の勉強会の目標は前回の勉強会で使用した下の図を作成することです！"
   ]
  },
  {
   "cell_type": "code",
   "execution_count": 5,
   "metadata": {},
   "outputs": [
    {
     "data": {
      "text/html": [
       "<div>\n",
       "<style scoped>\n",
       "    .dataframe tbody tr th:only-of-type {\n",
       "        vertical-align: middle;\n",
       "    }\n",
       "\n",
       "    .dataframe tbody tr th {\n",
       "        vertical-align: top;\n",
       "    }\n",
       "\n",
       "    .dataframe thead th {\n",
       "        text-align: right;\n",
       "    }\n",
       "</style>\n",
       "<table border=\"1\" class=\"dataframe\">\n",
       "  <thead>\n",
       "    <tr style=\"text-align: right;\">\n",
       "      <th></th>\n",
       "      <th>prefecture</th>\n",
       "      <th>beer</th>\n",
       "      <th>adult</th>\n",
       "      <th>per_beer</th>\n",
       "      <th>ave_temp</th>\n",
       "    </tr>\n",
       "  </thead>\n",
       "  <tbody>\n",
       "    <tr>\n",
       "      <th>0</th>\n",
       "      <td>北海道</td>\n",
       "      <td>113097000</td>\n",
       "      <td>4509363</td>\n",
       "      <td>25.080483</td>\n",
       "      <td>9.5</td>\n",
       "    </tr>\n",
       "    <tr>\n",
       "      <th>1</th>\n",
       "      <td>青森</td>\n",
       "      <td>23177000</td>\n",
       "      <td>1103183</td>\n",
       "      <td>21.009207</td>\n",
       "      <td>11.0</td>\n",
       "    </tr>\n",
       "    <tr>\n",
       "      <th>2</th>\n",
       "      <td>岩手</td>\n",
       "      <td>24879000</td>\n",
       "      <td>1059293</td>\n",
       "      <td>23.486420</td>\n",
       "      <td>11.0</td>\n",
       "    </tr>\n",
       "    <tr>\n",
       "      <th>3</th>\n",
       "      <td>宮城</td>\n",
       "      <td>43152000</td>\n",
       "      <td>1915548</td>\n",
       "      <td>22.527235</td>\n",
       "      <td>13.6</td>\n",
       "    </tr>\n",
       "    <tr>\n",
       "      <th>4</th>\n",
       "      <td>秋田</td>\n",
       "      <td>19229000</td>\n",
       "      <td>868937</td>\n",
       "      <td>22.129337</td>\n",
       "      <td>12.3</td>\n",
       "    </tr>\n",
       "  </tbody>\n",
       "</table>\n",
       "</div>"
      ],
      "text/plain": [
       "  prefecture       beer    adult   per_beer  ave_temp\n",
       "0        北海道  113097000  4509363  25.080483       9.5\n",
       "1         青森   23177000  1103183  21.009207      11.0\n",
       "2         岩手   24879000  1059293  23.486420      11.0\n",
       "3         宮城   43152000  1915548  22.527235      13.6\n",
       "4         秋田   19229000   868937  22.129337      12.3"
      ]
     },
     "execution_count": 5,
     "metadata": {},
     "output_type": "execute_result"
    }
   ],
   "source": [
    "df0 = pd.read_csv(\"beer.csv\")\n",
    "df0.drop(columns=[\"Unnamed: 0\"]).head()"
   ]
  },
  {
   "cell_type": "markdown",
   "metadata": {},
   "source": [
    "このデータは異なる三つのデータソースからのファイルを結合して作成されています。\n",
    "1. 成人データ(人口推計) [https://www.e-stat.go.jp/stat-search/database?page=1&layout=dataset&toukei=00200524&statdisp_id=0003312321] \n",
    "2. ビール消費量(国税庁:平成30年度分 酒税課税関係等状況表)  \n",
    "3. 年間平均気温(2018年度 社会・人口統計体系 都道府県データ 基礎データ)"
   ]
  },
  {
   "cell_type": "markdown",
   "metadata": {},
   "source": [
    "三つのデータを結合し、分析する方法を実践してみましょう！"
   ]
  },
  {
   "cell_type": "markdown",
   "metadata": {},
   "source": [
    "**その１**<a id='sec7_1'></a>  \n",
    "**成人データを読み込んでみよう！**  \n",
    "[先頭に戻る](#top)  "
   ]
  },
  {
   "cell_type": "code",
   "execution_count": 6,
   "metadata": {},
   "outputs": [],
   "source": [
    "#ライブラリ(pandas,numpy)の読み込み\n",
    "import pandas as pd\n",
    "import numpy as np"
   ]
  },
  {
   "cell_type": "raw",
   "metadata": {},
   "source": [
    "pd.read_csv(\"ファイル名.csv\")"
   ]
  },
  {
   "cell_type": "markdown",
   "metadata": {},
   "source": [
    "まず、\"seijin.csv\"を読み込みます。  \n",
    "このデータには、都道府県別の成人人数が収納されています。"
   ]
  },
  {
   "cell_type": "code",
   "execution_count": 10,
   "metadata": {},
   "outputs": [
    {
     "data": {
      "text/html": [
       "<div>\n",
       "<style scoped>\n",
       "    .dataframe tbody tr th:only-of-type {\n",
       "        vertical-align: middle;\n",
       "    }\n",
       "\n",
       "    .dataframe tbody tr th {\n",
       "        vertical-align: top;\n",
       "    }\n",
       "\n",
       "    .dataframe thead th {\n",
       "        text-align: right;\n",
       "    }\n",
       "</style>\n",
       "<table border=\"1\" class=\"dataframe\">\n",
       "  <thead>\n",
       "    <tr style=\"text-align: right;\">\n",
       "      <th></th>\n",
       "      <th>Unnamed: 0</th>\n",
       "      <th>Unnamed: 1</th>\n",
       "      <th>Unnamed: 2</th>\n",
       "    </tr>\n",
       "  </thead>\n",
       "  <tbody>\n",
       "    <tr>\n",
       "      <th>0</th>\n",
       "      <td>都道府県名</td>\n",
       "      <td>性別</td>\n",
       "      <td>成人人数</td>\n",
       "    </tr>\n",
       "    <tr>\n",
       "      <th>1</th>\n",
       "      <td>北海道*</td>\n",
       "      <td>計</td>\n",
       "      <td>4,509,363</td>\n",
       "    </tr>\n",
       "    <tr>\n",
       "      <th>2</th>\n",
       "      <td>北海道*</td>\n",
       "      <td>男</td>\n",
       "      <td>2,098,789</td>\n",
       "    </tr>\n",
       "    <tr>\n",
       "      <th>3</th>\n",
       "      <td>北海道*</td>\n",
       "      <td>女</td>\n",
       "      <td>2,410,574</td>\n",
       "    </tr>\n",
       "    <tr>\n",
       "      <th>4</th>\n",
       "      <td>青森県*</td>\n",
       "      <td>計</td>\n",
       "      <td>1,103,183</td>\n",
       "    </tr>\n",
       "    <tr>\n",
       "      <th>...</th>\n",
       "      <td>...</td>\n",
       "      <td>...</td>\n",
       "      <td>...</td>\n",
       "    </tr>\n",
       "    <tr>\n",
       "      <th>137</th>\n",
       "      <td>鹿児島県*</td>\n",
       "      <td>男</td>\n",
       "      <td>626,483</td>\n",
       "    </tr>\n",
       "    <tr>\n",
       "      <th>138</th>\n",
       "      <td>鹿児島県*</td>\n",
       "      <td>女</td>\n",
       "      <td>728,637</td>\n",
       "    </tr>\n",
       "    <tr>\n",
       "      <th>139</th>\n",
       "      <td>沖縄県*</td>\n",
       "      <td>計</td>\n",
       "      <td>1,135,115</td>\n",
       "    </tr>\n",
       "    <tr>\n",
       "      <th>140</th>\n",
       "      <td>沖縄県*</td>\n",
       "      <td>男</td>\n",
       "      <td>553,684</td>\n",
       "    </tr>\n",
       "    <tr>\n",
       "      <th>141</th>\n",
       "      <td>沖縄県*</td>\n",
       "      <td>女</td>\n",
       "      <td>581,431</td>\n",
       "    </tr>\n",
       "  </tbody>\n",
       "</table>\n",
       "<p>142 rows × 3 columns</p>\n",
       "</div>"
      ],
      "text/plain": [
       "    Unnamed: 0 Unnamed: 1 Unnamed: 2\n",
       "0        都道府県名         性別       成人人数\n",
       "1         北海道*          計  4,509,363\n",
       "2         北海道*          男  2,098,789\n",
       "3         北海道*          女  2,410,574\n",
       "4         青森県*          計  1,103,183\n",
       "..         ...        ...        ...\n",
       "137      鹿児島県*          男    626,483\n",
       "138      鹿児島県*          女    728,637\n",
       "139       沖縄県*          計  1,135,115\n",
       "140       沖縄県*          男    553,684\n",
       "141       沖縄県*          女    581,431\n",
       "\n",
       "[142 rows x 3 columns]"
      ]
     },
     "execution_count": 10,
     "metadata": {},
     "output_type": "execute_result"
    }
   ],
   "source": [
    "df_adult1 = pd.read_csv(\"seijin.csv\")\n",
    "df_adult1"
   ]
  },
  {
   "cell_type": "markdown",
   "metadata": {},
   "source": [
    "実際にデータが読み込めたのを確認できます。\n",
    "<p>次はこのデータの特徴を把握しましょう！"
   ]
  },
  {
   "cell_type": "markdown",
   "metadata": {},
   "source": [
    "**その2** **データの特徴を把握しよう！**<a id='sec7_2'></a>  \n",
    "[先頭に戻る](#top)"
   ]
  },
  {
   "cell_type": "markdown",
   "metadata": {},
   "source": [
    "データを入手して、第一に行う必要があるのは、データに不備がないかの確認です。\n",
    "<p>特に、自作したExcelファイルを使用する際などは、データに欠損値などの不備が生じている可能性があります。そのデータで分析すると、今までの苦労が無駄に...！なんてこともあるかもしれません。そこで、第一にデータの確認が重要です。"
   ]
  },
  {
   "cell_type": "code",
   "execution_count": 21,
   "metadata": {},
   "outputs": [
    {
     "data": {
      "text/plain": [
       "pandas.core.frame.DataFrame"
      ]
     },
     "execution_count": 21,
     "metadata": {},
     "output_type": "execute_result"
    }
   ],
   "source": [
    "type(df_adult1)"
   ]
  },
  {
   "cell_type": "markdown",
   "metadata": {},
   "source": [
    "　type()関数を用いると、オブジェクトの型を把握することができます！出力された最後の、DataFrameという一文が重要です。<p>DataFrameはpandas最大の武器です。パンダスはこれを使うためにあると言っても過言ではないでしょう。\n",
    "<p>さらにデータフレームには、より便利な情報習得関数が提供されています。それがdf.info()です。"
   ]
  },
  {
   "cell_type": "code",
   "execution_count": 26,
   "metadata": {},
   "outputs": [
    {
     "name": "stdout",
     "output_type": "stream",
     "text": [
      "<class 'pandas.core.frame.DataFrame'>\n",
      "RangeIndex: 142 entries, 0 to 141\n",
      "Data columns (total 3 columns):\n",
      " #   Column      Non-Null Count  Dtype \n",
      "---  ------      --------------  ----- \n",
      " 0   Unnamed: 0  142 non-null    object\n",
      " 1   Unnamed: 1  142 non-null    object\n",
      " 2   Unnamed: 2  142 non-null    object\n",
      "dtypes: object(3)\n",
      "memory usage: 3.5+ KB\n"
     ]
    }
   ],
   "source": [
    "df_adult1.info()"
   ]
  },
  {
   "cell_type": "markdown",
   "metadata": {},
   "source": [
    "なにやら、訳の分からない言語がたくさん出てきた、、。　と思った人！！  \n",
    "大丈夫です。知っていれば理解できます。  \n",
    "1. Column(カラム)とは、列名のことです。ですので、列名が一覧となって出力されています。  \n",
    "2. Non-Null Countとは、欠損値でない数のことです。データに不備があると、正しくデータの分析が行えません。そこで、初めにデータに不備がないかinfo関数を用いて確認することが大事です。  \n",
    "3. Dtypeとは、DataFrameに収納されている文字の種類のことです。objectとは万能な文字列を意味します。実際、データフレームが文字である列も、数字である列も、object型で構成されているのが確認できますね！　文字の種類を確認しておけば、あらかじめエラーが発生することを防ぐことができます。"
   ]
  },
  {
   "cell_type": "markdown",
   "metadata": {},
   "source": [
    "**その3**　**他のデータも読み込んでみよう！**<a id='sec7_3'></a>  \n",
    "[先頭に戻る](#top)"
   ]
  },
  {
   "cell_type": "markdown",
   "metadata": {},
   "source": [
    "同様に、ビール消費量データが入った\"ビールExcel.csv\"と、年間平均気温が記録された\"年平均気温.csv\"を読み込んでみましょう。  \n",
    "ここでは、\"ビールExcel.csv\"を\"df_beer\",\"年平均気温.csv\"をdf_tempという名前で読み込んで下さい！  \n",
    "さらにデータが読み込めた方は、データに欠損値がないか確認して見てください。"
   ]
  },
  {
   "cell_type": "markdown",
   "metadata": {},
   "source": [
    "※beerの単位はKLです。"
   ]
  },
  {
   "cell_type": "markdown",
   "metadata": {},
   "source": [
    "データ数に違いがあることが確認できたでしょうか。  \n",
    "df1は142件で、df0は46件、df3は47件です。  \n",
    "データ数が異なる三つのデータを結合するにはどのようにすればよいのでしょうか。  \n",
    "先ず、データ数をそろえる必要があります。次に、キーとする共通のカラムが必要です。今回の場合、都道府県名がキーになります。"
   ]
  },
  {
   "cell_type": "markdown",
   "metadata": {},
   "source": [
    "**その4** **行を削除してみよう！**<a id='sec7_4'></a>  \n",
    "[先頭に戻る](#top)"
   ]
  },
  {
   "cell_type": "code",
   "execution_count": 11,
   "metadata": {},
   "outputs": [
    {
     "data": {
      "text/html": [
       "<div>\n",
       "<style scoped>\n",
       "    .dataframe tbody tr th:only-of-type {\n",
       "        vertical-align: middle;\n",
       "    }\n",
       "\n",
       "    .dataframe tbody tr th {\n",
       "        vertical-align: top;\n",
       "    }\n",
       "\n",
       "    .dataframe thead th {\n",
       "        text-align: right;\n",
       "    }\n",
       "</style>\n",
       "<table border=\"1\" class=\"dataframe\">\n",
       "  <thead>\n",
       "    <tr style=\"text-align: right;\">\n",
       "      <th></th>\n",
       "      <th>Unnamed: 0</th>\n",
       "      <th>Unnamed: 1</th>\n",
       "      <th>Unnamed: 2</th>\n",
       "    </tr>\n",
       "  </thead>\n",
       "  <tbody>\n",
       "    <tr>\n",
       "      <th>0</th>\n",
       "      <td>都道府県名</td>\n",
       "      <td>性別</td>\n",
       "      <td>成人人数</td>\n",
       "    </tr>\n",
       "    <tr>\n",
       "      <th>1</th>\n",
       "      <td>北海道*</td>\n",
       "      <td>計</td>\n",
       "      <td>4,509,363</td>\n",
       "    </tr>\n",
       "    <tr>\n",
       "      <th>2</th>\n",
       "      <td>北海道*</td>\n",
       "      <td>男</td>\n",
       "      <td>2,098,789</td>\n",
       "    </tr>\n",
       "    <tr>\n",
       "      <th>3</th>\n",
       "      <td>北海道*</td>\n",
       "      <td>女</td>\n",
       "      <td>2,410,574</td>\n",
       "    </tr>\n",
       "    <tr>\n",
       "      <th>4</th>\n",
       "      <td>青森県*</td>\n",
       "      <td>計</td>\n",
       "      <td>1,103,183</td>\n",
       "    </tr>\n",
       "  </tbody>\n",
       "</table>\n",
       "</div>"
      ],
      "text/plain": [
       "  Unnamed: 0 Unnamed: 1 Unnamed: 2\n",
       "0      都道府県名         性別       成人人数\n",
       "1       北海道*          計  4,509,363\n",
       "2       北海道*          男  2,098,789\n",
       "3       北海道*          女  2,410,574\n",
       "4       青森県*          計  1,103,183"
      ]
     },
     "execution_count": 11,
     "metadata": {},
     "output_type": "execute_result"
    }
   ],
   "source": [
    "df_adult1.head(5)"
   ]
  },
  {
   "cell_type": "markdown",
   "metadata": {},
   "source": [
    "現在のdf_adultには、一行目に列名が入ってしまっています。この行は不要なので、最初にこの列を削除しましょう。"
   ]
  },
  {
   "cell_type": "raw",
   "metadata": {},
   "source": [
    "#インデックスを指定した行の削除\n",
    "df.drop(index=0)"
   ]
  },
  {
   "cell_type": "code",
   "execution_count": 7,
   "metadata": {},
   "outputs": [
    {
     "data": {
      "text/html": [
       "<div>\n",
       "<style scoped>\n",
       "    .dataframe tbody tr th:only-of-type {\n",
       "        vertical-align: middle;\n",
       "    }\n",
       "\n",
       "    .dataframe tbody tr th {\n",
       "        vertical-align: top;\n",
       "    }\n",
       "\n",
       "    .dataframe thead th {\n",
       "        text-align: right;\n",
       "    }\n",
       "</style>\n",
       "<table border=\"1\" class=\"dataframe\">\n",
       "  <thead>\n",
       "    <tr style=\"text-align: right;\">\n",
       "      <th></th>\n",
       "      <th>名前</th>\n",
       "      <th>部活</th>\n",
       "    </tr>\n",
       "  </thead>\n",
       "  <tbody>\n",
       "    <tr>\n",
       "      <th>0</th>\n",
       "      <td>佐藤</td>\n",
       "      <td>野球</td>\n",
       "    </tr>\n",
       "    <tr>\n",
       "      <th>1</th>\n",
       "      <td>西田</td>\n",
       "      <td>サッカー</td>\n",
       "    </tr>\n",
       "  </tbody>\n",
       "</table>\n",
       "</div>"
      ],
      "text/plain": [
       "   名前    部活\n",
       "0  佐藤    野球\n",
       "1  西田  サッカー"
      ]
     },
     "execution_count": 7,
     "metadata": {},
     "output_type": "execute_result"
    }
   ],
   "source": [
    "df_club = pd.DataFrame(data=[{'名前': \"佐藤\", '部活': \"野球\"},{'名前': \"西田\", '部活': \"サッカー\"}])\n",
    "df_club"
   ]
  },
  {
   "cell_type": "code",
   "execution_count": 8,
   "metadata": {},
   "outputs": [
    {
     "data": {
      "text/html": [
       "<div>\n",
       "<style scoped>\n",
       "    .dataframe tbody tr th:only-of-type {\n",
       "        vertical-align: middle;\n",
       "    }\n",
       "\n",
       "    .dataframe tbody tr th {\n",
       "        vertical-align: top;\n",
       "    }\n",
       "\n",
       "    .dataframe thead th {\n",
       "        text-align: right;\n",
       "    }\n",
       "</style>\n",
       "<table border=\"1\" class=\"dataframe\">\n",
       "  <thead>\n",
       "    <tr style=\"text-align: right;\">\n",
       "      <th></th>\n",
       "      <th>名前</th>\n",
       "      <th>部活</th>\n",
       "    </tr>\n",
       "  </thead>\n",
       "  <tbody>\n",
       "    <tr>\n",
       "      <th>1</th>\n",
       "      <td>西田</td>\n",
       "      <td>サッカー</td>\n",
       "    </tr>\n",
       "  </tbody>\n",
       "</table>\n",
       "</div>"
      ],
      "text/plain": [
       "   名前    部活\n",
       "1  西田  サッカー"
      ]
     },
     "execution_count": 8,
     "metadata": {},
     "output_type": "execute_result"
    }
   ],
   "source": [
    "df_club.drop(index=0)"
   ]
  },
  {
   "cell_type": "code",
   "execution_count": 28,
   "metadata": {},
   "outputs": [
    {
     "data": {
      "text/html": [
       "<div>\n",
       "<style scoped>\n",
       "    .dataframe tbody tr th:only-of-type {\n",
       "        vertical-align: middle;\n",
       "    }\n",
       "\n",
       "    .dataframe tbody tr th {\n",
       "        vertical-align: top;\n",
       "    }\n",
       "\n",
       "    .dataframe thead th {\n",
       "        text-align: right;\n",
       "    }\n",
       "</style>\n",
       "<table border=\"1\" class=\"dataframe\">\n",
       "  <thead>\n",
       "    <tr style=\"text-align: right;\">\n",
       "      <th></th>\n",
       "      <th>Unnamed: 0</th>\n",
       "      <th>Unnamed: 1</th>\n",
       "      <th>Unnamed: 2</th>\n",
       "    </tr>\n",
       "  </thead>\n",
       "  <tbody>\n",
       "    <tr>\n",
       "      <th>1</th>\n",
       "      <td>北海道*</td>\n",
       "      <td>計</td>\n",
       "      <td>4,509,363</td>\n",
       "    </tr>\n",
       "    <tr>\n",
       "      <th>2</th>\n",
       "      <td>北海道*</td>\n",
       "      <td>男</td>\n",
       "      <td>2,098,789</td>\n",
       "    </tr>\n",
       "    <tr>\n",
       "      <th>3</th>\n",
       "      <td>北海道*</td>\n",
       "      <td>女</td>\n",
       "      <td>2,410,574</td>\n",
       "    </tr>\n",
       "  </tbody>\n",
       "</table>\n",
       "</div>"
      ],
      "text/plain": [
       "  Unnamed: 0 Unnamed: 1 Unnamed: 2\n",
       "1       北海道*          計  4,509,363\n",
       "2       北海道*          男  2,098,789\n",
       "3       北海道*          女  2,410,574"
      ]
     },
     "execution_count": 28,
     "metadata": {},
     "output_type": "execute_result"
    }
   ],
   "source": [
    "df_adult2 = df_adult1.drop(index=0)\n",
    "df_adult2.head(3)"
   ]
  },
  {
   "cell_type": "markdown",
   "metadata": {},
   "source": [
    "一行目を削除できました。"
   ]
  },
  {
   "cell_type": "markdown",
   "metadata": {},
   "source": [
    "**その5** **カラムの名前を変更してみよう！**<a id='sec7_5'></a>  \n",
    "[先頭に戻る](#top)"
   ]
  },
  {
   "cell_type": "markdown",
   "metadata": {},
   "source": [
    "次に、列名が初期値のままですので、列名に正しい名前を振ってあげます。"
   ]
  },
  {
   "cell_type": "markdown",
   "metadata": {},
   "source": [
    "列名(columns)の変更は、  \n",
    "**df.rename(columns={\"元の名前\":\"新しい名前\"}**  \n",
    "で完成です！！さっそくdf_adult2のカラム名を適切な名前に変更してみましょう！"
   ]
  },
  {
   "cell_type": "raw",
   "metadata": {},
   "source": [
    "df.rename(columns={\"元の名前\":\"新しい名前\"}"
   ]
  },
  {
   "cell_type": "code",
   "execution_count": 29,
   "metadata": {},
   "outputs": [
    {
     "data": {
      "text/html": [
       "<div>\n",
       "<style scoped>\n",
       "    .dataframe tbody tr th:only-of-type {\n",
       "        vertical-align: middle;\n",
       "    }\n",
       "\n",
       "    .dataframe tbody tr th {\n",
       "        vertical-align: top;\n",
       "    }\n",
       "\n",
       "    .dataframe thead th {\n",
       "        text-align: right;\n",
       "    }\n",
       "</style>\n",
       "<table border=\"1\" class=\"dataframe\">\n",
       "  <thead>\n",
       "    <tr style=\"text-align: right;\">\n",
       "      <th></th>\n",
       "      <th>Unnamed: 0</th>\n",
       "      <th>性別</th>\n",
       "      <th>adult</th>\n",
       "    </tr>\n",
       "  </thead>\n",
       "  <tbody>\n",
       "    <tr>\n",
       "      <th>1</th>\n",
       "      <td>北海道*</td>\n",
       "      <td>計</td>\n",
       "      <td>4,509,363</td>\n",
       "    </tr>\n",
       "    <tr>\n",
       "      <th>2</th>\n",
       "      <td>北海道*</td>\n",
       "      <td>男</td>\n",
       "      <td>2,098,789</td>\n",
       "    </tr>\n",
       "    <tr>\n",
       "      <th>3</th>\n",
       "      <td>北海道*</td>\n",
       "      <td>女</td>\n",
       "      <td>2,410,574</td>\n",
       "    </tr>\n",
       "    <tr>\n",
       "      <th>4</th>\n",
       "      <td>青森県*</td>\n",
       "      <td>計</td>\n",
       "      <td>1,103,183</td>\n",
       "    </tr>\n",
       "    <tr>\n",
       "      <th>5</th>\n",
       "      <td>青森県*</td>\n",
       "      <td>男</td>\n",
       "      <td>515,090</td>\n",
       "    </tr>\n",
       "    <tr>\n",
       "      <th>...</th>\n",
       "      <td>...</td>\n",
       "      <td>...</td>\n",
       "      <td>...</td>\n",
       "    </tr>\n",
       "    <tr>\n",
       "      <th>137</th>\n",
       "      <td>鹿児島県*</td>\n",
       "      <td>男</td>\n",
       "      <td>626,483</td>\n",
       "    </tr>\n",
       "    <tr>\n",
       "      <th>138</th>\n",
       "      <td>鹿児島県*</td>\n",
       "      <td>女</td>\n",
       "      <td>728,637</td>\n",
       "    </tr>\n",
       "    <tr>\n",
       "      <th>139</th>\n",
       "      <td>沖縄県*</td>\n",
       "      <td>計</td>\n",
       "      <td>1,135,115</td>\n",
       "    </tr>\n",
       "    <tr>\n",
       "      <th>140</th>\n",
       "      <td>沖縄県*</td>\n",
       "      <td>男</td>\n",
       "      <td>553,684</td>\n",
       "    </tr>\n",
       "    <tr>\n",
       "      <th>141</th>\n",
       "      <td>沖縄県*</td>\n",
       "      <td>女</td>\n",
       "      <td>581,431</td>\n",
       "    </tr>\n",
       "  </tbody>\n",
       "</table>\n",
       "<p>141 rows × 3 columns</p>\n",
       "</div>"
      ],
      "text/plain": [
       "    Unnamed: 0 性別      adult\n",
       "1         北海道*  計  4,509,363\n",
       "2         北海道*  男  2,098,789\n",
       "3         北海道*  女  2,410,574\n",
       "4         青森県*  計  1,103,183\n",
       "5         青森県*  男    515,090\n",
       "..         ... ..        ...\n",
       "137      鹿児島県*  男    626,483\n",
       "138      鹿児島県*  女    728,637\n",
       "139       沖縄県*  計  1,135,115\n",
       "140       沖縄県*  男    553,684\n",
       "141       沖縄県*  女    581,431\n",
       "\n",
       "[141 rows x 3 columns]"
      ]
     },
     "execution_count": 29,
     "metadata": {},
     "output_type": "execute_result"
    }
   ],
   "source": [
    "df_adult3 = df_adult2.rename(columns={\"Unnamed: 1\":\"性別\",'Unnamed: 2':'adult'})\n",
    "df_adult3"
   ]
  },
  {
   "cell_type": "markdown",
   "metadata": {},
   "source": [
    "同じ要領で、df3の'Unnamed: 0'を'prefecture'に変更してください！  \n",
    "名前はdf3と定義しましょう。"
   ]
  },
  {
   "cell_type": "markdown",
   "metadata": {},
   "source": [
    "**その6** **特定の列だけを取り出してみよう！**<a id='sec7_6'></a>  \n",
    "[先頭に戻る](#top)"
   ]
  },
  {
   "cell_type": "code",
   "execution_count": 34,
   "metadata": {},
   "outputs": [
    {
     "data": {
      "text/html": [
       "<div>\n",
       "<style scoped>\n",
       "    .dataframe tbody tr th:only-of-type {\n",
       "        vertical-align: middle;\n",
       "    }\n",
       "\n",
       "    .dataframe tbody tr th {\n",
       "        vertical-align: top;\n",
       "    }\n",
       "\n",
       "    .dataframe thead th {\n",
       "        text-align: right;\n",
       "    }\n",
       "</style>\n",
       "<table border=\"1\" class=\"dataframe\">\n",
       "  <thead>\n",
       "    <tr style=\"text-align: right;\">\n",
       "      <th></th>\n",
       "      <th>prefecture</th>\n",
       "      <th>性別</th>\n",
       "      <th>adult</th>\n",
       "    </tr>\n",
       "  </thead>\n",
       "  <tbody>\n",
       "    <tr>\n",
       "      <th>1</th>\n",
       "      <td>北海道*</td>\n",
       "      <td>計</td>\n",
       "      <td>4,509,363</td>\n",
       "    </tr>\n",
       "    <tr>\n",
       "      <th>2</th>\n",
       "      <td>北海道*</td>\n",
       "      <td>男</td>\n",
       "      <td>2,098,789</td>\n",
       "    </tr>\n",
       "    <tr>\n",
       "      <th>3</th>\n",
       "      <td>北海道*</td>\n",
       "      <td>女</td>\n",
       "      <td>2,410,574</td>\n",
       "    </tr>\n",
       "    <tr>\n",
       "      <th>4</th>\n",
       "      <td>青森県*</td>\n",
       "      <td>計</td>\n",
       "      <td>1,103,183</td>\n",
       "    </tr>\n",
       "    <tr>\n",
       "      <th>5</th>\n",
       "      <td>青森県*</td>\n",
       "      <td>男</td>\n",
       "      <td>515,090</td>\n",
       "    </tr>\n",
       "    <tr>\n",
       "      <th>...</th>\n",
       "      <td>...</td>\n",
       "      <td>...</td>\n",
       "      <td>...</td>\n",
       "    </tr>\n",
       "    <tr>\n",
       "      <th>137</th>\n",
       "      <td>鹿児島県*</td>\n",
       "      <td>男</td>\n",
       "      <td>626,483</td>\n",
       "    </tr>\n",
       "    <tr>\n",
       "      <th>138</th>\n",
       "      <td>鹿児島県*</td>\n",
       "      <td>女</td>\n",
       "      <td>728,637</td>\n",
       "    </tr>\n",
       "    <tr>\n",
       "      <th>139</th>\n",
       "      <td>沖縄県*</td>\n",
       "      <td>計</td>\n",
       "      <td>1,135,115</td>\n",
       "    </tr>\n",
       "    <tr>\n",
       "      <th>140</th>\n",
       "      <td>沖縄県*</td>\n",
       "      <td>男</td>\n",
       "      <td>553,684</td>\n",
       "    </tr>\n",
       "    <tr>\n",
       "      <th>141</th>\n",
       "      <td>沖縄県*</td>\n",
       "      <td>女</td>\n",
       "      <td>581,431</td>\n",
       "    </tr>\n",
       "  </tbody>\n",
       "</table>\n",
       "<p>141 rows × 3 columns</p>\n",
       "</div>"
      ],
      "text/plain": [
       "    prefecture 性別      adult\n",
       "1         北海道*  計  4,509,363\n",
       "2         北海道*  男  2,098,789\n",
       "3         北海道*  女  2,410,574\n",
       "4         青森県*  計  1,103,183\n",
       "5         青森県*  男    515,090\n",
       "..         ... ..        ...\n",
       "137      鹿児島県*  男    626,483\n",
       "138      鹿児島県*  女    728,637\n",
       "139       沖縄県*  計  1,135,115\n",
       "140       沖縄県*  男    553,684\n",
       "141       沖縄県*  女    581,431\n",
       "\n",
       "[141 rows x 3 columns]"
      ]
     },
     "execution_count": 34,
     "metadata": {},
     "output_type": "execute_result"
    }
   ],
   "source": [
    "df_adult3"
   ]
  },
  {
   "cell_type": "markdown",
   "metadata": {},
   "source": [
    "df_adultには、男女別の人口データが収められています。今回の分析では男女別のデータは不必要ですので、性別が\"計\"であるデータのみを取り出しましょう。"
   ]
  },
  {
   "cell_type": "code",
   "execution_count": 35,
   "metadata": {},
   "outputs": [
    {
     "data": {
      "text/html": [
       "<div>\n",
       "<style scoped>\n",
       "    .dataframe tbody tr th:only-of-type {\n",
       "        vertical-align: middle;\n",
       "    }\n",
       "\n",
       "    .dataframe tbody tr th {\n",
       "        vertical-align: top;\n",
       "    }\n",
       "\n",
       "    .dataframe thead th {\n",
       "        text-align: right;\n",
       "    }\n",
       "</style>\n",
       "<table border=\"1\" class=\"dataframe\">\n",
       "  <thead>\n",
       "    <tr style=\"text-align: right;\">\n",
       "      <th></th>\n",
       "      <th>prefecture</th>\n",
       "      <th>性別</th>\n",
       "      <th>adult</th>\n",
       "    </tr>\n",
       "  </thead>\n",
       "  <tbody>\n",
       "    <tr>\n",
       "      <th>2</th>\n",
       "      <td>北海道*</td>\n",
       "      <td>男</td>\n",
       "      <td>2,098,789</td>\n",
       "    </tr>\n",
       "    <tr>\n",
       "      <th>5</th>\n",
       "      <td>青森県*</td>\n",
       "      <td>男</td>\n",
       "      <td>515,090</td>\n",
       "    </tr>\n",
       "    <tr>\n",
       "      <th>8</th>\n",
       "      <td>岩手県*</td>\n",
       "      <td>男</td>\n",
       "      <td>502,723</td>\n",
       "    </tr>\n",
       "    <tr>\n",
       "      <th>11</th>\n",
       "      <td>宮城県*</td>\n",
       "      <td>男</td>\n",
       "      <td>924,431</td>\n",
       "    </tr>\n",
       "    <tr>\n",
       "      <th>14</th>\n",
       "      <td>秋田県*</td>\n",
       "      <td>男</td>\n",
       "      <td>404,463</td>\n",
       "    </tr>\n",
       "    <tr>\n",
       "      <th>17</th>\n",
       "      <td>山形県*</td>\n",
       "      <td>男</td>\n",
       "      <td>440,084</td>\n",
       "    </tr>\n",
       "    <tr>\n",
       "      <th>20</th>\n",
       "      <td>福島県*</td>\n",
       "      <td>男</td>\n",
       "      <td>774,841</td>\n",
       "    </tr>\n",
       "    <tr>\n",
       "      <th>23</th>\n",
       "      <td>茨城県</td>\n",
       "      <td>男</td>\n",
       "      <td>1,217,871</td>\n",
       "    </tr>\n",
       "    <tr>\n",
       "      <th>26</th>\n",
       "      <td>栃木県*</td>\n",
       "      <td>男</td>\n",
       "      <td>814,580</td>\n",
       "    </tr>\n",
       "    <tr>\n",
       "      <th>29</th>\n",
       "      <td>群馬県*</td>\n",
       "      <td>男</td>\n",
       "      <td>809,054</td>\n",
       "    </tr>\n",
       "    <tr>\n",
       "      <th>32</th>\n",
       "      <td>埼玉県*</td>\n",
       "      <td>男</td>\n",
       "      <td>3,038,374</td>\n",
       "    </tr>\n",
       "    <tr>\n",
       "      <th>35</th>\n",
       "      <td>千葉県*</td>\n",
       "      <td>男</td>\n",
       "      <td>2,596,665</td>\n",
       "    </tr>\n",
       "    <tr>\n",
       "      <th>38</th>\n",
       "      <td>東京都*</td>\n",
       "      <td>男</td>\n",
       "      <td>5,623,543</td>\n",
       "    </tr>\n",
       "    <tr>\n",
       "      <th>41</th>\n",
       "      <td>神奈川県*</td>\n",
       "      <td>男</td>\n",
       "      <td>3,774,722</td>\n",
       "    </tr>\n",
       "    <tr>\n",
       "      <th>44</th>\n",
       "      <td>新潟県*</td>\n",
       "      <td>男</td>\n",
       "      <td>915,481</td>\n",
       "    </tr>\n",
       "    <tr>\n",
       "      <th>47</th>\n",
       "      <td>富山県*</td>\n",
       "      <td>男</td>\n",
       "      <td>427,576</td>\n",
       "    </tr>\n",
       "    <tr>\n",
       "      <th>50</th>\n",
       "      <td>石川県*</td>\n",
       "      <td>男</td>\n",
       "      <td>452,086</td>\n",
       "    </tr>\n",
       "    <tr>\n",
       "      <th>53</th>\n",
       "      <td>福井県*</td>\n",
       "      <td>男</td>\n",
       "      <td>311,018</td>\n",
       "    </tr>\n",
       "    <tr>\n",
       "      <th>56</th>\n",
       "      <td>山梨県*</td>\n",
       "      <td>男</td>\n",
       "      <td>337,725</td>\n",
       "    </tr>\n",
       "    <tr>\n",
       "      <th>59</th>\n",
       "      <td>長野県*</td>\n",
       "      <td>男</td>\n",
       "      <td>842,768</td>\n",
       "    </tr>\n",
       "    <tr>\n",
       "      <th>62</th>\n",
       "      <td>岐阜県*</td>\n",
       "      <td>男</td>\n",
       "      <td>811,795</td>\n",
       "    </tr>\n",
       "    <tr>\n",
       "      <th>65</th>\n",
       "      <td>静岡県*</td>\n",
       "      <td>男</td>\n",
       "      <td>1,514,566</td>\n",
       "    </tr>\n",
       "    <tr>\n",
       "      <th>68</th>\n",
       "      <td>愛知県*</td>\n",
       "      <td>男</td>\n",
       "      <td>3,063,192</td>\n",
       "    </tr>\n",
       "    <tr>\n",
       "      <th>71</th>\n",
       "      <td>三重県*</td>\n",
       "      <td>男</td>\n",
       "      <td>731,960</td>\n",
       "    </tr>\n",
       "    <tr>\n",
       "      <th>74</th>\n",
       "      <td>滋賀県*</td>\n",
       "      <td>男</td>\n",
       "      <td>557,223</td>\n",
       "    </tr>\n",
       "    <tr>\n",
       "      <th>77</th>\n",
       "      <td>京都府*</td>\n",
       "      <td>男</td>\n",
       "      <td>1,004,551</td>\n",
       "    </tr>\n",
       "    <tr>\n",
       "      <th>80</th>\n",
       "      <td>大阪府*</td>\n",
       "      <td>男</td>\n",
       "      <td>3,497,845</td>\n",
       "    </tr>\n",
       "    <tr>\n",
       "      <th>83</th>\n",
       "      <td>兵庫県*</td>\n",
       "      <td>男</td>\n",
       "      <td>2,172,961</td>\n",
       "    </tr>\n",
       "    <tr>\n",
       "      <th>86</th>\n",
       "      <td>奈良県*</td>\n",
       "      <td>男</td>\n",
       "      <td>531,648</td>\n",
       "    </tr>\n",
       "    <tr>\n",
       "      <th>89</th>\n",
       "      <td>和歌山県*</td>\n",
       "      <td>男</td>\n",
       "      <td>379,139</td>\n",
       "    </tr>\n",
       "    <tr>\n",
       "      <th>92</th>\n",
       "      <td>鳥取県*</td>\n",
       "      <td>男</td>\n",
       "      <td>221,765</td>\n",
       "    </tr>\n",
       "    <tr>\n",
       "      <th>95</th>\n",
       "      <td>島根県*</td>\n",
       "      <td>男</td>\n",
       "      <td>270,544</td>\n",
       "    </tr>\n",
       "    <tr>\n",
       "      <th>98</th>\n",
       "      <td>岡山県*</td>\n",
       "      <td>男</td>\n",
       "      <td>749,297</td>\n",
       "    </tr>\n",
       "    <tr>\n",
       "      <th>101</th>\n",
       "      <td>広島県*</td>\n",
       "      <td>男</td>\n",
       "      <td>1,120,478</td>\n",
       "    </tr>\n",
       "    <tr>\n",
       "      <th>104</th>\n",
       "      <td>山口県*</td>\n",
       "      <td>男</td>\n",
       "      <td>544,284</td>\n",
       "    </tr>\n",
       "    <tr>\n",
       "      <th>107</th>\n",
       "      <td>徳島県*</td>\n",
       "      <td>男</td>\n",
       "      <td>298,662</td>\n",
       "    </tr>\n",
       "    <tr>\n",
       "      <th>110</th>\n",
       "      <td>香川県*</td>\n",
       "      <td>男</td>\n",
       "      <td>391,107</td>\n",
       "    </tr>\n",
       "    <tr>\n",
       "      <th>113</th>\n",
       "      <td>愛媛県*</td>\n",
       "      <td>男</td>\n",
       "      <td>541,333</td>\n",
       "    </tr>\n",
       "    <tr>\n",
       "      <th>116</th>\n",
       "      <td>高知県*</td>\n",
       "      <td>男</td>\n",
       "      <td>283,177</td>\n",
       "    </tr>\n",
       "    <tr>\n",
       "      <th>119</th>\n",
       "      <td>福岡県*</td>\n",
       "      <td>男</td>\n",
       "      <td>1,959,795</td>\n",
       "    </tr>\n",
       "    <tr>\n",
       "      <th>122</th>\n",
       "      <td>佐賀県*</td>\n",
       "      <td>男</td>\n",
       "      <td>315,023</td>\n",
       "    </tr>\n",
       "    <tr>\n",
       "      <th>125</th>\n",
       "      <td>長崎県*</td>\n",
       "      <td>男</td>\n",
       "      <td>525,196</td>\n",
       "    </tr>\n",
       "    <tr>\n",
       "      <th>128</th>\n",
       "      <td>熊本県*</td>\n",
       "      <td>男</td>\n",
       "      <td>680,576</td>\n",
       "    </tr>\n",
       "    <tr>\n",
       "      <th>131</th>\n",
       "      <td>大分県*</td>\n",
       "      <td>男</td>\n",
       "      <td>452,460</td>\n",
       "    </tr>\n",
       "    <tr>\n",
       "      <th>134</th>\n",
       "      <td>宮崎県*</td>\n",
       "      <td>男</td>\n",
       "      <td>422,483</td>\n",
       "    </tr>\n",
       "    <tr>\n",
       "      <th>137</th>\n",
       "      <td>鹿児島県*</td>\n",
       "      <td>男</td>\n",
       "      <td>626,483</td>\n",
       "    </tr>\n",
       "    <tr>\n",
       "      <th>140</th>\n",
       "      <td>沖縄県*</td>\n",
       "      <td>男</td>\n",
       "      <td>553,684</td>\n",
       "    </tr>\n",
       "  </tbody>\n",
       "</table>\n",
       "</div>"
      ],
      "text/plain": [
       "    prefecture 性別      adult\n",
       "2         北海道*  男  2,098,789\n",
       "5         青森県*  男    515,090\n",
       "8         岩手県*  男    502,723\n",
       "11        宮城県*  男    924,431\n",
       "14        秋田県*  男    404,463\n",
       "17        山形県*  男    440,084\n",
       "20        福島県*  男    774,841\n",
       "23         茨城県  男  1,217,871\n",
       "26        栃木県*  男    814,580\n",
       "29        群馬県*  男    809,054\n",
       "32        埼玉県*  男  3,038,374\n",
       "35        千葉県*  男  2,596,665\n",
       "38        東京都*  男  5,623,543\n",
       "41       神奈川県*  男  3,774,722\n",
       "44        新潟県*  男    915,481\n",
       "47        富山県*  男    427,576\n",
       "50        石川県*  男    452,086\n",
       "53        福井県*  男    311,018\n",
       "56        山梨県*  男    337,725\n",
       "59        長野県*  男    842,768\n",
       "62        岐阜県*  男    811,795\n",
       "65        静岡県*  男  1,514,566\n",
       "68        愛知県*  男  3,063,192\n",
       "71        三重県*  男    731,960\n",
       "74        滋賀県*  男    557,223\n",
       "77        京都府*  男  1,004,551\n",
       "80        大阪府*  男  3,497,845\n",
       "83        兵庫県*  男  2,172,961\n",
       "86        奈良県*  男    531,648\n",
       "89       和歌山県*  男    379,139\n",
       "92        鳥取県*  男    221,765\n",
       "95        島根県*  男    270,544\n",
       "98        岡山県*  男    749,297\n",
       "101       広島県*  男  1,120,478\n",
       "104       山口県*  男    544,284\n",
       "107       徳島県*  男    298,662\n",
       "110       香川県*  男    391,107\n",
       "113       愛媛県*  男    541,333\n",
       "116       高知県*  男    283,177\n",
       "119       福岡県*  男  1,959,795\n",
       "122       佐賀県*  男    315,023\n",
       "125       長崎県*  男    525,196\n",
       "128       熊本県*  男    680,576\n",
       "131       大分県*  男    452,460\n",
       "134       宮崎県*  男    422,483\n",
       "137      鹿児島県*  男    626,483\n",
       "140       沖縄県*  男    553,684"
      ]
     },
     "execution_count": 35,
     "metadata": {},
     "output_type": "execute_result"
    }
   ],
   "source": [
    "#性別が男のデータの取り出し方。\n",
    "df_adult3[df_adult3[\"性別\"]==\"男\"]"
   ]
  },
  {
   "cell_type": "markdown",
   "metadata": {},
   "source": [
    "**上の例を参考にして性別が\"計\"であるデータフレームを、df_adult4と定義してみましょう。**"
   ]
  },
  {
   "cell_type": "markdown",
   "metadata": {},
   "source": [
    "性別が\"計\"であるデータのみを取り出せました。  \n",
    "取り出せましたが、インデックスが元のままになっているので、インデックスを振りなおします。"
   ]
  },
  {
   "cell_type": "markdown",
   "metadata": {},
   "source": [
    "もとのインデックスを削除してインデックスを振りなおす。  \n",
    "df.reset_index(drop=True)"
   ]
  },
  {
   "cell_type": "code",
   "execution_count": 40,
   "metadata": {},
   "outputs": [
    {
     "data": {
      "text/html": [
       "<div>\n",
       "<style scoped>\n",
       "    .dataframe tbody tr th:only-of-type {\n",
       "        vertical-align: middle;\n",
       "    }\n",
       "\n",
       "    .dataframe tbody tr th {\n",
       "        vertical-align: top;\n",
       "    }\n",
       "\n",
       "    .dataframe thead th {\n",
       "        text-align: right;\n",
       "    }\n",
       "</style>\n",
       "<table border=\"1\" class=\"dataframe\">\n",
       "  <thead>\n",
       "    <tr style=\"text-align: right;\">\n",
       "      <th></th>\n",
       "      <th>prefecture</th>\n",
       "      <th>性別</th>\n",
       "      <th>adult</th>\n",
       "    </tr>\n",
       "  </thead>\n",
       "  <tbody>\n",
       "    <tr>\n",
       "      <th>0</th>\n",
       "      <td>北海道*</td>\n",
       "      <td>計</td>\n",
       "      <td>4,509,363</td>\n",
       "    </tr>\n",
       "    <tr>\n",
       "      <th>1</th>\n",
       "      <td>青森県*</td>\n",
       "      <td>計</td>\n",
       "      <td>1,103,183</td>\n",
       "    </tr>\n",
       "    <tr>\n",
       "      <th>2</th>\n",
       "      <td>岩手県*</td>\n",
       "      <td>計</td>\n",
       "      <td>1,059,293</td>\n",
       "    </tr>\n",
       "    <tr>\n",
       "      <th>3</th>\n",
       "      <td>宮城県*</td>\n",
       "      <td>計</td>\n",
       "      <td>1,915,548</td>\n",
       "    </tr>\n",
       "    <tr>\n",
       "      <th>4</th>\n",
       "      <td>秋田県*</td>\n",
       "      <td>計</td>\n",
       "      <td>868,937</td>\n",
       "    </tr>\n",
       "    <tr>\n",
       "      <th>5</th>\n",
       "      <td>山形県*</td>\n",
       "      <td>計</td>\n",
       "      <td>924,199</td>\n",
       "    </tr>\n",
       "    <tr>\n",
       "      <th>6</th>\n",
       "      <td>福島県*</td>\n",
       "      <td>計</td>\n",
       "      <td>1,595,503</td>\n",
       "    </tr>\n",
       "    <tr>\n",
       "      <th>7</th>\n",
       "      <td>茨城県</td>\n",
       "      <td>計</td>\n",
       "      <td>2,443,898</td>\n",
       "    </tr>\n",
       "    <tr>\n",
       "      <th>8</th>\n",
       "      <td>栃木県*</td>\n",
       "      <td>計</td>\n",
       "      <td>1,642,620</td>\n",
       "    </tr>\n",
       "    <tr>\n",
       "      <th>9</th>\n",
       "      <td>群馬県*</td>\n",
       "      <td>計</td>\n",
       "      <td>1,646,104</td>\n",
       "    </tr>\n",
       "    <tr>\n",
       "      <th>10</th>\n",
       "      <td>埼玉県*</td>\n",
       "      <td>計</td>\n",
       "      <td>6,096,407</td>\n",
       "    </tr>\n",
       "    <tr>\n",
       "      <th>11</th>\n",
       "      <td>千葉県*</td>\n",
       "      <td>計</td>\n",
       "      <td>5,231,131</td>\n",
       "    </tr>\n",
       "    <tr>\n",
       "      <th>12</th>\n",
       "      <td>東京都*</td>\n",
       "      <td>計</td>\n",
       "      <td>11,493,560</td>\n",
       "    </tr>\n",
       "    <tr>\n",
       "      <th>13</th>\n",
       "      <td>神奈川県*</td>\n",
       "      <td>計</td>\n",
       "      <td>7,601,252</td>\n",
       "    </tr>\n",
       "    <tr>\n",
       "      <th>14</th>\n",
       "      <td>新潟県*</td>\n",
       "      <td>計</td>\n",
       "      <td>1,907,772</td>\n",
       "    </tr>\n",
       "    <tr>\n",
       "      <th>15</th>\n",
       "      <td>富山県*</td>\n",
       "      <td>計</td>\n",
       "      <td>893,015</td>\n",
       "    </tr>\n",
       "    <tr>\n",
       "      <th>16</th>\n",
       "      <td>石川県*</td>\n",
       "      <td>計</td>\n",
       "      <td>946,198</td>\n",
       "    </tr>\n",
       "    <tr>\n",
       "      <th>17</th>\n",
       "      <td>福井県*</td>\n",
       "      <td>計</td>\n",
       "      <td>648,910</td>\n",
       "    </tr>\n",
       "    <tr>\n",
       "      <th>18</th>\n",
       "      <td>山梨県*</td>\n",
       "      <td>計</td>\n",
       "      <td>696,023</td>\n",
       "    </tr>\n",
       "    <tr>\n",
       "      <th>19</th>\n",
       "      <td>長野県*</td>\n",
       "      <td>計</td>\n",
       "      <td>1,746,050</td>\n",
       "    </tr>\n",
       "    <tr>\n",
       "      <th>20</th>\n",
       "      <td>岐阜県*</td>\n",
       "      <td>計</td>\n",
       "      <td>1,687,256</td>\n",
       "    </tr>\n",
       "    <tr>\n",
       "      <th>21</th>\n",
       "      <td>静岡県*</td>\n",
       "      <td>計</td>\n",
       "      <td>3,093,014</td>\n",
       "    </tr>\n",
       "    <tr>\n",
       "      <th>22</th>\n",
       "      <td>愛知県*</td>\n",
       "      <td>計</td>\n",
       "      <td>6,145,895</td>\n",
       "    </tr>\n",
       "    <tr>\n",
       "      <th>23</th>\n",
       "      <td>三重県*</td>\n",
       "      <td>計</td>\n",
       "      <td>1,512,253</td>\n",
       "    </tr>\n",
       "    <tr>\n",
       "      <th>24</th>\n",
       "      <td>滋賀県*</td>\n",
       "      <td>計</td>\n",
       "      <td>1,142,334</td>\n",
       "    </tr>\n",
       "    <tr>\n",
       "      <th>25</th>\n",
       "      <td>京都府*</td>\n",
       "      <td>計</td>\n",
       "      <td>2,126,007</td>\n",
       "    </tr>\n",
       "    <tr>\n",
       "      <th>26</th>\n",
       "      <td>大阪府*</td>\n",
       "      <td>計</td>\n",
       "      <td>7,330,851</td>\n",
       "    </tr>\n",
       "    <tr>\n",
       "      <th>27</th>\n",
       "      <td>兵庫県*</td>\n",
       "      <td>計</td>\n",
       "      <td>4,598,876</td>\n",
       "    </tr>\n",
       "    <tr>\n",
       "      <th>28</th>\n",
       "      <td>奈良県*</td>\n",
       "      <td>計</td>\n",
       "      <td>1,136,450</td>\n",
       "    </tr>\n",
       "    <tr>\n",
       "      <th>29</th>\n",
       "      <td>和歌山県*</td>\n",
       "      <td>計</td>\n",
       "      <td>813,891</td>\n",
       "    </tr>\n",
       "    <tr>\n",
       "      <th>30</th>\n",
       "      <td>鳥取県*</td>\n",
       "      <td>計</td>\n",
       "      <td>470,863</td>\n",
       "    </tr>\n",
       "    <tr>\n",
       "      <th>31</th>\n",
       "      <td>島根県*</td>\n",
       "      <td>計</td>\n",
       "      <td>572,561</td>\n",
       "    </tr>\n",
       "    <tr>\n",
       "      <th>32</th>\n",
       "      <td>岡山県*</td>\n",
       "      <td>計</td>\n",
       "      <td>1,576,199</td>\n",
       "    </tr>\n",
       "    <tr>\n",
       "      <th>33</th>\n",
       "      <td>広島県*</td>\n",
       "      <td>計</td>\n",
       "      <td>2,339,501</td>\n",
       "    </tr>\n",
       "    <tr>\n",
       "      <th>34</th>\n",
       "      <td>山口県*</td>\n",
       "      <td>計</td>\n",
       "      <td>1,165,183</td>\n",
       "    </tr>\n",
       "    <tr>\n",
       "      <th>35</th>\n",
       "      <td>徳島県*</td>\n",
       "      <td>計</td>\n",
       "      <td>634,532</td>\n",
       "    </tr>\n",
       "    <tr>\n",
       "      <th>36</th>\n",
       "      <td>香川県*</td>\n",
       "      <td>計</td>\n",
       "      <td>819,653</td>\n",
       "    </tr>\n",
       "    <tr>\n",
       "      <th>37</th>\n",
       "      <td>愛媛県*</td>\n",
       "      <td>計</td>\n",
       "      <td>1,160,477</td>\n",
       "    </tr>\n",
       "    <tr>\n",
       "      <th>38</th>\n",
       "      <td>高知県*</td>\n",
       "      <td>計</td>\n",
       "      <td>609,848</td>\n",
       "    </tr>\n",
       "    <tr>\n",
       "      <th>39</th>\n",
       "      <td>福岡県*</td>\n",
       "      <td>計</td>\n",
       "      <td>4,194,243</td>\n",
       "    </tr>\n",
       "    <tr>\n",
       "      <th>40</th>\n",
       "      <td>佐賀県*</td>\n",
       "      <td>計</td>\n",
       "      <td>675,917</td>\n",
       "    </tr>\n",
       "    <tr>\n",
       "      <th>41</th>\n",
       "      <td>長崎県*</td>\n",
       "      <td>計</td>\n",
       "      <td>1,136,351</td>\n",
       "    </tr>\n",
       "    <tr>\n",
       "      <th>42</th>\n",
       "      <td>熊本県*</td>\n",
       "      <td>計</td>\n",
       "      <td>1,463,363</td>\n",
       "    </tr>\n",
       "    <tr>\n",
       "      <th>43</th>\n",
       "      <td>大分県*</td>\n",
       "      <td>計</td>\n",
       "      <td>968,502</td>\n",
       "    </tr>\n",
       "    <tr>\n",
       "      <th>44</th>\n",
       "      <td>宮崎県*</td>\n",
       "      <td>計</td>\n",
       "      <td>909,293</td>\n",
       "    </tr>\n",
       "    <tr>\n",
       "      <th>45</th>\n",
       "      <td>鹿児島県*</td>\n",
       "      <td>計</td>\n",
       "      <td>1,355,120</td>\n",
       "    </tr>\n",
       "    <tr>\n",
       "      <th>46</th>\n",
       "      <td>沖縄県*</td>\n",
       "      <td>計</td>\n",
       "      <td>1,135,115</td>\n",
       "    </tr>\n",
       "  </tbody>\n",
       "</table>\n",
       "</div>"
      ],
      "text/plain": [
       "   prefecture 性別       adult\n",
       "0        北海道*  計   4,509,363\n",
       "1        青森県*  計   1,103,183\n",
       "2        岩手県*  計   1,059,293\n",
       "3        宮城県*  計   1,915,548\n",
       "4        秋田県*  計     868,937\n",
       "5        山形県*  計     924,199\n",
       "6        福島県*  計   1,595,503\n",
       "7         茨城県  計   2,443,898\n",
       "8        栃木県*  計   1,642,620\n",
       "9        群馬県*  計   1,646,104\n",
       "10       埼玉県*  計   6,096,407\n",
       "11       千葉県*  計   5,231,131\n",
       "12       東京都*  計  11,493,560\n",
       "13      神奈川県*  計   7,601,252\n",
       "14       新潟県*  計   1,907,772\n",
       "15       富山県*  計     893,015\n",
       "16       石川県*  計     946,198\n",
       "17       福井県*  計     648,910\n",
       "18       山梨県*  計     696,023\n",
       "19       長野県*  計   1,746,050\n",
       "20       岐阜県*  計   1,687,256\n",
       "21       静岡県*  計   3,093,014\n",
       "22       愛知県*  計   6,145,895\n",
       "23       三重県*  計   1,512,253\n",
       "24       滋賀県*  計   1,142,334\n",
       "25       京都府*  計   2,126,007\n",
       "26       大阪府*  計   7,330,851\n",
       "27       兵庫県*  計   4,598,876\n",
       "28       奈良県*  計   1,136,450\n",
       "29      和歌山県*  計     813,891\n",
       "30       鳥取県*  計     470,863\n",
       "31       島根県*  計     572,561\n",
       "32       岡山県*  計   1,576,199\n",
       "33       広島県*  計   2,339,501\n",
       "34       山口県*  計   1,165,183\n",
       "35       徳島県*  計     634,532\n",
       "36       香川県*  計     819,653\n",
       "37       愛媛県*  計   1,160,477\n",
       "38       高知県*  計     609,848\n",
       "39       福岡県*  計   4,194,243\n",
       "40       佐賀県*  計     675,917\n",
       "41       長崎県*  計   1,136,351\n",
       "42       熊本県*  計   1,463,363\n",
       "43       大分県*  計     968,502\n",
       "44       宮崎県*  計     909,293\n",
       "45      鹿児島県*  計   1,355,120\n",
       "46       沖縄県*  計   1,135,115"
      ]
     },
     "execution_count": 40,
     "metadata": {},
     "output_type": "execute_result"
    }
   ],
   "source": [
    "df_adult4=df_adult4.reset_index(drop=True)\n",
    "df_adult4"
   ]
  },
  {
   "cell_type": "raw",
   "metadata": {},
   "source": [
    "#dropを使わず、三行ごとに取り出しても良い\n",
    "df[::3]"
   ]
  },
  {
   "cell_type": "markdown",
   "metadata": {},
   "source": [
    "**その7** **文字列を削除してみよう！**<a id='sec7_7'></a>  \n",
    "[先頭に戻る](#top)"
   ]
  },
  {
   "cell_type": "markdown",
   "metadata": {},
   "source": [
    "次に、県名の表記を統一します。現在は語尾にアスタリスクが付いているので、先ずこれが不要です。さらに、今回は他のデータが都道府県名に県が付いていないので、県が付いていない都道府県名で統一します。よって、語尾のに文字を取り除けばよいことがわかります。"
   ]
  },
  {
   "cell_type": "code",
   "execution_count": 41,
   "metadata": {},
   "outputs": [
    {
     "data": {
      "text/html": [
       "<div>\n",
       "<style scoped>\n",
       "    .dataframe tbody tr th:only-of-type {\n",
       "        vertical-align: middle;\n",
       "    }\n",
       "\n",
       "    .dataframe tbody tr th {\n",
       "        vertical-align: top;\n",
       "    }\n",
       "\n",
       "    .dataframe thead th {\n",
       "        text-align: right;\n",
       "    }\n",
       "</style>\n",
       "<table border=\"1\" class=\"dataframe\">\n",
       "  <thead>\n",
       "    <tr style=\"text-align: right;\">\n",
       "      <th></th>\n",
       "      <th>prefecture</th>\n",
       "      <th>性別</th>\n",
       "      <th>adult</th>\n",
       "    </tr>\n",
       "  </thead>\n",
       "  <tbody>\n",
       "    <tr>\n",
       "      <th>0</th>\n",
       "      <td>北海</td>\n",
       "      <td>計</td>\n",
       "      <td>4,509,363</td>\n",
       "    </tr>\n",
       "    <tr>\n",
       "      <th>1</th>\n",
       "      <td>青森</td>\n",
       "      <td>計</td>\n",
       "      <td>1,103,183</td>\n",
       "    </tr>\n",
       "    <tr>\n",
       "      <th>2</th>\n",
       "      <td>岩手</td>\n",
       "      <td>計</td>\n",
       "      <td>1,059,293</td>\n",
       "    </tr>\n",
       "    <tr>\n",
       "      <th>3</th>\n",
       "      <td>宮城</td>\n",
       "      <td>計</td>\n",
       "      <td>1,915,548</td>\n",
       "    </tr>\n",
       "    <tr>\n",
       "      <th>4</th>\n",
       "      <td>秋田</td>\n",
       "      <td>計</td>\n",
       "      <td>868,937</td>\n",
       "    </tr>\n",
       "    <tr>\n",
       "      <th>5</th>\n",
       "      <td>山形</td>\n",
       "      <td>計</td>\n",
       "      <td>924,199</td>\n",
       "    </tr>\n",
       "    <tr>\n",
       "      <th>6</th>\n",
       "      <td>福島</td>\n",
       "      <td>計</td>\n",
       "      <td>1,595,503</td>\n",
       "    </tr>\n",
       "    <tr>\n",
       "      <th>7</th>\n",
       "      <td>茨</td>\n",
       "      <td>計</td>\n",
       "      <td>2,443,898</td>\n",
       "    </tr>\n",
       "    <tr>\n",
       "      <th>8</th>\n",
       "      <td>栃木</td>\n",
       "      <td>計</td>\n",
       "      <td>1,642,620</td>\n",
       "    </tr>\n",
       "    <tr>\n",
       "      <th>9</th>\n",
       "      <td>群馬</td>\n",
       "      <td>計</td>\n",
       "      <td>1,646,104</td>\n",
       "    </tr>\n",
       "    <tr>\n",
       "      <th>10</th>\n",
       "      <td>埼玉</td>\n",
       "      <td>計</td>\n",
       "      <td>6,096,407</td>\n",
       "    </tr>\n",
       "    <tr>\n",
       "      <th>11</th>\n",
       "      <td>千葉</td>\n",
       "      <td>計</td>\n",
       "      <td>5,231,131</td>\n",
       "    </tr>\n",
       "    <tr>\n",
       "      <th>12</th>\n",
       "      <td>東京</td>\n",
       "      <td>計</td>\n",
       "      <td>11,493,560</td>\n",
       "    </tr>\n",
       "    <tr>\n",
       "      <th>13</th>\n",
       "      <td>神奈川</td>\n",
       "      <td>計</td>\n",
       "      <td>7,601,252</td>\n",
       "    </tr>\n",
       "    <tr>\n",
       "      <th>14</th>\n",
       "      <td>新潟</td>\n",
       "      <td>計</td>\n",
       "      <td>1,907,772</td>\n",
       "    </tr>\n",
       "    <tr>\n",
       "      <th>15</th>\n",
       "      <td>富山</td>\n",
       "      <td>計</td>\n",
       "      <td>893,015</td>\n",
       "    </tr>\n",
       "    <tr>\n",
       "      <th>16</th>\n",
       "      <td>石川</td>\n",
       "      <td>計</td>\n",
       "      <td>946,198</td>\n",
       "    </tr>\n",
       "    <tr>\n",
       "      <th>17</th>\n",
       "      <td>福井</td>\n",
       "      <td>計</td>\n",
       "      <td>648,910</td>\n",
       "    </tr>\n",
       "    <tr>\n",
       "      <th>18</th>\n",
       "      <td>山梨</td>\n",
       "      <td>計</td>\n",
       "      <td>696,023</td>\n",
       "    </tr>\n",
       "    <tr>\n",
       "      <th>19</th>\n",
       "      <td>長野</td>\n",
       "      <td>計</td>\n",
       "      <td>1,746,050</td>\n",
       "    </tr>\n",
       "    <tr>\n",
       "      <th>20</th>\n",
       "      <td>岐阜</td>\n",
       "      <td>計</td>\n",
       "      <td>1,687,256</td>\n",
       "    </tr>\n",
       "    <tr>\n",
       "      <th>21</th>\n",
       "      <td>静岡</td>\n",
       "      <td>計</td>\n",
       "      <td>3,093,014</td>\n",
       "    </tr>\n",
       "    <tr>\n",
       "      <th>22</th>\n",
       "      <td>愛知</td>\n",
       "      <td>計</td>\n",
       "      <td>6,145,895</td>\n",
       "    </tr>\n",
       "    <tr>\n",
       "      <th>23</th>\n",
       "      <td>三重</td>\n",
       "      <td>計</td>\n",
       "      <td>1,512,253</td>\n",
       "    </tr>\n",
       "    <tr>\n",
       "      <th>24</th>\n",
       "      <td>滋賀</td>\n",
       "      <td>計</td>\n",
       "      <td>1,142,334</td>\n",
       "    </tr>\n",
       "    <tr>\n",
       "      <th>25</th>\n",
       "      <td>京都</td>\n",
       "      <td>計</td>\n",
       "      <td>2,126,007</td>\n",
       "    </tr>\n",
       "    <tr>\n",
       "      <th>26</th>\n",
       "      <td>大阪</td>\n",
       "      <td>計</td>\n",
       "      <td>7,330,851</td>\n",
       "    </tr>\n",
       "    <tr>\n",
       "      <th>27</th>\n",
       "      <td>兵庫</td>\n",
       "      <td>計</td>\n",
       "      <td>4,598,876</td>\n",
       "    </tr>\n",
       "    <tr>\n",
       "      <th>28</th>\n",
       "      <td>奈良</td>\n",
       "      <td>計</td>\n",
       "      <td>1,136,450</td>\n",
       "    </tr>\n",
       "    <tr>\n",
       "      <th>29</th>\n",
       "      <td>和歌山</td>\n",
       "      <td>計</td>\n",
       "      <td>813,891</td>\n",
       "    </tr>\n",
       "    <tr>\n",
       "      <th>30</th>\n",
       "      <td>鳥取</td>\n",
       "      <td>計</td>\n",
       "      <td>470,863</td>\n",
       "    </tr>\n",
       "    <tr>\n",
       "      <th>31</th>\n",
       "      <td>島根</td>\n",
       "      <td>計</td>\n",
       "      <td>572,561</td>\n",
       "    </tr>\n",
       "    <tr>\n",
       "      <th>32</th>\n",
       "      <td>岡山</td>\n",
       "      <td>計</td>\n",
       "      <td>1,576,199</td>\n",
       "    </tr>\n",
       "    <tr>\n",
       "      <th>33</th>\n",
       "      <td>広島</td>\n",
       "      <td>計</td>\n",
       "      <td>2,339,501</td>\n",
       "    </tr>\n",
       "    <tr>\n",
       "      <th>34</th>\n",
       "      <td>山口</td>\n",
       "      <td>計</td>\n",
       "      <td>1,165,183</td>\n",
       "    </tr>\n",
       "    <tr>\n",
       "      <th>35</th>\n",
       "      <td>徳島</td>\n",
       "      <td>計</td>\n",
       "      <td>634,532</td>\n",
       "    </tr>\n",
       "    <tr>\n",
       "      <th>36</th>\n",
       "      <td>香川</td>\n",
       "      <td>計</td>\n",
       "      <td>819,653</td>\n",
       "    </tr>\n",
       "    <tr>\n",
       "      <th>37</th>\n",
       "      <td>愛媛</td>\n",
       "      <td>計</td>\n",
       "      <td>1,160,477</td>\n",
       "    </tr>\n",
       "    <tr>\n",
       "      <th>38</th>\n",
       "      <td>高知</td>\n",
       "      <td>計</td>\n",
       "      <td>609,848</td>\n",
       "    </tr>\n",
       "    <tr>\n",
       "      <th>39</th>\n",
       "      <td>福岡</td>\n",
       "      <td>計</td>\n",
       "      <td>4,194,243</td>\n",
       "    </tr>\n",
       "    <tr>\n",
       "      <th>40</th>\n",
       "      <td>佐賀</td>\n",
       "      <td>計</td>\n",
       "      <td>675,917</td>\n",
       "    </tr>\n",
       "    <tr>\n",
       "      <th>41</th>\n",
       "      <td>長崎</td>\n",
       "      <td>計</td>\n",
       "      <td>1,136,351</td>\n",
       "    </tr>\n",
       "    <tr>\n",
       "      <th>42</th>\n",
       "      <td>熊本</td>\n",
       "      <td>計</td>\n",
       "      <td>1,463,363</td>\n",
       "    </tr>\n",
       "    <tr>\n",
       "      <th>43</th>\n",
       "      <td>大分</td>\n",
       "      <td>計</td>\n",
       "      <td>968,502</td>\n",
       "    </tr>\n",
       "    <tr>\n",
       "      <th>44</th>\n",
       "      <td>宮崎</td>\n",
       "      <td>計</td>\n",
       "      <td>909,293</td>\n",
       "    </tr>\n",
       "    <tr>\n",
       "      <th>45</th>\n",
       "      <td>鹿児島</td>\n",
       "      <td>計</td>\n",
       "      <td>1,355,120</td>\n",
       "    </tr>\n",
       "    <tr>\n",
       "      <th>46</th>\n",
       "      <td>沖縄</td>\n",
       "      <td>計</td>\n",
       "      <td>1,135,115</td>\n",
       "    </tr>\n",
       "  </tbody>\n",
       "</table>\n",
       "</div>"
      ],
      "text/plain": [
       "   prefecture 性別       adult\n",
       "0          北海  計   4,509,363\n",
       "1          青森  計   1,103,183\n",
       "2          岩手  計   1,059,293\n",
       "3          宮城  計   1,915,548\n",
       "4          秋田  計     868,937\n",
       "5          山形  計     924,199\n",
       "6          福島  計   1,595,503\n",
       "7           茨  計   2,443,898\n",
       "8          栃木  計   1,642,620\n",
       "9          群馬  計   1,646,104\n",
       "10         埼玉  計   6,096,407\n",
       "11         千葉  計   5,231,131\n",
       "12         東京  計  11,493,560\n",
       "13        神奈川  計   7,601,252\n",
       "14         新潟  計   1,907,772\n",
       "15         富山  計     893,015\n",
       "16         石川  計     946,198\n",
       "17         福井  計     648,910\n",
       "18         山梨  計     696,023\n",
       "19         長野  計   1,746,050\n",
       "20         岐阜  計   1,687,256\n",
       "21         静岡  計   3,093,014\n",
       "22         愛知  計   6,145,895\n",
       "23         三重  計   1,512,253\n",
       "24         滋賀  計   1,142,334\n",
       "25         京都  計   2,126,007\n",
       "26         大阪  計   7,330,851\n",
       "27         兵庫  計   4,598,876\n",
       "28         奈良  計   1,136,450\n",
       "29        和歌山  計     813,891\n",
       "30         鳥取  計     470,863\n",
       "31         島根  計     572,561\n",
       "32         岡山  計   1,576,199\n",
       "33         広島  計   2,339,501\n",
       "34         山口  計   1,165,183\n",
       "35         徳島  計     634,532\n",
       "36         香川  計     819,653\n",
       "37         愛媛  計   1,160,477\n",
       "38         高知  計     609,848\n",
       "39         福岡  計   4,194,243\n",
       "40         佐賀  計     675,917\n",
       "41         長崎  計   1,136,351\n",
       "42         熊本  計   1,463,363\n",
       "43         大分  計     968,502\n",
       "44         宮崎  計     909,293\n",
       "45        鹿児島  計   1,355,120\n",
       "46         沖縄  計   1,135,115"
      ]
     },
     "execution_count": 41,
     "metadata": {},
     "output_type": "execute_result"
    }
   ],
   "source": [
    "#次に、県名の表記を統一する。\n",
    "df_adult4[\"prefecture\"] = df_adult4[\"prefecture\"].str[:-2]\n",
    "df_adult4"
   ]
  },
  {
   "cell_type": "markdown",
   "metadata": {},
   "source": [
    "これを見ると\"北海道\"と\"茨城県\"の表記がおかしいことに気が付きます。この二県を修正します。"
   ]
  },
  {
   "cell_type": "markdown",
   "metadata": {},
   "source": [
    "**その8** **文字列を変更してみよう！**<a id='sec7_8'></a>  \n",
    "[先頭に戻る](#top)"
   ]
  },
  {
   "cell_type": "markdown",
   "metadata": {},
   "source": [
    "カラムの要素を変更するには、  \n",
    "df.replace({\"元の名前\":\"新しい名前\"})  \n",
    "です。"
   ]
  },
  {
   "cell_type": "code",
   "execution_count": 50,
   "metadata": {},
   "outputs": [
    {
     "data": {
      "text/html": [
       "<div>\n",
       "<style scoped>\n",
       "    .dataframe tbody tr th:only-of-type {\n",
       "        vertical-align: middle;\n",
       "    }\n",
       "\n",
       "    .dataframe tbody tr th {\n",
       "        vertical-align: top;\n",
       "    }\n",
       "\n",
       "    .dataframe thead th {\n",
       "        text-align: right;\n",
       "    }\n",
       "</style>\n",
       "<table border=\"1\" class=\"dataframe\">\n",
       "  <thead>\n",
       "    <tr style=\"text-align: right;\">\n",
       "      <th></th>\n",
       "      <th>名前</th>\n",
       "      <th>部活</th>\n",
       "    </tr>\n",
       "  </thead>\n",
       "  <tbody>\n",
       "    <tr>\n",
       "      <th>0</th>\n",
       "      <td>佐藤</td>\n",
       "      <td>野球</td>\n",
       "    </tr>\n",
       "    <tr>\n",
       "      <th>1</th>\n",
       "      <td>西田</td>\n",
       "      <td>サッカー</td>\n",
       "    </tr>\n",
       "  </tbody>\n",
       "</table>\n",
       "</div>"
      ],
      "text/plain": [
       "   名前    部活\n",
       "0  佐藤    野球\n",
       "1  西田  サッカー"
      ]
     },
     "execution_count": 50,
     "metadata": {},
     "output_type": "execute_result"
    }
   ],
   "source": [
    "df_club = pd.DataFrame(data=[{'名前': \"佐藤\", '部活': \"野球\"},{'名前': \"西田\", '部活': \"サッカー\"}])\n",
    "df_club"
   ]
  },
  {
   "cell_type": "markdown",
   "metadata": {},
   "source": [
    "例えば西田君がバレー部に転部したとき、下のように変更できます。ただし、すべての要素が変更されていることに注意です。"
   ]
  },
  {
   "cell_type": "code",
   "execution_count": 52,
   "metadata": {},
   "outputs": [
    {
     "data": {
      "text/html": [
       "<div>\n",
       "<style scoped>\n",
       "    .dataframe tbody tr th:only-of-type {\n",
       "        vertical-align: middle;\n",
       "    }\n",
       "\n",
       "    .dataframe tbody tr th {\n",
       "        vertical-align: top;\n",
       "    }\n",
       "\n",
       "    .dataframe thead th {\n",
       "        text-align: right;\n",
       "    }\n",
       "</style>\n",
       "<table border=\"1\" class=\"dataframe\">\n",
       "  <thead>\n",
       "    <tr style=\"text-align: right;\">\n",
       "      <th></th>\n",
       "      <th>名前</th>\n",
       "      <th>部活</th>\n",
       "    </tr>\n",
       "  </thead>\n",
       "  <tbody>\n",
       "    <tr>\n",
       "      <th>0</th>\n",
       "      <td>佐藤</td>\n",
       "      <td>野球</td>\n",
       "    </tr>\n",
       "    <tr>\n",
       "      <th>1</th>\n",
       "      <td>西田</td>\n",
       "      <td>バレー</td>\n",
       "    </tr>\n",
       "  </tbody>\n",
       "</table>\n",
       "</div>"
      ],
      "text/plain": [
       "   名前   部活\n",
       "0  佐藤   野球\n",
       "1  西田  バレー"
      ]
     },
     "execution_count": 52,
     "metadata": {},
     "output_type": "execute_result"
    }
   ],
   "source": [
    "df_club.replace({'サッカー':'バレー'})"
   ]
  },
  {
   "cell_type": "markdown",
   "metadata": {},
   "source": [
    "この例を用いて、おかしな県名の二県を変更してみましょう。  \n",
    "新しいデータフレーム名はdf_adult5です。"
   ]
  },
  {
   "cell_type": "markdown",
   "metadata": {},
   "source": [
    "最後に性別カラムはもう不要ですので、これを取り除きます。"
   ]
  },
  {
   "cell_type": "markdown",
   "metadata": {},
   "source": [
    "**その9** **行を削除してみよう！**<a id='sec7_9'></a>  \n",
    "[先頭に戻る](#top)"
   ]
  },
  {
   "cell_type": "code",
   "execution_count": 53,
   "metadata": {},
   "outputs": [
    {
     "data": {
      "text/html": [
       "<div>\n",
       "<style scoped>\n",
       "    .dataframe tbody tr th:only-of-type {\n",
       "        vertical-align: middle;\n",
       "    }\n",
       "\n",
       "    .dataframe tbody tr th {\n",
       "        vertical-align: top;\n",
       "    }\n",
       "\n",
       "    .dataframe thead th {\n",
       "        text-align: right;\n",
       "    }\n",
       "</style>\n",
       "<table border=\"1\" class=\"dataframe\">\n",
       "  <thead>\n",
       "    <tr style=\"text-align: right;\">\n",
       "      <th></th>\n",
       "      <th>名前</th>\n",
       "      <th>部活</th>\n",
       "    </tr>\n",
       "  </thead>\n",
       "  <tbody>\n",
       "    <tr>\n",
       "      <th>0</th>\n",
       "      <td>佐藤</td>\n",
       "      <td>野球</td>\n",
       "    </tr>\n",
       "    <tr>\n",
       "      <th>1</th>\n",
       "      <td>西田</td>\n",
       "      <td>サッカー</td>\n",
       "    </tr>\n",
       "  </tbody>\n",
       "</table>\n",
       "</div>"
      ],
      "text/plain": [
       "   名前    部活\n",
       "0  佐藤    野球\n",
       "1  西田  サッカー"
      ]
     },
     "execution_count": 53,
     "metadata": {},
     "output_type": "execute_result"
    }
   ],
   "source": [
    "df_club"
   ]
  },
  {
   "cell_type": "code",
   "execution_count": 54,
   "metadata": {},
   "outputs": [
    {
     "data": {
      "text/html": [
       "<div>\n",
       "<style scoped>\n",
       "    .dataframe tbody tr th:only-of-type {\n",
       "        vertical-align: middle;\n",
       "    }\n",
       "\n",
       "    .dataframe tbody tr th {\n",
       "        vertical-align: top;\n",
       "    }\n",
       "\n",
       "    .dataframe thead th {\n",
       "        text-align: right;\n",
       "    }\n",
       "</style>\n",
       "<table border=\"1\" class=\"dataframe\">\n",
       "  <thead>\n",
       "    <tr style=\"text-align: right;\">\n",
       "      <th></th>\n",
       "      <th>名前</th>\n",
       "    </tr>\n",
       "  </thead>\n",
       "  <tbody>\n",
       "    <tr>\n",
       "      <th>0</th>\n",
       "      <td>佐藤</td>\n",
       "    </tr>\n",
       "    <tr>\n",
       "      <th>1</th>\n",
       "      <td>西田</td>\n",
       "    </tr>\n",
       "  </tbody>\n",
       "</table>\n",
       "</div>"
      ],
      "text/plain": [
       "   名前\n",
       "0  佐藤\n",
       "1  西田"
      ]
     },
     "execution_count": 54,
     "metadata": {},
     "output_type": "execute_result"
    }
   ],
   "source": [
    "#部活カラムを削除する\n",
    "df_club.drop(columns=['部活'])"
   ]
  },
  {
   "cell_type": "markdown",
   "metadata": {},
   "source": [
    "同様に性別列を削除して、df_adult6と定義しましょう！"
   ]
  },
  {
   "cell_type": "markdown",
   "metadata": {},
   "source": [
    "**その10** **データを結合してみよう！**<a id='sec7_10'></a>  \n",
    "[先頭に戻る](#top)"
   ]
  },
  {
   "cell_type": "markdown",
   "metadata": {},
   "source": [
    "ようやく、欲しかったデータが一つ加工できました。  \n",
    "加工する必要のないdf_beerデータと今作ったdf_adultデータを結合させてみます。"
   ]
  },
  {
   "cell_type": "code",
   "execution_count": 56,
   "metadata": {},
   "outputs": [],
   "source": [
    "df_beer = pd.read_csv(\"ビールExcel.csv\")"
   ]
  },
  {
   "cell_type": "code",
   "execution_count": 57,
   "metadata": {},
   "outputs": [
    {
     "data": {
      "text/html": [
       "<div>\n",
       "<style scoped>\n",
       "    .dataframe tbody tr th:only-of-type {\n",
       "        vertical-align: middle;\n",
       "    }\n",
       "\n",
       "    .dataframe tbody tr th {\n",
       "        vertical-align: top;\n",
       "    }\n",
       "\n",
       "    .dataframe thead th {\n",
       "        text-align: right;\n",
       "    }\n",
       "</style>\n",
       "<table border=\"1\" class=\"dataframe\">\n",
       "  <thead>\n",
       "    <tr style=\"text-align: right;\">\n",
       "      <th></th>\n",
       "      <th>prefecture</th>\n",
       "      <th>beer</th>\n",
       "    </tr>\n",
       "  </thead>\n",
       "  <tbody>\n",
       "    <tr>\n",
       "      <th>0</th>\n",
       "      <td>北海道</td>\n",
       "      <td>113,097</td>\n",
       "    </tr>\n",
       "    <tr>\n",
       "      <th>1</th>\n",
       "      <td>青森</td>\n",
       "      <td>23,177</td>\n",
       "    </tr>\n",
       "    <tr>\n",
       "      <th>2</th>\n",
       "      <td>岩手</td>\n",
       "      <td>24,879</td>\n",
       "    </tr>\n",
       "    <tr>\n",
       "      <th>3</th>\n",
       "      <td>宮城</td>\n",
       "      <td>43,152</td>\n",
       "    </tr>\n",
       "    <tr>\n",
       "      <th>4</th>\n",
       "      <td>秋田</td>\n",
       "      <td>19,229</td>\n",
       "    </tr>\n",
       "  </tbody>\n",
       "</table>\n",
       "</div>"
      ],
      "text/plain": [
       "  prefecture     beer\n",
       "0        北海道  113,097\n",
       "1         青森   23,177\n",
       "2         岩手   24,879\n",
       "3         宮城   43,152\n",
       "4         秋田   19,229"
      ]
     },
     "execution_count": 57,
     "metadata": {},
     "output_type": "execute_result"
    }
   ],
   "source": [
    "df_beer.head()"
   ]
  },
  {
   "cell_type": "raw",
   "metadata": {},
   "source": [
    "how=\"inner\"で、カラムが共通のものを自動的に結合する。\n",
    "pd.merge(df1,df2,how=\"inner\")"
   ]
  },
  {
   "cell_type": "code",
   "execution_count": 58,
   "metadata": {},
   "outputs": [
    {
     "data": {
      "text/html": [
       "<div>\n",
       "<style scoped>\n",
       "    .dataframe tbody tr th:only-of-type {\n",
       "        vertical-align: middle;\n",
       "    }\n",
       "\n",
       "    .dataframe tbody tr th {\n",
       "        vertical-align: top;\n",
       "    }\n",
       "\n",
       "    .dataframe thead th {\n",
       "        text-align: right;\n",
       "    }\n",
       "</style>\n",
       "<table border=\"1\" class=\"dataframe\">\n",
       "  <thead>\n",
       "    <tr style=\"text-align: right;\">\n",
       "      <th></th>\n",
       "      <th>prefecture</th>\n",
       "      <th>adult</th>\n",
       "      <th>beer</th>\n",
       "    </tr>\n",
       "  </thead>\n",
       "  <tbody>\n",
       "    <tr>\n",
       "      <th>0</th>\n",
       "      <td>北海道</td>\n",
       "      <td>4,509,363</td>\n",
       "      <td>113,097</td>\n",
       "    </tr>\n",
       "    <tr>\n",
       "      <th>1</th>\n",
       "      <td>青森</td>\n",
       "      <td>1,103,183</td>\n",
       "      <td>23,177</td>\n",
       "    </tr>\n",
       "    <tr>\n",
       "      <th>2</th>\n",
       "      <td>岩手</td>\n",
       "      <td>1,059,293</td>\n",
       "      <td>24,879</td>\n",
       "    </tr>\n",
       "    <tr>\n",
       "      <th>3</th>\n",
       "      <td>宮城</td>\n",
       "      <td>1,915,548</td>\n",
       "      <td>43,152</td>\n",
       "    </tr>\n",
       "    <tr>\n",
       "      <th>4</th>\n",
       "      <td>秋田</td>\n",
       "      <td>868,937</td>\n",
       "      <td>19,229</td>\n",
       "    </tr>\n",
       "    <tr>\n",
       "      <th>5</th>\n",
       "      <td>山形</td>\n",
       "      <td>924,199</td>\n",
       "      <td>19,776</td>\n",
       "    </tr>\n",
       "    <tr>\n",
       "      <th>6</th>\n",
       "      <td>福島</td>\n",
       "      <td>1,595,503</td>\n",
       "      <td>34,195</td>\n",
       "    </tr>\n",
       "    <tr>\n",
       "      <th>7</th>\n",
       "      <td>茨城</td>\n",
       "      <td>2,443,898</td>\n",
       "      <td>42,922</td>\n",
       "    </tr>\n",
       "    <tr>\n",
       "      <th>8</th>\n",
       "      <td>栃木</td>\n",
       "      <td>1,642,620</td>\n",
       "      <td>30,745</td>\n",
       "    </tr>\n",
       "    <tr>\n",
       "      <th>9</th>\n",
       "      <td>群馬</td>\n",
       "      <td>1,646,104</td>\n",
       "      <td>29,684</td>\n",
       "    </tr>\n",
       "    <tr>\n",
       "      <th>10</th>\n",
       "      <td>埼玉</td>\n",
       "      <td>6,096,407</td>\n",
       "      <td>90,860</td>\n",
       "    </tr>\n",
       "    <tr>\n",
       "      <th>11</th>\n",
       "      <td>千葉</td>\n",
       "      <td>5,231,131</td>\n",
       "      <td>85,494</td>\n",
       "    </tr>\n",
       "    <tr>\n",
       "      <th>12</th>\n",
       "      <td>東京</td>\n",
       "      <td>11,493,560</td>\n",
       "      <td>466,125</td>\n",
       "    </tr>\n",
       "    <tr>\n",
       "      <th>13</th>\n",
       "      <td>神奈川</td>\n",
       "      <td>7,601,252</td>\n",
       "      <td>152,317</td>\n",
       "    </tr>\n",
       "    <tr>\n",
       "      <th>14</th>\n",
       "      <td>新潟</td>\n",
       "      <td>1,907,772</td>\n",
       "      <td>45,720</td>\n",
       "    </tr>\n",
       "    <tr>\n",
       "      <th>15</th>\n",
       "      <td>富山</td>\n",
       "      <td>893,015</td>\n",
       "      <td>21,496</td>\n",
       "    </tr>\n",
       "    <tr>\n",
       "      <th>16</th>\n",
       "      <td>石川</td>\n",
       "      <td>946,198</td>\n",
       "      <td>22,385</td>\n",
       "    </tr>\n",
       "    <tr>\n",
       "      <th>17</th>\n",
       "      <td>福井</td>\n",
       "      <td>648,910</td>\n",
       "      <td>13,486</td>\n",
       "    </tr>\n",
       "    <tr>\n",
       "      <th>18</th>\n",
       "      <td>山梨</td>\n",
       "      <td>696,023</td>\n",
       "      <td>13,434</td>\n",
       "    </tr>\n",
       "    <tr>\n",
       "      <th>19</th>\n",
       "      <td>長野</td>\n",
       "      <td>1,746,050</td>\n",
       "      <td>39,741</td>\n",
       "    </tr>\n",
       "    <tr>\n",
       "      <th>20</th>\n",
       "      <td>岐阜</td>\n",
       "      <td>1,687,256</td>\n",
       "      <td>25,428</td>\n",
       "    </tr>\n",
       "    <tr>\n",
       "      <th>21</th>\n",
       "      <td>静岡</td>\n",
       "      <td>3,093,014</td>\n",
       "      <td>57,531</td>\n",
       "    </tr>\n",
       "    <tr>\n",
       "      <th>22</th>\n",
       "      <td>愛知</td>\n",
       "      <td>6,145,895</td>\n",
       "      <td>131,666</td>\n",
       "    </tr>\n",
       "    <tr>\n",
       "      <th>23</th>\n",
       "      <td>三重</td>\n",
       "      <td>1,512,253</td>\n",
       "      <td>26,243</td>\n",
       "    </tr>\n",
       "    <tr>\n",
       "      <th>24</th>\n",
       "      <td>滋賀</td>\n",
       "      <td>1,142,334</td>\n",
       "      <td>15,739</td>\n",
       "    </tr>\n",
       "    <tr>\n",
       "      <th>25</th>\n",
       "      <td>京都</td>\n",
       "      <td>2,126,007</td>\n",
       "      <td>57,319</td>\n",
       "    </tr>\n",
       "    <tr>\n",
       "      <th>26</th>\n",
       "      <td>大阪</td>\n",
       "      <td>7,330,851</td>\n",
       "      <td>215,191</td>\n",
       "    </tr>\n",
       "    <tr>\n",
       "      <th>27</th>\n",
       "      <td>兵庫</td>\n",
       "      <td>4,598,876</td>\n",
       "      <td>93,560</td>\n",
       "    </tr>\n",
       "    <tr>\n",
       "      <th>28</th>\n",
       "      <td>奈良</td>\n",
       "      <td>1,136,450</td>\n",
       "      <td>18,448</td>\n",
       "    </tr>\n",
       "    <tr>\n",
       "      <th>29</th>\n",
       "      <td>和歌山</td>\n",
       "      <td>813,891</td>\n",
       "      <td>14,490</td>\n",
       "    </tr>\n",
       "    <tr>\n",
       "      <th>30</th>\n",
       "      <td>鳥取</td>\n",
       "      <td>470,863</td>\n",
       "      <td>10,002</td>\n",
       "    </tr>\n",
       "    <tr>\n",
       "      <th>31</th>\n",
       "      <td>島根</td>\n",
       "      <td>572,561</td>\n",
       "      <td>11,323</td>\n",
       "    </tr>\n",
       "    <tr>\n",
       "      <th>32</th>\n",
       "      <td>岡山</td>\n",
       "      <td>1,576,199</td>\n",
       "      <td>25,022</td>\n",
       "    </tr>\n",
       "    <tr>\n",
       "      <th>33</th>\n",
       "      <td>広島</td>\n",
       "      <td>2,339,501</td>\n",
       "      <td>50,304</td>\n",
       "    </tr>\n",
       "    <tr>\n",
       "      <th>34</th>\n",
       "      <td>山口</td>\n",
       "      <td>1,165,183</td>\n",
       "      <td>21,732</td>\n",
       "    </tr>\n",
       "    <tr>\n",
       "      <th>35</th>\n",
       "      <td>徳島</td>\n",
       "      <td>634,532</td>\n",
       "      <td>12,122</td>\n",
       "    </tr>\n",
       "    <tr>\n",
       "      <th>36</th>\n",
       "      <td>香川</td>\n",
       "      <td>819,653</td>\n",
       "      <td>15,269</td>\n",
       "    </tr>\n",
       "    <tr>\n",
       "      <th>37</th>\n",
       "      <td>愛媛</td>\n",
       "      <td>1,160,477</td>\n",
       "      <td>23,029</td>\n",
       "    </tr>\n",
       "    <tr>\n",
       "      <th>38</th>\n",
       "      <td>高知</td>\n",
       "      <td>609,848</td>\n",
       "      <td>15,286</td>\n",
       "    </tr>\n",
       "    <tr>\n",
       "      <th>39</th>\n",
       "      <td>福岡</td>\n",
       "      <td>4,194,243</td>\n",
       "      <td>91,566</td>\n",
       "    </tr>\n",
       "    <tr>\n",
       "      <th>40</th>\n",
       "      <td>佐賀</td>\n",
       "      <td>675,917</td>\n",
       "      <td>13,183</td>\n",
       "    </tr>\n",
       "    <tr>\n",
       "      <th>41</th>\n",
       "      <td>長崎</td>\n",
       "      <td>1,136,351</td>\n",
       "      <td>22,218</td>\n",
       "    </tr>\n",
       "    <tr>\n",
       "      <th>42</th>\n",
       "      <td>熊本</td>\n",
       "      <td>1,463,363</td>\n",
       "      <td>27,073</td>\n",
       "    </tr>\n",
       "    <tr>\n",
       "      <th>43</th>\n",
       "      <td>大分</td>\n",
       "      <td>968,502</td>\n",
       "      <td>19,316</td>\n",
       "    </tr>\n",
       "    <tr>\n",
       "      <th>44</th>\n",
       "      <td>宮崎</td>\n",
       "      <td>909,293</td>\n",
       "      <td>19,994</td>\n",
       "    </tr>\n",
       "    <tr>\n",
       "      <th>45</th>\n",
       "      <td>鹿児島</td>\n",
       "      <td>1,355,120</td>\n",
       "      <td>20,674</td>\n",
       "    </tr>\n",
       "  </tbody>\n",
       "</table>\n",
       "</div>"
      ],
      "text/plain": [
       "   prefecture       adult     beer\n",
       "0         北海道   4,509,363  113,097\n",
       "1          青森   1,103,183   23,177\n",
       "2          岩手   1,059,293   24,879\n",
       "3          宮城   1,915,548   43,152\n",
       "4          秋田     868,937   19,229\n",
       "5          山形     924,199   19,776\n",
       "6          福島   1,595,503   34,195\n",
       "7          茨城   2,443,898   42,922\n",
       "8          栃木   1,642,620   30,745\n",
       "9          群馬   1,646,104   29,684\n",
       "10         埼玉   6,096,407   90,860\n",
       "11         千葉   5,231,131   85,494\n",
       "12         東京  11,493,560  466,125\n",
       "13        神奈川   7,601,252  152,317\n",
       "14         新潟   1,907,772   45,720\n",
       "15         富山     893,015   21,496\n",
       "16         石川     946,198   22,385\n",
       "17         福井     648,910   13,486\n",
       "18         山梨     696,023   13,434\n",
       "19         長野   1,746,050   39,741\n",
       "20         岐阜   1,687,256   25,428\n",
       "21         静岡   3,093,014   57,531\n",
       "22         愛知   6,145,895  131,666\n",
       "23         三重   1,512,253   26,243\n",
       "24         滋賀   1,142,334   15,739\n",
       "25         京都   2,126,007   57,319\n",
       "26         大阪   7,330,851  215,191\n",
       "27         兵庫   4,598,876   93,560\n",
       "28         奈良   1,136,450   18,448\n",
       "29        和歌山     813,891   14,490\n",
       "30         鳥取     470,863   10,002\n",
       "31         島根     572,561   11,323\n",
       "32         岡山   1,576,199   25,022\n",
       "33         広島   2,339,501   50,304\n",
       "34         山口   1,165,183   21,732\n",
       "35         徳島     634,532   12,122\n",
       "36         香川     819,653   15,269\n",
       "37         愛媛   1,160,477   23,029\n",
       "38         高知     609,848   15,286\n",
       "39         福岡   4,194,243   91,566\n",
       "40         佐賀     675,917   13,183\n",
       "41         長崎   1,136,351   22,218\n",
       "42         熊本   1,463,363   27,073\n",
       "43         大分     968,502   19,316\n",
       "44         宮崎     909,293   19,994\n",
       "45        鹿児島   1,355,120   20,674"
      ]
     },
     "execution_count": 58,
     "metadata": {},
     "output_type": "execute_result"
    }
   ],
   "source": [
    "df_merge= pd.merge(df_adult6,df_beer,how=\"inner\")\n",
    "df_merge"
   ]
  },
  {
   "cell_type": "code",
   "execution_count": 55,
   "metadata": {},
   "outputs": [
    {
     "name": "stdout",
     "output_type": "stream",
     "text": [
      "<class 'pandas.core.frame.DataFrame'>\n",
      "Int64Index: 46 entries, 0 to 45\n",
      "Data columns (total 3 columns):\n",
      " #   Column      Non-Null Count  Dtype \n",
      "---  ------      --------------  ----- \n",
      " 0   prefecture  46 non-null     object\n",
      " 1   adult       46 non-null     object\n",
      " 2   beer        46 non-null     object\n",
      "dtypes: object(3)\n",
      "memory usage: 1.4+ KB\n"
     ]
    }
   ],
   "source": [
    "#データ型の確認\n",
    "df_merge.info()"
   ]
  },
  {
   "cell_type": "markdown",
   "metadata": {},
   "source": [
    "**その11** **データ型を変更してみよう！**<a id='sec7_11'></a>  \n",
    "[先頭に戻る](#top)"
   ]
  },
  {
   "cell_type": "markdown",
   "metadata": {},
   "source": [
    "ここでは成人一人当たりのビール消費量を知りたいため、ビール消費量を成人人数で割る必要があります。  \n",
    "そのために、文字型をobjectからint型に変更します。"
   ]
  },
  {
   "cell_type": "markdown",
   "metadata": {},
   "source": [
    "少し厄介なのですが、今回のデータでは千桁区切りに\",\"が挿入されています。このコンマを取り除きます。"
   ]
  },
  {
   "cell_type": "raw",
   "metadata": {},
   "source": [
    "#\",\"の削除\n",
    "df[\"column\"].str.replace(',','')"
   ]
  },
  {
   "cell_type": "code",
   "execution_count": 65,
   "metadata": {},
   "outputs": [
    {
     "data": {
      "text/html": [
       "<div>\n",
       "<style scoped>\n",
       "    .dataframe tbody tr th:only-of-type {\n",
       "        vertical-align: middle;\n",
       "    }\n",
       "\n",
       "    .dataframe tbody tr th {\n",
       "        vertical-align: top;\n",
       "    }\n",
       "\n",
       "    .dataframe thead th {\n",
       "        text-align: right;\n",
       "    }\n",
       "</style>\n",
       "<table border=\"1\" class=\"dataframe\">\n",
       "  <thead>\n",
       "    <tr style=\"text-align: right;\">\n",
       "      <th></th>\n",
       "      <th>名前</th>\n",
       "      <th>作文</th>\n",
       "    </tr>\n",
       "  </thead>\n",
       "  <tbody>\n",
       "    <tr>\n",
       "      <th>0</th>\n",
       "      <td>佐藤</td>\n",
       "      <td>野球が、したい、。野球したい、ぜ。</td>\n",
       "    </tr>\n",
       "    <tr>\n",
       "      <th>1</th>\n",
       "      <td>西田</td>\n",
       "      <td>私は、西田、です。</td>\n",
       "    </tr>\n",
       "  </tbody>\n",
       "</table>\n",
       "</div>"
      ],
      "text/plain": [
       "   名前                 作文\n",
       "0  佐藤  野球が、したい、。野球したい、ぜ。\n",
       "1  西田          私は、西田、です。"
      ]
     },
     "execution_count": 65,
     "metadata": {},
     "output_type": "execute_result"
    }
   ],
   "source": [
    "df_sakubun = pd.DataFrame(data=[{'名前': \"佐藤\", '作文': \"野球が、したい、。野球したい、ぜ。\"},{'名前': \"西田\", '作文': \"私は、西田、です。\"}])\n",
    "df_sakubun"
   ]
  },
  {
   "cell_type": "markdown",
   "metadata": {},
   "source": [
    "この作文から\"、\"を削除します。"
   ]
  },
  {
   "cell_type": "code",
   "execution_count": 66,
   "metadata": {},
   "outputs": [
    {
     "data": {
      "text/html": [
       "<div>\n",
       "<style scoped>\n",
       "    .dataframe tbody tr th:only-of-type {\n",
       "        vertical-align: middle;\n",
       "    }\n",
       "\n",
       "    .dataframe tbody tr th {\n",
       "        vertical-align: top;\n",
       "    }\n",
       "\n",
       "    .dataframe thead th {\n",
       "        text-align: right;\n",
       "    }\n",
       "</style>\n",
       "<table border=\"1\" class=\"dataframe\">\n",
       "  <thead>\n",
       "    <tr style=\"text-align: right;\">\n",
       "      <th></th>\n",
       "      <th>名前</th>\n",
       "      <th>作文</th>\n",
       "    </tr>\n",
       "  </thead>\n",
       "  <tbody>\n",
       "    <tr>\n",
       "      <th>0</th>\n",
       "      <td>佐藤</td>\n",
       "      <td>野球がしたい。野球したいぜ。</td>\n",
       "    </tr>\n",
       "    <tr>\n",
       "      <th>1</th>\n",
       "      <td>西田</td>\n",
       "      <td>私は西田です。</td>\n",
       "    </tr>\n",
       "  </tbody>\n",
       "</table>\n",
       "</div>"
      ],
      "text/plain": [
       "   名前              作文\n",
       "0  佐藤  野球がしたい。野球したいぜ。\n",
       "1  西田         私は西田です。"
      ]
     },
     "execution_count": 66,
     "metadata": {},
     "output_type": "execute_result"
    }
   ],
   "source": [
    "df_sakubun[\"作文\"] = df_sakubun[\"作文\"].str.replace('、','')\n",
    "df_sakubun"
   ]
  },
  {
   "cell_type": "markdown",
   "metadata": {},
   "source": [
    "同様にdf_mergeから\",\"を空白に置き換えましょう。"
   ]
  },
  {
   "cell_type": "code",
   "execution_count": 75,
   "metadata": {},
   "outputs": [],
   "source": [
    "df_merge= pd.merge(df_adult6,df_beer,how=\"inner\")\n",
    "df_merge[\"beer\"]=df_merge[\"beer\"].str.replace(',','')\n",
    "df_merge[\"adult\"] = df_merge[\"adult\"].str.replace(',','')"
   ]
  },
  {
   "cell_type": "code",
   "execution_count": 76,
   "metadata": {},
   "outputs": [
    {
     "name": "stdout",
     "output_type": "stream",
     "text": [
      "<class 'pandas.core.frame.DataFrame'>\n",
      "Int64Index: 46 entries, 0 to 45\n",
      "Data columns (total 3 columns):\n",
      " #   Column      Non-Null Count  Dtype \n",
      "---  ------      --------------  ----- \n",
      " 0   prefecture  46 non-null     object\n",
      " 1   adult       46 non-null     object\n",
      " 2   beer        46 non-null     object\n",
      "dtypes: object(3)\n",
      "memory usage: 1.4+ KB\n"
     ]
    }
   ],
   "source": [
    "#データ型はobjectのまま\n",
    "df_merge.info()"
   ]
  },
  {
   "cell_type": "markdown",
   "metadata": {},
   "source": [
    "コンマが取り除けたので、文字型を整数型(intに変更します)"
   ]
  },
  {
   "cell_type": "code",
   "execution_count": 77,
   "metadata": {},
   "outputs": [],
   "source": [
    "df_merge[\"beer\"]=df_merge[\"beer\"].astype(int)\n",
    "df_merge[\"adult\"] = df_merge[\"adult\"].astype(int)"
   ]
  },
  {
   "cell_type": "code",
   "execution_count": 78,
   "metadata": {},
   "outputs": [
    {
     "name": "stdout",
     "output_type": "stream",
     "text": [
      "<class 'pandas.core.frame.DataFrame'>\n",
      "Int64Index: 46 entries, 0 to 45\n",
      "Data columns (total 3 columns):\n",
      " #   Column      Non-Null Count  Dtype \n",
      "---  ------      --------------  ----- \n",
      " 0   prefecture  46 non-null     object\n",
      " 1   adult       46 non-null     int32 \n",
      " 2   beer        46 non-null     int32 \n",
      "dtypes: int32(2), object(1)\n",
      "memory usage: 1.1+ KB\n"
     ]
    }
   ],
   "source": [
    "#変更できている。\n",
    "df_merge.info()"
   ]
  },
  {
   "cell_type": "markdown",
   "metadata": {},
   "source": [
    "今回は成人一人当たり何リットル飲んだのかを調べたいため、df_merge[\"beer\"]を千倍します。"
   ]
  },
  {
   "cell_type": "code",
   "execution_count": 79,
   "metadata": {},
   "outputs": [
    {
     "data": {
      "text/html": [
       "<div>\n",
       "<style scoped>\n",
       "    .dataframe tbody tr th:only-of-type {\n",
       "        vertical-align: middle;\n",
       "    }\n",
       "\n",
       "    .dataframe tbody tr th {\n",
       "        vertical-align: top;\n",
       "    }\n",
       "\n",
       "    .dataframe thead th {\n",
       "        text-align: right;\n",
       "    }\n",
       "</style>\n",
       "<table border=\"1\" class=\"dataframe\">\n",
       "  <thead>\n",
       "    <tr style=\"text-align: right;\">\n",
       "      <th></th>\n",
       "      <th>prefecture</th>\n",
       "      <th>adult</th>\n",
       "      <th>beer</th>\n",
       "      <th>thou</th>\n",
       "    </tr>\n",
       "  </thead>\n",
       "  <tbody>\n",
       "    <tr>\n",
       "      <th>0</th>\n",
       "      <td>北海道</td>\n",
       "      <td>4509363</td>\n",
       "      <td>113097000</td>\n",
       "      <td>1000</td>\n",
       "    </tr>\n",
       "    <tr>\n",
       "      <th>1</th>\n",
       "      <td>青森</td>\n",
       "      <td>1103183</td>\n",
       "      <td>23177000</td>\n",
       "      <td>1000</td>\n",
       "    </tr>\n",
       "    <tr>\n",
       "      <th>2</th>\n",
       "      <td>岩手</td>\n",
       "      <td>1059293</td>\n",
       "      <td>24879000</td>\n",
       "      <td>1000</td>\n",
       "    </tr>\n",
       "    <tr>\n",
       "      <th>3</th>\n",
       "      <td>宮城</td>\n",
       "      <td>1915548</td>\n",
       "      <td>43152000</td>\n",
       "      <td>1000</td>\n",
       "    </tr>\n",
       "    <tr>\n",
       "      <th>4</th>\n",
       "      <td>秋田</td>\n",
       "      <td>868937</td>\n",
       "      <td>19229000</td>\n",
       "      <td>1000</td>\n",
       "    </tr>\n",
       "    <tr>\n",
       "      <th>5</th>\n",
       "      <td>山形</td>\n",
       "      <td>924199</td>\n",
       "      <td>19776000</td>\n",
       "      <td>1000</td>\n",
       "    </tr>\n",
       "    <tr>\n",
       "      <th>6</th>\n",
       "      <td>福島</td>\n",
       "      <td>1595503</td>\n",
       "      <td>34195000</td>\n",
       "      <td>1000</td>\n",
       "    </tr>\n",
       "    <tr>\n",
       "      <th>7</th>\n",
       "      <td>茨城</td>\n",
       "      <td>2443898</td>\n",
       "      <td>42922000</td>\n",
       "      <td>1000</td>\n",
       "    </tr>\n",
       "    <tr>\n",
       "      <th>8</th>\n",
       "      <td>栃木</td>\n",
       "      <td>1642620</td>\n",
       "      <td>30745000</td>\n",
       "      <td>1000</td>\n",
       "    </tr>\n",
       "    <tr>\n",
       "      <th>9</th>\n",
       "      <td>群馬</td>\n",
       "      <td>1646104</td>\n",
       "      <td>29684000</td>\n",
       "      <td>1000</td>\n",
       "    </tr>\n",
       "    <tr>\n",
       "      <th>10</th>\n",
       "      <td>埼玉</td>\n",
       "      <td>6096407</td>\n",
       "      <td>90860000</td>\n",
       "      <td>1000</td>\n",
       "    </tr>\n",
       "    <tr>\n",
       "      <th>11</th>\n",
       "      <td>千葉</td>\n",
       "      <td>5231131</td>\n",
       "      <td>85494000</td>\n",
       "      <td>1000</td>\n",
       "    </tr>\n",
       "    <tr>\n",
       "      <th>12</th>\n",
       "      <td>東京</td>\n",
       "      <td>11493560</td>\n",
       "      <td>466125000</td>\n",
       "      <td>1000</td>\n",
       "    </tr>\n",
       "    <tr>\n",
       "      <th>13</th>\n",
       "      <td>神奈川</td>\n",
       "      <td>7601252</td>\n",
       "      <td>152317000</td>\n",
       "      <td>1000</td>\n",
       "    </tr>\n",
       "    <tr>\n",
       "      <th>14</th>\n",
       "      <td>新潟</td>\n",
       "      <td>1907772</td>\n",
       "      <td>45720000</td>\n",
       "      <td>1000</td>\n",
       "    </tr>\n",
       "    <tr>\n",
       "      <th>15</th>\n",
       "      <td>富山</td>\n",
       "      <td>893015</td>\n",
       "      <td>21496000</td>\n",
       "      <td>1000</td>\n",
       "    </tr>\n",
       "    <tr>\n",
       "      <th>16</th>\n",
       "      <td>石川</td>\n",
       "      <td>946198</td>\n",
       "      <td>22385000</td>\n",
       "      <td>1000</td>\n",
       "    </tr>\n",
       "    <tr>\n",
       "      <th>17</th>\n",
       "      <td>福井</td>\n",
       "      <td>648910</td>\n",
       "      <td>13486000</td>\n",
       "      <td>1000</td>\n",
       "    </tr>\n",
       "    <tr>\n",
       "      <th>18</th>\n",
       "      <td>山梨</td>\n",
       "      <td>696023</td>\n",
       "      <td>13434000</td>\n",
       "      <td>1000</td>\n",
       "    </tr>\n",
       "    <tr>\n",
       "      <th>19</th>\n",
       "      <td>長野</td>\n",
       "      <td>1746050</td>\n",
       "      <td>39741000</td>\n",
       "      <td>1000</td>\n",
       "    </tr>\n",
       "    <tr>\n",
       "      <th>20</th>\n",
       "      <td>岐阜</td>\n",
       "      <td>1687256</td>\n",
       "      <td>25428000</td>\n",
       "      <td>1000</td>\n",
       "    </tr>\n",
       "    <tr>\n",
       "      <th>21</th>\n",
       "      <td>静岡</td>\n",
       "      <td>3093014</td>\n",
       "      <td>57531000</td>\n",
       "      <td>1000</td>\n",
       "    </tr>\n",
       "    <tr>\n",
       "      <th>22</th>\n",
       "      <td>愛知</td>\n",
       "      <td>6145895</td>\n",
       "      <td>131666000</td>\n",
       "      <td>1000</td>\n",
       "    </tr>\n",
       "    <tr>\n",
       "      <th>23</th>\n",
       "      <td>三重</td>\n",
       "      <td>1512253</td>\n",
       "      <td>26243000</td>\n",
       "      <td>1000</td>\n",
       "    </tr>\n",
       "    <tr>\n",
       "      <th>24</th>\n",
       "      <td>滋賀</td>\n",
       "      <td>1142334</td>\n",
       "      <td>15739000</td>\n",
       "      <td>1000</td>\n",
       "    </tr>\n",
       "    <tr>\n",
       "      <th>25</th>\n",
       "      <td>京都</td>\n",
       "      <td>2126007</td>\n",
       "      <td>57319000</td>\n",
       "      <td>1000</td>\n",
       "    </tr>\n",
       "    <tr>\n",
       "      <th>26</th>\n",
       "      <td>大阪</td>\n",
       "      <td>7330851</td>\n",
       "      <td>215191000</td>\n",
       "      <td>1000</td>\n",
       "    </tr>\n",
       "    <tr>\n",
       "      <th>27</th>\n",
       "      <td>兵庫</td>\n",
       "      <td>4598876</td>\n",
       "      <td>93560000</td>\n",
       "      <td>1000</td>\n",
       "    </tr>\n",
       "    <tr>\n",
       "      <th>28</th>\n",
       "      <td>奈良</td>\n",
       "      <td>1136450</td>\n",
       "      <td>18448000</td>\n",
       "      <td>1000</td>\n",
       "    </tr>\n",
       "    <tr>\n",
       "      <th>29</th>\n",
       "      <td>和歌山</td>\n",
       "      <td>813891</td>\n",
       "      <td>14490000</td>\n",
       "      <td>1000</td>\n",
       "    </tr>\n",
       "    <tr>\n",
       "      <th>30</th>\n",
       "      <td>鳥取</td>\n",
       "      <td>470863</td>\n",
       "      <td>10002000</td>\n",
       "      <td>1000</td>\n",
       "    </tr>\n",
       "    <tr>\n",
       "      <th>31</th>\n",
       "      <td>島根</td>\n",
       "      <td>572561</td>\n",
       "      <td>11323000</td>\n",
       "      <td>1000</td>\n",
       "    </tr>\n",
       "    <tr>\n",
       "      <th>32</th>\n",
       "      <td>岡山</td>\n",
       "      <td>1576199</td>\n",
       "      <td>25022000</td>\n",
       "      <td>1000</td>\n",
       "    </tr>\n",
       "    <tr>\n",
       "      <th>33</th>\n",
       "      <td>広島</td>\n",
       "      <td>2339501</td>\n",
       "      <td>50304000</td>\n",
       "      <td>1000</td>\n",
       "    </tr>\n",
       "    <tr>\n",
       "      <th>34</th>\n",
       "      <td>山口</td>\n",
       "      <td>1165183</td>\n",
       "      <td>21732000</td>\n",
       "      <td>1000</td>\n",
       "    </tr>\n",
       "    <tr>\n",
       "      <th>35</th>\n",
       "      <td>徳島</td>\n",
       "      <td>634532</td>\n",
       "      <td>12122000</td>\n",
       "      <td>1000</td>\n",
       "    </tr>\n",
       "    <tr>\n",
       "      <th>36</th>\n",
       "      <td>香川</td>\n",
       "      <td>819653</td>\n",
       "      <td>15269000</td>\n",
       "      <td>1000</td>\n",
       "    </tr>\n",
       "    <tr>\n",
       "      <th>37</th>\n",
       "      <td>愛媛</td>\n",
       "      <td>1160477</td>\n",
       "      <td>23029000</td>\n",
       "      <td>1000</td>\n",
       "    </tr>\n",
       "    <tr>\n",
       "      <th>38</th>\n",
       "      <td>高知</td>\n",
       "      <td>609848</td>\n",
       "      <td>15286000</td>\n",
       "      <td>1000</td>\n",
       "    </tr>\n",
       "    <tr>\n",
       "      <th>39</th>\n",
       "      <td>福岡</td>\n",
       "      <td>4194243</td>\n",
       "      <td>91566000</td>\n",
       "      <td>1000</td>\n",
       "    </tr>\n",
       "    <tr>\n",
       "      <th>40</th>\n",
       "      <td>佐賀</td>\n",
       "      <td>675917</td>\n",
       "      <td>13183000</td>\n",
       "      <td>1000</td>\n",
       "    </tr>\n",
       "    <tr>\n",
       "      <th>41</th>\n",
       "      <td>長崎</td>\n",
       "      <td>1136351</td>\n",
       "      <td>22218000</td>\n",
       "      <td>1000</td>\n",
       "    </tr>\n",
       "    <tr>\n",
       "      <th>42</th>\n",
       "      <td>熊本</td>\n",
       "      <td>1463363</td>\n",
       "      <td>27073000</td>\n",
       "      <td>1000</td>\n",
       "    </tr>\n",
       "    <tr>\n",
       "      <th>43</th>\n",
       "      <td>大分</td>\n",
       "      <td>968502</td>\n",
       "      <td>19316000</td>\n",
       "      <td>1000</td>\n",
       "    </tr>\n",
       "    <tr>\n",
       "      <th>44</th>\n",
       "      <td>宮崎</td>\n",
       "      <td>909293</td>\n",
       "      <td>19994000</td>\n",
       "      <td>1000</td>\n",
       "    </tr>\n",
       "    <tr>\n",
       "      <th>45</th>\n",
       "      <td>鹿児島</td>\n",
       "      <td>1355120</td>\n",
       "      <td>20674000</td>\n",
       "      <td>1000</td>\n",
       "    </tr>\n",
       "  </tbody>\n",
       "</table>\n",
       "</div>"
      ],
      "text/plain": [
       "   prefecture     adult       beer  thou\n",
       "0         北海道   4509363  113097000  1000\n",
       "1          青森   1103183   23177000  1000\n",
       "2          岩手   1059293   24879000  1000\n",
       "3          宮城   1915548   43152000  1000\n",
       "4          秋田    868937   19229000  1000\n",
       "5          山形    924199   19776000  1000\n",
       "6          福島   1595503   34195000  1000\n",
       "7          茨城   2443898   42922000  1000\n",
       "8          栃木   1642620   30745000  1000\n",
       "9          群馬   1646104   29684000  1000\n",
       "10         埼玉   6096407   90860000  1000\n",
       "11         千葉   5231131   85494000  1000\n",
       "12         東京  11493560  466125000  1000\n",
       "13        神奈川   7601252  152317000  1000\n",
       "14         新潟   1907772   45720000  1000\n",
       "15         富山    893015   21496000  1000\n",
       "16         石川    946198   22385000  1000\n",
       "17         福井    648910   13486000  1000\n",
       "18         山梨    696023   13434000  1000\n",
       "19         長野   1746050   39741000  1000\n",
       "20         岐阜   1687256   25428000  1000\n",
       "21         静岡   3093014   57531000  1000\n",
       "22         愛知   6145895  131666000  1000\n",
       "23         三重   1512253   26243000  1000\n",
       "24         滋賀   1142334   15739000  1000\n",
       "25         京都   2126007   57319000  1000\n",
       "26         大阪   7330851  215191000  1000\n",
       "27         兵庫   4598876   93560000  1000\n",
       "28         奈良   1136450   18448000  1000\n",
       "29        和歌山    813891   14490000  1000\n",
       "30         鳥取    470863   10002000  1000\n",
       "31         島根    572561   11323000  1000\n",
       "32         岡山   1576199   25022000  1000\n",
       "33         広島   2339501   50304000  1000\n",
       "34         山口   1165183   21732000  1000\n",
       "35         徳島    634532   12122000  1000\n",
       "36         香川    819653   15269000  1000\n",
       "37         愛媛   1160477   23029000  1000\n",
       "38         高知    609848   15286000  1000\n",
       "39         福岡   4194243   91566000  1000\n",
       "40         佐賀    675917   13183000  1000\n",
       "41         長崎   1136351   22218000  1000\n",
       "42         熊本   1463363   27073000  1000\n",
       "43         大分    968502   19316000  1000\n",
       "44         宮崎    909293   19994000  1000\n",
       "45        鹿児島   1355120   20674000  1000"
      ]
     },
     "execution_count": 79,
     "metadata": {},
     "output_type": "execute_result"
    }
   ],
   "source": [
    "df_merge[\"thou\"] = 1000\n",
    "df_merge[\"beer\"] =df_merge[\"beer\"] * df_merge[\"thou\"]\n",
    "df_merge"
   ]
  },
  {
   "cell_type": "code",
   "execution_count": 80,
   "metadata": {},
   "outputs": [
    {
     "data": {
      "text/html": [
       "<div>\n",
       "<style scoped>\n",
       "    .dataframe tbody tr th:only-of-type {\n",
       "        vertical-align: middle;\n",
       "    }\n",
       "\n",
       "    .dataframe tbody tr th {\n",
       "        vertical-align: top;\n",
       "    }\n",
       "\n",
       "    .dataframe thead th {\n",
       "        text-align: right;\n",
       "    }\n",
       "</style>\n",
       "<table border=\"1\" class=\"dataframe\">\n",
       "  <thead>\n",
       "    <tr style=\"text-align: right;\">\n",
       "      <th></th>\n",
       "      <th>prefecture</th>\n",
       "      <th>adult</th>\n",
       "      <th>beer</th>\n",
       "      <th>thou</th>\n",
       "      <th>per_beer</th>\n",
       "    </tr>\n",
       "  </thead>\n",
       "  <tbody>\n",
       "    <tr>\n",
       "      <th>0</th>\n",
       "      <td>北海道</td>\n",
       "      <td>4509363</td>\n",
       "      <td>113097000</td>\n",
       "      <td>1000</td>\n",
       "      <td>25.080483</td>\n",
       "    </tr>\n",
       "    <tr>\n",
       "      <th>1</th>\n",
       "      <td>青森</td>\n",
       "      <td>1103183</td>\n",
       "      <td>23177000</td>\n",
       "      <td>1000</td>\n",
       "      <td>21.009207</td>\n",
       "    </tr>\n",
       "    <tr>\n",
       "      <th>2</th>\n",
       "      <td>岩手</td>\n",
       "      <td>1059293</td>\n",
       "      <td>24879000</td>\n",
       "      <td>1000</td>\n",
       "      <td>23.486420</td>\n",
       "    </tr>\n",
       "    <tr>\n",
       "      <th>3</th>\n",
       "      <td>宮城</td>\n",
       "      <td>1915548</td>\n",
       "      <td>43152000</td>\n",
       "      <td>1000</td>\n",
       "      <td>22.527235</td>\n",
       "    </tr>\n",
       "    <tr>\n",
       "      <th>4</th>\n",
       "      <td>秋田</td>\n",
       "      <td>868937</td>\n",
       "      <td>19229000</td>\n",
       "      <td>1000</td>\n",
       "      <td>22.129337</td>\n",
       "    </tr>\n",
       "    <tr>\n",
       "      <th>5</th>\n",
       "      <td>山形</td>\n",
       "      <td>924199</td>\n",
       "      <td>19776000</td>\n",
       "      <td>1000</td>\n",
       "      <td>21.397989</td>\n",
       "    </tr>\n",
       "    <tr>\n",
       "      <th>6</th>\n",
       "      <td>福島</td>\n",
       "      <td>1595503</td>\n",
       "      <td>34195000</td>\n",
       "      <td>1000</td>\n",
       "      <td>21.432113</td>\n",
       "    </tr>\n",
       "    <tr>\n",
       "      <th>7</th>\n",
       "      <td>茨城</td>\n",
       "      <td>2443898</td>\n",
       "      <td>42922000</td>\n",
       "      <td>1000</td>\n",
       "      <td>17.562926</td>\n",
       "    </tr>\n",
       "    <tr>\n",
       "      <th>8</th>\n",
       "      <td>栃木</td>\n",
       "      <td>1642620</td>\n",
       "      <td>30745000</td>\n",
       "      <td>1000</td>\n",
       "      <td>18.717050</td>\n",
       "    </tr>\n",
       "    <tr>\n",
       "      <th>9</th>\n",
       "      <td>群馬</td>\n",
       "      <td>1646104</td>\n",
       "      <td>29684000</td>\n",
       "      <td>1000</td>\n",
       "      <td>18.032882</td>\n",
       "    </tr>\n",
       "    <tr>\n",
       "      <th>10</th>\n",
       "      <td>埼玉</td>\n",
       "      <td>6096407</td>\n",
       "      <td>90860000</td>\n",
       "      <td>1000</td>\n",
       "      <td>14.903861</td>\n",
       "    </tr>\n",
       "    <tr>\n",
       "      <th>11</th>\n",
       "      <td>千葉</td>\n",
       "      <td>5231131</td>\n",
       "      <td>85494000</td>\n",
       "      <td>1000</td>\n",
       "      <td>16.343311</td>\n",
       "    </tr>\n",
       "    <tr>\n",
       "      <th>12</th>\n",
       "      <td>東京</td>\n",
       "      <td>11493560</td>\n",
       "      <td>466125000</td>\n",
       "      <td>1000</td>\n",
       "      <td>40.555320</td>\n",
       "    </tr>\n",
       "    <tr>\n",
       "      <th>13</th>\n",
       "      <td>神奈川</td>\n",
       "      <td>7601252</td>\n",
       "      <td>152317000</td>\n",
       "      <td>1000</td>\n",
       "      <td>20.038409</td>\n",
       "    </tr>\n",
       "    <tr>\n",
       "      <th>14</th>\n",
       "      <td>新潟</td>\n",
       "      <td>1907772</td>\n",
       "      <td>45720000</td>\n",
       "      <td>1000</td>\n",
       "      <td>23.965128</td>\n",
       "    </tr>\n",
       "    <tr>\n",
       "      <th>15</th>\n",
       "      <td>富山</td>\n",
       "      <td>893015</td>\n",
       "      <td>21496000</td>\n",
       "      <td>1000</td>\n",
       "      <td>24.071264</td>\n",
       "    </tr>\n",
       "    <tr>\n",
       "      <th>16</th>\n",
       "      <td>石川</td>\n",
       "      <td>946198</td>\n",
       "      <td>22385000</td>\n",
       "      <td>1000</td>\n",
       "      <td>23.657839</td>\n",
       "    </tr>\n",
       "    <tr>\n",
       "      <th>17</th>\n",
       "      <td>福井</td>\n",
       "      <td>648910</td>\n",
       "      <td>13486000</td>\n",
       "      <td>1000</td>\n",
       "      <td>20.782543</td>\n",
       "    </tr>\n",
       "    <tr>\n",
       "      <th>18</th>\n",
       "      <td>山梨</td>\n",
       "      <td>696023</td>\n",
       "      <td>13434000</td>\n",
       "      <td>1000</td>\n",
       "      <td>19.301086</td>\n",
       "    </tr>\n",
       "    <tr>\n",
       "      <th>19</th>\n",
       "      <td>長野</td>\n",
       "      <td>1746050</td>\n",
       "      <td>39741000</td>\n",
       "      <td>1000</td>\n",
       "      <td>22.760517</td>\n",
       "    </tr>\n",
       "    <tr>\n",
       "      <th>20</th>\n",
       "      <td>岐阜</td>\n",
       "      <td>1687256</td>\n",
       "      <td>25428000</td>\n",
       "      <td>1000</td>\n",
       "      <td>15.070624</td>\n",
       "    </tr>\n",
       "    <tr>\n",
       "      <th>21</th>\n",
       "      <td>静岡</td>\n",
       "      <td>3093014</td>\n",
       "      <td>57531000</td>\n",
       "      <td>1000</td>\n",
       "      <td>18.600304</td>\n",
       "    </tr>\n",
       "    <tr>\n",
       "      <th>22</th>\n",
       "      <td>愛知</td>\n",
       "      <td>6145895</td>\n",
       "      <td>131666000</td>\n",
       "      <td>1000</td>\n",
       "      <td>21.423405</td>\n",
       "    </tr>\n",
       "    <tr>\n",
       "      <th>23</th>\n",
       "      <td>三重</td>\n",
       "      <td>1512253</td>\n",
       "      <td>26243000</td>\n",
       "      <td>1000</td>\n",
       "      <td>17.353578</td>\n",
       "    </tr>\n",
       "    <tr>\n",
       "      <th>24</th>\n",
       "      <td>滋賀</td>\n",
       "      <td>1142334</td>\n",
       "      <td>15739000</td>\n",
       "      <td>1000</td>\n",
       "      <td>13.777932</td>\n",
       "    </tr>\n",
       "    <tr>\n",
       "      <th>25</th>\n",
       "      <td>京都</td>\n",
       "      <td>2126007</td>\n",
       "      <td>57319000</td>\n",
       "      <td>1000</td>\n",
       "      <td>26.960871</td>\n",
       "    </tr>\n",
       "    <tr>\n",
       "      <th>26</th>\n",
       "      <td>大阪</td>\n",
       "      <td>7330851</td>\n",
       "      <td>215191000</td>\n",
       "      <td>1000</td>\n",
       "      <td>29.354164</td>\n",
       "    </tr>\n",
       "    <tr>\n",
       "      <th>27</th>\n",
       "      <td>兵庫</td>\n",
       "      <td>4598876</td>\n",
       "      <td>93560000</td>\n",
       "      <td>1000</td>\n",
       "      <td>20.344101</td>\n",
       "    </tr>\n",
       "    <tr>\n",
       "      <th>28</th>\n",
       "      <td>奈良</td>\n",
       "      <td>1136450</td>\n",
       "      <td>18448000</td>\n",
       "      <td>1000</td>\n",
       "      <td>16.233006</td>\n",
       "    </tr>\n",
       "    <tr>\n",
       "      <th>29</th>\n",
       "      <td>和歌山</td>\n",
       "      <td>813891</td>\n",
       "      <td>14490000</td>\n",
       "      <td>1000</td>\n",
       "      <td>17.803367</td>\n",
       "    </tr>\n",
       "    <tr>\n",
       "      <th>30</th>\n",
       "      <td>鳥取</td>\n",
       "      <td>470863</td>\n",
       "      <td>10002000</td>\n",
       "      <td>1000</td>\n",
       "      <td>21.241847</td>\n",
       "    </tr>\n",
       "    <tr>\n",
       "      <th>31</th>\n",
       "      <td>島根</td>\n",
       "      <td>572561</td>\n",
       "      <td>11323000</td>\n",
       "      <td>1000</td>\n",
       "      <td>19.776059</td>\n",
       "    </tr>\n",
       "    <tr>\n",
       "      <th>32</th>\n",
       "      <td>岡山</td>\n",
       "      <td>1576199</td>\n",
       "      <td>25022000</td>\n",
       "      <td>1000</td>\n",
       "      <td>15.874899</td>\n",
       "    </tr>\n",
       "    <tr>\n",
       "      <th>33</th>\n",
       "      <td>広島</td>\n",
       "      <td>2339501</td>\n",
       "      <td>50304000</td>\n",
       "      <td>1000</td>\n",
       "      <td>21.502021</td>\n",
       "    </tr>\n",
       "    <tr>\n",
       "      <th>34</th>\n",
       "      <td>山口</td>\n",
       "      <td>1165183</td>\n",
       "      <td>21732000</td>\n",
       "      <td>1000</td>\n",
       "      <td>18.651148</td>\n",
       "    </tr>\n",
       "    <tr>\n",
       "      <th>35</th>\n",
       "      <td>徳島</td>\n",
       "      <td>634532</td>\n",
       "      <td>12122000</td>\n",
       "      <td>1000</td>\n",
       "      <td>19.103843</td>\n",
       "    </tr>\n",
       "    <tr>\n",
       "      <th>36</th>\n",
       "      <td>香川</td>\n",
       "      <td>819653</td>\n",
       "      <td>15269000</td>\n",
       "      <td>1000</td>\n",
       "      <td>18.628615</td>\n",
       "    </tr>\n",
       "    <tr>\n",
       "      <th>37</th>\n",
       "      <td>愛媛</td>\n",
       "      <td>1160477</td>\n",
       "      <td>23029000</td>\n",
       "      <td>1000</td>\n",
       "      <td>19.844426</td>\n",
       "    </tr>\n",
       "    <tr>\n",
       "      <th>38</th>\n",
       "      <td>高知</td>\n",
       "      <td>609848</td>\n",
       "      <td>15286000</td>\n",
       "      <td>1000</td>\n",
       "      <td>25.065262</td>\n",
       "    </tr>\n",
       "    <tr>\n",
       "      <th>39</th>\n",
       "      <td>福岡</td>\n",
       "      <td>4194243</td>\n",
       "      <td>91566000</td>\n",
       "      <td>1000</td>\n",
       "      <td>21.831353</td>\n",
       "    </tr>\n",
       "    <tr>\n",
       "      <th>40</th>\n",
       "      <td>佐賀</td>\n",
       "      <td>675917</td>\n",
       "      <td>13183000</td>\n",
       "      <td>1000</td>\n",
       "      <td>19.503874</td>\n",
       "    </tr>\n",
       "    <tr>\n",
       "      <th>41</th>\n",
       "      <td>長崎</td>\n",
       "      <td>1136351</td>\n",
       "      <td>22218000</td>\n",
       "      <td>1000</td>\n",
       "      <td>19.552057</td>\n",
       "    </tr>\n",
       "    <tr>\n",
       "      <th>42</th>\n",
       "      <td>熊本</td>\n",
       "      <td>1463363</td>\n",
       "      <td>27073000</td>\n",
       "      <td>1000</td>\n",
       "      <td>18.500536</td>\n",
       "    </tr>\n",
       "    <tr>\n",
       "      <th>43</th>\n",
       "      <td>大分</td>\n",
       "      <td>968502</td>\n",
       "      <td>19316000</td>\n",
       "      <td>1000</td>\n",
       "      <td>19.944202</td>\n",
       "    </tr>\n",
       "    <tr>\n",
       "      <th>44</th>\n",
       "      <td>宮崎</td>\n",
       "      <td>909293</td>\n",
       "      <td>19994000</td>\n",
       "      <td>1000</td>\n",
       "      <td>21.988512</td>\n",
       "    </tr>\n",
       "    <tr>\n",
       "      <th>45</th>\n",
       "      <td>鹿児島</td>\n",
       "      <td>1355120</td>\n",
       "      <td>20674000</td>\n",
       "      <td>1000</td>\n",
       "      <td>15.256213</td>\n",
       "    </tr>\n",
       "  </tbody>\n",
       "</table>\n",
       "</div>"
      ],
      "text/plain": [
       "   prefecture     adult       beer  thou   per_beer\n",
       "0         北海道   4509363  113097000  1000  25.080483\n",
       "1          青森   1103183   23177000  1000  21.009207\n",
       "2          岩手   1059293   24879000  1000  23.486420\n",
       "3          宮城   1915548   43152000  1000  22.527235\n",
       "4          秋田    868937   19229000  1000  22.129337\n",
       "5          山形    924199   19776000  1000  21.397989\n",
       "6          福島   1595503   34195000  1000  21.432113\n",
       "7          茨城   2443898   42922000  1000  17.562926\n",
       "8          栃木   1642620   30745000  1000  18.717050\n",
       "9          群馬   1646104   29684000  1000  18.032882\n",
       "10         埼玉   6096407   90860000  1000  14.903861\n",
       "11         千葉   5231131   85494000  1000  16.343311\n",
       "12         東京  11493560  466125000  1000  40.555320\n",
       "13        神奈川   7601252  152317000  1000  20.038409\n",
       "14         新潟   1907772   45720000  1000  23.965128\n",
       "15         富山    893015   21496000  1000  24.071264\n",
       "16         石川    946198   22385000  1000  23.657839\n",
       "17         福井    648910   13486000  1000  20.782543\n",
       "18         山梨    696023   13434000  1000  19.301086\n",
       "19         長野   1746050   39741000  1000  22.760517\n",
       "20         岐阜   1687256   25428000  1000  15.070624\n",
       "21         静岡   3093014   57531000  1000  18.600304\n",
       "22         愛知   6145895  131666000  1000  21.423405\n",
       "23         三重   1512253   26243000  1000  17.353578\n",
       "24         滋賀   1142334   15739000  1000  13.777932\n",
       "25         京都   2126007   57319000  1000  26.960871\n",
       "26         大阪   7330851  215191000  1000  29.354164\n",
       "27         兵庫   4598876   93560000  1000  20.344101\n",
       "28         奈良   1136450   18448000  1000  16.233006\n",
       "29        和歌山    813891   14490000  1000  17.803367\n",
       "30         鳥取    470863   10002000  1000  21.241847\n",
       "31         島根    572561   11323000  1000  19.776059\n",
       "32         岡山   1576199   25022000  1000  15.874899\n",
       "33         広島   2339501   50304000  1000  21.502021\n",
       "34         山口   1165183   21732000  1000  18.651148\n",
       "35         徳島    634532   12122000  1000  19.103843\n",
       "36         香川    819653   15269000  1000  18.628615\n",
       "37         愛媛   1160477   23029000  1000  19.844426\n",
       "38         高知    609848   15286000  1000  25.065262\n",
       "39         福岡   4194243   91566000  1000  21.831353\n",
       "40         佐賀    675917   13183000  1000  19.503874\n",
       "41         長崎   1136351   22218000  1000  19.552057\n",
       "42         熊本   1463363   27073000  1000  18.500536\n",
       "43         大分    968502   19316000  1000  19.944202\n",
       "44         宮崎    909293   19994000  1000  21.988512\n",
       "45        鹿児島   1355120   20674000  1000  15.256213"
      ]
     },
     "execution_count": 80,
     "metadata": {},
     "output_type": "execute_result"
    }
   ],
   "source": [
    "#ビールの消費量を一人当たりで割る。\n",
    "df_merge[\"per_beer\"] = df_merge[\"beer\"] / df_merge[\"adult\"]\n",
    "df_merge"
   ]
  },
  {
   "cell_type": "code",
   "execution_count": 81,
   "metadata": {},
   "outputs": [
    {
     "data": {
      "text/html": [
       "<div>\n",
       "<style scoped>\n",
       "    .dataframe tbody tr th:only-of-type {\n",
       "        vertical-align: middle;\n",
       "    }\n",
       "\n",
       "    .dataframe tbody tr th {\n",
       "        vertical-align: top;\n",
       "    }\n",
       "\n",
       "    .dataframe thead th {\n",
       "        text-align: right;\n",
       "    }\n",
       "</style>\n",
       "<table border=\"1\" class=\"dataframe\">\n",
       "  <thead>\n",
       "    <tr style=\"text-align: right;\">\n",
       "      <th></th>\n",
       "      <th>prefecture</th>\n",
       "      <th>adult</th>\n",
       "      <th>beer</th>\n",
       "      <th>per_beer</th>\n",
       "    </tr>\n",
       "  </thead>\n",
       "  <tbody>\n",
       "    <tr>\n",
       "      <th>0</th>\n",
       "      <td>北海道</td>\n",
       "      <td>4509363</td>\n",
       "      <td>113097000</td>\n",
       "      <td>25.080483</td>\n",
       "    </tr>\n",
       "    <tr>\n",
       "      <th>1</th>\n",
       "      <td>青森</td>\n",
       "      <td>1103183</td>\n",
       "      <td>23177000</td>\n",
       "      <td>21.009207</td>\n",
       "    </tr>\n",
       "    <tr>\n",
       "      <th>2</th>\n",
       "      <td>岩手</td>\n",
       "      <td>1059293</td>\n",
       "      <td>24879000</td>\n",
       "      <td>23.486420</td>\n",
       "    </tr>\n",
       "    <tr>\n",
       "      <th>3</th>\n",
       "      <td>宮城</td>\n",
       "      <td>1915548</td>\n",
       "      <td>43152000</td>\n",
       "      <td>22.527235</td>\n",
       "    </tr>\n",
       "    <tr>\n",
       "      <th>4</th>\n",
       "      <td>秋田</td>\n",
       "      <td>868937</td>\n",
       "      <td>19229000</td>\n",
       "      <td>22.129337</td>\n",
       "    </tr>\n",
       "    <tr>\n",
       "      <th>5</th>\n",
       "      <td>山形</td>\n",
       "      <td>924199</td>\n",
       "      <td>19776000</td>\n",
       "      <td>21.397989</td>\n",
       "    </tr>\n",
       "    <tr>\n",
       "      <th>6</th>\n",
       "      <td>福島</td>\n",
       "      <td>1595503</td>\n",
       "      <td>34195000</td>\n",
       "      <td>21.432113</td>\n",
       "    </tr>\n",
       "    <tr>\n",
       "      <th>7</th>\n",
       "      <td>茨城</td>\n",
       "      <td>2443898</td>\n",
       "      <td>42922000</td>\n",
       "      <td>17.562926</td>\n",
       "    </tr>\n",
       "    <tr>\n",
       "      <th>8</th>\n",
       "      <td>栃木</td>\n",
       "      <td>1642620</td>\n",
       "      <td>30745000</td>\n",
       "      <td>18.717050</td>\n",
       "    </tr>\n",
       "    <tr>\n",
       "      <th>9</th>\n",
       "      <td>群馬</td>\n",
       "      <td>1646104</td>\n",
       "      <td>29684000</td>\n",
       "      <td>18.032882</td>\n",
       "    </tr>\n",
       "    <tr>\n",
       "      <th>10</th>\n",
       "      <td>埼玉</td>\n",
       "      <td>6096407</td>\n",
       "      <td>90860000</td>\n",
       "      <td>14.903861</td>\n",
       "    </tr>\n",
       "    <tr>\n",
       "      <th>11</th>\n",
       "      <td>千葉</td>\n",
       "      <td>5231131</td>\n",
       "      <td>85494000</td>\n",
       "      <td>16.343311</td>\n",
       "    </tr>\n",
       "    <tr>\n",
       "      <th>12</th>\n",
       "      <td>東京</td>\n",
       "      <td>11493560</td>\n",
       "      <td>466125000</td>\n",
       "      <td>40.555320</td>\n",
       "    </tr>\n",
       "    <tr>\n",
       "      <th>13</th>\n",
       "      <td>神奈川</td>\n",
       "      <td>7601252</td>\n",
       "      <td>152317000</td>\n",
       "      <td>20.038409</td>\n",
       "    </tr>\n",
       "    <tr>\n",
       "      <th>14</th>\n",
       "      <td>新潟</td>\n",
       "      <td>1907772</td>\n",
       "      <td>45720000</td>\n",
       "      <td>23.965128</td>\n",
       "    </tr>\n",
       "    <tr>\n",
       "      <th>15</th>\n",
       "      <td>富山</td>\n",
       "      <td>893015</td>\n",
       "      <td>21496000</td>\n",
       "      <td>24.071264</td>\n",
       "    </tr>\n",
       "    <tr>\n",
       "      <th>16</th>\n",
       "      <td>石川</td>\n",
       "      <td>946198</td>\n",
       "      <td>22385000</td>\n",
       "      <td>23.657839</td>\n",
       "    </tr>\n",
       "    <tr>\n",
       "      <th>17</th>\n",
       "      <td>福井</td>\n",
       "      <td>648910</td>\n",
       "      <td>13486000</td>\n",
       "      <td>20.782543</td>\n",
       "    </tr>\n",
       "    <tr>\n",
       "      <th>18</th>\n",
       "      <td>山梨</td>\n",
       "      <td>696023</td>\n",
       "      <td>13434000</td>\n",
       "      <td>19.301086</td>\n",
       "    </tr>\n",
       "    <tr>\n",
       "      <th>19</th>\n",
       "      <td>長野</td>\n",
       "      <td>1746050</td>\n",
       "      <td>39741000</td>\n",
       "      <td>22.760517</td>\n",
       "    </tr>\n",
       "    <tr>\n",
       "      <th>20</th>\n",
       "      <td>岐阜</td>\n",
       "      <td>1687256</td>\n",
       "      <td>25428000</td>\n",
       "      <td>15.070624</td>\n",
       "    </tr>\n",
       "    <tr>\n",
       "      <th>21</th>\n",
       "      <td>静岡</td>\n",
       "      <td>3093014</td>\n",
       "      <td>57531000</td>\n",
       "      <td>18.600304</td>\n",
       "    </tr>\n",
       "    <tr>\n",
       "      <th>22</th>\n",
       "      <td>愛知</td>\n",
       "      <td>6145895</td>\n",
       "      <td>131666000</td>\n",
       "      <td>21.423405</td>\n",
       "    </tr>\n",
       "    <tr>\n",
       "      <th>23</th>\n",
       "      <td>三重</td>\n",
       "      <td>1512253</td>\n",
       "      <td>26243000</td>\n",
       "      <td>17.353578</td>\n",
       "    </tr>\n",
       "    <tr>\n",
       "      <th>24</th>\n",
       "      <td>滋賀</td>\n",
       "      <td>1142334</td>\n",
       "      <td>15739000</td>\n",
       "      <td>13.777932</td>\n",
       "    </tr>\n",
       "    <tr>\n",
       "      <th>25</th>\n",
       "      <td>京都</td>\n",
       "      <td>2126007</td>\n",
       "      <td>57319000</td>\n",
       "      <td>26.960871</td>\n",
       "    </tr>\n",
       "    <tr>\n",
       "      <th>26</th>\n",
       "      <td>大阪</td>\n",
       "      <td>7330851</td>\n",
       "      <td>215191000</td>\n",
       "      <td>29.354164</td>\n",
       "    </tr>\n",
       "    <tr>\n",
       "      <th>27</th>\n",
       "      <td>兵庫</td>\n",
       "      <td>4598876</td>\n",
       "      <td>93560000</td>\n",
       "      <td>20.344101</td>\n",
       "    </tr>\n",
       "    <tr>\n",
       "      <th>28</th>\n",
       "      <td>奈良</td>\n",
       "      <td>1136450</td>\n",
       "      <td>18448000</td>\n",
       "      <td>16.233006</td>\n",
       "    </tr>\n",
       "    <tr>\n",
       "      <th>29</th>\n",
       "      <td>和歌山</td>\n",
       "      <td>813891</td>\n",
       "      <td>14490000</td>\n",
       "      <td>17.803367</td>\n",
       "    </tr>\n",
       "    <tr>\n",
       "      <th>30</th>\n",
       "      <td>鳥取</td>\n",
       "      <td>470863</td>\n",
       "      <td>10002000</td>\n",
       "      <td>21.241847</td>\n",
       "    </tr>\n",
       "    <tr>\n",
       "      <th>31</th>\n",
       "      <td>島根</td>\n",
       "      <td>572561</td>\n",
       "      <td>11323000</td>\n",
       "      <td>19.776059</td>\n",
       "    </tr>\n",
       "    <tr>\n",
       "      <th>32</th>\n",
       "      <td>岡山</td>\n",
       "      <td>1576199</td>\n",
       "      <td>25022000</td>\n",
       "      <td>15.874899</td>\n",
       "    </tr>\n",
       "    <tr>\n",
       "      <th>33</th>\n",
       "      <td>広島</td>\n",
       "      <td>2339501</td>\n",
       "      <td>50304000</td>\n",
       "      <td>21.502021</td>\n",
       "    </tr>\n",
       "    <tr>\n",
       "      <th>34</th>\n",
       "      <td>山口</td>\n",
       "      <td>1165183</td>\n",
       "      <td>21732000</td>\n",
       "      <td>18.651148</td>\n",
       "    </tr>\n",
       "    <tr>\n",
       "      <th>35</th>\n",
       "      <td>徳島</td>\n",
       "      <td>634532</td>\n",
       "      <td>12122000</td>\n",
       "      <td>19.103843</td>\n",
       "    </tr>\n",
       "    <tr>\n",
       "      <th>36</th>\n",
       "      <td>香川</td>\n",
       "      <td>819653</td>\n",
       "      <td>15269000</td>\n",
       "      <td>18.628615</td>\n",
       "    </tr>\n",
       "    <tr>\n",
       "      <th>37</th>\n",
       "      <td>愛媛</td>\n",
       "      <td>1160477</td>\n",
       "      <td>23029000</td>\n",
       "      <td>19.844426</td>\n",
       "    </tr>\n",
       "    <tr>\n",
       "      <th>38</th>\n",
       "      <td>高知</td>\n",
       "      <td>609848</td>\n",
       "      <td>15286000</td>\n",
       "      <td>25.065262</td>\n",
       "    </tr>\n",
       "    <tr>\n",
       "      <th>39</th>\n",
       "      <td>福岡</td>\n",
       "      <td>4194243</td>\n",
       "      <td>91566000</td>\n",
       "      <td>21.831353</td>\n",
       "    </tr>\n",
       "    <tr>\n",
       "      <th>40</th>\n",
       "      <td>佐賀</td>\n",
       "      <td>675917</td>\n",
       "      <td>13183000</td>\n",
       "      <td>19.503874</td>\n",
       "    </tr>\n",
       "    <tr>\n",
       "      <th>41</th>\n",
       "      <td>長崎</td>\n",
       "      <td>1136351</td>\n",
       "      <td>22218000</td>\n",
       "      <td>19.552057</td>\n",
       "    </tr>\n",
       "    <tr>\n",
       "      <th>42</th>\n",
       "      <td>熊本</td>\n",
       "      <td>1463363</td>\n",
       "      <td>27073000</td>\n",
       "      <td>18.500536</td>\n",
       "    </tr>\n",
       "    <tr>\n",
       "      <th>43</th>\n",
       "      <td>大分</td>\n",
       "      <td>968502</td>\n",
       "      <td>19316000</td>\n",
       "      <td>19.944202</td>\n",
       "    </tr>\n",
       "    <tr>\n",
       "      <th>44</th>\n",
       "      <td>宮崎</td>\n",
       "      <td>909293</td>\n",
       "      <td>19994000</td>\n",
       "      <td>21.988512</td>\n",
       "    </tr>\n",
       "    <tr>\n",
       "      <th>45</th>\n",
       "      <td>鹿児島</td>\n",
       "      <td>1355120</td>\n",
       "      <td>20674000</td>\n",
       "      <td>15.256213</td>\n",
       "    </tr>\n",
       "  </tbody>\n",
       "</table>\n",
       "</div>"
      ],
      "text/plain": [
       "   prefecture     adult       beer   per_beer\n",
       "0         北海道   4509363  113097000  25.080483\n",
       "1          青森   1103183   23177000  21.009207\n",
       "2          岩手   1059293   24879000  23.486420\n",
       "3          宮城   1915548   43152000  22.527235\n",
       "4          秋田    868937   19229000  22.129337\n",
       "5          山形    924199   19776000  21.397989\n",
       "6          福島   1595503   34195000  21.432113\n",
       "7          茨城   2443898   42922000  17.562926\n",
       "8          栃木   1642620   30745000  18.717050\n",
       "9          群馬   1646104   29684000  18.032882\n",
       "10         埼玉   6096407   90860000  14.903861\n",
       "11         千葉   5231131   85494000  16.343311\n",
       "12         東京  11493560  466125000  40.555320\n",
       "13        神奈川   7601252  152317000  20.038409\n",
       "14         新潟   1907772   45720000  23.965128\n",
       "15         富山    893015   21496000  24.071264\n",
       "16         石川    946198   22385000  23.657839\n",
       "17         福井    648910   13486000  20.782543\n",
       "18         山梨    696023   13434000  19.301086\n",
       "19         長野   1746050   39741000  22.760517\n",
       "20         岐阜   1687256   25428000  15.070624\n",
       "21         静岡   3093014   57531000  18.600304\n",
       "22         愛知   6145895  131666000  21.423405\n",
       "23         三重   1512253   26243000  17.353578\n",
       "24         滋賀   1142334   15739000  13.777932\n",
       "25         京都   2126007   57319000  26.960871\n",
       "26         大阪   7330851  215191000  29.354164\n",
       "27         兵庫   4598876   93560000  20.344101\n",
       "28         奈良   1136450   18448000  16.233006\n",
       "29        和歌山    813891   14490000  17.803367\n",
       "30         鳥取    470863   10002000  21.241847\n",
       "31         島根    572561   11323000  19.776059\n",
       "32         岡山   1576199   25022000  15.874899\n",
       "33         広島   2339501   50304000  21.502021\n",
       "34         山口   1165183   21732000  18.651148\n",
       "35         徳島    634532   12122000  19.103843\n",
       "36         香川    819653   15269000  18.628615\n",
       "37         愛媛   1160477   23029000  19.844426\n",
       "38         高知    609848   15286000  25.065262\n",
       "39         福岡   4194243   91566000  21.831353\n",
       "40         佐賀    675917   13183000  19.503874\n",
       "41         長崎   1136351   22218000  19.552057\n",
       "42         熊本   1463363   27073000  18.500536\n",
       "43         大分    968502   19316000  19.944202\n",
       "44         宮崎    909293   19994000  21.988512\n",
       "45        鹿児島   1355120   20674000  15.256213"
      ]
     },
     "execution_count": 81,
     "metadata": {},
     "output_type": "execute_result"
    }
   ],
   "source": [
    "#thouは不要なので削除\n",
    "df_merge.drop(\"thou\",axis=1)"
   ]
  },
  {
   "cell_type": "markdown",
   "metadata": {},
   "source": [
    "長かった工程も最後です。  \n",
    "df_mergeとdf_tempを結合してみましょう。結合されたデータ名はdfにしてください。できたらdf0と一致しているか確認して見ましょう。  \n",
    "県名の表記が違うので、注意が必要です。"
   ]
  },
  {
   "cell_type": "code",
   "execution_count": 85,
   "metadata": {},
   "outputs": [
    {
     "data": {
      "text/html": [
       "<div>\n",
       "<style scoped>\n",
       "    .dataframe tbody tr th:only-of-type {\n",
       "        vertical-align: middle;\n",
       "    }\n",
       "\n",
       "    .dataframe tbody tr th {\n",
       "        vertical-align: top;\n",
       "    }\n",
       "\n",
       "    .dataframe thead th {\n",
       "        text-align: right;\n",
       "    }\n",
       "</style>\n",
       "<table border=\"1\" class=\"dataframe\">\n",
       "  <thead>\n",
       "    <tr style=\"text-align: right;\">\n",
       "      <th></th>\n",
       "      <th>prefecture</th>\n",
       "      <th>ave_temp</th>\n",
       "    </tr>\n",
       "  </thead>\n",
       "  <tbody>\n",
       "    <tr>\n",
       "      <th>0</th>\n",
       "      <td>北海道</td>\n",
       "      <td>9.5</td>\n",
       "    </tr>\n",
       "    <tr>\n",
       "      <th>1</th>\n",
       "      <td>青森県</td>\n",
       "      <td>11.0</td>\n",
       "    </tr>\n",
       "    <tr>\n",
       "      <th>2</th>\n",
       "      <td>岩手県</td>\n",
       "      <td>11.0</td>\n",
       "    </tr>\n",
       "    <tr>\n",
       "      <th>3</th>\n",
       "      <td>宮城県</td>\n",
       "      <td>13.6</td>\n",
       "    </tr>\n",
       "    <tr>\n",
       "      <th>4</th>\n",
       "      <td>秋田県</td>\n",
       "      <td>12.3</td>\n",
       "    </tr>\n",
       "  </tbody>\n",
       "</table>\n",
       "</div>"
      ],
      "text/plain": [
       "  prefecture  ave_temp\n",
       "0        北海道       9.5\n",
       "1        青森県      11.0\n",
       "2        岩手県      11.0\n",
       "3        宮城県      13.6\n",
       "4        秋田県      12.3"
      ]
     },
     "execution_count": 85,
     "metadata": {},
     "output_type": "execute_result"
    }
   ],
   "source": [
    "df_temp = pd.read_csv(\"年平均気温.csv\")\n",
    "df_temp.head()"
   ]
  },
  {
   "cell_type": "markdown",
   "metadata": {},
   "source": [
    "**その12** **単回帰分析を回してみよう！**<a id='sec7_12'></a>  \n",
    "[先頭に戻る](#top)"
   ]
  },
  {
   "cell_type": "markdown",
   "metadata": {},
   "source": [
    "最後に単回帰分析をして、完成です。  \n",
    "一緒に散布図も書いてみましょう。"
   ]
  },
  {
   "cell_type": "code",
   "execution_count": null,
   "metadata": {},
   "outputs": [],
   "source": [
    "y,x = df['per_beer'],df['ave_temp']\n",
    "#statsmodelsを用いて回帰分析する。\n",
    "formula = 'y ~ x'\n",
    "mod = ols(formula, data=df)#ols 最小二乗法\n",
    "res = ols(formula, data=df).fit()\n",
    "res.summary()"
   ]
  },
  {
   "cell_type": "markdown",
   "metadata": {},
   "source": [
    "## **データ加工編第二部:seisekiデータ**<a id='sec4'></a>  \n",
    "[先頭に戻る](#top)  "
   ]
  },
  {
   "cell_type": "markdown",
   "metadata": {},
   "source": [
    "**その１**<a id='sec4_1'></a>  \n",
    "**成績データを読み込んでみよう！**   \n",
    "資料サイト(https://statistics.co.jp/reference/statistical_data/statistical_data.htm)  \n",
    ">5. 成績データ[csv] をダウンロード"
   ]
  },
  {
   "cell_type": "code",
   "execution_count": 83,
   "metadata": {},
   "outputs": [],
   "source": [
    "#ライブラリのインポート\n",
    "import pandas as pd\n",
    "import numpy as np"
   ]
  },
  {
   "cell_type": "code",
   "execution_count": 84,
   "metadata": {},
   "outputs": [
    {
     "data": {
      "text/html": [
       "<div>\n",
       "<style scoped>\n",
       "    .dataframe tbody tr th:only-of-type {\n",
       "        vertical-align: middle;\n",
       "    }\n",
       "\n",
       "    .dataframe tbody tr th {\n",
       "        vertical-align: top;\n",
       "    }\n",
       "\n",
       "    .dataframe thead th {\n",
       "        text-align: right;\n",
       "    }\n",
       "</style>\n",
       "<table border=\"1\" class=\"dataframe\">\n",
       "  <thead>\n",
       "    <tr style=\"text-align: right;\">\n",
       "      <th></th>\n",
       "      <th>kokugo</th>\n",
       "      <th>shakai</th>\n",
       "      <th>sugaku</th>\n",
       "      <th>rika</th>\n",
       "      <th>ongaku</th>\n",
       "      <th>bijutu</th>\n",
       "      <th>taiiku</th>\n",
       "      <th>gika</th>\n",
       "      <th>eigo</th>\n",
       "    </tr>\n",
       "  </thead>\n",
       "  <tbody>\n",
       "    <tr>\n",
       "      <th>0</th>\n",
       "      <td>30</td>\n",
       "      <td>43</td>\n",
       "      <td>51</td>\n",
       "      <td>63</td>\n",
       "      <td>60</td>\n",
       "      <td>66</td>\n",
       "      <td>37</td>\n",
       "      <td>44</td>\n",
       "      <td>20</td>\n",
       "    </tr>\n",
       "    <tr>\n",
       "      <th>1</th>\n",
       "      <td>39</td>\n",
       "      <td>21</td>\n",
       "      <td>49</td>\n",
       "      <td>56</td>\n",
       "      <td>70</td>\n",
       "      <td>72</td>\n",
       "      <td>56</td>\n",
       "      <td>63</td>\n",
       "      <td>16</td>\n",
       "    </tr>\n",
       "    <tr>\n",
       "      <th>2</th>\n",
       "      <td>29</td>\n",
       "      <td>30</td>\n",
       "      <td>23</td>\n",
       "      <td>57</td>\n",
       "      <td>69</td>\n",
       "      <td>76</td>\n",
       "      <td>33</td>\n",
       "      <td>54</td>\n",
       "      <td>6</td>\n",
       "    </tr>\n",
       "    <tr>\n",
       "      <th>3</th>\n",
       "      <td>95</td>\n",
       "      <td>87</td>\n",
       "      <td>77</td>\n",
       "      <td>100</td>\n",
       "      <td>77</td>\n",
       "      <td>82</td>\n",
       "      <td>78</td>\n",
       "      <td>96</td>\n",
       "      <td>87</td>\n",
       "    </tr>\n",
       "    <tr>\n",
       "      <th>4</th>\n",
       "      <td>70</td>\n",
       "      <td>71</td>\n",
       "      <td>78</td>\n",
       "      <td>67</td>\n",
       "      <td>72</td>\n",
       "      <td>82</td>\n",
       "      <td>46</td>\n",
       "      <td>63</td>\n",
       "      <td>44</td>\n",
       "    </tr>\n",
       "  </tbody>\n",
       "</table>\n",
       "</div>"
      ],
      "text/plain": [
       "   kokugo  shakai  sugaku  rika  ongaku  bijutu  taiiku  gika  eigo\n",
       "0      30      43      51    63      60      66      37    44    20\n",
       "1      39      21      49    56      70      72      56    63    16\n",
       "2      29      30      23    57      69      76      33    54     6\n",
       "3      95      87      77   100      77      82      78    96    87\n",
       "4      70      71      78    67      72      82      46    63    44"
      ]
     },
     "execution_count": 84,
     "metadata": {},
     "output_type": "execute_result"
    }
   ],
   "source": [
    "df = pd.read_csv(\"seiseki.csv\")\n",
    "df.head()"
   ]
  },
  {
   "cell_type": "markdown",
   "metadata": {},
   "source": [
    "**その2-1** **データの特徴を把握しよう！**<a id='sec4_2_1'></a>  \n",
    "[先頭に戻る](#top)"
   ]
  },
  {
   "cell_type": "code",
   "execution_count": 123,
   "metadata": {},
   "outputs": [
    {
     "data": {
      "text/plain": [
       "pandas.core.frame.DataFrame"
      ]
     },
     "execution_count": 123,
     "metadata": {},
     "output_type": "execute_result"
    }
   ],
   "source": [
    "type(df)"
   ]
  },
  {
   "cell_type": "code",
   "execution_count": 124,
   "metadata": {},
   "outputs": [
    {
     "name": "stdout",
     "output_type": "stream",
     "text": [
      "<class 'pandas.core.frame.DataFrame'>\n",
      "RangeIndex: 166 entries, 0 to 165\n",
      "Data columns (total 9 columns):\n",
      " #   Column  Non-Null Count  Dtype\n",
      "---  ------  --------------  -----\n",
      " 0   kokugo  166 non-null    int64\n",
      " 1   shakai  166 non-null    int64\n",
      " 2   sugaku  166 non-null    int64\n",
      " 3   rika    166 non-null    int64\n",
      " 4   ongaku  166 non-null    int64\n",
      " 5   bijutu  166 non-null    int64\n",
      " 6   taiiku  166 non-null    int64\n",
      " 7   gika    166 non-null    int64\n",
      " 8   eigo    166 non-null    int64\n",
      "dtypes: int64(9)\n",
      "memory usage: 11.8 KB\n"
     ]
    }
   ],
   "source": [
    "df.info()"
   ]
  },
  {
   "cell_type": "markdown",
   "metadata": {},
   "source": [
    "**その2-2**　**データの特徴を把握しよう！**<a id='sec4_2_2'></a>  \n",
    "[先頭に戻る](#top)"
   ]
  },
  {
   "cell_type": "markdown",
   "metadata": {},
   "source": [
    "　先程は、どうやらこのデータには不備がないらしいということが確認できました。  \n",
    "その次に、データの平均値や分布の散らばり(分散)について知りたくないですか？？  \n",
    "皆さま朗報です。pandasではなんと一行ですべてが把握できます。"
   ]
  },
  {
   "cell_type": "code",
   "execution_count": 125,
   "metadata": {},
   "outputs": [
    {
     "data": {
      "text/html": [
       "<div>\n",
       "<style scoped>\n",
       "    .dataframe tbody tr th:only-of-type {\n",
       "        vertical-align: middle;\n",
       "    }\n",
       "\n",
       "    .dataframe tbody tr th {\n",
       "        vertical-align: top;\n",
       "    }\n",
       "\n",
       "    .dataframe thead th {\n",
       "        text-align: right;\n",
       "    }\n",
       "</style>\n",
       "<table border=\"1\" class=\"dataframe\">\n",
       "  <thead>\n",
       "    <tr style=\"text-align: right;\">\n",
       "      <th></th>\n",
       "      <th>kokugo</th>\n",
       "      <th>shakai</th>\n",
       "      <th>sugaku</th>\n",
       "      <th>rika</th>\n",
       "      <th>ongaku</th>\n",
       "      <th>bijutu</th>\n",
       "      <th>taiiku</th>\n",
       "      <th>gika</th>\n",
       "      <th>eigo</th>\n",
       "    </tr>\n",
       "  </thead>\n",
       "  <tbody>\n",
       "    <tr>\n",
       "      <th>count</th>\n",
       "      <td>166.000000</td>\n",
       "      <td>166.000000</td>\n",
       "      <td>166.000000</td>\n",
       "      <td>166.000000</td>\n",
       "      <td>166.000000</td>\n",
       "      <td>166.000000</td>\n",
       "      <td>166.000000</td>\n",
       "      <td>166.000000</td>\n",
       "      <td>166.000000</td>\n",
       "    </tr>\n",
       "    <tr>\n",
       "      <th>mean</th>\n",
       "      <td>52.331325</td>\n",
       "      <td>39.602410</td>\n",
       "      <td>45.614458</td>\n",
       "      <td>49.885542</td>\n",
       "      <td>42.331325</td>\n",
       "      <td>62.457831</td>\n",
       "      <td>57.740964</td>\n",
       "      <td>47.307229</td>\n",
       "      <td>39.084337</td>\n",
       "    </tr>\n",
       "    <tr>\n",
       "      <th>std</th>\n",
       "      <td>21.835858</td>\n",
       "      <td>21.456335</td>\n",
       "      <td>24.236127</td>\n",
       "      <td>21.408130</td>\n",
       "      <td>22.894855</td>\n",
       "      <td>17.188298</td>\n",
       "      <td>26.577943</td>\n",
       "      <td>22.519397</td>\n",
       "      <td>29.507351</td>\n",
       "    </tr>\n",
       "    <tr>\n",
       "      <th>min</th>\n",
       "      <td>0.000000</td>\n",
       "      <td>4.000000</td>\n",
       "      <td>0.000000</td>\n",
       "      <td>9.000000</td>\n",
       "      <td>2.000000</td>\n",
       "      <td>15.000000</td>\n",
       "      <td>2.000000</td>\n",
       "      <td>2.000000</td>\n",
       "      <td>0.000000</td>\n",
       "    </tr>\n",
       "    <tr>\n",
       "      <th>25%</th>\n",
       "      <td>35.000000</td>\n",
       "      <td>23.000000</td>\n",
       "      <td>28.000000</td>\n",
       "      <td>31.000000</td>\n",
       "      <td>25.250000</td>\n",
       "      <td>52.000000</td>\n",
       "      <td>35.250000</td>\n",
       "      <td>31.250000</td>\n",
       "      <td>12.000000</td>\n",
       "    </tr>\n",
       "    <tr>\n",
       "      <th>50%</th>\n",
       "      <td>53.000000</td>\n",
       "      <td>35.000000</td>\n",
       "      <td>43.000000</td>\n",
       "      <td>49.000000</td>\n",
       "      <td>41.500000</td>\n",
       "      <td>65.000000</td>\n",
       "      <td>60.000000</td>\n",
       "      <td>48.500000</td>\n",
       "      <td>35.000000</td>\n",
       "    </tr>\n",
       "    <tr>\n",
       "      <th>75%</th>\n",
       "      <td>70.000000</td>\n",
       "      <td>53.750000</td>\n",
       "      <td>63.750000</td>\n",
       "      <td>65.750000</td>\n",
       "      <td>58.750000</td>\n",
       "      <td>75.750000</td>\n",
       "      <td>82.000000</td>\n",
       "      <td>65.000000</td>\n",
       "      <td>66.750000</td>\n",
       "    </tr>\n",
       "    <tr>\n",
       "      <th>max</th>\n",
       "      <td>96.000000</td>\n",
       "      <td>90.000000</td>\n",
       "      <td>100.000000</td>\n",
       "      <td>100.000000</td>\n",
       "      <td>96.000000</td>\n",
       "      <td>99.000000</td>\n",
       "      <td>99.000000</td>\n",
       "      <td>100.000000</td>\n",
       "      <td>99.000000</td>\n",
       "    </tr>\n",
       "  </tbody>\n",
       "</table>\n",
       "</div>"
      ],
      "text/plain": [
       "           kokugo      shakai      sugaku        rika      ongaku      bijutu  \\\n",
       "count  166.000000  166.000000  166.000000  166.000000  166.000000  166.000000   \n",
       "mean    52.331325   39.602410   45.614458   49.885542   42.331325   62.457831   \n",
       "std     21.835858   21.456335   24.236127   21.408130   22.894855   17.188298   \n",
       "min      0.000000    4.000000    0.000000    9.000000    2.000000   15.000000   \n",
       "25%     35.000000   23.000000   28.000000   31.000000   25.250000   52.000000   \n",
       "50%     53.000000   35.000000   43.000000   49.000000   41.500000   65.000000   \n",
       "75%     70.000000   53.750000   63.750000   65.750000   58.750000   75.750000   \n",
       "max     96.000000   90.000000  100.000000  100.000000   96.000000   99.000000   \n",
       "\n",
       "           taiiku        gika        eigo  \n",
       "count  166.000000  166.000000  166.000000  \n",
       "mean    57.740964   47.307229   39.084337  \n",
       "std     26.577943   22.519397   29.507351  \n",
       "min      2.000000    2.000000    0.000000  \n",
       "25%     35.250000   31.250000   12.000000  \n",
       "50%     60.000000   48.500000   35.000000  \n",
       "75%     82.000000   65.000000   66.750000  \n",
       "max     99.000000  100.000000   99.000000  "
      ]
     },
     "execution_count": 125,
     "metadata": {},
     "output_type": "execute_result"
    }
   ],
   "source": [
    "df.describe()"
   ]
  },
  {
   "cell_type": "markdown",
   "metadata": {},
   "source": [
    "**その3** **カラムの名前を変更してみよう！**<a id='sec4_3'></a>  \n",
    "[先頭に戻る](#top)"
   ]
  },
  {
   "cell_type": "code",
   "execution_count": 126,
   "metadata": {},
   "outputs": [
    {
     "data": {
      "text/html": [
       "<div>\n",
       "<style scoped>\n",
       "    .dataframe tbody tr th:only-of-type {\n",
       "        vertical-align: middle;\n",
       "    }\n",
       "\n",
       "    .dataframe tbody tr th {\n",
       "        vertical-align: top;\n",
       "    }\n",
       "\n",
       "    .dataframe thead th {\n",
       "        text-align: right;\n",
       "    }\n",
       "</style>\n",
       "<table border=\"1\" class=\"dataframe\">\n",
       "  <thead>\n",
       "    <tr style=\"text-align: right;\">\n",
       "      <th></th>\n",
       "      <th>国語</th>\n",
       "      <th>社会</th>\n",
       "      <th>数学</th>\n",
       "      <th>理科</th>\n",
       "      <th>ongaku</th>\n",
       "      <th>bijutu</th>\n",
       "      <th>taiiku</th>\n",
       "      <th>gika</th>\n",
       "      <th>英語</th>\n",
       "    </tr>\n",
       "  </thead>\n",
       "  <tbody>\n",
       "    <tr>\n",
       "      <th>0</th>\n",
       "      <td>30</td>\n",
       "      <td>43</td>\n",
       "      <td>51</td>\n",
       "      <td>63</td>\n",
       "      <td>60</td>\n",
       "      <td>66</td>\n",
       "      <td>37</td>\n",
       "      <td>44</td>\n",
       "      <td>20</td>\n",
       "    </tr>\n",
       "    <tr>\n",
       "      <th>1</th>\n",
       "      <td>39</td>\n",
       "      <td>21</td>\n",
       "      <td>49</td>\n",
       "      <td>56</td>\n",
       "      <td>70</td>\n",
       "      <td>72</td>\n",
       "      <td>56</td>\n",
       "      <td>63</td>\n",
       "      <td>16</td>\n",
       "    </tr>\n",
       "    <tr>\n",
       "      <th>2</th>\n",
       "      <td>29</td>\n",
       "      <td>30</td>\n",
       "      <td>23</td>\n",
       "      <td>57</td>\n",
       "      <td>69</td>\n",
       "      <td>76</td>\n",
       "      <td>33</td>\n",
       "      <td>54</td>\n",
       "      <td>6</td>\n",
       "    </tr>\n",
       "    <tr>\n",
       "      <th>3</th>\n",
       "      <td>95</td>\n",
       "      <td>87</td>\n",
       "      <td>77</td>\n",
       "      <td>100</td>\n",
       "      <td>77</td>\n",
       "      <td>82</td>\n",
       "      <td>78</td>\n",
       "      <td>96</td>\n",
       "      <td>87</td>\n",
       "    </tr>\n",
       "    <tr>\n",
       "      <th>4</th>\n",
       "      <td>70</td>\n",
       "      <td>71</td>\n",
       "      <td>78</td>\n",
       "      <td>67</td>\n",
       "      <td>72</td>\n",
       "      <td>82</td>\n",
       "      <td>46</td>\n",
       "      <td>63</td>\n",
       "      <td>44</td>\n",
       "    </tr>\n",
       "    <tr>\n",
       "      <th>...</th>\n",
       "      <td>...</td>\n",
       "      <td>...</td>\n",
       "      <td>...</td>\n",
       "      <td>...</td>\n",
       "      <td>...</td>\n",
       "      <td>...</td>\n",
       "      <td>...</td>\n",
       "      <td>...</td>\n",
       "      <td>...</td>\n",
       "    </tr>\n",
       "    <tr>\n",
       "      <th>161</th>\n",
       "      <td>82</td>\n",
       "      <td>78</td>\n",
       "      <td>80</td>\n",
       "      <td>88</td>\n",
       "      <td>80</td>\n",
       "      <td>69</td>\n",
       "      <td>83</td>\n",
       "      <td>78</td>\n",
       "      <td>90</td>\n",
       "    </tr>\n",
       "    <tr>\n",
       "      <th>162</th>\n",
       "      <td>0</td>\n",
       "      <td>8</td>\n",
       "      <td>2</td>\n",
       "      <td>9</td>\n",
       "      <td>5</td>\n",
       "      <td>18</td>\n",
       "      <td>42</td>\n",
       "      <td>2</td>\n",
       "      <td>1</td>\n",
       "    </tr>\n",
       "    <tr>\n",
       "      <th>163</th>\n",
       "      <td>45</td>\n",
       "      <td>26</td>\n",
       "      <td>29</td>\n",
       "      <td>24</td>\n",
       "      <td>31</td>\n",
       "      <td>57</td>\n",
       "      <td>68</td>\n",
       "      <td>40</td>\n",
       "      <td>27</td>\n",
       "    </tr>\n",
       "    <tr>\n",
       "      <th>164</th>\n",
       "      <td>73</td>\n",
       "      <td>31</td>\n",
       "      <td>43</td>\n",
       "      <td>32</td>\n",
       "      <td>59</td>\n",
       "      <td>64</td>\n",
       "      <td>82</td>\n",
       "      <td>48</td>\n",
       "      <td>56</td>\n",
       "    </tr>\n",
       "    <tr>\n",
       "      <th>165</th>\n",
       "      <td>60</td>\n",
       "      <td>85</td>\n",
       "      <td>89</td>\n",
       "      <td>80</td>\n",
       "      <td>56</td>\n",
       "      <td>79</td>\n",
       "      <td>81</td>\n",
       "      <td>45</td>\n",
       "      <td>85</td>\n",
       "    </tr>\n",
       "  </tbody>\n",
       "</table>\n",
       "<p>166 rows × 9 columns</p>\n",
       "</div>"
      ],
      "text/plain": [
       "     国語  社会  数学   理科  ongaku  bijutu  taiiku  gika  英語\n",
       "0    30  43  51   63      60      66      37    44  20\n",
       "1    39  21  49   56      70      72      56    63  16\n",
       "2    29  30  23   57      69      76      33    54   6\n",
       "3    95  87  77  100      77      82      78    96  87\n",
       "4    70  71  78   67      72      82      46    63  44\n",
       "..   ..  ..  ..  ...     ...     ...     ...   ...  ..\n",
       "161  82  78  80   88      80      69      83    78  90\n",
       "162   0   8   2    9       5      18      42     2   1\n",
       "163  45  26  29   24      31      57      68    40  27\n",
       "164  73  31  43   32      59      64      82    48  56\n",
       "165  60  85  89   80      56      79      81    45  85\n",
       "\n",
       "[166 rows x 9 columns]"
      ]
     },
     "execution_count": 126,
     "metadata": {},
     "output_type": "execute_result"
    }
   ],
   "source": [
    "df = df.rename(columns={\"eigo\":\"英語\",\"kokugo\":\"国語\",\"shakai\":\"社会\",\"rika\":\"理科\",\"sugaku\":\"数学\"})\n",
    "df\n",
    "#名前を上書きしないと一回きりで消えてしまいます！！"
   ]
  },
  {
   "cell_type": "markdown",
   "metadata": {},
   "source": [
    "**実践：副科目についても変更しましょう！**  \n",
    "その際、gikaは技術家庭科と置き換えてください！"
   ]
  },
  {
   "cell_type": "markdown",
   "metadata": {},
   "source": [
    "**その4** **特定の列だけを取り出してみよう！**<a id='sec4_4'></a>  \n",
    "[先頭に戻る](#top)"
   ]
  },
  {
   "cell_type": "markdown",
   "metadata": {},
   "source": [
    "まずは国語のデータのみをシリーズとして抽出してみましょう。"
   ]
  },
  {
   "cell_type": "code",
   "execution_count": null,
   "metadata": {},
   "outputs": [],
   "source": [
    "df[\"国語\"]"
   ]
  },
  {
   "cell_type": "markdown",
   "metadata": {},
   "source": [
    "### *DataFrameとSeries*<a id='sec4_5'></a>  \n",
    "[先頭に戻る](#top)"
   ]
  },
  {
   "cell_type": "markdown",
   "metadata": {},
   "source": [
    "DataFrameと対になる概念が、Seriesです。  \n",
    "以下に、Series(シリーズ)に関して説明します。"
   ]
  },
  {
   "cell_type": "code",
   "execution_count": 128,
   "metadata": {},
   "outputs": [
    {
     "data": {
      "text/plain": [
       "pandas.core.series.Series"
      ]
     },
     "execution_count": 128,
     "metadata": {},
     "output_type": "execute_result"
    }
   ],
   "source": [
    "type(df[\"国語\"])"
   ]
  },
  {
   "cell_type": "markdown",
   "metadata": {},
   "source": [
    "データを抜き取る際に、[　]の数を一ペア減らしました。すると、表示のされ方が変わりました。このように一次元配列で収納されたデータを**シリーズ**と呼びます。シリーズはDataFrameとは少し扱い方が異なります。重要な点だけ確認してみます。"
   ]
  },
  {
   "cell_type": "markdown",
   "metadata": {},
   "source": [
    "実際に動かしてみるとわかりますが、Series型はinfo()関数が使えません。そのため、確認には以下のコードを用います。"
   ]
  },
  {
   "cell_type": "code",
   "execution_count": 129,
   "metadata": {},
   "outputs": [
    {
     "data": {
      "text/plain": [
       "pandas.core.series.Series"
      ]
     },
     "execution_count": 129,
     "metadata": {},
     "output_type": "execute_result"
    }
   ],
   "source": [
    "#dataの型を確認します。\n",
    "type(df[\"国語\"])"
   ]
  },
  {
   "cell_type": "code",
   "execution_count": 130,
   "metadata": {},
   "outputs": [
    {
     "data": {
      "text/plain": [
       "dtype('int64')"
      ]
     },
     "execution_count": 130,
     "metadata": {},
     "output_type": "execute_result"
    }
   ],
   "source": [
    "#文字の種類を確認できます。\n",
    "df[\"国語\"].dtype"
   ]
  },
  {
   "cell_type": "markdown",
   "metadata": {},
   "source": [
    "Seriesよりも、DataFrameのほうが便利です。平均値などの記述統計を知りたい場合は、シリーズをDataFrameに戻してしまうのが便利です。"
   ]
  },
  {
   "cell_type": "code",
   "execution_count": 131,
   "metadata": {},
   "outputs": [
    {
     "data": {
      "text/html": [
       "<div>\n",
       "<style scoped>\n",
       "    .dataframe tbody tr th:only-of-type {\n",
       "        vertical-align: middle;\n",
       "    }\n",
       "\n",
       "    .dataframe tbody tr th {\n",
       "        vertical-align: top;\n",
       "    }\n",
       "\n",
       "    .dataframe thead th {\n",
       "        text-align: right;\n",
       "    }\n",
       "</style>\n",
       "<table border=\"1\" class=\"dataframe\">\n",
       "  <thead>\n",
       "    <tr style=\"text-align: right;\">\n",
       "      <th></th>\n",
       "      <th>国語</th>\n",
       "    </tr>\n",
       "  </thead>\n",
       "  <tbody>\n",
       "    <tr>\n",
       "      <th>0</th>\n",
       "      <td>30</td>\n",
       "    </tr>\n",
       "    <tr>\n",
       "      <th>1</th>\n",
       "      <td>39</td>\n",
       "    </tr>\n",
       "    <tr>\n",
       "      <th>2</th>\n",
       "      <td>29</td>\n",
       "    </tr>\n",
       "    <tr>\n",
       "      <th>3</th>\n",
       "      <td>95</td>\n",
       "    </tr>\n",
       "    <tr>\n",
       "      <th>4</th>\n",
       "      <td>70</td>\n",
       "    </tr>\n",
       "    <tr>\n",
       "      <th>...</th>\n",
       "      <td>...</td>\n",
       "    </tr>\n",
       "    <tr>\n",
       "      <th>161</th>\n",
       "      <td>82</td>\n",
       "    </tr>\n",
       "    <tr>\n",
       "      <th>162</th>\n",
       "      <td>0</td>\n",
       "    </tr>\n",
       "    <tr>\n",
       "      <th>163</th>\n",
       "      <td>45</td>\n",
       "    </tr>\n",
       "    <tr>\n",
       "      <th>164</th>\n",
       "      <td>73</td>\n",
       "    </tr>\n",
       "    <tr>\n",
       "      <th>165</th>\n",
       "      <td>60</td>\n",
       "    </tr>\n",
       "  </tbody>\n",
       "</table>\n",
       "<p>166 rows × 1 columns</p>\n",
       "</div>"
      ],
      "text/plain": [
       "     国語\n",
       "0    30\n",
       "1    39\n",
       "2    29\n",
       "3    95\n",
       "4    70\n",
       "..   ..\n",
       "161  82\n",
       "162   0\n",
       "163  45\n",
       "164  73\n",
       "165  60\n",
       "\n",
       "[166 rows x 1 columns]"
      ]
     },
     "execution_count": 131,
     "metadata": {},
     "output_type": "execute_result"
    }
   ],
   "source": [
    "df_kokugo = pd.DataFrame(df[\"国語\"])\n",
    "df_kokugo"
   ]
  },
  {
   "cell_type": "code",
   "execution_count": 132,
   "metadata": {},
   "outputs": [
    {
     "data": {
      "text/plain": [
       "pandas.core.frame.DataFrame"
      ]
     },
     "execution_count": 132,
     "metadata": {},
     "output_type": "execute_result"
    }
   ],
   "source": [
    "type(df_kokugo)"
   ]
  },
  {
   "cell_type": "markdown",
   "metadata": {},
   "source": [
    "　DataFrameに帰ってくることができました。このように、データは多くの場合で変更ができます。先ほどのint64型とfloat型でも、int64で表示されていてほしい時に、float型で表示されてしまっていたりすることがあります。同じ種類のデータには、なんらかの互換性が装備されていることが多いです。"
   ]
  },
  {
   "cell_type": "markdown",
   "metadata": {},
   "source": [
    "次は複数の行を取り出します。"
   ]
  },
  {
   "cell_type": "code",
   "execution_count": 133,
   "metadata": {},
   "outputs": [
    {
     "data": {
      "text/html": [
       "<div>\n",
       "<style scoped>\n",
       "    .dataframe tbody tr th:only-of-type {\n",
       "        vertical-align: middle;\n",
       "    }\n",
       "\n",
       "    .dataframe tbody tr th {\n",
       "        vertical-align: top;\n",
       "    }\n",
       "\n",
       "    .dataframe thead th {\n",
       "        text-align: right;\n",
       "    }\n",
       "</style>\n",
       "<table border=\"1\" class=\"dataframe\">\n",
       "  <thead>\n",
       "    <tr style=\"text-align: right;\">\n",
       "      <th></th>\n",
       "      <th>国語</th>\n",
       "      <th>社会</th>\n",
       "      <th>理科</th>\n",
       "      <th>数学</th>\n",
       "      <th>英語</th>\n",
       "    </tr>\n",
       "  </thead>\n",
       "  <tbody>\n",
       "    <tr>\n",
       "      <th>0</th>\n",
       "      <td>30</td>\n",
       "      <td>43</td>\n",
       "      <td>63</td>\n",
       "      <td>51</td>\n",
       "      <td>20</td>\n",
       "    </tr>\n",
       "    <tr>\n",
       "      <th>1</th>\n",
       "      <td>39</td>\n",
       "      <td>21</td>\n",
       "      <td>56</td>\n",
       "      <td>49</td>\n",
       "      <td>16</td>\n",
       "    </tr>\n",
       "    <tr>\n",
       "      <th>2</th>\n",
       "      <td>29</td>\n",
       "      <td>30</td>\n",
       "      <td>57</td>\n",
       "      <td>23</td>\n",
       "      <td>6</td>\n",
       "    </tr>\n",
       "    <tr>\n",
       "      <th>3</th>\n",
       "      <td>95</td>\n",
       "      <td>87</td>\n",
       "      <td>100</td>\n",
       "      <td>77</td>\n",
       "      <td>87</td>\n",
       "    </tr>\n",
       "    <tr>\n",
       "      <th>4</th>\n",
       "      <td>70</td>\n",
       "      <td>71</td>\n",
       "      <td>67</td>\n",
       "      <td>78</td>\n",
       "      <td>44</td>\n",
       "    </tr>\n",
       "    <tr>\n",
       "      <th>...</th>\n",
       "      <td>...</td>\n",
       "      <td>...</td>\n",
       "      <td>...</td>\n",
       "      <td>...</td>\n",
       "      <td>...</td>\n",
       "    </tr>\n",
       "    <tr>\n",
       "      <th>161</th>\n",
       "      <td>82</td>\n",
       "      <td>78</td>\n",
       "      <td>88</td>\n",
       "      <td>80</td>\n",
       "      <td>90</td>\n",
       "    </tr>\n",
       "    <tr>\n",
       "      <th>162</th>\n",
       "      <td>0</td>\n",
       "      <td>8</td>\n",
       "      <td>9</td>\n",
       "      <td>2</td>\n",
       "      <td>1</td>\n",
       "    </tr>\n",
       "    <tr>\n",
       "      <th>163</th>\n",
       "      <td>45</td>\n",
       "      <td>26</td>\n",
       "      <td>24</td>\n",
       "      <td>29</td>\n",
       "      <td>27</td>\n",
       "    </tr>\n",
       "    <tr>\n",
       "      <th>164</th>\n",
       "      <td>73</td>\n",
       "      <td>31</td>\n",
       "      <td>32</td>\n",
       "      <td>43</td>\n",
       "      <td>56</td>\n",
       "    </tr>\n",
       "    <tr>\n",
       "      <th>165</th>\n",
       "      <td>60</td>\n",
       "      <td>85</td>\n",
       "      <td>80</td>\n",
       "      <td>89</td>\n",
       "      <td>85</td>\n",
       "    </tr>\n",
       "  </tbody>\n",
       "</table>\n",
       "<p>166 rows × 5 columns</p>\n",
       "</div>"
      ],
      "text/plain": [
       "     国語  社会   理科  数学  英語\n",
       "0    30  43   63  51  20\n",
       "1    39  21   56  49  16\n",
       "2    29  30   57  23   6\n",
       "3    95  87  100  77  87\n",
       "4    70  71   67  78  44\n",
       "..   ..  ..  ...  ..  ..\n",
       "161  82  78   88  80  90\n",
       "162   0   8    9   2   1\n",
       "163  45  26   24  29  27\n",
       "164  73  31   32  43  56\n",
       "165  60  85   80  89  85\n",
       "\n",
       "[166 rows x 5 columns]"
      ]
     },
     "execution_count": 133,
     "metadata": {},
     "output_type": "execute_result"
    }
   ],
   "source": [
    "df[[\"国語\",\"社会\",\"理科\",\"数学\",\"英語\"]]"
   ]
  },
  {
   "cell_type": "markdown",
   "metadata": {},
   "source": [
    "**実践：同様に副科目を取り出しましょう！**"
   ]
  },
  {
   "cell_type": "markdown",
   "metadata": {},
   "source": [
    "**その5** **列を統合させてみよう！**<a id='sec4_6'></a>  \n",
    "[先頭に戻る](#top)"
   ]
  },
  {
   "cell_type": "markdown",
   "metadata": {},
   "source": [
    "次に列を合体させて、理系科目と文系科目に分けてみようと思います。"
   ]
  },
  {
   "cell_type": "code",
   "execution_count": 135,
   "metadata": {},
   "outputs": [],
   "source": [
    "df[\"理系\"] = df[\"数学\"] + df[\"理科\"]\n",
    "df[\"文系\"] =df[\"国語\"] + df[\"社会\"] + df[\"英語\"]"
   ]
  },
  {
   "cell_type": "code",
   "execution_count": 136,
   "metadata": {},
   "outputs": [
    {
     "data": {
      "text/html": [
       "<div>\n",
       "<style scoped>\n",
       "    .dataframe tbody tr th:only-of-type {\n",
       "        vertical-align: middle;\n",
       "    }\n",
       "\n",
       "    .dataframe tbody tr th {\n",
       "        vertical-align: top;\n",
       "    }\n",
       "\n",
       "    .dataframe thead th {\n",
       "        text-align: right;\n",
       "    }\n",
       "</style>\n",
       "<table border=\"1\" class=\"dataframe\">\n",
       "  <thead>\n",
       "    <tr style=\"text-align: right;\">\n",
       "      <th></th>\n",
       "      <th>国語</th>\n",
       "      <th>社会</th>\n",
       "      <th>数学</th>\n",
       "      <th>理科</th>\n",
       "      <th>音楽</th>\n",
       "      <th>美術</th>\n",
       "      <th>体育</th>\n",
       "      <th>技術家庭科</th>\n",
       "      <th>英語</th>\n",
       "      <th>理系</th>\n",
       "      <th>文系</th>\n",
       "    </tr>\n",
       "  </thead>\n",
       "  <tbody>\n",
       "    <tr>\n",
       "      <th>0</th>\n",
       "      <td>30</td>\n",
       "      <td>43</td>\n",
       "      <td>51</td>\n",
       "      <td>63</td>\n",
       "      <td>60</td>\n",
       "      <td>66</td>\n",
       "      <td>37</td>\n",
       "      <td>44</td>\n",
       "      <td>20</td>\n",
       "      <td>114</td>\n",
       "      <td>93</td>\n",
       "    </tr>\n",
       "    <tr>\n",
       "      <th>1</th>\n",
       "      <td>39</td>\n",
       "      <td>21</td>\n",
       "      <td>49</td>\n",
       "      <td>56</td>\n",
       "      <td>70</td>\n",
       "      <td>72</td>\n",
       "      <td>56</td>\n",
       "      <td>63</td>\n",
       "      <td>16</td>\n",
       "      <td>105</td>\n",
       "      <td>76</td>\n",
       "    </tr>\n",
       "    <tr>\n",
       "      <th>2</th>\n",
       "      <td>29</td>\n",
       "      <td>30</td>\n",
       "      <td>23</td>\n",
       "      <td>57</td>\n",
       "      <td>69</td>\n",
       "      <td>76</td>\n",
       "      <td>33</td>\n",
       "      <td>54</td>\n",
       "      <td>6</td>\n",
       "      <td>80</td>\n",
       "      <td>65</td>\n",
       "    </tr>\n",
       "    <tr>\n",
       "      <th>3</th>\n",
       "      <td>95</td>\n",
       "      <td>87</td>\n",
       "      <td>77</td>\n",
       "      <td>100</td>\n",
       "      <td>77</td>\n",
       "      <td>82</td>\n",
       "      <td>78</td>\n",
       "      <td>96</td>\n",
       "      <td>87</td>\n",
       "      <td>177</td>\n",
       "      <td>269</td>\n",
       "    </tr>\n",
       "    <tr>\n",
       "      <th>4</th>\n",
       "      <td>70</td>\n",
       "      <td>71</td>\n",
       "      <td>78</td>\n",
       "      <td>67</td>\n",
       "      <td>72</td>\n",
       "      <td>82</td>\n",
       "      <td>46</td>\n",
       "      <td>63</td>\n",
       "      <td>44</td>\n",
       "      <td>145</td>\n",
       "      <td>185</td>\n",
       "    </tr>\n",
       "    <tr>\n",
       "      <th>...</th>\n",
       "      <td>...</td>\n",
       "      <td>...</td>\n",
       "      <td>...</td>\n",
       "      <td>...</td>\n",
       "      <td>...</td>\n",
       "      <td>...</td>\n",
       "      <td>...</td>\n",
       "      <td>...</td>\n",
       "      <td>...</td>\n",
       "      <td>...</td>\n",
       "      <td>...</td>\n",
       "    </tr>\n",
       "    <tr>\n",
       "      <th>161</th>\n",
       "      <td>82</td>\n",
       "      <td>78</td>\n",
       "      <td>80</td>\n",
       "      <td>88</td>\n",
       "      <td>80</td>\n",
       "      <td>69</td>\n",
       "      <td>83</td>\n",
       "      <td>78</td>\n",
       "      <td>90</td>\n",
       "      <td>168</td>\n",
       "      <td>250</td>\n",
       "    </tr>\n",
       "    <tr>\n",
       "      <th>162</th>\n",
       "      <td>0</td>\n",
       "      <td>8</td>\n",
       "      <td>2</td>\n",
       "      <td>9</td>\n",
       "      <td>5</td>\n",
       "      <td>18</td>\n",
       "      <td>42</td>\n",
       "      <td>2</td>\n",
       "      <td>1</td>\n",
       "      <td>11</td>\n",
       "      <td>9</td>\n",
       "    </tr>\n",
       "    <tr>\n",
       "      <th>163</th>\n",
       "      <td>45</td>\n",
       "      <td>26</td>\n",
       "      <td>29</td>\n",
       "      <td>24</td>\n",
       "      <td>31</td>\n",
       "      <td>57</td>\n",
       "      <td>68</td>\n",
       "      <td>40</td>\n",
       "      <td>27</td>\n",
       "      <td>53</td>\n",
       "      <td>98</td>\n",
       "    </tr>\n",
       "    <tr>\n",
       "      <th>164</th>\n",
       "      <td>73</td>\n",
       "      <td>31</td>\n",
       "      <td>43</td>\n",
       "      <td>32</td>\n",
       "      <td>59</td>\n",
       "      <td>64</td>\n",
       "      <td>82</td>\n",
       "      <td>48</td>\n",
       "      <td>56</td>\n",
       "      <td>75</td>\n",
       "      <td>160</td>\n",
       "    </tr>\n",
       "    <tr>\n",
       "      <th>165</th>\n",
       "      <td>60</td>\n",
       "      <td>85</td>\n",
       "      <td>89</td>\n",
       "      <td>80</td>\n",
       "      <td>56</td>\n",
       "      <td>79</td>\n",
       "      <td>81</td>\n",
       "      <td>45</td>\n",
       "      <td>85</td>\n",
       "      <td>169</td>\n",
       "      <td>230</td>\n",
       "    </tr>\n",
       "  </tbody>\n",
       "</table>\n",
       "<p>166 rows × 11 columns</p>\n",
       "</div>"
      ],
      "text/plain": [
       "     国語  社会  数学   理科  音楽  美術  体育  技術家庭科  英語   理系   文系\n",
       "0    30  43  51   63  60  66  37     44  20  114   93\n",
       "1    39  21  49   56  70  72  56     63  16  105   76\n",
       "2    29  30  23   57  69  76  33     54   6   80   65\n",
       "3    95  87  77  100  77  82  78     96  87  177  269\n",
       "4    70  71  78   67  72  82  46     63  44  145  185\n",
       "..   ..  ..  ..  ...  ..  ..  ..    ...  ..  ...  ...\n",
       "161  82  78  80   88  80  69  83     78  90  168  250\n",
       "162   0   8   2    9   5  18  42      2   1   11    9\n",
       "163  45  26  29   24  31  57  68     40  27   53   98\n",
       "164  73  31  43   32  59  64  82     48  56   75  160\n",
       "165  60  85  89   80  56  79  81     45  85  169  230\n",
       "\n",
       "[166 rows x 11 columns]"
      ]
     },
     "execution_count": 136,
     "metadata": {},
     "output_type": "execute_result"
    }
   ],
   "source": [
    "df"
   ]
  },
  {
   "cell_type": "markdown",
   "metadata": {},
   "source": [
    "上手にできました！！"
   ]
  },
  {
   "cell_type": "markdown",
   "metadata": {},
   "source": [
    "**実践：dfに新たな列、\"副科目\"を追加しましょう！**"
   ]
  },
  {
   "cell_type": "markdown",
   "metadata": {},
   "source": [
    "**実践：それでは理系と文系の二列を取り出してみましょう！**"
   ]
  },
  {
   "cell_type": "markdown",
   "metadata": {},
   "source": [
    "*Q4* *データの抽出をしてみましょう*   \n",
    "復習です！忘れていませんか！？"
   ]
  },
  {
   "cell_type": "markdown",
   "metadata": {},
   "source": [
    "次に文系、理系の平均値を求めます。これは第一部の一人当たりのビールの消費量を求めた時と同様です。"
   ]
  },
  {
   "cell_type": "code",
   "execution_count": 138,
   "metadata": {},
   "outputs": [
    {
     "data": {
      "text/html": [
       "<div>\n",
       "<style scoped>\n",
       "    .dataframe tbody tr th:only-of-type {\n",
       "        vertical-align: middle;\n",
       "    }\n",
       "\n",
       "    .dataframe tbody tr th {\n",
       "        vertical-align: top;\n",
       "    }\n",
       "\n",
       "    .dataframe thead th {\n",
       "        text-align: right;\n",
       "    }\n",
       "</style>\n",
       "<table border=\"1\" class=\"dataframe\">\n",
       "  <thead>\n",
       "    <tr style=\"text-align: right;\">\n",
       "      <th></th>\n",
       "      <th>理系</th>\n",
       "      <th>文系</th>\n",
       "    </tr>\n",
       "  </thead>\n",
       "  <tbody>\n",
       "    <tr>\n",
       "      <th>0</th>\n",
       "      <td>114</td>\n",
       "      <td>93</td>\n",
       "    </tr>\n",
       "    <tr>\n",
       "      <th>1</th>\n",
       "      <td>105</td>\n",
       "      <td>76</td>\n",
       "    </tr>\n",
       "    <tr>\n",
       "      <th>2</th>\n",
       "      <td>80</td>\n",
       "      <td>65</td>\n",
       "    </tr>\n",
       "    <tr>\n",
       "      <th>3</th>\n",
       "      <td>177</td>\n",
       "      <td>269</td>\n",
       "    </tr>\n",
       "    <tr>\n",
       "      <th>4</th>\n",
       "      <td>145</td>\n",
       "      <td>185</td>\n",
       "    </tr>\n",
       "    <tr>\n",
       "      <th>...</th>\n",
       "      <td>...</td>\n",
       "      <td>...</td>\n",
       "    </tr>\n",
       "    <tr>\n",
       "      <th>161</th>\n",
       "      <td>168</td>\n",
       "      <td>250</td>\n",
       "    </tr>\n",
       "    <tr>\n",
       "      <th>162</th>\n",
       "      <td>11</td>\n",
       "      <td>9</td>\n",
       "    </tr>\n",
       "    <tr>\n",
       "      <th>163</th>\n",
       "      <td>53</td>\n",
       "      <td>98</td>\n",
       "    </tr>\n",
       "    <tr>\n",
       "      <th>164</th>\n",
       "      <td>75</td>\n",
       "      <td>160</td>\n",
       "    </tr>\n",
       "    <tr>\n",
       "      <th>165</th>\n",
       "      <td>169</td>\n",
       "      <td>230</td>\n",
       "    </tr>\n",
       "  </tbody>\n",
       "</table>\n",
       "<p>166 rows × 2 columns</p>\n",
       "</div>"
      ],
      "text/plain": [
       "      理系   文系\n",
       "0    114   93\n",
       "1    105   76\n",
       "2     80   65\n",
       "3    177  269\n",
       "4    145  185\n",
       "..   ...  ...\n",
       "161  168  250\n",
       "162   11    9\n",
       "163   53   98\n",
       "164   75  160\n",
       "165  169  230\n",
       "\n",
       "[166 rows x 2 columns]"
      ]
     },
     "execution_count": 138,
     "metadata": {},
     "output_type": "execute_result"
    }
   ],
   "source": [
    "df_two= df[[\"理系\",\"文系\"]]\n",
    "df_two"
   ]
  },
  {
   "cell_type": "code",
   "execution_count": 139,
   "metadata": {},
   "outputs": [],
   "source": [
    "df[\"two\"] = 2\n",
    "df[\"three\"] = 3"
   ]
  },
  {
   "cell_type": "code",
   "execution_count": 140,
   "metadata": {},
   "outputs": [
    {
     "data": {
      "text/html": [
       "<div>\n",
       "<style scoped>\n",
       "    .dataframe tbody tr th:only-of-type {\n",
       "        vertical-align: middle;\n",
       "    }\n",
       "\n",
       "    .dataframe tbody tr th {\n",
       "        vertical-align: top;\n",
       "    }\n",
       "\n",
       "    .dataframe thead th {\n",
       "        text-align: right;\n",
       "    }\n",
       "</style>\n",
       "<table border=\"1\" class=\"dataframe\">\n",
       "  <thead>\n",
       "    <tr style=\"text-align: right;\">\n",
       "      <th></th>\n",
       "      <th>国語</th>\n",
       "      <th>社会</th>\n",
       "      <th>数学</th>\n",
       "      <th>理科</th>\n",
       "      <th>音楽</th>\n",
       "      <th>美術</th>\n",
       "      <th>体育</th>\n",
       "      <th>技術家庭科</th>\n",
       "      <th>英語</th>\n",
       "      <th>理系</th>\n",
       "      <th>文系</th>\n",
       "      <th>副科目</th>\n",
       "      <th>two</th>\n",
       "      <th>three</th>\n",
       "    </tr>\n",
       "  </thead>\n",
       "  <tbody>\n",
       "    <tr>\n",
       "      <th>0</th>\n",
       "      <td>30</td>\n",
       "      <td>43</td>\n",
       "      <td>51</td>\n",
       "      <td>63</td>\n",
       "      <td>60</td>\n",
       "      <td>66</td>\n",
       "      <td>37</td>\n",
       "      <td>44</td>\n",
       "      <td>20</td>\n",
       "      <td>114</td>\n",
       "      <td>93</td>\n",
       "      <td>207</td>\n",
       "      <td>2</td>\n",
       "      <td>3</td>\n",
       "    </tr>\n",
       "    <tr>\n",
       "      <th>1</th>\n",
       "      <td>39</td>\n",
       "      <td>21</td>\n",
       "      <td>49</td>\n",
       "      <td>56</td>\n",
       "      <td>70</td>\n",
       "      <td>72</td>\n",
       "      <td>56</td>\n",
       "      <td>63</td>\n",
       "      <td>16</td>\n",
       "      <td>105</td>\n",
       "      <td>76</td>\n",
       "      <td>261</td>\n",
       "      <td>2</td>\n",
       "      <td>3</td>\n",
       "    </tr>\n",
       "    <tr>\n",
       "      <th>2</th>\n",
       "      <td>29</td>\n",
       "      <td>30</td>\n",
       "      <td>23</td>\n",
       "      <td>57</td>\n",
       "      <td>69</td>\n",
       "      <td>76</td>\n",
       "      <td>33</td>\n",
       "      <td>54</td>\n",
       "      <td>6</td>\n",
       "      <td>80</td>\n",
       "      <td>65</td>\n",
       "      <td>232</td>\n",
       "      <td>2</td>\n",
       "      <td>3</td>\n",
       "    </tr>\n",
       "    <tr>\n",
       "      <th>3</th>\n",
       "      <td>95</td>\n",
       "      <td>87</td>\n",
       "      <td>77</td>\n",
       "      <td>100</td>\n",
       "      <td>77</td>\n",
       "      <td>82</td>\n",
       "      <td>78</td>\n",
       "      <td>96</td>\n",
       "      <td>87</td>\n",
       "      <td>177</td>\n",
       "      <td>269</td>\n",
       "      <td>333</td>\n",
       "      <td>2</td>\n",
       "      <td>3</td>\n",
       "    </tr>\n",
       "    <tr>\n",
       "      <th>4</th>\n",
       "      <td>70</td>\n",
       "      <td>71</td>\n",
       "      <td>78</td>\n",
       "      <td>67</td>\n",
       "      <td>72</td>\n",
       "      <td>82</td>\n",
       "      <td>46</td>\n",
       "      <td>63</td>\n",
       "      <td>44</td>\n",
       "      <td>145</td>\n",
       "      <td>185</td>\n",
       "      <td>263</td>\n",
       "      <td>2</td>\n",
       "      <td>3</td>\n",
       "    </tr>\n",
       "    <tr>\n",
       "      <th>...</th>\n",
       "      <td>...</td>\n",
       "      <td>...</td>\n",
       "      <td>...</td>\n",
       "      <td>...</td>\n",
       "      <td>...</td>\n",
       "      <td>...</td>\n",
       "      <td>...</td>\n",
       "      <td>...</td>\n",
       "      <td>...</td>\n",
       "      <td>...</td>\n",
       "      <td>...</td>\n",
       "      <td>...</td>\n",
       "      <td>...</td>\n",
       "      <td>...</td>\n",
       "    </tr>\n",
       "    <tr>\n",
       "      <th>161</th>\n",
       "      <td>82</td>\n",
       "      <td>78</td>\n",
       "      <td>80</td>\n",
       "      <td>88</td>\n",
       "      <td>80</td>\n",
       "      <td>69</td>\n",
       "      <td>83</td>\n",
       "      <td>78</td>\n",
       "      <td>90</td>\n",
       "      <td>168</td>\n",
       "      <td>250</td>\n",
       "      <td>310</td>\n",
       "      <td>2</td>\n",
       "      <td>3</td>\n",
       "    </tr>\n",
       "    <tr>\n",
       "      <th>162</th>\n",
       "      <td>0</td>\n",
       "      <td>8</td>\n",
       "      <td>2</td>\n",
       "      <td>9</td>\n",
       "      <td>5</td>\n",
       "      <td>18</td>\n",
       "      <td>42</td>\n",
       "      <td>2</td>\n",
       "      <td>1</td>\n",
       "      <td>11</td>\n",
       "      <td>9</td>\n",
       "      <td>67</td>\n",
       "      <td>2</td>\n",
       "      <td>3</td>\n",
       "    </tr>\n",
       "    <tr>\n",
       "      <th>163</th>\n",
       "      <td>45</td>\n",
       "      <td>26</td>\n",
       "      <td>29</td>\n",
       "      <td>24</td>\n",
       "      <td>31</td>\n",
       "      <td>57</td>\n",
       "      <td>68</td>\n",
       "      <td>40</td>\n",
       "      <td>27</td>\n",
       "      <td>53</td>\n",
       "      <td>98</td>\n",
       "      <td>196</td>\n",
       "      <td>2</td>\n",
       "      <td>3</td>\n",
       "    </tr>\n",
       "    <tr>\n",
       "      <th>164</th>\n",
       "      <td>73</td>\n",
       "      <td>31</td>\n",
       "      <td>43</td>\n",
       "      <td>32</td>\n",
       "      <td>59</td>\n",
       "      <td>64</td>\n",
       "      <td>82</td>\n",
       "      <td>48</td>\n",
       "      <td>56</td>\n",
       "      <td>75</td>\n",
       "      <td>160</td>\n",
       "      <td>253</td>\n",
       "      <td>2</td>\n",
       "      <td>3</td>\n",
       "    </tr>\n",
       "    <tr>\n",
       "      <th>165</th>\n",
       "      <td>60</td>\n",
       "      <td>85</td>\n",
       "      <td>89</td>\n",
       "      <td>80</td>\n",
       "      <td>56</td>\n",
       "      <td>79</td>\n",
       "      <td>81</td>\n",
       "      <td>45</td>\n",
       "      <td>85</td>\n",
       "      <td>169</td>\n",
       "      <td>230</td>\n",
       "      <td>261</td>\n",
       "      <td>2</td>\n",
       "      <td>3</td>\n",
       "    </tr>\n",
       "  </tbody>\n",
       "</table>\n",
       "<p>166 rows × 14 columns</p>\n",
       "</div>"
      ],
      "text/plain": [
       "     国語  社会  数学   理科  音楽  美術  体育  技術家庭科  英語   理系   文系  副科目  two  three\n",
       "0    30  43  51   63  60  66  37     44  20  114   93  207    2      3\n",
       "1    39  21  49   56  70  72  56     63  16  105   76  261    2      3\n",
       "2    29  30  23   57  69  76  33     54   6   80   65  232    2      3\n",
       "3    95  87  77  100  77  82  78     96  87  177  269  333    2      3\n",
       "4    70  71  78   67  72  82  46     63  44  145  185  263    2      3\n",
       "..   ..  ..  ..  ...  ..  ..  ..    ...  ..  ...  ...  ...  ...    ...\n",
       "161  82  78  80   88  80  69  83     78  90  168  250  310    2      3\n",
       "162   0   8   2    9   5  18  42      2   1   11    9   67    2      3\n",
       "163  45  26  29   24  31  57  68     40  27   53   98  196    2      3\n",
       "164  73  31  43   32  59  64  82     48  56   75  160  253    2      3\n",
       "165  60  85  89   80  56  79  81     45  85  169  230  261    2      3\n",
       "\n",
       "[166 rows x 14 columns]"
      ]
     },
     "execution_count": 140,
     "metadata": {},
     "output_type": "execute_result"
    }
   ],
   "source": [
    "df"
   ]
  },
  {
   "cell_type": "code",
   "execution_count": 141,
   "metadata": {},
   "outputs": [
    {
     "data": {
      "text/html": [
       "<div>\n",
       "<style scoped>\n",
       "    .dataframe tbody tr th:only-of-type {\n",
       "        vertical-align: middle;\n",
       "    }\n",
       "\n",
       "    .dataframe tbody tr th {\n",
       "        vertical-align: top;\n",
       "    }\n",
       "\n",
       "    .dataframe thead th {\n",
       "        text-align: right;\n",
       "    }\n",
       "</style>\n",
       "<table border=\"1\" class=\"dataframe\">\n",
       "  <thead>\n",
       "    <tr style=\"text-align: right;\">\n",
       "      <th></th>\n",
       "      <th>国語</th>\n",
       "      <th>社会</th>\n",
       "      <th>数学</th>\n",
       "      <th>理科</th>\n",
       "      <th>音楽</th>\n",
       "      <th>美術</th>\n",
       "      <th>体育</th>\n",
       "      <th>技術家庭科</th>\n",
       "      <th>英語</th>\n",
       "      <th>理系</th>\n",
       "      <th>文系</th>\n",
       "      <th>副科目</th>\n",
       "      <th>two</th>\n",
       "      <th>three</th>\n",
       "      <th>理系平均</th>\n",
       "      <th>文系平均</th>\n",
       "    </tr>\n",
       "  </thead>\n",
       "  <tbody>\n",
       "    <tr>\n",
       "      <th>0</th>\n",
       "      <td>30</td>\n",
       "      <td>43</td>\n",
       "      <td>51</td>\n",
       "      <td>63</td>\n",
       "      <td>60</td>\n",
       "      <td>66</td>\n",
       "      <td>37</td>\n",
       "      <td>44</td>\n",
       "      <td>20</td>\n",
       "      <td>114</td>\n",
       "      <td>93</td>\n",
       "      <td>207</td>\n",
       "      <td>2</td>\n",
       "      <td>3</td>\n",
       "      <td>57.0</td>\n",
       "      <td>31.000000</td>\n",
       "    </tr>\n",
       "    <tr>\n",
       "      <th>1</th>\n",
       "      <td>39</td>\n",
       "      <td>21</td>\n",
       "      <td>49</td>\n",
       "      <td>56</td>\n",
       "      <td>70</td>\n",
       "      <td>72</td>\n",
       "      <td>56</td>\n",
       "      <td>63</td>\n",
       "      <td>16</td>\n",
       "      <td>105</td>\n",
       "      <td>76</td>\n",
       "      <td>261</td>\n",
       "      <td>2</td>\n",
       "      <td>3</td>\n",
       "      <td>52.5</td>\n",
       "      <td>25.333333</td>\n",
       "    </tr>\n",
       "    <tr>\n",
       "      <th>2</th>\n",
       "      <td>29</td>\n",
       "      <td>30</td>\n",
       "      <td>23</td>\n",
       "      <td>57</td>\n",
       "      <td>69</td>\n",
       "      <td>76</td>\n",
       "      <td>33</td>\n",
       "      <td>54</td>\n",
       "      <td>6</td>\n",
       "      <td>80</td>\n",
       "      <td>65</td>\n",
       "      <td>232</td>\n",
       "      <td>2</td>\n",
       "      <td>3</td>\n",
       "      <td>40.0</td>\n",
       "      <td>21.666667</td>\n",
       "    </tr>\n",
       "    <tr>\n",
       "      <th>3</th>\n",
       "      <td>95</td>\n",
       "      <td>87</td>\n",
       "      <td>77</td>\n",
       "      <td>100</td>\n",
       "      <td>77</td>\n",
       "      <td>82</td>\n",
       "      <td>78</td>\n",
       "      <td>96</td>\n",
       "      <td>87</td>\n",
       "      <td>177</td>\n",
       "      <td>269</td>\n",
       "      <td>333</td>\n",
       "      <td>2</td>\n",
       "      <td>3</td>\n",
       "      <td>88.5</td>\n",
       "      <td>89.666667</td>\n",
       "    </tr>\n",
       "    <tr>\n",
       "      <th>4</th>\n",
       "      <td>70</td>\n",
       "      <td>71</td>\n",
       "      <td>78</td>\n",
       "      <td>67</td>\n",
       "      <td>72</td>\n",
       "      <td>82</td>\n",
       "      <td>46</td>\n",
       "      <td>63</td>\n",
       "      <td>44</td>\n",
       "      <td>145</td>\n",
       "      <td>185</td>\n",
       "      <td>263</td>\n",
       "      <td>2</td>\n",
       "      <td>3</td>\n",
       "      <td>72.5</td>\n",
       "      <td>61.666667</td>\n",
       "    </tr>\n",
       "    <tr>\n",
       "      <th>...</th>\n",
       "      <td>...</td>\n",
       "      <td>...</td>\n",
       "      <td>...</td>\n",
       "      <td>...</td>\n",
       "      <td>...</td>\n",
       "      <td>...</td>\n",
       "      <td>...</td>\n",
       "      <td>...</td>\n",
       "      <td>...</td>\n",
       "      <td>...</td>\n",
       "      <td>...</td>\n",
       "      <td>...</td>\n",
       "      <td>...</td>\n",
       "      <td>...</td>\n",
       "      <td>...</td>\n",
       "      <td>...</td>\n",
       "    </tr>\n",
       "    <tr>\n",
       "      <th>161</th>\n",
       "      <td>82</td>\n",
       "      <td>78</td>\n",
       "      <td>80</td>\n",
       "      <td>88</td>\n",
       "      <td>80</td>\n",
       "      <td>69</td>\n",
       "      <td>83</td>\n",
       "      <td>78</td>\n",
       "      <td>90</td>\n",
       "      <td>168</td>\n",
       "      <td>250</td>\n",
       "      <td>310</td>\n",
       "      <td>2</td>\n",
       "      <td>3</td>\n",
       "      <td>84.0</td>\n",
       "      <td>83.333333</td>\n",
       "    </tr>\n",
       "    <tr>\n",
       "      <th>162</th>\n",
       "      <td>0</td>\n",
       "      <td>8</td>\n",
       "      <td>2</td>\n",
       "      <td>9</td>\n",
       "      <td>5</td>\n",
       "      <td>18</td>\n",
       "      <td>42</td>\n",
       "      <td>2</td>\n",
       "      <td>1</td>\n",
       "      <td>11</td>\n",
       "      <td>9</td>\n",
       "      <td>67</td>\n",
       "      <td>2</td>\n",
       "      <td>3</td>\n",
       "      <td>5.5</td>\n",
       "      <td>3.000000</td>\n",
       "    </tr>\n",
       "    <tr>\n",
       "      <th>163</th>\n",
       "      <td>45</td>\n",
       "      <td>26</td>\n",
       "      <td>29</td>\n",
       "      <td>24</td>\n",
       "      <td>31</td>\n",
       "      <td>57</td>\n",
       "      <td>68</td>\n",
       "      <td>40</td>\n",
       "      <td>27</td>\n",
       "      <td>53</td>\n",
       "      <td>98</td>\n",
       "      <td>196</td>\n",
       "      <td>2</td>\n",
       "      <td>3</td>\n",
       "      <td>26.5</td>\n",
       "      <td>32.666667</td>\n",
       "    </tr>\n",
       "    <tr>\n",
       "      <th>164</th>\n",
       "      <td>73</td>\n",
       "      <td>31</td>\n",
       "      <td>43</td>\n",
       "      <td>32</td>\n",
       "      <td>59</td>\n",
       "      <td>64</td>\n",
       "      <td>82</td>\n",
       "      <td>48</td>\n",
       "      <td>56</td>\n",
       "      <td>75</td>\n",
       "      <td>160</td>\n",
       "      <td>253</td>\n",
       "      <td>2</td>\n",
       "      <td>3</td>\n",
       "      <td>37.5</td>\n",
       "      <td>53.333333</td>\n",
       "    </tr>\n",
       "    <tr>\n",
       "      <th>165</th>\n",
       "      <td>60</td>\n",
       "      <td>85</td>\n",
       "      <td>89</td>\n",
       "      <td>80</td>\n",
       "      <td>56</td>\n",
       "      <td>79</td>\n",
       "      <td>81</td>\n",
       "      <td>45</td>\n",
       "      <td>85</td>\n",
       "      <td>169</td>\n",
       "      <td>230</td>\n",
       "      <td>261</td>\n",
       "      <td>2</td>\n",
       "      <td>3</td>\n",
       "      <td>84.5</td>\n",
       "      <td>76.666667</td>\n",
       "    </tr>\n",
       "  </tbody>\n",
       "</table>\n",
       "<p>166 rows × 16 columns</p>\n",
       "</div>"
      ],
      "text/plain": [
       "     国語  社会  数学   理科  音楽  美術  体育  技術家庭科  英語   理系   文系  副科目  two  three  理系平均  \\\n",
       "0    30  43  51   63  60  66  37     44  20  114   93  207    2      3  57.0   \n",
       "1    39  21  49   56  70  72  56     63  16  105   76  261    2      3  52.5   \n",
       "2    29  30  23   57  69  76  33     54   6   80   65  232    2      3  40.0   \n",
       "3    95  87  77  100  77  82  78     96  87  177  269  333    2      3  88.5   \n",
       "4    70  71  78   67  72  82  46     63  44  145  185  263    2      3  72.5   \n",
       "..   ..  ..  ..  ...  ..  ..  ..    ...  ..  ...  ...  ...  ...    ...   ...   \n",
       "161  82  78  80   88  80  69  83     78  90  168  250  310    2      3  84.0   \n",
       "162   0   8   2    9   5  18  42      2   1   11    9   67    2      3   5.5   \n",
       "163  45  26  29   24  31  57  68     40  27   53   98  196    2      3  26.5   \n",
       "164  73  31  43   32  59  64  82     48  56   75  160  253    2      3  37.5   \n",
       "165  60  85  89   80  56  79  81     45  85  169  230  261    2      3  84.5   \n",
       "\n",
       "          文系平均  \n",
       "0    31.000000  \n",
       "1    25.333333  \n",
       "2    21.666667  \n",
       "3    89.666667  \n",
       "4    61.666667  \n",
       "..         ...  \n",
       "161  83.333333  \n",
       "162   3.000000  \n",
       "163  32.666667  \n",
       "164  53.333333  \n",
       "165  76.666667  \n",
       "\n",
       "[166 rows x 16 columns]"
      ]
     },
     "execution_count": 141,
     "metadata": {},
     "output_type": "execute_result"
    }
   ],
   "source": [
    "df[\"理系平均\"] = df[\"理系\"] / df[\"two\"]\n",
    "df[\"文系平均\"] = df[\"文系\"] / df[\"three\"]\n",
    "df"
   ]
  },
  {
   "cell_type": "code",
   "execution_count": 142,
   "metadata": {},
   "outputs": [],
   "source": [
    "df[\"four\"] = 4\n",
    "df[\"副科目平均\"] = df[\"副科目\"] / df[\"four\"]"
   ]
  },
  {
   "cell_type": "code",
   "execution_count": 143,
   "metadata": {},
   "outputs": [
    {
     "data": {
      "text/html": [
       "<div>\n",
       "<style scoped>\n",
       "    .dataframe tbody tr th:only-of-type {\n",
       "        vertical-align: middle;\n",
       "    }\n",
       "\n",
       "    .dataframe tbody tr th {\n",
       "        vertical-align: top;\n",
       "    }\n",
       "\n",
       "    .dataframe thead th {\n",
       "        text-align: right;\n",
       "    }\n",
       "</style>\n",
       "<table border=\"1\" class=\"dataframe\">\n",
       "  <thead>\n",
       "    <tr style=\"text-align: right;\">\n",
       "      <th></th>\n",
       "      <th>副科目平均</th>\n",
       "    </tr>\n",
       "  </thead>\n",
       "  <tbody>\n",
       "    <tr>\n",
       "      <th>0</th>\n",
       "      <td>51.75</td>\n",
       "    </tr>\n",
       "    <tr>\n",
       "      <th>1</th>\n",
       "      <td>65.25</td>\n",
       "    </tr>\n",
       "    <tr>\n",
       "      <th>2</th>\n",
       "      <td>58.00</td>\n",
       "    </tr>\n",
       "    <tr>\n",
       "      <th>3</th>\n",
       "      <td>83.25</td>\n",
       "    </tr>\n",
       "    <tr>\n",
       "      <th>4</th>\n",
       "      <td>65.75</td>\n",
       "    </tr>\n",
       "    <tr>\n",
       "      <th>...</th>\n",
       "      <td>...</td>\n",
       "    </tr>\n",
       "    <tr>\n",
       "      <th>161</th>\n",
       "      <td>77.50</td>\n",
       "    </tr>\n",
       "    <tr>\n",
       "      <th>162</th>\n",
       "      <td>16.75</td>\n",
       "    </tr>\n",
       "    <tr>\n",
       "      <th>163</th>\n",
       "      <td>49.00</td>\n",
       "    </tr>\n",
       "    <tr>\n",
       "      <th>164</th>\n",
       "      <td>63.25</td>\n",
       "    </tr>\n",
       "    <tr>\n",
       "      <th>165</th>\n",
       "      <td>65.25</td>\n",
       "    </tr>\n",
       "  </tbody>\n",
       "</table>\n",
       "<p>166 rows × 1 columns</p>\n",
       "</div>"
      ],
      "text/plain": [
       "     副科目平均\n",
       "0    51.75\n",
       "1    65.25\n",
       "2    58.00\n",
       "3    83.25\n",
       "4    65.75\n",
       "..     ...\n",
       "161  77.50\n",
       "162  16.75\n",
       "163  49.00\n",
       "164  63.25\n",
       "165  65.25\n",
       "\n",
       "[166 rows x 1 columns]"
      ]
     },
     "execution_count": 143,
     "metadata": {},
     "output_type": "execute_result"
    }
   ],
   "source": [
    "df[[\"副科目平均\"]]"
   ]
  },
  {
   "cell_type": "code",
   "execution_count": 144,
   "metadata": {},
   "outputs": [
    {
     "data": {
      "text/html": [
       "<div>\n",
       "<style scoped>\n",
       "    .dataframe tbody tr th:only-of-type {\n",
       "        vertical-align: middle;\n",
       "    }\n",
       "\n",
       "    .dataframe tbody tr th {\n",
       "        vertical-align: top;\n",
       "    }\n",
       "\n",
       "    .dataframe thead th {\n",
       "        text-align: right;\n",
       "    }\n",
       "</style>\n",
       "<table border=\"1\" class=\"dataframe\">\n",
       "  <thead>\n",
       "    <tr style=\"text-align: right;\">\n",
       "      <th></th>\n",
       "      <th>理系平均</th>\n",
       "      <th>文系平均</th>\n",
       "    </tr>\n",
       "  </thead>\n",
       "  <tbody>\n",
       "    <tr>\n",
       "      <th>0</th>\n",
       "      <td>57.0</td>\n",
       "      <td>31.000000</td>\n",
       "    </tr>\n",
       "    <tr>\n",
       "      <th>1</th>\n",
       "      <td>52.5</td>\n",
       "      <td>25.333333</td>\n",
       "    </tr>\n",
       "    <tr>\n",
       "      <th>2</th>\n",
       "      <td>40.0</td>\n",
       "      <td>21.666667</td>\n",
       "    </tr>\n",
       "    <tr>\n",
       "      <th>3</th>\n",
       "      <td>88.5</td>\n",
       "      <td>89.666667</td>\n",
       "    </tr>\n",
       "    <tr>\n",
       "      <th>4</th>\n",
       "      <td>72.5</td>\n",
       "      <td>61.666667</td>\n",
       "    </tr>\n",
       "    <tr>\n",
       "      <th>...</th>\n",
       "      <td>...</td>\n",
       "      <td>...</td>\n",
       "    </tr>\n",
       "    <tr>\n",
       "      <th>161</th>\n",
       "      <td>84.0</td>\n",
       "      <td>83.333333</td>\n",
       "    </tr>\n",
       "    <tr>\n",
       "      <th>162</th>\n",
       "      <td>5.5</td>\n",
       "      <td>3.000000</td>\n",
       "    </tr>\n",
       "    <tr>\n",
       "      <th>163</th>\n",
       "      <td>26.5</td>\n",
       "      <td>32.666667</td>\n",
       "    </tr>\n",
       "    <tr>\n",
       "      <th>164</th>\n",
       "      <td>37.5</td>\n",
       "      <td>53.333333</td>\n",
       "    </tr>\n",
       "    <tr>\n",
       "      <th>165</th>\n",
       "      <td>84.5</td>\n",
       "      <td>76.666667</td>\n",
       "    </tr>\n",
       "  </tbody>\n",
       "</table>\n",
       "<p>166 rows × 2 columns</p>\n",
       "</div>"
      ],
      "text/plain": [
       "     理系平均       文系平均\n",
       "0    57.0  31.000000\n",
       "1    52.5  25.333333\n",
       "2    40.0  21.666667\n",
       "3    88.5  89.666667\n",
       "4    72.5  61.666667\n",
       "..    ...        ...\n",
       "161  84.0  83.333333\n",
       "162   5.5   3.000000\n",
       "163  26.5  32.666667\n",
       "164  37.5  53.333333\n",
       "165  84.5  76.666667\n",
       "\n",
       "[166 rows x 2 columns]"
      ]
     },
     "execution_count": 144,
     "metadata": {},
     "output_type": "execute_result"
    }
   ],
   "source": [
    "df_two_ave = df[[\"理系平均\",\"文系平均\"]]\n",
    "df_two_ave"
   ]
  },
  {
   "cell_type": "code",
   "execution_count": 145,
   "metadata": {},
   "outputs": [
    {
     "name": "stdout",
     "output_type": "stream",
     "text": [
      "<class 'pandas.core.frame.DataFrame'>\n",
      "RangeIndex: 166 entries, 0 to 165\n",
      "Data columns (total 2 columns):\n",
      " #   Column  Non-Null Count  Dtype  \n",
      "---  ------  --------------  -----  \n",
      " 0   理系平均    166 non-null    float64\n",
      " 1   文系平均    166 non-null    float64\n",
      "dtypes: float64(2)\n",
      "memory usage: 2.7 KB\n"
     ]
    }
   ],
   "source": [
    "df_two_ave.info()"
   ]
  },
  {
   "cell_type": "markdown",
   "metadata": {},
   "source": [
    "int64　整数　float 小数"
   ]
  },
  {
   "cell_type": "code",
   "execution_count": 146,
   "metadata": {},
   "outputs": [
    {
     "data": {
      "text/html": [
       "<div>\n",
       "<style scoped>\n",
       "    .dataframe tbody tr th:only-of-type {\n",
       "        vertical-align: middle;\n",
       "    }\n",
       "\n",
       "    .dataframe tbody tr th {\n",
       "        vertical-align: top;\n",
       "    }\n",
       "\n",
       "    .dataframe thead th {\n",
       "        text-align: right;\n",
       "    }\n",
       "</style>\n",
       "<table border=\"1\" class=\"dataframe\">\n",
       "  <thead>\n",
       "    <tr style=\"text-align: right;\">\n",
       "      <th></th>\n",
       "      <th>理系平均</th>\n",
       "      <th>文系平均</th>\n",
       "    </tr>\n",
       "  </thead>\n",
       "  <tbody>\n",
       "    <tr>\n",
       "      <th>count</th>\n",
       "      <td>166.000000</td>\n",
       "      <td>166.000000</td>\n",
       "    </tr>\n",
       "    <tr>\n",
       "      <th>mean</th>\n",
       "      <td>47.750000</td>\n",
       "      <td>43.672691</td>\n",
       "    </tr>\n",
       "    <tr>\n",
       "      <th>std</th>\n",
       "      <td>21.762823</td>\n",
       "      <td>22.409187</td>\n",
       "    </tr>\n",
       "    <tr>\n",
       "      <th>min</th>\n",
       "      <td>5.500000</td>\n",
       "      <td>3.000000</td>\n",
       "    </tr>\n",
       "    <tr>\n",
       "      <th>25%</th>\n",
       "      <td>29.125000</td>\n",
       "      <td>25.416667</td>\n",
       "    </tr>\n",
       "    <tr>\n",
       "      <th>50%</th>\n",
       "      <td>46.250000</td>\n",
       "      <td>42.000000</td>\n",
       "    </tr>\n",
       "    <tr>\n",
       "      <th>75%</th>\n",
       "      <td>64.500000</td>\n",
       "      <td>61.416667</td>\n",
       "    </tr>\n",
       "    <tr>\n",
       "      <th>max</th>\n",
       "      <td>95.000000</td>\n",
       "      <td>89.666667</td>\n",
       "    </tr>\n",
       "  </tbody>\n",
       "</table>\n",
       "</div>"
      ],
      "text/plain": [
       "             理系平均        文系平均\n",
       "count  166.000000  166.000000\n",
       "mean    47.750000   43.672691\n",
       "std     21.762823   22.409187\n",
       "min      5.500000    3.000000\n",
       "25%     29.125000   25.416667\n",
       "50%     46.250000   42.000000\n",
       "75%     64.500000   61.416667\n",
       "max     95.000000   89.666667"
      ]
     },
     "execution_count": 146,
     "metadata": {},
     "output_type": "execute_result"
    }
   ],
   "source": [
    "df_two_ave.describe()"
   ]
  },
  {
   "cell_type": "markdown",
   "metadata": {},
   "source": [
    "**その6** **散布図を描いてみよう！**<a id='sec4_7'></a>  \n",
    "[先頭に戻る](#top)"
   ]
  },
  {
   "cell_type": "code",
   "execution_count": 147,
   "metadata": {},
   "outputs": [
    {
     "data": {
      "image/png": "[encoded data removed]",
      "text/plain": [
       "<Figure size 432x288 with 1 Axes>"
      ]
     },
     "metadata": {
      "needs_background": "light"
     },
     "output_type": "display_data"
    }
   ],
   "source": [
    "#散布図を描くための下準備\n",
    "%matplotlib inline\n",
    "import matplotlib.pyplot as plt\n",
    "\n",
    "#図に使う変数の設定\n",
    "plt.plot(df_two_ave[\"理系平均\"],df_two_ave[\"文系平均\"],\"o\")\n",
    "\n",
    "#軸の名前を設定\"o\"\n",
    "plt.xlabel(\"Science\")\n",
    "plt.ylabel(\"Humanities\")\n",
    "\n",
    "#メモリを入れる\n",
    "plt.grid(True)\n",
    "pass"
   ]
  },
  {
   "cell_type": "markdown",
   "metadata": {},
   "source": [
    "**実践：体育の成績と、数学の成績の散布図を書いてみましょう！**"
   ]
  },
  {
   "cell_type": "markdown",
   "metadata": {},
   "source": [
    "どうやら、理系の点数と文系の点数には強い相関があるようですね！　言い換えると、理系の勉強ができる人は文系の勉強もできる傾向にあるようです(逆もまた然り)。"
   ]
  },
  {
   "cell_type": "markdown",
   "metadata": {},
   "source": [
    "**・余談・相関係数を求めてみる**<a id='sec4_8'></a>  \n",
    "[先頭に戻る](#top)  "
   ]
  },
  {
   "cell_type": "code",
   "execution_count": 148,
   "metadata": {},
   "outputs": [
    {
     "name": "stderr",
     "output_type": "stream",
     "text": [
      "C:\\Users\\shinj\\anaconda3\\lib\\site-packages\\numpy\\lib\\function_base.py:2551: RuntimeWarning: Degrees of freedom <= 0 for slice\n",
      "  c = cov(x, y, rowvar)\n",
      "C:\\Users\\shinj\\anaconda3\\lib\\site-packages\\numpy\\lib\\function_base.py:2480: RuntimeWarning: divide by zero encountered in true_divide\n",
      "  c *= np.true_divide(1, fact)\n",
      "C:\\Users\\shinj\\anaconda3\\lib\\site-packages\\numpy\\lib\\function_base.py:2480: RuntimeWarning: invalid value encountered in multiply\n",
      "  c *= np.true_divide(1, fact)\n"
     ]
    },
    {
     "data": {
      "text/html": [
       "<div>\n",
       "<style scoped>\n",
       "    .dataframe tbody tr th:only-of-type {\n",
       "        vertical-align: middle;\n",
       "    }\n",
       "\n",
       "    .dataframe tbody tr th {\n",
       "        vertical-align: top;\n",
       "    }\n",
       "\n",
       "    .dataframe thead th {\n",
       "        text-align: right;\n",
       "    }\n",
       "</style>\n",
       "<table border=\"1\" class=\"dataframe\">\n",
       "  <thead>\n",
       "    <tr style=\"text-align: right;\">\n",
       "      <th></th>\n",
       "      <th>理系平均</th>\n",
       "      <th>文系平均</th>\n",
       "    </tr>\n",
       "  </thead>\n",
       "  <tbody>\n",
       "    <tr>\n",
       "      <th>理系平均</th>\n",
       "      <td>1.000000</td>\n",
       "      <td>0.872302</td>\n",
       "    </tr>\n",
       "    <tr>\n",
       "      <th>文系平均</th>\n",
       "      <td>0.872302</td>\n",
       "      <td>1.000000</td>\n",
       "    </tr>\n",
       "  </tbody>\n",
       "</table>\n",
       "</div>"
      ],
      "text/plain": [
       "          理系平均      文系平均\n",
       "理系平均  1.000000  0.872302\n",
       "文系平均  0.872302  1.000000"
      ]
     },
     "execution_count": 148,
     "metadata": {},
     "output_type": "execute_result"
    }
   ],
   "source": [
    "import numpy as np\n",
    "X = df_two_ave.loc[:,[\"理系平均\"]].values\n",
    "Y = df_two_ave.loc[:,[\"文系平均\"]].values\n",
    "np.corrcoef(X,Y)\n",
    "df_two_ave.corr()"
   ]
  },
  {
   "cell_type": "markdown",
   "metadata": {},
   "source": [
    "相関行列として出力されています！理系平均と文系平均の相関係数は0.872と計測されています！<P>\n",
    "強い相関関係が存在すると言えそうですね。"
   ]
  },
  {
   "cell_type": "markdown",
   "metadata": {},
   "source": [
    "**コラム１**<a id='col1'></a>  \n",
    "[先頭に戻る](#top)  \n",
    "\n",
    "**大事なこと①**  \n",
    "　Pythonを使っていると、エラーにとても遭遇すると思います。画面にエラーが出力されると、かなりがっかりします。(時間をかけて書いたコードなら尚更)　そんなときに、エラーでへこたれてはいけません。プログラミングの世界では、エラーが標準装備です。そのエラーの海を何とか潜り抜け、到達したところにやっと求めるデータを見ることができます。最初のうちはエラーによく出会います。だからこそ、エラーは標準だということを胸に刻んでおくことが肝心です。  \n",
    "**大事なこと②**  \n",
    "　エラーの対処法を先に知っておくことは非常に大切です。エラーの対処法についてここで紹介します。Pythonでは、エラーが発生すると最後の行に赤い字でエラーの種類が表示されます。ここから、エラーの理由を読み取ります。スペルミスなどは、このエラー文が指摘する行まで戻ればおおよそ解決できます。また、同時にコードについても打ち間違いがないか確認しましょう。そして、エラー文の意味がそもそも分からない場合は、エラー文をコピー＆ペーストして、ネットで検索してみましょう。Qiitaなどで、先人の知恵を享受することができます。ここまででほとんどのケースが解決されると思われます。何度見返してもうまくいかない！！という時は、知り合いに聞いてみましょう。エラーの原因は、ケアレスミスの場合がほとんどなので、じっくりと見直してみましょう！"
   ]
  },
  {
   "cell_type": "markdown",
   "metadata": {},
   "source": [
    "## **第二章　Python基礎文法**<a id='sec5'></a>  \n",
    "[先頭に戻る](#top)  "
   ]
  },
  {
   "cell_type": "markdown",
   "metadata": {},
   "source": [
    "第一章お疲れ様でした。Pythonでデータをいじってみるのは面白かったですか？？少しでも、楽しんで頂けていれば嬉しいです。pandasに関しては以上となります。  "
   ]
  },
  {
   "cell_type": "markdown",
   "metadata": {},
   "source": [
    "  ここからは、Pythonの基本的な文法について学習します！Pythonは簡単な言語であるとはいっても、知っておかなければならない文法事項が多数存在します。ここでは、そのなかでも、特に重要なものに関して説明します。この資料では基礎のかなりの範囲をカバーできるように作成しています。ですので、勉強会では必要な部分だけ学習します。しかし全てとっても重要な内容ですので、時間がある時に確認していただければと思います！"
   ]
  },
  {
   "cell_type": "markdown",
   "metadata": {},
   "source": [
    "**その0**\n",
    "**基本的な計算をしてみよう！**<a id='sec5_0'></a>\n",
    "[先頭に戻る](#top)"
   ]
  },
  {
   "cell_type": "code",
   "execution_count": 54,
   "metadata": {},
   "outputs": [
    {
     "name": "stdout",
     "output_type": "stream",
     "text": [
      "4+2= 6\n",
      "4-2= 2\n",
      "4*2= 8\n",
      "4**2= 16\n",
      "4/2= 2.0\n",
      "5//2= 2\n",
      "5%2= 1\n"
     ]
    }
   ],
   "source": [
    "print(\"4+2=\",4+2)  #足し算\n",
    "print(\"4-2=\",4-2)  #引き算\n",
    "print(\"4*2=\",4*2)  #掛け算\n",
    "print(\"4**2=\",4**2)#べき乗\n",
    "print(\"4/2=\",4/2)  #割り算\n",
    "print(\"5//2=\",5//2)#割り算の商\n",
    "print(\"5%2=\",5%2)  #割り算の余り"
   ]
  },
  {
   "cell_type": "markdown",
   "metadata": {},
   "source": [
    "四則演算に関しては以上です。後でこの記号を覚えておいてください！\n",
    "次の練習問題を解いてみましょう。"
   ]
  },
  {
   "cell_type": "markdown",
   "metadata": {},
   "source": [
    "1. 17の８乗はいくつですか。 \n",
    "2. 18957を2198で割ったあまりはいくつですか。\n",
    "3. 34357 = 4189 × a + b とするとき、aとbはそれぞれいくつですか。"
   ]
  },
  {
   "cell_type": "code",
   "execution_count": 62,
   "metadata": {},
   "outputs": [
    {
     "name": "stdout",
     "output_type": "stream",
     "text": [
      "6975757441\n",
      "1373\n",
      "8\n",
      "845\n"
     ]
    }
   ],
   "source": [
    "print(17**8)\n",
    "print(18957%2198)\n",
    "print(34357//4189)\n",
    "print(34357%4189)"
   ]
  },
  {
   "cell_type": "markdown",
   "metadata": {},
   "source": [
    "**その１ データを収納する方法について学ぼう！**<a id='sec5_1'></a>  \n",
    "[先頭に戻る](#top)"
   ]
  },
  {
   "cell_type": "markdown",
   "metadata": {},
   "source": [
    "データを収納する型は４種類あります！  \n",
    "１. リスト  \n",
    "２. ディクショナリ(辞書型)  \n",
    "３. セット(集合)  \n",
    "４. タプル  \n",
    "勉強会では、リストに関して詳しく説明します！他の型に関しては、時間のある時にこの資料を読んでみてください！"
   ]
  },
  {
   "cell_type": "raw",
   "metadata": {},
   "source": [
    "#リスト [ ]\n",
    "list = [要素０,要素１,...]\n",
    "\n",
    "#ディクショナリ { }\n",
    "dictionary = {key1：値1, key2:値2,...}\n",
    "\n",
    "#セット { }\n",
    "set = {要素, 要素, ...}\n",
    "\n",
    "#タプル ( )\n",
    "tuple = (要素, 要素, ...)"
   ]
  },
  {
   "cell_type": "markdown",
   "metadata": {},
   "source": [
    "**その2 リスト型を使ってみよう！**<a id='sec5_2'></a>  \n",
    "[先頭に戻る](#top)"
   ]
  },
  {
   "cell_type": "markdown",
   "metadata": {},
   "source": [
    "　リストとは、複数の要素を自由に収納することができるシーケンス(配列)のことです。リストは要素を[ ]で囲います。  \n",
    " また、[０番目, １番目, ２番目, ...] といったように、要素は０番目からスタートすることに注意です！早速リストを作ってみましょう。  \n",
    " **シーケンス(配列)**：複数の要素をまとめて扱える型のこと"
   ]
  },
  {
   "cell_type": "code",
   "execution_count": 64,
   "metadata": {},
   "outputs": [
    {
     "data": {
      "text/plain": [
       "[1, 2, 3, 4, 5]"
      ]
     },
     "execution_count": 64,
     "metadata": {},
     "output_type": "execute_result"
    }
   ],
   "source": [
    "ex_list = [1,2,3,4,5]\n",
    "ex_list"
   ]
  },
  {
   "cell_type": "markdown",
   "metadata": {},
   "source": [
    "1から５の値をリストに収納しています！このリストを少しいじってみましょう。"
   ]
  },
  {
   "cell_type": "code",
   "execution_count": 82,
   "metadata": {},
   "outputs": [
    {
     "name": "stdout",
     "output_type": "stream",
     "text": [
      "0番目の要素は1\n",
      "0番目から、3番目の要素は[1, 2, 3, 4]\n",
      "3番目以降の要素は[4, 5]\n"
     ]
    }
   ],
   "source": [
    "ex_list = [1,2,3,4,5]\n",
    "\n",
    "#0番目の要素を抽出\n",
    "ex_list[0]\n",
    "\n",
    "#0番目から、3番目の要素まで抽出\n",
    "ex_list[0:4]\n",
    "ex_list[最初の数:最後の数+1]\n",
    "\n",
    "#3番目以降の要素を抽出 pythonの順番\n",
    "ex_list[3:]\n",
    "\n",
    "print(\"0番目の要素は\" + str(ex_list[0]))\n",
    "print(\"0番目から、3番目の要素は\" + str(ex_list[0:4]))\n",
    "print(\"3番目以降の要素は\" + str(ex_list[3:]))"
   ]
  },
  {
   "cell_type": "code",
   "execution_count": 74,
   "metadata": {},
   "outputs": [
    {
     "data": {
      "text/plain": [
       "[1, 2]"
      ]
     },
     "execution_count": 74,
     "metadata": {},
     "output_type": "execute_result"
    }
   ],
   "source": [
    "ex_list[:2]"
   ]
  },
  {
   "cell_type": "markdown",
   "metadata": {},
   "source": [
    "3番目の要素を抽出\n",
    "1番目から4番目までの要素を抽出"
   ]
  },
  {
   "cell_type": "code",
   "execution_count": 69,
   "metadata": {},
   "outputs": [
    {
     "data": {
      "text/plain": [
       "[1, 2, 3, 4, 5]"
      ]
     },
     "execution_count": 69,
     "metadata": {},
     "output_type": "execute_result"
    }
   ],
   "source": [
    "ex_list"
   ]
  },
  {
   "cell_type": "code",
   "execution_count": 68,
   "metadata": {},
   "outputs": [
    {
     "data": {
      "text/plain": [
       "[1, 2, 3, 4]"
      ]
     },
     "execution_count": 68,
     "metadata": {},
     "output_type": "execute_result"
    }
   ],
   "source": [
    "#0番目から、3番目の要素まで抽出\n",
    "ex_list[0:4]"
   ]
  },
  {
   "cell_type": "code",
   "execution_count": 71,
   "metadata": {},
   "outputs": [
    {
     "data": {
      "text/plain": [
       "[2, 3, 4, 5]"
      ]
     },
     "execution_count": 71,
     "metadata": {},
     "output_type": "execute_result"
    }
   ],
   "source": [
    "#1番目から4番目までの要素を抽出\n",
    "ex_list[1:5]"
   ]
  },
  {
   "cell_type": "markdown",
   "metadata": {},
   "source": [
    "pythonの順番で2番目以降のデータを抽出してみましょう"
   ]
  },
  {
   "cell_type": "markdown",
   "metadata": {},
   "source": [
    "要素の抽出ができました！記号\" : \"を用いて要素を取り出す作業を、**スライス**と言います。この機会に覚えておきましょう！"
   ]
  },
  {
   "cell_type": "markdown",
   "metadata": {},
   "source": [
    "練習問題です！"
   ]
  },
  {
   "cell_type": "markdown",
   "metadata": {},
   "source": [
    "t_list = [13,18,19,11,10,17,14,15]とするとき、  \n",
    "1. 11の要素を抽出してください。\n",
    "2. 18から抽出してください。\n",
    "3. 0番目から5番目の要素を抽出してください。"
   ]
  },
  {
   "cell_type": "markdown",
   "metadata": {},
   "source": [
    "もう少しリストの処理について見てみます。"
   ]
  },
  {
   "cell_type": "code",
   "execution_count": 11,
   "metadata": {},
   "outputs": [
    {
     "data": {
      "text/plain": [
       "[1, 2, 3, 4, 5]"
      ]
     },
     "execution_count": 11,
     "metadata": {},
     "output_type": "execute_result"
    }
   ],
   "source": [
    "#リストを定義\n",
    "ex_list = [1,2,3,4,5]\n",
    "ex_list"
   ]
  },
  {
   "cell_type": "code",
   "execution_count": 12,
   "metadata": {},
   "outputs": [
    {
     "name": "stdout",
     "output_type": "stream",
     "text": [
      "6\n",
      "[1, 2, 4, 5]\n"
     ]
    }
   ],
   "source": [
    "#要素同士の計算\n",
    "ex_list[3]+ex_list[1] #6\n",
    "print(ex_list[3]+ex_list[1])\n",
    "\n",
    "#要素の削除\n",
    "del ex_list[2]   #[1,2,4,5]\n",
    "print(ex_list)"
   ]
  },
  {
   "cell_type": "code",
   "execution_count": 13,
   "metadata": {},
   "outputs": [
    {
     "data": {
      "text/plain": [
       "[1, 2, 3]"
      ]
     },
     "execution_count": 13,
     "metadata": {},
     "output_type": "execute_result"
    }
   ],
   "source": [
    "#新しいリストをつくる\n",
    "ex_list1 = [1,2,3]\n",
    "ex_list1"
   ]
  },
  {
   "cell_type": "code",
   "execution_count": 14,
   "metadata": {},
   "outputs": [
    {
     "name": "stdout",
     "output_type": "stream",
     "text": [
      "[1, 2, 333]\n",
      "[1, 2, 333, 4]\n",
      "[1, 2, 333, 4, 5, 6]\n"
     ]
    }
   ],
   "source": [
    "#要素の置き換え\n",
    "ex_list1[2] = 333      #[1,2,333]\n",
    "print(ex_list1)\n",
    "\n",
    "#要素の追加\n",
    "ex_list1.append(4)     #[1,2,333,4]\n",
    "print(ex_list1)\n",
    "\n",
    "#リスト同士の足し算\n",
    "ex_list2 = [5,6]\n",
    "ex_list_new = ex_list1 + ex_list2\n",
    "\n",
    "print(ex_list_new)   #[1,2,333,4,5,6]"
   ]
  },
  {
   "cell_type": "markdown",
   "metadata": {},
   "source": [
    "要素を追加するとき、.append()という関数を使いました。このように、\".\"を用いて、\"●●.○○○\"の形で要素を取り出す方法を**メソッド**と言います。メソッドは知っていると作業を効率化でき、非常に便利なので是非覚えておきましょう！"
   ]
  },
  {
   "cell_type": "markdown",
   "metadata": {},
   "source": [
    "練習問題！！"
   ]
  },
  {
   "cell_type": "markdown",
   "metadata": {},
   "source": [
    "t_list = [13,18,19,11,10,17,14,15]とするとき、  \n",
    "1. ３番目の要素を16に置き換えてみましょう。\n",
    "2. リストに、\"20\"を追加してみましょう。\n",
    "3. (t_list) と、 (s_list = [21,22]) を足してみましょう。"
   ]
  },
  {
   "cell_type": "code",
   "execution_count": 15,
   "metadata": {},
   "outputs": [
    {
     "data": {
      "text/plain": [
       "3.0"
      ]
     },
     "execution_count": 15,
     "metadata": {},
     "output_type": "execute_result"
    }
   ],
   "source": [
    "#リストの特徴把握\n",
    "list0 = [1,2,3,4,5]\n",
    "max(list0)    #5\n",
    "min(list0)    #1\n",
    "sum(list0)    #15\n",
    "len(list0)    #5\n",
    "sum(list0)/len(list0) #3 #平均"
   ]
  },
  {
   "cell_type": "code",
   "execution_count": 16,
   "metadata": {},
   "outputs": [
    {
     "name": "stdout",
     "output_type": "stream",
     "text": [
      "min0:1 max0:5 sum0:15 len0:5 list_mean: 3.0\n"
     ]
    }
   ],
   "source": [
    "list0 = [1,2,3,4,5]\n",
    "max0 = str(max(list0))\n",
    "\n",
    "min0 = str(min(list0))\n",
    "\n",
    "sum0 = str(sum(list0))\n",
    "\n",
    "len0 = str(len(list0))\n",
    "\n",
    "list_mean = str(sum(list0)/len(list0))\n",
    "\n",
    "print(\"min0:\"+min0,\n",
    "      \"max0:\"+max0,  \n",
    "      \"sum0:\"+sum0,  \n",
    "      \"len0:\"+len0,  \n",
    "      \"list_mean: \"+list_mean)"
   ]
  },
  {
   "cell_type": "markdown",
   "metadata": {},
   "source": [
    "練習問題！！"
   ]
  },
  {
   "cell_type": "markdown",
   "metadata": {},
   "source": [
    "t_list = [13,18,19,11,10,17,14,15]とするとき、  \n",
    "最大値と平均を求めてみましょう！"
   ]
  },
  {
   "cell_type": "markdown",
   "metadata": {},
   "source": [
    "**その3 ディクショナリを作成してみよう！**<a id='sec5_3'></a>  \n",
    "[先頭に戻る](#top)"
   ]
  },
  {
   "cell_type": "markdown",
   "metadata": {},
   "source": [
    "ディクショナリは、keyと値の対応関係を収納します！そのため、順序の概念はありません。  \n",
    "例として、りょうたくんのデータを作ってみましょう！リストを勉強した時と同様に、順に確認しています。"
   ]
  },
  {
   "cell_type": "code",
   "execution_count": 40,
   "metadata": {},
   "outputs": [
    {
     "data": {
      "text/plain": [
       "{'名前': 'りょうた', '出身': '大阪', '趣味': 'サッカー'}"
      ]
     },
     "execution_count": 40,
     "metadata": {},
     "output_type": "execute_result"
    }
   ],
   "source": [
    "ex_dict = {\"名前\":\"りょうた\",\n",
    "                \"出身\":\"大阪\",\n",
    "                \"趣味\": \"サッカー\"}\n",
    "ex_dict"
   ]
  },
  {
   "cell_type": "code",
   "execution_count": 41,
   "metadata": {},
   "outputs": [
    {
     "data": {
      "text/plain": [
       "'りょうた'"
      ]
     },
     "execution_count": 41,
     "metadata": {},
     "output_type": "execute_result"
    }
   ],
   "source": [
    "#keyを指定して、値を取り出す\n",
    "ex_dict[\"名前\"]"
   ]
  },
  {
   "cell_type": "code",
   "execution_count": 42,
   "metadata": {},
   "outputs": [
    {
     "data": {
      "text/plain": [
       "{'名前': 'りょうた', '出身': '大阪', '趣味': 'サッカー', '年齢': '20'}"
      ]
     },
     "execution_count": 42,
     "metadata": {},
     "output_type": "execute_result"
    }
   ],
   "source": [
    "#要素、年齢を追加する\n",
    "ex_dict[\"年齢\"] = \"20\"\n",
    "ex_dict"
   ]
  },
  {
   "cell_type": "code",
   "execution_count": 43,
   "metadata": {},
   "outputs": [
    {
     "data": {
      "text/plain": [
       "{'名前': 'りょうた', '趣味': 'サッカー', '年齢': '20'}"
      ]
     },
     "execution_count": 43,
     "metadata": {},
     "output_type": "execute_result"
    }
   ],
   "source": [
    "#要素を削除\n",
    "del ex_dict[\"出身\"]\n",
    "ex_dict"
   ]
  },
  {
   "cell_type": "markdown",
   "metadata": {},
   "source": [
    "メソッドを用いて、効率的に要素を取り出そう！！"
   ]
  },
  {
   "cell_type": "code",
   "execution_count": 45,
   "metadata": {},
   "outputs": [
    {
     "name": "stdout",
     "output_type": "stream",
     "text": [
      "dict_keys(['名前', '出身', '趣味'])\n",
      "りょうた\n",
      "dict_items([('名前', 'りょうた'), ('出身', '大阪'), ('趣味', 'サッカー')])\n",
      "dict_values(['りょうた', '大阪', 'サッカー'])\n"
     ]
    }
   ],
   "source": [
    "dic= {\"名前\":\"りょうた\",\n",
    "                \"出身\":\"大阪\",\n",
    "                \"趣味\": \"サッカー\"}\n",
    "print(dic.keys())     #全てのkeyを取り出す。\n",
    "print(dic.get(\"名前\"))#keyを指定して値を取り出す。\n",
    "print(dic.items())    #全ての要素を取り出す。\n",
    "print(dic.values())   #全ての値を取り出す。"
   ]
  },
  {
   "cell_type": "markdown",
   "metadata": {},
   "source": [
    "**その4 集合を作成してみよう！**<a id='sec5_4'></a>  \n",
    "[先頭に戻る](#top)"
   ]
  },
  {
   "cell_type": "markdown",
   "metadata": {},
   "source": [
    "集合は複数の要素が、重複しないように収納します。数学の集合と同じです！"
   ]
  },
  {
   "cell_type": "code",
   "execution_count": 71,
   "metadata": {},
   "outputs": [
    {
     "data": {
      "text/plain": [
       "{1, 2}"
      ]
     },
     "execution_count": 71,
     "metadata": {},
     "output_type": "execute_result"
    }
   ],
   "source": [
    "set1 = {1,2,3}\n",
    "set2 = {3,4,5}\n",
    "\n",
    "#和集合を求める。\n",
    "union =  set1 | set2\n",
    "union\n",
    "\n",
    "#積集合を求める\n",
    "intersection = set1 & set2 \n",
    "intersection\n",
    "\n",
    "#差集合を求める\n",
    "set_difference = set1 - set2\n",
    "set_difference"
   ]
  },
  {
   "cell_type": "markdown",
   "metadata": {},
   "source": [
    "メッソドの確認！"
   ]
  },
  {
   "cell_type": "code",
   "execution_count": 72,
   "metadata": {},
   "outputs": [
    {
     "name": "stdout",
     "output_type": "stream",
     "text": [
      "{1, 2, 3, 6}\n",
      "{1, 3, 6}\n",
      "set()\n"
     ]
    }
   ],
   "source": [
    "set1.add(6)    #要素の追加\n",
    "print(set1)\n",
    "\n",
    "set1.remove(2) #特定の要素の削除\n",
    "print(set1)\n",
    "\n",
    "set1.clear()   #要素の全削除\n",
    "print(set1)"
   ]
  },
  {
   "cell_type": "code",
   "execution_count": 74,
   "metadata": {},
   "outputs": [
    {
     "name": "stdout",
     "output_type": "stream",
     "text": [
      "5\n",
      "1\n",
      "15\n",
      "5\n",
      "3.0\n"
     ]
    }
   ],
   "source": [
    "union = {1,2,3,4,5}\n",
    "max_union = max(union) #最大値\n",
    "print(max_union)\n",
    "\n",
    "min_union = min(union) #最小値\n",
    "print(min_union)\n",
    "\n",
    "sum_union = sum(union) #合計\n",
    "print(sum_union)\n",
    "\n",
    "len_union = len(union) #要素数\n",
    "print(len_union)\n",
    "\n",
    "mean_union = sum_union/len_union #平均\n",
    "print(mean_union)\n"
   ]
  },
  {
   "cell_type": "markdown",
   "metadata": {},
   "source": [
    "**その5 タプルを作成してみよう！**<a id='sec5_5'></a>  \n",
    "[先頭に戻る](#top)"
   ]
  },
  {
   "cell_type": "markdown",
   "metadata": {},
   "source": [
    "タプルでは、複数の要素が、要素の変更ができないように収納されます。また順番の概念があります。  \n",
    "タプルは要素を( )で囲います！"
   ]
  },
  {
   "cell_type": "code",
   "execution_count": 46,
   "metadata": {},
   "outputs": [
    {
     "data": {
      "text/plain": [
       "('数学', '英語', '国語')"
      ]
     },
     "execution_count": 46,
     "metadata": {},
     "output_type": "execute_result"
    }
   ],
   "source": [
    "subject = (\"数学\",\"英語\",\"国語\")\n",
    "subject"
   ]
  },
  {
   "cell_type": "code",
   "execution_count": 47,
   "metadata": {},
   "outputs": [
    {
     "data": {
      "text/plain": [
       "'英語'"
      ]
     },
     "execution_count": 47,
     "metadata": {},
     "output_type": "execute_result"
    }
   ],
   "source": [
    "subject[1]"
   ]
  },
  {
   "cell_type": "markdown",
   "metadata": {},
   "source": [
    "## Python文法<a id='sec6'></a>"
   ]
  },
  {
   "cell_type": "markdown",
   "metadata": {},
   "source": [
    "### Python文法：for文<a id='sec6_1'></a>  \n",
    "[先頭に戻る](#top)"
   ]
  },
  {
   "cell_type": "markdown",
   "metadata": {},
   "source": [
    "for 繰り返し変数　in シーケンス:  \n",
    "    ループ内で実行するブロック"
   ]
  },
  {
   "cell_type": "code",
   "execution_count": 1,
   "metadata": {},
   "outputs": [
    {
     "name": "stdout",
     "output_type": "stream",
     "text": [
      "1\n",
      "2\n",
      "3\n",
      "4\n",
      "5\n"
     ]
    }
   ],
   "source": [
    "example_list = [1,2,3,4,5]\n",
    "for i in example_list:\n",
    "    print(i)"
   ]
  },
  {
   "cell_type": "markdown",
   "metadata": {},
   "source": [
    "\":\"の次の行は**半角空白４マス**開けて書き始めます。これを**インデント**と言います。空白の個数や、全角と半角の違いでエラーが発生しやすいので注意です！また、インデントはtabキーを押しても挿入することができます。一般に、インデントできるだけtabキーを使用しないほうがいいと言われます。稀にですが、tabキーを使うとうまくいかない場合があるので、できるだけ半角空白４マスでインデントを記述しましょう！ちなみにjupyter notebookでは、\":\"を記述すると、改行するときに自動的にインデントされます！便利ですね！！"
   ]
  },
  {
   "cell_type": "markdown",
   "metadata": {},
   "source": [
    "for文を用いて、平均、分散を求めてみましょう！ようやくプログラミングっぽいとことまで到着しました！！"
   ]
  },
  {
   "cell_type": "code",
   "execution_count": 2,
   "metadata": {},
   "outputs": [
    {
     "name": "stdout",
     "output_type": "stream",
     "text": [
      "mean=3.0 variance=2.0 standard_deviation=1.4142135623730951\n"
     ]
    }
   ],
   "source": [
    "ex_list= [1,2,3,4,5]\n",
    "\n",
    "ex_sum = sum(ex_list)\n",
    "len_list = len(ex_list)\n",
    "\n",
    "mean = ex_sum / len_list\n",
    "\n",
    "variance = 0\n",
    "for i in ex_list:\n",
    "    variance += (i-mean) **2\n",
    "    \n",
    "variance = variance / len_list\n",
    "\n",
    "standard_deviation = variance **0.5\n",
    "print(\"mean=\"+str(mean),\n",
    "      \"variance=\"+str(variance),\n",
    "      \"standard_deviation=\"+str(standard_deviation))"
   ]
  },
  {
   "cell_type": "code",
   "execution_count": 4,
   "metadata": {},
   "outputs": [
    {
     "name": "stdout",
     "output_type": "stream",
     "text": [
      "mean=44.0 variance=371.42857142857144 standard_deviation=19.27248223318863\n"
     ]
    }
   ],
   "source": [
    "n_list = [12,41,59,73,24,45,54]\n",
    "\n",
    "ex_sum = sum(ex_list)\n",
    "len_list = len(ex_list)\n",
    "\n",
    "mean = ex_sum / len_list\n",
    "\n",
    "variance = 0\n",
    "for i in ex_list:\n",
    "    variance += (i-mean) **2\n",
    "    \n",
    "variance = variance / len_list\n",
    "\n",
    "standard_deviation = variance **0.5\n",
    "print(\"mean=\"+str(mean),\n",
    "      \"variance=\"+str(variance),\n",
    "      \"standard_deviation=\"+str(standard_deviation))"
   ]
  },
  {
   "cell_type": "markdown",
   "metadata": {},
   "source": [
    "$variance= \\frac{1}{n}\\sum(x_i-\\overline{x})^2$"
   ]
  },
  {
   "cell_type": "markdown",
   "metadata": {},
   "source": [
    "同様に、  \n",
    "n_list = [12,41,59,73,24,45,54]  \n",
    "の平均と分散を求めてみましょう！"
   ]
  },
  {
   "cell_type": "markdown",
   "metadata": {},
   "source": [
    "ちなみにnumpyを使うと一瞬です。"
   ]
  },
  {
   "cell_type": "code",
   "execution_count": 7,
   "metadata": {},
   "outputs": [
    {
     "data": {
      "text/plain": [
       "19.27248223318863"
      ]
     },
     "execution_count": 7,
     "metadata": {},
     "output_type": "execute_result"
    }
   ],
   "source": [
    "import numpy as np\n",
    "#np.mean(ex_list)\n",
    "#np.var(ex_list)\n",
    "#np.std(ex_list)"
   ]
  },
  {
   "cell_type": "markdown",
   "metadata": {},
   "source": [
    "### Python文法：range文<a id='sec6_2'></a>  \n",
    "[先頭に戻る](#top)"
   ]
  },
  {
   "cell_type": "markdown",
   "metadata": {},
   "source": [
    "決まった回数同じ試行を繰り返させたいとき、range文を使うと便利です。"
   ]
  },
  {
   "cell_type": "raw",
   "metadata": {},
   "source": [
    "#range関数の使い方\n",
    "range(start, stop, [step])"
   ]
  },
  {
   "cell_type": "code",
   "execution_count": 15,
   "metadata": {},
   "outputs": [
    {
     "name": "stdout",
     "output_type": "stream",
     "text": [
      "0\n",
      "1\n",
      "2\n",
      "3\n",
      "4\n"
     ]
    }
   ],
   "source": [
    "for i in range(5):\n",
    "    print(i)"
   ]
  },
  {
   "cell_type": "code",
   "execution_count": 17,
   "metadata": {},
   "outputs": [
    {
     "data": {
      "text/plain": [
       "[3, 4]"
      ]
     },
     "execution_count": 17,
     "metadata": {},
     "output_type": "execute_result"
    }
   ],
   "source": [
    "list(range(3,5))"
   ]
  },
  {
   "cell_type": "code",
   "execution_count": 16,
   "metadata": {},
   "outputs": [
    {
     "name": "stdout",
     "output_type": "stream",
     "text": [
      "3\n",
      "4\n"
     ]
    }
   ],
   "source": [
    "for i in range(3,5):\n",
    "    print(i)"
   ]
  },
  {
   "cell_type": "markdown",
   "metadata": {},
   "source": [
    "range()関数を使って、リストの作成をしてみます。"
   ]
  },
  {
   "cell_type": "code",
   "execution_count": 14,
   "metadata": {},
   "outputs": [
    {
     "data": {
      "text/plain": [
       "[1, 2, 3, 4, 5]"
      ]
     },
     "execution_count": 14,
     "metadata": {},
     "output_type": "execute_result"
    }
   ],
   "source": [
    "list(range(1,6))"
   ]
  },
  {
   "cell_type": "markdown",
   "metadata": {},
   "source": [
    "[5,4,3,2,1]となるリストを作ってみます。"
   ]
  },
  {
   "cell_type": "code",
   "execution_count": 108,
   "metadata": {},
   "outputs": [
    {
     "data": {
      "text/plain": [
       "[5, 4, 3, 2, 1]"
      ]
     },
     "execution_count": 108,
     "metadata": {},
     "output_type": "execute_result"
    }
   ],
   "source": [
    "list(range(5,0,-1))"
   ]
  },
  {
   "cell_type": "markdown",
   "metadata": {},
   "source": [
    ".reverse()メソッドを使っても、リストを反転させることができます。"
   ]
  },
  {
   "cell_type": "code",
   "execution_count": 73,
   "metadata": {},
   "outputs": [
    {
     "data": {
      "text/plain": [
       "[5, 4, 3, 2, 1]"
      ]
     },
     "execution_count": 73,
     "metadata": {},
     "output_type": "execute_result"
    }
   ],
   "source": [
    "a = list(range(1,6))\n",
    "a.reverse()\n",
    "a"
   ]
  },
  {
   "cell_type": "markdown",
   "metadata": {},
   "source": [
    "for文とrange文を組み合わせて、１から１０までの数字を縦に並べてみてください。"
   ]
  },
  {
   "cell_type": "code",
   "execution_count": 18,
   "metadata": {},
   "outputs": [
    {
     "name": "stdout",
     "output_type": "stream",
     "text": [
      "1\n",
      "2\n",
      "3\n",
      "4\n",
      "5\n",
      "6\n",
      "7\n",
      "8\n",
      "9\n",
      "10\n"
     ]
    }
   ],
   "source": [
    "for i in range(1,11):\n",
    "    print(i)"
   ]
  },
  {
   "cell_type": "markdown",
   "metadata": {},
   "source": [
    "### Python文法：if文<a id='sec6_3'></a> \n",
    "[先頭に戻る](#top)"
   ]
  },
  {
   "cell_type": "markdown",
   "metadata": {},
   "source": [
    "より複雑な構造を表現してみましょう。if文を使うと、条件によって処置を変えることができます。  \n",
    "if, else, elifを駆使して素数判定プログラムを作成してみましょう！！"
   ]
  },
  {
   "cell_type": "raw",
   "metadata": {},
   "source": [
    "if 条件式:\n",
    "    実行する処理\n",
    "elif 条件式:\n",
    "    ifの条件に該当しない時、実行する処理\n",
    "else:\n",
    "    条件に該当することがない時、実行する処理"
   ]
  },
  {
   "cell_type": "code",
   "execution_count": 24,
   "metadata": {},
   "outputs": [
    {
     "name": "stdout",
     "output_type": "stream",
     "text": [
      "a and b is same!!\n"
     ]
    }
   ],
   "source": [
    "a = list(range(1,6))\n",
    "b = [1,2,3,4,5]\n",
    "if a == b:\n",
    "    print(\"a and b is same!!\")\n",
    "else:\n",
    "    print(\"a and b is NOT same!!\")"
   ]
  },
  {
   "cell_type": "code",
   "execution_count": 26,
   "metadata": {},
   "outputs": [
    {
     "name": "stdout",
     "output_type": "stream",
     "text": [
      "c and d is NOT same!!\n"
     ]
    }
   ],
   "source": [
    "c = 1\n",
    "d = 3\n",
    "if c != d:\n",
    "    print(\"c and d is NOT same!!\")\n",
    "else:\n",
    "    print(\"a and b is same!!\")"
   ]
  },
  {
   "cell_type": "markdown",
   "metadata": {},
   "source": [
    "文字列が含まれるかどうかの探索も可能です！！"
   ]
  },
  {
   "cell_type": "code",
   "execution_count": 27,
   "metadata": {},
   "outputs": [
    {
     "name": "stdout",
     "output_type": "stream",
     "text": [
      "i is included!!\n"
     ]
    }
   ],
   "source": [
    "if \"i\" in \"ajdsfakidfadf\":\n",
    "    print(\"i is included!!\")\n",
    "else:\n",
    "    print(\"i is NOT included!!\")"
   ]
  },
  {
   "cell_type": "markdown",
   "metadata": {},
   "source": [
    "**比較演算子**  \n",
    "二つの事象を比較するときは、比較演算子を用いる。  \n",
    "1. == (等しい)  \n",
    "2. != (等しくない)  \n",
    "3. <,> (小なり,大なり)  \n",
    "4. <=,>= (小なりイコール,大なりイコール)  \n",
    "5. in (含まれる)"
   ]
  },
  {
   "cell_type": "markdown",
   "metadata": {},
   "source": [
    "if文を使って、与えた整数が偶数か奇数かを判定するシステムを作ってみます。"
   ]
  },
  {
   "cell_type": "code",
   "execution_count": 28,
   "metadata": {},
   "outputs": [
    {
     "name": "stdout",
     "output_type": "stream",
     "text": [
      "iは奇数\n"
     ]
    }
   ],
   "source": [
    "i = 5\n",
    "if i % 2 == 0:\n",
    "    print(\"iは偶数\")\n",
    "else:\n",
    "    print(\"iは奇数\")"
   ]
  },
  {
   "cell_type": "markdown",
   "metadata": {},
   "source": [
    "発展：\n",
    "for文とif文を組み合わせて、０から９までの整数が偶数か奇数か判別するコードを書いてみましょう。"
   ]
  },
  {
   "cell_type": "code",
   "execution_count": 255,
   "metadata": {},
   "outputs": [
    {
     "name": "stdout",
     "output_type": "stream",
     "text": [
      "0は偶数\n",
      "1は奇数\n",
      "2は偶数\n",
      "3は奇数\n",
      "4は偶数\n",
      "5は奇数\n",
      "6は偶数\n",
      "7は奇数\n",
      "8は偶数\n",
      "9は奇数\n"
     ]
    }
   ],
   "source": [
    "for i in range(10):\n",
    "    if i % 2 == 0:\n",
    "        print(str(i) + \"は偶数\")\n",
    "    else:\n",
    "        print(str(i)+\"は奇数\")"
   ]
  },
  {
   "cell_type": "markdown",
   "metadata": {},
   "source": [
    "1から5整数が偶数か奇数か判別するコードを書いてみましょう。"
   ]
  },
  {
   "cell_type": "code",
   "execution_count": 29,
   "metadata": {},
   "outputs": [
    {
     "name": "stdout",
     "output_type": "stream",
     "text": [
      "1は奇数\n",
      "2は偶数\n",
      "3は奇数\n",
      "4は偶数\n",
      "5は奇数\n"
     ]
    }
   ],
   "source": [
    "for i in range(1,6):\n",
    "    if i % 2 ==0:\n",
    "        print(str(i) + \"は偶数\")\n",
    "    else:\n",
    "        print(str(i)+\"は奇数\")"
   ]
  },
  {
   "cell_type": "markdown",
   "metadata": {},
   "source": [
    "練習問題！！   \n",
    "1から1000の整数のうち、259の倍数を発見するコードを作ってみましょう。"
   ]
  },
  {
   "cell_type": "code",
   "execution_count": 256,
   "metadata": {},
   "outputs": [
    {
     "name": "stdout",
     "output_type": "stream",
     "text": [
      "0は259の倍数\n",
      "259は259の倍数\n",
      "518は259の倍数\n",
      "777は259の倍数\n"
     ]
    }
   ],
   "source": [
    "for i in range(1000):\n",
    "    if i % 259 == 0:\n",
    "        print(str(i) + \"は259の倍数\")"
   ]
  },
  {
   "cell_type": "code",
   "execution_count": 257,
   "metadata": {},
   "outputs": [
    {
     "name": "stdout",
     "output_type": "stream",
     "text": [
      "1は2021の約数\n",
      "43は2021の約数\n",
      "47は2021の約数\n"
     ]
    }
   ],
   "source": [
    "for i in range(1,i+1):\n",
    "    if 2021 % i == 0:\n",
    "        print(str(i)+\"は2021の約数\")"
   ]
  },
  {
   "cell_type": "markdown",
   "metadata": {},
   "source": [
    "### Python文法：def文<a id='sec6_4'></a>  \n",
    "[先頭に戻る](#top)"
   ]
  },
  {
   "cell_type": "markdown",
   "metadata": {},
   "source": [
    "def文を使うと、自分で関数を定義できるようになります！  \n",
    "これはとても便利な機能です。プログラムを書いていると、何度も同じコードを書いているな...。あとからもう今と同じ処理を使うことがありそうだな...。と思う時によく出会うと思います。そんなときに活躍するのが、def文です。def文で1度関数を作ってしまえば、同じ処理を書く必要がなくなるので、作業の効率化間違いなしです！！"
   ]
  },
  {
   "cell_type": "raw",
   "metadata": {},
   "source": [
    "def 関数名():\n",
    "    処理"
   ]
  },
  {
   "cell_type": "markdown",
   "metadata": {},
   "source": [
    "では、入力した数の約数を発見する関数を作ってみましょう。"
   ]
  },
  {
   "cell_type": "code",
   "execution_count": 31,
   "metadata": {},
   "outputs": [],
   "source": [
    "def divisor():\n",
    "    num = int(input(\"好きな数字を入力してください:\"))\n",
    "    for i in range(1,num+1):\n",
    "        if num % i == 0:\n",
    "            print(str(i)+\"は\"+str(num)+\"の約数\")"
   ]
  },
  {
   "cell_type": "markdown",
   "metadata": {},
   "source": [
    "<発展>素数判定プログラムを作ってみましょう！この課題は、これまでのものよりも難しいです。私も細かい調整をするのに時間がかかりました。  \n",
    "今のところできなくても全く問題ありません。すごい！！と思ってもらえたら嬉しいです。"
   ]
  },
  {
   "cell_type": "code",
   "execution_count": 36,
   "metadata": {},
   "outputs": [],
   "source": [
    "def prime():\n",
    "    num = int(input(\"好きな自然数を入力してください：\"))\n",
    "    if num < 1:\n",
    "        print(\"1以上の整数を入力してください！\")\n",
    "    if num == 1:\n",
    "        print(num,\"は素数ではありません！\")\n",
    "    if num >= 2:  \n",
    "        for i in range(2,num):\n",
    "            if num % i == 0:\n",
    "                print(num,\"は素数ではありません！\")                                                 \n",
    "                break\n",
    "        else:\n",
    "                print(num,\"は素数です！\")"
   ]
  },
  {
   "cell_type": "code",
   "execution_count": null,
   "metadata": {},
   "outputs": [],
   "source": [
    "prime()"
   ]
  },
  {
   "cell_type": "markdown",
   "metadata": {},
   "source": [
    "上の関数を作成するのに、"
   ]
  },
  {
   "cell_type": "code",
   "execution_count": 254,
   "metadata": {},
   "outputs": [
    {
     "name": "stdout",
     "output_type": "stream",
     "text": [
      "好きな数字を入力してください：2\n",
      "2 は素数です\n"
     ]
    }
   ],
   "source": [
    "\n",
    "a = int(input(\"好きな数字を入力してください：\"))\n",
    "if num < 1:\n",
    "    print(\"1以上の整数を入力してください！\")\n",
    "if num == 1:\n",
    "    print(num,\"は素数ではありません！\")\n",
    "if num >= 2:\n",
    "    for num in range(2,a):\n",
    "        if a % num == 0:\n",
    "            print(a, \"は素数ではありません!\")\n",
    "            break\n",
    "    else:\n",
    "        print(a,\"は素数です!\")"
   ]
  },
  {
   "cell_type": "markdown",
   "metadata": {},
   "source": [
    "### Python文法：while文<a id='sec6_5'></a>  \n",
    "[先頭に戻る](#top)"
   ]
  },
  {
   "cell_type": "markdown",
   "metadata": {},
   "source": [
    "while文を使うと、条件が真の間、実行し続けるループを作成できます。ループの便利な点は、求める処理が出るまでひたすら処理を実行してくれる点です！ "
   ]
  },
  {
   "cell_type": "raw",
   "metadata": {},
   "source": [
    "while 条件:\n",
    "    ループ内で実行する動作  "
   ]
  },
  {
   "cell_type": "markdown",
   "metadata": {},
   "source": [
    "例として、1から10までの整数のうち、2の倍数のものと3の倍数のものを発見するコードを書いてみます。"
   ]
  },
  {
   "cell_type": "code",
   "execution_count": 251,
   "metadata": {},
   "outputs": [
    {
     "name": "stdout",
     "output_type": "stream",
     "text": [
      "1\n",
      "2は2の倍数！！\n",
      "3は3の倍数！！\n",
      "4は2の倍数！！\n",
      "5\n",
      "6は2の倍数であり3の倍数！！！！\n",
      "7\n",
      "8は2の倍数！！\n",
      "9は3の倍数！！\n",
      "10は2の倍数！！\n"
     ]
    }
   ],
   "source": [
    "n = 1\n",
    "while n <= 10:\n",
    "    if n%2==0 and n%3==0:\n",
    "        print(str(n)+\"は2の倍数であり3の倍数！！！！\")\n",
    "    elif n%2 == 0:\n",
    "        print(str(n)+\"は2の倍数！！\")\n",
    "    elif n%3 == 0:\n",
    "        print(str(n)+\"は3の倍数！！\")\n",
    "    else:\n",
    "        print(n)\n",
    "    n = n+1"
   ]
  },
  {
   "cell_type": "markdown",
   "metadata": {},
   "source": [
    "うまく作動しているようですね！"
   ]
  },
  {
   "cell_type": "markdown",
   "metadata": {},
   "source": [
    "FizzBuzzとは、3の倍数のときは「Fizz」、5の倍数のときは「Buzz」、3と5の公倍数のときは「FizzBuzz」と表示するゲームのことです。  \n",
    "この問題を、while文を使ってプログラミングしてみよう！"
   ]
  },
  {
   "cell_type": "markdown",
   "metadata": {},
   "source": [
    "題材１：1から20までの数のFizzBuzzを調べる。"
   ]
  },
  {
   "cell_type": "code",
   "execution_count": 252,
   "metadata": {},
   "outputs": [
    {
     "name": "stdout",
     "output_type": "stream",
     "text": [
      "1\n",
      "2\n",
      "Fize\n",
      "4\n",
      "Buzz\n",
      "Fize\n",
      "7\n",
      "8\n",
      "Fize\n",
      "Buzz\n",
      "11\n",
      "Fize\n",
      "13\n",
      "14\n",
      "FizzBuzz\n",
      "16\n",
      "17\n",
      "Fize\n",
      "19\n",
      "Buzz\n"
     ]
    }
   ],
   "source": [
    "n = 1\n",
    "while n <= 20:\n",
    "    if n%3 == 0 and n%5 == 0:\n",
    "        print(\"FizzBuzz\")\n",
    "    elif n%3 == 0:\n",
    "        print('Fize')\n",
    "    elif n%5 == 0:\n",
    "        print('Buzz')\n",
    "    else:\n",
    "        print(n)\n",
    "    n = n + 1"
   ]
  }
 ],
 "metadata": {
  "kernelspec": {
   "display_name": "Python 3",
   "language": "python",
   "name": "python3"
  },
  "language_info": {
   "codemirror_mode": {
    "name": "ipython",
    "version": 3
   },
   "file_extension": ".py",
   "mimetype": "text/x-python",
   "name": "python",
   "nbconvert_exporter": "python",
   "pygments_lexer": "ipython3",
   "version": "3.7.6"
  }
 },
 "nbformat": 4,
 "nbformat_minor": 4
}
