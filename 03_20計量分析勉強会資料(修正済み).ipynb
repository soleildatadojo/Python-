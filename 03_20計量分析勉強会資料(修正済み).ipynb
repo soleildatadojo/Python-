{
  "nbformat": 4,
  "nbformat_minor": 0,
  "metadata": {
    "kernelspec": {
      "display_name": "Python 3",
      "language": "python",
      "name": "python3"
    },
    "language_info": {
      "codemirror_mode": {
        "name": "ipython",
        "version": 3
      },
      "file_extension": ".py",
      "mimetype": "text/x-python",
      "name": "python",
      "nbconvert_exporter": "python",
      "pygments_lexer": "ipython3",
      "version": "3.7.6"
    },
    "colab": {
      "name": "03_20計量分析勉強会資料.ipynb",
      "provenance": []
    }
  },
  "cells": [
    {
      "cell_type": "markdown",
      "metadata": {
        "id": "QcUlZu14FrHI"
      },
      "source": [
        "# Python実証分析入門<a id='top'></a>"
      ]
    },
    {
      "cell_type": "markdown",
      "metadata": {
        "id": "qRVCfZohFrHU"
      },
      "source": [
        "###  目次\n",
        "1. [単回帰分析](#sec1)\n",
        "    1. [リサーチクエスチョン](#sec1_1)\n",
        "    2. [ヒストグラム](#sec1_2)\n",
        "    3. [散布図](#sec1_3)\n",
        "    4. [単回帰分析](#sec1_4)\n",
        "    5. [分析結果](#sec1_5)\n",
        "    6. [summaryレポート詳細](#sec1_6)\n",
        "    7. [実践1](#sec1_7)\n",
        "2. [重回帰分析](#sec2)\n",
        "    1. [実践2](#sec2_1)\n",
        "3. [予測(機械学習)](#sec3)\n",
        "4. [検定](#sec4)\n",
        "    1. [実践3](#sec4_1)\n",
        "5. [付録：代表的な確率分布](#sec7)\n",
        "6. [付録１：Numpy計算](#sec8)\n",
        "7. [付録２：Numpy統計量](#sec9)"
      ]
    },
    {
      "cell_type": "markdown",
      "metadata": {
        "id": "_yADXVtOFrHW"
      },
      "source": [
        "先程勉強した回帰分析を、早速Pythonで実装してみます！"
      ]
    },
    {
      "cell_type": "code",
      "metadata": {
        "colab": {
          "base_uri": "https://localhost:8080/"
        },
        "id": "vgNKeNTUFrHX",
        "outputId": "7c06d5c1-7160-4b83-df3b-cc3c20a28a43"
      },
      "source": [
        "import numpy as np\n",
        "import pandas as pd\n",
        "from pandas.plotting import scatter_matrix\n",
        "from scipy.stats import norm, uniform, gaussian_kde, multivariate_normal\n",
        "import matplotlib.pyplot as plt\n",
        "from statsmodels.formula.api import ols\n",
        "from statsmodels.stats.outliers_influence import variance_inflation_factor as vif\n",
        "import plotly.express as px\n",
        "!pip install see\n",
        "from see import see\n",
        "import seaborn as sns\n",
        "from scipy import stats\n",
        "sns.set()\n",
        "from IPython.display import Image\n",
        "import plotly.io as pio\n",
        "pio.renderers.default = \"colab\"\n",
        "\n",
        "!pip install japanize-matplotlib\n",
        "import japanize_matplotlib  #グラフの名前を日本語で表示するライブラリ"
      ],
      "execution_count": 1,
      "outputs": [
        {
          "output_type": "stream",
          "text": [
            "/usr/local/lib/python3.7/dist-packages/statsmodels/tools/_testing.py:19: FutureWarning: pandas.util.testing is deprecated. Use the functions in the public API at pandas.testing instead.\n",
            "  import pandas.util.testing as tm\n"
          ],
          "name": "stderr"
        },
        {
          "output_type": "stream",
          "text": [
            "Requirement already satisfied: see in /usr/local/lib/python3.7/dist-packages (1.4.1)\n",
            "Requirement already satisfied: japanize-matplotlib in /usr/local/lib/python3.7/dist-packages (1.1.3)\n",
            "Requirement already satisfied: matplotlib in /usr/local/lib/python3.7/dist-packages (from japanize-matplotlib) (3.2.2)\n",
            "Requirement already satisfied: python-dateutil>=2.1 in /usr/local/lib/python3.7/dist-packages (from matplotlib->japanize-matplotlib) (2.8.1)\n",
            "Requirement already satisfied: numpy>=1.11 in /usr/local/lib/python3.7/dist-packages (from matplotlib->japanize-matplotlib) (1.19.5)\n",
            "Requirement already satisfied: cycler>=0.10 in /usr/local/lib/python3.7/dist-packages (from matplotlib->japanize-matplotlib) (0.10.0)\n",
            "Requirement already satisfied: kiwisolver>=1.0.1 in /usr/local/lib/python3.7/dist-packages (from matplotlib->japanize-matplotlib) (1.3.1)\n",
            "Requirement already satisfied: pyparsing!=2.0.4,!=2.1.2,!=2.1.6,>=2.0.1 in /usr/local/lib/python3.7/dist-packages (from matplotlib->japanize-matplotlib) (2.4.7)\n",
            "Requirement already satisfied: six>=1.5 in /usr/local/lib/python3.7/dist-packages (from python-dateutil>=2.1->matplotlib->japanize-matplotlib) (1.15.0)\n"
          ],
          "name": "stdout"
        }
      ]
    },
    {
      "cell_type": "markdown",
      "metadata": {
        "id": "Al6yqyNmFrHY"
      },
      "source": [
        "**単回帰分析**  <a id='sec1'></a>  \n",
        "[先頭に戻る](#top)  "
      ]
    },
    {
      "cell_type": "markdown",
      "metadata": {
        "id": "JAlkzlKzFrHZ"
      },
      "source": [
        "**単回帰分析**  \n",
        "前半の復習  \n",
        "$Y_i = \\alpha + \\beta{X_i}+ u_i$  \n",
        "$\\Leftrightarrow{u_i} = Y_i - \\alpha - \\beta{X_i}$  \n",
        "すべてのデータをなるべく直線に当てはめるために、誤差$u_i$の総和を最小にする$\\alpha$と$\\beta$を求めることが必要であった。  \n",
        "その代表的な方法が、誤差の二乗和を最小にする$\\alpha$と$\\beta$を求める、**最小二乗法(OLS:Ordinary least squares)**でした。  \n",
        "$J=\\Sigma{u_i}^2 = \\Sigma(Y_i - \\alpha - \\beta{X_i})^2$"
      ]
    },
    {
      "cell_type": "markdown",
      "metadata": {
        "id": "lrZnwTkIFrHa"
      },
      "source": [
        "$J$を$\\alpha$,$\\beta$で偏微分して得られた以下の正規方程式を解いて、  "
      ]
    },
    {
      "cell_type": "code",
      "metadata": {
        "colab": {
          "base_uri": "https://localhost:8080/",
          "height": 110
        },
        "id": "zsX5JebbFrHa",
        "outputId": "ae0e3783-f54a-4d5c-f105-46824b478dee"
      },
      "source": [
        "Image(\"seikihouteisiki.png\")"
      ],
      "execution_count": 2,
      "outputs": [
        {
          "output_type": "execute_result",
          "data": {
            "image/png": "[encoded data removed]",
            "text/plain": [
              "<IPython.core.display.Image object>"
            ]
          },
          "metadata": {
            "tags": []
          },
          "execution_count": 2
        }
      ]
    },
    {
      "cell_type": "markdown",
      "metadata": {
        "id": "TVu2HvkiFrHd"
      },
      "source": [
        "$\\alpha$と$\\beta$の推定量を得ました。"
      ]
    },
    {
      "cell_type": "code",
      "metadata": {
        "colab": {
          "base_uri": "https://localhost:8080/",
          "height": 149
        },
        "id": "0_FK8iXmFrHd",
        "outputId": "021dcbd5-ee76-482e-a97d-faa74f458a55"
      },
      "source": [
        "Image('alpha_beta_estimater.png')"
      ],
      "execution_count": 3,
      "outputs": [
        {
          "output_type": "execute_result",
          "data": {
            "image/png": "[encoded data removed]",
            "text/plain": [
              "<IPython.core.display.Image object>"
            ]
          },
          "metadata": {
            "tags": []
          },
          "execution_count": 3
        }
      ]
    },
    {
      "cell_type": "markdown",
      "metadata": {
        "id": "u5JMTKvHFrHe"
      },
      "source": [
        "最小二乗法の仮定\n",
        "1. 線形モデルとして書ける\n",
        "2. 説明変数$X$が散らばっている\n",
        "3. 標本$(x_i,y_i)$は無作為抽出\n",
        "4. 誤差項$u_i$は説明変数$x_i$と相関しない\n",
        "5. 誤差項は互いに独立 $E(u_i,u_j) , \\forall i \\neq j$\n",
        "6. 誤差項の分散は均一 $V(u_i|x_i)=E(u_iu_i|x_i)=\\sigma^2$\n",
        "7. (小標本の場合)誤差分布の正規性 $u_i \\sim N$"
      ]
    },
    {
      "cell_type": "markdown",
      "metadata": {
        "id": "OEa3SUUlFrHf"
      },
      "source": [
        "具体例を挙げます。鉄には熱によって膨張するという性質(熱膨張)が備わっています。  鉄道会社に勤めるAさんは、気温と熱の関係を調べる仕事を任されました。そこで、資料を確認すると、下の図と散布図が載っていました。"
      ]
    },
    {
      "cell_type": "code",
      "metadata": {
        "colab": {
          "base_uri": "https://localhost:8080/",
          "height": 391
        },
        "id": "baBmc-hcFrHg",
        "outputId": "f4ad3a89-18f4-462a-caa7-21f1ed2d7e57"
      },
      "source": [
        "list = [[10,1001],[15,1005],[20,1007],[25,1007],[30,1012]]\n",
        "df_iron = pd.DataFrame(list)\n",
        "df_iron.columns=['heat', 'length']\n",
        "print(df_iron)\n",
        "plt.plot(df_iron['heat'],df_iron['length'],\"o\")\n",
        "plt.xlabel(\"heat\")\n",
        "plt.ylabel(\"length\")\n",
        "plt.grid(True)\n",
        "pass"
      ],
      "execution_count": 4,
      "outputs": [
        {
          "output_type": "stream",
          "text": [
            "   heat  length\n",
            "0    10    1001\n",
            "1    15    1005\n",
            "2    20    1007\n",
            "3    25    1007\n",
            "4    30    1012\n"
          ],
          "name": "stdout"
        },
        {
          "output_type": "display_data",
          "data": {
            "image/png": "[encoded data removed]",
            "text/plain": [
              "<Figure size 432x288 with 1 Axes>"
            ]
          },
          "metadata": {
            "tags": [],
            "needs_background": "light"
          }
        }
      ]
    },
    {
      "cell_type": "code",
      "metadata": {
        "colab": {
          "base_uri": "https://localhost:8080/",
          "height": 542
        },
        "id": "q7f8VrSRFrHg",
        "outputId": "b627431b-6a77-4afe-eee6-30717f4cb411"
      },
      "source": [
        "#上の散布図に線を引くと。\n",
        "px.scatter(df_iron,x=df_iron['heat'],y=df_iron['length'],trendline='ols')"
      ],
      "execution_count": 5,
      "outputs": [
        {
          "output_type": "display_data",
          "data": {
            "text/html": [
              "<html>\n",
              "<head><meta charset=\"utf-8\" /></head>\n",
              "<body>\n",
              "    <div>\n",
              "            <script src=\"https://cdnjs.cloudflare.com/ajax/libs/mathjax/2.7.5/MathJax.js?config=TeX-AMS-MML_SVG\"></script><script type=\"text/javascript\">if (window.MathJax) {MathJax.Hub.Config({SVG: {font: \"STIX-Web\"}});}</script>\n",
              "                <script type=\"text/javascript\">window.PlotlyConfig = {MathJaxConfig: 'local'};</script>\n",
              "        <script src=\"https://cdn.plot.ly/plotly-latest.min.js\"></script>    \n",
              "            <div id=\"e131b64f-2146-4b4d-9ea0-1e8e55386b62\" class=\"plotly-graph-div\" style=\"height:525px; width:100%;\"></div>\n",
              "            <script type=\"text/javascript\">\n",
              "                \n",
              "                    window.PLOTLYENV=window.PLOTLYENV || {};\n",
              "                    \n",
              "                if (document.getElementById(\"e131b64f-2146-4b4d-9ea0-1e8e55386b62\")) {\n",
              "                    Plotly.newPlot(\n",
              "                        'e131b64f-2146-4b4d-9ea0-1e8e55386b62',\n",
              "                        [{\"hoverlabel\": {\"namelength\": 0}, \"hovertemplate\": \"heat=%{x}<br>length=%{y}\", \"legendgroup\": \"\", \"marker\": {\"color\": \"#636efa\", \"symbol\": \"circle\"}, \"mode\": \"markers\", \"name\": \"\", \"showlegend\": false, \"type\": \"scatter\", \"x\": [10, 15, 20, 25, 30], \"xaxis\": \"x\", \"y\": [1001, 1005, 1007, 1007, 1012], \"yaxis\": \"y\"}, {\"hoverlabel\": {\"namelength\": 0}, \"hovertemplate\": \"<b>OLS trendline</b><br>length = 0.480000 * heat + 996.800000<br>R<sup>2</sup>=0.911392<br><br>heat=%{x}<br>length=%{y} <b>(trend)</b>\", \"legendgroup\": \"\", \"marker\": {\"color\": \"#636efa\", \"symbol\": \"circle\"}, \"mode\": \"lines\", \"name\": \"\", \"showlegend\": false, \"type\": \"scatter\", \"x\": [10, 15, 20, 25, 30], \"xaxis\": \"x\", \"y\": [1001.5999999999998, 1003.9999999999998, 1006.3999999999997, 1008.7999999999997, 1011.1999999999997], \"yaxis\": \"y\"}],\n",
              "                        {\"legend\": {\"tracegroupgap\": 0}, \"margin\": {\"t\": 60}, \"template\": {\"data\": {\"bar\": [{\"error_x\": {\"color\": \"#2a3f5f\"}, \"error_y\": {\"color\": \"#2a3f5f\"}, \"marker\": {\"line\": {\"color\": \"#E5ECF6\", \"width\": 0.5}}, \"type\": \"bar\"}], \"barpolar\": [{\"marker\": {\"line\": {\"color\": \"#E5ECF6\", \"width\": 0.5}}, \"type\": \"barpolar\"}], \"carpet\": [{\"aaxis\": {\"endlinecolor\": \"#2a3f5f\", \"gridcolor\": \"white\", \"linecolor\": \"white\", \"minorgridcolor\": \"white\", \"startlinecolor\": \"#2a3f5f\"}, \"baxis\": {\"endlinecolor\": \"#2a3f5f\", \"gridcolor\": \"white\", \"linecolor\": \"white\", \"minorgridcolor\": \"white\", \"startlinecolor\": \"#2a3f5f\"}, \"type\": \"carpet\"}], \"choropleth\": [{\"colorbar\": {\"outlinewidth\": 0, \"ticks\": \"\"}, \"type\": \"choropleth\"}], \"contour\": [{\"colorbar\": {\"outlinewidth\": 0, \"ticks\": \"\"}, \"colorscale\": [[0.0, \"#0d0887\"], [0.1111111111111111, \"#46039f\"], [0.2222222222222222, \"#7201a8\"], [0.3333333333333333, \"#9c179e\"], [0.4444444444444444, \"#bd3786\"], [0.5555555555555556, \"#d8576b\"], [0.6666666666666666, \"#ed7953\"], [0.7777777777777778, \"#fb9f3a\"], [0.8888888888888888, \"#fdca26\"], [1.0, \"#f0f921\"]], \"type\": \"contour\"}], \"contourcarpet\": [{\"colorbar\": {\"outlinewidth\": 0, \"ticks\": \"\"}, \"type\": \"contourcarpet\"}], \"heatmap\": [{\"colorbar\": {\"outlinewidth\": 0, \"ticks\": \"\"}, \"colorscale\": [[0.0, \"#0d0887\"], [0.1111111111111111, \"#46039f\"], [0.2222222222222222, \"#7201a8\"], [0.3333333333333333, \"#9c179e\"], [0.4444444444444444, \"#bd3786\"], [0.5555555555555556, \"#d8576b\"], [0.6666666666666666, \"#ed7953\"], [0.7777777777777778, \"#fb9f3a\"], [0.8888888888888888, \"#fdca26\"], [1.0, \"#f0f921\"]], \"type\": \"heatmap\"}], \"heatmapgl\": [{\"colorbar\": {\"outlinewidth\": 0, \"ticks\": \"\"}, \"colorscale\": [[0.0, \"#0d0887\"], [0.1111111111111111, \"#46039f\"], [0.2222222222222222, \"#7201a8\"], [0.3333333333333333, \"#9c179e\"], [0.4444444444444444, \"#bd3786\"], [0.5555555555555556, \"#d8576b\"], [0.6666666666666666, \"#ed7953\"], [0.7777777777777778, \"#fb9f3a\"], [0.8888888888888888, \"#fdca26\"], [1.0, \"#f0f921\"]], \"type\": \"heatmapgl\"}], \"histogram\": [{\"marker\": {\"colorbar\": {\"outlinewidth\": 0, \"ticks\": \"\"}}, \"type\": \"histogram\"}], \"histogram2d\": [{\"colorbar\": {\"outlinewidth\": 0, \"ticks\": \"\"}, \"colorscale\": [[0.0, \"#0d0887\"], [0.1111111111111111, \"#46039f\"], [0.2222222222222222, \"#7201a8\"], [0.3333333333333333, \"#9c179e\"], [0.4444444444444444, \"#bd3786\"], [0.5555555555555556, \"#d8576b\"], [0.6666666666666666, \"#ed7953\"], [0.7777777777777778, \"#fb9f3a\"], [0.8888888888888888, \"#fdca26\"], [1.0, \"#f0f921\"]], \"type\": \"histogram2d\"}], \"histogram2dcontour\": [{\"colorbar\": {\"outlinewidth\": 0, \"ticks\": \"\"}, \"colorscale\": [[0.0, \"#0d0887\"], [0.1111111111111111, \"#46039f\"], [0.2222222222222222, \"#7201a8\"], [0.3333333333333333, \"#9c179e\"], [0.4444444444444444, \"#bd3786\"], [0.5555555555555556, \"#d8576b\"], [0.6666666666666666, \"#ed7953\"], [0.7777777777777778, \"#fb9f3a\"], [0.8888888888888888, \"#fdca26\"], [1.0, \"#f0f921\"]], \"type\": \"histogram2dcontour\"}], \"mesh3d\": [{\"colorbar\": {\"outlinewidth\": 0, \"ticks\": \"\"}, \"type\": \"mesh3d\"}], \"parcoords\": [{\"line\": {\"colorbar\": {\"outlinewidth\": 0, \"ticks\": \"\"}}, \"type\": \"parcoords\"}], \"pie\": [{\"automargin\": true, \"type\": \"pie\"}], \"scatter\": [{\"marker\": {\"colorbar\": {\"outlinewidth\": 0, \"ticks\": \"\"}}, \"type\": \"scatter\"}], \"scatter3d\": [{\"line\": {\"colorbar\": {\"outlinewidth\": 0, \"ticks\": \"\"}}, \"marker\": {\"colorbar\": {\"outlinewidth\": 0, \"ticks\": \"\"}}, \"type\": \"scatter3d\"}], \"scattercarpet\": [{\"marker\": {\"colorbar\": {\"outlinewidth\": 0, \"ticks\": \"\"}}, \"type\": \"scattercarpet\"}], \"scattergeo\": [{\"marker\": {\"colorbar\": {\"outlinewidth\": 0, \"ticks\": \"\"}}, \"type\": \"scattergeo\"}], \"scattergl\": [{\"marker\": {\"colorbar\": {\"outlinewidth\": 0, \"ticks\": \"\"}}, \"type\": \"scattergl\"}], \"scattermapbox\": [{\"marker\": {\"colorbar\": {\"outlinewidth\": 0, \"ticks\": \"\"}}, \"type\": \"scattermapbox\"}], \"scatterpolar\": [{\"marker\": {\"colorbar\": {\"outlinewidth\": 0, \"ticks\": \"\"}}, \"type\": \"scatterpolar\"}], \"scatterpolargl\": [{\"marker\": {\"colorbar\": {\"outlinewidth\": 0, \"ticks\": \"\"}}, \"type\": \"scatterpolargl\"}], \"scatterternary\": [{\"marker\": {\"colorbar\": {\"outlinewidth\": 0, \"ticks\": \"\"}}, \"type\": \"scatterternary\"}], \"surface\": [{\"colorbar\": {\"outlinewidth\": 0, \"ticks\": \"\"}, \"colorscale\": [[0.0, \"#0d0887\"], [0.1111111111111111, \"#46039f\"], [0.2222222222222222, \"#7201a8\"], [0.3333333333333333, \"#9c179e\"], [0.4444444444444444, \"#bd3786\"], [0.5555555555555556, \"#d8576b\"], [0.6666666666666666, \"#ed7953\"], [0.7777777777777778, \"#fb9f3a\"], [0.8888888888888888, \"#fdca26\"], [1.0, \"#f0f921\"]], \"type\": \"surface\"}], \"table\": [{\"cells\": {\"fill\": {\"color\": \"#EBF0F8\"}, \"line\": {\"color\": \"white\"}}, \"header\": {\"fill\": {\"color\": \"#C8D4E3\"}, \"line\": {\"color\": \"white\"}}, \"type\": \"table\"}]}, \"layout\": {\"annotationdefaults\": {\"arrowcolor\": \"#2a3f5f\", \"arrowhead\": 0, \"arrowwidth\": 1}, \"coloraxis\": {\"colorbar\": {\"outlinewidth\": 0, \"ticks\": \"\"}}, \"colorscale\": {\"diverging\": [[0, \"#8e0152\"], [0.1, \"#c51b7d\"], [0.2, \"#de77ae\"], [0.3, \"#f1b6da\"], [0.4, \"#fde0ef\"], [0.5, \"#f7f7f7\"], [0.6, \"#e6f5d0\"], [0.7, \"#b8e186\"], [0.8, \"#7fbc41\"], [0.9, \"#4d9221\"], [1, \"#276419\"]], \"sequential\": [[0.0, \"#0d0887\"], [0.1111111111111111, \"#46039f\"], [0.2222222222222222, \"#7201a8\"], [0.3333333333333333, \"#9c179e\"], [0.4444444444444444, \"#bd3786\"], [0.5555555555555556, \"#d8576b\"], [0.6666666666666666, \"#ed7953\"], [0.7777777777777778, \"#fb9f3a\"], [0.8888888888888888, \"#fdca26\"], [1.0, \"#f0f921\"]], \"sequentialminus\": [[0.0, \"#0d0887\"], [0.1111111111111111, \"#46039f\"], [0.2222222222222222, \"#7201a8\"], [0.3333333333333333, \"#9c179e\"], [0.4444444444444444, \"#bd3786\"], [0.5555555555555556, \"#d8576b\"], [0.6666666666666666, \"#ed7953\"], [0.7777777777777778, \"#fb9f3a\"], [0.8888888888888888, \"#fdca26\"], [1.0, \"#f0f921\"]]}, \"colorway\": [\"#636efa\", \"#EF553B\", \"#00cc96\", \"#ab63fa\", \"#FFA15A\", \"#19d3f3\", \"#FF6692\", \"#B6E880\", \"#FF97FF\", \"#FECB52\"], \"font\": {\"color\": \"#2a3f5f\"}, \"geo\": {\"bgcolor\": \"white\", \"lakecolor\": \"white\", \"landcolor\": \"#E5ECF6\", \"showlakes\": true, \"showland\": true, \"subunitcolor\": \"white\"}, \"hoverlabel\": {\"align\": \"left\"}, \"hovermode\": \"closest\", \"mapbox\": {\"style\": \"light\"}, \"paper_bgcolor\": \"white\", \"plot_bgcolor\": \"#E5ECF6\", \"polar\": {\"angularaxis\": {\"gridcolor\": \"white\", \"linecolor\": \"white\", \"ticks\": \"\"}, \"bgcolor\": \"#E5ECF6\", \"radialaxis\": {\"gridcolor\": \"white\", \"linecolor\": \"white\", \"ticks\": \"\"}}, \"scene\": {\"xaxis\": {\"backgroundcolor\": \"#E5ECF6\", \"gridcolor\": \"white\", \"gridwidth\": 2, \"linecolor\": \"white\", \"showbackground\": true, \"ticks\": \"\", \"zerolinecolor\": \"white\"}, \"yaxis\": {\"backgroundcolor\": \"#E5ECF6\", \"gridcolor\": \"white\", \"gridwidth\": 2, \"linecolor\": \"white\", \"showbackground\": true, \"ticks\": \"\", \"zerolinecolor\": \"white\"}, \"zaxis\": {\"backgroundcolor\": \"#E5ECF6\", \"gridcolor\": \"white\", \"gridwidth\": 2, \"linecolor\": \"white\", \"showbackground\": true, \"ticks\": \"\", \"zerolinecolor\": \"white\"}}, \"shapedefaults\": {\"line\": {\"color\": \"#2a3f5f\"}}, \"ternary\": {\"aaxis\": {\"gridcolor\": \"white\", \"linecolor\": \"white\", \"ticks\": \"\"}, \"baxis\": {\"gridcolor\": \"white\", \"linecolor\": \"white\", \"ticks\": \"\"}, \"bgcolor\": \"#E5ECF6\", \"caxis\": {\"gridcolor\": \"white\", \"linecolor\": \"white\", \"ticks\": \"\"}}, \"title\": {\"x\": 0.05}, \"xaxis\": {\"automargin\": true, \"gridcolor\": \"white\", \"linecolor\": \"white\", \"ticks\": \"\", \"title\": {\"standoff\": 15}, \"zerolinecolor\": \"white\", \"zerolinewidth\": 2}, \"yaxis\": {\"automargin\": true, \"gridcolor\": \"white\", \"linecolor\": \"white\", \"ticks\": \"\", \"title\": {\"standoff\": 15}, \"zerolinecolor\": \"white\", \"zerolinewidth\": 2}}}, \"xaxis\": {\"anchor\": \"y\", \"domain\": [0.0, 1.0], \"title\": {\"text\": \"heat\"}}, \"yaxis\": {\"anchor\": \"x\", \"domain\": [0.0, 1.0], \"title\": {\"text\": \"length\"}}},\n",
              "                        {\"responsive\": true}\n",
              "                    ).then(function(){\n",
              "                            \n",
              "var gd = document.getElementById('e131b64f-2146-4b4d-9ea0-1e8e55386b62');\n",
              "var x = new MutationObserver(function (mutations, observer) {{\n",
              "        var display = window.getComputedStyle(gd).display;\n",
              "        if (!display || display === 'none') {{\n",
              "            console.log([gd, 'removed!']);\n",
              "            Plotly.purge(gd);\n",
              "            observer.disconnect();\n",
              "        }}\n",
              "}});\n",
              "\n",
              "// Listen for the removal of the full notebook cells\n",
              "var notebookContainer = gd.closest('#notebook-container');\n",
              "if (notebookContainer) {{\n",
              "    x.observe(notebookContainer, {childList: true});\n",
              "}}\n",
              "\n",
              "// Listen for the clearing of the current output cell\n",
              "var outputEl = gd.closest('.output');\n",
              "if (outputEl) {{\n",
              "    x.observe(outputEl, {childList: true});\n",
              "}}\n",
              "\n",
              "                        })\n",
              "                };\n",
              "                \n",
              "            </script>\n",
              "        </div>\n",
              "</body>\n",
              "</html>"
            ]
          },
          "metadata": {
            "tags": []
          }
        }
      ]
    },
    {
      "cell_type": "markdown",
      "metadata": {
        "id": "lZkJNaYkFrHh"
      },
      "source": [
        "回帰直線と観測された値の差が残差で、それを最小にするような直線を探す方法が最小二乗法でした。"
      ]
    },
    {
      "cell_type": "markdown",
      "metadata": {
        "id": "hbEATKRtFrHi"
      },
      "source": [
        "ここからは、実際のデータを用いてビールの消費量と気候の関係性を分析します。  \n",
        "#### RQ：気温は、ビールの消費量に影響を与える。  <a id='sec1_1'></a>   \n",
        "RQ(Research Question)  \n",
        "$Y = \\hat{\\alpha} + \\hat{\\beta}X + \\hat{u}$  \n",
        "$Y$:ビールの消費量,$X$:都道府県別平均気温"
      ]
    },
    {
      "cell_type": "markdown",
      "metadata": {
        "id": "Z70l9VziFrHi"
      },
      "source": [
        "必要なエクセルデータはgithubにあげていますので、下のURLからダウンロードください。　　\n",
        "https://github.com/soleildatadojo/Python-/tree/Python%E5%AE%9F%E8%A8%BC%E5%88%86%E6%9E%90%E5%85%A5%E9%96%80"
      ]
    },
    {
      "cell_type": "code",
      "metadata": {
        "colab": {
          "base_uri": "https://localhost:8080/",
          "height": 1000
        },
        "id": "s_c3lySMFrHj",
        "outputId": "27866db6-f253-4f64-8216-c28a9291226d"
      },
      "source": [
        "df = pd.read_csv('beer.csv').drop(\"Unnamed: 0\",axis=1)\n",
        "df"
      ],
      "execution_count": 7,
      "outputs": [
        {
          "output_type": "execute_result",
          "data": {
            "text/html": [
              "<div>\n",
              "<style scoped>\n",
              "    .dataframe tbody tr th:only-of-type {\n",
              "        vertical-align: middle;\n",
              "    }\n",
              "\n",
              "    .dataframe tbody tr th {\n",
              "        vertical-align: top;\n",
              "    }\n",
              "\n",
              "    .dataframe thead th {\n",
              "        text-align: right;\n",
              "    }\n",
              "</style>\n",
              "<table border=\"1\" class=\"dataframe\">\n",
              "  <thead>\n",
              "    <tr style=\"text-align: right;\">\n",
              "      <th></th>\n",
              "      <th>prefecture</th>\n",
              "      <th>beer</th>\n",
              "      <th>adult</th>\n",
              "      <th>per_beer</th>\n",
              "      <th>ave_temp</th>\n",
              "    </tr>\n",
              "  </thead>\n",
              "  <tbody>\n",
              "    <tr>\n",
              "      <th>0</th>\n",
              "      <td>北海道</td>\n",
              "      <td>113097000</td>\n",
              "      <td>4509363</td>\n",
              "      <td>25.080483</td>\n",
              "      <td>9.5</td>\n",
              "    </tr>\n",
              "    <tr>\n",
              "      <th>1</th>\n",
              "      <td>青森</td>\n",
              "      <td>23177000</td>\n",
              "      <td>1103183</td>\n",
              "      <td>21.009207</td>\n",
              "      <td>11.0</td>\n",
              "    </tr>\n",
              "    <tr>\n",
              "      <th>2</th>\n",
              "      <td>岩手</td>\n",
              "      <td>24879000</td>\n",
              "      <td>1059293</td>\n",
              "      <td>23.486420</td>\n",
              "      <td>11.0</td>\n",
              "    </tr>\n",
              "    <tr>\n",
              "      <th>3</th>\n",
              "      <td>宮城</td>\n",
              "      <td>43152000</td>\n",
              "      <td>1915548</td>\n",
              "      <td>22.527235</td>\n",
              "      <td>13.6</td>\n",
              "    </tr>\n",
              "    <tr>\n",
              "      <th>4</th>\n",
              "      <td>秋田</td>\n",
              "      <td>19229000</td>\n",
              "      <td>868937</td>\n",
              "      <td>22.129337</td>\n",
              "      <td>12.3</td>\n",
              "    </tr>\n",
              "    <tr>\n",
              "      <th>5</th>\n",
              "      <td>山形</td>\n",
              "      <td>19776000</td>\n",
              "      <td>924199</td>\n",
              "      <td>21.397989</td>\n",
              "      <td>12.6</td>\n",
              "    </tr>\n",
              "    <tr>\n",
              "      <th>6</th>\n",
              "      <td>福島</td>\n",
              "      <td>34195000</td>\n",
              "      <td>1595503</td>\n",
              "      <td>21.432113</td>\n",
              "      <td>14.2</td>\n",
              "    </tr>\n",
              "    <tr>\n",
              "      <th>7</th>\n",
              "      <td>茨城</td>\n",
              "      <td>42922000</td>\n",
              "      <td>2443898</td>\n",
              "      <td>17.562926</td>\n",
              "      <td>15.3</td>\n",
              "    </tr>\n",
              "    <tr>\n",
              "      <th>8</th>\n",
              "      <td>栃木</td>\n",
              "      <td>30745000</td>\n",
              "      <td>1642620</td>\n",
              "      <td>18.717050</td>\n",
              "      <td>15.2</td>\n",
              "    </tr>\n",
              "    <tr>\n",
              "      <th>9</th>\n",
              "      <td>群馬</td>\n",
              "      <td>29684000</td>\n",
              "      <td>1646104</td>\n",
              "      <td>18.032882</td>\n",
              "      <td>16.1</td>\n",
              "    </tr>\n",
              "    <tr>\n",
              "      <th>10</th>\n",
              "      <td>埼玉</td>\n",
              "      <td>90860000</td>\n",
              "      <td>6096407</td>\n",
              "      <td>14.903861</td>\n",
              "      <td>16.4</td>\n",
              "    </tr>\n",
              "    <tr>\n",
              "      <th>11</th>\n",
              "      <td>新潟</td>\n",
              "      <td>45720000</td>\n",
              "      <td>1907772</td>\n",
              "      <td>23.965128</td>\n",
              "      <td>14.3</td>\n",
              "    </tr>\n",
              "    <tr>\n",
              "      <th>12</th>\n",
              "      <td>長野</td>\n",
              "      <td>39741000</td>\n",
              "      <td>1746050</td>\n",
              "      <td>22.760517</td>\n",
              "      <td>13.0</td>\n",
              "    </tr>\n",
              "    <tr>\n",
              "      <th>13</th>\n",
              "      <td>千葉</td>\n",
              "      <td>85494000</td>\n",
              "      <td>5231131</td>\n",
              "      <td>16.343311</td>\n",
              "      <td>17.2</td>\n",
              "    </tr>\n",
              "    <tr>\n",
              "      <th>14</th>\n",
              "      <td>東京</td>\n",
              "      <td>466125000</td>\n",
              "      <td>11493560</td>\n",
              "      <td>40.555320</td>\n",
              "      <td>16.8</td>\n",
              "    </tr>\n",
              "    <tr>\n",
              "      <th>15</th>\n",
              "      <td>神奈川</td>\n",
              "      <td>152317000</td>\n",
              "      <td>7601252</td>\n",
              "      <td>20.038409</td>\n",
              "      <td>17.1</td>\n",
              "    </tr>\n",
              "    <tr>\n",
              "      <th>16</th>\n",
              "      <td>山梨</td>\n",
              "      <td>13434000</td>\n",
              "      <td>696023</td>\n",
              "      <td>19.301086</td>\n",
              "      <td>16.0</td>\n",
              "    </tr>\n",
              "    <tr>\n",
              "      <th>17</th>\n",
              "      <td>富山</td>\n",
              "      <td>21496000</td>\n",
              "      <td>893015</td>\n",
              "      <td>24.071264</td>\n",
              "      <td>15.0</td>\n",
              "    </tr>\n",
              "    <tr>\n",
              "      <th>18</th>\n",
              "      <td>石川</td>\n",
              "      <td>22385000</td>\n",
              "      <td>946198</td>\n",
              "      <td>23.657839</td>\n",
              "      <td>15.5</td>\n",
              "    </tr>\n",
              "    <tr>\n",
              "      <th>19</th>\n",
              "      <td>福井</td>\n",
              "      <td>13486000</td>\n",
              "      <td>648910</td>\n",
              "      <td>20.782543</td>\n",
              "      <td>15.3</td>\n",
              "    </tr>\n",
              "    <tr>\n",
              "      <th>20</th>\n",
              "      <td>岐阜</td>\n",
              "      <td>25428000</td>\n",
              "      <td>1687256</td>\n",
              "      <td>15.070624</td>\n",
              "      <td>16.9</td>\n",
              "    </tr>\n",
              "    <tr>\n",
              "      <th>21</th>\n",
              "      <td>静岡</td>\n",
              "      <td>57531000</td>\n",
              "      <td>3093014</td>\n",
              "      <td>18.600304</td>\n",
              "      <td>17.7</td>\n",
              "    </tr>\n",
              "    <tr>\n",
              "      <th>22</th>\n",
              "      <td>愛知</td>\n",
              "      <td>131666000</td>\n",
              "      <td>6145895</td>\n",
              "      <td>21.423405</td>\n",
              "      <td>16.9</td>\n",
              "    </tr>\n",
              "    <tr>\n",
              "      <th>23</th>\n",
              "      <td>三重</td>\n",
              "      <td>26243000</td>\n",
              "      <td>1512253</td>\n",
              "      <td>17.353578</td>\n",
              "      <td>16.9</td>\n",
              "    </tr>\n",
              "    <tr>\n",
              "      <th>24</th>\n",
              "      <td>滋賀</td>\n",
              "      <td>15739000</td>\n",
              "      <td>1142334</td>\n",
              "      <td>13.777932</td>\n",
              "      <td>15.7</td>\n",
              "    </tr>\n",
              "    <tr>\n",
              "      <th>25</th>\n",
              "      <td>京都</td>\n",
              "      <td>57319000</td>\n",
              "      <td>2126007</td>\n",
              "      <td>26.960871</td>\n",
              "      <td>16.9</td>\n",
              "    </tr>\n",
              "    <tr>\n",
              "      <th>26</th>\n",
              "      <td>大阪</td>\n",
              "      <td>215191000</td>\n",
              "      <td>7330851</td>\n",
              "      <td>29.354164</td>\n",
              "      <td>17.4</td>\n",
              "    </tr>\n",
              "    <tr>\n",
              "      <th>27</th>\n",
              "      <td>兵庫</td>\n",
              "      <td>93560000</td>\n",
              "      <td>4598876</td>\n",
              "      <td>20.344101</td>\n",
              "      <td>17.4</td>\n",
              "    </tr>\n",
              "    <tr>\n",
              "      <th>28</th>\n",
              "      <td>奈良</td>\n",
              "      <td>18448000</td>\n",
              "      <td>1136450</td>\n",
              "      <td>16.233006</td>\n",
              "      <td>16.2</td>\n",
              "    </tr>\n",
              "    <tr>\n",
              "      <th>29</th>\n",
              "      <td>和歌山</td>\n",
              "      <td>14490000</td>\n",
              "      <td>813891</td>\n",
              "      <td>17.803367</td>\n",
              "      <td>17.3</td>\n",
              "    </tr>\n",
              "    <tr>\n",
              "      <th>30</th>\n",
              "      <td>鳥取</td>\n",
              "      <td>10002000</td>\n",
              "      <td>470863</td>\n",
              "      <td>21.241847</td>\n",
              "      <td>15.7</td>\n",
              "    </tr>\n",
              "    <tr>\n",
              "      <th>31</th>\n",
              "      <td>島根</td>\n",
              "      <td>11323000</td>\n",
              "      <td>572561</td>\n",
              "      <td>19.776059</td>\n",
              "      <td>15.6</td>\n",
              "    </tr>\n",
              "    <tr>\n",
              "      <th>32</th>\n",
              "      <td>岡山</td>\n",
              "      <td>25022000</td>\n",
              "      <td>1576199</td>\n",
              "      <td>15.874899</td>\n",
              "      <td>16.3</td>\n",
              "    </tr>\n",
              "    <tr>\n",
              "      <th>33</th>\n",
              "      <td>広島</td>\n",
              "      <td>50304000</td>\n",
              "      <td>2339501</td>\n",
              "      <td>21.502021</td>\n",
              "      <td>16.8</td>\n",
              "    </tr>\n",
              "    <tr>\n",
              "      <th>34</th>\n",
              "      <td>山口</td>\n",
              "      <td>21732000</td>\n",
              "      <td>1165183</td>\n",
              "      <td>18.651148</td>\n",
              "      <td>16.0</td>\n",
              "    </tr>\n",
              "    <tr>\n",
              "      <th>35</th>\n",
              "      <td>徳島</td>\n",
              "      <td>12122000</td>\n",
              "      <td>634532</td>\n",
              "      <td>19.103843</td>\n",
              "      <td>17.1</td>\n",
              "    </tr>\n",
              "    <tr>\n",
              "      <th>36</th>\n",
              "      <td>香川</td>\n",
              "      <td>15269000</td>\n",
              "      <td>819653</td>\n",
              "      <td>18.628615</td>\n",
              "      <td>17.0</td>\n",
              "    </tr>\n",
              "    <tr>\n",
              "      <th>37</th>\n",
              "      <td>愛媛</td>\n",
              "      <td>23029000</td>\n",
              "      <td>1160477</td>\n",
              "      <td>19.844426</td>\n",
              "      <td>17.1</td>\n",
              "    </tr>\n",
              "    <tr>\n",
              "      <th>38</th>\n",
              "      <td>高知</td>\n",
              "      <td>15286000</td>\n",
              "      <td>609848</td>\n",
              "      <td>25.065262</td>\n",
              "      <td>17.4</td>\n",
              "    </tr>\n",
              "    <tr>\n",
              "      <th>39</th>\n",
              "      <td>福岡</td>\n",
              "      <td>91566000</td>\n",
              "      <td>4194243</td>\n",
              "      <td>21.831353</td>\n",
              "      <td>17.7</td>\n",
              "    </tr>\n",
              "    <tr>\n",
              "      <th>40</th>\n",
              "      <td>佐賀</td>\n",
              "      <td>13183000</td>\n",
              "      <td>675917</td>\n",
              "      <td>19.503874</td>\n",
              "      <td>17.4</td>\n",
              "    </tr>\n",
              "    <tr>\n",
              "      <th>41</th>\n",
              "      <td>長崎</td>\n",
              "      <td>22218000</td>\n",
              "      <td>1136351</td>\n",
              "      <td>19.552057</td>\n",
              "      <td>17.7</td>\n",
              "    </tr>\n",
              "    <tr>\n",
              "      <th>42</th>\n",
              "      <td>熊本</td>\n",
              "      <td>27073000</td>\n",
              "      <td>1463363</td>\n",
              "      <td>18.500536</td>\n",
              "      <td>17.5</td>\n",
              "    </tr>\n",
              "    <tr>\n",
              "      <th>43</th>\n",
              "      <td>大分</td>\n",
              "      <td>19316000</td>\n",
              "      <td>968502</td>\n",
              "      <td>19.944202</td>\n",
              "      <td>17.1</td>\n",
              "    </tr>\n",
              "    <tr>\n",
              "      <th>44</th>\n",
              "      <td>宮崎</td>\n",
              "      <td>19994000</td>\n",
              "      <td>909293</td>\n",
              "      <td>21.988512</td>\n",
              "      <td>17.8</td>\n",
              "    </tr>\n",
              "    <tr>\n",
              "      <th>45</th>\n",
              "      <td>鹿児島</td>\n",
              "      <td>20674000</td>\n",
              "      <td>1355120</td>\n",
              "      <td>15.256213</td>\n",
              "      <td>19.0</td>\n",
              "    </tr>\n",
              "  </tbody>\n",
              "</table>\n",
              "</div>"
            ],
            "text/plain": [
              "   prefecture       beer     adult   per_beer  ave_temp\n",
              "0         北海道  113097000   4509363  25.080483       9.5\n",
              "1          青森   23177000   1103183  21.009207      11.0\n",
              "2          岩手   24879000   1059293  23.486420      11.0\n",
              "3          宮城   43152000   1915548  22.527235      13.6\n",
              "4          秋田   19229000    868937  22.129337      12.3\n",
              "5          山形   19776000    924199  21.397989      12.6\n",
              "6          福島   34195000   1595503  21.432113      14.2\n",
              "7          茨城   42922000   2443898  17.562926      15.3\n",
              "8          栃木   30745000   1642620  18.717050      15.2\n",
              "9          群馬   29684000   1646104  18.032882      16.1\n",
              "10         埼玉   90860000   6096407  14.903861      16.4\n",
              "11         新潟   45720000   1907772  23.965128      14.3\n",
              "12         長野   39741000   1746050  22.760517      13.0\n",
              "13         千葉   85494000   5231131  16.343311      17.2\n",
              "14         東京  466125000  11493560  40.555320      16.8\n",
              "15        神奈川  152317000   7601252  20.038409      17.1\n",
              "16         山梨   13434000    696023  19.301086      16.0\n",
              "17         富山   21496000    893015  24.071264      15.0\n",
              "18         石川   22385000    946198  23.657839      15.5\n",
              "19         福井   13486000    648910  20.782543      15.3\n",
              "20         岐阜   25428000   1687256  15.070624      16.9\n",
              "21         静岡   57531000   3093014  18.600304      17.7\n",
              "22         愛知  131666000   6145895  21.423405      16.9\n",
              "23         三重   26243000   1512253  17.353578      16.9\n",
              "24         滋賀   15739000   1142334  13.777932      15.7\n",
              "25         京都   57319000   2126007  26.960871      16.9\n",
              "26         大阪  215191000   7330851  29.354164      17.4\n",
              "27         兵庫   93560000   4598876  20.344101      17.4\n",
              "28         奈良   18448000   1136450  16.233006      16.2\n",
              "29        和歌山   14490000    813891  17.803367      17.3\n",
              "30         鳥取   10002000    470863  21.241847      15.7\n",
              "31         島根   11323000    572561  19.776059      15.6\n",
              "32         岡山   25022000   1576199  15.874899      16.3\n",
              "33         広島   50304000   2339501  21.502021      16.8\n",
              "34         山口   21732000   1165183  18.651148      16.0\n",
              "35         徳島   12122000    634532  19.103843      17.1\n",
              "36         香川   15269000    819653  18.628615      17.0\n",
              "37         愛媛   23029000   1160477  19.844426      17.1\n",
              "38         高知   15286000    609848  25.065262      17.4\n",
              "39         福岡   91566000   4194243  21.831353      17.7\n",
              "40         佐賀   13183000    675917  19.503874      17.4\n",
              "41         長崎   22218000   1136351  19.552057      17.7\n",
              "42         熊本   27073000   1463363  18.500536      17.5\n",
              "43         大分   19316000    968502  19.944202      17.1\n",
              "44         宮崎   19994000    909293  21.988512      17.8\n",
              "45        鹿児島   20674000   1355120  15.256213      19.0"
            ]
          },
          "metadata": {
            "tags": []
          },
          "execution_count": 7
        }
      ]
    },
    {
      "cell_type": "markdown",
      "metadata": {
        "id": "ouV-0rAoFrHj"
      },
      "source": [
        "### ヒストグラム <a id='sec1_2'></a>  \n",
        "[先頭に戻る](#top)"
      ]
    },
    {
      "cell_type": "code",
      "metadata": {
        "colab": {
          "base_uri": "https://localhost:8080/",
          "height": 284
        },
        "id": "R5BdFTn3FrHk",
        "outputId": "330a072c-62cb-453d-ec25-6b3d1e95280d"
      },
      "source": [
        "#ビールの消費量を、ヒストグラムで出力する。\n",
        "plt.hist(df[\"per_beer\"],bins = 46,ec = \"white\")\n",
        "plt.xlabel(\"per_beer\")\n",
        "plt.ylabel(\"count\")\n",
        "plt.show()\n",
        "pass"
      ],
      "execution_count": 8,
      "outputs": [
        {
          "output_type": "display_data",
          "data": {
            "image/png": "[encoded data removed]",
            "text/plain": [
              "<Figure size 432x288 with 1 Axes>"
            ]
          },
          "metadata": {
            "tags": [],
            "needs_background": "light"
          }
        }
      ]
    },
    {
      "cell_type": "code",
      "metadata": {
        "colab": {
          "base_uri": "https://localhost:8080/",
          "height": 542
        },
        "id": "H1ZjwEalFrHo",
        "outputId": "4d37d56f-3c5d-4bac-a6df-51a98739a00c"
      },
      "source": [
        "#ビール消費量のヒストグラムをplotlyで出力する。\n",
        "hist = px.histogram(df,x=df[\"per_beer\"],nbins=46,labels={'count':'頻度','per_beer':'一人当たりビール消費量'})\n",
        "hist"
      ],
      "execution_count": 9,
      "outputs": [
        {
          "output_type": "display_data",
          "data": {
            "text/html": [
              "<html>\n",
              "<head><meta charset=\"utf-8\" /></head>\n",
              "<body>\n",
              "    <div>\n",
              "            <script src=\"https://cdnjs.cloudflare.com/ajax/libs/mathjax/2.7.5/MathJax.js?config=TeX-AMS-MML_SVG\"></script><script type=\"text/javascript\">if (window.MathJax) {MathJax.Hub.Config({SVG: {font: \"STIX-Web\"}});}</script>\n",
              "                <script type=\"text/javascript\">window.PlotlyConfig = {MathJaxConfig: 'local'};</script>\n",
              "        <script src=\"https://cdn.plot.ly/plotly-latest.min.js\"></script>    \n",
              "            <div id=\"f57ba77a-3227-47c3-aae2-a5bebce5cb7f\" class=\"plotly-graph-div\" style=\"height:525px; width:100%;\"></div>\n",
              "            <script type=\"text/javascript\">\n",
              "                \n",
              "                    window.PLOTLYENV=window.PLOTLYENV || {};\n",
              "                    \n",
              "                if (document.getElementById(\"f57ba77a-3227-47c3-aae2-a5bebce5cb7f\")) {\n",
              "                    Plotly.newPlot(\n",
              "                        'f57ba77a-3227-47c3-aae2-a5bebce5cb7f',\n",
              "                        [{\"alignmentgroup\": \"True\", \"bingroup\": \"x\", \"hoverlabel\": {\"namelength\": 0}, \"hovertemplate\": \"\\u4e00\\u4eba\\u5f53\\u305f\\u308a\\u30d3\\u30fc\\u30eb\\u6d88\\u8cbb\\u91cf=%{x}<br>count=%{y}\", \"legendgroup\": \"\", \"marker\": {\"color\": \"#636efa\"}, \"name\": \"\", \"nbinsx\": 46, \"offsetgroup\": \"\", \"orientation\": \"v\", \"showlegend\": false, \"type\": \"histogram\", \"x\": [25.080482542656245, 21.009206994669057, 23.48641971579157, 22.527235026217042, 22.129337339761108, 21.39798896125185, 21.432112631565094, 17.56292611230092, 18.717049591506253, 18.032882491021226, 14.903860585423512, 23.96512790836641, 22.76051659459924, 16.343310844251462, 40.55531967466999, 20.038409462020205, 19.301086314676386, 24.07126420048935, 23.657839056941572, 20.782543033702673, 15.0706235449748, 18.600303781360193, 21.423405378712133, 17.353577741290646, 13.777931848303561, 26.960870777941928, 29.35416365712521, 20.34410147175093, 16.233006291521846, 17.80336678990184, 21.241847416339787, 19.77605879548205, 15.874899045107885, 21.502021157503247, 18.651147502152018, 19.10384346258345, 18.628614791869246, 19.84442604204995, 25.06526216368669, 21.831353119025287, 19.50387399636346, 19.552057418878494, 18.50053609391518, 19.944202490031, 21.98851195379267, 15.25621347186965], \"xaxis\": \"x\", \"yaxis\": \"y\"}],\n",
              "                        {\"barmode\": \"relative\", \"legend\": {\"tracegroupgap\": 0}, \"margin\": {\"t\": 60}, \"template\": {\"data\": {\"bar\": [{\"error_x\": {\"color\": \"#2a3f5f\"}, \"error_y\": {\"color\": \"#2a3f5f\"}, \"marker\": {\"line\": {\"color\": \"#E5ECF6\", \"width\": 0.5}}, \"type\": \"bar\"}], \"barpolar\": [{\"marker\": {\"line\": {\"color\": \"#E5ECF6\", \"width\": 0.5}}, \"type\": \"barpolar\"}], \"carpet\": [{\"aaxis\": {\"endlinecolor\": \"#2a3f5f\", \"gridcolor\": \"white\", \"linecolor\": \"white\", \"minorgridcolor\": \"white\", \"startlinecolor\": \"#2a3f5f\"}, \"baxis\": {\"endlinecolor\": \"#2a3f5f\", \"gridcolor\": \"white\", \"linecolor\": \"white\", \"minorgridcolor\": \"white\", \"startlinecolor\": \"#2a3f5f\"}, \"type\": \"carpet\"}], \"choropleth\": [{\"colorbar\": {\"outlinewidth\": 0, \"ticks\": \"\"}, \"type\": \"choropleth\"}], \"contour\": [{\"colorbar\": {\"outlinewidth\": 0, \"ticks\": \"\"}, \"colorscale\": [[0.0, \"#0d0887\"], [0.1111111111111111, \"#46039f\"], [0.2222222222222222, \"#7201a8\"], [0.3333333333333333, \"#9c179e\"], [0.4444444444444444, \"#bd3786\"], [0.5555555555555556, \"#d8576b\"], [0.6666666666666666, \"#ed7953\"], [0.7777777777777778, \"#fb9f3a\"], [0.8888888888888888, \"#fdca26\"], [1.0, \"#f0f921\"]], \"type\": \"contour\"}], \"contourcarpet\": [{\"colorbar\": {\"outlinewidth\": 0, \"ticks\": \"\"}, \"type\": \"contourcarpet\"}], \"heatmap\": [{\"colorbar\": {\"outlinewidth\": 0, \"ticks\": \"\"}, \"colorscale\": [[0.0, \"#0d0887\"], [0.1111111111111111, \"#46039f\"], [0.2222222222222222, \"#7201a8\"], [0.3333333333333333, \"#9c179e\"], [0.4444444444444444, \"#bd3786\"], [0.5555555555555556, \"#d8576b\"], [0.6666666666666666, \"#ed7953\"], [0.7777777777777778, \"#fb9f3a\"], [0.8888888888888888, \"#fdca26\"], [1.0, \"#f0f921\"]], \"type\": \"heatmap\"}], \"heatmapgl\": [{\"colorbar\": {\"outlinewidth\": 0, \"ticks\": \"\"}, \"colorscale\": [[0.0, \"#0d0887\"], [0.1111111111111111, \"#46039f\"], [0.2222222222222222, \"#7201a8\"], [0.3333333333333333, \"#9c179e\"], [0.4444444444444444, \"#bd3786\"], [0.5555555555555556, \"#d8576b\"], [0.6666666666666666, \"#ed7953\"], [0.7777777777777778, \"#fb9f3a\"], [0.8888888888888888, \"#fdca26\"], [1.0, \"#f0f921\"]], \"type\": \"heatmapgl\"}], \"histogram\": [{\"marker\": {\"colorbar\": {\"outlinewidth\": 0, \"ticks\": \"\"}}, \"type\": \"histogram\"}], \"histogram2d\": [{\"colorbar\": {\"outlinewidth\": 0, \"ticks\": \"\"}, \"colorscale\": [[0.0, \"#0d0887\"], [0.1111111111111111, \"#46039f\"], [0.2222222222222222, \"#7201a8\"], [0.3333333333333333, \"#9c179e\"], [0.4444444444444444, \"#bd3786\"], [0.5555555555555556, \"#d8576b\"], [0.6666666666666666, \"#ed7953\"], [0.7777777777777778, \"#fb9f3a\"], [0.8888888888888888, \"#fdca26\"], [1.0, \"#f0f921\"]], \"type\": \"histogram2d\"}], \"histogram2dcontour\": [{\"colorbar\": {\"outlinewidth\": 0, \"ticks\": \"\"}, \"colorscale\": [[0.0, \"#0d0887\"], [0.1111111111111111, \"#46039f\"], [0.2222222222222222, \"#7201a8\"], [0.3333333333333333, \"#9c179e\"], [0.4444444444444444, \"#bd3786\"], [0.5555555555555556, \"#d8576b\"], [0.6666666666666666, \"#ed7953\"], [0.7777777777777778, \"#fb9f3a\"], [0.8888888888888888, \"#fdca26\"], [1.0, \"#f0f921\"]], \"type\": \"histogram2dcontour\"}], \"mesh3d\": [{\"colorbar\": {\"outlinewidth\": 0, \"ticks\": \"\"}, \"type\": \"mesh3d\"}], \"parcoords\": [{\"line\": {\"colorbar\": {\"outlinewidth\": 0, \"ticks\": \"\"}}, \"type\": \"parcoords\"}], \"pie\": [{\"automargin\": true, \"type\": \"pie\"}], \"scatter\": [{\"marker\": {\"colorbar\": {\"outlinewidth\": 0, \"ticks\": \"\"}}, \"type\": \"scatter\"}], \"scatter3d\": [{\"line\": {\"colorbar\": {\"outlinewidth\": 0, \"ticks\": \"\"}}, \"marker\": {\"colorbar\": {\"outlinewidth\": 0, \"ticks\": \"\"}}, \"type\": \"scatter3d\"}], \"scattercarpet\": [{\"marker\": {\"colorbar\": {\"outlinewidth\": 0, \"ticks\": \"\"}}, \"type\": \"scattercarpet\"}], \"scattergeo\": [{\"marker\": {\"colorbar\": {\"outlinewidth\": 0, \"ticks\": \"\"}}, \"type\": \"scattergeo\"}], \"scattergl\": [{\"marker\": {\"colorbar\": {\"outlinewidth\": 0, \"ticks\": \"\"}}, \"type\": \"scattergl\"}], \"scattermapbox\": [{\"marker\": {\"colorbar\": {\"outlinewidth\": 0, \"ticks\": \"\"}}, \"type\": \"scattermapbox\"}], \"scatterpolar\": [{\"marker\": {\"colorbar\": {\"outlinewidth\": 0, \"ticks\": \"\"}}, \"type\": \"scatterpolar\"}], \"scatterpolargl\": [{\"marker\": {\"colorbar\": {\"outlinewidth\": 0, \"ticks\": \"\"}}, \"type\": \"scatterpolargl\"}], \"scatterternary\": [{\"marker\": {\"colorbar\": {\"outlinewidth\": 0, \"ticks\": \"\"}}, \"type\": \"scatterternary\"}], \"surface\": [{\"colorbar\": {\"outlinewidth\": 0, \"ticks\": \"\"}, \"colorscale\": [[0.0, \"#0d0887\"], [0.1111111111111111, \"#46039f\"], [0.2222222222222222, \"#7201a8\"], [0.3333333333333333, \"#9c179e\"], [0.4444444444444444, \"#bd3786\"], [0.5555555555555556, \"#d8576b\"], [0.6666666666666666, \"#ed7953\"], [0.7777777777777778, \"#fb9f3a\"], [0.8888888888888888, \"#fdca26\"], [1.0, \"#f0f921\"]], \"type\": \"surface\"}], \"table\": [{\"cells\": {\"fill\": {\"color\": \"#EBF0F8\"}, \"line\": {\"color\": \"white\"}}, \"header\": {\"fill\": {\"color\": \"#C8D4E3\"}, \"line\": {\"color\": \"white\"}}, \"type\": \"table\"}]}, \"layout\": {\"annotationdefaults\": {\"arrowcolor\": \"#2a3f5f\", \"arrowhead\": 0, \"arrowwidth\": 1}, \"coloraxis\": {\"colorbar\": {\"outlinewidth\": 0, \"ticks\": \"\"}}, \"colorscale\": {\"diverging\": [[0, \"#8e0152\"], [0.1, \"#c51b7d\"], [0.2, \"#de77ae\"], [0.3, \"#f1b6da\"], [0.4, \"#fde0ef\"], [0.5, \"#f7f7f7\"], [0.6, \"#e6f5d0\"], [0.7, \"#b8e186\"], [0.8, \"#7fbc41\"], [0.9, \"#4d9221\"], [1, \"#276419\"]], \"sequential\": [[0.0, \"#0d0887\"], [0.1111111111111111, \"#46039f\"], [0.2222222222222222, \"#7201a8\"], [0.3333333333333333, \"#9c179e\"], [0.4444444444444444, \"#bd3786\"], [0.5555555555555556, \"#d8576b\"], [0.6666666666666666, \"#ed7953\"], [0.7777777777777778, \"#fb9f3a\"], [0.8888888888888888, \"#fdca26\"], [1.0, \"#f0f921\"]], \"sequentialminus\": [[0.0, \"#0d0887\"], [0.1111111111111111, \"#46039f\"], [0.2222222222222222, \"#7201a8\"], [0.3333333333333333, \"#9c179e\"], [0.4444444444444444, \"#bd3786\"], [0.5555555555555556, \"#d8576b\"], [0.6666666666666666, \"#ed7953\"], [0.7777777777777778, \"#fb9f3a\"], [0.8888888888888888, \"#fdca26\"], [1.0, \"#f0f921\"]]}, \"colorway\": [\"#636efa\", \"#EF553B\", \"#00cc96\", \"#ab63fa\", \"#FFA15A\", \"#19d3f3\", \"#FF6692\", \"#B6E880\", \"#FF97FF\", \"#FECB52\"], \"font\": {\"color\": \"#2a3f5f\"}, \"geo\": {\"bgcolor\": \"white\", \"lakecolor\": \"white\", \"landcolor\": \"#E5ECF6\", \"showlakes\": true, \"showland\": true, \"subunitcolor\": \"white\"}, \"hoverlabel\": {\"align\": \"left\"}, \"hovermode\": \"closest\", \"mapbox\": {\"style\": \"light\"}, \"paper_bgcolor\": \"white\", \"plot_bgcolor\": \"#E5ECF6\", \"polar\": {\"angularaxis\": {\"gridcolor\": \"white\", \"linecolor\": \"white\", \"ticks\": \"\"}, \"bgcolor\": \"#E5ECF6\", \"radialaxis\": {\"gridcolor\": \"white\", \"linecolor\": \"white\", \"ticks\": \"\"}}, \"scene\": {\"xaxis\": {\"backgroundcolor\": \"#E5ECF6\", \"gridcolor\": \"white\", \"gridwidth\": 2, \"linecolor\": \"white\", \"showbackground\": true, \"ticks\": \"\", \"zerolinecolor\": \"white\"}, \"yaxis\": {\"backgroundcolor\": \"#E5ECF6\", \"gridcolor\": \"white\", \"gridwidth\": 2, \"linecolor\": \"white\", \"showbackground\": true, \"ticks\": \"\", \"zerolinecolor\": \"white\"}, \"zaxis\": {\"backgroundcolor\": \"#E5ECF6\", \"gridcolor\": \"white\", \"gridwidth\": 2, \"linecolor\": \"white\", \"showbackground\": true, \"ticks\": \"\", \"zerolinecolor\": \"white\"}}, \"shapedefaults\": {\"line\": {\"color\": \"#2a3f5f\"}}, \"ternary\": {\"aaxis\": {\"gridcolor\": \"white\", \"linecolor\": \"white\", \"ticks\": \"\"}, \"baxis\": {\"gridcolor\": \"white\", \"linecolor\": \"white\", \"ticks\": \"\"}, \"bgcolor\": \"#E5ECF6\", \"caxis\": {\"gridcolor\": \"white\", \"linecolor\": \"white\", \"ticks\": \"\"}}, \"title\": {\"x\": 0.05}, \"xaxis\": {\"automargin\": true, \"gridcolor\": \"white\", \"linecolor\": \"white\", \"ticks\": \"\", \"title\": {\"standoff\": 15}, \"zerolinecolor\": \"white\", \"zerolinewidth\": 2}, \"yaxis\": {\"automargin\": true, \"gridcolor\": \"white\", \"linecolor\": \"white\", \"ticks\": \"\", \"title\": {\"standoff\": 15}, \"zerolinecolor\": \"white\", \"zerolinewidth\": 2}}}, \"xaxis\": {\"anchor\": \"y\", \"domain\": [0.0, 1.0], \"title\": {\"text\": \"\\u4e00\\u4eba\\u5f53\\u305f\\u308a\\u30d3\\u30fc\\u30eb\\u6d88\\u8cbb\\u91cf\"}}, \"yaxis\": {\"anchor\": \"x\", \"domain\": [0.0, 1.0], \"title\": {\"text\": \"count\"}}},\n",
              "                        {\"responsive\": true}\n",
              "                    ).then(function(){\n",
              "                            \n",
              "var gd = document.getElementById('f57ba77a-3227-47c3-aae2-a5bebce5cb7f');\n",
              "var x = new MutationObserver(function (mutations, observer) {{\n",
              "        var display = window.getComputedStyle(gd).display;\n",
              "        if (!display || display === 'none') {{\n",
              "            console.log([gd, 'removed!']);\n",
              "            Plotly.purge(gd);\n",
              "            observer.disconnect();\n",
              "        }}\n",
              "}});\n",
              "\n",
              "// Listen for the removal of the full notebook cells\n",
              "var notebookContainer = gd.closest('#notebook-container');\n",
              "if (notebookContainer) {{\n",
              "    x.observe(notebookContainer, {childList: true});\n",
              "}}\n",
              "\n",
              "// Listen for the clearing of the current output cell\n",
              "var outputEl = gd.closest('.output');\n",
              "if (outputEl) {{\n",
              "    x.observe(outputEl, {childList: true});\n",
              "}}\n",
              "\n",
              "                        })\n",
              "                };\n",
              "                \n",
              "            </script>\n",
              "        </div>\n",
              "</body>\n",
              "</html>"
            ]
          },
          "metadata": {
            "tags": []
          }
        }
      ]
    },
    {
      "cell_type": "markdown",
      "metadata": {
        "id": "gj4za9pDFrHp"
      },
      "source": [
        "### 散布図  <a id='sec1_3'></a>  \n",
        "[先頭に戻る](#top)"
      ]
    },
    {
      "cell_type": "code",
      "metadata": {
        "colab": {
          "base_uri": "https://localhost:8080/",
          "height": 284
        },
        "id": "iPBYfg-VFrHp",
        "outputId": "710e0896-44ec-4d1f-955f-3bbd1b5f31e1"
      },
      "source": [
        "#散布図を描くための下準備\n",
        "%matplotlib inline\n",
        "import matplotlib.pyplot as plt\n",
        "\n",
        "#図に使う変数の設定\n",
        "plt.plot(df['ave_temp'],df['per_beer'],\"o\")\n",
        "\n",
        "#軸の名前を設定\n",
        "plt.xlabel(\"ave_temp\")\n",
        "plt.ylabel(\"pre_beer\")\n",
        "#メモリを入れる\n",
        "plt.grid(True)\n",
        "pass"
      ],
      "execution_count": 10,
      "outputs": [
        {
          "output_type": "display_data",
          "data": {
            "image/png": "[encoded data removed]",
            "text/plain": [
              "<Figure size 432x288 with 1 Axes>"
            ]
          },
          "metadata": {
            "tags": [],
            "needs_background": "light"
          }
        }
      ]
    },
    {
      "cell_type": "code",
      "metadata": {
        "colab": {
          "base_uri": "https://localhost:8080/",
          "height": 542
        },
        "id": "4BExuq5LFrHq",
        "outputId": "034f90d7-2268-426f-bbb6-34aa44f3f6ab"
      },
      "source": [
        "#ビール消費量と平均気温の散布図をplotlyで出力する。\n",
        "scatter = px.scatter(df,x=df['ave_temp'],y=df['per_beer'],trendline='ols', title='ビール消費量と平均気温',labels={'ave_temp':'平均気温', 'per_beer':'ビール消費量'})\n",
        "scatter"
      ],
      "execution_count": 11,
      "outputs": [
        {
          "output_type": "display_data",
          "data": {
            "text/html": [
              "<html>\n",
              "<head><meta charset=\"utf-8\" /></head>\n",
              "<body>\n",
              "    <div>\n",
              "            <script src=\"https://cdnjs.cloudflare.com/ajax/libs/mathjax/2.7.5/MathJax.js?config=TeX-AMS-MML_SVG\"></script><script type=\"text/javascript\">if (window.MathJax) {MathJax.Hub.Config({SVG: {font: \"STIX-Web\"}});}</script>\n",
              "                <script type=\"text/javascript\">window.PlotlyConfig = {MathJaxConfig: 'local'};</script>\n",
              "        <script src=\"https://cdn.plot.ly/plotly-latest.min.js\"></script>    \n",
              "            <div id=\"ac328db6-59a8-4ddb-941e-041509b9109d\" class=\"plotly-graph-div\" style=\"height:525px; width:100%;\"></div>\n",
              "            <script type=\"text/javascript\">\n",
              "                \n",
              "                    window.PLOTLYENV=window.PLOTLYENV || {};\n",
              "                    \n",
              "                if (document.getElementById(\"ac328db6-59a8-4ddb-941e-041509b9109d\")) {\n",
              "                    Plotly.newPlot(\n",
              "                        'ac328db6-59a8-4ddb-941e-041509b9109d',\n",
              "                        [{\"hoverlabel\": {\"namelength\": 0}, \"hovertemplate\": \"\\u5e73\\u5747\\u6c17\\u6e29=%{x}<br>\\u30d3\\u30fc\\u30eb\\u6d88\\u8cbb\\u91cf=%{y}\", \"legendgroup\": \"\", \"marker\": {\"color\": \"#636efa\", \"symbol\": \"circle\"}, \"mode\": \"markers\", \"name\": \"\", \"showlegend\": false, \"type\": \"scatter\", \"x\": [9.5, 11.0, 11.0, 13.6, 12.3, 12.6, 14.2, 15.3, 15.2, 16.1, 16.4, 14.3, 13.0, 17.2, 16.8, 17.1, 16.0, 15.0, 15.5, 15.3, 16.9, 17.7, 16.9, 16.9, 15.7, 16.9, 17.4, 17.4, 16.2, 17.3, 15.7, 15.6, 16.3, 16.8, 16.0, 17.1, 17.0, 17.1, 17.4, 17.7, 17.4, 17.7, 17.5, 17.1, 17.8, 19.0], \"xaxis\": \"x\", \"y\": [25.080482542656245, 21.009206994669057, 23.48641971579157, 22.527235026217042, 22.129337339761108, 21.39798896125185, 21.432112631565094, 17.56292611230092, 18.717049591506253, 18.032882491021226, 14.903860585423512, 23.96512790836641, 22.76051659459924, 16.343310844251462, 40.55531967466999, 20.038409462020205, 19.301086314676386, 24.07126420048935, 23.657839056941572, 20.782543033702673, 15.0706235449748, 18.600303781360193, 21.423405378712133, 17.353577741290646, 13.777931848303561, 26.960870777941928, 29.35416365712521, 20.34410147175093, 16.233006291521846, 17.80336678990184, 21.241847416339787, 19.77605879548205, 15.874899045107885, 21.502021157503247, 18.651147502152018, 19.10384346258345, 18.628614791869246, 19.84442604204995, 25.06526216368669, 21.831353119025287, 19.50387399636346, 19.552057418878494, 18.50053609391518, 19.944202490031, 21.98851195379267, 15.25621347186965], \"yaxis\": \"y\"}, {\"hoverlabel\": {\"namelength\": 0}, \"hovertemplate\": \"<b>OLS trendline</b><br>per_beer = -0.422595 * ave_temp + 27.378108<br>R<sup>2</sup>=0.037943<br><br>\\u5e73\\u5747\\u6c17\\u6e29=%{x}<br>\\u30d3\\u30fc\\u30eb\\u6d88\\u8cbb\\u91cf=%{y} <b>(trend)</b>\", \"legendgroup\": \"\", \"marker\": {\"color\": \"#636efa\", \"symbol\": \"circle\"}, \"mode\": \"lines\", \"name\": \"\", \"showlegend\": false, \"type\": \"scatter\", \"x\": [9.5, 11.0, 11.0, 12.3, 12.6, 13.0, 13.6, 14.2, 14.3, 15.0, 15.2, 15.3, 15.3, 15.5, 15.6, 15.7, 15.7, 16.0, 16.0, 16.1, 16.2, 16.3, 16.4, 16.8, 16.8, 16.9, 16.9, 16.9, 16.9, 17.0, 17.1, 17.1, 17.1, 17.1, 17.2, 17.3, 17.4, 17.4, 17.4, 17.4, 17.5, 17.7, 17.7, 17.7, 17.8, 19.0], \"xaxis\": \"x\", \"y\": [23.36345906357483, 22.72956706474061, 22.72956706474061, 22.18019399908429, 22.053415599317447, 21.884377732961656, 21.63082093342797, 21.377264133894283, 21.335004667305334, 21.0391884011827, 20.954669468004806, 20.912410001415857, 20.912410001415857, 20.82789106823796, 20.785631601649012, 20.743372135060063, 20.743372135060063, 20.616593735293222, 20.616593735293222, 20.574334268704273, 20.532074802115325, 20.48981533552638, 20.44755586893743, 20.278518002581638, 20.278518002581638, 20.236258535992693, 20.236258535992693, 20.236258535992693, 20.236258535992693, 20.193999069403745, 20.151739602814796, 20.151739602814796, 20.151739602814796, 20.151739602814796, 20.109480136225848, 20.0672206696369, 20.02496120304795, 20.02496120304795, 20.02496120304795, 20.02496120304795, 19.982701736459006, 19.89818280328111, 19.89818280328111, 19.89818280328111, 19.85592333669216, 19.348809737624787], \"yaxis\": \"y\"}],\n",
              "                        {\"legend\": {\"tracegroupgap\": 0}, \"template\": {\"data\": {\"bar\": [{\"error_x\": {\"color\": \"#2a3f5f\"}, \"error_y\": {\"color\": \"#2a3f5f\"}, \"marker\": {\"line\": {\"color\": \"#E5ECF6\", \"width\": 0.5}}, \"type\": \"bar\"}], \"barpolar\": [{\"marker\": {\"line\": {\"color\": \"#E5ECF6\", \"width\": 0.5}}, \"type\": \"barpolar\"}], \"carpet\": [{\"aaxis\": {\"endlinecolor\": \"#2a3f5f\", \"gridcolor\": \"white\", \"linecolor\": \"white\", \"minorgridcolor\": \"white\", \"startlinecolor\": \"#2a3f5f\"}, \"baxis\": {\"endlinecolor\": \"#2a3f5f\", \"gridcolor\": \"white\", \"linecolor\": \"white\", \"minorgridcolor\": \"white\", \"startlinecolor\": \"#2a3f5f\"}, \"type\": \"carpet\"}], \"choropleth\": [{\"colorbar\": {\"outlinewidth\": 0, \"ticks\": \"\"}, \"type\": \"choropleth\"}], \"contour\": [{\"colorbar\": {\"outlinewidth\": 0, \"ticks\": \"\"}, \"colorscale\": [[0.0, \"#0d0887\"], [0.1111111111111111, \"#46039f\"], [0.2222222222222222, \"#7201a8\"], [0.3333333333333333, \"#9c179e\"], [0.4444444444444444, \"#bd3786\"], [0.5555555555555556, \"#d8576b\"], [0.6666666666666666, \"#ed7953\"], [0.7777777777777778, \"#fb9f3a\"], [0.8888888888888888, \"#fdca26\"], [1.0, \"#f0f921\"]], \"type\": \"contour\"}], \"contourcarpet\": [{\"colorbar\": {\"outlinewidth\": 0, \"ticks\": \"\"}, \"type\": \"contourcarpet\"}], \"heatmap\": [{\"colorbar\": {\"outlinewidth\": 0, \"ticks\": \"\"}, \"colorscale\": [[0.0, \"#0d0887\"], [0.1111111111111111, \"#46039f\"], [0.2222222222222222, \"#7201a8\"], [0.3333333333333333, \"#9c179e\"], [0.4444444444444444, \"#bd3786\"], [0.5555555555555556, \"#d8576b\"], [0.6666666666666666, \"#ed7953\"], [0.7777777777777778, \"#fb9f3a\"], [0.8888888888888888, \"#fdca26\"], [1.0, \"#f0f921\"]], \"type\": \"heatmap\"}], \"heatmapgl\": [{\"colorbar\": {\"outlinewidth\": 0, \"ticks\": \"\"}, \"colorscale\": [[0.0, \"#0d0887\"], [0.1111111111111111, \"#46039f\"], [0.2222222222222222, \"#7201a8\"], [0.3333333333333333, \"#9c179e\"], [0.4444444444444444, \"#bd3786\"], [0.5555555555555556, \"#d8576b\"], [0.6666666666666666, \"#ed7953\"], [0.7777777777777778, \"#fb9f3a\"], [0.8888888888888888, \"#fdca26\"], [1.0, \"#f0f921\"]], \"type\": \"heatmapgl\"}], \"histogram\": [{\"marker\": {\"colorbar\": {\"outlinewidth\": 0, \"ticks\": \"\"}}, \"type\": \"histogram\"}], \"histogram2d\": [{\"colorbar\": {\"outlinewidth\": 0, \"ticks\": \"\"}, \"colorscale\": [[0.0, \"#0d0887\"], [0.1111111111111111, \"#46039f\"], [0.2222222222222222, \"#7201a8\"], [0.3333333333333333, \"#9c179e\"], [0.4444444444444444, \"#bd3786\"], [0.5555555555555556, \"#d8576b\"], [0.6666666666666666, \"#ed7953\"], [0.7777777777777778, \"#fb9f3a\"], [0.8888888888888888, \"#fdca26\"], [1.0, \"#f0f921\"]], \"type\": \"histogram2d\"}], \"histogram2dcontour\": [{\"colorbar\": {\"outlinewidth\": 0, \"ticks\": \"\"}, \"colorscale\": [[0.0, \"#0d0887\"], [0.1111111111111111, \"#46039f\"], [0.2222222222222222, \"#7201a8\"], [0.3333333333333333, \"#9c179e\"], [0.4444444444444444, \"#bd3786\"], [0.5555555555555556, \"#d8576b\"], [0.6666666666666666, \"#ed7953\"], [0.7777777777777778, \"#fb9f3a\"], [0.8888888888888888, \"#fdca26\"], [1.0, \"#f0f921\"]], \"type\": \"histogram2dcontour\"}], \"mesh3d\": [{\"colorbar\": {\"outlinewidth\": 0, \"ticks\": \"\"}, \"type\": \"mesh3d\"}], \"parcoords\": [{\"line\": {\"colorbar\": {\"outlinewidth\": 0, \"ticks\": \"\"}}, \"type\": \"parcoords\"}], \"pie\": [{\"automargin\": true, \"type\": \"pie\"}], \"scatter\": [{\"marker\": {\"colorbar\": {\"outlinewidth\": 0, \"ticks\": \"\"}}, \"type\": \"scatter\"}], \"scatter3d\": [{\"line\": {\"colorbar\": {\"outlinewidth\": 0, \"ticks\": \"\"}}, \"marker\": {\"colorbar\": {\"outlinewidth\": 0, \"ticks\": \"\"}}, \"type\": \"scatter3d\"}], \"scattercarpet\": [{\"marker\": {\"colorbar\": {\"outlinewidth\": 0, \"ticks\": \"\"}}, \"type\": \"scattercarpet\"}], \"scattergeo\": [{\"marker\": {\"colorbar\": {\"outlinewidth\": 0, \"ticks\": \"\"}}, \"type\": \"scattergeo\"}], \"scattergl\": [{\"marker\": {\"colorbar\": {\"outlinewidth\": 0, \"ticks\": \"\"}}, \"type\": \"scattergl\"}], \"scattermapbox\": [{\"marker\": {\"colorbar\": {\"outlinewidth\": 0, \"ticks\": \"\"}}, \"type\": \"scattermapbox\"}], \"scatterpolar\": [{\"marker\": {\"colorbar\": {\"outlinewidth\": 0, \"ticks\": \"\"}}, \"type\": \"scatterpolar\"}], \"scatterpolargl\": [{\"marker\": {\"colorbar\": {\"outlinewidth\": 0, \"ticks\": \"\"}}, \"type\": \"scatterpolargl\"}], \"scatterternary\": [{\"marker\": {\"colorbar\": {\"outlinewidth\": 0, \"ticks\": \"\"}}, \"type\": \"scatterternary\"}], \"surface\": [{\"colorbar\": {\"outlinewidth\": 0, \"ticks\": \"\"}, \"colorscale\": [[0.0, \"#0d0887\"], [0.1111111111111111, \"#46039f\"], [0.2222222222222222, \"#7201a8\"], [0.3333333333333333, \"#9c179e\"], [0.4444444444444444, \"#bd3786\"], [0.5555555555555556, \"#d8576b\"], [0.6666666666666666, \"#ed7953\"], [0.7777777777777778, \"#fb9f3a\"], [0.8888888888888888, \"#fdca26\"], [1.0, \"#f0f921\"]], \"type\": \"surface\"}], \"table\": [{\"cells\": {\"fill\": {\"color\": \"#EBF0F8\"}, \"line\": {\"color\": \"white\"}}, \"header\": {\"fill\": {\"color\": \"#C8D4E3\"}, \"line\": {\"color\": \"white\"}}, \"type\": \"table\"}]}, \"layout\": {\"annotationdefaults\": {\"arrowcolor\": \"#2a3f5f\", \"arrowhead\": 0, \"arrowwidth\": 1}, \"coloraxis\": {\"colorbar\": {\"outlinewidth\": 0, \"ticks\": \"\"}}, \"colorscale\": {\"diverging\": [[0, \"#8e0152\"], [0.1, \"#c51b7d\"], [0.2, \"#de77ae\"], [0.3, \"#f1b6da\"], [0.4, \"#fde0ef\"], [0.5, \"#f7f7f7\"], [0.6, \"#e6f5d0\"], [0.7, \"#b8e186\"], [0.8, \"#7fbc41\"], [0.9, \"#4d9221\"], [1, \"#276419\"]], \"sequential\": [[0.0, \"#0d0887\"], [0.1111111111111111, \"#46039f\"], [0.2222222222222222, \"#7201a8\"], [0.3333333333333333, \"#9c179e\"], [0.4444444444444444, \"#bd3786\"], [0.5555555555555556, \"#d8576b\"], [0.6666666666666666, \"#ed7953\"], [0.7777777777777778, \"#fb9f3a\"], [0.8888888888888888, \"#fdca26\"], [1.0, \"#f0f921\"]], \"sequentialminus\": [[0.0, \"#0d0887\"], [0.1111111111111111, \"#46039f\"], [0.2222222222222222, \"#7201a8\"], [0.3333333333333333, \"#9c179e\"], [0.4444444444444444, \"#bd3786\"], [0.5555555555555556, \"#d8576b\"], [0.6666666666666666, \"#ed7953\"], [0.7777777777777778, \"#fb9f3a\"], [0.8888888888888888, \"#fdca26\"], [1.0, \"#f0f921\"]]}, \"colorway\": [\"#636efa\", \"#EF553B\", \"#00cc96\", \"#ab63fa\", \"#FFA15A\", \"#19d3f3\", \"#FF6692\", \"#B6E880\", \"#FF97FF\", \"#FECB52\"], \"font\": {\"color\": \"#2a3f5f\"}, \"geo\": {\"bgcolor\": \"white\", \"lakecolor\": \"white\", \"landcolor\": \"#E5ECF6\", \"showlakes\": true, \"showland\": true, \"subunitcolor\": \"white\"}, \"hoverlabel\": {\"align\": \"left\"}, \"hovermode\": \"closest\", \"mapbox\": {\"style\": \"light\"}, \"paper_bgcolor\": \"white\", \"plot_bgcolor\": \"#E5ECF6\", \"polar\": {\"angularaxis\": {\"gridcolor\": \"white\", \"linecolor\": \"white\", \"ticks\": \"\"}, \"bgcolor\": \"#E5ECF6\", \"radialaxis\": {\"gridcolor\": \"white\", \"linecolor\": \"white\", \"ticks\": \"\"}}, \"scene\": {\"xaxis\": {\"backgroundcolor\": \"#E5ECF6\", \"gridcolor\": \"white\", \"gridwidth\": 2, \"linecolor\": \"white\", \"showbackground\": true, \"ticks\": \"\", \"zerolinecolor\": \"white\"}, \"yaxis\": {\"backgroundcolor\": \"#E5ECF6\", \"gridcolor\": \"white\", \"gridwidth\": 2, \"linecolor\": \"white\", \"showbackground\": true, \"ticks\": \"\", \"zerolinecolor\": \"white\"}, \"zaxis\": {\"backgroundcolor\": \"#E5ECF6\", \"gridcolor\": \"white\", \"gridwidth\": 2, \"linecolor\": \"white\", \"showbackground\": true, \"ticks\": \"\", \"zerolinecolor\": \"white\"}}, \"shapedefaults\": {\"line\": {\"color\": \"#2a3f5f\"}}, \"ternary\": {\"aaxis\": {\"gridcolor\": \"white\", \"linecolor\": \"white\", \"ticks\": \"\"}, \"baxis\": {\"gridcolor\": \"white\", \"linecolor\": \"white\", \"ticks\": \"\"}, \"bgcolor\": \"#E5ECF6\", \"caxis\": {\"gridcolor\": \"white\", \"linecolor\": \"white\", \"ticks\": \"\"}}, \"title\": {\"x\": 0.05}, \"xaxis\": {\"automargin\": true, \"gridcolor\": \"white\", \"linecolor\": \"white\", \"ticks\": \"\", \"title\": {\"standoff\": 15}, \"zerolinecolor\": \"white\", \"zerolinewidth\": 2}, \"yaxis\": {\"automargin\": true, \"gridcolor\": \"white\", \"linecolor\": \"white\", \"ticks\": \"\", \"title\": {\"standoff\": 15}, \"zerolinecolor\": \"white\", \"zerolinewidth\": 2}}}, \"title\": {\"text\": \"\\u30d3\\u30fc\\u30eb\\u6d88\\u8cbb\\u91cf\\u3068\\u5e73\\u5747\\u6c17\\u6e29\"}, \"xaxis\": {\"anchor\": \"y\", \"domain\": [0.0, 1.0], \"title\": {\"text\": \"\\u5e73\\u5747\\u6c17\\u6e29\"}}, \"yaxis\": {\"anchor\": \"x\", \"domain\": [0.0, 1.0], \"title\": {\"text\": \"\\u30d3\\u30fc\\u30eb\\u6d88\\u8cbb\\u91cf\"}}},\n",
              "                        {\"responsive\": true}\n",
              "                    ).then(function(){\n",
              "                            \n",
              "var gd = document.getElementById('ac328db6-59a8-4ddb-941e-041509b9109d');\n",
              "var x = new MutationObserver(function (mutations, observer) {{\n",
              "        var display = window.getComputedStyle(gd).display;\n",
              "        if (!display || display === 'none') {{\n",
              "            console.log([gd, 'removed!']);\n",
              "            Plotly.purge(gd);\n",
              "            observer.disconnect();\n",
              "        }}\n",
              "}});\n",
              "\n",
              "// Listen for the removal of the full notebook cells\n",
              "var notebookContainer = gd.closest('#notebook-container');\n",
              "if (notebookContainer) {{\n",
              "    x.observe(notebookContainer, {childList: true});\n",
              "}}\n",
              "\n",
              "// Listen for the clearing of the current output cell\n",
              "var outputEl = gd.closest('.output');\n",
              "if (outputEl) {{\n",
              "    x.observe(outputEl, {childList: true});\n",
              "}}\n",
              "\n",
              "                        })\n",
              "                };\n",
              "                \n",
              "            </script>\n",
              "        </div>\n",
              "</body>\n",
              "</html>"
            ]
          },
          "metadata": {
            "tags": []
          }
        }
      ]
    },
    {
      "cell_type": "markdown",
      "metadata": {
        "id": "s2Sn0BdHFrHr"
      },
      "source": [
        "### 単回帰分析  <a id='sec1_4'></a>  \n",
        "[先頭に戻る](#top)"
      ]
    },
    {
      "cell_type": "code",
      "metadata": {
        "id": "FOC0ryJqFrHr"
      },
      "source": [
        "y,x = df['per_beer'],df['ave_temp']\n",
        "\n",
        "#statsmodelsを用いて回帰分析する。\n",
        "formula = 'y ~ x'\n",
        "mod = ols(formula, data=df)#ols 最小二乗法\n",
        "res = ols(formula, data=df).fit()"
      ],
      "execution_count": 12,
      "outputs": []
    },
    {
      "cell_type": "code",
      "metadata": {
        "colab": {
          "base_uri": "https://localhost:8080/"
        },
        "id": "CbNwCePJFrHs",
        "outputId": "2de83241-5eca-4acb-9eba-507167af4002"
      },
      "source": [
        "#得られた関数の係数を把握。\n",
        "res.params"
      ],
      "execution_count": 13,
      "outputs": [
        {
          "output_type": "execute_result",
          "data": {
            "text/plain": [
              "Intercept    27.378108\n",
              "x            -0.422595\n",
              "dtype: float64"
            ]
          },
          "metadata": {
            "tags": []
          },
          "execution_count": 13
        }
      ]
    },
    {
      "cell_type": "markdown",
      "metadata": {
        "id": "0WT5XlA3FrHs"
      },
      "source": [
        "$Y = \\hat{\\alpha} + \\hat{\\beta}X + \\hat{u}$より、  \n",
        "$Y = 27.3781 + -0.4226X + u$  \n",
        "であることがわかる。次により詳しい統計量を調査する。"
      ]
    },
    {
      "cell_type": "markdown",
      "metadata": {
        "id": "fkLElQ-0FrHt"
      },
      "source": [
        "### 分析結果  <a id='sec1_5'></a>  \n",
        "[先頭に戻る](#top)"
      ]
    },
    {
      "cell_type": "code",
      "metadata": {
        "colab": {
          "base_uri": "https://localhost:8080/",
          "height": 434
        },
        "id": "1sq0zkLdFrHt",
        "outputId": "1cfd3085-f2c8-4030-a83d-5012a0b04751"
      },
      "source": [
        "res.summary()"
      ],
      "execution_count": 14,
      "outputs": [
        {
          "output_type": "execute_result",
          "data": {
            "text/html": [
              "<table class=\"simpletable\">\n",
              "<caption>OLS Regression Results</caption>\n",
              "<tr>\n",
              "  <th>Dep. Variable:</th>            <td>y</td>        <th>  R-squared:         </th> <td>   0.038</td>\n",
              "</tr>\n",
              "<tr>\n",
              "  <th>Model:</th>                   <td>OLS</td>       <th>  Adj. R-squared:    </th> <td>   0.016</td>\n",
              "</tr>\n",
              "<tr>\n",
              "  <th>Method:</th>             <td>Least Squares</td>  <th>  F-statistic:       </th> <td>   1.735</td>\n",
              "</tr>\n",
              "<tr>\n",
              "  <th>Date:</th>             <td>Sat, 20 Mar 2021</td> <th>  Prob (F-statistic):</th>  <td> 0.195</td> \n",
              "</tr>\n",
              "<tr>\n",
              "  <th>Time:</th>                 <td>06:05:38</td>     <th>  Log-Likelihood:    </th> <td> -132.09</td>\n",
              "</tr>\n",
              "<tr>\n",
              "  <th>No. Observations:</th>      <td>    46</td>      <th>  AIC:               </th> <td>   268.2</td>\n",
              "</tr>\n",
              "<tr>\n",
              "  <th>Df Residuals:</th>          <td>    44</td>      <th>  BIC:               </th> <td>   271.8</td>\n",
              "</tr>\n",
              "<tr>\n",
              "  <th>Df Model:</th>              <td>     1</td>      <th>                     </th>     <td> </td>   \n",
              "</tr>\n",
              "<tr>\n",
              "  <th>Covariance Type:</th>      <td>nonrobust</td>    <th>                     </th>     <td> </td>   \n",
              "</tr>\n",
              "</table>\n",
              "<table class=\"simpletable\">\n",
              "<tr>\n",
              "      <td></td>         <th>coef</th>     <th>std err</th>      <th>t</th>      <th>P>|t|</th>  <th>[0.025</th>    <th>0.975]</th>  \n",
              "</tr>\n",
              "<tr>\n",
              "  <th>Intercept</th> <td>   27.3781</td> <td>    5.131</td> <td>    5.336</td> <td> 0.000</td> <td>   17.038</td> <td>   37.719</td>\n",
              "</tr>\n",
              "<tr>\n",
              "  <th>x</th>         <td>   -0.4226</td> <td>    0.321</td> <td>   -1.317</td> <td> 0.195</td> <td>   -1.069</td> <td>    0.224</td>\n",
              "</tr>\n",
              "</table>\n",
              "<table class=\"simpletable\">\n",
              "<tr>\n",
              "  <th>Omnibus:</th>       <td>44.781</td> <th>  Durbin-Watson:     </th> <td>   2.021</td>\n",
              "</tr>\n",
              "<tr>\n",
              "  <th>Prob(Omnibus):</th> <td> 0.000</td> <th>  Jarque-Bera (JB):  </th> <td> 201.410</td>\n",
              "</tr>\n",
              "<tr>\n",
              "  <th>Skew:</th>          <td> 2.395</td> <th>  Prob(JB):          </th> <td>1.84e-44</td>\n",
              "</tr>\n",
              "<tr>\n",
              "  <th>Kurtosis:</th>      <td>12.063</td> <th>  Cond. No.          </th> <td>    128.</td>\n",
              "</tr>\n",
              "</table><br/><br/>Warnings:<br/>[1] Standard Errors assume that the covariance matrix of the errors is correctly specified."
            ],
            "text/plain": [
              "<class 'statsmodels.iolib.summary.Summary'>\n",
              "\"\"\"\n",
              "                            OLS Regression Results                            \n",
              "==============================================================================\n",
              "Dep. Variable:                      y   R-squared:                       0.038\n",
              "Model:                            OLS   Adj. R-squared:                  0.016\n",
              "Method:                 Least Squares   F-statistic:                     1.735\n",
              "Date:                Sat, 20 Mar 2021   Prob (F-statistic):              0.195\n",
              "Time:                        06:05:38   Log-Likelihood:                -132.09\n",
              "No. Observations:                  46   AIC:                             268.2\n",
              "Df Residuals:                      44   BIC:                             271.8\n",
              "Df Model:                           1                                         \n",
              "Covariance Type:            nonrobust                                         \n",
              "==============================================================================\n",
              "                 coef    std err          t      P>|t|      [0.025      0.975]\n",
              "------------------------------------------------------------------------------\n",
              "Intercept     27.3781      5.131      5.336      0.000      17.038      37.719\n",
              "x             -0.4226      0.321     -1.317      0.195      -1.069       0.224\n",
              "==============================================================================\n",
              "Omnibus:                       44.781   Durbin-Watson:                   2.021\n",
              "Prob(Omnibus):                  0.000   Jarque-Bera (JB):              201.410\n",
              "Skew:                           2.395   Prob(JB):                     1.84e-44\n",
              "Kurtosis:                      12.063   Cond. No.                         128.\n",
              "==============================================================================\n",
              "\n",
              "Warnings:\n",
              "[1] Standard Errors assume that the covariance matrix of the errors is correctly specified.\n",
              "\"\"\""
            ]
          },
          "metadata": {
            "tags": []
          },
          "execution_count": 14
        }
      ]
    },
    {
      "cell_type": "markdown",
      "metadata": {
        "id": "hwNQzFZCFrHu"
      },
      "source": [
        "この中でも特に重要なのが、R-squared:決定係数 です。式を復習します。"
      ]
    },
    {
      "cell_type": "code",
      "metadata": {
        "colab": {
          "base_uri": "https://localhost:8080/",
          "height": 118
        },
        "id": "r_nMUcEzFrHu",
        "outputId": "0704cd4a-a17b-4489-904b-2b440c3f30a0"
      },
      "source": [
        "Image(\"R_squered.png\")"
      ],
      "execution_count": 15,
      "outputs": [
        {
          "output_type": "execute_result",
          "data": {
            "image/png": "[encoded data removed]",
            "text/plain": [
              "<IPython.core.display.Image object>"
            ]
          },
          "metadata": {
            "tags": []
          },
          "execution_count": 15
        }
      ]
    },
    {
      "cell_type": "markdown",
      "metadata": {
        "id": "59pdV5_hFrHv"
      },
      "source": [
        "決定係数は０から１の値を取り、１に近づくほどモデルの当てはまりが良いことを表す指標です。今回の分析結果では決定係数が0.038と非常に低い値になっています。この要因としては、そもそもXがYを説明できていないことや、共変量が考量できていない可能性があります。  "
      ]
    },
    {
      "cell_type": "markdown",
      "metadata": {
        "id": "SlCAms91FrHv"
      },
      "source": [
        "Q1:ここでいくつか共変量として考えられる変数を考え、改善したモデルを設計してみましょう。"
      ]
    },
    {
      "cell_type": "code",
      "metadata": {
        "colab": {
          "base_uri": "https://localhost:8080/",
          "height": 376
        },
        "id": "WYcoyhBLFrHv",
        "outputId": "d70e6852-f531-49ac-e2fa-e8001b3fcdab"
      },
      "source": [
        "#seabornで95％信頼区間を表示した回帰直線を記述する。\n",
        "sns.regplot(x,y,data=df,x_ci='95')\n",
        "pass"
      ],
      "execution_count": 16,
      "outputs": [
        {
          "output_type": "stream",
          "text": [
            "/usr/local/lib/python3.7/dist-packages/seaborn/_decorators.py:43: FutureWarning:\n",
            "\n",
            "Pass the following variables as keyword args: x, y. From version 0.12, the only valid positional argument will be `data`, and passing other arguments without an explicit keyword will result in an error or misinterpretation.\n",
            "\n"
          ],
          "name": "stderr"
        },
        {
          "output_type": "display_data",
          "data": {
            "image/png": "[encoded data removed]",
            "text/plain": [
              "<Figure size 432x288 with 1 Axes>"
            ]
          },
          "metadata": {
            "tags": [],
            "needs_background": "light"
          }
        }
      ]
    },
    {
      "cell_type": "markdown",
      "metadata": {
        "id": "TE4gNNucFrHw"
      },
      "source": [
        "### summaryレポート詳細  <a id='sec1_6'></a>  \n",
        "[先頭に戻る](#top)"
      ]
    },
    {
      "cell_type": "markdown",
      "metadata": {
        "id": "psvqHONyFrHw"
      },
      "source": [
        "このsummaryレポート詳しい見方を３つに分けて検討します。"
      ]
    },
    {
      "cell_type": "code",
      "metadata": {
        "scrolled": true,
        "colab": {
          "base_uri": "https://localhost:8080/",
          "height": 220
        },
        "id": "NlF_wEpBFrHx",
        "outputId": "ed3a6d38-6f79-4a1d-c72f-4b35a98ac492"
      },
      "source": [
        "#上段\n",
        "res.summary().tables[0]"
      ],
      "execution_count": 20,
      "outputs": [
        {
          "output_type": "execute_result",
          "data": {
            "text/html": [
              "<table class=\"simpletable\">\n",
              "<caption>OLS Regression Results</caption>\n",
              "<tr>\n",
              "  <th>Dep. Variable:</th>            <td>y</td>        <th>  R-squared:         </th> <td>   0.038</td>\n",
              "</tr>\n",
              "<tr>\n",
              "  <th>Model:</th>                   <td>OLS</td>       <th>  Adj. R-squared:    </th> <td>   0.016</td>\n",
              "</tr>\n",
              "<tr>\n",
              "  <th>Method:</th>             <td>Least Squares</td>  <th>  F-statistic:       </th> <td>   1.735</td>\n",
              "</tr>\n",
              "<tr>\n",
              "  <th>Date:</th>             <td>Sat, 20 Mar 2021</td> <th>  Prob (F-statistic):</th>  <td> 0.195</td> \n",
              "</tr>\n",
              "<tr>\n",
              "  <th>Time:</th>                 <td>06:06:18</td>     <th>  Log-Likelihood:    </th> <td> -132.09</td>\n",
              "</tr>\n",
              "<tr>\n",
              "  <th>No. Observations:</th>      <td>    46</td>      <th>  AIC:               </th> <td>   268.2</td>\n",
              "</tr>\n",
              "<tr>\n",
              "  <th>Df Residuals:</th>          <td>    44</td>      <th>  BIC:               </th> <td>   271.8</td>\n",
              "</tr>\n",
              "<tr>\n",
              "  <th>Df Model:</th>              <td>     1</td>      <th>                     </th>     <td> </td>   \n",
              "</tr>\n",
              "<tr>\n",
              "  <th>Covariance Type:</th>      <td>nonrobust</td>    <th>                     </th>     <td> </td>   \n",
              "</tr>\n",
              "</table>"
            ],
            "text/plain": [
              "<class 'statsmodels.iolib.table.SimpleTable'>"
            ]
          },
          "metadata": {
            "tags": []
          },
          "execution_count": 20
        }
      ]
    },
    {
      "cell_type": "markdown",
      "metadata": {
        "id": "4-Qnw-f_FrHx"
      },
      "source": [
        "- Dep.Variable:被説明変数の名前、Dep(=Depended(従属変数))  \n",
        "- Model:使用したモデル  \n",
        "- Date:コード実行時の時間  \n",
        "- No.Observations:サンプルサイズ  \n",
        "- Df Residuals:サンプルサイズ数から、推定されたパラメータ数を引いたもの  \n",
        "- Df Model:使用した説明変数の数  \n",
        "- Covariance Type:共分散の種類。指定しなければnonrobustを返す。  \n",
        "- R-Squared・Adj,R-Squared:決定係数と自由度調整済み決定係数。  \n",
        "- F-statistics・Prob(F-statistics):分散分析結果  \n",
        "- Log-Likelihood:最大対数尤度  \n",
        "- AIC:赤池情報量基準  \n",
        "- BIC:ベイズ情報量基準"
      ]
    },
    {
      "cell_type": "code",
      "metadata": {
        "scrolled": true,
        "colab": {
          "base_uri": "https://localhost:8080/",
          "height": 80
        },
        "id": "D12qL_-WFrHy",
        "outputId": "6b7b521b-8984-4a2f-dffd-95ed0e02361d"
      },
      "source": [
        "#中段\n",
        "res.summary().tables[1]"
      ],
      "execution_count": 21,
      "outputs": [
        {
          "output_type": "execute_result",
          "data": {
            "text/html": [
              "<table class=\"simpletable\">\n",
              "<tr>\n",
              "      <td></td>         <th>coef</th>     <th>std err</th>      <th>t</th>      <th>P>|t|</th>  <th>[0.025</th>    <th>0.975]</th>  \n",
              "</tr>\n",
              "<tr>\n",
              "  <th>Intercept</th> <td>   27.3781</td> <td>    5.131</td> <td>    5.336</td> <td> 0.000</td> <td>   17.038</td> <td>   37.719</td>\n",
              "</tr>\n",
              "<tr>\n",
              "  <th>x</th>         <td>   -0.4226</td> <td>    0.321</td> <td>   -1.317</td> <td> 0.195</td> <td>   -1.069</td> <td>    0.224</td>\n",
              "</tr>\n",
              "</table>"
            ],
            "text/plain": [
              "<class 'statsmodels.iolib.table.SimpleTable'>"
            ]
          },
          "metadata": {
            "tags": []
          },
          "execution_count": 21
        }
      ]
    },
    {
      "cell_type": "markdown",
      "metadata": {
        "id": "WVCQFbv9FrHy"
      },
      "source": [
        "- coef:係数  \n",
        "- std err:標準誤差  \n",
        "- t:t値  \n",
        "- P>|t|:P値  \n",
        "- [0.025,0.975] :95%信頼区間"
      ]
    },
    {
      "cell_type": "markdown",
      "metadata": {
        "id": "L_1v3sMmFrHz"
      },
      "source": [
        "中段では変数について詳しい説明があります。  "
      ]
    },
    {
      "cell_type": "code",
      "metadata": {
        "colab": {
          "base_uri": "https://localhost:8080/",
          "height": 100
        },
        "id": "HUyqmej5FrHz",
        "outputId": "0dc9fc84-0b13-4ba6-832d-ec53b858c876"
      },
      "source": [
        "#下段\n",
        "res.summary().tables[2]"
      ],
      "execution_count": 22,
      "outputs": [
        {
          "output_type": "execute_result",
          "data": {
            "text/html": [
              "<table class=\"simpletable\">\n",
              "<tr>\n",
              "  <th>Omnibus:</th>       <td>44.781</td> <th>  Durbin-Watson:     </th> <td>   2.021</td>\n",
              "</tr>\n",
              "<tr>\n",
              "  <th>Prob(Omnibus):</th> <td> 0.000</td> <th>  Jarque-Bera (JB):  </th> <td> 201.410</td>\n",
              "</tr>\n",
              "<tr>\n",
              "  <th>Skew:</th>          <td> 2.395</td> <th>  Prob(JB):          </th> <td>1.84e-44</td>\n",
              "</tr>\n",
              "<tr>\n",
              "  <th>Kurtosis:</th>      <td>12.063</td> <th>  Cond. No.          </th> <td>    128.</td>\n",
              "</tr>\n",
              "</table>"
            ],
            "text/plain": [
              "<class 'statsmodels.iolib.table.SimpleTable'>"
            ]
          },
          "metadata": {
            "tags": []
          },
          "execution_count": 22
        }
      ]
    },
    {
      "cell_type": "markdown",
      "metadata": {
        "id": "GBseIwvFFrHz"
      },
      "source": [
        "- Omnibus：オムニバス統計量\n",
        "- Prob(Omunibus)：オムニバス統計量のP値\n",
        "- Skew：歪度、Skew<0:右に寄る,Skew=左右対称,Skew>0:左に寄る\n",
        "- Kurtosis：尖度、大きいほど尖っている\n",
        "- Durbin-Watson：ダービン・ワトソン比,時系列データの自己相関の分析\n",
        "- Jarque-Bera (JB) :ジャック-ベラ検定、\n",
        "- Prob(JB):ジャック-ベラ検定統計量のP値\n",
        "- Cond. No.：条件数(Condition number),多重共線性の目安。小さいほど良いとされる。"
      ]
    },
    {
      "cell_type": "markdown",
      "metadata": {
        "id": "6oEHWiBwFrH0"
      },
      "source": [
        "次に、被説明変数の変化率の増減を分析したい場合や、説明変数の割合が増加したことによる被説明変数への影響を分析したい場合、対数logを用いて分析します。数式にすると、  \n",
        "$Y = In\\hat{\\alpha} + In\\hat{\\beta}X + \\hat{u}$  \n",
        "と書けます。  \n",
        "ここでは、上の例を使って、平均気温が１％上昇したときに、ビールの消費量がどれほどの割合で増減したか、分析してみます。"
      ]
    },
    {
      "cell_type": "code",
      "metadata": {
        "colab": {
          "base_uri": "https://localhost:8080/"
        },
        "id": "u8A6TiYtFrH0",
        "outputId": "8bb16892-3533-4c0b-88e2-6edab09f006c"
      },
      "source": [
        "#numpyを使って対数を導出\n",
        "y,x = df['per_beer'],df['ave_temp']\n",
        "\n",
        "formula_log = 'np.log(y) ~ np.log(x)'\n",
        "mod_log = ols(formula_log, data=df)\n",
        "res_log = ols(formula_log, data=df).fit()\n",
        "res_log.params"
      ],
      "execution_count": 23,
      "outputs": [
        {
          "output_type": "execute_result",
          "data": {
            "text/plain": [
              "Intercept    3.930519\n",
              "np.log(x)   -0.334184\n",
              "dtype: float64"
            ]
          },
          "metadata": {
            "tags": []
          },
          "execution_count": 23
        }
      ]
    },
    {
      "cell_type": "markdown",
      "metadata": {
        "id": "X0ktUFzzFrH1"
      },
      "source": [
        "$Y = In\\hat{\\alpha} + In\\hat{\\beta}X + \\hat{u}$より、  \n",
        "$Y = 3.9305 + -0.3341X + u$  \n",
        "です。"
      ]
    },
    {
      "cell_type": "markdown",
      "metadata": {
        "id": "NVWscKn4FrH1"
      },
      "source": [
        "この結果より、平均気温が1％増加したとき、ビールの消費量は0.334%減少する。という結果が得られました。"
      ]
    },
    {
      "cell_type": "code",
      "metadata": {
        "colab": {
          "base_uri": "https://localhost:8080/",
          "height": 434
        },
        "id": "8hpfiUTFFrH1",
        "outputId": "cbde08b1-9b1c-4e38-aa6d-474b372ef078"
      },
      "source": [
        "res_log.summary()"
      ],
      "execution_count": 24,
      "outputs": [
        {
          "output_type": "execute_result",
          "data": {
            "text/html": [
              "<table class=\"simpletable\">\n",
              "<caption>OLS Regression Results</caption>\n",
              "<tr>\n",
              "  <th>Dep. Variable:</th>        <td>np.log(y)</td>    <th>  R-squared:         </th> <td>   0.063</td>\n",
              "</tr>\n",
              "<tr>\n",
              "  <th>Model:</th>                   <td>OLS</td>       <th>  Adj. R-squared:    </th> <td>   0.042</td>\n",
              "</tr>\n",
              "<tr>\n",
              "  <th>Method:</th>             <td>Least Squares</td>  <th>  F-statistic:       </th> <td>   2.976</td>\n",
              "</tr>\n",
              "<tr>\n",
              "  <th>Date:</th>             <td>Sat, 20 Mar 2021</td> <th>  Prob (F-statistic):</th>  <td>0.0915</td> \n",
              "</tr>\n",
              "<tr>\n",
              "  <th>Time:</th>                 <td>06:06:21</td>     <th>  Log-Likelihood:    </th> <td>  12.869</td>\n",
              "</tr>\n",
              "<tr>\n",
              "  <th>No. Observations:</th>      <td>    46</td>      <th>  AIC:               </th> <td>  -21.74</td>\n",
              "</tr>\n",
              "<tr>\n",
              "  <th>Df Residuals:</th>          <td>    44</td>      <th>  BIC:               </th> <td>  -18.08</td>\n",
              "</tr>\n",
              "<tr>\n",
              "  <th>Df Model:</th>              <td>     1</td>      <th>                     </th>     <td> </td>   \n",
              "</tr>\n",
              "<tr>\n",
              "  <th>Covariance Type:</th>      <td>nonrobust</td>    <th>                     </th>     <td> </td>   \n",
              "</tr>\n",
              "</table>\n",
              "<table class=\"simpletable\">\n",
              "<tr>\n",
              "      <td></td>         <th>coef</th>     <th>std err</th>      <th>t</th>      <th>P>|t|</th>  <th>[0.025</th>    <th>0.975]</th>  \n",
              "</tr>\n",
              "<tr>\n",
              "  <th>Intercept</th> <td>    3.9305</td> <td>    0.534</td> <td>    7.355</td> <td> 0.000</td> <td>    2.854</td> <td>    5.007</td>\n",
              "</tr>\n",
              "<tr>\n",
              "  <th>np.log(x)</th> <td>   -0.3342</td> <td>    0.194</td> <td>   -1.725</td> <td> 0.092</td> <td>   -0.725</td> <td>    0.056</td>\n",
              "</tr>\n",
              "</table>\n",
              "<table class=\"simpletable\">\n",
              "<tr>\n",
              "  <th>Omnibus:</th>       <td>20.105</td> <th>  Durbin-Watson:     </th> <td>   2.015</td>\n",
              "</tr>\n",
              "<tr>\n",
              "  <th>Prob(Omnibus):</th> <td> 0.000</td> <th>  Jarque-Bera (JB):  </th> <td>  37.935</td>\n",
              "</tr>\n",
              "<tr>\n",
              "  <th>Skew:</th>          <td> 1.193</td> <th>  Prob(JB):          </th> <td>5.79e-09</td>\n",
              "</tr>\n",
              "<tr>\n",
              "  <th>Kurtosis:</th>      <td> 6.755</td> <th>  Cond. No.          </th> <td>    60.5</td>\n",
              "</tr>\n",
              "</table><br/><br/>Warnings:<br/>[1] Standard Errors assume that the covariance matrix of the errors is correctly specified."
            ],
            "text/plain": [
              "<class 'statsmodels.iolib.summary.Summary'>\n",
              "\"\"\"\n",
              "                            OLS Regression Results                            \n",
              "==============================================================================\n",
              "Dep. Variable:              np.log(y)   R-squared:                       0.063\n",
              "Model:                            OLS   Adj. R-squared:                  0.042\n",
              "Method:                 Least Squares   F-statistic:                     2.976\n",
              "Date:                Sat, 20 Mar 2021   Prob (F-statistic):             0.0915\n",
              "Time:                        06:06:21   Log-Likelihood:                 12.869\n",
              "No. Observations:                  46   AIC:                            -21.74\n",
              "Df Residuals:                      44   BIC:                            -18.08\n",
              "Df Model:                           1                                         \n",
              "Covariance Type:            nonrobust                                         \n",
              "==============================================================================\n",
              "                 coef    std err          t      P>|t|      [0.025      0.975]\n",
              "------------------------------------------------------------------------------\n",
              "Intercept      3.9305      0.534      7.355      0.000       2.854       5.007\n",
              "np.log(x)     -0.3342      0.194     -1.725      0.092      -0.725       0.056\n",
              "==============================================================================\n",
              "Omnibus:                       20.105   Durbin-Watson:                   2.015\n",
              "Prob(Omnibus):                  0.000   Jarque-Bera (JB):               37.935\n",
              "Skew:                           1.193   Prob(JB):                     5.79e-09\n",
              "Kurtosis:                       6.755   Cond. No.                         60.5\n",
              "==============================================================================\n",
              "\n",
              "Warnings:\n",
              "[1] Standard Errors assume that the covariance matrix of the errors is correctly specified.\n",
              "\"\"\""
            ]
          },
          "metadata": {
            "tags": []
          },
          "execution_count": 24
        }
      ]
    },
    {
      "cell_type": "markdown",
      "metadata": {
        "id": "UqCPA6jJFrH2"
      },
      "source": [
        "## 実践１  <a id='sec1_7'></a>  \n",
        "[先頭に戻る](#top)"
      ]
    },
    {
      "cell_type": "markdown",
      "metadata": {
        "id": "WaSFjaTIFrH2"
      },
      "source": [
        "ここに、あるお店の売り上げデータがあります。salesは売上金額(万円)、meterは駅からの距離(m)、squareは店の広さ(平米)、competitionは競合店舗の数、sakeは酒類の提供の有無を示すダミー変数です。"
      ]
    },
    {
      "cell_type": "code",
      "metadata": {
        "colab": {
          "base_uri": "https://localhost:8080/",
          "height": 282
        },
        "id": "0CGmDN4DFrH2",
        "outputId": "8621e939-0d09-4c0b-924a-4f66849c8a17"
      },
      "source": [
        "task_list = [[72.3,50,40.5,1,0],[58.5,120,66.7,5,1],[43.8,280,42.0,4,0],[64.8,80,81.2,3,0],[45.7,540,70.3,2,1],[61.5,200,52.8,4,1],[55.3,350,88.4,2,1],[31.0,720,55.9,4,1]]\n",
        "df_task = pd.DataFrame(task_list)\n",
        "df_task.columns=['sales', 'meter','square','competition','sake']\n",
        "df_task"
      ],
      "execution_count": 25,
      "outputs": [
        {
          "output_type": "execute_result",
          "data": {
            "text/html": [
              "<div>\n",
              "<style scoped>\n",
              "    .dataframe tbody tr th:only-of-type {\n",
              "        vertical-align: middle;\n",
              "    }\n",
              "\n",
              "    .dataframe tbody tr th {\n",
              "        vertical-align: top;\n",
              "    }\n",
              "\n",
              "    .dataframe thead th {\n",
              "        text-align: right;\n",
              "    }\n",
              "</style>\n",
              "<table border=\"1\" class=\"dataframe\">\n",
              "  <thead>\n",
              "    <tr style=\"text-align: right;\">\n",
              "      <th></th>\n",
              "      <th>sales</th>\n",
              "      <th>meter</th>\n",
              "      <th>square</th>\n",
              "      <th>competition</th>\n",
              "      <th>sake</th>\n",
              "    </tr>\n",
              "  </thead>\n",
              "  <tbody>\n",
              "    <tr>\n",
              "      <th>0</th>\n",
              "      <td>72.3</td>\n",
              "      <td>50</td>\n",
              "      <td>40.5</td>\n",
              "      <td>1</td>\n",
              "      <td>0</td>\n",
              "    </tr>\n",
              "    <tr>\n",
              "      <th>1</th>\n",
              "      <td>58.5</td>\n",
              "      <td>120</td>\n",
              "      <td>66.7</td>\n",
              "      <td>5</td>\n",
              "      <td>1</td>\n",
              "    </tr>\n",
              "    <tr>\n",
              "      <th>2</th>\n",
              "      <td>43.8</td>\n",
              "      <td>280</td>\n",
              "      <td>42.0</td>\n",
              "      <td>4</td>\n",
              "      <td>0</td>\n",
              "    </tr>\n",
              "    <tr>\n",
              "      <th>3</th>\n",
              "      <td>64.8</td>\n",
              "      <td>80</td>\n",
              "      <td>81.2</td>\n",
              "      <td>3</td>\n",
              "      <td>0</td>\n",
              "    </tr>\n",
              "    <tr>\n",
              "      <th>4</th>\n",
              "      <td>45.7</td>\n",
              "      <td>540</td>\n",
              "      <td>70.3</td>\n",
              "      <td>2</td>\n",
              "      <td>1</td>\n",
              "    </tr>\n",
              "    <tr>\n",
              "      <th>5</th>\n",
              "      <td>61.5</td>\n",
              "      <td>200</td>\n",
              "      <td>52.8</td>\n",
              "      <td>4</td>\n",
              "      <td>1</td>\n",
              "    </tr>\n",
              "    <tr>\n",
              "      <th>6</th>\n",
              "      <td>55.3</td>\n",
              "      <td>350</td>\n",
              "      <td>88.4</td>\n",
              "      <td>2</td>\n",
              "      <td>1</td>\n",
              "    </tr>\n",
              "    <tr>\n",
              "      <th>7</th>\n",
              "      <td>31.0</td>\n",
              "      <td>720</td>\n",
              "      <td>55.9</td>\n",
              "      <td>4</td>\n",
              "      <td>1</td>\n",
              "    </tr>\n",
              "  </tbody>\n",
              "</table>\n",
              "</div>"
            ],
            "text/plain": [
              "   sales  meter  square  competition  sake\n",
              "0   72.3     50    40.5            1     0\n",
              "1   58.5    120    66.7            5     1\n",
              "2   43.8    280    42.0            4     0\n",
              "3   64.8     80    81.2            3     0\n",
              "4   45.7    540    70.3            2     1\n",
              "5   61.5    200    52.8            4     1\n",
              "6   55.3    350    88.4            2     1\n",
              "7   31.0    720    55.9            4     1"
            ]
          },
          "metadata": {
            "tags": []
          },
          "execution_count": 25
        }
      ]
    },
    {
      "cell_type": "markdown",
      "metadata": {
        "id": "fgWG9KKOFrH3"
      },
      "source": [
        "**このデータを用いて単回帰分析を行い、お店の広さが売り上げに与える影響を分析してみましょう！**"
      ]
    },
    {
      "cell_type": "markdown",
      "metadata": {
        "id": "W0llXPGJFrH3"
      },
      "source": [
        "kurtosisとは尖度のことです。データ数が20以上でないと十分な尖度のテストができないので、エラーが表示されています。"
      ]
    },
    {
      "cell_type": "markdown",
      "metadata": {
        "id": "dFnAO3WiFrH4"
      },
      "source": [
        "## 重回帰分析  <a id='sec2'></a>  \n",
        "[先頭に戻る](#top)  "
      ]
    },
    {
      "cell_type": "code",
      "metadata": {
        "id": "veD1T57zFrH4"
      },
      "source": [
        "import numpy as np\n",
        "from scipy.stats import norm, uniform, gaussian_kde, multivariate_normal\n",
        "import pandas as pd\n",
        "from pandas.plotting import scatter_matrix\n",
        "import matplotlib.pyplot as plt\n",
        "from statsmodels.formula.api import ols\n",
        "from statsmodels.stats.outliers_influence import variance_inflation_factor as vif\n",
        "import seaborn as sns\n",
        "from see import see\n",
        "from sklearn.model_selection import train_test_split"
      ],
      "execution_count": 26,
      "outputs": []
    },
    {
      "cell_type": "markdown",
      "metadata": {
        "id": "r08NyS0PFrH5"
      },
      "source": [
        "ここでは修学年数と性別差が、賃金に与える影響を分析します。"
      ]
    },
    {
      "cell_type": "code",
      "metadata": {
        "colab": {
          "base_uri": "https://localhost:8080/",
          "height": 399
        },
        "id": "-Cm_SlvNFrH5",
        "outputId": "91cc5e86-7613-4746-8392-fcd307a67df6"
      },
      "source": [
        "df_income = pd.read_csv(\"7_1_income.csv\")\n",
        "df_income"
      ],
      "execution_count": 27,
      "outputs": [
        {
          "output_type": "execute_result",
          "data": {
            "text/html": [
              "<div>\n",
              "<style scoped>\n",
              "    .dataframe tbody tr th:only-of-type {\n",
              "        vertical-align: middle;\n",
              "    }\n",
              "\n",
              "    .dataframe tbody tr th {\n",
              "        vertical-align: top;\n",
              "    }\n",
              "\n",
              "    .dataframe thead th {\n",
              "        text-align: right;\n",
              "    }\n",
              "</style>\n",
              "<table border=\"1\" class=\"dataframe\">\n",
              "  <thead>\n",
              "    <tr style=\"text-align: right;\">\n",
              "      <th></th>\n",
              "      <th>female</th>\n",
              "      <th>yeduc</th>\n",
              "      <th>lincome</th>\n",
              "      <th>female_yeduc</th>\n",
              "    </tr>\n",
              "  </thead>\n",
              "  <tbody>\n",
              "    <tr>\n",
              "      <th>0</th>\n",
              "      <td>0</td>\n",
              "      <td>9</td>\n",
              "      <td>4.605170</td>\n",
              "      <td>0</td>\n",
              "    </tr>\n",
              "    <tr>\n",
              "      <th>1</th>\n",
              "      <td>0</td>\n",
              "      <td>9</td>\n",
              "      <td>5.010635</td>\n",
              "      <td>0</td>\n",
              "    </tr>\n",
              "    <tr>\n",
              "      <th>2</th>\n",
              "      <td>0</td>\n",
              "      <td>9</td>\n",
              "      <td>4.605170</td>\n",
              "      <td>0</td>\n",
              "    </tr>\n",
              "    <tr>\n",
              "      <th>3</th>\n",
              "      <td>0</td>\n",
              "      <td>9</td>\n",
              "      <td>5.010635</td>\n",
              "      <td>0</td>\n",
              "    </tr>\n",
              "    <tr>\n",
              "      <th>4</th>\n",
              "      <td>0</td>\n",
              "      <td>9</td>\n",
              "      <td>5.329089</td>\n",
              "      <td>0</td>\n",
              "    </tr>\n",
              "    <tr>\n",
              "      <th>...</th>\n",
              "      <td>...</td>\n",
              "      <td>...</td>\n",
              "      <td>...</td>\n",
              "      <td>...</td>\n",
              "    </tr>\n",
              "    <tr>\n",
              "      <th>4281</th>\n",
              "      <td>1</td>\n",
              "      <td>18</td>\n",
              "      <td>6.396930</td>\n",
              "      <td>18</td>\n",
              "    </tr>\n",
              "    <tr>\n",
              "      <th>4282</th>\n",
              "      <td>1</td>\n",
              "      <td>18</td>\n",
              "      <td>6.396930</td>\n",
              "      <td>18</td>\n",
              "    </tr>\n",
              "    <tr>\n",
              "      <th>4283</th>\n",
              "      <td>1</td>\n",
              "      <td>18</td>\n",
              "      <td>6.551080</td>\n",
              "      <td>18</td>\n",
              "    </tr>\n",
              "    <tr>\n",
              "      <th>4284</th>\n",
              "      <td>1</td>\n",
              "      <td>18</td>\n",
              "      <td>6.396930</td>\n",
              "      <td>18</td>\n",
              "    </tr>\n",
              "    <tr>\n",
              "      <th>4285</th>\n",
              "      <td>1</td>\n",
              "      <td>18</td>\n",
              "      <td>6.620073</td>\n",
              "      <td>18</td>\n",
              "    </tr>\n",
              "  </tbody>\n",
              "</table>\n",
              "<p>4286 rows × 4 columns</p>\n",
              "</div>"
            ],
            "text/plain": [
              "      female  yeduc   lincome  female_yeduc\n",
              "0          0      9  4.605170             0\n",
              "1          0      9  5.010635             0\n",
              "2          0      9  4.605170             0\n",
              "3          0      9  5.010635             0\n",
              "4          0      9  5.329089             0\n",
              "...      ...    ...       ...           ...\n",
              "4281       1     18  6.396930            18\n",
              "4282       1     18  6.396930            18\n",
              "4283       1     18  6.551080            18\n",
              "4284       1     18  6.396930            18\n",
              "4285       1     18  6.620073            18\n",
              "\n",
              "[4286 rows x 4 columns]"
            ]
          },
          "metadata": {
            "tags": []
          },
          "execution_count": 27
        }
      ]
    },
    {
      "cell_type": "markdown",
      "metadata": {
        "id": "7DdOvFs7FrH5"
      },
      "source": [
        "ここで、以下のモデルに当てはめてみる。  \n",
        "$lincome = \\beta_0 + \\beta_1{yeduc} + \\beta_2{female} + U$"
      ]
    },
    {
      "cell_type": "code",
      "metadata": {
        "colab": {
          "base_uri": "https://localhost:8080/"
        },
        "id": "Evymaga7FrH6",
        "outputId": "6cda69c3-8e75-4c2d-eacd-fbe384344465"
      },
      "source": [
        "#被説明変数と説明変数を追加\n",
        "formula_income = \"lincome ~ yeduc + female\"\n",
        "\n",
        "res_income = ols(formula_income,data = df_income).fit()\n",
        "\n",
        "#係数の推定値を取得\n",
        "res_income.params"
      ],
      "execution_count": 28,
      "outputs": [
        {
          "output_type": "execute_result",
          "data": {
            "text/plain": [
              "Intercept    4.863272\n",
              "yeduc        0.058598\n",
              "female      -0.832148\n",
              "dtype: float64"
            ]
          },
          "metadata": {
            "tags": []
          },
          "execution_count": 28
        }
      ]
    },
    {
      "cell_type": "markdown",
      "metadata": {
        "id": "Xm_qlB10FrH6"
      },
      "source": [
        "従って、得られた重回帰直線は  \n",
        "$lincome = 4.8633+ 0.0586{yeduc} -0.8321{female} + U$"
      ]
    },
    {
      "cell_type": "code",
      "metadata": {
        "colab": {
          "base_uri": "https://localhost:8080/",
          "height": 454
        },
        "id": "36Q_gFgiFrH6",
        "outputId": "a100b32d-f65a-4b67-d43d-771aa43a0f48"
      },
      "source": [
        "res_income.summary()"
      ],
      "execution_count": 29,
      "outputs": [
        {
          "output_type": "execute_result",
          "data": {
            "text/html": [
              "<table class=\"simpletable\">\n",
              "<caption>OLS Regression Results</caption>\n",
              "<tr>\n",
              "  <th>Dep. Variable:</th>         <td>lincome</td>     <th>  R-squared:         </th> <td>   0.220</td> \n",
              "</tr>\n",
              "<tr>\n",
              "  <th>Model:</th>                   <td>OLS</td>       <th>  Adj. R-squared:    </th> <td>   0.220</td> \n",
              "</tr>\n",
              "<tr>\n",
              "  <th>Method:</th>             <td>Least Squares</td>  <th>  F-statistic:       </th> <td>   605.0</td> \n",
              "</tr>\n",
              "<tr>\n",
              "  <th>Date:</th>             <td>Sat, 20 Mar 2021</td> <th>  Prob (F-statistic):</th> <td>3.98e-232</td>\n",
              "</tr>\n",
              "<tr>\n",
              "  <th>Time:</th>                 <td>06:06:25</td>     <th>  Log-Likelihood:    </th> <td> -5265.0</td> \n",
              "</tr>\n",
              "<tr>\n",
              "  <th>No. Observations:</th>      <td>  4286</td>      <th>  AIC:               </th> <td>1.054e+04</td>\n",
              "</tr>\n",
              "<tr>\n",
              "  <th>Df Residuals:</th>          <td>  4283</td>      <th>  BIC:               </th> <td>1.056e+04</td>\n",
              "</tr>\n",
              "<tr>\n",
              "  <th>Df Model:</th>              <td>     2</td>      <th>                     </th>     <td> </td>    \n",
              "</tr>\n",
              "<tr>\n",
              "  <th>Covariance Type:</th>      <td>nonrobust</td>    <th>                     </th>     <td> </td>    \n",
              "</tr>\n",
              "</table>\n",
              "<table class=\"simpletable\">\n",
              "<tr>\n",
              "      <td></td>         <th>coef</th>     <th>std err</th>      <th>t</th>      <th>P>|t|</th>  <th>[0.025</th>    <th>0.975]</th>  \n",
              "</tr>\n",
              "<tr>\n",
              "  <th>Intercept</th> <td>    4.8633</td> <td>    0.096</td> <td>   50.593</td> <td> 0.000</td> <td>    4.675</td> <td>    5.052</td>\n",
              "</tr>\n",
              "<tr>\n",
              "  <th>yeduc</th>     <td>    0.0586</td> <td>    0.007</td> <td>    8.696</td> <td> 0.000</td> <td>    0.045</td> <td>    0.072</td>\n",
              "</tr>\n",
              "<tr>\n",
              "  <th>female</th>    <td>   -0.8321</td> <td>    0.025</td> <td>  -32.827</td> <td> 0.000</td> <td>   -0.882</td> <td>   -0.782</td>\n",
              "</tr>\n",
              "</table>\n",
              "<table class=\"simpletable\">\n",
              "<tr>\n",
              "  <th>Omnibus:</th>       <td>1327.704</td> <th>  Durbin-Watson:     </th> <td>   0.912</td>\n",
              "</tr>\n",
              "<tr>\n",
              "  <th>Prob(Omnibus):</th>  <td> 0.000</td>  <th>  Jarque-Bera (JB):  </th> <td>4079.440</td>\n",
              "</tr>\n",
              "<tr>\n",
              "  <th>Skew:</th>           <td>-1.594</td>  <th>  Prob(JB):          </th> <td>    0.00</td>\n",
              "</tr>\n",
              "<tr>\n",
              "  <th>Kurtosis:</th>       <td> 6.562</td>  <th>  Cond. No.          </th> <td>    107.</td>\n",
              "</tr>\n",
              "</table><br/><br/>Warnings:<br/>[1] Standard Errors assume that the covariance matrix of the errors is correctly specified."
            ],
            "text/plain": [
              "<class 'statsmodels.iolib.summary.Summary'>\n",
              "\"\"\"\n",
              "                            OLS Regression Results                            \n",
              "==============================================================================\n",
              "Dep. Variable:                lincome   R-squared:                       0.220\n",
              "Model:                            OLS   Adj. R-squared:                  0.220\n",
              "Method:                 Least Squares   F-statistic:                     605.0\n",
              "Date:                Sat, 20 Mar 2021   Prob (F-statistic):          3.98e-232\n",
              "Time:                        06:06:25   Log-Likelihood:                -5265.0\n",
              "No. Observations:                4286   AIC:                         1.054e+04\n",
              "Df Residuals:                    4283   BIC:                         1.056e+04\n",
              "Df Model:                           2                                         \n",
              "Covariance Type:            nonrobust                                         \n",
              "==============================================================================\n",
              "                 coef    std err          t      P>|t|      [0.025      0.975]\n",
              "------------------------------------------------------------------------------\n",
              "Intercept      4.8633      0.096     50.593      0.000       4.675       5.052\n",
              "yeduc          0.0586      0.007      8.696      0.000       0.045       0.072\n",
              "female        -0.8321      0.025    -32.827      0.000      -0.882      -0.782\n",
              "==============================================================================\n",
              "Omnibus:                     1327.704   Durbin-Watson:                   0.912\n",
              "Prob(Omnibus):                  0.000   Jarque-Bera (JB):             4079.440\n",
              "Skew:                          -1.594   Prob(JB):                         0.00\n",
              "Kurtosis:                       6.562   Cond. No.                         107.\n",
              "==============================================================================\n",
              "\n",
              "Warnings:\n",
              "[1] Standard Errors assume that the covariance matrix of the errors is correctly specified.\n",
              "\"\"\""
            ]
          },
          "metadata": {
            "tags": []
          },
          "execution_count": 29
        }
      ]
    },
    {
      "cell_type": "markdown",
      "metadata": {
        "id": "b7O-JVHCFrH7"
      },
      "source": [
        "**Q:この表から何が言えるのか、検討してみましょう。**"
      ]
    },
    {
      "cell_type": "markdown",
      "metadata": {
        "id": "6O0WnO5uFrH7"
      },
      "source": [
        "### 実践2  <a id='sec2_1'></a>  \n",
        "**df_taskデータを用いて重回帰分析を行ってみましょう。**"
      ]
    },
    {
      "cell_type": "code",
      "metadata": {
        "colab": {
          "base_uri": "https://localhost:8080/",
          "height": 282
        },
        "id": "hp0fin-RFrH8",
        "outputId": "b9b9650d-1976-4572-8487-cd9ebf432590"
      },
      "source": [
        "df_task"
      ],
      "execution_count": 30,
      "outputs": [
        {
          "output_type": "execute_result",
          "data": {
            "text/html": [
              "<div>\n",
              "<style scoped>\n",
              "    .dataframe tbody tr th:only-of-type {\n",
              "        vertical-align: middle;\n",
              "    }\n",
              "\n",
              "    .dataframe tbody tr th {\n",
              "        vertical-align: top;\n",
              "    }\n",
              "\n",
              "    .dataframe thead th {\n",
              "        text-align: right;\n",
              "    }\n",
              "</style>\n",
              "<table border=\"1\" class=\"dataframe\">\n",
              "  <thead>\n",
              "    <tr style=\"text-align: right;\">\n",
              "      <th></th>\n",
              "      <th>sales</th>\n",
              "      <th>meter</th>\n",
              "      <th>square</th>\n",
              "      <th>competition</th>\n",
              "      <th>sake</th>\n",
              "    </tr>\n",
              "  </thead>\n",
              "  <tbody>\n",
              "    <tr>\n",
              "      <th>0</th>\n",
              "      <td>72.3</td>\n",
              "      <td>50</td>\n",
              "      <td>40.5</td>\n",
              "      <td>1</td>\n",
              "      <td>0</td>\n",
              "    </tr>\n",
              "    <tr>\n",
              "      <th>1</th>\n",
              "      <td>58.5</td>\n",
              "      <td>120</td>\n",
              "      <td>66.7</td>\n",
              "      <td>5</td>\n",
              "      <td>1</td>\n",
              "    </tr>\n",
              "    <tr>\n",
              "      <th>2</th>\n",
              "      <td>43.8</td>\n",
              "      <td>280</td>\n",
              "      <td>42.0</td>\n",
              "      <td>4</td>\n",
              "      <td>0</td>\n",
              "    </tr>\n",
              "    <tr>\n",
              "      <th>3</th>\n",
              "      <td>64.8</td>\n",
              "      <td>80</td>\n",
              "      <td>81.2</td>\n",
              "      <td>3</td>\n",
              "      <td>0</td>\n",
              "    </tr>\n",
              "    <tr>\n",
              "      <th>4</th>\n",
              "      <td>45.7</td>\n",
              "      <td>540</td>\n",
              "      <td>70.3</td>\n",
              "      <td>2</td>\n",
              "      <td>1</td>\n",
              "    </tr>\n",
              "    <tr>\n",
              "      <th>5</th>\n",
              "      <td>61.5</td>\n",
              "      <td>200</td>\n",
              "      <td>52.8</td>\n",
              "      <td>4</td>\n",
              "      <td>1</td>\n",
              "    </tr>\n",
              "    <tr>\n",
              "      <th>6</th>\n",
              "      <td>55.3</td>\n",
              "      <td>350</td>\n",
              "      <td>88.4</td>\n",
              "      <td>2</td>\n",
              "      <td>1</td>\n",
              "    </tr>\n",
              "    <tr>\n",
              "      <th>7</th>\n",
              "      <td>31.0</td>\n",
              "      <td>720</td>\n",
              "      <td>55.9</td>\n",
              "      <td>4</td>\n",
              "      <td>1</td>\n",
              "    </tr>\n",
              "  </tbody>\n",
              "</table>\n",
              "</div>"
            ],
            "text/plain": [
              "   sales  meter  square  competition  sake\n",
              "0   72.3     50    40.5            1     0\n",
              "1   58.5    120    66.7            5     1\n",
              "2   43.8    280    42.0            4     0\n",
              "3   64.8     80    81.2            3     0\n",
              "4   45.7    540    70.3            2     1\n",
              "5   61.5    200    52.8            4     1\n",
              "6   55.3    350    88.4            2     1\n",
              "7   31.0    720    55.9            4     1"
            ]
          },
          "metadata": {
            "tags": []
          },
          "execution_count": 30
        }
      ]
    },
    {
      "cell_type": "markdown",
      "metadata": {
        "id": "ncaMXRyoFrH8"
      },
      "source": [
        "重回帰分析キーワード  \n",
        "- 多重共線性  \n",
        "多重共線性をはかる指標の一つである、VIF統計量は下で述べます。"
      ]
    },
    {
      "cell_type": "markdown",
      "metadata": {
        "id": "jgrs26L-FrH8"
      },
      "source": [
        "## 予測(機械学習)<a id='sec3'></a>  \n",
        "[先頭に戻る](#top)  "
      ]
    },
    {
      "cell_type": "markdown",
      "metadata": {
        "id": "eAqix3KTFrH9"
      },
      "source": [
        "重回帰分析の章で扱った女性のincomeデータを用いて、機械学習モデルで予測をしてみる。"
      ]
    },
    {
      "cell_type": "code",
      "metadata": {
        "id": "e_b7dRUQFrH9"
      },
      "source": [
        "t = df_income[\"lincome\"].values\n",
        "x = df_income.drop(labels=[\"lincome\",\"female_yeduc\"],axis = 1).values"
      ],
      "execution_count": 31,
      "outputs": []
    },
    {
      "cell_type": "code",
      "metadata": {
        "id": "gKFBqPwhFrH9"
      },
      "source": [
        "#テストデータと訓練データの分割\n",
        "from sklearn.model_selection import train_test_split\n",
        "x_train,x_test,t_train,t_test = train_test_split(x, t, test_size=0.3,random_state=0)"
      ],
      "execution_count": 32,
      "outputs": []
    },
    {
      "cell_type": "code",
      "metadata": {
        "id": "IEVSHYyoFrH-"
      },
      "source": [
        "#件数の確認\n",
        "#print(len(x_test))\n",
        "#print(len(x_train))"
      ],
      "execution_count": 33,
      "outputs": []
    },
    {
      "cell_type": "code",
      "metadata": {
        "colab": {
          "base_uri": "https://localhost:8080/"
        },
        "id": "x7oAsQ1NFrH-",
        "outputId": "179a8ada-235c-451d-f9f2-8f6a4e97f531"
      },
      "source": [
        "#アルゴリズムの宣言\n",
        "from sklearn.linear_model import LinearRegression\n",
        "model = LinearRegression()\n",
        "\n",
        "#モデルに使用するデータを当てはめる。\n",
        "model.fit(x_train,t_train)"
      ],
      "execution_count": 34,
      "outputs": [
        {
          "output_type": "execute_result",
          "data": {
            "text/plain": [
              "LinearRegression(copy_X=True, fit_intercept=True, n_jobs=None, normalize=False)"
            ]
          },
          "metadata": {
            "tags": []
          },
          "execution_count": 34
        }
      ]
    },
    {
      "cell_type": "code",
      "metadata": {
        "colab": {
          "base_uri": "https://localhost:8080/"
        },
        "id": "UlNWnflkFrH-",
        "outputId": "d3e670c4-0dcd-4dd6-ed10-aa24c9541ea1"
      },
      "source": [
        "#訓練データから得られた係数\n",
        "model.coef_"
      ],
      "execution_count": 35,
      "outputs": [
        {
          "output_type": "execute_result",
          "data": {
            "text/plain": [
              "array([-0.82293669,  0.06667076])"
            ]
          },
          "metadata": {
            "tags": []
          },
          "execution_count": 35
        }
      ]
    },
    {
      "cell_type": "code",
      "metadata": {
        "colab": {
          "base_uri": "https://localhost:8080/"
        },
        "id": "c9dxSty-FrH_",
        "outputId": "2bd8921a-b8d3-4ecc-93ac-cfce53576a56"
      },
      "source": [
        "#重回帰分析の章で得た推定値は以下の通りでした。おおよそ似通った値が得られています。\n",
        "res_income.params"
      ],
      "execution_count": 36,
      "outputs": [
        {
          "output_type": "execute_result",
          "data": {
            "text/plain": [
              "Intercept    4.863272\n",
              "yeduc        0.058598\n",
              "female      -0.832148\n",
              "dtype: float64"
            ]
          },
          "metadata": {
            "tags": []
          },
          "execution_count": 36
        }
      ]
    },
    {
      "cell_type": "code",
      "metadata": {
        "colab": {
          "base_uri": "https://localhost:8080/"
        },
        "id": "389oW5q4FrH_",
        "outputId": "3cdc8cfa-d76f-4c41-8926-181d59f9c8e2"
      },
      "source": [
        "#切片が確認できる。\n",
        "model.intercept_"
      ],
      "execution_count": 37,
      "outputs": [
        {
          "output_type": "execute_result",
          "data": {
            "text/plain": [
              "4.752722639925593"
            ]
          },
          "metadata": {
            "tags": []
          },
          "execution_count": 37
        }
      ]
    },
    {
      "cell_type": "code",
      "metadata": {
        "colab": {
          "base_uri": "https://localhost:8080/"
        },
        "id": "8yVoyd6PFrIA",
        "outputId": "f5254a4a-f891-4b25-a172-d02837a3d7d3"
      },
      "source": [
        "#決定係数の表示\n",
        "print(f\"train score:{model.score(x_train,t_train)}\")\n",
        "print(f\"test score:{model.score(x_test, t_test)}\")"
      ],
      "execution_count": 38,
      "outputs": [
        {
          "output_type": "stream",
          "text": [
            "train score:0.22382650613186972\n",
            "test score:0.2109899669650963\n"
          ],
          "name": "stdout"
        }
      ]
    },
    {
      "cell_type": "markdown",
      "metadata": {
        "id": "JlmZ2GIxFrIA"
      },
      "source": [
        "決定係数が得られましたが、テストデータの決定係数は訓練データの決定係数には及びませんでした。  \n",
        "テストデータの予測精度を高めることを目標する分野が機械学習です！  \n",
        "有名なモデルでは、決定木(ランダムフォレスト)があります。"
      ]
    },
    {
      "cell_type": "code",
      "metadata": {
        "colab": {
          "base_uri": "https://localhost:8080/",
          "height": 194
        },
        "id": "SUJHRqT1FrIB",
        "outputId": "431308cb-df41-4c9a-e010-41ca93132062"
      },
      "source": [
        "#それでは、ボストン住宅価格データセットを使ってデータ解析をしてみましょう。\n",
        "from sklearn.datasets import load_boston\n",
        "dataset  = load_boston()\n",
        "x,t = dataset.data,dataset.target\n",
        "columns = dataset.feature_names\n",
        "df_boston = pd.DataFrame(x, columns=columns)\n",
        "df_boston[\"Target\"] = t\n",
        "df_boston.head()"
      ],
      "execution_count": 39,
      "outputs": [
        {
          "output_type": "execute_result",
          "data": {
            "text/html": [
              "<div>\n",
              "<style scoped>\n",
              "    .dataframe tbody tr th:only-of-type {\n",
              "        vertical-align: middle;\n",
              "    }\n",
              "\n",
              "    .dataframe tbody tr th {\n",
              "        vertical-align: top;\n",
              "    }\n",
              "\n",
              "    .dataframe thead th {\n",
              "        text-align: right;\n",
              "    }\n",
              "</style>\n",
              "<table border=\"1\" class=\"dataframe\">\n",
              "  <thead>\n",
              "    <tr style=\"text-align: right;\">\n",
              "      <th></th>\n",
              "      <th>CRIM</th>\n",
              "      <th>ZN</th>\n",
              "      <th>INDUS</th>\n",
              "      <th>CHAS</th>\n",
              "      <th>NOX</th>\n",
              "      <th>RM</th>\n",
              "      <th>AGE</th>\n",
              "      <th>DIS</th>\n",
              "      <th>RAD</th>\n",
              "      <th>TAX</th>\n",
              "      <th>PTRATIO</th>\n",
              "      <th>B</th>\n",
              "      <th>LSTAT</th>\n",
              "      <th>Target</th>\n",
              "    </tr>\n",
              "  </thead>\n",
              "  <tbody>\n",
              "    <tr>\n",
              "      <th>0</th>\n",
              "      <td>0.00632</td>\n",
              "      <td>18.0</td>\n",
              "      <td>2.31</td>\n",
              "      <td>0.0</td>\n",
              "      <td>0.538</td>\n",
              "      <td>6.575</td>\n",
              "      <td>65.2</td>\n",
              "      <td>4.0900</td>\n",
              "      <td>1.0</td>\n",
              "      <td>296.0</td>\n",
              "      <td>15.3</td>\n",
              "      <td>396.90</td>\n",
              "      <td>4.98</td>\n",
              "      <td>24.0</td>\n",
              "    </tr>\n",
              "    <tr>\n",
              "      <th>1</th>\n",
              "      <td>0.02731</td>\n",
              "      <td>0.0</td>\n",
              "      <td>7.07</td>\n",
              "      <td>0.0</td>\n",
              "      <td>0.469</td>\n",
              "      <td>6.421</td>\n",
              "      <td>78.9</td>\n",
              "      <td>4.9671</td>\n",
              "      <td>2.0</td>\n",
              "      <td>242.0</td>\n",
              "      <td>17.8</td>\n",
              "      <td>396.90</td>\n",
              "      <td>9.14</td>\n",
              "      <td>21.6</td>\n",
              "    </tr>\n",
              "    <tr>\n",
              "      <th>2</th>\n",
              "      <td>0.02729</td>\n",
              "      <td>0.0</td>\n",
              "      <td>7.07</td>\n",
              "      <td>0.0</td>\n",
              "      <td>0.469</td>\n",
              "      <td>7.185</td>\n",
              "      <td>61.1</td>\n",
              "      <td>4.9671</td>\n",
              "      <td>2.0</td>\n",
              "      <td>242.0</td>\n",
              "      <td>17.8</td>\n",
              "      <td>392.83</td>\n",
              "      <td>4.03</td>\n",
              "      <td>34.7</td>\n",
              "    </tr>\n",
              "    <tr>\n",
              "      <th>3</th>\n",
              "      <td>0.03237</td>\n",
              "      <td>0.0</td>\n",
              "      <td>2.18</td>\n",
              "      <td>0.0</td>\n",
              "      <td>0.458</td>\n",
              "      <td>6.998</td>\n",
              "      <td>45.8</td>\n",
              "      <td>6.0622</td>\n",
              "      <td>3.0</td>\n",
              "      <td>222.0</td>\n",
              "      <td>18.7</td>\n",
              "      <td>394.63</td>\n",
              "      <td>2.94</td>\n",
              "      <td>33.4</td>\n",
              "    </tr>\n",
              "    <tr>\n",
              "      <th>4</th>\n",
              "      <td>0.06905</td>\n",
              "      <td>0.0</td>\n",
              "      <td>2.18</td>\n",
              "      <td>0.0</td>\n",
              "      <td>0.458</td>\n",
              "      <td>7.147</td>\n",
              "      <td>54.2</td>\n",
              "      <td>6.0622</td>\n",
              "      <td>3.0</td>\n",
              "      <td>222.0</td>\n",
              "      <td>18.7</td>\n",
              "      <td>396.90</td>\n",
              "      <td>5.33</td>\n",
              "      <td>36.2</td>\n",
              "    </tr>\n",
              "  </tbody>\n",
              "</table>\n",
              "</div>"
            ],
            "text/plain": [
              "      CRIM    ZN  INDUS  CHAS    NOX  ...    TAX  PTRATIO       B  LSTAT  Target\n",
              "0  0.00632  18.0   2.31   0.0  0.538  ...  296.0     15.3  396.90   4.98    24.0\n",
              "1  0.02731   0.0   7.07   0.0  0.469  ...  242.0     17.8  396.90   9.14    21.6\n",
              "2  0.02729   0.0   7.07   0.0  0.469  ...  242.0     17.8  392.83   4.03    34.7\n",
              "3  0.03237   0.0   2.18   0.0  0.458  ...  222.0     18.7  394.63   2.94    33.4\n",
              "4  0.06905   0.0   2.18   0.0  0.458  ...  222.0     18.7  396.90   5.33    36.2\n",
              "\n",
              "[5 rows x 14 columns]"
            ]
          },
          "metadata": {
            "tags": []
          },
          "execution_count": 39
        }
      ]
    },
    {
      "cell_type": "markdown",
      "metadata": {
        "id": "OByzq7udFrIB"
      },
      "source": [
        "データの説明（print(dataset.DESCR)）\n",
        "- CRIM:町ごとの一人当たりの犯罪率\n",
        "- ZN:25,000平方フィート以上の居住区画の占める割合。\n",
        "- INDUS:小売業以外の商業が占める面積の割合\n",
        "- CHAS:チャールズ川によるダミー変数 (1: 川の周辺, 0: それ以外)\n",
        "- NOX:窒素酸化物の濃度（自動車やボイラー、工場、家庭暖房などで発生する）\n",
        "- RM:住居の平均部屋数\n",
        "- AGE:1940 年より前に建てられた物件の割合\n",
        "- DIS:5つのボストン市の雇用施設からの距離\n",
        "- RAD:環状高速道路へのアクセスしやすさ\n",
        "- TAX:10,000ドルあたりの不動産税率の総計\n",
        "- PTRATIO:町毎の児童と教師の比率\n",
        "- B:町毎の黒人の比率\n",
        "- LSTAT:給与の低い職業に従事する人口の割合 (%)\n",
        "- MEDV:所有者が占有している家屋の1000ドル単位の中央値"
      ]
    },
    {
      "cell_type": "markdown",
      "metadata": {
        "id": "IJqza3jiFrIB"
      },
      "source": [
        "この表の中から、Targetを被説明変数として、予測をしてみましょう。"
      ]
    },
    {
      "cell_type": "code",
      "metadata": {
        "colab": {
          "base_uri": "https://localhost:8080/"
        },
        "id": "zfKezhvOFrIC",
        "outputId": "4b514888-a139-4b8d-d1be-b8cc0321673a"
      },
      "source": [
        "#.valuesでnumpyに変換\n",
        "t = df_boston[\"Target\"].values\n",
        "x = df_boston.drop(labels=[\"Target\"],axis = 1).values\n",
        "\n",
        "#データセット分割\n",
        "x_train,x_test,t_train,t_test = train_test_split(x, t, test_size=0.3,random_state=0)\n",
        "\n",
        "#モデルの宣言\n",
        "model=LinearRegression()\n",
        "\n",
        "#モデルに当てはめる\n",
        "model.fit(x_train,t_train)"
      ],
      "execution_count": 40,
      "outputs": [
        {
          "output_type": "execute_result",
          "data": {
            "text/plain": [
              "LinearRegression(copy_X=True, fit_intercept=True, n_jobs=None, normalize=False)"
            ]
          },
          "metadata": {
            "tags": []
          },
          "execution_count": 40
        }
      ]
    },
    {
      "cell_type": "code",
      "metadata": {
        "colab": {
          "base_uri": "https://localhost:8080/"
        },
        "id": "UPAMIKQ_FrIC",
        "outputId": "c9feb6bc-3578-4f41-ce11-0df17867005f"
      },
      "source": [
        "#係数の値\n",
        "model.coef_"
      ],
      "execution_count": 41,
      "outputs": [
        {
          "output_type": "execute_result",
          "data": {
            "text/plain": [
              "array([-1.21310401e-01,  4.44664254e-02,  1.13416945e-02,  2.51124642e+00,\n",
              "       -1.62312529e+01,  3.85906801e+00, -9.98516565e-03, -1.50026956e+00,\n",
              "        2.42143466e-01, -1.10716124e-02, -1.01775264e+00,  6.81446545e-03,\n",
              "       -4.86738066e-01])"
            ]
          },
          "metadata": {
            "tags": []
          },
          "execution_count": 41
        }
      ]
    },
    {
      "cell_type": "code",
      "metadata": {
        "colab": {
          "base_uri": "https://localhost:8080/",
          "height": 432
        },
        "id": "PgBpc_wEFrID",
        "outputId": "af478b5d-f3e8-4a3a-b56d-26cb34a4f8c2"
      },
      "source": [
        "#係数の値をグラフに表示してみる。\n",
        "plt.figure(figsize=(10,7))\n",
        "plt.bar(x=columns, height=model.coef_)\n",
        "pass"
      ],
      "execution_count": 42,
      "outputs": [
        {
          "output_type": "display_data",
          "data": {
            "image/png": "[encoded data removed]",
            "text/plain": [
              "<Figure size 720x504 with 1 Axes>"
            ]
          },
          "metadata": {
            "tags": [],
            "needs_background": "light"
          }
        }
      ]
    },
    {
      "cell_type": "code",
      "metadata": {
        "colab": {
          "base_uri": "https://localhost:8080/"
        },
        "id": "_Vl-xat6FrID",
        "outputId": "b5e70fa8-a39e-4d86-8dfa-7f45ecaffac0"
      },
      "source": [
        "#決定係数の表示\n",
        "print(f\"train score:{model.score(x_train,t_train)}\")\n",
        "print(f\"test score:{model.score(x_test, t_test)}\")"
      ],
      "execution_count": 43,
      "outputs": [
        {
          "output_type": "stream",
          "text": [
            "train score:0.7645451026942549\n",
            "test score:0.6733825506400171\n"
          ],
          "name": "stdout"
        }
      ]
    },
    {
      "cell_type": "markdown",
      "metadata": {
        "id": "A9G6qdbXFrIE"
      },
      "source": [
        "ここまでできましたでしょうか。予測は機械学習の花形です。より高度なモデルを作成してみてください！"
      ]
    },
    {
      "cell_type": "markdown",
      "metadata": {
        "id": "tpj4S9e2FrIE"
      },
      "source": [
        "- VIF統計量  \n",
        "多重共線性の疑いを測る指標です。一般にVIF統計量が10以上であれば多重共線性を疑う必要があるとされます。  \n",
        "以下に簡単にVIF統計量をPythonで導出する方法を記します。"
      ]
    },
    {
      "cell_type": "code",
      "metadata": {
        "colab": {
          "base_uri": "https://localhost:8080/",
          "height": 518
        },
        "id": "Mpi77v2BFrIE",
        "outputId": "3721c15a-2462-443c-818a-ff95ea648c17"
      },
      "source": [
        "from statsmodels.stats.outliers_influence import variance_inflation_factor\n",
        "# 標本データを取得\n",
        "data_x = pd.DataFrame(dataset.data,columns=dataset.feature_names)\n",
        " \n",
        "# 正解データを取得\n",
        "data_y = pd.DataFrame(dataset.target,columns=['target'])\n",
        "\n",
        "#vifを計算する\n",
        "vif = pd.DataFrame()\n",
        "vif[\"VIF Factor\"] = [variance_inflation_factor(data_x.values, i) for i in range(data_x.shape[1])]\n",
        "vif[\"features\"] = data_x.columns\n",
        " \n",
        "#vifを計算結果を出力する\n",
        "print(vif)\n",
        " \n",
        "#vifをグラフ化する\n",
        "plt.plot(vif[\"VIF Factor\"])\n",
        "pass"
      ],
      "execution_count": 44,
      "outputs": [
        {
          "output_type": "stream",
          "text": [
            "    VIF Factor features\n",
            "0     2.100373     CRIM\n",
            "1     2.844013       ZN\n",
            "2    14.485758    INDUS\n",
            "3     1.152952     CHAS\n",
            "4    73.894947      NOX\n",
            "5    77.948283       RM\n",
            "6    21.386850      AGE\n",
            "7    14.699652      DIS\n",
            "8    15.167725      RAD\n",
            "9    61.227274      TAX\n",
            "10   85.029547  PTRATIO\n",
            "11   20.104943        B\n",
            "12   11.102025    LSTAT\n"
          ],
          "name": "stdout"
        },
        {
          "output_type": "display_data",
          "data": {
            "image/png": "[encoded data removed]",
            "text/plain": [
              "<Figure size 432x288 with 1 Axes>"
            ]
          },
          "metadata": {
            "tags": [],
            "needs_background": "light"
          }
        }
      ]
    },
    {
      "cell_type": "markdown",
      "metadata": {
        "id": "92G4ghIxFrIF"
      },
      "source": [
        "## ｔ検定  <a id='sec4'></a>  \n",
        "[先頭に戻る](#top)"
      ]
    },
    {
      "cell_type": "markdown",
      "metadata": {
        "id": "HT0DvddQFrIF"
      },
      "source": [
        "得られた傾き係数の推定量が統計的に意味のある数字なのか判定するために、仮説検定を行います。"
      ]
    },
    {
      "cell_type": "markdown",
      "metadata": {
        "id": "7u_vhW3TFrIF"
      },
      "source": [
        "例えば、  \n",
        "$Y = \\beta_0+ \\beta_1{X_1} + \\beta_2{X_2} + U$(Uは誤差項)  \n",
        "という回帰式が得られたとしましょう。  \n",
        "その時、$\\beta_1$がYに対して効果がある係数なのかどうか判定します。  \n",
        "その方法として、「効果がない」という帰無仮説($H_0$)と、それを否定する対立仮説($H_1$)を設定します。    \n",
        "$H_0:\\beta_1=0$  \n",
        "$H_1:\\beta_1 \\neq 0$  \n",
        "今回の例では、以上のように設定できます。  \n",
        "そして、$H_0$が実現する確率が、ある確率(95％が慣例)より低いかどうかを検定します。"
      ]
    },
    {
      "cell_type": "markdown",
      "metadata": {
        "id": "_MC-a1qGFrIG"
      },
      "source": [
        "検定のために、仮定を置きます。  \n",
        "仮定１：説明変数の平均独立  \n",
        "仮定２：誤差項の正規性（$U \\sim N(0,s^2)$）"
      ]
    },
    {
      "cell_type": "markdown",
      "metadata": {
        "id": "H3nyog8gFrIG"
      },
      "source": [
        "誤差項の正規性のもとでは、傾きパラメータの最小二乗推定量も正規分布に従うので、  \n",
        "$\\hat{\\beta_1} \\sim N(\\beta_1,v[\\hat{\\beta_1}])$"
      ]
    },
    {
      "cell_type": "markdown",
      "metadata": {
        "id": "SLziM1m9FrIG"
      },
      "source": [
        "これを標準化すると標準正規分布に従う。  \n",
        "➀誤差項$U_i$の分散が既知の場合。  \n",
        "➁誤差項$U_i$の分散が未知の場合。  \n",
        "の二つの状況を考える。"
      ]
    },
    {
      "cell_type": "markdown",
      "metadata": {
        "id": "JP3deLC_FrIH"
      },
      "source": [
        "➀誤差項$U_i$の分散が既知の場合。  \n",
        "$\\displaystyle \\frac{\\hat{\\beta_1} - \\beta_1}{sd(\\hat{\\beta_1})} \\sim N(0,1)$  "
      ]
    },
    {
      "cell_type": "markdown",
      "metadata": {
        "id": "cfpeGgGAFrIH"
      },
      "source": [
        "$sd(\\hat{\\beta_1})$は標準偏差(standard deviation)  \n",
        "$sd=\\sqrt{\\frac{1}{n-1}\\Sigma(x_i-\\bar{x})^2}$"
      ]
    },
    {
      "cell_type": "markdown",
      "metadata": {
        "id": "4kqxf2yFFrIH"
      },
      "source": [
        "➁誤差項$U_i$の分散が未知の場合。  \n",
        "検定統計量：$t=\\displaystyle \\frac{\\hat{\\beta_1} - \\beta_1}{se(\\hat{\\beta_1})} \\sim t(n-(k+1))$"
      ]
    },
    {
      "cell_type": "markdown",
      "metadata": {
        "id": "Dl7fWVLkMQyp"
      },
      "source": [
        "$se(\\hat{\\beta_1})$は標準誤差(standard error)  \n",
        "$se=\\sqrt{\\frac{1}{n}\\Sigma(x_i-\\bar{x})^2}$"
      ]
    },
    {
      "cell_type": "markdown",
      "metadata": {
        "id": "yVFYH6F4FrII"
      },
      "source": [
        "$k$は説明変数の数  "
      ]
    },
    {
      "cell_type": "markdown",
      "metadata": {
        "id": "-jCBlJ-3FrII"
      },
      "source": [
        "自由度が30を超える場合、t分布は標準正規分布に近似できます。  \n",
        "そのため、➀と➁は$n\\geqq30$のとき同じ意味を持ちます。"
      ]
    },
    {
      "cell_type": "markdown",
      "metadata": {
        "id": "LmrkiYTFFrII"
      },
      "source": [
        "**具体例**"
      ]
    },
    {
      "cell_type": "markdown",
      "metadata": {
        "id": "yFoLvfgSFrIJ"
      },
      "source": [
        "最初に使ったビールのデータを用いて、説明変数の影響を調べるためにt検定を行います。  \n",
        "ビールの単回帰式は以下のように設定しました。\n",
        "$Y = \\hat{\\alpha} + \\hat{\\beta}X + \\hat{u}$  \n",
        "$Y$:ビールの消費量,$X$:都道府県別平均気温"
      ]
    },
    {
      "cell_type": "markdown",
      "metadata": {
        "id": "nA6mgj6iFrIJ"
      },
      "source": [
        "t検定に際して、帰無仮説と対立仮説を以下のように設定し、95％の有意水準で両側検定を行います。  \n",
        "$H_0:\\beta=0$  \n",
        "$H_1:\\beta \\neq 0$  \n",
        "有意水準95%"
      ]
    },
    {
      "cell_type": "code",
      "metadata": {
        "colab": {
          "base_uri": "https://localhost:8080/",
          "height": 220
        },
        "id": "Le5jDYhHFrIJ",
        "outputId": "dfce82d0-1242-4523-ea9b-6ef72148c949"
      },
      "source": [
        "res.summary().tables[0]"
      ],
      "execution_count": 45,
      "outputs": [
        {
          "output_type": "execute_result",
          "data": {
            "text/html": [
              "<table class=\"simpletable\">\n",
              "<caption>OLS Regression Results</caption>\n",
              "<tr>\n",
              "  <th>Dep. Variable:</th>            <td>y</td>        <th>  R-squared:         </th> <td>   0.038</td>\n",
              "</tr>\n",
              "<tr>\n",
              "  <th>Model:</th>                   <td>OLS</td>       <th>  Adj. R-squared:    </th> <td>   0.016</td>\n",
              "</tr>\n",
              "<tr>\n",
              "  <th>Method:</th>             <td>Least Squares</td>  <th>  F-statistic:       </th> <td>   1.735</td>\n",
              "</tr>\n",
              "<tr>\n",
              "  <th>Date:</th>             <td>Sat, 20 Mar 2021</td> <th>  Prob (F-statistic):</th>  <td> 0.195</td> \n",
              "</tr>\n",
              "<tr>\n",
              "  <th>Time:</th>                 <td>06:06:39</td>     <th>  Log-Likelihood:    </th> <td> -132.09</td>\n",
              "</tr>\n",
              "<tr>\n",
              "  <th>No. Observations:</th>      <td>    46</td>      <th>  AIC:               </th> <td>   268.2</td>\n",
              "</tr>\n",
              "<tr>\n",
              "  <th>Df Residuals:</th>          <td>    44</td>      <th>  BIC:               </th> <td>   271.8</td>\n",
              "</tr>\n",
              "<tr>\n",
              "  <th>Df Model:</th>              <td>     1</td>      <th>                     </th>     <td> </td>   \n",
              "</tr>\n",
              "<tr>\n",
              "  <th>Covariance Type:</th>      <td>nonrobust</td>    <th>                     </th>     <td> </td>   \n",
              "</tr>\n",
              "</table>"
            ],
            "text/plain": [
              "<class 'statsmodels.iolib.table.SimpleTable'>"
            ]
          },
          "metadata": {
            "tags": []
          },
          "execution_count": 45
        }
      ]
    },
    {
      "cell_type": "code",
      "metadata": {
        "colab": {
          "base_uri": "https://localhost:8080/",
          "height": 80
        },
        "id": "JjF3bVPUFrIK",
        "outputId": "27f54596-3bef-42fc-e760-7d5e42e3353c"
      },
      "source": [
        "#中段\n",
        "res.summary().tables[1]"
      ],
      "execution_count": 46,
      "outputs": [
        {
          "output_type": "execute_result",
          "data": {
            "text/html": [
              "<table class=\"simpletable\">\n",
              "<tr>\n",
              "      <td></td>         <th>coef</th>     <th>std err</th>      <th>t</th>      <th>P>|t|</th>  <th>[0.025</th>    <th>0.975]</th>  \n",
              "</tr>\n",
              "<tr>\n",
              "  <th>Intercept</th> <td>   27.3781</td> <td>    5.131</td> <td>    5.336</td> <td> 0.000</td> <td>   17.038</td> <td>   37.719</td>\n",
              "</tr>\n",
              "<tr>\n",
              "  <th>x</th>         <td>   -0.4226</td> <td>    0.321</td> <td>   -1.317</td> <td> 0.195</td> <td>   -1.069</td> <td>    0.224</td>\n",
              "</tr>\n",
              "</table>"
            ],
            "text/plain": [
              "<class 'statsmodels.iolib.table.SimpleTable'>"
            ]
          },
          "metadata": {
            "tags": []
          },
          "execution_count": 46
        }
      ]
    },
    {
      "cell_type": "markdown",
      "metadata": {
        "id": "ESmhow3yFrIK"
      },
      "source": [
        "➁誤差項$U_i$の分散が未知の場合。\n",
        "より、  \n",
        "検定統計量：$t=\\displaystyle \\frac{\\hat{\\beta} - \\beta}{se(\\hat{\\beta})} \\sim t(n-(k+1))$  \n",
        "ですので、  \n",
        "この式に$H_0:\\beta=0,n=46,k=1$を代入します。"
      ]
    },
    {
      "cell_type": "markdown",
      "metadata": {
        "id": "iAp1zC-AFrIK"
      },
      "source": [
        "検定統計量：$t_{\\beta}=\\displaystyle \\frac{\\hat{\\beta}}{se(\\hat{\\beta})} \\sim t(44)$  \n",
        "さらに、summaryレポート中段より、coef=-0.4226,std err=0.321なので、t値は  "
      ]
    },
    {
      "cell_type": "code",
      "metadata": {
        "colab": {
          "base_uri": "https://localhost:8080/"
        },
        "id": "0iNLVHKWFrIL",
        "outputId": "3325500d-d8dc-4dc4-f594-59305d7a90ee"
      },
      "source": [
        "print(\"t値:\"+str(-0.4226/0.321))"
      ],
      "execution_count": 47,
      "outputs": [
        {
          "output_type": "stream",
          "text": [
            "t値:-1.3165109034267912\n"
          ],
          "name": "stdout"
        }
      ]
    },
    {
      "cell_type": "markdown",
      "metadata": {
        "id": "cviwPXAWFrIL"
      },
      "source": [
        "これは上のsummaryレポートに記載されているt値と一致しています。"
      ]
    },
    {
      "cell_type": "markdown",
      "metadata": {
        "id": "4YayboWJFrIL"
      },
      "source": [
        "t分布表を見ると、自由度44,上側確率0.025の統計検定量$t_{44}$は2.021です。"
      ]
    },
    {
      "cell_type": "markdown",
      "metadata": {
        "id": "7YeuewmHFrIM"
      },
      "source": [
        "$|t_{\\beta}|=1.316 < t_{44}=2.021$  \n",
        "なので、$t_{\\beta}$は棄却できません。よって、帰無仮説が採択されます。  \n",
        "従って、$t_{\\beta}$は95%の有意水準で効果がないと言えます。"
      ]
    },
    {
      "cell_type": "markdown",
      "metadata": {
        "id": "lI34JO4AFrIM"
      },
      "source": [
        "**まとめ**    \n",
        "#### RQ：気温は、ビールの消費量に影響を与える。    \n",
        "というRQは95％の有意水準で棄却された。"
      ]
    },
    {
      "cell_type": "code",
      "metadata": {
        "colab": {
          "base_uri": "https://localhost:8080/",
          "height": 672
        },
        "id": "uYDFJH0rKqfk",
        "outputId": "3cf7c24e-e557-4b74-d76e-b05720e9f9b4"
      },
      "source": [
        "Image(\"t分布表.png\")"
      ],
      "execution_count": 48,
      "outputs": [
        {
          "output_type": "execute_result",
          "data": {
            "image/png": "[encoded data removed]",
            "text/plain": [
              "<IPython.core.display.Image object>"
            ]
          },
          "metadata": {
            "tags": []
          },
          "execution_count": 48
        }
      ]
    },
    {
      "cell_type": "markdown",
      "metadata": {
        "id": "6cS_QSpkFrIM"
      },
      "source": [
        "### 実践3<a id='sec4_1'></a>  \n",
        "[先頭に戻る](#top)  \n",
        "df_taskを用いて、駅からの距離が売り上げに与える影響は統計的に有意であると言えるのか、t検定を用いて検定してみましょう。"
      ]
    },
    {
      "cell_type": "code",
      "metadata": {
        "colab": {
          "base_uri": "https://localhost:8080/",
          "height": 282
        },
        "id": "7OFGAVqxM8sW",
        "outputId": "38aeea99-d996-4acf-b111-bbdf3e1d4ac6"
      },
      "source": [
        "df_task"
      ],
      "execution_count": 49,
      "outputs": [
        {
          "output_type": "execute_result",
          "data": {
            "text/html": [
              "<div>\n",
              "<style scoped>\n",
              "    .dataframe tbody tr th:only-of-type {\n",
              "        vertical-align: middle;\n",
              "    }\n",
              "\n",
              "    .dataframe tbody tr th {\n",
              "        vertical-align: top;\n",
              "    }\n",
              "\n",
              "    .dataframe thead th {\n",
              "        text-align: right;\n",
              "    }\n",
              "</style>\n",
              "<table border=\"1\" class=\"dataframe\">\n",
              "  <thead>\n",
              "    <tr style=\"text-align: right;\">\n",
              "      <th></th>\n",
              "      <th>sales</th>\n",
              "      <th>meter</th>\n",
              "      <th>square</th>\n",
              "      <th>competition</th>\n",
              "      <th>sake</th>\n",
              "    </tr>\n",
              "  </thead>\n",
              "  <tbody>\n",
              "    <tr>\n",
              "      <th>0</th>\n",
              "      <td>72.3</td>\n",
              "      <td>50</td>\n",
              "      <td>40.5</td>\n",
              "      <td>1</td>\n",
              "      <td>0</td>\n",
              "    </tr>\n",
              "    <tr>\n",
              "      <th>1</th>\n",
              "      <td>58.5</td>\n",
              "      <td>120</td>\n",
              "      <td>66.7</td>\n",
              "      <td>5</td>\n",
              "      <td>1</td>\n",
              "    </tr>\n",
              "    <tr>\n",
              "      <th>2</th>\n",
              "      <td>43.8</td>\n",
              "      <td>280</td>\n",
              "      <td>42.0</td>\n",
              "      <td>4</td>\n",
              "      <td>0</td>\n",
              "    </tr>\n",
              "    <tr>\n",
              "      <th>3</th>\n",
              "      <td>64.8</td>\n",
              "      <td>80</td>\n",
              "      <td>81.2</td>\n",
              "      <td>3</td>\n",
              "      <td>0</td>\n",
              "    </tr>\n",
              "    <tr>\n",
              "      <th>4</th>\n",
              "      <td>45.7</td>\n",
              "      <td>540</td>\n",
              "      <td>70.3</td>\n",
              "      <td>2</td>\n",
              "      <td>1</td>\n",
              "    </tr>\n",
              "    <tr>\n",
              "      <th>5</th>\n",
              "      <td>61.5</td>\n",
              "      <td>200</td>\n",
              "      <td>52.8</td>\n",
              "      <td>4</td>\n",
              "      <td>1</td>\n",
              "    </tr>\n",
              "    <tr>\n",
              "      <th>6</th>\n",
              "      <td>55.3</td>\n",
              "      <td>350</td>\n",
              "      <td>88.4</td>\n",
              "      <td>2</td>\n",
              "      <td>1</td>\n",
              "    </tr>\n",
              "    <tr>\n",
              "      <th>7</th>\n",
              "      <td>31.0</td>\n",
              "      <td>720</td>\n",
              "      <td>55.9</td>\n",
              "      <td>4</td>\n",
              "      <td>1</td>\n",
              "    </tr>\n",
              "  </tbody>\n",
              "</table>\n",
              "</div>"
            ],
            "text/plain": [
              "   sales  meter  square  competition  sake\n",
              "0   72.3     50    40.5            1     0\n",
              "1   58.5    120    66.7            5     1\n",
              "2   43.8    280    42.0            4     0\n",
              "3   64.8     80    81.2            3     0\n",
              "4   45.7    540    70.3            2     1\n",
              "5   61.5    200    52.8            4     1\n",
              "6   55.3    350    88.4            2     1\n",
              "7   31.0    720    55.9            4     1"
            ]
          },
          "metadata": {
            "tags": []
          },
          "execution_count": 49
        }
      ]
    },
    {
      "cell_type": "markdown",
      "metadata": {
        "id": "FaD6k0VaFrIN"
      },
      "source": [
        "### 付録：代表的な確率分布**  <a id='sec7'></a>  \n",
        "[先頭に戻る](#top)  "
      ]
    },
    {
      "cell_type": "markdown",
      "metadata": {
        "id": "wymjEQ9-FrIN"
      },
      "source": [
        "**正規分布**<a id='sec4_2'></a>  \n",
        "$f(x)= \\frac{1}{\\sqrt{2 \\pi \\sigma^2}}e^{(-\\frac{(x-\\mu)}{2 \\sigma^2})} =\\frac{1}{\\sqrt{2 \\pi }\\sigma}exp{(-\\frac{(x-\\mu)}{2 \\sigma^2})} \\sim(\\mu,\\sigma^2)$  \n",
        "$E(X)=\\mu$  \n",
        "$V(X)=\\sigma^2$  \n",
        "[先頭に戻る](#top)"
      ]
    },
    {
      "cell_type": "markdown",
      "metadata": {
        "id": "1MCtAuV0FrIN"
      },
      "source": [
        "#正規分布をnumpyで作成\n",
        "np.random.normal(loc,scale,size)\n",
        "loc  :平均値\n",
        "scale:標準偏差\n",
        "size :サンプル数"
      ]
    },
    {
      "cell_type": "code",
      "metadata": {
        "colab": {
          "base_uri": "https://localhost:8080/",
          "height": 269
        },
        "id": "ZQiXW0RlFrIN",
        "outputId": "5a33fde1-bb64-4c7d-9c29-89bcdecbc28b"
      },
      "source": [
        "b = np.random.normal(0,3,1000000)\n",
        "plt.hist(b,bins=100)\n",
        "plt.xlim(-18,18)\n",
        "pass"
      ],
      "execution_count": 50,
      "outputs": [
        {
          "output_type": "display_data",
          "data": {
            "image/png": "[encoded data removed]",
            "text/plain": [
              "<Figure size 432x288 with 1 Axes>"
            ]
          },
          "metadata": {
            "tags": [],
            "needs_background": "light"
          }
        }
      ]
    },
    {
      "cell_type": "markdown",
      "metadata": {
        "id": "aDzLcI-vFrIO"
      },
      "source": [
        "**68–95–99.7rule**  \n",
        "正規分布において、平均値を中心として、2σ,4σ,6σの幅に入るデータの割合のこと。  \n",
        "平均値から、  \n",
        "2σ範囲に入る確率は68.27%  \n",
        "4σ範囲に入る確率は95.45%  \n",
        "6σ範囲に入る確率は99.73%  \n",
        "$P(\\mu -\\sigma \\leq X \\leq \\mu + \\sigma)\\fallingdotseq 0.6827$  \n",
        "$P(\\mu -2\\sigma \\leq X \\leq \\mu + 2\\sigma)\\fallingdotseq 0.9545$  \n",
        "$P(\\mu -3\\sigma \\leq X \\leq \\mu + 3\\sigma)\\fallingdotseq 0.9973$  "
      ]
    },
    {
      "cell_type": "markdown",
      "metadata": {
        "id": "6L60uSpDFrIP"
      },
      "source": [
        "チェビシェフの不等式  \n",
        "$x$が平均$\\mu$、分散$\\sigma^2$の確率変数とするとき、$\\lambda$を任意の整数として、  \n",
        "$P(|X-\\mu| \\geqq \\lambda \\sigma) \\leqq \\frac{1}{\\lambda^2}$  \n",
        "が成立する。(岩田,1983)"
      ]
    },
    {
      "cell_type": "markdown",
      "metadata": {
        "id": "DQKDW9fVFrIP"
      },
      "source": [
        "この関係を用いれば、$\\lambda=3$の時、$P \\leqq \\frac{1}{9} \\fallingdotseq \n",
        "0.112$となる。  \n",
        "これは、88.9％の確率で、確率変数$x$の実現値が6σの範囲に収まるということを意味する。  \n",
        "この関係式は、確率変数$x$の確率分布に依存せずに成立する！"
      ]
    },
    {
      "cell_type": "markdown",
      "metadata": {
        "id": "wTU5Z3EyFrIQ"
      },
      "source": [
        "**標準正規分布**$(\\mu =0,\\sigma^2=1)$  \n",
        "$\\phi(x)= \\frac{1}{\\sqrt{2 \\pi}}e^{(-\\frac{x^2}{2})} \\sim (0,1)$"
      ]
    },
    {
      "cell_type": "markdown",
      "metadata": {
        "id": "-04_YSShFrIQ"
      },
      "source": [
        "np.random.randn(loc,scale,size)"
      ]
    },
    {
      "cell_type": "code",
      "metadata": {
        "colab": {
          "base_uri": "https://localhost:8080/",
          "height": 269
        },
        "id": "MEy56Q7SFrIQ",
        "outputId": "47bf84cd-0a71-46bf-ec18-5dcd2f40ae64"
      },
      "source": [
        "x = np.random.randn(100000)#標準正規分布に従う乱数を100000個生成\n",
        "np.random.seed(0)\n",
        "plt.hist(x, bins=\"auto\")#xをヒストグラムにプロットする。ヒストグラムの本数は'auto'\n",
        "plt.show()#グラフを表示"
      ],
      "execution_count": 51,
      "outputs": [
        {
          "output_type": "display_data",
          "data": {
            "image/png": "[encoded data removed]",
            "text/plain": [
              "<Figure size 432x288 with 1 Axes>"
            ]
          },
          "metadata": {
            "tags": [],
            "needs_background": "light"
          }
        }
      ]
    },
    {
      "cell_type": "markdown",
      "metadata": {
        "id": "WuJLldvJFrIR"
      },
      "source": [
        "**t分布**"
      ]
    },
    {
      "cell_type": "markdown",
      "metadata": {
        "id": "jiLetAadFrIR"
      },
      "source": [
        "ｔ分布の特徴  \n",
        "・形が標準正規分布と似ている。(０を中心に左右対称)  \n",
        "・標準正規分布よりも散らばりが大きい。(分布の裾が厚い)  \n",
        "・自由度が高くなると上旬正規分布で近似できる。（自由度３０以上）  "
      ]
    },
    {
      "cell_type": "code",
      "metadata": {
        "colab": {
          "base_uri": "https://localhost:8080/",
          "height": 269
        },
        "id": "0DRb8BmNFrIS",
        "outputId": "58fdab23-9da7-4af2-8eab-54bdb2914e96"
      },
      "source": [
        "fig = plt.figure()\n",
        "t_stat = fig.add_subplot(111)\n",
        "x = np.linspace(-5,5,100)\n",
        "for t in [5,10,30]:\n",
        "    t_pdf = stats.t.pdf(x=x, df=t)\n",
        "    t_stat.plot(x, t_pdf, label='DoF={}'.format(t))\n",
        "t_stat.plot(x, stats.norm.pdf(x), label='norm')\n",
        "t_stat.legend(loc='best')\n",
        "pass\n",
        "#DoF = Degree of Freedom"
      ],
      "execution_count": 52,
      "outputs": [
        {
          "output_type": "display_data",
          "data": {
            "image/png": "[encoded data removed]",
            "text/plain": [
              "<Figure size 432x288 with 1 Axes>"
            ]
          },
          "metadata": {
            "tags": [],
            "needs_background": "light"
          }
        }
      ]
    },
    {
      "cell_type": "markdown",
      "metadata": {
        "id": "7M0PUlZLFrIS"
      },
      "source": [
        "**付録１：Numpy計算**  <a id='sec8'></a>  \n",
        "[先頭に戻る](#top)  "
      ]
    },
    {
      "cell_type": "markdown",
      "metadata": {
        "id": "-5-DD3UHFrIS"
      },
      "source": [
        "**平方根 $\\sqrt{x}$**"
      ]
    },
    {
      "cell_type": "code",
      "metadata": {
        "colab": {
          "base_uri": "https://localhost:8080/"
        },
        "id": "iOjHHADDFrIT",
        "outputId": "677af9dc-4f91-43f0-b318-ed123feaa307"
      },
      "source": [
        "np.sqrt(4)"
      ],
      "execution_count": 53,
      "outputs": [
        {
          "output_type": "execute_result",
          "data": {
            "text/plain": [
              "2.0"
            ]
          },
          "metadata": {
            "tags": []
          },
          "execution_count": 53
        }
      ]
    },
    {
      "cell_type": "markdown",
      "metadata": {
        "id": "11PF4ugIFrIT"
      },
      "source": [
        "**eを底とする指数関数 $e^x$, $\\exp(x)$**"
      ]
    },
    {
      "cell_type": "code",
      "metadata": {
        "colab": {
          "base_uri": "https://localhost:8080/"
        },
        "id": "hxoAbflcFrIT",
        "outputId": "8c516eb6-ce0e-43d5-9fd3-e9ca2bb8053d"
      },
      "source": [
        "np.exp(1)"
      ],
      "execution_count": 54,
      "outputs": [
        {
          "output_type": "execute_result",
          "data": {
            "text/plain": [
              "2.718281828459045"
            ]
          },
          "metadata": {
            "tags": []
          },
          "execution_count": 54
        }
      ]
    },
    {
      "cell_type": "markdown",
      "metadata": {
        "id": "OCCrTwmsFrIU"
      },
      "source": [
        "**自然対数(底をeとする対数) ($\\log_ex, \\ln x$)**"
      ]
    },
    {
      "cell_type": "code",
      "metadata": {
        "colab": {
          "base_uri": "https://localhost:8080/"
        },
        "id": "67DfmPAjFrIU",
        "outputId": "690be865-f3ca-4e17-b722-51dd969dd76d"
      },
      "source": [
        "np.log(2.718281828459045)"
      ],
      "execution_count": 55,
      "outputs": [
        {
          "output_type": "execute_result",
          "data": {
            "text/plain": [
              "1.0"
            ]
          },
          "metadata": {
            "tags": []
          },
          "execution_count": 55
        }
      ]
    },
    {
      "cell_type": "markdown",
      "metadata": {
        "id": "5rvUpIDXFrIU"
      },
      "source": [
        "**常用対数(底を10とする対数)**($\\log_{10}x$)"
      ]
    },
    {
      "cell_type": "code",
      "metadata": {
        "colab": {
          "base_uri": "https://localhost:8080/"
        },
        "id": "8veM8KNZFrIV",
        "outputId": "ee4be009-400d-4e49-c79c-7e54b10884da"
      },
      "source": [
        "np.log10(10)"
      ],
      "execution_count": 56,
      "outputs": [
        {
          "output_type": "execute_result",
          "data": {
            "text/plain": [
              "1.0"
            ]
          },
          "metadata": {
            "tags": []
          },
          "execution_count": 56
        }
      ]
    },
    {
      "cell_type": "markdown",
      "metadata": {
        "id": "K9UGKdQEFrIV"
      },
      "source": [
        "対数の定義：指数と対数の関係  \n",
        "$a^p = M \\Leftrightarrow p = \\log_aM$"
      ]
    },
    {
      "cell_type": "markdown",
      "metadata": {
        "id": "YyC40rzBFrIV"
      },
      "source": [
        "・ネイピア数(自然対数の底)の定義  \n",
        "$e = \\displaystyle \\lim_{x \\to \\infty}(1 + \\frac{1}{n})^n$  \n",
        "あるいは  \n",
        "$e = \\displaystyle \\lim_{h \\to 0}(1+h)^\\frac{1}{h}$  "
      ]
    },
    {
      "cell_type": "markdown",
      "metadata": {
        "id": "Mpc_YEl2FrIW"
      },
      "source": [
        "・ネイピア数の性質  \n",
        "指数関数$y = e^x$は微分しても、積分しても、$y = e^x$のままである。"
      ]
    },
    {
      "cell_type": "markdown",
      "metadata": {
        "id": "RxP-l1DGFrIW"
      },
      "source": [
        "**コラム 日常に潜む対数**  \n",
        "ベンフォードの法則：世の中に出現する数値の最高位には、1が最も多くあらわれ、1から9になるにつれて出現確率が減少するという法則。  \n",
        "この法則によると、最高位がkとなるおおよその確率は、常用対数を用いて、\n",
        "$\\log_{10}(1 + \\frac{1}{k}) $となることが知られています。  \n",
        "この法則は会社の帳簿の不正監査に用いられることもあります。"
      ]
    },
    {
      "cell_type": "markdown",
      "metadata": {
        "id": "Gk-ct7WKFrIW"
      },
      "source": [
        "**付録２：Numpy統計量**  <a id='sec9'></a>  \n",
        "[先頭に戻る](#top)  \n",
        "\n",
        "統計量とは  \n",
        "・一般に母集団の特性を表す特性値、代表値を推定するために標本から作られるものを**統計量**とよびます。(大屋,2003)  \n",
        "・標本の性質を代表して表わす数値を**統計量(statistic)**と呼ぶ。(岩田,1983)"
      ]
    },
    {
      "cell_type": "markdown",
      "metadata": {
        "id": "zHA5yw6pFrIX"
      },
      "source": [
        "**標本平均** $(\\overline{x} = \\displaystyle \\frac{1}{n}\\Sigma_{i=1}^{n}x_i)$  "
      ]
    },
    {
      "cell_type": "markdown",
      "metadata": {
        "id": "hRTOjRFKFrIX"
      },
      "source": [
        "np.mean(x)"
      ]
    },
    {
      "cell_type": "code",
      "metadata": {
        "colab": {
          "base_uri": "https://localhost:8080/"
        },
        "id": "oNdurFljFrIY",
        "outputId": "ec1268e1-23b0-47ef-a5e3-c6c3182e6331"
      },
      "source": [
        "x = [1,2,3,4,5]\n",
        "np.mean(x)"
      ],
      "execution_count": 57,
      "outputs": [
        {
          "output_type": "execute_result",
          "data": {
            "text/plain": [
              "3.0"
            ]
          },
          "metadata": {
            "tags": []
          },
          "execution_count": 57
        }
      ]
    },
    {
      "cell_type": "markdown",
      "metadata": {
        "id": "YYAzQuLfFrIY"
      },
      "source": [
        "**標本中央値**"
      ]
    },
    {
      "cell_type": "markdown",
      "metadata": {
        "id": "DJ2ylPF6FrIY"
      },
      "source": [
        "np.median(x)"
      ]
    },
    {
      "cell_type": "code",
      "metadata": {
        "colab": {
          "base_uri": "https://localhost:8080/"
        },
        "id": "aidI1e2MFrIZ",
        "outputId": "fd3bcd5d-59c1-4f0f-b18f-237e03871d09"
      },
      "source": [
        "np.median(x)"
      ],
      "execution_count": 58,
      "outputs": [
        {
          "output_type": "execute_result",
          "data": {
            "text/plain": [
              "3.0"
            ]
          },
          "metadata": {
            "tags": []
          },
          "execution_count": 58
        }
      ]
    },
    {
      "cell_type": "markdown",
      "metadata": {
        "id": "hmzK5oqZFrIZ"
      },
      "source": [
        "**標本分散**($S_x^2 = {\\displaystyle \\frac{1}{n-1}\\Sigma_{i=1}^{n}}(x_i-\\overline{x})^2$)"
      ]
    },
    {
      "cell_type": "markdown",
      "metadata": {
        "id": "AC48I3ZQFrIZ"
      },
      "source": [
        "#xはリストかarray\n",
        "np.var(x,ddof=1)"
      ]
    },
    {
      "cell_type": "code",
      "metadata": {
        "colab": {
          "base_uri": "https://localhost:8080/"
        },
        "id": "TyKu3gyuFrIa",
        "outputId": "0695d983-e8ec-4901-b152-5f5bd99eb760"
      },
      "source": [
        "np.var(x,ddof=1)"
      ],
      "execution_count": 59,
      "outputs": [
        {
          "output_type": "execute_result",
          "data": {
            "text/plain": [
              "2.5"
            ]
          },
          "metadata": {
            "tags": []
          },
          "execution_count": 59
        }
      ]
    },
    {
      "cell_type": "markdown",
      "metadata": {
        "id": "fPcyjcZzFrIa"
      },
      "source": [
        "ちなみに...ddof=Delta Degrees of Freedom  \n",
        "$S^2 = {\\displaystyle \\frac{1}{n-ddof}\\Sigma_{i=1}^{n}}(x_i-\\overline{x})^2$  \n",
        "pythonは上記のように計算しているので、ddof=1と設定することで不偏分散が得られる。"
      ]
    },
    {
      "cell_type": "markdown",
      "metadata": {
        "id": "zzE3WWbLFrIa"
      },
      "source": [
        "**標本標準偏差**$(S_x=\\sqrt{{\\displaystyle \\frac{1}{n-1}\\Sigma_{i=1}^{n}}(x_i-\\overline{x})^2})$"
      ]
    },
    {
      "cell_type": "markdown",
      "metadata": {
        "id": "SYulyC-OFrIb"
      },
      "source": [
        "#xはリストかarray\n",
        "np.std(x,ddof=1)"
      ]
    },
    {
      "cell_type": "code",
      "metadata": {
        "colab": {
          "base_uri": "https://localhost:8080/"
        },
        "id": "aN5STI36FrIb",
        "outputId": "ca13a2f3-855b-4e84-fac7-d08b4ade54e8"
      },
      "source": [
        "np.std(x,ddof=1)"
      ],
      "execution_count": 60,
      "outputs": [
        {
          "output_type": "execute_result",
          "data": {
            "text/plain": [
              "1.5811388300841898"
            ]
          },
          "metadata": {
            "tags": []
          },
          "execution_count": 60
        }
      ]
    },
    {
      "cell_type": "markdown",
      "metadata": {
        "id": "DActoznxFrIb"
      },
      "source": [
        "**標本共分散**($Cov_{xy}={\\displaystyle \\frac{1}{n-1}\\Sigma_{i=1}^{n}}(x_i-\\overline{x})(y_i-\\overline{y}$))"
      ]
    },
    {
      "cell_type": "markdown",
      "metadata": {
        "id": "oYTWWOh0FrIc"
      },
      "source": [
        "#二次以上のリストかarray\n",
        "np.cov(xy)"
      ]
    },
    {
      "cell_type": "code",
      "metadata": {
        "colab": {
          "base_uri": "https://localhost:8080/"
        },
        "id": "EXQAJcCsFrIc",
        "outputId": "161982f7-7a75-4631-a81e-5b46e0284211"
      },
      "source": [
        "xy=[[1,2,3,4,5],[2,7,8,5,9]]\n",
        "np.cov(xy,ddof=1)"
      ],
      "execution_count": 61,
      "outputs": [
        {
          "output_type": "execute_result",
          "data": {
            "text/plain": [
              "array([[2.5, 3. ],\n",
              "       [3. , 7.7]])"
            ]
          },
          "metadata": {
            "tags": []
          },
          "execution_count": 61
        }
      ]
    },
    {
      "cell_type": "markdown",
      "metadata": {
        "id": "p0gYzVr5FrIc"
      },
      "source": [
        "**標本相関係数**$(r_{xy} =\\displaystyle \\frac{Cov_{xy}}{S_x \\cdot S_y})$"
      ]
    },
    {
      "cell_type": "markdown",
      "metadata": {
        "id": "WYk3arQ9FrId"
      },
      "source": [
        "#二次以上のリストかarray\n",
        "np.cov(xy)\n",
        "#相関行列が出力される。"
      ]
    },
    {
      "cell_type": "code",
      "metadata": {
        "colab": {
          "base_uri": "https://localhost:8080/"
        },
        "id": "OCMxoSwiFrId",
        "outputId": "5ec1d8cd-2e55-4136-a975-641ad1bb3099"
      },
      "source": [
        "np.corrcoef(xy)"
      ],
      "execution_count": 62,
      "outputs": [
        {
          "output_type": "execute_result",
          "data": {
            "text/plain": [
              "array([[1.        , 0.68376346],\n",
              "       [0.68376346, 1.        ]])"
            ]
          },
          "metadata": {
            "tags": []
          },
          "execution_count": 62
        }
      ]
    },
    {
      "cell_type": "code",
      "metadata": {
        "colab": {
          "base_uri": "https://localhost:8080/",
          "height": 34
        },
        "id": "lOo9c-63FrId",
        "outputId": "0d3aa3c8-5121-4064-c8a2-afacfb3df121"
      },
      "source": [
        "#DataFrameをcsvにしてダウンロードする関数\n",
        "from IPython.core.display import display, HTML\n",
        "def download(df):\n",
        "    df.to_csv(\".csv\", encoding = 'utf-8')\n",
        "    display(HTML('<a download=\"beer.csv\" href=\"beer.csv\">Download</a>'))\n",
        "\n",
        "download(df)"
      ],
      "execution_count": 63,
      "outputs": [
        {
          "output_type": "display_data",
          "data": {
            "text/html": [
              "<a download=\"beer.csv\" href=\"beer.csv\">Download</a>"
            ],
            "text/plain": [
              "<IPython.core.display.HTML object>"
            ]
          },
          "metadata": {
            "tags": []
          }
        }
      ]
    }
  ]
}